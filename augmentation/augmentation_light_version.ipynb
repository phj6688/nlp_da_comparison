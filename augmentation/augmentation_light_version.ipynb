{
 "cells": [
  {
   "cell_type": "code",
   "execution_count": 1,
   "metadata": {},
   "outputs": [
    {
     "name": "stderr",
     "output_type": "stream",
     "text": [
      "/home/student/.envs/textattack/lib/python3.8/site-packages/tqdm/auto.py:22: TqdmWarning: IProgress not found. Please update jupyter and ipywidgets. See https://ipywidgets.readthedocs.io/en/stable/user_install.html\n",
      "  from .autonotebook import tqdm as notebook_tqdm\n",
      "2022-08-17 15:42:55.264800: W tensorflow/stream_executor/platform/default/dso_loader.cc:64] Could not load dynamic library 'libcudart.so.11.0'; dlerror: libcudart.so.11.0: cannot open shared object file: No such file or directory\n",
      "2022-08-17 15:42:55.264816: I tensorflow/stream_executor/cuda/cudart_stub.cc:29] Ignore above cudart dlerror if you do not have a GPU set up on your machine.\n"
     ]
    }
   ],
   "source": [
    "from textattack.augmentation import \\\n",
    "    EasyDataAugmenter, BackTranslationAugmenter, WordNetAugmenter, CLAREAugmenter, \\\n",
    "    CheckListAugmenter, EmbeddingAugmenter, DeletionAugmenter, CharSwapAugmenter\n",
    "\n",
    "from itertools import chain\n",
    "import warnings\n",
    "warnings.filterwarnings(\"ignore\")"
   ]
  },
  {
   "cell_type": "code",
   "execution_count": 2,
   "metadata": {},
   "outputs": [
    {
     "data": {
      "text/html": [
       "<div>\n",
       "<style scoped>\n",
       "    .dataframe tbody tr th:only-of-type {\n",
       "        vertical-align: middle;\n",
       "    }\n",
       "\n",
       "    .dataframe tbody tr th {\n",
       "        vertical-align: top;\n",
       "    }\n",
       "\n",
       "    .dataframe thead th {\n",
       "        text-align: right;\n",
       "    }\n",
       "</style>\n",
       "<table border=\"1\" class=\"dataframe\">\n",
       "  <thead>\n",
       "    <tr style=\"text-align: right;\">\n",
       "      <th></th>\n",
       "      <th>class</th>\n",
       "      <th>text</th>\n",
       "    </tr>\n",
       "  </thead>\n",
       "  <tbody>\n",
       "    <tr>\n",
       "      <th>0</th>\n",
       "      <td>0</td>\n",
       "      <td>The pluger gets stuck &amp; you have to manually e...</td>\n",
       "    </tr>\n",
       "    <tr>\n",
       "      <th>1</th>\n",
       "      <td>1</td>\n",
       "      <td>The Hitachi is made in Malasyia, and looked ch...</td>\n",
       "    </tr>\n",
       "    <tr>\n",
       "      <th>2</th>\n",
       "      <td>0</td>\n",
       "      <td>i must have heard this about a dozen times ove...</td>\n",
       "    </tr>\n",
       "    <tr>\n",
       "      <th>3</th>\n",
       "      <td>1</td>\n",
       "      <td>This model appears to be especially good.</td>\n",
       "    </tr>\n",
       "    <tr>\n",
       "      <th>4</th>\n",
       "      <td>0</td>\n",
       "      <td>in any case , navigation by artist / album is ...</td>\n",
       "    </tr>\n",
       "    <tr>\n",
       "      <th>...</th>\n",
       "      <td>...</td>\n",
       "      <td>...</td>\n",
       "    </tr>\n",
       "    <tr>\n",
       "      <th>195</th>\n",
       "      <td>1</td>\n",
       "      <td>For the cost of this product i could not ask ...</td>\n",
       "    </tr>\n",
       "    <tr>\n",
       "      <th>196</th>\n",
       "      <td>1</td>\n",
       "      <td>After comparing the included Creative earbuds ...</td>\n",
       "    </tr>\n",
       "    <tr>\n",
       "      <th>197</th>\n",
       "      <td>1</td>\n",
       "      <td>Better for the Zen Micro is Outlook compatibil...</td>\n",
       "    </tr>\n",
       "    <tr>\n",
       "      <th>198</th>\n",
       "      <td>1</td>\n",
       "      <td>I just set it up manually , which is very easy .</td>\n",
       "    </tr>\n",
       "    <tr>\n",
       "      <th>199</th>\n",
       "      <td>0</td>\n",
       "      <td>i fully expect it to go bad again in the same ...</td>\n",
       "    </tr>\n",
       "  </tbody>\n",
       "</table>\n",
       "<p>200 rows × 2 columns</p>\n",
       "</div>"
      ],
      "text/plain": [
       "    class                                               text\n",
       "0       0  The pluger gets stuck & you have to manually e...\n",
       "1       1  The Hitachi is made in Malasyia, and looked ch...\n",
       "2       0  i must have heard this about a dozen times ove...\n",
       "3       1        This model appears to be especially good.  \n",
       "4       0  in any case , navigation by artist / album is ...\n",
       "..    ...                                                ...\n",
       "195     1   For the cost of this product i could not ask ...\n",
       "196     1  After comparing the included Creative earbuds ...\n",
       "197     1  Better for the Zen Micro is Outlook compatibil...\n",
       "198     1   I just set it up manually , which is very easy .\n",
       "199     0  i fully expect it to go bad again in the same ...\n",
       "\n",
       "[200 rows x 2 columns]"
      ]
     },
     "execution_count": 2,
     "metadata": {},
     "output_type": "execute_result"
    }
   ],
   "source": [
    "import pandas as pd\n",
    "df = pd.read_csv('../data/train/cr/train.txt', sep='|', header=None, names=['text'])\n",
    "df['class'] = df['text'].apply(lambda x: x.split('\\t')[0])\n",
    "df['text'] = df['text'].apply(lambda x: x.split('\\t')[1])\n",
    "df = df[['class', 'text']]\n",
    "\n",
    "df_test = df[0:200]\n",
    "df_test"
   ]
  },
  {
   "cell_type": "code",
   "execution_count": 3,
   "metadata": {},
   "outputs": [
    {
     "name": "stderr",
     "output_type": "stream",
     "text": [
      "[nltk_data] Downloading package omw-1.4 to /home/student/nltk_data...\n",
      "[nltk_data]   Package omw-1.4 is already up-to-date!\n",
      "[nltk_data] Downloading package omw-1.4 to /home/student/nltk_data...\n",
      "[nltk_data]   Package omw-1.4 is already up-to-date!\n"
     ]
    }
   ],
   "source": [
    "augmenter_dict = { \n",
    "    'eda_augmenter':EasyDataAugmenter(pct_words_to_swap=0.2,transformations_per_example=4),\n",
    "    'wordnet_augmenter':WordNetAugmenter(pct_words_to_swap=0.2,transformations_per_example=4),\n",
    "    'backtranslation_augmenter':BackTranslationAugmenter(pct_words_to_swap=0.2,transformations_per_example=4),\n",
    "    'embedding_augmenter':EmbeddingAugmenter(pct_words_to_swap=0.2,transformations_per_example=4),\n",
    "    'deletion_augmenter':DeletionAugmenter(pct_words_to_swap=0.2,transformations_per_example=4),\n",
    "    'charswap_augmenter':CharSwapAugmenter(pct_words_to_swap=0.2,transformations_per_example=4)\n",
    "}"
   ]
  },
  {
   "cell_type": "code",
   "execution_count": 4,
   "metadata": {},
   "outputs": [],
   "source": [
    "augmenter_list = ['eda','wordnet','backtranslation','embedding','deletion','charswap']"
   ]
  },
  {
   "cell_type": "code",
   "execution_count": 5,
   "metadata": {},
   "outputs": [],
   "source": [
    "def augment_text(df,aug_method,fraction=0.5,label_column='class',target_column='text',pct_words_to_swap=0.2,transformations_per_example=4,include_original=True):\n",
    "    augmenter = augmenter_dict[aug_method.lower()+'_augmenter']\n",
    "    augmenter.pct_words_to_swap = pct_words_to_swap\n",
    "    augmenter.transformations_per_example = transformations_per_example\n",
    "    # print('Augmenting with',str(augmenter))\n",
    "    # print('percentage of words to swap:',augmenter.pct_words_to_swap)\n",
    "    # print('number of transformations per example:',augmenter.transformations_per_example)\n",
    "    df = df.sample(frac=fraction)\n",
    "    text_list , class_list = [], []\n",
    "    for c, txt in zip(df[label_column], df[target_column]):\n",
    "\n",
    "        res = augmenter.augment(txt)\n",
    "        if include_original:\n",
    "            text_list.append(txt)\n",
    "            class_list.append(c)\n",
    "            for i in res:\n",
    "                text_list.append(i)\n",
    "                class_list.append(c)\n",
    "        else:\n",
    "            for i in range(len(res)):\n",
    "                text_list.append(res[i])\n",
    "                class_list.append(c)\n",
    "\n",
    "    df_augmented = pd.DataFrame({target_column: text_list, label_column: class_list})\n",
    "\n",
    "    return df_augmented"
   ]
  },
  {
   "cell_type": "code",
   "execution_count": 6,
   "metadata": {},
   "outputs": [],
   "source": [
    "mydf = augment_text(df_test,'eda',fraction=1,label_column='class',target_column='text',pct_words_to_swap=0.2,transformations_per_example=4,include_original=False)"
   ]
  },
  {
   "cell_type": "code",
   "execution_count": 7,
   "metadata": {},
   "outputs": [
    {
     "data": {
      "text/html": [
       "<div>\n",
       "<style scoped>\n",
       "    .dataframe tbody tr th:only-of-type {\n",
       "        vertical-align: middle;\n",
       "    }\n",
       "\n",
       "    .dataframe tbody tr th {\n",
       "        vertical-align: top;\n",
       "    }\n",
       "\n",
       "    .dataframe thead th {\n",
       "        text-align: right;\n",
       "    }\n",
       "</style>\n",
       "<table border=\"1\" class=\"dataframe\">\n",
       "  <thead>\n",
       "    <tr style=\"text-align: right;\">\n",
       "      <th></th>\n",
       "      <th>text</th>\n",
       "      <th>class</th>\n",
       "    </tr>\n",
       "  </thead>\n",
       "  <tbody>\n",
       "    <tr>\n",
       "      <th>0</th>\n",
       "      <td>considering the price and specs , this might b...</td>\n",
       "      <td>1</td>\n",
       "    </tr>\n",
       "    <tr>\n",
       "      <th>1</th>\n",
       "      <td>considering the price and specs , this might b...</td>\n",
       "      <td>1</td>\n",
       "    </tr>\n",
       "    <tr>\n",
       "      <th>2</th>\n",
       "      <td>considering the Price and specs , this might b...</td>\n",
       "      <td>1</td>\n",
       "    </tr>\n",
       "    <tr>\n",
       "      <th>3</th>\n",
       "      <td>the price and specs , this might be the best b...</td>\n",
       "      <td>1</td>\n",
       "    </tr>\n",
       "    <tr>\n",
       "      <th>4</th>\n",
       "      <td>And it fits right in my much easier than my old.</td>\n",
       "      <td>1</td>\n",
       "    </tr>\n",
       "    <tr>\n",
       "      <th>...</th>\n",
       "      <td>...</td>\n",
       "      <td>...</td>\n",
       "    </tr>\n",
       "    <tr>\n",
       "      <th>795</th>\n",
       "      <td>screw i love it ! !</td>\n",
       "      <td>1</td>\n",
       "    </tr>\n",
       "    <tr>\n",
       "      <th>796</th>\n",
       "      <td>The problem is the installation.</td>\n",
       "      <td>0</td>\n",
       "    </tr>\n",
       "    <tr>\n",
       "      <th>797</th>\n",
       "      <td>The biggest problem is trouble the installation.</td>\n",
       "      <td>0</td>\n",
       "    </tr>\n",
       "    <tr>\n",
       "      <th>798</th>\n",
       "      <td>is biggest problem The the installation.</td>\n",
       "      <td>0</td>\n",
       "    </tr>\n",
       "    <tr>\n",
       "      <th>799</th>\n",
       "      <td>The braggart problem is the installation.</td>\n",
       "      <td>0</td>\n",
       "    </tr>\n",
       "  </tbody>\n",
       "</table>\n",
       "<p>800 rows × 2 columns</p>\n",
       "</div>"
      ],
      "text/plain": [
       "                                                  text class\n",
       "0    considering the price and specs , this might b...     1\n",
       "1    considering the price and specs , this might b...     1\n",
       "2    considering the Price and specs , this might b...     1\n",
       "3    the price and specs , this might be the best b...     1\n",
       "4    And it fits right in my much easier than my old.      1\n",
       "..                                                 ...   ...\n",
       "795                               screw i love it ! !      1\n",
       "796                   The problem is the installation.     0\n",
       "797   The biggest problem is trouble the installation.     0\n",
       "798           is biggest problem The the installation.     0\n",
       "799          The braggart problem is the installation.     0\n",
       "\n",
       "[800 rows x 2 columns]"
      ]
     },
     "execution_count": 7,
     "metadata": {},
     "output_type": "execute_result"
    }
   ],
   "source": [
    "mydf"
   ]
  },
  {
   "cell_type": "code",
   "execution_count": null,
   "metadata": {},
   "outputs": [],
   "source": []
  }
 ],
 "metadata": {
  "kernelspec": {
   "display_name": "Python 3.8.10 64-bit",
   "language": "python",
   "name": "python3"
  },
  "language_info": {
   "codemirror_mode": {
    "name": "ipython",
    "version": 3
   },
   "file_extension": ".py",
   "mimetype": "text/x-python",
   "name": "python",
   "nbconvert_exporter": "python",
   "pygments_lexer": "ipython3",
   "version": "3.10.6"
  },
  "orig_nbformat": 4,
  "vscode": {
   "interpreter": {
    "hash": "31f2aee4e71d21fbe5cf8b01ff0e069b9275f58929596ceb00d14d90e3e16cd6"
   }
  }
 },
 "nbformat": 4,
 "nbformat_minor": 2
}
