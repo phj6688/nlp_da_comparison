{
 "cells": [
  {
   "cell_type": "code",
   "execution_count": 181,
   "metadata": {},
   "outputs": [],
   "source": [
    "from textattack.augmentation import \\\n",
    "    EasyDataAugmenter, BackTranslationAugmenter, WordNetAugmenter, CLAREAugmenter, \\\n",
    "    CheckListAugmenter, EmbeddingAugmenter, DeletionAugmenter, CharSwapAugmenter\n",
    "\n",
    "from itertools import chain\n",
    "import warnings\n",
    "warnings.filterwarnings(\"ignore\")"
   ]
  },
  {
   "cell_type": "code",
   "execution_count": null,
   "metadata": {},
   "outputs": [],
   "source": [
    "import pandas as pd\n",
    "df = pd.read_csv('../data/train/cr/train.txt', sep='|', header=None, names=['text'])\n",
    "df['class'] = df['text'].apply(lambda x: x.split('\\t')[0])\n",
    "df['text'] = df['text'].apply(lambda x: x.split('\\t')[1])\n",
    "df = df[['class', 'text']]\n",
    "\n",
    "df_test = df[0:20]\n",
    "df_test"
   ]
  },
  {
   "cell_type": "code",
   "execution_count": 182,
   "metadata": {},
   "outputs": [
    {
     "name": "stderr",
     "output_type": "stream",
     "text": [
      "[nltk_data] Downloading package omw-1.4 to /root/nltk_data...\n",
      "[nltk_data]   Package omw-1.4 is already up-to-date!\n",
      "[nltk_data] Downloading package omw-1.4 to /root/nltk_data...\n",
      "[nltk_data]   Package omw-1.4 is already up-to-date!\n"
     ]
    }
   ],
   "source": [
    "augmenter_dict = { \n",
    "    'eda_augmenter':EasyDataAugmenter(pct_words_to_swap=0.2,transformations_per_example=4),\n",
    "    'wordnet_augmenter':WordNetAugmenter(pct_words_to_swap=0.2,transformations_per_example=4),\n",
    "    'backtranslation_augmenter':BackTranslationAugmenter(pct_words_to_swap=0.2,transformations_per_example=4),\n",
    "    'embedding_augmenter':EmbeddingAugmenter(pct_words_to_swap=0.2,transformations_per_example=4),\n",
    "    'deletion_augmenter':DeletionAugmenter(pct_words_to_swap=0.2,transformations_per_example=4),\n",
    "    'charswap_augmenter':CharSwapAugmenter(pct_words_to_swap=0.2,transformations_per_example=4)\n",
    "}"
   ]
  },
  {
   "cell_type": "code",
   "execution_count": 183,
   "metadata": {},
   "outputs": [],
   "source": [
    "augmenter_list = ['eda','wordnet','backtranslation','embedding','deletion','charswap']"
   ]
  },
  {
   "cell_type": "code",
   "execution_count": 214,
   "metadata": {},
   "outputs": [],
   "source": [
    "def augment_text(df,aug_method,fraction=0.5,label_column='class',target_column='text',pct_words_to_swap=0.2,transformations_per_example=4,include_original=True):\n",
    "    augmenter = augmenter_dict[aug_method.lower()+'_augmenter']\n",
    "    augmenter.pct_words_to_swap = pct_words_to_swap\n",
    "    augmenter.transformations_per_example = transformations_per_example\n",
    "    # print('Augmenting with',str(augmenter))\n",
    "    # print('percentage of words to swap:',augmenter.pct_words_to_swap)\n",
    "    # print('number of transformations per example:',augmenter.transformations_per_example)\n",
    "    df = df.sample(frac=fraction)\n",
    "    text_list , class_list = [], []\n",
    "    for c, txt in zip(df[label_column], df[target_column]):\n",
    "\n",
    "        res = augmenter.augment(txt)\n",
    "        if include_original:\n",
    "            text_list.append(txt)\n",
    "            class_list.append(c)\n",
    "            for i in res:\n",
    "                text_list.append(i)\n",
    "                class_list.append(c)\n",
    "        else:\n",
    "            for i in range(len(res)):\n",
    "                text_list.append(res[i])\n",
    "                class_list.append(c)\n",
    "\n",
    "    df_augmented = pd.DataFrame({target_column: text_list, label_column: class_list})\n",
    "\n",
    "    return df_augmented"
   ]
  },
  {
   "cell_type": "code",
   "execution_count": 221,
   "metadata": {},
   "outputs": [],
   "source": [
    "mydf = augment_text(df_test,'eda',fraction=1,label_column='class',target_column='text',pct_words_to_swap=0.2,transformations_per_example=4,include_original=False)"
   ]
  },
  {
   "cell_type": "code",
   "execution_count": 222,
   "metadata": {},
   "outputs": [
    {
     "data": {
      "text/html": [
       "<div>\n",
       "<style scoped>\n",
       "    .dataframe tbody tr th:only-of-type {\n",
       "        vertical-align: middle;\n",
       "    }\n",
       "\n",
       "    .dataframe tbody tr th {\n",
       "        vertical-align: top;\n",
       "    }\n",
       "\n",
       "    .dataframe thead th {\n",
       "        text-align: right;\n",
       "    }\n",
       "</style>\n",
       "<table border=\"1\" class=\"dataframe\">\n",
       "  <thead>\n",
       "    <tr style=\"text-align: right;\">\n",
       "      <th></th>\n",
       "      <th>text</th>\n",
       "      <th>class</th>\n",
       "    </tr>\n",
       "  </thead>\n",
       "  <tbody>\n",
       "    <tr>\n",
       "      <th>0</th>\n",
       "      <td>i have stored around sixty 60 cd 's ( at 160kb...</td>\n",
       "      <td>1</td>\n",
       "    </tr>\n",
       "    <tr>\n",
       "      <th>1</th>\n",
       "      <td>i have this around 60 s 'cd ( at 160kbps ) on ...</td>\n",
       "      <td>1</td>\n",
       "    </tr>\n",
       "    <tr>\n",
       "      <th>2</th>\n",
       "      <td>i have stored approximately 60 400 's ( at 160...</td>\n",
       "      <td>1</td>\n",
       "    </tr>\n",
       "    <tr>\n",
       "      <th>3</th>\n",
       "      <td>i have stored around 60 's ( at 160kbps ) this...</td>\n",
       "      <td>1</td>\n",
       "    </tr>\n",
       "    <tr>\n",
       "      <th>4</th>\n",
       "      <td>the memory card fit nicely since i also have p...</td>\n",
       "      <td>1</td>\n",
       "    </tr>\n",
       "    <tr>\n",
       "      <th>...</th>\n",
       "      <td>...</td>\n",
       "      <td>...</td>\n",
       "    </tr>\n",
       "    <tr>\n",
       "      <th>75</th>\n",
       "      <td>lot also holds a It more diapers.</td>\n",
       "      <td>1</td>\n",
       "    </tr>\n",
       "    <tr>\n",
       "      <th>76</th>\n",
       "      <td>The bottom line as \"Phone is cool one - only f...</td>\n",
       "      <td>1</td>\n",
       "    </tr>\n",
       "    <tr>\n",
       "      <th>77</th>\n",
       "      <td>bottom is \"Phone is cool one - only for the mo...</td>\n",
       "      <td>1</td>\n",
       "    </tr>\n",
       "    <tr>\n",
       "      <th>78</th>\n",
       "      <td>The can billet is \"Phone is coolheaded one - o...</td>\n",
       "      <td>1</td>\n",
       "    </tr>\n",
       "    <tr>\n",
       "      <th>79</th>\n",
       "      <td>The bottom line is \"Phone is cool just one - o...</td>\n",
       "      <td>1</td>\n",
       "    </tr>\n",
       "  </tbody>\n",
       "</table>\n",
       "<p>80 rows × 2 columns</p>\n",
       "</div>"
      ],
      "text/plain": [
       "                                                 text class\n",
       "0   i have stored around sixty 60 cd 's ( at 160kb...     1\n",
       "1   i have this around 60 s 'cd ( at 160kbps ) on ...     1\n",
       "2   i have stored approximately 60 400 's ( at 160...     1\n",
       "3   i have stored around 60 's ( at 160kbps ) this...     1\n",
       "4   the memory card fit nicely since i also have p...     1\n",
       "..                                                ...   ...\n",
       "75                  lot also holds a It more diapers.     1\n",
       "76  The bottom line as \"Phone is cool one - only f...     1\n",
       "77  bottom is \"Phone is cool one - only for the mo...     1\n",
       "78  The can billet is \"Phone is coolheaded one - o...     1\n",
       "79  The bottom line is \"Phone is cool just one - o...     1\n",
       "\n",
       "[80 rows x 2 columns]"
      ]
     },
     "execution_count": 222,
     "metadata": {},
     "output_type": "execute_result"
    }
   ],
   "source": [
    "mydf"
   ]
  },
  {
   "cell_type": "code",
   "execution_count": null,
   "metadata": {},
   "outputs": [],
   "source": []
  }
 ],
 "metadata": {
  "kernelspec": {
   "display_name": "env_da_project",
   "language": "python",
   "name": "env_da_project"
  },
  "language_info": {
   "codemirror_mode": {
    "name": "ipython",
    "version": 3
   },
   "file_extension": ".py",
   "mimetype": "text/x-python",
   "name": "python",
   "nbconvert_exporter": "python",
   "pygments_lexer": "ipython3",
   "version": "3.8.10"
  },
  "orig_nbformat": 4
 },
 "nbformat": 4,
 "nbformat_minor": 2
}
