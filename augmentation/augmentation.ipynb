{
 "cells": [
  {
   "cell_type": "code",
   "execution_count": 1,
   "metadata": {},
   "outputs": [
    {
     "name": "stderr",
     "output_type": "stream",
     "text": [
      "/home/student/.envs/textattack/lib/python3.8/site-packages/tqdm/auto.py:22: TqdmWarning: IProgress not found. Please update jupyter and ipywidgets. See https://ipywidgets.readthedocs.io/en/stable/user_install.html\n",
      "  from .autonotebook import tqdm as notebook_tqdm\n",
      "2022-07-28 16:28:20.942716: W tensorflow/stream_executor/platform/default/dso_loader.cc:64] Could not load dynamic library 'libcudart.so.11.0'; dlerror: libcudart.so.11.0: cannot open shared object file: No such file or directory\n",
      "2022-07-28 16:28:20.942732: I tensorflow/stream_executor/cuda/cudart_stub.cc:29] Ignore above cudart dlerror if you do not have a GPU set up on your machine.\n"
     ]
    }
   ],
   "source": [
    "from textattack.augmentation import \\\n",
    "    EasyDataAugmenter, BackTranslationAugmenter, WordNetAugmenter, CLAREAugmenter, \\\n",
    "    CheckListAugmenter, EmbeddingAugmenter, DeletionAugmenter, CharSwapAugmenter\n",
    "import warnings\n",
    "warnings.filterwarnings(\"ignore\")"
   ]
  },
  {
   "cell_type": "code",
   "execution_count": 3,
   "metadata": {},
   "outputs": [
    {
     "name": "stderr",
     "output_type": "stream",
     "text": [
      "[nltk_data] Downloading package omw-1.4 to /home/student/nltk_data...\n",
      "[nltk_data]   Package omw-1.4 is already up-to-date!\n",
      "[nltk_data] Downloading package omw-1.4 to /home/student/nltk_data...\n",
      "[nltk_data]   Package omw-1.4 is already up-to-date!\n",
      "If you want to use `RobertaLMHeadModel` as a standalone, add `is_decoder=True.`\n"
     ]
    }
   ],
   "source": [
    "eda_augmenter = EasyDataAugmenter(pct_words_to_swap=0.2,transformations_per_example=4)\n",
    "wordnet_augmenter = WordNetAugmenter(pct_words_to_swap=0.2,transformations_per_example=4)\n",
    "clare_augmenter = CLAREAugmenter(pct_words_to_swap=0.2,transformations_per_example=4)\n",
    "backtranslation_augmenter = BackTranslationAugmenter(pct_words_to_swap=0.2,transformations_per_example=4)\n",
    "checklist_augmenter = CheckListAugmenter(pct_words_to_swap=0.2,transformations_per_example=4)\n",
    "embedding_augmenter = EmbeddingAugmenter(pct_words_to_swap=0.2,transformations_per_example=4)\n",
    "deletion_augmenter = DeletionAugmenter(pct_words_to_swap=0.2,transformations_per_example=4)\n",
    "charswap_augmenter = CharSwapAugmenter(pct_words_to_swap=0.2,transformations_per_example=4)\n",
    "#list_of_augmenters = [eda_augmenter, wordnet_augmenter, clare_augmenter, backtranslation_augmenter, deletion_augmenter]\n",
    "\n",
    "list_of_augmenters = [eda_augmenter, wordnet_augmenter, clare_augmenter, backtranslation_augmenter, checklist_augmenter, embedding_augmenter, deletion_augmenter, charswap_augmenter]\n",
    "sentence = 'What I cannot create, I do not understand.'"
   ]
  },
  {
   "cell_type": "code",
   "execution_count": 5,
   "metadata": {},
   "outputs": [],
   "source": [
    "for augmenter in list_of_augmenters:\n",
    "    print(augmenter.__class__.__name__)\n",
    "    res = augmenter.augment(sentence)\n",
    "    print(res)"
   ]
  },
  {
   "cell_type": "markdown",
   "metadata": {},
   "source": []
  },
  {
   "cell_type": "code",
   "execution_count": null,
   "metadata": {},
   "outputs": [],
   "source": [
    "res = eda_augmenter.augment(sentence)"
   ]
  },
  {
   "cell_type": "code",
   "execution_count": null,
   "metadata": {},
   "outputs": [],
   "source": [
    "res"
   ]
  },
  {
   "cell_type": "code",
   "execution_count": null,
   "metadata": {},
   "outputs": [],
   "source": [
    "# # import transformations, contraints, and the Augmenter\n",
    "# from textattack.transformations import WordSwapMaskedLM\n",
    "# from textattack.transformations import WordSwapQWERTY\n",
    "# from textattack.transformations import CompositeTransformation\n",
    "# from textattack.transformations import Transformation\n",
    "\n",
    "# from textattack.constraints.pre_transformation import RepeatModification\n",
    "# from textattack.constraints.pre_transformation import StopwordModification\n",
    "\n",
    "# from textattack.augmentation import Augmenter\n",
    "\n",
    "# # Set up transformation using CompositeTransformation()\n",
    "# transformation = CompositeTransformation([WordSwapMaskedLM()])\n",
    "# # Set up constraints\n",
    "# constraints = [RepeatModification(), StopwordModification()]\n",
    "# # Create augmenter with specified parameters\n",
    "# augmenter = Augmenter(transformation=transformation, constraints=constraints, pct_words_to_swap=0.2, transformations_per_example=10)\n",
    "# s = 'What I cannot create, I do not understand.'\n",
    "# # Augment!\n",
    "# augmenter.augment(s)"
   ]
  },
  {
   "cell_type": "code",
   "execution_count": null,
   "metadata": {},
   "outputs": [],
   "source": [
    "clare_augmenter = CLAREAugmenter(pct_words_to_swap=0.2,transformations_per_example=4)\n"
   ]
  },
  {
   "cell_type": "code",
   "execution_count": null,
   "metadata": {},
   "outputs": [],
   "source": [
    "sentence = 'What I cannot create, I do not understand.'\n",
    "clare_augmenter.augment(sentence)"
   ]
  },
  {
   "cell_type": "code",
   "execution_count": null,
   "metadata": {},
   "outputs": [],
   "source": [
    "import torch"
   ]
  },
  {
   "cell_type": "code",
   "execution_count": null,
   "metadata": {},
   "outputs": [],
   "source": [
    "torch.__version__"
   ]
  },
  {
   "cell_type": "code",
   "execution_count": null,
   "metadata": {},
   "outputs": [],
   "source": []
  }
 ],
 "metadata": {
  "kernelspec": {
   "display_name": "textattack",
   "language": "python",
   "name": "textattack"
  },
  "language_info": {
   "codemirror_mode": {
    "name": "ipython",
    "version": 3
   },
   "file_extension": ".py",
   "mimetype": "text/x-python",
   "name": "python",
   "nbconvert_exporter": "python",
   "pygments_lexer": "ipython3",
   "version": "3.8.10"
  },
  "orig_nbformat": 4,
  "vscode": {
   "interpreter": {
    "hash": "2b8f83eee0c5f96f775d20214947030bed1a221e50d60c361cda171fb78cdf82"
   }
  }
 },
 "nbformat": 4,
 "nbformat_minor": 2
}
