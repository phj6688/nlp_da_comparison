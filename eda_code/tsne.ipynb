{
 "cells": [
  {
   "cell_type": "code",
   "execution_count": 1,
   "metadata": {},
   "outputs": [
    {
     "name": "stderr",
     "output_type": "stream",
     "text": [
      "2022-10-20 15:04:54.394646: I tensorflow/core/platform/cpu_feature_guard.cc:193] This TensorFlow binary is optimized with oneAPI Deep Neural Network Library (oneDNN) to use the following CPU instructions in performance-critical operations:  AVX2 FMA\n",
      "To enable them in other operations, rebuild TensorFlow with the appropriate compiler flags.\n",
      "2022-10-20 15:04:54.483642: W tensorflow/stream_executor/platform/default/dso_loader.cc:64] Could not load dynamic library 'libcudart.so.11.0'; dlerror: libcudart.so.11.0: cannot open shared object file: No such file or directory\n",
      "2022-10-20 15:04:54.483653: I tensorflow/stream_executor/cuda/cudart_stub.cc:29] Ignore above cudart dlerror if you do not have a GPU set up on your machine.\n",
      "2022-10-20 15:04:54.501522: E tensorflow/stream_executor/cuda/cuda_blas.cc:2981] Unable to register cuBLAS factory: Attempting to register factory for plugin cuBLAS when one has already been registered\n",
      "2022-10-20 15:04:54.981011: W tensorflow/stream_executor/platform/default/dso_loader.cc:64] Could not load dynamic library 'libnvinfer.so.7'; dlerror: libnvinfer.so.7: cannot open shared object file: No such file or directory\n",
      "2022-10-20 15:04:54.981051: W tensorflow/stream_executor/platform/default/dso_loader.cc:64] Could not load dynamic library 'libnvinfer_plugin.so.7'; dlerror: libnvinfer_plugin.so.7: cannot open shared object file: No such file or directory\n",
      "2022-10-20 15:04:54.981056: W tensorflow/compiler/tf2tensorrt/utils/py_utils.cc:38] TF-TRT Warning: Cannot dlopen some TensorRT libraries. If you would like to use Nvidia GPU with TensorRT, please make sure the missing libraries mentioned above are installed properly.\n"
     ]
    }
   ],
   "source": [
    "from methods import *\n",
    "from numpy.random import seed\n",
    "from keras import backend as K\n",
    "from sklearn.manifold import TSNE\n",
    "import matplotlib.pyplot as plt\n",
    "seed(0)\n",
    "\n",
    "################################\n",
    "#### get dense layer output ####\n",
    "################################\n",
    "\n",
    "#getting the x and y inputs in numpy array form from the text file\n",
    "def train_x(train_txt, word2vec_len, input_size, word2vec):\n",
    "\n",
    "\t#read in lines\n",
    "\ttrain_lines = open(train_txt, 'r').readlines()\n",
    "\tnum_lines = len(train_lines)\n",
    "\n",
    "\tx_matrix = np.zeros((num_lines, input_size, word2vec_len))\n",
    "\n",
    "\t#insert values\n",
    "\tfor i, line in enumerate(train_lines):\n",
    "\n",
    "\t\tparts = line[:-1].split('\\t')\n",
    "\t\tlabel = int(parts[0])\n",
    "\t\tsentence = parts[1]\t\n",
    "\n",
    "\t\t#insert x\n",
    "\t\twords = sentence.split(' ')\n",
    "\t\twords = words[:x_matrix.shape[1]] #cut off if too long\n",
    "\t\tfor j, word in enumerate(words):\n",
    "\t\t\tif word in word2vec:\n",
    "\t\t\t\tx_matrix[i, j, :] = word2vec[word]\n",
    "\n",
    "\treturn x_matrix\n",
    "\n",
    "def get_dense_output(model_checkpoint, file, num_classes):\n",
    "\n",
    "\tx = train_x(file, word2vec_len, input_size, word2vec)\n",
    "\n",
    "\tmodel = load_model(model_checkpoint)\n",
    "\n",
    "\tget_3rd_layer_output = K.function([model.layers[0].input], [model.layers[3].output])\n",
    "\tlayer_output = get_3rd_layer_output([x])[0]\n",
    "\n",
    "\treturn layer_output\n",
    "\n",
    "def get_tsne_labels(file):\n",
    "\tlabels = []\n",
    "\talphas = []\n",
    "\tlines = open(file, 'r').readlines()\n",
    "\tfor i, line in enumerate(lines):\n",
    "\t\tparts = line[:-1].split('\\t')\n",
    "\t\t_class = int(parts[0])\n",
    "\t\talpha = i % 10\n",
    "\t\tif alpha == 0:\n",
    "\t\t\tlabels.append(_class+100)\n",
    "\t\t\talphas.append(alpha)\n",
    "\t\telse:\n",
    "\t\t\tlabels.append(_class)\n",
    "\t\t\talphas.append(alpha)\n",
    "\treturn labels, alphas\n",
    "\n",
    "def get_plot_vectors(layer_output):\n",
    "\n",
    "\ttsne = TSNE(n_components=2,perplexity=10).fit_transform(layer_output)\n",
    "\treturn tsne\n",
    "\n",
    "def plot_tsne(tsne, labels, output_path):\n",
    "\n",
    "\tlabel_to_legend_label = {'output/cr_tsne.png':{\t0:'Con (augmented)', \n",
    "\t\t\t\t\t\t\t\t\t\t\t\t\t\t\t100:'Con (original)', \n",
    "\t\t\t\t\t\t\t\t\t\t\t\t\t\t\t1: 'Pro (augmented)', \n",
    "\t\t\t\t\t\t\t\t \t\t\t\t\t\t\t101:'Pro (original)'}}\n",
    "\t\t\t\t\t\t\t\t# 'outputs_f4/trec_tsne.png':{0:'Description (augmented)',\n",
    "\t\t\t\t\t\t\t\t# \t\t\t\t\t\t\t100:'Description (original)',\n",
    "\t\t\t\t\t\t\t\t# \t\t\t\t\t\t\t1:'Entity (augmented)',\n",
    "\t\t\t\t\t\t\t\t# \t\t\t\t\t\t\t101:'Entity (original)',\n",
    "\t\t\t\t\t\t\t\t# \t\t\t\t\t\t\t2:'Abbreviation (augmented)',\n",
    "\t\t\t\t\t\t\t\t# \t\t\t\t\t\t\t102:'Abbreviation (original)',\n",
    "\t\t\t\t\t\t\t\t# \t\t\t\t\t\t\t3:'Human (augmented)',\n",
    "\t\t\t\t\t\t\t\t# \t\t\t\t\t\t\t103:'Human (original)',\n",
    "\t\t\t\t\t\t\t\t# \t\t\t\t\t\t\t4:'Location (augmented)',\n",
    "\t\t\t\t\t\t\t\t# \t\t\t\t\t\t\t104:'Location (original)',\n",
    "\t\t\t\t\t\t\t\t# \t\t\t\t\t\t\t5:'Number (augmented)',\n",
    "\t\t\t\t\t\t\t\t# \t\t\t\t\t\t\t105:'Number (original)'}}\n",
    "\n",
    "\tplot_to_legend_size = {'output/cr_tsne.png':11}\n",
    "\n",
    "\tlabels = labels#.tolist() \n",
    "\tbig_groups = [label for label in labels if label < 100]\n",
    "\tbig_groups = list(sorted(set(big_groups)))\n",
    "\n",
    "\tcolors = ['b', 'g']#, 'r', 'c', 'm', 'y', 'k', '#ff1493', '#FF4500']\n",
    "\tfig, ax = plt.subplots()\n",
    "\n",
    "\tfor big_group in big_groups:\n",
    "\n",
    "\t\tfor group in [big_group, big_group+100]:\n",
    "\n",
    "\t\t\tx, y = [], []\n",
    "\n",
    "\t\t\tfor j, label in enumerate(labels):\n",
    "\t\t\t\tif label == group:\n",
    "\t\t\t\t\tx.append(tsne[j][0])\n",
    "\t\t\t\t\ty.append(tsne[j][1])\n",
    "\n",
    "\t\t\t#params\n",
    "\t\t\tcolor = colors[int(group % 100)]\n",
    "\t\t\tmarker = 'o' if group in[0,100] else '^'\n",
    "\t\t\tsize = 1 if group < 100 else 27\t\t\n",
    "\t\t\tfillstyles = color if group < 100 else 'none'\n",
    "\n",
    "\t\t\tlegend_label = label_to_legend_label[output_path][group]\n",
    "\n",
    "\t\t\tax.scatter(x, y, color=color, marker=marker, s=size, facecolors=fillstyles, label=legend_label)\n",
    "\t\t\tplt.axis('off')\n",
    "\n",
    "\tlegend_size = plot_to_legend_size[output_path]\n",
    "\tplt.legend(prop={'size': legend_size})\n",
    "\tplt.savefig(output_path, dpi=1000)\n",
    "\tplt.clf()\n",
    "\n",
    "\n",
    "\n",
    "\n",
    "\n",
    "\n"
   ]
  },
  {
   "cell_type": "code",
   "execution_count": 2,
   "metadata": {},
   "outputs": [
    {
     "name": "stderr",
     "output_type": "stream",
     "text": [
      "2022-10-20 15:04:56.312151: I tensorflow/stream_executor/cuda/cuda_gpu_executor.cc:980] successful NUMA node read from SysFS had negative value (-1), but there must be at least one NUMA node, so returning NUMA node zero\n",
      "2022-10-20 15:04:56.312683: W tensorflow/stream_executor/platform/default/dso_loader.cc:64] Could not load dynamic library 'libcudart.so.11.0'; dlerror: libcudart.so.11.0: cannot open shared object file: No such file or directory\n",
      "2022-10-20 15:04:56.312719: W tensorflow/stream_executor/platform/default/dso_loader.cc:64] Could not load dynamic library 'libcublas.so.11'; dlerror: libcublas.so.11: cannot open shared object file: No such file or directory\n",
      "2022-10-20 15:04:56.312752: W tensorflow/stream_executor/platform/default/dso_loader.cc:64] Could not load dynamic library 'libcublasLt.so.11'; dlerror: libcublasLt.so.11: cannot open shared object file: No such file or directory\n",
      "2022-10-20 15:04:56.312785: W tensorflow/stream_executor/platform/default/dso_loader.cc:64] Could not load dynamic library 'libcufft.so.10'; dlerror: libcufft.so.10: cannot open shared object file: No such file or directory\n",
      "2022-10-20 15:04:56.312817: W tensorflow/stream_executor/platform/default/dso_loader.cc:64] Could not load dynamic library 'libcurand.so.10'; dlerror: libcurand.so.10: cannot open shared object file: No such file or directory\n",
      "2022-10-20 15:04:56.312850: W tensorflow/stream_executor/platform/default/dso_loader.cc:64] Could not load dynamic library 'libcusolver.so.11'; dlerror: libcusolver.so.11: cannot open shared object file: No such file or directory\n",
      "2022-10-20 15:04:56.312882: W tensorflow/stream_executor/platform/default/dso_loader.cc:64] Could not load dynamic library 'libcusparse.so.11'; dlerror: libcusparse.so.11: cannot open shared object file: No such file or directory\n",
      "2022-10-20 15:04:56.312926: W tensorflow/stream_executor/platform/default/dso_loader.cc:64] Could not load dynamic library 'libcudnn.so.8'; dlerror: libcudnn.so.8: cannot open shared object file: No such file or directory\n",
      "2022-10-20 15:04:56.312932: W tensorflow/core/common_runtime/gpu/gpu_device.cc:1934] Cannot dlopen some GPU libraries. Please make sure the missing libraries mentioned above are installed properly if you would like to use GPU. Follow the guide at https://www.tensorflow.org/install/gpu for how to download and setup the required libraries for your platform.\n",
      "Skipping registering GPU devices...\n",
      "2022-10-20 15:04:56.313128: I tensorflow/core/platform/cpu_feature_guard.cc:193] This TensorFlow binary is optimized with oneAPI Deep Neural Network Library (oneDNN) to use the following CPU instructions in performance-critical operations:  AVX2 FMA\n",
      "To enable them in other operations, rebuild TensorFlow with the appropriate compiler flags.\n"
     ]
    },
    {
     "ename": "ValueError",
     "evalue": "Input 0 of layer \"model\" is incompatible with the layer: expected shape=(None, 25, 300), found shape=(0, 20, 300)",
     "output_type": "error",
     "traceback": [
      "\u001b[0;31m---------------------------------------------------------------------------\u001b[0m",
      "\u001b[0;31mValueError\u001b[0m                                Traceback (most recent call last)",
      "\u001b[1;32m/home/peyman/nlp_da_comparison/eda_code/tsne.ipynb Cell 2\u001b[0m in \u001b[0;36m<cell line: 10>\u001b[0;34m()\u001b[0m\n\u001b[1;32m     <a href='vscode-notebook-cell://ssh-remote%2Bpc12740.mathematik.uni-marburg.de/home/peyman/nlp_da_comparison/eda_code/tsne.ipynb#W1sdnNjb2RlLXJlbW90ZQ%3D%3D?line=16'>17</a>\u001b[0m word2vec \u001b[39m=\u001b[39m load_pickle(word2vec_pickle)\n\u001b[1;32m     <a href='vscode-notebook-cell://ssh-remote%2Bpc12740.mathematik.uni-marburg.de/home/peyman/nlp_da_comparison/eda_code/tsne.ipynb#W1sdnNjb2RlLXJlbW90ZQ%3D%3D?line=18'>19</a>\u001b[0m \u001b[39m#do tsne\u001b[39;00m\n\u001b[0;32m---> <a href='vscode-notebook-cell://ssh-remote%2Bpc12740.mathematik.uni-marburg.de/home/peyman/nlp_da_comparison/eda_code/tsne.ipynb#W1sdnNjb2RlLXJlbW90ZQ%3D%3D?line=19'>20</a>\u001b[0m layer_output \u001b[39m=\u001b[39m get_dense_output(model_checkpoint, file, num_classes)\n\u001b[1;32m     <a href='vscode-notebook-cell://ssh-remote%2Bpc12740.mathematik.uni-marburg.de/home/peyman/nlp_da_comparison/eda_code/tsne.ipynb#W1sdnNjb2RlLXJlbW90ZQ%3D%3D?line=20'>21</a>\u001b[0m \u001b[39m#print(layer_output.shape)\u001b[39;00m\n\u001b[1;32m     <a href='vscode-notebook-cell://ssh-remote%2Bpc12740.mathematik.uni-marburg.de/home/peyman/nlp_da_comparison/eda_code/tsne.ipynb#W1sdnNjb2RlLXJlbW90ZQ%3D%3D?line=21'>22</a>\u001b[0m t \u001b[39m=\u001b[39m get_plot_vectors(layer_output)\n",
      "\u001b[1;32m/home/peyman/nlp_da_comparison/eda_code/tsne.ipynb Cell 2\u001b[0m in \u001b[0;36mget_dense_output\u001b[0;34m(model_checkpoint, file, num_classes)\u001b[0m\n\u001b[1;32m     <a href='vscode-notebook-cell://ssh-remote%2Bpc12740.mathematik.uni-marburg.de/home/peyman/nlp_da_comparison/eda_code/tsne.ipynb#W1sdnNjb2RlLXJlbW90ZQ%3D%3D?line=40'>41</a>\u001b[0m model \u001b[39m=\u001b[39m load_model(model_checkpoint)\n\u001b[1;32m     <a href='vscode-notebook-cell://ssh-remote%2Bpc12740.mathematik.uni-marburg.de/home/peyman/nlp_da_comparison/eda_code/tsne.ipynb#W1sdnNjb2RlLXJlbW90ZQ%3D%3D?line=42'>43</a>\u001b[0m get_3rd_layer_output \u001b[39m=\u001b[39m K\u001b[39m.\u001b[39mfunction([model\u001b[39m.\u001b[39mlayers[\u001b[39m0\u001b[39m]\u001b[39m.\u001b[39minput], [model\u001b[39m.\u001b[39mlayers[\u001b[39m3\u001b[39m]\u001b[39m.\u001b[39moutput])\n\u001b[0;32m---> <a href='vscode-notebook-cell://ssh-remote%2Bpc12740.mathematik.uni-marburg.de/home/peyman/nlp_da_comparison/eda_code/tsne.ipynb#W1sdnNjb2RlLXJlbW90ZQ%3D%3D?line=43'>44</a>\u001b[0m layer_output \u001b[39m=\u001b[39m get_3rd_layer_output([x])[\u001b[39m0\u001b[39m]\n\u001b[1;32m     <a href='vscode-notebook-cell://ssh-remote%2Bpc12740.mathematik.uni-marburg.de/home/peyman/nlp_da_comparison/eda_code/tsne.ipynb#W1sdnNjb2RlLXJlbW90ZQ%3D%3D?line=45'>46</a>\u001b[0m \u001b[39mreturn\u001b[39;00m layer_output\n",
      "File \u001b[0;32m~/anaconda3/envs/test/lib/python3.8/site-packages/keras/backend.py:4630\u001b[0m, in \u001b[0;36mfunction.<locals>.func\u001b[0;34m(model_inputs)\u001b[0m\n\u001b[1;32m   4629\u001b[0m \u001b[39mdef\u001b[39;00m \u001b[39mfunc\u001b[39m(model_inputs):\n\u001b[0;32m-> 4630\u001b[0m     outs \u001b[39m=\u001b[39m model(model_inputs)\n\u001b[1;32m   4631\u001b[0m     \u001b[39mif\u001b[39;00m wrap_outputs:\n\u001b[1;32m   4632\u001b[0m         outs \u001b[39m=\u001b[39m [outs]\n",
      "File \u001b[0;32m~/anaconda3/envs/test/lib/python3.8/site-packages/keras/utils/traceback_utils.py:70\u001b[0m, in \u001b[0;36mfilter_traceback.<locals>.error_handler\u001b[0;34m(*args, **kwargs)\u001b[0m\n\u001b[1;32m     67\u001b[0m     filtered_tb \u001b[39m=\u001b[39m _process_traceback_frames(e\u001b[39m.\u001b[39m__traceback__)\n\u001b[1;32m     68\u001b[0m     \u001b[39m# To get the full stack trace, call:\u001b[39;00m\n\u001b[1;32m     69\u001b[0m     \u001b[39m# `tf.debugging.disable_traceback_filtering()`\u001b[39;00m\n\u001b[0;32m---> 70\u001b[0m     \u001b[39mraise\u001b[39;00m e\u001b[39m.\u001b[39mwith_traceback(filtered_tb) \u001b[39mfrom\u001b[39;00m \u001b[39mNone\u001b[39m\n\u001b[1;32m     71\u001b[0m \u001b[39mfinally\u001b[39;00m:\n\u001b[1;32m     72\u001b[0m     \u001b[39mdel\u001b[39;00m filtered_tb\n",
      "File \u001b[0;32m~/anaconda3/envs/test/lib/python3.8/site-packages/keras/engine/input_spec.py:295\u001b[0m, in \u001b[0;36massert_input_compatibility\u001b[0;34m(input_spec, inputs, layer_name)\u001b[0m\n\u001b[1;32m    293\u001b[0m \u001b[39mif\u001b[39;00m spec_dim \u001b[39mis\u001b[39;00m \u001b[39mnot\u001b[39;00m \u001b[39mNone\u001b[39;00m \u001b[39mand\u001b[39;00m dim \u001b[39mis\u001b[39;00m \u001b[39mnot\u001b[39;00m \u001b[39mNone\u001b[39;00m:\n\u001b[1;32m    294\u001b[0m     \u001b[39mif\u001b[39;00m spec_dim \u001b[39m!=\u001b[39m dim:\n\u001b[0;32m--> 295\u001b[0m         \u001b[39mraise\u001b[39;00m \u001b[39mValueError\u001b[39;00m(\n\u001b[1;32m    296\u001b[0m             \u001b[39mf\u001b[39m\u001b[39m'\u001b[39m\u001b[39mInput \u001b[39m\u001b[39m{\u001b[39;00minput_index\u001b[39m}\u001b[39;00m\u001b[39m of layer \u001b[39m\u001b[39m\"\u001b[39m\u001b[39m{\u001b[39;00mlayer_name\u001b[39m}\u001b[39;00m\u001b[39m\"\u001b[39m\u001b[39m is \u001b[39m\u001b[39m'\u001b[39m\n\u001b[1;32m    297\u001b[0m             \u001b[39m\"\u001b[39m\u001b[39mincompatible with the layer: \u001b[39m\u001b[39m\"\u001b[39m\n\u001b[1;32m    298\u001b[0m             \u001b[39mf\u001b[39m\u001b[39m\"\u001b[39m\u001b[39mexpected shape=\u001b[39m\u001b[39m{\u001b[39;00mspec\u001b[39m.\u001b[39mshape\u001b[39m}\u001b[39;00m\u001b[39m, \u001b[39m\u001b[39m\"\u001b[39m\n\u001b[1;32m    299\u001b[0m             \u001b[39mf\u001b[39m\u001b[39m\"\u001b[39m\u001b[39mfound shape=\u001b[39m\u001b[39m{\u001b[39;00mdisplay_shape(x\u001b[39m.\u001b[39mshape)\u001b[39m}\u001b[39;00m\u001b[39m\"\u001b[39m\n\u001b[1;32m    300\u001b[0m         )\n",
      "\u001b[0;31mValueError\u001b[0m: Input 0 of layer \"model\" is incompatible with the layer: expected shape=(None, 25, 300), found shape=(0, 20, 300)"
     ]
    }
   ],
   "source": [
    "import plotly.express as px\n",
    "\n",
    "#global variables\n",
    "word2vec_len = 300\n",
    "input_size = 20\n",
    "\n",
    "datasets = ['cr'] #['pc', 'trec']\n",
    "num_classes_list =[2] #[2, 6]\n",
    "\n",
    "for i, dataset in enumerate(datasets):\n",
    "\n",
    "    #load parameters\n",
    "    model_checkpoint = 'output/' + dataset + '.h5'\n",
    "    file = 'txt_for_test/' + dataset + '/test_aug.txt'\n",
    "    num_classes = num_classes_list[i]\n",
    "    word2vec_pickle = 'txt_for_test/' + dataset + '/word2vec.p'\n",
    "    word2vec = load_pickle(word2vec_pickle)\n",
    "\n",
    "    #do tsne\n",
    "    layer_output = get_dense_output(model_checkpoint, file, num_classes)\n",
    "    #print(layer_output.shape)\n",
    "    t = get_plot_vectors(layer_output)\n",
    "\n",
    "    # use plotly just to compare with the original plot from eda\n",
    "    labels, alphas = get_tsne_labels(file)\n",
    "    # projections = TSNE(n_components=2).fit_transform(layer_output)\n",
    "    # fig = px.scatter(projections, x=0, y=1, color= labels, size= labels,labels={'color':'label'})\n",
    "    # fig.show()\n",
    "    #print(labels, alphas)\n",
    "\n",
    "    writer = open(\"output/new_tsne.txt\", 'w')\n",
    "\n",
    "    label_to_mark = {0:'o', 1:'^',100:'o', 101:'^'}\n",
    "\n",
    "    for i, label in enumerate(labels):\n",
    "        alpha = alphas[i]\n",
    "        line = str(t[i, 0]) + ' ' + str(t[i, 1]) + ' ' + str(label_to_mark[label]) + ' ' + str(alpha/10)\n",
    "        writer.write(line + '\\n')\n",
    "    plot_tsne(t, labels, 'output/' + dataset + '_tsne.png')\n"
   ]
  },
  {
   "cell_type": "code",
   "execution_count": null,
   "metadata": {},
   "outputs": [],
   "source": []
  },
  {
   "cell_type": "code",
   "execution_count": null,
   "metadata": {},
   "outputs": [],
   "source": []
  },
  {
   "cell_type": "code",
   "execution_count": null,
   "metadata": {},
   "outputs": [],
   "source": []
  },
  {
   "cell_type": "code",
   "execution_count": 53,
   "metadata": {},
   "outputs": [],
   "source": [
    "def tsne(layer_number,input_size,perplexity,n_iter):\n",
    "    def train_x(train_txt, word2vec_len, input_size, word2vec):\n",
    "\n",
    "        #read in lines\n",
    "        train_lines = open(train_txt, 'r').readlines()\n",
    "        num_lines = len(train_lines)\n",
    "\n",
    "        x_matrix = np.zeros((num_lines, input_size, word2vec_len))\n",
    "\n",
    "        #insert values\n",
    "        for i, line in enumerate(train_lines):\n",
    "\n",
    "            parts = line[:-1].split('\\t')\n",
    "            label = int(parts[0])\n",
    "            sentence = parts[1]\t\n",
    "\n",
    "            #insert x\n",
    "            words = sentence.split(' ')\n",
    "            words = words[:x_matrix.shape[1]] #cut off if too long\n",
    "            for j, word in enumerate(words):\n",
    "                if word in word2vec:\n",
    "                    x_matrix[i, j, :] = word2vec[word]\n",
    "\n",
    "        return x_matrix\n",
    "\n",
    "    def get_dense_output(model_checkpoint, file, num_classes):\n",
    "\n",
    "        x = train_x(file, word2vec_len, input_size, word2vec)\n",
    "\n",
    "        model = load_model(model_checkpoint)\n",
    "\n",
    "        get_3rd_layer_output = K.function([model.layers[0].input], [model.layers[layer_number].output])\n",
    "        layer_output = get_3rd_layer_output([x])[0]\n",
    "\n",
    "        return layer_output\n",
    "\n",
    "    def get_tsne_labels(file):\n",
    "        labels = []\n",
    "        alphas = []\n",
    "        lines = open(file, 'r').readlines()\n",
    "        for i, line in enumerate(lines):\n",
    "            parts = line[:-1].split('\\t')\n",
    "            _class = int(parts[0])\n",
    "            alpha = i % 10\n",
    "            if alpha == 0:\n",
    "                labels.append(_class+100)\n",
    "                alphas.append(alpha)\n",
    "            else:\n",
    "                labels.append(_class)\n",
    "                alphas.append(alpha)\n",
    "        return labels, alphas\n",
    "\n",
    "    def get_plot_vectors(layer_output):\n",
    "\n",
    "        tsne = TSNE(n_components=2,perplexity=perplexity,n_iter=n_iter).fit_transform(layer_output)\n",
    "        return tsne\n",
    "\n",
    "    def plot_tsne(tsne, labels):\n",
    "        output_path = f'output/tsne/{dataset}_tsne_perplexity_{perplexity}__iteration_{n_iter}__layerNum_{layer_number}__inputSize_{input_size}.png'\n",
    "\n",
    "        label_to_legend_label = {output_path:{\t0:'Con (augmented)', \n",
    "                                                                100:'Con (original)', \n",
    "                                                                1: 'Pro (augmented)', \n",
    "                                                                101:'Pro (original)'}}\n",
    "                                    # 'outputs_f4/trec_tsne.png':{0:'Description (augmented)',\n",
    "                                    # \t\t\t\t\t\t\t100:'Description (original)',\n",
    "                                    # \t\t\t\t\t\t\t1:'Entity (augmented)',\n",
    "                                    # \t\t\t\t\t\t\t101:'Entity (original)',\n",
    "                                    # \t\t\t\t\t\t\t2:'Abbreviation (augmented)',\n",
    "                                    # \t\t\t\t\t\t\t102:'Abbreviation (original)',\n",
    "                                    # \t\t\t\t\t\t\t3:'Human (augmented)',\n",
    "                                    # \t\t\t\t\t\t\t103:'Human (original)',\n",
    "                                    # \t\t\t\t\t\t\t4:'Location (augmented)',\n",
    "                                    # \t\t\t\t\t\t\t104:'Location (original)',\n",
    "                                    # \t\t\t\t\t\t\t5:'Number (augmented)',\n",
    "                                    # \t\t\t\t\t\t\t105:'Number (original)'}}\n",
    "\n",
    "        plot_to_legend_size = {output_path:11}\n",
    "\n",
    "        labels = labels#.tolist() \n",
    "        big_groups = [label for label in labels if label < 100]\n",
    "        big_groups = list(sorted(set(big_groups)))\n",
    "\n",
    "        colors = ['b', 'g']#, 'r', 'c', 'm', 'y', 'k', '#ff1493', '#FF4500']\n",
    "        fig, ax = plt.subplots()\n",
    "\n",
    "        for big_group in big_groups:\n",
    "\n",
    "            for group in [big_group, big_group+100]:\n",
    "\n",
    "                x, y = [], []\n",
    "\n",
    "                for j, label in enumerate(labels):\n",
    "                    if label == group:\n",
    "                        x.append(tsne[j][0])\n",
    "                        y.append(tsne[j][1])\n",
    "\n",
    "                #params\n",
    "                color = colors[int(group % 100)]\n",
    "                marker = 'o' if group in[0,100] else '^'\n",
    "                size = 1 if group < 100 else 27\t\t\n",
    "                fillstyles = color if group < 100 else 'none'\n",
    "\n",
    "                legend_label = label_to_legend_label[output_path][group]\n",
    "\n",
    "                ax.scatter(x, y, color=color, marker=marker, s=size, facecolors=fillstyles, label=legend_label)\n",
    "                plt.axis('off')\n",
    "\n",
    "        legend_size = plot_to_legend_size[output_path]\n",
    "        plt.legend(prop={'size': legend_size})\n",
    "        plt.savefig(output_path, dpi=1000)\n",
    "        plt.clf()\n",
    "\n",
    "\n",
    "\n",
    "\n",
    "    for i, dataset in enumerate(datasets):\n",
    "\n",
    "        #load parameters\n",
    "        model_checkpoint = 'output/' + dataset + '.h5'\n",
    "        file = 'txt_for_test/' + dataset + '/test_aug.txt'\n",
    "        num_classes = num_classes_list[i]\n",
    "        word2vec_pickle = 'txt_for_test/' + dataset + '/word2vec.p'\n",
    "        word2vec = load_pickle(word2vec_pickle)\n",
    "\n",
    "        #do tsne\n",
    "        layer_output = get_dense_output(model_checkpoint, file, num_classes)\n",
    "        #print(layer_output.shape)\n",
    "        t = get_plot_vectors(layer_output)\n",
    "\n",
    "        # use plotly just to compare with the original plot from eda\n",
    "        labels, alphas = get_tsne_labels(file)\n",
    "        # projections = TSNE(n_components=2).fit_transform(layer_output)\n",
    "        # fig = px.scatter(projections, x=0, y=1, color= labels, size= labels,labels={'color':'label'})\n",
    "        # fig.show()\n",
    "        #print(labels, alphas)\n",
    "\n",
    "        #writer = open(\"output/new_tsne.txt\", 'w')\n",
    "\n",
    "        #label_to_mark = {0:'o', 1:'^',100:'o', 101:'^'}\n",
    "\n",
    "        # for i, label in enumerate(labels):\n",
    "        #     alpha = alphas[i]\n",
    "        #     line = str(t[i, 0]) + ' ' + str(t[i, 1]) + ' ' + str(label_to_mark[label]) + ' ' + str(alpha/10)\n",
    "        #     writer.write(line + '\\n')\n",
    "        plot_tsne(t, labels)\n"
   ]
  },
  {
   "cell_type": "code",
   "execution_count": 55,
   "metadata": {},
   "outputs": [
    {
     "name": "stderr",
     "output_type": "stream",
     "text": [
      "  0%|          | 0/5 [00:00<?, ?it/s]/home/peyman/anaconda3/envs/test/lib/python3.8/site-packages/sklearn/manifold/_t_sne.py:800: FutureWarning:\n",
      "\n",
      "The default initialization in TSNE will change from 'random' to 'pca' in 1.2.\n",
      "\n",
      "/home/peyman/anaconda3/envs/test/lib/python3.8/site-packages/sklearn/manifold/_t_sne.py:810: FutureWarning:\n",
      "\n",
      "The default learning rate in TSNE will change from 200.0 to 'auto' in 1.2.\n",
      "\n",
      "/home/peyman/anaconda3/envs/test/lib/python3.8/site-packages/sklearn/manifold/_t_sne.py:800: FutureWarning:\n",
      "\n",
      "The default initialization in TSNE will change from 'random' to 'pca' in 1.2.\n",
      "\n",
      "/home/peyman/anaconda3/envs/test/lib/python3.8/site-packages/sklearn/manifold/_t_sne.py:810: FutureWarning:\n",
      "\n",
      "The default learning rate in TSNE will change from 200.0 to 'auto' in 1.2.\n",
      "\n",
      "/home/peyman/anaconda3/envs/test/lib/python3.8/site-packages/sklearn/manifold/_t_sne.py:800: FutureWarning:\n",
      "\n",
      "The default initialization in TSNE will change from 'random' to 'pca' in 1.2.\n",
      "\n",
      "/home/peyman/anaconda3/envs/test/lib/python3.8/site-packages/sklearn/manifold/_t_sne.py:810: FutureWarning:\n",
      "\n",
      "The default learning rate in TSNE will change from 200.0 to 'auto' in 1.2.\n",
      "\n",
      "/home/peyman/anaconda3/envs/test/lib/python3.8/site-packages/sklearn/manifold/_t_sne.py:800: FutureWarning:\n",
      "\n",
      "The default initialization in TSNE will change from 'random' to 'pca' in 1.2.\n",
      "\n",
      "/home/peyman/anaconda3/envs/test/lib/python3.8/site-packages/sklearn/manifold/_t_sne.py:810: FutureWarning:\n",
      "\n",
      "The default learning rate in TSNE will change from 200.0 to 'auto' in 1.2.\n",
      "\n",
      "/home/peyman/anaconda3/envs/test/lib/python3.8/site-packages/sklearn/manifold/_t_sne.py:800: FutureWarning:\n",
      "\n",
      "The default initialization in TSNE will change from 'random' to 'pca' in 1.2.\n",
      "\n",
      "/home/peyman/anaconda3/envs/test/lib/python3.8/site-packages/sklearn/manifold/_t_sne.py:810: FutureWarning:\n",
      "\n",
      "The default learning rate in TSNE will change from 200.0 to 'auto' in 1.2.\n",
      "\n",
      "100%|██████████| 5/5 [07:45<00:00, 93.16s/it] \n",
      " 20%|██        | 1/5 [07:45<31:03, 465.78s/it]/home/peyman/anaconda3/envs/test/lib/python3.8/site-packages/sklearn/manifold/_t_sne.py:800: FutureWarning:\n",
      "\n",
      "The default initialization in TSNE will change from 'random' to 'pca' in 1.2.\n",
      "\n",
      "/home/peyman/anaconda3/envs/test/lib/python3.8/site-packages/sklearn/manifold/_t_sne.py:810: FutureWarning:\n",
      "\n",
      "The default learning rate in TSNE will change from 200.0 to 'auto' in 1.2.\n",
      "\n",
      "/home/peyman/anaconda3/envs/test/lib/python3.8/site-packages/sklearn/manifold/_t_sne.py:800: FutureWarning:\n",
      "\n",
      "The default initialization in TSNE will change from 'random' to 'pca' in 1.2.\n",
      "\n",
      "/home/peyman/anaconda3/envs/test/lib/python3.8/site-packages/sklearn/manifold/_t_sne.py:810: FutureWarning:\n",
      "\n",
      "The default learning rate in TSNE will change from 200.0 to 'auto' in 1.2.\n",
      "\n",
      "/home/peyman/anaconda3/envs/test/lib/python3.8/site-packages/sklearn/manifold/_t_sne.py:800: FutureWarning:\n",
      "\n",
      "The default initialization in TSNE will change from 'random' to 'pca' in 1.2.\n",
      "\n",
      "/home/peyman/anaconda3/envs/test/lib/python3.8/site-packages/sklearn/manifold/_t_sne.py:810: FutureWarning:\n",
      "\n",
      "The default learning rate in TSNE will change from 200.0 to 'auto' in 1.2.\n",
      "\n",
      "/home/peyman/anaconda3/envs/test/lib/python3.8/site-packages/sklearn/manifold/_t_sne.py:800: FutureWarning:\n",
      "\n",
      "The default initialization in TSNE will change from 'random' to 'pca' in 1.2.\n",
      "\n",
      "/home/peyman/anaconda3/envs/test/lib/python3.8/site-packages/sklearn/manifold/_t_sne.py:810: FutureWarning:\n",
      "\n",
      "The default learning rate in TSNE will change from 200.0 to 'auto' in 1.2.\n",
      "\n",
      "/home/peyman/anaconda3/envs/test/lib/python3.8/site-packages/sklearn/manifold/_t_sne.py:800: FutureWarning:\n",
      "\n",
      "The default initialization in TSNE will change from 'random' to 'pca' in 1.2.\n",
      "\n",
      "/home/peyman/anaconda3/envs/test/lib/python3.8/site-packages/sklearn/manifold/_t_sne.py:810: FutureWarning:\n",
      "\n",
      "The default learning rate in TSNE will change from 200.0 to 'auto' in 1.2.\n",
      "\n",
      "100%|██████████| 5/5 [07:05<00:00, 85.03s/it] \n",
      " 40%|████      | 2/5 [14:50<22:05, 441.89s/it]/home/peyman/anaconda3/envs/test/lib/python3.8/site-packages/sklearn/manifold/_t_sne.py:800: FutureWarning:\n",
      "\n",
      "The default initialization in TSNE will change from 'random' to 'pca' in 1.2.\n",
      "\n",
      "/home/peyman/anaconda3/envs/test/lib/python3.8/site-packages/sklearn/manifold/_t_sne.py:810: FutureWarning:\n",
      "\n",
      "The default learning rate in TSNE will change from 200.0 to 'auto' in 1.2.\n",
      "\n",
      "/home/peyman/anaconda3/envs/test/lib/python3.8/site-packages/sklearn/manifold/_t_sne.py:800: FutureWarning:\n",
      "\n",
      "The default initialization in TSNE will change from 'random' to 'pca' in 1.2.\n",
      "\n",
      "/home/peyman/anaconda3/envs/test/lib/python3.8/site-packages/sklearn/manifold/_t_sne.py:810: FutureWarning:\n",
      "\n",
      "The default learning rate in TSNE will change from 200.0 to 'auto' in 1.2.\n",
      "\n",
      "/home/peyman/anaconda3/envs/test/lib/python3.8/site-packages/sklearn/manifold/_t_sne.py:800: FutureWarning:\n",
      "\n",
      "The default initialization in TSNE will change from 'random' to 'pca' in 1.2.\n",
      "\n",
      "/home/peyman/anaconda3/envs/test/lib/python3.8/site-packages/sklearn/manifold/_t_sne.py:810: FutureWarning:\n",
      "\n",
      "The default learning rate in TSNE will change from 200.0 to 'auto' in 1.2.\n",
      "\n",
      "/home/peyman/anaconda3/envs/test/lib/python3.8/site-packages/sklearn/manifold/_t_sne.py:800: FutureWarning:\n",
      "\n",
      "The default initialization in TSNE will change from 'random' to 'pca' in 1.2.\n",
      "\n",
      "/home/peyman/anaconda3/envs/test/lib/python3.8/site-packages/sklearn/manifold/_t_sne.py:810: FutureWarning:\n",
      "\n",
      "The default learning rate in TSNE will change from 200.0 to 'auto' in 1.2.\n",
      "\n",
      "/home/peyman/anaconda3/envs/test/lib/python3.8/site-packages/sklearn/manifold/_t_sne.py:800: FutureWarning:\n",
      "\n",
      "The default initialization in TSNE will change from 'random' to 'pca' in 1.2.\n",
      "\n",
      "/home/peyman/anaconda3/envs/test/lib/python3.8/site-packages/sklearn/manifold/_t_sne.py:810: FutureWarning:\n",
      "\n",
      "The default learning rate in TSNE will change from 200.0 to 'auto' in 1.2.\n",
      "\n",
      "100%|██████████| 5/5 [07:26<00:00, 89.26s/it] \n",
      " 60%|██████    | 3/5 [22:17<14:47, 443.91s/it]/home/peyman/anaconda3/envs/test/lib/python3.8/site-packages/sklearn/manifold/_t_sne.py:800: FutureWarning:\n",
      "\n",
      "The default initialization in TSNE will change from 'random' to 'pca' in 1.2.\n",
      "\n",
      "/home/peyman/anaconda3/envs/test/lib/python3.8/site-packages/sklearn/manifold/_t_sne.py:810: FutureWarning:\n",
      "\n",
      "The default learning rate in TSNE will change from 200.0 to 'auto' in 1.2.\n",
      "\n",
      "/home/peyman/anaconda3/envs/test/lib/python3.8/site-packages/sklearn/manifold/_t_sne.py:800: FutureWarning:\n",
      "\n",
      "The default initialization in TSNE will change from 'random' to 'pca' in 1.2.\n",
      "\n",
      "/home/peyman/anaconda3/envs/test/lib/python3.8/site-packages/sklearn/manifold/_t_sne.py:810: FutureWarning:\n",
      "\n",
      "The default learning rate in TSNE will change from 200.0 to 'auto' in 1.2.\n",
      "\n",
      "/home/peyman/anaconda3/envs/test/lib/python3.8/site-packages/sklearn/manifold/_t_sne.py:800: FutureWarning:\n",
      "\n",
      "The default initialization in TSNE will change from 'random' to 'pca' in 1.2.\n",
      "\n",
      "/home/peyman/anaconda3/envs/test/lib/python3.8/site-packages/sklearn/manifold/_t_sne.py:810: FutureWarning:\n",
      "\n",
      "The default learning rate in TSNE will change from 200.0 to 'auto' in 1.2.\n",
      "\n",
      "/home/peyman/anaconda3/envs/test/lib/python3.8/site-packages/sklearn/manifold/_t_sne.py:800: FutureWarning:\n",
      "\n",
      "The default initialization in TSNE will change from 'random' to 'pca' in 1.2.\n",
      "\n",
      "/home/peyman/anaconda3/envs/test/lib/python3.8/site-packages/sklearn/manifold/_t_sne.py:810: FutureWarning:\n",
      "\n",
      "The default learning rate in TSNE will change from 200.0 to 'auto' in 1.2.\n",
      "\n",
      "/home/peyman/anaconda3/envs/test/lib/python3.8/site-packages/sklearn/manifold/_t_sne.py:800: FutureWarning:\n",
      "\n",
      "The default initialization in TSNE will change from 'random' to 'pca' in 1.2.\n",
      "\n",
      "/home/peyman/anaconda3/envs/test/lib/python3.8/site-packages/sklearn/manifold/_t_sne.py:810: FutureWarning:\n",
      "\n",
      "The default learning rate in TSNE will change from 200.0 to 'auto' in 1.2.\n",
      "\n",
      "100%|██████████| 5/5 [08:29<00:00, 101.88s/it]\n",
      " 80%|████████  | 4/5 [30:46<07:49, 469.76s/it]/home/peyman/anaconda3/envs/test/lib/python3.8/site-packages/sklearn/manifold/_t_sne.py:800: FutureWarning:\n",
      "\n",
      "The default initialization in TSNE will change from 'random' to 'pca' in 1.2.\n",
      "\n",
      "/home/peyman/anaconda3/envs/test/lib/python3.8/site-packages/sklearn/manifold/_t_sne.py:810: FutureWarning:\n",
      "\n",
      "The default learning rate in TSNE will change from 200.0 to 'auto' in 1.2.\n",
      "\n",
      "/tmp/ipykernel_197879/4013531566.py:85: RuntimeWarning:\n",
      "\n",
      "More than 20 figures have been opened. Figures created through the pyplot interface (`matplotlib.pyplot.figure`) are retained until explicitly closed and may consume too much memory. (To control this warning, see the rcParam `figure.max_open_warning`). Consider using `matplotlib.pyplot.close()`.\n",
      "\n",
      "/home/peyman/anaconda3/envs/test/lib/python3.8/site-packages/sklearn/manifold/_t_sne.py:800: FutureWarning:\n",
      "\n",
      "The default initialization in TSNE will change from 'random' to 'pca' in 1.2.\n",
      "\n",
      "/home/peyman/anaconda3/envs/test/lib/python3.8/site-packages/sklearn/manifold/_t_sne.py:810: FutureWarning:\n",
      "\n",
      "The default learning rate in TSNE will change from 200.0 to 'auto' in 1.2.\n",
      "\n",
      "/home/peyman/anaconda3/envs/test/lib/python3.8/site-packages/sklearn/manifold/_t_sne.py:800: FutureWarning:\n",
      "\n",
      "The default initialization in TSNE will change from 'random' to 'pca' in 1.2.\n",
      "\n",
      "/home/peyman/anaconda3/envs/test/lib/python3.8/site-packages/sklearn/manifold/_t_sne.py:810: FutureWarning:\n",
      "\n",
      "The default learning rate in TSNE will change from 200.0 to 'auto' in 1.2.\n",
      "\n",
      "/home/peyman/anaconda3/envs/test/lib/python3.8/site-packages/sklearn/manifold/_t_sne.py:800: FutureWarning:\n",
      "\n",
      "The default initialization in TSNE will change from 'random' to 'pca' in 1.2.\n",
      "\n",
      "/home/peyman/anaconda3/envs/test/lib/python3.8/site-packages/sklearn/manifold/_t_sne.py:810: FutureWarning:\n",
      "\n",
      "The default learning rate in TSNE will change from 200.0 to 'auto' in 1.2.\n",
      "\n",
      "/home/peyman/anaconda3/envs/test/lib/python3.8/site-packages/sklearn/manifold/_t_sne.py:800: FutureWarning:\n",
      "\n",
      "The default initialization in TSNE will change from 'random' to 'pca' in 1.2.\n",
      "\n",
      "/home/peyman/anaconda3/envs/test/lib/python3.8/site-packages/sklearn/manifold/_t_sne.py:810: FutureWarning:\n",
      "\n",
      "The default learning rate in TSNE will change from 200.0 to 'auto' in 1.2.\n",
      "\n",
      "100%|██████████| 5/5 [08:36<00:00, 103.35s/it]\n",
      "100%|██████████| 5/5 [39:23<00:00, 472.68s/it]\n"
     ]
    },
    {
     "data": {
      "text/plain": [
       "<Figure size 640x480 with 0 Axes>"
      ]
     },
     "metadata": {},
     "output_type": "display_data"
    },
    {
     "data": {
      "text/plain": [
       "<Figure size 640x480 with 0 Axes>"
      ]
     },
     "metadata": {},
     "output_type": "display_data"
    },
    {
     "data": {
      "text/plain": [
       "<Figure size 640x480 with 0 Axes>"
      ]
     },
     "metadata": {},
     "output_type": "display_data"
    },
    {
     "data": {
      "text/plain": [
       "<Figure size 640x480 with 0 Axes>"
      ]
     },
     "metadata": {},
     "output_type": "display_data"
    },
    {
     "data": {
      "text/plain": [
       "<Figure size 640x480 with 0 Axes>"
      ]
     },
     "metadata": {},
     "output_type": "display_data"
    },
    {
     "data": {
      "text/plain": [
       "<Figure size 640x480 with 0 Axes>"
      ]
     },
     "metadata": {},
     "output_type": "display_data"
    },
    {
     "data": {
      "text/plain": [
       "<Figure size 640x480 with 0 Axes>"
      ]
     },
     "metadata": {},
     "output_type": "display_data"
    },
    {
     "data": {
      "text/plain": [
       "<Figure size 640x480 with 0 Axes>"
      ]
     },
     "metadata": {},
     "output_type": "display_data"
    },
    {
     "data": {
      "text/plain": [
       "<Figure size 640x480 with 0 Axes>"
      ]
     },
     "metadata": {},
     "output_type": "display_data"
    },
    {
     "data": {
      "text/plain": [
       "<Figure size 640x480 with 0 Axes>"
      ]
     },
     "metadata": {},
     "output_type": "display_data"
    },
    {
     "data": {
      "text/plain": [
       "<Figure size 640x480 with 0 Axes>"
      ]
     },
     "metadata": {},
     "output_type": "display_data"
    },
    {
     "data": {
      "text/plain": [
       "<Figure size 640x480 with 0 Axes>"
      ]
     },
     "metadata": {},
     "output_type": "display_data"
    },
    {
     "data": {
      "text/plain": [
       "<Figure size 640x480 with 0 Axes>"
      ]
     },
     "metadata": {},
     "output_type": "display_data"
    },
    {
     "data": {
      "text/plain": [
       "<Figure size 640x480 with 0 Axes>"
      ]
     },
     "metadata": {},
     "output_type": "display_data"
    },
    {
     "data": {
      "text/plain": [
       "<Figure size 640x480 with 0 Axes>"
      ]
     },
     "metadata": {},
     "output_type": "display_data"
    },
    {
     "data": {
      "text/plain": [
       "<Figure size 640x480 with 0 Axes>"
      ]
     },
     "metadata": {},
     "output_type": "display_data"
    },
    {
     "data": {
      "text/plain": [
       "<Figure size 640x480 with 0 Axes>"
      ]
     },
     "metadata": {},
     "output_type": "display_data"
    },
    {
     "data": {
      "text/plain": [
       "<Figure size 640x480 with 0 Axes>"
      ]
     },
     "metadata": {},
     "output_type": "display_data"
    },
    {
     "data": {
      "text/plain": [
       "<Figure size 640x480 with 0 Axes>"
      ]
     },
     "metadata": {},
     "output_type": "display_data"
    },
    {
     "data": {
      "text/plain": [
       "<Figure size 640x480 with 0 Axes>"
      ]
     },
     "metadata": {},
     "output_type": "display_data"
    },
    {
     "data": {
      "text/plain": [
       "<Figure size 640x480 with 0 Axes>"
      ]
     },
     "metadata": {},
     "output_type": "display_data"
    },
    {
     "data": {
      "text/plain": [
       "<Figure size 640x480 with 0 Axes>"
      ]
     },
     "metadata": {},
     "output_type": "display_data"
    },
    {
     "data": {
      "text/plain": [
       "<Figure size 640x480 with 0 Axes>"
      ]
     },
     "metadata": {},
     "output_type": "display_data"
    },
    {
     "data": {
      "text/plain": [
       "<Figure size 640x480 with 0 Axes>"
      ]
     },
     "metadata": {},
     "output_type": "display_data"
    },
    {
     "data": {
      "text/plain": [
       "<Figure size 640x480 with 0 Axes>"
      ]
     },
     "metadata": {},
     "output_type": "display_data"
    }
   ],
   "source": [
    "from tqdm import tqdm\n",
    "word2vec_len = 300\n",
    "input_size = 25\n",
    "datasets = ['pc'] \n",
    "num_classes_list = [2] \n",
    "layer_number = 4\n",
    "perplexity = [20,30,40,50,60]\n",
    "n_iter = [1000,2000,3000,4000,5000]\n",
    "\n",
    "for j in tqdm(perplexity):\n",
    "    for k in tqdm(n_iter):\n",
    "        tsne(layer_number,input_size,j,k)"
   ]
  },
  {
   "cell_type": "code",
   "execution_count": null,
   "metadata": {},
   "outputs": [],
   "source": []
  }
 ],
 "metadata": {
  "kernelspec": {
   "display_name": "Python 3.8.13 ('test')",
   "language": "python",
   "name": "python3"
  },
  "language_info": {
   "codemirror_mode": {
    "name": "ipython",
    "version": 3
   },
   "file_extension": ".py",
   "mimetype": "text/x-python",
   "name": "python",
   "nbconvert_exporter": "python",
   "pygments_lexer": "ipython3",
   "version": "3.8.13"
  },
  "orig_nbformat": 4,
  "vscode": {
   "interpreter": {
    "hash": "105d983fd7af724b4799aa016a3246070456ed2a0f153d4c18e29a0780e65f60"
   }
  }
 },
 "nbformat": 4,
 "nbformat_minor": 2
}
