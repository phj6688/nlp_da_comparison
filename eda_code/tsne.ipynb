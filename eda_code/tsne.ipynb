{
 "cells": [
  {
   "cell_type": "code",
   "execution_count": 42,
   "metadata": {},
   "outputs": [],
   "source": [
    "from methods import *\n",
    "from numpy.random import seed\n",
    "from keras import backend as K\n",
    "from sklearn.manifold import TSNE\n",
    "import matplotlib.pyplot as plt\n",
    "seed(0)\n",
    "\n",
    "################################\n",
    "#### get dense layer output ####\n",
    "################################\n",
    "\n",
    "#getting the x and y inputs in numpy array form from the text file\n",
    "def train_x(train_txt, word2vec_len, input_size, word2vec):\n",
    "\n",
    "\t#read in lines\n",
    "\ttrain_lines = open(train_txt, 'r').readlines()\n",
    "\tnum_lines = len(train_lines)\n",
    "\n",
    "\tx_matrix = np.zeros((num_lines, input_size, word2vec_len))\n",
    "\n",
    "\t#insert values\n",
    "\tfor i, line in enumerate(train_lines):\n",
    "\n",
    "\t\tparts = line[:-1].split('\\t')\n",
    "\t\tlabel = int(parts[0])\n",
    "\t\tsentence = parts[1]\t\n",
    "\n",
    "\t\t#insert x\n",
    "\t\twords = sentence.split(' ')\n",
    "\t\twords = words[:x_matrix.shape[1]] #cut off if too long\n",
    "\t\tfor j, word in enumerate(words):\n",
    "\t\t\tif word in word2vec:\n",
    "\t\t\t\tx_matrix[i, j, :] = word2vec[word]\n",
    "\n",
    "\treturn x_matrix\n",
    "\n",
    "def get_dense_output(model_checkpoint, file, num_classes):\n",
    "\n",
    "\tx = train_x(file, word2vec_len, input_size, word2vec)\n",
    "\n",
    "\tmodel = load_model(model_checkpoint)\n",
    "\n",
    "\tget_3rd_layer_output = K.function([model.layers[0].input], [model.layers[3].output])\n",
    "\tlayer_output = get_3rd_layer_output([x])[0]\n",
    "\n",
    "\treturn layer_output\n",
    "\n",
    "def get_tsne_labels(file):\n",
    "\tlabels = []\n",
    "\talphas = []\n",
    "\tlines = open(file, 'r').readlines()\n",
    "\tfor i, line in enumerate(lines):\n",
    "\t\tparts = line[:-1].split('\\t')\n",
    "\t\t_class = int(parts[0])\n",
    "\t\talpha = i % 10\n",
    "\t\tif alpha == 0:\n",
    "\t\t\tlabels.append(_class+100)\n",
    "\t\t\talphas.append(alpha)\n",
    "\t\telse:\n",
    "\t\t\tlabels.append(_class)\n",
    "\t\t\talphas.append(alpha)\n",
    "\treturn labels, alphas\n",
    "\n",
    "def get_plot_vectors(layer_output):\n",
    "\n",
    "\ttsne = TSNE(n_components=2,perplexity=10).fit_transform(layer_output)\n",
    "\treturn tsne\n",
    "\n",
    "def plot_tsne(tsne, labels, output_path):\n",
    "\n",
    "\tlabel_to_legend_label = {'output/cr_tsne.png':{\t0:'Con (augmented)', \n",
    "\t\t\t\t\t\t\t\t\t\t\t\t\t\t\t100:'Con (original)', \n",
    "\t\t\t\t\t\t\t\t\t\t\t\t\t\t\t1: 'Pro (augmented)', \n",
    "\t\t\t\t\t\t\t\t \t\t\t\t\t\t\t101:'Pro (original)'}}\n",
    "\t\t\t\t\t\t\t\t# 'outputs_f4/trec_tsne.png':{0:'Description (augmented)',\n",
    "\t\t\t\t\t\t\t\t# \t\t\t\t\t\t\t100:'Description (original)',\n",
    "\t\t\t\t\t\t\t\t# \t\t\t\t\t\t\t1:'Entity (augmented)',\n",
    "\t\t\t\t\t\t\t\t# \t\t\t\t\t\t\t101:'Entity (original)',\n",
    "\t\t\t\t\t\t\t\t# \t\t\t\t\t\t\t2:'Abbreviation (augmented)',\n",
    "\t\t\t\t\t\t\t\t# \t\t\t\t\t\t\t102:'Abbreviation (original)',\n",
    "\t\t\t\t\t\t\t\t# \t\t\t\t\t\t\t3:'Human (augmented)',\n",
    "\t\t\t\t\t\t\t\t# \t\t\t\t\t\t\t103:'Human (original)',\n",
    "\t\t\t\t\t\t\t\t# \t\t\t\t\t\t\t4:'Location (augmented)',\n",
    "\t\t\t\t\t\t\t\t# \t\t\t\t\t\t\t104:'Location (original)',\n",
    "\t\t\t\t\t\t\t\t# \t\t\t\t\t\t\t5:'Number (augmented)',\n",
    "\t\t\t\t\t\t\t\t# \t\t\t\t\t\t\t105:'Number (original)'}}\n",
    "\n",
    "\tplot_to_legend_size = {'output/cr_tsne.png':11}\n",
    "\n",
    "\tlabels = labels#.tolist() \n",
    "\tbig_groups = [label for label in labels if label < 100]\n",
    "\tbig_groups = list(sorted(set(big_groups)))\n",
    "\n",
    "\tcolors = ['b', 'g']#, 'r', 'c', 'm', 'y', 'k', '#ff1493', '#FF4500']\n",
    "\tfig, ax = plt.subplots()\n",
    "\n",
    "\tfor big_group in big_groups:\n",
    "\n",
    "\t\tfor group in [big_group, big_group+100]:\n",
    "\n",
    "\t\t\tx, y = [], []\n",
    "\n",
    "\t\t\tfor j, label in enumerate(labels):\n",
    "\t\t\t\tif label == group:\n",
    "\t\t\t\t\tx.append(tsne[j][0])\n",
    "\t\t\t\t\ty.append(tsne[j][1])\n",
    "\n",
    "\t\t\t#params\n",
    "\t\t\tcolor = colors[int(group % 100)]\n",
    "\t\t\tmarker = 'o' if group in[0,100] else '^'\n",
    "\t\t\tsize = 1 if group < 100 else 27\t\t\n",
    "\t\t\tfillstyles = color if group < 100 else 'none'\n",
    "\n",
    "\t\t\tlegend_label = label_to_legend_label[output_path][group]\n",
    "\n",
    "\t\t\tax.scatter(x, y, color=color, marker=marker, s=size, facecolors=fillstyles, label=legend_label)\n",
    "\t\t\tplt.axis('off')\n",
    "\n",
    "\tlegend_size = plot_to_legend_size[output_path]\n",
    "\tplt.legend(prop={'size': legend_size})\n",
    "\tplt.savefig(output_path, dpi=1000)\n",
    "\tplt.clf()\n",
    "\n",
    "\n",
    "\n",
    "\n",
    "\n",
    "\n"
   ]
  },
  {
   "cell_type": "code",
   "execution_count": 43,
   "metadata": {},
   "outputs": [
    {
     "name": "stderr",
     "output_type": "stream",
     "text": [
      "/home/peyman/anaconda3/envs/test/lib/python3.8/site-packages/sklearn/manifold/_t_sne.py:800: FutureWarning:\n",
      "\n",
      "The default initialization in TSNE will change from 'random' to 'pca' in 1.2.\n",
      "\n",
      "/home/peyman/anaconda3/envs/test/lib/python3.8/site-packages/sklearn/manifold/_t_sne.py:810: FutureWarning:\n",
      "\n",
      "The default learning rate in TSNE will change from 200.0 to 'auto' in 1.2.\n",
      "\n"
     ]
    },
    {
     "data": {
      "text/plain": [
       "<Figure size 640x480 with 0 Axes>"
      ]
     },
     "metadata": {},
     "output_type": "display_data"
    }
   ],
   "source": [
    "import plotly.express as px\n",
    "\n",
    "#global variables\n",
    "word2vec_len = 300\n",
    "input_size = 20\n",
    "\n",
    "datasets = ['cr'] #['pc', 'trec']\n",
    "num_classes_list =[2] #[2, 6]\n",
    "\n",
    "for i, dataset in enumerate(datasets):\n",
    "\n",
    "    #load parameters\n",
    "    model_checkpoint = 'output/' + dataset + '.h5'\n",
    "    file = 'txt_for_test/' + dataset + '/test_aug.txt'\n",
    "    num_classes = num_classes_list[i]\n",
    "    word2vec_pickle = 'txt_for_test/' + dataset + '/word2vec.p'\n",
    "    word2vec = load_pickle(word2vec_pickle)\n",
    "\n",
    "    #do tsne\n",
    "    layer_output = get_dense_output(model_checkpoint, file, num_classes)\n",
    "    #print(layer_output.shape)\n",
    "    t = get_plot_vectors(layer_output)\n",
    "\n",
    "    # use plotly just to compare with the original plot from eda\n",
    "    labels, alphas = get_tsne_labels(file)\n",
    "    # projections = TSNE(n_components=2).fit_transform(layer_output)\n",
    "    # fig = px.scatter(projections, x=0, y=1, color= labels, size= labels,labels={'color':'label'})\n",
    "    # fig.show()\n",
    "    #print(labels, alphas)\n",
    "\n",
    "    writer = open(\"output/new_tsne.txt\", 'w')\n",
    "\n",
    "    label_to_mark = {0:'o', 1:'^',100:'o', 101:'^'}\n",
    "\n",
    "    for i, label in enumerate(labels):\n",
    "        alpha = alphas[i]\n",
    "        line = str(t[i, 0]) + ' ' + str(t[i, 1]) + ' ' + str(label_to_mark[label]) + ' ' + str(alpha/10)\n",
    "        writer.write(line + '\\n')\n",
    "    plot_tsne(t, labels, 'output/' + dataset + '_tsne.png')\n"
   ]
  },
  {
   "cell_type": "code",
   "execution_count": null,
   "metadata": {},
   "outputs": [],
   "source": []
  },
  {
   "cell_type": "code",
   "execution_count": null,
   "metadata": {},
   "outputs": [],
   "source": []
  },
  {
   "cell_type": "code",
   "execution_count": null,
   "metadata": {},
   "outputs": [],
   "source": []
  },
  {
   "cell_type": "code",
   "execution_count": 53,
   "metadata": {},
   "outputs": [],
   "source": [
    "def tsne(layer_number,input_size,perplexity,n_iter):\n",
    "    def train_x(train_txt, word2vec_len, input_size, word2vec):\n",
    "\n",
    "        #read in lines\n",
    "        train_lines = open(train_txt, 'r').readlines()\n",
    "        num_lines = len(train_lines)\n",
    "\n",
    "        x_matrix = np.zeros((num_lines, input_size, word2vec_len))\n",
    "\n",
    "        #insert values\n",
    "        for i, line in enumerate(train_lines):\n",
    "\n",
    "            parts = line[:-1].split('\\t')\n",
    "            label = int(parts[0])\n",
    "            sentence = parts[1]\t\n",
    "\n",
    "            #insert x\n",
    "            words = sentence.split(' ')\n",
    "            words = words[:x_matrix.shape[1]] #cut off if too long\n",
    "            for j, word in enumerate(words):\n",
    "                if word in word2vec:\n",
    "                    x_matrix[i, j, :] = word2vec[word]\n",
    "\n",
    "        return x_matrix\n",
    "\n",
    "    def get_dense_output(model_checkpoint, file, num_classes):\n",
    "\n",
    "        x = train_x(file, word2vec_len, input_size, word2vec)\n",
    "\n",
    "        model = load_model(model_checkpoint)\n",
    "\n",
    "        get_3rd_layer_output = K.function([model.layers[0].input], [model.layers[layer_number].output])\n",
    "        layer_output = get_3rd_layer_output([x])[0]\n",
    "\n",
    "        return layer_output\n",
    "\n",
    "    def get_tsne_labels(file):\n",
    "        labels = []\n",
    "        alphas = []\n",
    "        lines = open(file, 'r').readlines()\n",
    "        for i, line in enumerate(lines):\n",
    "            parts = line[:-1].split('\\t')\n",
    "            _class = int(parts[0])\n",
    "            alpha = i % 10\n",
    "            if alpha == 0:\n",
    "                labels.append(_class+100)\n",
    "                alphas.append(alpha)\n",
    "            else:\n",
    "                labels.append(_class)\n",
    "                alphas.append(alpha)\n",
    "        return labels, alphas\n",
    "\n",
    "    def get_plot_vectors(layer_output):\n",
    "\n",
    "        tsne = TSNE(n_components=2,perplexity=perplexity,n_iter=n_iter).fit_transform(layer_output)\n",
    "        return tsne\n",
    "\n",
    "    def plot_tsne(tsne, labels):\n",
    "        output_path = f'output/tsne/{dataset}_tsne_perplexity_{perplexity}__iteration_{n_iter}__layerNum_{layer_number}__inputSize_{input_size}.png'\n",
    "\n",
    "        label_to_legend_label = {output_path:{\t0:'Con (augmented)', \n",
    "                                                                100:'Con (original)', \n",
    "                                                                1: 'Pro (augmented)', \n",
    "                                                                101:'Pro (original)'}}\n",
    "                                    # 'outputs_f4/trec_tsne.png':{0:'Description (augmented)',\n",
    "                                    # \t\t\t\t\t\t\t100:'Description (original)',\n",
    "                                    # \t\t\t\t\t\t\t1:'Entity (augmented)',\n",
    "                                    # \t\t\t\t\t\t\t101:'Entity (original)',\n",
    "                                    # \t\t\t\t\t\t\t2:'Abbreviation (augmented)',\n",
    "                                    # \t\t\t\t\t\t\t102:'Abbreviation (original)',\n",
    "                                    # \t\t\t\t\t\t\t3:'Human (augmented)',\n",
    "                                    # \t\t\t\t\t\t\t103:'Human (original)',\n",
    "                                    # \t\t\t\t\t\t\t4:'Location (augmented)',\n",
    "                                    # \t\t\t\t\t\t\t104:'Location (original)',\n",
    "                                    # \t\t\t\t\t\t\t5:'Number (augmented)',\n",
    "                                    # \t\t\t\t\t\t\t105:'Number (original)'}}\n",
    "\n",
    "        plot_to_legend_size = {output_path:11}\n",
    "\n",
    "        labels = labels#.tolist() \n",
    "        big_groups = [label for label in labels if label < 100]\n",
    "        big_groups = list(sorted(set(big_groups)))\n",
    "\n",
    "        colors = ['b', 'g']#, 'r', 'c', 'm', 'y', 'k', '#ff1493', '#FF4500']\n",
    "        fig, ax = plt.subplots()\n",
    "\n",
    "        for big_group in big_groups:\n",
    "\n",
    "            for group in [big_group, big_group+100]:\n",
    "\n",
    "                x, y = [], []\n",
    "\n",
    "                for j, label in enumerate(labels):\n",
    "                    if label == group:\n",
    "                        x.append(tsne[j][0])\n",
    "                        y.append(tsne[j][1])\n",
    "\n",
    "                #params\n",
    "                color = colors[int(group % 100)]\n",
    "                marker = 'o' if group in[0,100] else '^'\n",
    "                size = 1 if group < 100 else 27\t\t\n",
    "                fillstyles = color if group < 100 else 'none'\n",
    "\n",
    "                legend_label = label_to_legend_label[output_path][group]\n",
    "\n",
    "                ax.scatter(x, y, color=color, marker=marker, s=size, facecolors=fillstyles, label=legend_label)\n",
    "                plt.axis('off')\n",
    "\n",
    "        legend_size = plot_to_legend_size[output_path]\n",
    "        plt.legend(prop={'size': legend_size})\n",
    "        plt.savefig(output_path, dpi=1000)\n",
    "        plt.clf()\n",
    "\n",
    "\n",
    "\n",
    "\n",
    "    for i, dataset in enumerate(datasets):\n",
    "\n",
    "        #load parameters\n",
    "        model_checkpoint = 'output/' + dataset + '.h5'\n",
    "        file = 'txt_for_test/' + dataset + '/test_aug.txt'\n",
    "        num_classes = num_classes_list[i]\n",
    "        word2vec_pickle = 'txt_for_test/' + dataset + '/word2vec.p'\n",
    "        word2vec = load_pickle(word2vec_pickle)\n",
    "\n",
    "        #do tsne\n",
    "        layer_output = get_dense_output(model_checkpoint, file, num_classes)\n",
    "        #print(layer_output.shape)\n",
    "        t = get_plot_vectors(layer_output)\n",
    "\n",
    "        # use plotly just to compare with the original plot from eda\n",
    "        labels, alphas = get_tsne_labels(file)\n",
    "        # projections = TSNE(n_components=2).fit_transform(layer_output)\n",
    "        # fig = px.scatter(projections, x=0, y=1, color= labels, size= labels,labels={'color':'label'})\n",
    "        # fig.show()\n",
    "        #print(labels, alphas)\n",
    "\n",
    "        #writer = open(\"output/new_tsne.txt\", 'w')\n",
    "\n",
    "        #label_to_mark = {0:'o', 1:'^',100:'o', 101:'^'}\n",
    "\n",
    "        # for i, label in enumerate(labels):\n",
    "        #     alpha = alphas[i]\n",
    "        #     line = str(t[i, 0]) + ' ' + str(t[i, 1]) + ' ' + str(label_to_mark[label]) + ' ' + str(alpha/10)\n",
    "        #     writer.write(line + '\\n')\n",
    "        plot_tsne(t, labels)\n"
   ]
  },
  {
   "cell_type": "code",
   "execution_count": 55,
   "metadata": {},
   "outputs": [
    {
     "name": "stderr",
     "output_type": "stream",
     "text": [
      "  0%|          | 0/5 [00:00<?, ?it/s]/home/peyman/anaconda3/envs/test/lib/python3.8/site-packages/sklearn/manifold/_t_sne.py:800: FutureWarning:\n",
      "\n",
      "The default initialization in TSNE will change from 'random' to 'pca' in 1.2.\n",
      "\n",
      "/home/peyman/anaconda3/envs/test/lib/python3.8/site-packages/sklearn/manifold/_t_sne.py:810: FutureWarning:\n",
      "\n",
      "The default learning rate in TSNE will change from 200.0 to 'auto' in 1.2.\n",
      "\n",
      "/home/peyman/anaconda3/envs/test/lib/python3.8/site-packages/sklearn/manifold/_t_sne.py:800: FutureWarning:\n",
      "\n",
      "The default initialization in TSNE will change from 'random' to 'pca' in 1.2.\n",
      "\n",
      "/home/peyman/anaconda3/envs/test/lib/python3.8/site-packages/sklearn/manifold/_t_sne.py:810: FutureWarning:\n",
      "\n",
      "The default learning rate in TSNE will change from 200.0 to 'auto' in 1.2.\n",
      "\n",
      "/home/peyman/anaconda3/envs/test/lib/python3.8/site-packages/sklearn/manifold/_t_sne.py:800: FutureWarning:\n",
      "\n",
      "The default initialization in TSNE will change from 'random' to 'pca' in 1.2.\n",
      "\n",
      "/home/peyman/anaconda3/envs/test/lib/python3.8/site-packages/sklearn/manifold/_t_sne.py:810: FutureWarning:\n",
      "\n",
      "The default learning rate in TSNE will change from 200.0 to 'auto' in 1.2.\n",
      "\n",
      "/home/peyman/anaconda3/envs/test/lib/python3.8/site-packages/sklearn/manifold/_t_sne.py:800: FutureWarning:\n",
      "\n",
      "The default initialization in TSNE will change from 'random' to 'pca' in 1.2.\n",
      "\n",
      "/home/peyman/anaconda3/envs/test/lib/python3.8/site-packages/sklearn/manifold/_t_sne.py:810: FutureWarning:\n",
      "\n",
      "The default learning rate in TSNE will change from 200.0 to 'auto' in 1.2.\n",
      "\n",
      "/home/peyman/anaconda3/envs/test/lib/python3.8/site-packages/sklearn/manifold/_t_sne.py:800: FutureWarning:\n",
      "\n",
      "The default initialization in TSNE will change from 'random' to 'pca' in 1.2.\n",
      "\n",
      "/home/peyman/anaconda3/envs/test/lib/python3.8/site-packages/sklearn/manifold/_t_sne.py:810: FutureWarning:\n",
      "\n",
      "The default learning rate in TSNE will change from 200.0 to 'auto' in 1.2.\n",
      "\n",
      "100%|██████████| 5/5 [07:45<00:00, 93.16s/it] \n",
      " 20%|██        | 1/5 [07:45<31:03, 465.78s/it]/home/peyman/anaconda3/envs/test/lib/python3.8/site-packages/sklearn/manifold/_t_sne.py:800: FutureWarning:\n",
      "\n",
      "The default initialization in TSNE will change from 'random' to 'pca' in 1.2.\n",
      "\n",
      "/home/peyman/anaconda3/envs/test/lib/python3.8/site-packages/sklearn/manifold/_t_sne.py:810: FutureWarning:\n",
      "\n",
      "The default learning rate in TSNE will change from 200.0 to 'auto' in 1.2.\n",
      "\n",
      "/home/peyman/anaconda3/envs/test/lib/python3.8/site-packages/sklearn/manifold/_t_sne.py:800: FutureWarning:\n",
      "\n",
      "The default initialization in TSNE will change from 'random' to 'pca' in 1.2.\n",
      "\n",
      "/home/peyman/anaconda3/envs/test/lib/python3.8/site-packages/sklearn/manifold/_t_sne.py:810: FutureWarning:\n",
      "\n",
      "The default learning rate in TSNE will change from 200.0 to 'auto' in 1.2.\n",
      "\n",
      "/home/peyman/anaconda3/envs/test/lib/python3.8/site-packages/sklearn/manifold/_t_sne.py:800: FutureWarning:\n",
      "\n",
      "The default initialization in TSNE will change from 'random' to 'pca' in 1.2.\n",
      "\n",
      "/home/peyman/anaconda3/envs/test/lib/python3.8/site-packages/sklearn/manifold/_t_sne.py:810: FutureWarning:\n",
      "\n",
      "The default learning rate in TSNE will change from 200.0 to 'auto' in 1.2.\n",
      "\n",
      "/home/peyman/anaconda3/envs/test/lib/python3.8/site-packages/sklearn/manifold/_t_sne.py:800: FutureWarning:\n",
      "\n",
      "The default initialization in TSNE will change from 'random' to 'pca' in 1.2.\n",
      "\n",
      "/home/peyman/anaconda3/envs/test/lib/python3.8/site-packages/sklearn/manifold/_t_sne.py:810: FutureWarning:\n",
      "\n",
      "The default learning rate in TSNE will change from 200.0 to 'auto' in 1.2.\n",
      "\n",
      "/home/peyman/anaconda3/envs/test/lib/python3.8/site-packages/sklearn/manifold/_t_sne.py:800: FutureWarning:\n",
      "\n",
      "The default initialization in TSNE will change from 'random' to 'pca' in 1.2.\n",
      "\n",
      "/home/peyman/anaconda3/envs/test/lib/python3.8/site-packages/sklearn/manifold/_t_sne.py:810: FutureWarning:\n",
      "\n",
      "The default learning rate in TSNE will change from 200.0 to 'auto' in 1.2.\n",
      "\n",
      "100%|██████████| 5/5 [07:05<00:00, 85.03s/it] \n",
      " 40%|████      | 2/5 [14:50<22:05, 441.89s/it]/home/peyman/anaconda3/envs/test/lib/python3.8/site-packages/sklearn/manifold/_t_sne.py:800: FutureWarning:\n",
      "\n",
      "The default initialization in TSNE will change from 'random' to 'pca' in 1.2.\n",
      "\n",
      "/home/peyman/anaconda3/envs/test/lib/python3.8/site-packages/sklearn/manifold/_t_sne.py:810: FutureWarning:\n",
      "\n",
      "The default learning rate in TSNE will change from 200.0 to 'auto' in 1.2.\n",
      "\n",
      "/home/peyman/anaconda3/envs/test/lib/python3.8/site-packages/sklearn/manifold/_t_sne.py:800: FutureWarning:\n",
      "\n",
      "The default initialization in TSNE will change from 'random' to 'pca' in 1.2.\n",
      "\n",
      "/home/peyman/anaconda3/envs/test/lib/python3.8/site-packages/sklearn/manifold/_t_sne.py:810: FutureWarning:\n",
      "\n",
      "The default learning rate in TSNE will change from 200.0 to 'auto' in 1.2.\n",
      "\n",
      "/home/peyman/anaconda3/envs/test/lib/python3.8/site-packages/sklearn/manifold/_t_sne.py:800: FutureWarning:\n",
      "\n",
      "The default initialization in TSNE will change from 'random' to 'pca' in 1.2.\n",
      "\n",
      "/home/peyman/anaconda3/envs/test/lib/python3.8/site-packages/sklearn/manifold/_t_sne.py:810: FutureWarning:\n",
      "\n",
      "The default learning rate in TSNE will change from 200.0 to 'auto' in 1.2.\n",
      "\n",
      "/home/peyman/anaconda3/envs/test/lib/python3.8/site-packages/sklearn/manifold/_t_sne.py:800: FutureWarning:\n",
      "\n",
      "The default initialization in TSNE will change from 'random' to 'pca' in 1.2.\n",
      "\n",
      "/home/peyman/anaconda3/envs/test/lib/python3.8/site-packages/sklearn/manifold/_t_sne.py:810: FutureWarning:\n",
      "\n",
      "The default learning rate in TSNE will change from 200.0 to 'auto' in 1.2.\n",
      "\n",
      "/home/peyman/anaconda3/envs/test/lib/python3.8/site-packages/sklearn/manifold/_t_sne.py:800: FutureWarning:\n",
      "\n",
      "The default initialization in TSNE will change from 'random' to 'pca' in 1.2.\n",
      "\n",
      "/home/peyman/anaconda3/envs/test/lib/python3.8/site-packages/sklearn/manifold/_t_sne.py:810: FutureWarning:\n",
      "\n",
      "The default learning rate in TSNE will change from 200.0 to 'auto' in 1.2.\n",
      "\n",
      "100%|██████████| 5/5 [07:26<00:00, 89.26s/it] \n",
      " 60%|██████    | 3/5 [22:17<14:47, 443.91s/it]/home/peyman/anaconda3/envs/test/lib/python3.8/site-packages/sklearn/manifold/_t_sne.py:800: FutureWarning:\n",
      "\n",
      "The default initialization in TSNE will change from 'random' to 'pca' in 1.2.\n",
      "\n",
      "/home/peyman/anaconda3/envs/test/lib/python3.8/site-packages/sklearn/manifold/_t_sne.py:810: FutureWarning:\n",
      "\n",
      "The default learning rate in TSNE will change from 200.0 to 'auto' in 1.2.\n",
      "\n",
      "/home/peyman/anaconda3/envs/test/lib/python3.8/site-packages/sklearn/manifold/_t_sne.py:800: FutureWarning:\n",
      "\n",
      "The default initialization in TSNE will change from 'random' to 'pca' in 1.2.\n",
      "\n",
      "/home/peyman/anaconda3/envs/test/lib/python3.8/site-packages/sklearn/manifold/_t_sne.py:810: FutureWarning:\n",
      "\n",
      "The default learning rate in TSNE will change from 200.0 to 'auto' in 1.2.\n",
      "\n",
      "/home/peyman/anaconda3/envs/test/lib/python3.8/site-packages/sklearn/manifold/_t_sne.py:800: FutureWarning:\n",
      "\n",
      "The default initialization in TSNE will change from 'random' to 'pca' in 1.2.\n",
      "\n",
      "/home/peyman/anaconda3/envs/test/lib/python3.8/site-packages/sklearn/manifold/_t_sne.py:810: FutureWarning:\n",
      "\n",
      "The default learning rate in TSNE will change from 200.0 to 'auto' in 1.2.\n",
      "\n",
      "/home/peyman/anaconda3/envs/test/lib/python3.8/site-packages/sklearn/manifold/_t_sne.py:800: FutureWarning:\n",
      "\n",
      "The default initialization in TSNE will change from 'random' to 'pca' in 1.2.\n",
      "\n",
      "/home/peyman/anaconda3/envs/test/lib/python3.8/site-packages/sklearn/manifold/_t_sne.py:810: FutureWarning:\n",
      "\n",
      "The default learning rate in TSNE will change from 200.0 to 'auto' in 1.2.\n",
      "\n",
      "/home/peyman/anaconda3/envs/test/lib/python3.8/site-packages/sklearn/manifold/_t_sne.py:800: FutureWarning:\n",
      "\n",
      "The default initialization in TSNE will change from 'random' to 'pca' in 1.2.\n",
      "\n",
      "/home/peyman/anaconda3/envs/test/lib/python3.8/site-packages/sklearn/manifold/_t_sne.py:810: FutureWarning:\n",
      "\n",
      "The default learning rate in TSNE will change from 200.0 to 'auto' in 1.2.\n",
      "\n",
      "100%|██████████| 5/5 [08:29<00:00, 101.88s/it]\n",
      " 80%|████████  | 4/5 [30:46<07:49, 469.76s/it]/home/peyman/anaconda3/envs/test/lib/python3.8/site-packages/sklearn/manifold/_t_sne.py:800: FutureWarning:\n",
      "\n",
      "The default initialization in TSNE will change from 'random' to 'pca' in 1.2.\n",
      "\n",
      "/home/peyman/anaconda3/envs/test/lib/python3.8/site-packages/sklearn/manifold/_t_sne.py:810: FutureWarning:\n",
      "\n",
      "The default learning rate in TSNE will change from 200.0 to 'auto' in 1.2.\n",
      "\n",
      "/tmp/ipykernel_197879/4013531566.py:85: RuntimeWarning:\n",
      "\n",
      "More than 20 figures have been opened. Figures created through the pyplot interface (`matplotlib.pyplot.figure`) are retained until explicitly closed and may consume too much memory. (To control this warning, see the rcParam `figure.max_open_warning`). Consider using `matplotlib.pyplot.close()`.\n",
      "\n",
      "/home/peyman/anaconda3/envs/test/lib/python3.8/site-packages/sklearn/manifold/_t_sne.py:800: FutureWarning:\n",
      "\n",
      "The default initialization in TSNE will change from 'random' to 'pca' in 1.2.\n",
      "\n",
      "/home/peyman/anaconda3/envs/test/lib/python3.8/site-packages/sklearn/manifold/_t_sne.py:810: FutureWarning:\n",
      "\n",
      "The default learning rate in TSNE will change from 200.0 to 'auto' in 1.2.\n",
      "\n",
      "/home/peyman/anaconda3/envs/test/lib/python3.8/site-packages/sklearn/manifold/_t_sne.py:800: FutureWarning:\n",
      "\n",
      "The default initialization in TSNE will change from 'random' to 'pca' in 1.2.\n",
      "\n",
      "/home/peyman/anaconda3/envs/test/lib/python3.8/site-packages/sklearn/manifold/_t_sne.py:810: FutureWarning:\n",
      "\n",
      "The default learning rate in TSNE will change from 200.0 to 'auto' in 1.2.\n",
      "\n",
      "/home/peyman/anaconda3/envs/test/lib/python3.8/site-packages/sklearn/manifold/_t_sne.py:800: FutureWarning:\n",
      "\n",
      "The default initialization in TSNE will change from 'random' to 'pca' in 1.2.\n",
      "\n",
      "/home/peyman/anaconda3/envs/test/lib/python3.8/site-packages/sklearn/manifold/_t_sne.py:810: FutureWarning:\n",
      "\n",
      "The default learning rate in TSNE will change from 200.0 to 'auto' in 1.2.\n",
      "\n",
      "/home/peyman/anaconda3/envs/test/lib/python3.8/site-packages/sklearn/manifold/_t_sne.py:800: FutureWarning:\n",
      "\n",
      "The default initialization in TSNE will change from 'random' to 'pca' in 1.2.\n",
      "\n",
      "/home/peyman/anaconda3/envs/test/lib/python3.8/site-packages/sklearn/manifold/_t_sne.py:810: FutureWarning:\n",
      "\n",
      "The default learning rate in TSNE will change from 200.0 to 'auto' in 1.2.\n",
      "\n",
      "100%|██████████| 5/5 [08:36<00:00, 103.35s/it]\n",
      "100%|██████████| 5/5 [39:23<00:00, 472.68s/it]\n"
     ]
    },
    {
     "data": {
      "text/plain": [
       "<Figure size 640x480 with 0 Axes>"
      ]
     },
     "metadata": {},
     "output_type": "display_data"
    },
    {
     "data": {
      "text/plain": [
       "<Figure size 640x480 with 0 Axes>"
      ]
     },
     "metadata": {},
     "output_type": "display_data"
    },
    {
     "data": {
      "text/plain": [
       "<Figure size 640x480 with 0 Axes>"
      ]
     },
     "metadata": {},
     "output_type": "display_data"
    },
    {
     "data": {
      "text/plain": [
       "<Figure size 640x480 with 0 Axes>"
      ]
     },
     "metadata": {},
     "output_type": "display_data"
    },
    {
     "data": {
      "text/plain": [
       "<Figure size 640x480 with 0 Axes>"
      ]
     },
     "metadata": {},
     "output_type": "display_data"
    },
    {
     "data": {
      "text/plain": [
       "<Figure size 640x480 with 0 Axes>"
      ]
     },
     "metadata": {},
     "output_type": "display_data"
    },
    {
     "data": {
      "text/plain": [
       "<Figure size 640x480 with 0 Axes>"
      ]
     },
     "metadata": {},
     "output_type": "display_data"
    },
    {
     "data": {
      "text/plain": [
       "<Figure size 640x480 with 0 Axes>"
      ]
     },
     "metadata": {},
     "output_type": "display_data"
    },
    {
     "data": {
      "text/plain": [
       "<Figure size 640x480 with 0 Axes>"
      ]
     },
     "metadata": {},
     "output_type": "display_data"
    },
    {
     "data": {
      "text/plain": [
       "<Figure size 640x480 with 0 Axes>"
      ]
     },
     "metadata": {},
     "output_type": "display_data"
    },
    {
     "data": {
      "text/plain": [
       "<Figure size 640x480 with 0 Axes>"
      ]
     },
     "metadata": {},
     "output_type": "display_data"
    },
    {
     "data": {
      "text/plain": [
       "<Figure size 640x480 with 0 Axes>"
      ]
     },
     "metadata": {},
     "output_type": "display_data"
    },
    {
     "data": {
      "text/plain": [
       "<Figure size 640x480 with 0 Axes>"
      ]
     },
     "metadata": {},
     "output_type": "display_data"
    },
    {
     "data": {
      "text/plain": [
       "<Figure size 640x480 with 0 Axes>"
      ]
     },
     "metadata": {},
     "output_type": "display_data"
    },
    {
     "data": {
      "text/plain": [
       "<Figure size 640x480 with 0 Axes>"
      ]
     },
     "metadata": {},
     "output_type": "display_data"
    },
    {
     "data": {
      "text/plain": [
       "<Figure size 640x480 with 0 Axes>"
      ]
     },
     "metadata": {},
     "output_type": "display_data"
    },
    {
     "data": {
      "text/plain": [
       "<Figure size 640x480 with 0 Axes>"
      ]
     },
     "metadata": {},
     "output_type": "display_data"
    },
    {
     "data": {
      "text/plain": [
       "<Figure size 640x480 with 0 Axes>"
      ]
     },
     "metadata": {},
     "output_type": "display_data"
    },
    {
     "data": {
      "text/plain": [
       "<Figure size 640x480 with 0 Axes>"
      ]
     },
     "metadata": {},
     "output_type": "display_data"
    },
    {
     "data": {
      "text/plain": [
       "<Figure size 640x480 with 0 Axes>"
      ]
     },
     "metadata": {},
     "output_type": "display_data"
    },
    {
     "data": {
      "text/plain": [
       "<Figure size 640x480 with 0 Axes>"
      ]
     },
     "metadata": {},
     "output_type": "display_data"
    },
    {
     "data": {
      "text/plain": [
       "<Figure size 640x480 with 0 Axes>"
      ]
     },
     "metadata": {},
     "output_type": "display_data"
    },
    {
     "data": {
      "text/plain": [
       "<Figure size 640x480 with 0 Axes>"
      ]
     },
     "metadata": {},
     "output_type": "display_data"
    },
    {
     "data": {
      "text/plain": [
       "<Figure size 640x480 with 0 Axes>"
      ]
     },
     "metadata": {},
     "output_type": "display_data"
    },
    {
     "data": {
      "text/plain": [
       "<Figure size 640x480 with 0 Axes>"
      ]
     },
     "metadata": {},
     "output_type": "display_data"
    }
   ],
   "source": [
    "from tqdm import tqdm\n",
    "word2vec_len = 300\n",
    "input_size = 25\n",
    "datasets = ['cr'] \n",
    "num_classes_list = [2] \n",
    "layer_number = 4\n",
    "perplexity = [20,30,40,50,60]\n",
    "n_iter = [1000,2000,3000,4000,5000]\n",
    "\n",
    "for j in tqdm(perplexity):\n",
    "    for k in tqdm(n_iter):\n",
    "        tsne(layer_number,input_size,j,k)"
   ]
  },
  {
   "cell_type": "code",
   "execution_count": null,
   "metadata": {},
   "outputs": [],
   "source": []
  }
 ],
 "metadata": {
  "kernelspec": {
   "display_name": "Python 3.8.13 ('test')",
   "language": "python",
   "name": "python3"
  },
  "language_info": {
   "codemirror_mode": {
    "name": "ipython",
    "version": 3
   },
   "file_extension": ".py",
   "mimetype": "text/x-python",
   "name": "python",
   "nbconvert_exporter": "python",
   "pygments_lexer": "ipython3",
   "version": "3.8.13"
  },
  "orig_nbformat": 4,
  "vscode": {
   "interpreter": {
    "hash": "105d983fd7af724b4799aa016a3246070456ed2a0f153d4c18e29a0780e65f60"
   }
  }
 },
 "nbformat": 4,
 "nbformat_minor": 2
}
