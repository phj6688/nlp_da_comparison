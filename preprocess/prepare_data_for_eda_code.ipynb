{
 "cells": [
  {
   "cell_type": "code",
   "execution_count": 2,
   "metadata": {},
   "outputs": [],
   "source": [
    "import pandas as pd\n",
    "import numpy as np"
   ]
  },
  {
   "cell_type": "code",
   "execution_count": null,
   "metadata": {},
   "outputs": [],
   "source": [
    "txt_path = 'pc/train.txt'"
   ]
  },
  {
   "cell_type": "code",
   "execution_count": 6,
   "metadata": {},
   "outputs": [],
   "source": [
    "with open(txt_path,'r+') as f:    \n",
    "    lines = f.readlines()    \n",
    "    for line in lines:\n",
    "        if '\\t' not in line:\n",
    "            try:\n",
    "                line.replace(' ', '\\t',1)\n",
    "\n",
    "            except:\n",
    "                print('error')\n",
    "        # if len(line) == 0:\n",
    "        #     lines.remove(line)\n",
    "        #     print('error')\n",
    "        # print (line)\n",
    "        # if line[:-1].split('\\t')[1] == '':\n",
    "        #     lines.remove(line)\n",
    "        #     print('error remove')"
   ]
  },
  {
   "cell_type": "code",
   "execution_count": null,
   "metadata": {},
   "outputs": [],
   "source": []
  },
  {
   "cell_type": "code",
   "execution_count": 17,
   "metadata": {},
   "outputs": [],
   "source": [
    "vocab = set()\n",
    "try:\n",
    "    all_lines = open(txt_path, \"r\").readlines()\n",
    "    for line in all_lines:\n",
    "        words = line[:-1].split(' ')\n",
    "        for word in words:\n",
    "            vocab.add(word)\n",
    "except:\n",
    "    print(txt_path, \"has an error\")"
   ]
  },
  {
   "cell_type": "code",
   "execution_count": 4,
   "metadata": {},
   "outputs": [],
   "source": [
    "all_lines = open(txt_path, \"r\").readlines()"
   ]
  },
  {
   "cell_type": "code",
   "execution_count": null,
   "metadata": {},
   "outputs": [],
   "source": [
    "for count,line in enumerate(all_lines):\n",
    "    print(line)\n",
    "    print('len of line: ', len(line))\n",
    "    print('=====================')\n",
    "    print(line[:-1])\n",
    "    print('len of line[:-1]: ', len(line[:-1]))\n",
    "    print('=====================')\n",
    "    print(line[:-1].split(' '))\n",
    "    if count == 10:\n",
    "        break"
   ]
  },
  {
   "cell_type": "code",
   "execution_count": 6,
   "metadata": {},
   "outputs": [],
   "source": [
    "def generate_short(input_file, output_file, alpha):\n",
    "\tlines = open(input_file, 'r').readlines()\n",
    "\tincrement = int(len(lines)/alpha)\n",
    "\tlines = lines[::increment]\n",
    "\twriter = open(output_file, 'w')\n",
    "\tfor line in lines:\n",
    "\t\twriter.write(line)"
   ]
  },
  {
   "cell_type": "code",
   "execution_count": 7,
   "metadata": {},
   "outputs": [],
   "source": [
    "generate_short(txt_path, 'txt_for_test_pc/test_short.txt', 2)"
   ]
  },
  {
   "cell_type": "code",
   "execution_count": 7,
   "metadata": {},
   "outputs": [
    {
     "data": {
      "text/plain": [
       "['0\\tThe pluger gets stuck & you have to manually extract the mess.\\n',\n",
       " \"1\\tTwo: it has a removeable/rechargeable battery, so you don't have to send the thing in when the re!\\n\",\n",
       " \"1\\tOnce you set it up, it's great. \\n\",\n",
       " \"0\\ti 've tried leaving questions on their site never to have them answered . \\n\",\n",
       " '1\\tthis is my second creative labs mp3 player , and it is definitely a fine product . \\n',\n",
       " '1\\tthe best 4 megapixel/4x optical zoom camera available and fairly easy to use . \\n',\n",
       " '1\\tanother reason i got it is because you can put wma files on it . \\n',\n",
       " '1\\tIn short, the Nokia 6600 is an evolution but not a revolution.\\n',\n",
       " '1\\t The monitors were both good .\\n',\n",
       " '1\\ti would recommend this product to anyone . \\n',\n",
       " '0\\tthe zen xtra will transfer the files to the player , but not the folder name . \\n']"
      ]
     },
     "execution_count": 7,
     "metadata": {},
     "output_type": "execute_result"
    }
   ],
   "source": [
    "lines = open(txt_path, 'r').readlines()\n",
    "increment = int(len(lines)/10)\n",
    "lines[::increment]"
   ]
  },
  {
   "cell_type": "code",
   "execution_count": null,
   "metadata": {},
   "outputs": [],
   "source": []
  }
 ],
 "metadata": {
  "kernelspec": {
   "display_name": "Python 3.8.13 ('test')",
   "language": "python",
   "name": "python3"
  },
  "language_info": {
   "codemirror_mode": {
    "name": "ipython",
    "version": 3
   },
   "file_extension": ".py",
   "mimetype": "text/x-python",
   "name": "python",
   "nbconvert_exporter": "python",
   "pygments_lexer": "ipython3",
   "version": "3.8.13"
  },
  "orig_nbformat": 4,
  "vscode": {
   "interpreter": {
    "hash": "105d983fd7af724b4799aa016a3246070456ed2a0f153d4c18e29a0780e65f60"
   }
  }
 },
 "nbformat": 4,
 "nbformat_minor": 2
}
