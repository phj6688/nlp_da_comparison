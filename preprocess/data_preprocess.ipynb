{
 "cells": [
  {
   "cell_type": "code",
   "execution_count": 15,
   "metadata": {},
   "outputs": [],
   "source": [
    "import pandas as pd\n",
    "import numpy as np\n",
    "from sklearn.model_selection import train_test_split"
   ]
  },
  {
   "cell_type": "code",
   "execution_count": 21,
   "metadata": {},
   "outputs": [],
   "source": [
    "df_cardio = pd.read_csv('../data/cardio_dataset.csv')\n",
    "df_kaggle = pd.read_csv('../data/kaggle_med_dataset_preprocessed.csv')"
   ]
  },
  {
   "cell_type": "code",
   "execution_count": 22,
   "metadata": {},
   "outputs": [],
   "source": [
    "df_cardio = df_cardio[['class','text']]\n",
    "df_kaggle = df_kaggle[['class','text']]"
   ]
  },
  {
   "cell_type": "code",
   "execution_count": 23,
   "metadata": {},
   "outputs": [
    {
     "data": {
      "text/html": [
       "<div>\n",
       "<style scoped>\n",
       "    .dataframe tbody tr th:only-of-type {\n",
       "        vertical-align: middle;\n",
       "    }\n",
       "\n",
       "    .dataframe tbody tr th {\n",
       "        vertical-align: top;\n",
       "    }\n",
       "\n",
       "    .dataframe thead th {\n",
       "        text-align: right;\n",
       "    }\n",
       "</style>\n",
       "<table border=\"1\" class=\"dataframe\">\n",
       "  <thead>\n",
       "    <tr style=\"text-align: right;\">\n",
       "      <th></th>\n",
       "      <th>class</th>\n",
       "      <th>text</th>\n",
       "    </tr>\n",
       "  </thead>\n",
       "  <tbody>\n",
       "    <tr>\n",
       "      <th>0</th>\n",
       "      <td>0</td>\n",
       "      <td>A 23-year-old white female presents with comp...</td>\n",
       "    </tr>\n",
       "    <tr>\n",
       "      <th>1</th>\n",
       "      <td>2</td>\n",
       "      <td>Consult for laparoscopic gastric bypass.</td>\n",
       "    </tr>\n",
       "    <tr>\n",
       "      <th>2</th>\n",
       "      <td>2</td>\n",
       "      <td>Consult for laparoscopic gastric bypass.</td>\n",
       "    </tr>\n",
       "    <tr>\n",
       "      <th>3</th>\n",
       "      <td>2</td>\n",
       "      <td>Morbid obesity.  Laparoscopic antecolic anteg...</td>\n",
       "    </tr>\n",
       "    <tr>\n",
       "      <th>4</th>\n",
       "      <td>2</td>\n",
       "      <td>Liposuction of the supraumbilical abdomen, re...</td>\n",
       "    </tr>\n",
       "    <tr>\n",
       "      <th>...</th>\n",
       "      <td>...</td>\n",
       "      <td>...</td>\n",
       "    </tr>\n",
       "    <tr>\n",
       "      <th>4712</th>\n",
       "      <td>0</td>\n",
       "      <td>Patient having severe sinusitis about two to ...</td>\n",
       "    </tr>\n",
       "    <tr>\n",
       "      <th>4713</th>\n",
       "      <td>0</td>\n",
       "      <td>This is a 14-month-old baby boy Caucasian who...</td>\n",
       "    </tr>\n",
       "    <tr>\n",
       "      <th>4714</th>\n",
       "      <td>0</td>\n",
       "      <td>A female for a complete physical and follow u...</td>\n",
       "    </tr>\n",
       "    <tr>\n",
       "      <th>4715</th>\n",
       "      <td>0</td>\n",
       "      <td>Mother states he has been wheezing and coughing.</td>\n",
       "    </tr>\n",
       "    <tr>\n",
       "      <th>4716</th>\n",
       "      <td>0</td>\n",
       "      <td>Acute allergic reaction, etiology uncertain, ...</td>\n",
       "    </tr>\n",
       "  </tbody>\n",
       "</table>\n",
       "<p>4717 rows × 2 columns</p>\n",
       "</div>"
      ],
      "text/plain": [
       "      class                                               text\n",
       "0         0   A 23-year-old white female presents with comp...\n",
       "1         2           Consult for laparoscopic gastric bypass.\n",
       "2         2           Consult for laparoscopic gastric bypass.\n",
       "3         2   Morbid obesity.  Laparoscopic antecolic anteg...\n",
       "4         2   Liposuction of the supraumbilical abdomen, re...\n",
       "...     ...                                                ...\n",
       "4712      0   Patient having severe sinusitis about two to ...\n",
       "4713      0   This is a 14-month-old baby boy Caucasian who...\n",
       "4714      0   A female for a complete physical and follow u...\n",
       "4715      0   Mother states he has been wheezing and coughing.\n",
       "4716      0   Acute allergic reaction, etiology uncertain, ...\n",
       "\n",
       "[4717 rows x 2 columns]"
      ]
     },
     "execution_count": 23,
     "metadata": {},
     "output_type": "execute_result"
    }
   ],
   "source": [
    "df_kaggle"
   ]
  },
  {
   "cell_type": "code",
   "execution_count": 25,
   "metadata": {},
   "outputs": [],
   "source": [
    "np.savetxt('../data/cardio_dataset.txt', df_cardio.values,fmt='%s')\n",
    "np.savetxt('../data/kaggle_med_dataset_preprocessed.txt', df_kaggle.values,fmt='%s')"
   ]
  },
  {
   "cell_type": "code",
   "execution_count": 26,
   "metadata": {},
   "outputs": [],
   "source": [
    "cardio_train, cardio_test = train_test_split(df_cardio, test_size=0.1, random_state=2)\n",
    "kaggle_train, kaggle_test = train_test_split(df_kaggle, test_size=0.1, random_state=2)"
   ]
  },
  {
   "cell_type": "code",
   "execution_count": 27,
   "metadata": {},
   "outputs": [],
   "source": [
    "np.savetxt('../data/test/cardio/test.txt', cardio_test.values,fmt='%s')\n",
    "np.savetxt('../data/test/kaggle_med/test.txt', kaggle_test.values,fmt='%s')\n",
    "\n",
    "np.savetxt('../data/train/cardio/train.txt', cardio_train.values,fmt='%s')\n",
    "np.savetxt('../data/train/kaggle_med/train.txt', kaggle_train.values,fmt='%s')"
   ]
  },
  {
   "cell_type": "code",
   "execution_count": null,
   "metadata": {},
   "outputs": [],
   "source": []
  }
 ],
 "metadata": {
  "kernelspec": {
   "display_name": "Python 3.8.13 ('test')",
   "language": "python",
   "name": "python3"
  },
  "language_info": {
   "codemirror_mode": {
    "name": "ipython",
    "version": 3
   },
   "file_extension": ".py",
   "mimetype": "text/x-python",
   "name": "python",
   "nbconvert_exporter": "python",
   "pygments_lexer": "ipython3",
   "version": "3.8.13"
  },
  "orig_nbformat": 4,
  "vscode": {
   "interpreter": {
    "hash": "105d983fd7af724b4799aa016a3246070456ed2a0f153d4c18e29a0780e65f60"
   }
  }
 },
 "nbformat": 4,
 "nbformat_minor": 2
}
