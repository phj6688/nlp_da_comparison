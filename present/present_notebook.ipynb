{
 "cells": [
  {
   "cell_type": "code",
   "execution_count": null,
   "metadata": {},
   "outputs": [],
   "source": [
    "import pandas as pd\n",
    "import numpy as np"
   ]
  },
  {
   "cell_type": "code",
   "execution_count": null,
   "metadata": {},
   "outputs": [],
   "source": [
    "df = pd.read_csv('aug.csv')\n",
    "df = df[['class','text']]"
   ]
  },
  {
   "cell_type": "code",
   "execution_count": null,
   "metadata": {},
   "outputs": [],
   "source": [
    "np.savetxt('test_short_aug.txt', df.values,fmt='%s')"
   ]
  },
  {
   "cell_type": "code",
   "execution_count": null,
   "metadata": {},
   "outputs": [],
   "source": [
    "df"
   ]
  },
  {
   "cell_type": "code",
   "execution_count": null,
   "metadata": {},
   "outputs": [],
   "source": [
    "from tqdm import tqdm\n",
    "import numpy as np\n",
    "embedding_vector = {}\n",
    "f = open('eda_code/glove.840B.300d.txt')\n",
    "for line in tqdm(f):\n",
    "    value = line.split(' ')\n",
    "    word = value[0]\n",
    "    coef = np.array(value[1:],dtype = 'float32')\n",
    "    embedding_vector[word] = coef\n",
    "f.close()\n",
    "    "
   ]
  },
  {
   "cell_type": "code",
   "execution_count": null,
   "metadata": {},
   "outputs": [],
   "source": [
    "for count,(key,value) in enumerate(embedding_vector.items()):\n",
    "    while count <1 :\n",
    "        print(key,value)"
   ]
  },
  {
   "cell_type": "code",
   "execution_count": null,
   "metadata": {},
   "outputs": [],
   "source": [
    "def load_data(path):\n",
    "    \"\"\"\n",
    "    Loads data from a txt file.\n",
    "    \"\"\"\n",
    "    # check file format\n",
    "    if path.endswith('.txt'):\n",
    "        df = pd.read_csv(path, sep='|', header=None, names=['text'])\n",
    "        try:\n",
    "            df['class'] = df['text'].apply(lambda x: x.split('\\t')[0])\n",
    "            df['text'] = df['text'].apply(lambda x: x.split('\\t')[1])\n",
    "        except:\n",
    "            df['class'] = df['text'].apply(lambda x: x.split(' ',1)[0])\n",
    "            df['text'] = df['text'].apply(lambda x: x.split(' ',1)[1])\n",
    "\n",
    "        df = df[['class', 'text']]\n",
    "        return df\n",
    "    else:\n",
    "        raise ValueError('File format not supported.')"
   ]
  },
  {
   "cell_type": "code",
   "execution_count": null,
   "metadata": {},
   "outputs": [],
   "source": [
    "def func(text_list,word2vec_file):\n",
    "    for word in text_list:\n",
    "        if word in word2vec_file:\n",
    "            return np.asarray(word2vec_file[word])\n",
    "        else:\n",
    "            return np.zeros(300,dtype='float32')"
   ]
  },
  {
   "cell_type": "code",
   "execution_count": null,
   "metadata": {},
   "outputs": [],
   "source": [
    "from nltk.tokenize import word_tokenize\n",
    "from nltk.corpus import stopwords\n",
    "import pandas as pd\n",
    "import pickle\n",
    "\n",
    "\n",
    "\n",
    "train_txt = 'txt_for_test/train.txt'\n",
    "test_txt = 'txt_for_test/test.txt'\n",
    "percent_dataset = 1\n",
    "word2vec_len = 300\n",
    "input_size = 25\n",
    "num_classes = 2\n",
    "word2vec_file = pickle.load(open('/home/peyman/nlp_da_comparison/codes/cr/word2vec.p', 'rb'))\n",
    "\n",
    "\n",
    "\n",
    "file_path = train_txt\n",
    "df = load_data(file_path)\n",
    "df = df.sample(frac=percent_dataset)\n",
    "stop_words = set(stopwords.words('english'))\n",
    "df['text'] = df['text'].apply(lambda x: x.lower())\n",
    "df['text'] = [word_tokenize(i) for i in df['text']]\n",
    "df['text'] = df['text'].apply(lambda x: [item for item in x if item not in stop_words])\n",
    "#filt = lambda x: [np.asarray(word2vec_file[x]) for x in x if x in word2vec_file ] \n",
    "df['text'] = df['text'].apply(func,word2vec_file=word2vec_file)\n",
    "#df['text'] = df['text'].apply(lambda x: np.asarray(x, dtype=float))\n",
    "num_lines = len(df)\n",
    "\n",
    "x_matrix = None\n",
    "y_matrix = None\n",
    "\n",
    "try:\n",
    "    x_matrix = np.zeros((num_lines, input_size, word2vec_len))\n",
    "except:\n",
    "    print(\"Error!\", num_lines, input_size, word2vec_len)\n",
    "y_matrix = np.zeros((num_lines, num_classes))\n",
    "\n"
   ]
  },
  {
   "cell_type": "code",
   "execution_count": null,
   "metadata": {},
   "outputs": [],
   "source": []
  },
  {
   "cell_type": "code",
   "execution_count": null,
   "metadata": {},
   "outputs": [],
   "source": [
    "count = 0\n",
    "for i in range(len(df)):\n",
    "    if len(df['text'][i]) > input_size:\n",
    "        #x_matrix[i] = df['text'][i][:input_size]\n",
    "        print(df['text'][i])\n",
    "        count += 1\n",
    "print(count)"
   ]
  },
  {
   "cell_type": "code",
   "execution_count": null,
   "metadata": {},
   "outputs": [],
   "source": [
    "print(len(df.iloc[1]['text'][0]))\n",
    "print(df.iloc[1]['text'])"
   ]
  },
  {
   "cell_type": "code",
   "execution_count": null,
   "metadata": {},
   "outputs": [],
   "source": [
    "x_matrix.shape"
   ]
  },
  {
   "cell_type": "code",
   "execution_count": null,
   "metadata": {},
   "outputs": [],
   "source": [
    "import pandas as pd\n",
    "from nltk.tokenize import word_tokenize\n",
    "import numpy as np\n",
    "def gen_vocab_for_dataset(folder_path):\n",
    "    path = folder_path\n",
    "    \n",
    "    df = load_data(file_path)\n",
    "    raw_text = list(df['text'])\n",
    "    # bulid the vocab\n",
    "    vocab = set()\n",
    "    word2vec = {}\n",
    "#todo : define the matrix"
   ]
  },
  {
   "cell_type": "code",
   "execution_count": null,
   "metadata": {},
   "outputs": [],
   "source": [
    "new_df = df.values\n",
    "# df['text'] = [df['text'][i] for i if len(df['text'][i]) >= input_size]"
   ]
  },
  {
   "cell_type": "code",
   "execution_count": null,
   "metadata": {},
   "outputs": [],
   "source": [
    "for i , row in enumerate(df['text']):\n",
    "    if len(row) < input_size:\n",
    "        new_df[i][1] = None"
   ]
  },
  {
   "cell_type": "code",
   "execution_count": null,
   "metadata": {},
   "outputs": [],
   "source": [
    "len(new_df[0][1])"
   ]
  },
  {
   "cell_type": "code",
   "execution_count": null,
   "metadata": {},
   "outputs": [],
   "source": []
  },
  {
   "cell_type": "code",
   "execution_count": null,
   "metadata": {},
   "outputs": [],
   "source": []
  },
  {
   "cell_type": "code",
   "execution_count": null,
   "metadata": {},
   "outputs": [],
   "source": []
  },
  {
   "cell_type": "code",
   "execution_count": null,
   "metadata": {},
   "outputs": [],
   "source": [
    "from nltk.stem import LancasterStemmer, WordNetLemmatizer, PorterStemmer\n",
    "\n",
    "def try_stem(word):\n",
    "    ps = PorterStemmer()\n",
    "    ls = LancasterStemmer()\n",
    "    wn = WordNetLemmatizer()\n",
    "    if ps.stem(word) in embedding_vector:\n",
    "        return ps.stem(word)\n",
    "    elif ls.stem(word) in embedding_vector:\n",
    "        return ls.stem(word)\n",
    "    elif wn.lemmatize(word) in embedding_vector:\n",
    "        return wn.lemmatize(word)\n",
    "    else:\n",
    "        return np.zeros(300)"
   ]
  },
  {
   "cell_type": "code",
   "execution_count": null,
   "metadata": {},
   "outputs": [],
   "source": [
    "import pandas as pd\n",
    "from nltk.tokenize import word_tokenize\n",
    "from nltk.stem import LancasterStemmer\n",
    "import numpy as np\n",
    "\n",
    "\n",
    "ps = LancasterStemmer()\n",
    "path = 'txt_for_test'\n",
    "test_file_path = path + '/test.txt'\n",
    "train_file_path = path + '/train.txt'\n",
    "df_train = load_data(train_file_path)\n",
    "df_test = load_data(test_file_path)\n",
    "raw_text = list(df_train['text'].apply(lambda x: x.lower())) + list(df_test['text'].apply(lambda x: x.lower()))\n",
    "# bulid the vocab\n",
    "vocab = set()\n",
    "word2vec = {}\n",
    "\n",
    "for text in raw_text:\n",
    "    for word in word_tokenize(text):\n",
    "        vocab.add(word)\n",
    "        if word not in word2vec:\n",
    "            try:\n",
    "                word2vec[word] = np.asarray(embedding_vector[word], dtype = 'float32')\n",
    "            except:\n",
    "                word2vec[word] = try_stem(word)\n",
    "        else:\n",
    "            pass\n",
    "\n",
    "\n",
    "\n",
    "\n",
    "\n",
    "\n",
    "\n",
    "\n",
    "\n",
    "\n",
    "\n",
    "\n",
    "# for text in raw_text:\n",
    "#     for word in word_tokenize(text):\n",
    "#         vocab.add(word)\n",
    "#         if word not in word2vec:\n",
    "#             try:\n",
    "#                 word2vec[word] = np.asarray(embedding_vector[word], dtype = 'float32')\n",
    "#             except Exception as e:\n",
    "#                 try:\n",
    "#                     word = ps.stem(word)\n",
    "#                     word2vec[word] = np.asarray(embedding_vector[word], dtype = 'float32')\n",
    "#                 except Exception as e:\n",
    "#                     word2vec[word] = np.zeros(300)\n",
    "#         else:\n",
    "#             pass"
   ]
  },
  {
   "cell_type": "code",
   "execution_count": null,
   "metadata": {},
   "outputs": [],
   "source": [
    "print(len(word2vec))\n",
    "print(len(vocab))"
   ]
  },
  {
   "cell_type": "code",
   "execution_count": null,
   "metadata": {},
   "outputs": [],
   "source": [
    "#ps.stem('pluger')\n",
    "from nltk.stem import WordNetLemmatizer, LancasterStemmer, PorterStemmer\n",
    "stemmer = LancasterStemmer()\n",
    "lemmatizer = WordNetLemmatizer()\n",
    "ps = PorterStemmer()\n",
    "#lemmatizer.lemmatize('malasyia')\n",
    "#stemmer.stem('pluger')\n",
    "ps.stem('malasyia')"
   ]
  },
  {
   "cell_type": "code",
   "execution_count": null,
   "metadata": {},
   "outputs": [],
   "source": [
    "embedding_vector['plug'].shape"
   ]
  },
  {
   "cell_type": "code",
   "execution_count": null,
   "metadata": {},
   "outputs": [],
   "source": [
    "text_embeddings = open('eda_code/glove.840B.300d.txt', 'r').readlines()"
   ]
  },
  {
   "cell_type": "code",
   "execution_count": null,
   "metadata": {},
   "outputs": [],
   "source": [
    "vocab = 'the pluger gets stuck & you have to manually extract the mess.'.split()\n",
    "import numpy as np\n",
    "for line in text_embeddings:\n",
    "        items = line.split(' ')\n",
    "        word = items[0]\n",
    "        if word in vocab:\n",
    "            vec = items[1:]\n",
    "            word2vec[word] = np.asarray(vec, dtype = 'float32')\n",
    "print(len(word2vec), \"matches between unique words and word2vec dictionary\")"
   ]
  },
  {
   "cell_type": "code",
   "execution_count": null,
   "metadata": {},
   "outputs": [],
   "source": [
    "word2vec.keys()"
   ]
  },
  {
   "cell_type": "code",
   "execution_count": null,
   "metadata": {},
   "outputs": [],
   "source": []
  },
  {
   "cell_type": "code",
   "execution_count": null,
   "metadata": {},
   "outputs": [],
   "source": []
  },
  {
   "cell_type": "code",
   "execution_count": null,
   "metadata": {},
   "outputs": [],
   "source": [
    "\n",
    "\n",
    "vocab = set()\n",
    "text_embeddings = open('eda_code/glove.840B.300d.txt', 'r').readlines()\n",
    "word2vec = {}\n",
    "\n",
    "\n",
    "\n",
    "# get all the words\n",
    "try:\n",
    "    \n",
    "    for line in raw_text:\n",
    "        words = line[:-1].split(' ')\n",
    "        for word in words:\n",
    "            vocab.add(word)\n",
    "except:\n",
    "    print(line,\"has an error\")\n",
    "\n",
    "print(len(vocab), \"unique words found\")\n",
    "\n",
    "# load the word embeddings, and only add the word to the dictionary if we need it\n",
    "for line in text_embeddings:\n",
    "    items = line.split(' ')\n",
    "    word = items[0]\n",
    "    if word in vocab:\n",
    "        vec = items[1:]\n",
    "        word2vec[word] = np.asarray(vec, dtype = 'float32')\n",
    "print(len(word2vec), \"matches between unique words and word2vec dictionary\")"
   ]
  },
  {
   "cell_type": "code",
   "execution_count": null,
   "metadata": {},
   "outputs": [],
   "source": [
    "word2vec.keys()"
   ]
  },
  {
   "cell_type": "code",
   "execution_count": null,
   "metadata": {},
   "outputs": [],
   "source": [
    "import os\n",
    "type(os.getcwd())"
   ]
  },
  {
   "cell_type": "code",
   "execution_count": null,
   "metadata": {},
   "outputs": [],
   "source": [
    "from keras.layers.core import Dense, Activation, Dropout\n",
    "from keras.layers import LSTM\n",
    "from keras.layers import Bidirectional\n",
    "import keras.layers as layers\n",
    "from keras.models import Sequential\n",
    "import os\n",
    "from random import shuffle\n",
    "import numpy as np\n",
    "import tqdm\n",
    "import pickle\n",
    "import snoop\n",
    "os.environ['TF_CPP_MIN_LOG_LEVEL'] = '3' #get rid of warnings\n",
    "\n",
    "\n",
    "#building the model in keras\n",
    "def build_model(sentence_length, word2vec_len, num_classes):\n",
    "    model = None\n",
    "    model = Sequential()\n",
    "    model.add(Bidirectional(LSTM(64, return_sequences=True), input_shape=(sentence_length, word2vec_len)))\n",
    "    model.add(Dropout(0.5))\n",
    "    model.add(Bidirectional(LSTM(32, return_sequences=False)))\n",
    "    model.add(Dropout(0.5))\n",
    "    model.add(Dense(20, activation='relu'))\n",
    "    model.add(Dense(num_classes, kernel_initializer='normal', activation='softmax'))\n",
    "    model.compile(loss='categorical_crossentropy', optimizer='adam', metrics=['accuracy'])\n",
    "    #print(model.summary())\n",
    "    return model"
   ]
  },
  {
   "cell_type": "code",
   "execution_count": null,
   "metadata": {},
   "outputs": [],
   "source": [
    "train_txt = 'txt_for_test/train.txt'\n",
    "test_txt = 'txt_for_test/test.txt'\n",
    "percent_dataset = 1\n",
    "word2vec_len = 300\n",
    "input_size = 25\n",
    "num_classes = 2\n",
    "word2vec_file = pickle.load(open('/home/peyman/nlp_da_comparison/codes/cr/word2vec.p', 'rb'))\n",
    "\n"
   ]
  },
  {
   "cell_type": "code",
   "execution_count": null,
   "metadata": {},
   "outputs": [],
   "source": [
    "\n",
    "def get_x_y_matrix(input_raw, num_classes, word2vec_len, input_size, word2vec_file,percentage):\n",
    "    input_lines = open(input_raw, 'r').readlines()\n",
    "    shuffle(input_lines)\n",
    "    input_lines = input_lines[:int(percentage*len(input_lines))]\n",
    "    num_lines = len(input_lines)\n",
    "\n",
    "    #initialize x and y matrix\n",
    "    x_matrix = None\n",
    "    y_matrix = None\n",
    "\n",
    "    try:\n",
    "        x_matrix = np.zeros((num_lines, input_size, word2vec_len))\n",
    "    except:\n",
    "        print(\"Error!\", num_lines, input_size, word2vec_len)\n",
    "    y_matrix = np.zeros((num_lines, num_classes))\n",
    "\n",
    "\n",
    "    #insert values\n",
    "    for i, line in enumerate(input_lines):\n",
    "        #print(line)\n",
    "        try:\n",
    "            parts = line[:-1].split('\\t')\n",
    "            label = int(parts[0])\n",
    "            sentence = parts[1]\n",
    "        except Exception as e:\n",
    "            parts = line[:-1].split(' ',1)\n",
    "            label = int(parts[0])\n",
    "            sentence = parts[1]        \t\n",
    "\n",
    "        #insert x\n",
    "        words = sentence.split(' ')\n",
    "        words = words[:x_matrix.shape[1]] #cut off if too long\n",
    "        for j, word in enumerate(words):\n",
    "            if word in word2vec_file:\n",
    "                x_matrix[i, j, :] = word2vec_file[word]\n",
    "\n",
    "        #insert y\n",
    "        y_matrix[i][label] = 1.0\n",
    "\n",
    "    return x_matrix, y_matrix"
   ]
  },
  {
   "cell_type": "code",
   "execution_count": null,
   "metadata": {},
   "outputs": [],
   "source": [
    "train_x, train_y = get_x_y_matrix(train_txt, num_classes, word2vec_len, input_size, word2vec_file,percent_dataset)\n",
    "test_x, test_y = get_x_y_matrix(test_txt, num_classes, word2vec_len, input_size, word2vec_file,percent_dataset)"
   ]
  },
  {
   "cell_type": "code",
   "execution_count": null,
   "metadata": {},
   "outputs": [],
   "source": []
  },
  {
   "cell_type": "code",
   "execution_count": null,
   "metadata": {},
   "outputs": [],
   "source": []
  },
  {
   "cell_type": "code",
   "execution_count": null,
   "metadata": {},
   "outputs": [],
   "source": []
  },
  {
   "cell_type": "code",
   "execution_count": null,
   "metadata": {},
   "outputs": [],
   "source": []
  },
  {
   "cell_type": "code",
   "execution_count": null,
   "metadata": {},
   "outputs": [],
   "source": [
    "# Easy data augmentation techniques for text classification\n",
    "# Jason Wei, Chengyu Huang, Yifang Wei, Fei Xing, Kai Zou\n",
    "\n",
    "import random\n",
    "from random import shuffle\n",
    "random.seed(1)\n",
    "\n",
    "#stop words list\n",
    "stop_words = ['i', 'me', 'my', 'myself', 'we', 'our', \n",
    "\t\t\t'ours', 'ourselves', 'you', 'your', 'yours', \n",
    "\t\t\t'yourself', 'yourselves', 'he', 'him', 'his', \n",
    "\t\t\t'himself', 'she', 'her', 'hers', 'herself', \n",
    "\t\t\t'it', 'its', 'itself', 'they', 'them', 'their', \n",
    "\t\t\t'theirs', 'themselves', 'what', 'which', 'who', \n",
    "\t\t\t'whom', 'this', 'that', 'these', 'those', 'am', \n",
    "\t\t\t'is', 'are', 'was', 'were', 'be', 'been', 'being', \n",
    "\t\t\t'have', 'has', 'had', 'having', 'do', 'does', 'did',\n",
    "\t\t\t'doing', 'a', 'an', 'the', 'and', 'but', 'if', 'or',\n",
    "\t\t\t'because', 'as', 'until', 'while', 'of', 'at', \n",
    "\t\t\t'by', 'for', 'with', 'about', 'against', 'between',\n",
    "\t\t\t'into', 'through', 'during', 'before', 'after', \n",
    "\t\t\t'above', 'below', 'to', 'from', 'up', 'down', 'in',\n",
    "\t\t\t'out', 'on', 'off', 'over', 'under', 'again', \n",
    "\t\t\t'further', 'then', 'once', 'here', 'there', 'when', \n",
    "\t\t\t'where', 'why', 'how', 'all', 'any', 'both', 'each', \n",
    "\t\t\t'few', 'more', 'most', 'other', 'some', 'such', 'no', \n",
    "\t\t\t'nor', 'not', 'only', 'own', 'same', 'so', 'than', 'too', \n",
    "\t\t\t'very', 's', 't', 'can', 'will', 'just', 'don', \n",
    "\t\t\t'should', 'now', '']\n",
    "\n",
    "#cleaning up text\n",
    "import re\n",
    "def get_only_chars(line):\n",
    "\n",
    "    clean_line = \"\"\n",
    "\n",
    "    line = line.replace(\"’\", \"\")\n",
    "    line = line.replace(\"'\", \"\")\n",
    "    line = line.replace(\"-\", \" \") #replace hyphens with spaces\n",
    "    line = line.replace(\"\\t\", \" \")\n",
    "    line = line.replace(\"\\n\", \" \")\n",
    "    line = line.lower()\n",
    "\n",
    "    for char in line:\n",
    "        if char in 'qwertyuiopasdfghjklzxcvbnm ':\n",
    "            clean_line += char\n",
    "        else:\n",
    "            clean_line += ' '\n",
    "\n",
    "    clean_line = re.sub(' +',' ',clean_line) #delete extra spaces\n",
    "    if clean_line[0] == ' ':\n",
    "        clean_line = clean_line[1:]\n",
    "    return clean_line\n",
    "\n",
    "########################################################################\n",
    "# Synonym replacement\n",
    "# Replace n words in the sentence with synonyms from wordnet\n",
    "########################################################################\n",
    "\n",
    "#for the first time you use wordnet\n",
    "#import nltk\n",
    "#nltk.download('wordnet')\n",
    "from nltk.corpus import wordnet \n",
    "\n",
    "def synonym_replacement(words, n):\n",
    "\tnew_words = words.copy()\n",
    "\trandom_word_list = list(set([word for word in words if word not in stop_words]))\n",
    "\trandom.shuffle(random_word_list)\n",
    "\tnum_replaced = 0\n",
    "\tfor random_word in random_word_list:\n",
    "\t\tsynonyms = get_synonyms(random_word)\n",
    "\t\tif len(synonyms) >= 1:\n",
    "\t\t\tsynonym = random.choice(list(synonyms))\n",
    "\t\t\tnew_words = [synonym if word == random_word else word for word in new_words]\n",
    "\t\t\t#print(\"replaced\", random_word, \"with\", synonym)\n",
    "\t\t\tnum_replaced += 1\n",
    "\t\tif num_replaced >= n: #only replace up to n words\n",
    "\t\t\tbreak\n",
    "\n",
    "\t#this is stupid but we need it, trust me\n",
    "\tsentence = ' '.join(new_words)\n",
    "\tnew_words = sentence.split(' ')\n",
    "\n",
    "\treturn new_words\n",
    "\n",
    "def get_synonyms(word):\n",
    "\tsynonyms = set()\n",
    "\tfor syn in wordnet.synsets(word): \n",
    "\t\tfor l in syn.lemmas(): \n",
    "\t\t\tsynonym = l.name().replace(\"_\", \" \").replace(\"-\", \" \").lower()\n",
    "\t\t\tsynonym = \"\".join([char for char in synonym if char in ' qwertyuiopasdfghjklzxcvbnm'])\n",
    "\t\t\tsynonyms.add(synonym) \n",
    "\tif word in synonyms:\n",
    "\t\tsynonyms.remove(word)\n",
    "\treturn list(synonyms)\n",
    "\n",
    "########################################################################\n",
    "# Random deletion\n",
    "# Randomly delete words from the sentence with probability p\n",
    "########################################################################\n",
    "\n",
    "def random_deletion(words, p):\n",
    "\n",
    "\t#obviously, if there's only one word, don't delete it\n",
    "\tif len(words) == 1:\n",
    "\t\treturn words\n",
    "\n",
    "\t#randomly delete words with probability p\n",
    "\tnew_words = []\n",
    "\tfor word in words:\n",
    "\t\tr = random.uniform(0, 1)\n",
    "\t\tif r > p:\n",
    "\t\t\tnew_words.append(word)\n",
    "\n",
    "\t#if you end up deleting all words, just return a random word\n",
    "\tif len(new_words) == 0:\n",
    "\t\trand_int = random.randint(0, len(words)-1)\n",
    "\t\treturn [words[rand_int]]\n",
    "\n",
    "\treturn new_words\n",
    "\n",
    "########################################################################\n",
    "# Random swap\n",
    "# Randomly swap two words in the sentence n times\n",
    "########################################################################\n",
    "\n",
    "def random_swap(words, n):\n",
    "\tnew_words = words.copy()\n",
    "\tfor _ in range(n):\n",
    "\t\tnew_words = swap_word(new_words)\n",
    "\treturn new_words\n",
    "\n",
    "def swap_word(new_words):\n",
    "\trandom_idx_1 = random.randint(0, len(new_words)-1)\n",
    "\trandom_idx_2 = random_idx_1\n",
    "\tcounter = 0\n",
    "\twhile random_idx_2 == random_idx_1:\n",
    "\t\trandom_idx_2 = random.randint(0, len(new_words)-1)\n",
    "\t\tcounter += 1\n",
    "\t\tif counter > 3:\n",
    "\t\t\treturn new_words\n",
    "\tnew_words[random_idx_1], new_words[random_idx_2] = new_words[random_idx_2], new_words[random_idx_1] \n",
    "\treturn new_words\n",
    "\n",
    "########################################################################\n",
    "# Random addition\n",
    "# Randomly add n words into the sentence\n",
    "########################################################################\n",
    "\n",
    "def random_addition(words, n):\n",
    "\tnew_words = words.copy()\n",
    "\tfor _ in range(n):\n",
    "\t\tadd_word(new_words)\n",
    "\treturn new_words\n",
    "\n",
    "def add_word(new_words):\n",
    "\tsynonyms = []\n",
    "\tcounter = 0\n",
    "\twhile len(synonyms) < 1:\n",
    "\t\trandom_word = new_words[random.randint(0, len(new_words)-1)]\n",
    "\t\tsynonyms = get_synonyms(random_word)\n",
    "\t\tcounter += 1\n",
    "\t\tif counter >= 10:\n",
    "\t\t\treturn\n",
    "\trandom_synonym = synonyms[0]\n",
    "\trandom_idx = random.randint(0, len(new_words)-1)\n",
    "\tnew_words.insert(random_idx, random_synonym)\n",
    "\n",
    "########################################################################\n",
    "# main data augmentation function\n",
    "########################################################################\n",
    "\n",
    "def eda_4(sentence, alpha_sr=0.3, alpha_ri=0.2, alpha_rs=0.1, p_rd=0.15, num_aug=9):\n",
    "\t\n",
    "\tsentence = get_only_chars(sentence)\n",
    "\twords = sentence.split(' ')\n",
    "\twords = [word for word in words if word is not '']\n",
    "\tnum_words = len(words)\n",
    "\t\n",
    "\taugmented_sentences = []\n",
    "\tnum_new_per_technique = int(num_aug/4)+1\n",
    "\tn_sr = max(1, int(alpha_sr*num_words))\n",
    "\tn_ri = max(1, int(alpha_ri*num_words))\n",
    "\tn_rs = max(1, int(alpha_rs*num_words))\n",
    "\n",
    "\t#sr\n",
    "\tfor _ in range(num_new_per_technique):\n",
    "\t\ta_words = synonym_replacement(words, n_sr)\n",
    "\t\taugmented_sentences.append(' '.join(a_words))\n",
    "\n",
    "\t#ri\n",
    "\tfor _ in range(num_new_per_technique):\n",
    "\t\ta_words = random_addition(words, n_ri)\n",
    "\t\taugmented_sentences.append(' '.join(a_words))\n",
    "\n",
    "\t#rs\n",
    "\tfor _ in range(num_new_per_technique):\n",
    "\t\ta_words = random_swap(words, n_rs)\n",
    "\t\taugmented_sentences.append(' '.join(a_words))\n",
    "\n",
    "\t#rd\n",
    "\tfor _ in range(num_new_per_technique):\n",
    "\t\ta_words = random_deletion(words, p_rd)\n",
    "\t\taugmented_sentences.append(' '.join(a_words))\n",
    "\n",
    "\taugmented_sentences = [get_only_chars(sentence) for sentence in augmented_sentences]\n",
    "\tshuffle(augmented_sentences)\n",
    "\n",
    "\t#trim so that we have the desired number of augmented sentences\n",
    "\tif num_aug >= 1:\n",
    "\t\taugmented_sentences = augmented_sentences[:num_aug]\n",
    "\telse:\n",
    "\t\tkeep_prob = num_aug / len(augmented_sentences)\n",
    "\t\taugmented_sentences = [s for s in augmented_sentences if random.uniform(0, 1) < keep_prob]\n",
    "\n",
    "\t#append the original sentence\n",
    "\taugmented_sentences.append(sentence)\n",
    "\n",
    "\treturn augmented_sentences\n",
    "\n",
    "def SR(sentence, alpha_sr, n_aug=9):\n",
    "\n",
    "\tsentence = get_only_chars(sentence)\n",
    "\twords = sentence.split(' ')\n",
    "\tnum_words = len(words)\n",
    "\n",
    "\taugmented_sentences = []\n",
    "\tn_sr = max(1, int(alpha_sr*num_words))\n",
    "\n",
    "\tfor _ in range(n_aug):\n",
    "\t\ta_words = synonym_replacement(words, n_sr)\n",
    "\t\taugmented_sentences.append(' '.join(a_words))\n",
    "\n",
    "\taugmented_sentences = [get_only_chars(sentence) for sentence in augmented_sentences]\n",
    "\tshuffle(augmented_sentences)\n",
    "\n",
    "\taugmented_sentences.append(sentence)\n",
    "\n",
    "\treturn augmented_sentences\n",
    "\n",
    "def RI(sentence, alpha_ri, n_aug=9):\n",
    "\n",
    "\tsentence = get_only_chars(sentence)\n",
    "\twords = sentence.split(' ')\n",
    "\tnum_words = len(words)\n",
    "\n",
    "\taugmented_sentences = []\n",
    "\tn_ri = max(1, int(alpha_ri*num_words))\n",
    "\n",
    "\tfor _ in range(n_aug):\n",
    "\t\ta_words = random_addition(words, n_ri)\n",
    "\t\taugmented_sentences.append(' '.join(a_words))\n",
    "\n",
    "\taugmented_sentences = [get_only_chars(sentence) for sentence in augmented_sentences]\n",
    "\tshuffle(augmented_sentences)\n",
    "\n",
    "\taugmented_sentences.append(sentence)\n",
    "\n",
    "\treturn augmented_sentences\n",
    "\n",
    "def RS(sentence, alpha_rs, n_aug=9):\n",
    "\n",
    "\tsentence = get_only_chars(sentence)\n",
    "\twords = sentence.split(' ')\n",
    "\tnum_words = len(words)\n",
    "\n",
    "\taugmented_sentences = []\n",
    "\tn_rs = max(1, int(alpha_rs*num_words))\n",
    "\n",
    "\tfor _ in range(n_aug):\n",
    "\t\ta_words = random_swap(words, n_rs)\n",
    "\t\taugmented_sentences.append(' '.join(a_words))\n",
    "\n",
    "\taugmented_sentences = [get_only_chars(sentence) for sentence in augmented_sentences]\n",
    "\tshuffle(augmented_sentences)\n",
    "\n",
    "\taugmented_sentences.append(sentence)\n",
    "\n",
    "\treturn augmented_sentences\n",
    "\n",
    "def RD(sentence, alpha_rd, n_aug=9):\n",
    "\n",
    "\tsentence = get_only_chars(sentence)\n",
    "\twords = sentence.split(' ')\n",
    "\twords = [word for word in words if word is not '']\n",
    "\tnum_words = len(words)\n",
    "\n",
    "\taugmented_sentences = []\n",
    "\n",
    "\tfor _ in range(n_aug):\n",
    "\t\ta_words = random_deletion(words, alpha_rd)\n",
    "\t\taugmented_sentences.append(' '.join(a_words))\n",
    "\n",
    "\taugmented_sentences = [get_only_chars(sentence) for sentence in augmented_sentences]\n",
    "\tshuffle(augmented_sentences)\n",
    "\n",
    "\taugmented_sentences.append(sentence)\n",
    "\n",
    "\treturn augmented_sentences\n",
    "\n",
    "\n",
    "\n",
    "\n",
    "\n",
    "\n",
    "\n",
    "\n",
    "\n",
    "\n",
    "\n",
    "\n",
    "\n",
    "\n",
    "\n",
    "\n",
    "\n",
    "\n",
    "\n",
    "\n",
    "########################################################################\n",
    "# Testing\n",
    "########################################################################\n",
    "\n",
    "if __name__ == '__main__':\n",
    "\n",
    "\tline = 'Hi. My name is Jason. I’m a third-year computer science major at Dartmouth College, interested in deep learning and computer vision. My advisor is Saeed Hassanpour. I’m currently working on deep learning for lung cancer classification.'\n",
    "\n",
    "\n",
    "\n",
    "########################################################################\n",
    "# Sliding window\n",
    "# Slide a window of size w over the sentence with stride s\n",
    "# Returns a list of lists of words\n",
    "########################################################################\n",
    "\n",
    "# def sliding_window_sentences(words, w, s):\n",
    "# \twindows = []\n",
    "# \tfor i in range(0, len(words)-w+1, s):\n",
    "# \t\twindow = words[i:i+w]\n",
    "# \t\twindows.append(window)\n",
    "# \treturn windows\n",
    "\n",
    "\n",
    "\n",
    "\n"
   ]
  },
  {
   "cell_type": "code",
   "execution_count": null,
   "metadata": {},
   "outputs": [],
   "source": [
    "from keras.layers.core import Dense, Activation, Dropout\n",
    "from keras.layers import LSTM\n",
    "from keras.layers import Bidirectional\n",
    "import keras.layers as layers\n",
    "from keras.models import Sequential\n",
    "from keras.models import load_model\n",
    "from keras.callbacks import EarlyStopping\n",
    "\n",
    "from sklearn.utils import shuffle\n",
    "from sklearn.metrics import accuracy_score\n",
    "\n",
    "import math\n",
    "import time\n",
    "import numpy as np\n",
    "import random\n",
    "from random import randint\n",
    "random.seed(3)\n",
    "import datetime, re, operator\n",
    "from random import shuffle\n",
    "from time import gmtime, strftime\n",
    "import gc\n",
    "\n",
    "import os\n",
    "os.environ['TF_CPP_MIN_LOG_LEVEL'] = '3' #get rid of warnings\n",
    "from os import listdir\n",
    "from os.path import isfile, join, isdir\n",
    "import pickle\n",
    "\n",
    "#import data augmentation methods\n",
    "\n",
    "\n",
    "###################################################\n",
    "######### loading folders and txt files ###########\n",
    "###################################################\n",
    "\n",
    "#loading a pickle file\n",
    "def load_pickle(file):\n",
    "    return pickle.load(open(file, 'rb'))\n",
    "\n",
    "#create an output folder if it does not already exist\n",
    "def confirm_output_folder(output_folder):\n",
    "    if not os.path.exists(output_folder):\n",
    "        os.makedirs(output_folder)\n",
    "\n",
    "#get full image paths\n",
    "def get_txt_paths(folder):\n",
    "    txt_paths = [join(folder, f) for f in listdir(folder) if isfile(join(folder, f)) and '.txt' in f]\n",
    "    if join(folder, '.DS_Store') in txt_paths:\n",
    "        txt_paths.remove(join(folder, '.DS_Store'))\n",
    "    txt_paths = sorted(txt_paths)\n",
    "    return txt_paths\n",
    "\n",
    "#get subfolders\n",
    "def get_subfolder_paths(folder):\n",
    "    subfolder_paths = [join(folder, f) for f in listdir(folder) if (isdir(join(folder, f)) and '.DS_Store' not in f)]\n",
    "    if join(folder, '.DS_Store') in subfolder_paths:\n",
    "        subfolder_paths.remove(join(folder, '.DS_Store'))\n",
    "    subfolder_paths = sorted(subfolder_paths)\n",
    "    return subfolder_paths\n",
    "\n",
    "#get all image paths\n",
    "def get_all_txt_paths(master_folder):\n",
    "\n",
    "    all_paths = []\n",
    "    subfolders = get_subfolder_paths(master_folder)\n",
    "    if len(subfolders) > 1:\n",
    "        for subfolder in subfolders:\n",
    "            all_paths += get_txt_paths(subfolder)\n",
    "    else:\n",
    "        all_paths = get_txt_paths(master_folder)\n",
    "    return all_paths\n",
    "\n",
    "###################################################\n",
    "################ data processing ##################\n",
    "###################################################\n",
    "\n",
    "#get the pickle file for the word2vec so you don't have to load the entire huge file each time\n",
    "def gen_vocab_dicts(folder, output_pickle_path, huge_word2vec):\n",
    "\n",
    "    vocab = set()\n",
    "    text_embeddings = open(huge_word2vec, 'r').readlines()\n",
    "    word2vec = {}\n",
    "\n",
    "    #get all the vocab\n",
    "    all_txt_paths = get_all_txt_paths(folder)\n",
    "    print(all_txt_paths)\n",
    "\n",
    "    #loop through each text file\n",
    "    for txt_path in all_txt_paths:\n",
    "\n",
    "        # get all the words\n",
    "        try:\n",
    "            all_lines = open(txt_path, \"r\").readlines()\n",
    "            for line in all_lines:\n",
    "                words = line[:-1].split(' ')\n",
    "                for word in words:\n",
    "                    vocab.add(word)\n",
    "        except:\n",
    "            print(txt_path, \"has an error\")\n",
    "    \n",
    "    print(len(vocab), \"unique words found\")\n",
    "\n",
    "    # load the word embeddings, and only add the word to the dictionary if we need it\n",
    "    for line in text_embeddings:\n",
    "        items = line.split(' ')\n",
    "        word = items[0]\n",
    "        if word in vocab:\n",
    "            vec = items[1:]\n",
    "            word2vec[word] = np.asarray(vec, dtype = 'float32')\n",
    "    print(len(word2vec), \"matches between unique words and word2vec dictionary\")\n",
    "        \n",
    "    pickle.dump(word2vec, open(output_pickle_path, 'wb'))\n",
    "    print(\"dictionaries outputted to\", output_pickle_path)\n",
    "\n",
    "#getting the x and y inputs in numpy array form from the text file\n",
    "def get_x_y(train_txt, num_classes, word2vec_len, input_size, word2vec, percent_dataset):\n",
    "\n",
    "    #read in lines\n",
    "    train_lines = open(train_txt, 'r').readlines()\n",
    "    shuffle(train_lines)\n",
    "    train_lines = train_lines[:int(percent_dataset*len(train_lines))]\n",
    "    num_lines = len(train_lines)\n",
    "\n",
    "    #initialize x and y matrix\n",
    "    x_matrix = None\n",
    "    y_matrix = None\n",
    "\n",
    "    try:\n",
    "        x_matrix = np.zeros((num_lines, input_size, word2vec_len))\n",
    "    except:\n",
    "        print(\"Error!\", num_lines, input_size, word2vec_len)\n",
    "    y_matrix = np.zeros((num_lines, num_classes))\n",
    "\n",
    "    #insert values\n",
    "    for i, line in enumerate(train_lines):\n",
    "\n",
    "        parts = line[:-1].split('\\t')\n",
    "        label = int(parts[0])\n",
    "        sentence = parts[1]\t\n",
    "\n",
    "        #insert x\n",
    "        words = sentence.split(' ')\n",
    "        words = words[:x_matrix.shape[1]] #cut off if too long\n",
    "        for j, word in enumerate(words):\n",
    "            if word in word2vec:\n",
    "                x_matrix[i, j, :] = word2vec[word]\n",
    "\n",
    "        #insert y\n",
    "        y_matrix[i][label] = 1.0\n",
    "\n",
    "    return x_matrix, y_matrix\n",
    "\n",
    "###################################################\n",
    "############### data augmentation #################\n",
    "###################################################\n",
    "\n",
    "def gen_tsne_aug(train_orig, output_file):\n",
    "\n",
    "    writer = open(output_file, 'w')\n",
    "    lines = open(train_orig, 'r').readlines()\n",
    "    for i, line in enumerate(lines):\n",
    "        parts = line[:-1].split('\\t')\n",
    "        label = parts[0]\n",
    "        sentence = parts[1]\n",
    "        writer.write(line)\n",
    "        for alpha in [0.1, 0.2, 0.3, 0.4, 0.5, 0.6, 0.7, 0.8, 0.9]:\n",
    "            aug_sentence = eda_4(sentence, alpha_sr=alpha, alpha_ri=alpha, alpha_rs=alpha, p_rd=alpha, num_aug=2)[0]\n",
    "            writer.write(label + \"\\t\" + aug_sentence + '\\n')\n",
    "    writer.close()\n",
    "    print(\"finished eda for tsne for\", train_orig, \"to\", output_file)\n",
    "\n",
    "\n",
    "\n",
    "\n",
    "#generate more data with standard augmentation\n",
    "def gen_standard_aug(train_orig, output_file, num_aug=9):\n",
    "    writer = open(output_file, 'w')\n",
    "    lines = open(train_orig, 'r').readlines()\n",
    "    for i, line in enumerate(lines):\n",
    "        parts = line[:-1].split('\\t')\n",
    "        label = parts[0]\n",
    "        sentence = parts[1]\n",
    "        aug_sentences = eda_4(sentence, num_aug=num_aug)\n",
    "        for aug_sentence in aug_sentences:\n",
    "            writer.write(label + \"\\t\" + aug_sentence + '\\n')\n",
    "    writer.close()\n",
    "    print(\"finished eda for\", train_orig, \"to\", output_file)\n",
    "\n",
    "#generate more data with only synonym replacement (SR)\n",
    "def gen_sr_aug(train_orig, output_file, alpha_sr, n_aug):\n",
    "    writer = open(output_file, 'w')\n",
    "    lines = open(train_orig, 'r').readlines()\n",
    "    for i, line in enumerate(lines):\n",
    "        parts = line[:-1].split('\\t')\n",
    "        label = parts[0]\n",
    "        sentence = parts[1]\n",
    "        aug_sentences = SR(sentence, alpha_sr=alpha_sr, n_aug=n_aug)\n",
    "        for aug_sentence in aug_sentences:\n",
    "            writer.write(label + \"\\t\" + aug_sentence + '\\n')\n",
    "    writer.close()\n",
    "    print(\"finished SR for\", train_orig, \"to\", output_file, \"with alpha\", alpha_sr)\n",
    "\n",
    "#generate more data with only random insertion (RI)\n",
    "def gen_ri_aug(train_orig, output_file, alpha_ri, n_aug):\n",
    "    writer = open(output_file, 'w')\n",
    "    lines = open(train_orig, 'r').readlines()\n",
    "    for i, line in enumerate(lines):\n",
    "        parts = line[:-1].split('\\t')\n",
    "        label = parts[0]\n",
    "        sentence = parts[1]\n",
    "        aug_sentences = RI(sentence, alpha_ri=alpha_ri, n_aug=n_aug)\n",
    "        for aug_sentence in aug_sentences:\n",
    "            writer.write(label + \"\\t\" + aug_sentence + '\\n')\n",
    "    writer.close()\n",
    "    print(\"finished RI for\", train_orig, \"to\", output_file, \"with alpha\", alpha_ri)\n",
    "\n",
    "#generate more data with only random swap (RS)\n",
    "def gen_rs_aug(train_orig, output_file, alpha_rs, n_aug):\n",
    "    writer = open(output_file, 'w')\n",
    "    lines = open(train_orig, 'r').readlines()\n",
    "    for i, line in enumerate(lines):\n",
    "        parts = line[:-1].split('\\t')\n",
    "        label = parts[0]\n",
    "        sentence = parts[1]\n",
    "        aug_sentences = RS(sentence, alpha_rs=alpha_rs, n_aug=n_aug)\n",
    "        for aug_sentence in aug_sentences:\n",
    "            writer.write(label + \"\\t\" + aug_sentence + '\\n')\n",
    "    writer.close()\n",
    "    print(\"finished RS for\", train_orig, \"to\", output_file, \"with alpha\", alpha_rs)\n",
    "\n",
    "#generate more data with only random deletion (RD)\n",
    "def gen_rd_aug(train_orig, output_file, alpha_rd, n_aug):\n",
    "    writer = open(output_file, 'w')\n",
    "    lines = open(train_orig, 'r').readlines()\n",
    "    for i, line in enumerate(lines):\n",
    "        parts = line[:-1].split('\\t')\n",
    "        label = parts[0]\n",
    "        sentence = parts[1]\n",
    "        aug_sentences = RD(sentence, alpha_rd=alpha_rd, n_aug=n_aug)\n",
    "        for aug_sentence in aug_sentences:\n",
    "            writer.write(label + \"\\t\" + aug_sentence + '\\n')\n",
    "    writer.close()\n",
    "    print(\"finished RD for\", train_orig, \"to\", output_file, \"with alpha\", alpha_rd)\n",
    "\n",
    "###################################################\n",
    "##################### model #######################\n",
    "###################################################\n",
    "\n",
    "#building the model in keras\n",
    "def build_model(sentence_length, word2vec_len, num_classes):\n",
    "    model = None\n",
    "    model = Sequential()\n",
    "    model.add(Bidirectional(LSTM(64, return_sequences=True), input_shape=(sentence_length, word2vec_len)))\n",
    "    model.add(Dropout(0.5))\n",
    "    model.add(Bidirectional(LSTM(32, return_sequences=False)))\n",
    "    model.add(Dropout(0.5))\n",
    "    model.add(Dense(20, activation='relu'))\n",
    "    model.add(Dense(num_classes, kernel_initializer='normal', activation='softmax'))\n",
    "    model.compile(loss='categorical_crossentropy', optimizer='adam', metrics=['accuracy'])\n",
    "    #print(model.summary())\n",
    "    return model\n",
    "\n",
    "#building the cnn in keras\n",
    "def build_cnn(sentence_length, word2vec_len, num_classes):\n",
    "    model = None\n",
    "    model = Sequential()\n",
    "    model.add(layers.Conv1D(128, 5, activation='relu', input_shape=(sentence_length, word2vec_len)))\n",
    "    model.add(layers.GlobalMaxPooling1D())\n",
    "    model.add(Dense(20, activation='relu'))\n",
    "    model.add(Dense(num_classes, kernel_initializer='normal', activation='softmax'))\n",
    "    model.compile(loss='categorical_crossentropy', optimizer='adam', metrics=['accuracy'])\n",
    "    return model\n",
    "\n",
    "#one hot to categorical\n",
    "def one_hot_to_categorical(y):\n",
    "    assert len(y.shape) == 2\n",
    "    return np.argmax(y, axis=1)\n",
    "\n",
    "def get_now_str():\n",
    "    return str(strftime(\"%Y-%m-%d_%H:%M:%S\", gmtime()))\n",
    "\n"
   ]
  },
  {
   "cell_type": "code",
   "execution_count": null,
   "metadata": {},
   "outputs": [],
   "source": [
    "import snoop\n",
    "from numpy.random import seed\n",
    "from keras import backend as K\n",
    "from sklearn.manifold import TSNE\n",
    "import matplotlib.pyplot as plt\n",
    "seed(0)\n",
    "\n",
    "################################\n",
    "#### get dense layer output ####\n",
    "################################\n",
    "\n",
    "#getting the x and y inputs in numpy array form from the text file\n",
    "def train_x(train_txt, word2vec_len, input_size, word2vec):\n",
    "\n",
    "\t#read in lines\n",
    "\ttrain_lines = open(train_txt, 'r').readlines()\n",
    "\tnum_lines = len(train_lines)\n",
    "\n",
    "\tx_matrix = np.zeros((num_lines, input_size, word2vec_len))\n",
    "\n",
    "\t#insert values\n",
    "\tfor i, line in enumerate(train_lines):\n",
    "\n",
    "\t\tparts = line[:-1].split('\\t')\n",
    "\t\tlabel = int(parts[0])\n",
    "\t\tsentence = parts[1]\t\n",
    "\n",
    "\t\t#insert x\n",
    "\t\twords = sentence.split(' ')\n",
    "\t\twords = words[:x_matrix.shape[1]] #cut off if too long\n",
    "\t\tfor j, word in enumerate(words):\n",
    "\t\t\tif word in word2vec:\n",
    "\t\t\t\tx_matrix[i, j, :] = word2vec[word]\n",
    "\n",
    "\treturn x_matrix\n",
    "\n",
    "def get_dense_output(model_checkpoint, file, num_classes):\n",
    "\n",
    "\tx = train_x(file, word2vec_len, input_size, word2vec)\n",
    "\n",
    "\tmodel = load_model(model_checkpoint)\n",
    "\n",
    "\tget_3rd_layer_output = K.function([model.layers[0].input], [model.layers[4].output])\n",
    "\tlayer_output = get_3rd_layer_output([x])[0]\n",
    "\n",
    "\treturn layer_output\n",
    "\n",
    "def get_tsne_labels(file):\n",
    "\tlabels = []\n",
    "\talphas = []\n",
    "\tlines = open(file, 'r').readlines()\n",
    "\tfor i, line in enumerate(lines):\n",
    "\t\tparts = line[:-1].split('\\t')\n",
    "\t\t_class = int(parts[0])\n",
    "\t\talpha = i % 10\n",
    "\t\tlabels.append(_class)\n",
    "\t\talphas.append(alpha)\n",
    "\treturn labels, alphas\n",
    "\n",
    "def get_plot_vectors(layer_output):\n",
    "\n",
    "\ttsne = TSNE(n_components=2).fit_transform(layer_output)\n",
    "\treturn tsne\n",
    "\n"
   ]
  },
  {
   "cell_type": "code",
   "execution_count": null,
   "metadata": {},
   "outputs": [],
   "source": [
    "@snoop\n",
    "def plot_tsne(tsne, labels, output_path):\n",
    "\n",
    "\tlabel_to_legend_label = {'output/pc_tsne.png':{\t0:'Con (augmented)', \n",
    "\t\t\t\t\t\t\t\t\t\t\t\t\t\t\t100:'Con (original)', \n",
    "\t\t\t\t\t\t\t\t\t\t\t\t\t\t\t1: 'Pro (augmented)', \n",
    "\t\t\t\t\t\t\t\t \t\t\t\t\t\t\t101:'Pro (original)'}}\n",
    "\t\t\t\t\t\t\t\t# 'outputs_f4/trec_tsne.png':{0:'Description (augmented)',\n",
    "\t\t\t\t\t\t\t\t# \t\t\t\t\t\t\t100:'Description (original)',\n",
    "\t\t\t\t\t\t\t\t# \t\t\t\t\t\t\t1:'Entity (augmented)',\n",
    "\t\t\t\t\t\t\t\t# \t\t\t\t\t\t\t101:'Entity (original)',\n",
    "\t\t\t\t\t\t\t\t# \t\t\t\t\t\t\t2:'Abbreviation (augmented)',\n",
    "\t\t\t\t\t\t\t\t# \t\t\t\t\t\t\t102:'Abbreviation (original)',\n",
    "\t\t\t\t\t\t\t\t# \t\t\t\t\t\t\t3:'Human (augmented)',\n",
    "\t\t\t\t\t\t\t\t# \t\t\t\t\t\t\t103:'Human (original)',\n",
    "\t\t\t\t\t\t\t\t# \t\t\t\t\t\t\t4:'Location (augmented)',\n",
    "\t\t\t\t\t\t\t\t# \t\t\t\t\t\t\t104:'Location (original)',\n",
    "\t\t\t\t\t\t\t\t# \t\t\t\t\t\t\t5:'Number (augmented)',\n",
    "\t\t\t\t\t\t\t\t# \t\t\t\t\t\t\t105:'Number (original)'}}\n",
    "\n",
    "\tplot_to_legend_size = {'output/pc_tsne.png':11}\n",
    "\n",
    "\tlabels = labels#.tolist() \n",
    "\tbig_groups = [label for label in labels if label < 100]\n",
    "\tbig_groups = list(sorted(set(big_groups)))\n",
    "\n",
    "\tcolors = ['b', 'g']#, 'r', 'c', 'm', 'y', 'k', '#ff1493', '#FF4500']\n",
    "\tfig, ax = plt.subplots()\n",
    "\n",
    "\tfor big_group in big_groups:\n",
    "\n",
    "\t\tfor group in [big_group, big_group+100]:\n",
    "\n",
    "\t\t\tx, y = [], []\n",
    "\n",
    "\t\t\tfor j, label in enumerate(labels):\n",
    "\t\t\t\tif label == group:\n",
    "\t\t\t\t\tx.append(tsne[j][0])\n",
    "\t\t\t\t\ty.append(tsne[j][1])\n",
    "\n",
    "\t\t\t#params\n",
    "\t\t\tcolor = colors[int(group % 100)]\n",
    "\t\t\tmarker = 'x' if group < 100 else 'o'\n",
    "\t\t\tsize = 1 if group < 100 else 27\n",
    "\t\t\tlegend_label = label_to_legend_label[output_path][group]\n",
    "\n",
    "\t\t\tax.scatter(x, y, color=color, marker=marker, s=size, label=legend_label)\n",
    "\t\t\tplt.axis('off')\n",
    "\n",
    "\tlegend_size = plot_to_legend_size[output_path]\n",
    "\tplt.legend(prop={'size': legend_size})\n",
    "\tplt.savefig(output_path, dpi=1000)\n",
    "\tplt.clf()\t"
   ]
  },
  {
   "cell_type": "code",
   "execution_count": null,
   "metadata": {},
   "outputs": [],
   "source": [
    "huge_word2vec = 'glove.840B.300d.txt'\n",
    "datasets = ['pc']#, 'trec']\n",
    "\n",
    "for dataset in datasets:\n",
    "\n",
    "    dataset_folder = 'txt_for_test/' + dataset\n",
    "    #test_short = 'txt_for_test/' + dataset + '/test_short.txt'\n",
    "    #test_aug_short = dataset_folder + '/test_short_aug.txt'\n",
    "    test = dataset_folder + '/test.txt'\n",
    "    test_aug = dataset_folder + '/test_aug.txt'\n",
    "    word2vec_pickle = dataset_folder + '/word2vec.p' \n",
    "\n",
    "    #augment the data\n",
    "    gen_tsne_aug(test, test_aug)\n",
    "\n",
    "    #generate the vocab dictionaries\n",
    "    gen_vocab_dicts(dataset_folder, word2vec_pickle, huge_word2vec)"
   ]
  },
  {
   "cell_type": "code",
   "execution_count": null,
   "metadata": {},
   "outputs": [],
   "source": []
  },
  {
   "cell_type": "code",
   "execution_count": null,
   "metadata": {},
   "outputs": [],
   "source": []
  },
  {
   "cell_type": "code",
   "execution_count": null,
   "metadata": {},
   "outputs": [],
   "source": []
  },
  {
   "cell_type": "code",
   "execution_count": null,
   "metadata": {},
   "outputs": [],
   "source": []
  },
  {
   "cell_type": "code",
   "execution_count": null,
   "metadata": {},
   "outputs": [],
   "source": []
  },
  {
   "cell_type": "code",
   "execution_count": null,
   "metadata": {},
   "outputs": [],
   "source": []
  },
  {
   "cell_type": "code",
   "execution_count": null,
   "metadata": {},
   "outputs": [],
   "source": [
    "sent = ''"
   ]
  },
  {
   "cell_type": "code",
   "execution_count": null,
   "metadata": {},
   "outputs": [],
   "source": [
    "if sent[0] == ' ':\n",
    "    sent = sent[1:]"
   ]
  },
  {
   "cell_type": "code",
   "execution_count": null,
   "metadata": {},
   "outputs": [],
   "source": [
    "from numpy.random import randint\n",
    "labels = list(randint(0, 2, 1000))"
   ]
  },
  {
   "cell_type": "code",
   "execution_count": null,
   "metadata": {},
   "outputs": [],
   "source": [
    "big_groups = [label for label in labels if label < 100]\n",
    "big_groups = list(sorted(set(big_groups)))"
   ]
  },
  {
   "cell_type": "code",
   "execution_count": null,
   "metadata": {},
   "outputs": [],
   "source": [
    "big_groups"
   ]
  },
  {
   "cell_type": "code",
   "execution_count": null,
   "metadata": {},
   "outputs": [],
   "source": [
    "for big_group in big_groups:\n",
    "\n",
    "    for group in [big_group, big_group+100]:\n",
    "        marker = 'x' if group < 100 else 'o'\n",
    "        print(group)\n",
    "       "
   ]
  },
  {
   "cell_type": "code",
   "execution_count": null,
   "metadata": {},
   "outputs": [],
   "source": [
    "from random import sample\n",
    "def generate_short(input_file, output_file, fraction):\n",
    "    lines = open(input_file, 'r').readlines()\n",
    "    num_lines = len(lines)\n",
    "    num_lines_short = int(num_lines * fraction)\n",
    "    lines_short = sample(lines, num_lines_short)\n",
    "    writer = open(output_file, 'w')\n",
    "    for line in lines_short:\n",
    "        writer.write(line)\n",
    "    writer.close()"
   ]
  },
  {
   "cell_type": "code",
   "execution_count": null,
   "metadata": {},
   "outputs": [],
   "source": [
    "path = 'txt_for_test/pc/test.txt'\n",
    "output = 'txt_for_test/pc/test_short.txt'\n",
    "fraction = 0.1"
   ]
  },
  {
   "cell_type": "code",
   "execution_count": null,
   "metadata": {},
   "outputs": [],
   "source": [
    "generate_short(path, output, fraction)"
   ]
  },
  {
   "cell_type": "code",
   "execution_count": null,
   "metadata": {},
   "outputs": [],
   "source": [
    "lines = open(path, 'r').readlines()"
   ]
  },
  {
   "cell_type": "code",
   "execution_count": null,
   "metadata": {},
   "outputs": [],
   "source": []
  },
  {
   "cell_type": "code",
   "execution_count": null,
   "metadata": {},
   "outputs": [],
   "source": [
    "\n",
    "frac = 0.1\n",
    "_sample = int(len(lines)*frac)\n",
    "\n",
    "lines = sample(lines, _sample)"
   ]
  },
  {
   "cell_type": "code",
   "execution_count": null,
   "metadata": {},
   "outputs": [],
   "source": [
    "lines"
   ]
  },
  {
   "cell_type": "code",
   "execution_count": null,
   "metadata": {},
   "outputs": [],
   "source": []
  },
  {
   "cell_type": "code",
   "execution_count": null,
   "metadata": {},
   "outputs": [],
   "source": []
  },
  {
   "cell_type": "markdown",
   "metadata": {},
   "source": []
  },
  {
   "cell_type": "code",
   "execution_count": null,
   "metadata": {},
   "outputs": [],
   "source": []
  },
  {
   "cell_type": "code",
   "execution_count": null,
   "metadata": {},
   "outputs": [],
   "source": []
  },
  {
   "cell_type": "code",
   "execution_count": null,
   "metadata": {},
   "outputs": [],
   "source": []
  },
  {
   "cell_type": "code",
   "execution_count": null,
   "metadata": {},
   "outputs": [],
   "source": []
  },
  {
   "cell_type": "code",
   "execution_count": null,
   "metadata": {},
   "outputs": [],
   "source": []
  },
  {
   "cell_type": "code",
   "execution_count": null,
   "metadata": {},
   "outputs": [],
   "source": []
  },
  {
   "cell_type": "code",
   "execution_count": null,
   "metadata": {},
   "outputs": [],
   "source": []
  },
  {
   "cell_type": "code",
   "execution_count": null,
   "metadata": {},
   "outputs": [],
   "source": []
  },
  {
   "cell_type": "markdown",
   "metadata": {},
   "source": [
    "## imports"
   ]
  },
  {
   "cell_type": "code",
   "execution_count": 1,
   "metadata": {},
   "outputs": [
    {
     "name": "stderr",
     "output_type": "stream",
     "text": [
      "2022-11-10 23:37:20.024643: I tensorflow/core/platform/cpu_feature_guard.cc:193] This TensorFlow binary is optimized with oneAPI Deep Neural Network Library (oneDNN) to use the following CPU instructions in performance-critical operations:  AVX2 FMA\n",
      "To enable them in other operations, rebuild TensorFlow with the appropriate compiler flags.\n",
      "2022-11-10 23:37:20.118822: W tensorflow/stream_executor/platform/default/dso_loader.cc:64] Could not load dynamic library 'libcudart.so.11.0'; dlerror: libcudart.so.11.0: cannot open shared object file: No such file or directory\n",
      "2022-11-10 23:37:20.118834: I tensorflow/stream_executor/cuda/cudart_stub.cc:29] Ignore above cudart dlerror if you do not have a GPU set up on your machine.\n",
      "2022-11-10 23:37:20.136702: E tensorflow/stream_executor/cuda/cuda_blas.cc:2981] Unable to register cuBLAS factory: Attempting to register factory for plugin cuBLAS when one has already been registered\n",
      "2022-11-10 23:37:20.520713: W tensorflow/stream_executor/platform/default/dso_loader.cc:64] Could not load dynamic library 'libnvinfer.so.7'; dlerror: libnvinfer.so.7: cannot open shared object file: No such file or directory\n",
      "2022-11-10 23:37:20.520750: W tensorflow/stream_executor/platform/default/dso_loader.cc:64] Could not load dynamic library 'libnvinfer_plugin.so.7'; dlerror: libnvinfer_plugin.so.7: cannot open shared object file: No such file or directory\n",
      "2022-11-10 23:37:20.520754: W tensorflow/compiler/tf2tensorrt/utils/py_utils.cc:38] TF-TRT Warning: Cannot dlopen some TensorRT libraries. If you would like to use Nvidia GPU with TensorRT, please make sure the missing libraries mentioned above are installed properly.\n"
     ]
    }
   ],
   "source": [
    "import matplotlib.pyplot as plt\n",
    "#from nlp_aug import *\n",
    "from keras.models import load_model, Model\n",
    "from sklearn.manifold import TSNE\n",
    "from keras import backend as K\n",
    "import numpy as np\n",
    "import pickle\n",
    "import os\n",
    "os.environ['TF_CPP_MIN_LOG_LEVEL'] = '3' #get rid of warnings"
   ]
  },
  {
   "cell_type": "markdown",
   "metadata": {},
   "source": [
    "## load model"
   ]
  },
  {
   "cell_type": "code",
   "execution_count": null,
   "metadata": {},
   "outputs": [],
   "source": [
    "model = load_model('eda_code/output/pc.h5')\n",
    "model.summary()"
   ]
  },
  {
   "cell_type": "code",
   "execution_count": null,
   "metadata": {},
   "outputs": [],
   "source": [
    "# intermediate_layer_model = Model(inputs=model.input, outputs=model.get_layer('dense_1').output)\n",
    "# intermediate_layer_model_with_k_function = K.function([model.input], [model.get_layer('dense_1').output])\n",
    "# get_4rd_layer_output = K.function([model.layers[0].input],[model.layers[5].output])"
   ]
  },
  {
   "cell_type": "markdown",
   "metadata": {},
   "source": [
    "## define functions"
   ]
  },
  {
   "cell_type": "code",
   "execution_count": 2,
   "metadata": {},
   "outputs": [],
   "source": [
    "def train_x(train_txt, word2vec_len, input_size, word2vec):\n",
    "\n",
    "\t#read in lines\n",
    "\ttrain_lines = open(train_txt, 'r').readlines()\n",
    "\tnum_lines = len(train_lines)\n",
    "\n",
    "\tx_matrix = np.zeros((num_lines, input_size, word2vec_len))\n",
    "\n",
    "\t#insert values\n",
    "\tfor i, line in enumerate(train_lines):\n",
    "\n",
    "\t\tparts = line[:-1].split('\\t')\n",
    "\t\tlabel = int(parts[0])\n",
    "\t\tsentence = parts[1]\t\n",
    "\n",
    "\t\t#insert x\n",
    "\t\twords = sentence.split(' ')\n",
    "\t\twords = words[:x_matrix.shape[1]] #cut off if too long\n",
    "\t\tfor j, word in enumerate(words):\n",
    "\t\t\tif word in word2vec:\n",
    "\t\t\t\tx_matrix[i, j, :] = word2vec[word]\n",
    "\n",
    "\treturn x_matrix\n",
    "\n",
    "\n",
    "\n",
    "\n",
    "\n",
    "\n",
    "def get_tsne_labels(file,num_aug):\n",
    "\tlabels = []\n",
    "\talphas = []\n",
    "\tlines = open(file, 'r').readlines()\n",
    "\tfor i, line in enumerate(lines):\n",
    "\t\tparts = line[:-1].split('\\t')\n",
    "\t\t_class = int(parts[0])\n",
    "\t\talpha = i % (num_aug+1)\n",
    "\t\tif alpha == 0:\n",
    "\t\t\tlabels.append(_class+100)\n",
    "\t\t\talphas.append(alpha)\n",
    "\t\telse:\n",
    "\t\t\tlabels.append(_class)\n",
    "\t\t\talphas.append(alpha)\n",
    "\treturn labels, alphas\n",
    "\n",
    "def get_plot_vectors(layer_output,perplexity=30,n_iter=1000,random_state=0,method='barnes_hut',learning_rate=200):\n",
    "\n",
    "\ttsne = TSNE(n_components=2,perplexity=perplexity,n_iter=n_iter,random_state=random_state,method=method,learning_rate=learning_rate).fit_transform(layer_output)\n",
    "\treturn tsne\n",
    "\n",
    "def plot_tsne(tsne, labels, output_path):\n",
    "\n",
    "\tlabel_to_legend_label = {'output/pc_last_dense_tsne.png':{\t0:'Con (augmented)', \n",
    "\t\t\t\t\t\t\t\t\t\t\t\t\t\t\t100:'Con (original)', \n",
    "\t\t\t\t\t\t\t\t\t\t\t\t\t\t\t1: 'Pro (augmented)', \n",
    "\t\t\t\t\t\t\t\t \t\t\t\t\t\t\t101:'Pro (original)'}\n",
    "\t\t\t\t\t\t\t\t,'output/cr_last_dense_tsne.png':{\t0:'Con (augmented)', \n",
    "\t\t\t\t\t\t\t\t\t\t\t\t\t\t\t100:'Con (original)', \n",
    "\t\t\t\t\t\t\t\t\t\t\t\t\t\t\t1: 'Pro (augmented)', \n",
    "\t\t\t\t\t\t\t\t \t\t\t\t\t\t\t101:'Pro (original)'}\n",
    "\t\t\t\t\t\t\t\t,'output/subj_last_dense_tsne.png':{\t0:'Con (augmented)', \n",
    "\t\t\t\t\t\t\t\t\t\t\t\t\t\t\t100:'Con (original)', \n",
    "\t\t\t\t\t\t\t\t\t\t\t\t\t\t\t1: 'Pro (augmented)', \n",
    "\t\t\t\t\t\t\t\t \t\t\t\t\t\t\t101:'Pro (original)'}}\n",
    "\t\t\t\t\t\t\t\t# 'outputs_f4/trec_last_dense_tsne.png':{0:'Description (augmented)',\n",
    "\t\t\t\t\t\t\t\t# \t\t\t\t\t\t\t100:'Description (original)',\n",
    "\t\t\t\t\t\t\t\t# \t\t\t\t\t\t\t1:'Entity (augmented)',\n",
    "\t\t\t\t\t\t\t\t# \t\t\t\t\t\t\t101:'Entity (original)',\n",
    "\t\t\t\t\t\t\t\t# \t\t\t\t\t\t\t2:'Abbreviation (augmented)',\n",
    "\t\t\t\t\t\t\t\t# \t\t\t\t\t\t\t102:'Abbreviation (original)',\n",
    "\t\t\t\t\t\t\t\t# \t\t\t\t\t\t\t3:'Human (augmented)',\n",
    "\t\t\t\t\t\t\t\t# \t\t\t\t\t\t\t103:'Human (original)',\n",
    "\t\t\t\t\t\t\t\t# \t\t\t\t\t\t\t4:'Location (augmented)',\n",
    "\t\t\t\t\t\t\t\t# \t\t\t\t\t\t\t104:'Location (original)',\n",
    "\t\t\t\t\t\t\t\t# \t\t\t\t\t\t\t5:'Number (augmented)',\n",
    "\t\t\t\t\t\t\t\t# \t\t\t\t\t\t\t105:'Number (original)'}}\n",
    "\n",
    "\tplot_to_legend_size = {'output/cr_last_dense_tsne.png':6,'output/pc_last_dense_tsne.png':6,'output/subj_last_dense_tsne.png':6}\n",
    "\n",
    "\tlabels = labels#.tolist() \n",
    "\tbig_groups = [label for label in labels if label < 100]\n",
    "\tbig_groups = list(sorted(set(big_groups)))\n",
    "\t\n",
    "\tcolors = ['b', 'g']#, 'r', 'c', 'm', 'y', 'k', '#ff1493', '#FF4500']\n",
    "\tfig, ax = plt.subplots()\n",
    "\n",
    "\tfor big_group in big_groups:\n",
    "\t\t\n",
    "\t\tfor group in [big_group, big_group+100]:\n",
    "\t\t\t\n",
    "\t\t\tx, y = [], []\n",
    "\n",
    "\t\t\tfor j, label in enumerate(labels):\n",
    "\t\t\t\tif label == group:\n",
    "\t\t\t\t\n",
    "\t\t\t\t\tx.append(tsne[j][0])\n",
    "\t\t\t\t\ty.append(tsne[j][1])\n",
    "\n",
    "\t\t\t#params\n",
    "\t\t\tcolor = colors[int(group % 100)]\n",
    "\t\t\tmarker = 'o' if group in[0,100] else '^'\n",
    "\t\t\tsize = 1 if group < 100 else 40\n",
    "\t\t\tfillstyles = color if group < 100 else 'none'\n",
    "\t\t\n",
    "\n",
    "\t\t\tlegend_label = label_to_legend_label[output_path][group]\n",
    "\t\t\t\n",
    "\t\t\tax.scatter(x, y, color=color, marker=marker, s=size, facecolors=fillstyles, label=legend_label)\n",
    "\t\t\tplt.axis('off')\n",
    "\n",
    "\tlegend_size = plot_to_legend_size[output_path]\n",
    "\tplt.legend(loc='best',prop={'size': legend_size})\n",
    "\t\n",
    "\tplt.figure(dpi=1000)\n",
    "\tplt.show()\n",
    "\n",
    "\n",
    "\n",
    "\n",
    "\n",
    "\n",
    "def augment_file(orig, output):\n",
    "    lines = open(orig, 'r').readlines()\n",
    "    writer = open(output, 'w')\n",
    "    for line in lines:\n",
    "        parts = line[:-1].split('\\t')\n",
    "        label = parts[0]\n",
    "        sentence = parts[1]\n",
    "        aug_sentences = eda_4(line,num_aug=1)\n",
    "        for aug_sentence in aug_sentences:\n",
    "            writer.write(label + \"\\t\" + aug_sentence + '\\n')\n",
    "    writer.close()"
   ]
  },
  {
   "cell_type": "markdown",
   "metadata": {},
   "source": [
    "## Test 1\n",
    "#### 13 sentences, 1 augmentation per sentence\n"
   ]
  },
  {
   "cell_type": "code",
   "execution_count": null,
   "metadata": {},
   "outputs": [],
   "source": [
    "word2vec = pickle.load(open('eda_code/txt_for_test/train/pc/word2vec.p', 'rb'))\n",
    "word2vec_len = 300\n",
    "input_size = 25\n"
   ]
  },
  {
   "cell_type": "code",
   "execution_count": null,
   "metadata": {},
   "outputs": [],
   "source": [
    "orig_1 = 'txt_for_test/pc/test_1_short.txt'\n",
    "output_aug_1 = 'txt_for_test/pc/test_1_short_augmented.txt'\n",
    "augment_file(orig_1, output_aug_1)"
   ]
  },
  {
   "cell_type": "code",
   "execution_count": null,
   "metadata": {},
   "outputs": [],
   "source": [
    "X = train_x(output_aug_1, word2vec_len, input_size, word2vec)\n",
    "labels, _ = get_tsne_labels(output_aug_1,1)"
   ]
  },
  {
   "cell_type": "code",
   "execution_count": null,
   "metadata": {},
   "outputs": [],
   "source": [
    "intermediate_layer_model = Model(inputs=model.input, outputs=model.get_layer('dense_1').output)\n",
    "layer_output = intermediate_layer_model.predict(X)\n",
    "print(layer_output.shape)\n",
    "\n",
    "\n",
    "#layer_output = K.function([model.layers[0].input],[model.layers[4].output])([X])[0]\n",
    "\n",
    "t = get_plot_vectors(layer_output,perplexity=10, n_iter=2000,learning_rate=200,random_state=10,method='exact')\n",
    "\n",
    "plot_tsne(t, labels, 'output/pc_last_dense_tsne.png')"
   ]
  },
  {
   "cell_type": "markdown",
   "metadata": {},
   "source": [
    "## Test 2\n",
    "#### 250 sentences, 1 augmentation per sentence"
   ]
  },
  {
   "cell_type": "code",
   "execution_count": null,
   "metadata": {},
   "outputs": [],
   "source": [
    "word2vec = pickle.load(open('eda_code/txt_for_test/train/pc/word2vec.p', 'rb'))\n",
    "word2vec_len = 300\n",
    "input_size = 25"
   ]
  },
  {
   "cell_type": "code",
   "execution_count": null,
   "metadata": {},
   "outputs": [],
   "source": [
    "orig_2 = 'txt_for_test/pc/test_2_short.txt'\n",
    "output_aug_2 = 'txt_for_test/pc/test_2_short_augmented.txt'\n",
    "augment_file(orig_2, output_aug_2)"
   ]
  },
  {
   "cell_type": "code",
   "execution_count": null,
   "metadata": {},
   "outputs": [],
   "source": [
    "X = train_x(output_aug_2, word2vec_len, input_size, word2vec)\n",
    "labels, alphas = get_tsne_labels(output_aug_2,1)"
   ]
  },
  {
   "cell_type": "code",
   "execution_count": null,
   "metadata": {},
   "outputs": [],
   "source": [
    "intermediate_layer_model = Model(inputs=model.input, outputs=model.get_layer('dense_1').output)\n",
    "layer_output = intermediate_layer_model.predict(X)\n",
    "\n",
    "\n",
    "#layer_output = K.function([model.layers[0].input],[model.layers[4].output])([X])[0]\n",
    "\n",
    "t = get_plot_vectors(layer_output,perplexity=30, n_iter=2000,learning_rate=200,random_state=10,method='exact')\n",
    "\n",
    "plot_tsne(t, labels, 'output/pc_last_dense_tsne.png')"
   ]
  },
  {
   "cell_type": "markdown",
   "metadata": {},
   "source": [
    "## test 3\n",
    "#### 100 sentences, 1 augmentation per sentence"
   ]
  },
  {
   "cell_type": "code",
   "execution_count": null,
   "metadata": {},
   "outputs": [],
   "source": [
    "word2vec = pickle.load(open('eda_code/txt_for_test/train/pc/word2vec.p', 'rb'))\n",
    "word2vec_len = 300\n",
    "input_size = 25"
   ]
  },
  {
   "cell_type": "code",
   "execution_count": null,
   "metadata": {},
   "outputs": [],
   "source": [
    "orig_3 = 'txt_for_test/pc/test_3_short.txt'\n",
    "output_aug_3 = 'txt_for_test/pc/test_3_short_augmented.txt'\n",
    "augment_file(orig_3, output_aug_3)"
   ]
  },
  {
   "cell_type": "code",
   "execution_count": null,
   "metadata": {},
   "outputs": [],
   "source": [
    "X = train_x(output_aug_3, word2vec_len, input_size, word2vec)\n",
    "labels, alphas = get_tsne_labels(output_aug_3,1)"
   ]
  },
  {
   "cell_type": "code",
   "execution_count": null,
   "metadata": {},
   "outputs": [],
   "source": [
    "intermediate_layer_model = Model(inputs=model.input, outputs=model.get_layer('dense_1').output)\n",
    "layer_output = intermediate_layer_model.predict(X)\n",
    "\n",
    "#layer_output = K.function([model.layers[0].input],[model.layers[4].output])([X])[0]\n",
    "\n",
    "t = get_plot_vectors(layer_output,perplexity=30,n_iter=5000,random_state=10,method='exact')\n",
    "\n",
    "plot_tsne(t, labels, 'output/pc_last_dense_tsne.png')"
   ]
  },
  {
   "cell_type": "code",
   "execution_count": null,
   "metadata": {},
   "outputs": [],
   "source": [
    "# perplexitys = [30,40,50,60]\n",
    "# n_iters = [1000,2000,3000,4000,5000]\n",
    "# methods = ['barnes_hut','exact']\n",
    "# learning_rates = [100,150,200,250,300]\n",
    "\n",
    "\n",
    "# for i in perplexitys:\n",
    "#     for j in n_iters:\n",
    "#         for l in learning_rates:\n",
    "#             for k in methods:\n",
    "#                 t = get_plot_vectors(layer_output,perplexity=i,n_iter=j,random_state=0,method=k,learning_rate=l)\n",
    "#                 plot_tsne(t, labels, 'output/pc_last_dense_tsne.png')\n",
    "#                 print('perplexitys: ',i,'n_iters: ',j,'learning_rates: ',l,'methods: ',k)"
   ]
  },
  {
   "cell_type": "markdown",
   "metadata": {},
   "source": [
    "## test 4\n",
    "#### 50 sentences, 1 augmentation per sentence"
   ]
  },
  {
   "cell_type": "code",
   "execution_count": null,
   "metadata": {},
   "outputs": [],
   "source": [
    "word2vec = pickle.load(open('eda_code/txt_for_test/train/pc/word2vec.p', 'rb'))\n",
    "word2vec_len = 300\n",
    "input_size = 25"
   ]
  },
  {
   "cell_type": "code",
   "execution_count": null,
   "metadata": {},
   "outputs": [],
   "source": [
    "orig_4 = 'txt_for_test/pc/test_4_short.txt'\n",
    "output_aug_4 = 'txt_for_test/pc/test_4_short_augmented.txt'\n",
    "augment_file(orig_4, output_aug_4)"
   ]
  },
  {
   "cell_type": "code",
   "execution_count": null,
   "metadata": {},
   "outputs": [],
   "source": [
    "X = train_x(output_aug_4, word2vec_len, input_size, word2vec)\n",
    "labels, _ = get_tsne_labels(output_aug_4,1)"
   ]
  },
  {
   "cell_type": "code",
   "execution_count": null,
   "metadata": {},
   "outputs": [],
   "source": [
    "intermediate_layer_model = Model(inputs=model.input, outputs=model.get_layer('dense_1').output)\n",
    "layer_output = intermediate_layer_model.predict(X)\n",
    "\n",
    "#layer_output = K.function([model.layers[0].input],[model.layers[4].output])([X])[0]\n",
    "\n",
    "t = get_plot_vectors(layer_output,perplexity=30,n_iter=1000,random_state=10,method='exact')\n",
    "\n",
    "plot_tsne(t, labels, 'output/pc_last_dense_tsne.png')"
   ]
  },
  {
   "cell_type": "code",
   "execution_count": null,
   "metadata": {},
   "outputs": [],
   "source": []
  },
  {
   "cell_type": "code",
   "execution_count": null,
   "metadata": {},
   "outputs": [],
   "source": []
  },
  {
   "cell_type": "code",
   "execution_count": null,
   "metadata": {},
   "outputs": [],
   "source": []
  },
  {
   "cell_type": "code",
   "execution_count": null,
   "metadata": {},
   "outputs": [],
   "source": []
  },
  {
   "cell_type": "code",
   "execution_count": null,
   "metadata": {},
   "outputs": [],
   "source": []
  },
  {
   "cell_type": "code",
   "execution_count": null,
   "metadata": {},
   "outputs": [],
   "source": []
  },
  {
   "cell_type": "code",
   "execution_count": null,
   "metadata": {},
   "outputs": [],
   "source": []
  },
  {
   "cell_type": "code",
   "execution_count": null,
   "metadata": {},
   "outputs": [],
   "source": []
  },
  {
   "cell_type": "markdown",
   "metadata": {},
   "source": [
    "## train model"
   ]
  },
  {
   "cell_type": "code",
   "execution_count": 15,
   "metadata": {},
   "outputs": [],
   "source": [
    "import pickle\n",
    "from functions import *\n",
    "import numpy as np\n",
    "import pandas as pd\n",
    "from keras.layers import Dense, Dropout, LSTM, Bidirectional\n",
    "from keras.models import Sequential, load_model, Model\n",
    "from keras import backend as K\n",
    "from keras.callbacks import EarlyStopping\n",
    "from sklearn.metrics import accuracy_score\n",
    "from sklearn.utils import shuffle\n",
    "import os\n",
    "os.environ['TF_CPP_MIN_LOG_LEVEL'] = '3' #get rid of warnings"
   ]
  },
  {
   "cell_type": "code",
   "execution_count": null,
   "metadata": {},
   "outputs": [],
   "source": [
    "def build_model(sentence_length, word2vec_len, num_classes):\n",
    "    model = None\n",
    "    model = Sequential()\n",
    "    model.add(Bidirectional(LSTM(64, return_sequences=True), input_shape=(sentence_length, word2vec_len)))\n",
    "    model.add(Dropout(0.5))\n",
    "    model.add(Bidirectional(LSTM(32, return_sequences=False)))\n",
    "    model.add(Dropout(0.5))\n",
    "    model.add(Dense(20, activation='relu'))\n",
    "    model.add(Dense(num_classes, kernel_initializer='normal', activation='softmax'))\n",
    "    model.compile(loss='categorical_crossentropy', optimizer='adam', metrics=['accuracy'])\n",
    "    #print(model.summary())\n",
    "    return model"
   ]
  },
  {
   "cell_type": "code",
   "execution_count": null,
   "metadata": {},
   "outputs": [],
   "source": [
    "word2vec_len = 300\n",
    "input_size = 25\n",
    "num_classes = 2\n"
   ]
  },
  {
   "cell_type": "code",
   "execution_count": 4,
   "metadata": {},
   "outputs": [],
   "source": [
    "dict_of_train_datasets = {'pc':'data/pc/train.txt','cr':'data/cr/train.txt','subj':'data/subj/train.txt'}\n",
    "dict_of_test_datasets = {'pc':'data/pc/test.txt','cr':'data/cr/test.txt','subj':'data/subj/test.txt'}\n",
    "\n",
    "dict_of_30_samples = {'pc':'data/pc/30_samples.txt','cr':'data/cr/30_samples.txt','subj':'data/subj/30_samples.txt'}\n",
    "\n",
    "dict_of_models = {'pc':'models/pc_model.h5','cr':'models/cr_model.h5','subj':'models/subj_model.h5'}\n",
    "\n",
    "dict_of_word2vec_files = {'pc':pickle.load(open('data/pc/word2vec.p', 'rb')),\n",
    "                        'cr':pickle.load(open('data/cr/word2vec.p', 'rb')),\n",
    "                        'subj':pickle.load(open('data/subj/word2vec.p', 'rb'))}\n",
    "# laod data\n",
    "df_train_pc = load_data('data/pc/train.txt')\n",
    "df_train_cr = load_data('data/cr/train.txt')\n",
    "df_train_subj = load_data('data/subj/train.txt')\n",
    "df_test_pc = load_data('data/pc/test.txt')\n",
    "df_test_cr = load_data('data/cr/test.txt')\n",
    "df_test_subj = load_data('data/subj/test.txt')"
   ]
  },
  {
   "cell_type": "code",
   "execution_count": null,
   "metadata": {},
   "outputs": [],
   "source": []
  },
  {
   "cell_type": "code",
   "execution_count": 5,
   "metadata": {},
   "outputs": [],
   "source": [
    "def get_x_y(train_txt, num_classes, word2vec_len, input_size, word2vec, percent_dataset):\n",
    "\n",
    "    #read in lines\n",
    "    train_lines = open(train_txt, 'r').readlines()\n",
    "    shuffle(train_lines)\n",
    "    train_lines = train_lines[:int(percent_dataset*len(train_lines))]\n",
    "    num_lines = len(train_lines)\n",
    "\n",
    "    #initialize x and y matrix\n",
    "    x_matrix = None\n",
    "    y_matrix = None\n",
    "\n",
    "    try:\n",
    "        x_matrix = np.zeros((num_lines, input_size, word2vec_len))\n",
    "    except:\n",
    "        print(\"Error!\", num_lines, input_size, word2vec_len)\n",
    "    y_matrix = np.zeros((num_lines, num_classes))\n",
    "\n",
    "    #insert values\n",
    "    for i, line in enumerate(train_lines):\n",
    "\n",
    "        parts = line[:-1].split('\\t')\n",
    "        label = int(parts[0])\n",
    "        sentence = parts[1]\t\n",
    "\n",
    "        #insert x\n",
    "        words = sentence.split(' ')\n",
    "        words = words[:x_matrix.shape[1]] #cut off if too long\n",
    "        for j, word in enumerate(words):\n",
    "            if word in word2vec:\n",
    "                x_matrix[i, j, :] = word2vec[word]\n",
    "\n",
    "        #insert y\n",
    "        y_matrix[i][label] = 1.0\n",
    "\n",
    "    return x_matrix, y_matrix"
   ]
  },
  {
   "cell_type": "code",
   "execution_count": null,
   "metadata": {},
   "outputs": [],
   "source": [
    "#one hot to categorical\n",
    "def one_hot_to_categorical(y):\n",
    "    assert len(y.shape) == 2\n",
    "    return np.argmax(y, axis=1)\n",
    "#load data\n",
    "def run_model(dataset_name):\n",
    "\ttrain_x, train_y = get_x_y(dict_of_train_datasets[dataset_name], num_classes, word2vec_len, input_size, dict_of_word2vec_files[dataset_name], 1)\n",
    "\ttest_x, test_y = get_x_y(dict_of_test_datasets[dataset_name], num_classes, word2vec_len, input_size, dict_of_word2vec_files[dataset_name], 1)\n",
    "\n",
    "\t#build model\n",
    "\tmodel = build_model(input_size, word2vec_len, num_classes)\n",
    "\n",
    "\tcallbacks = [EarlyStopping(monitor='val_loss', patience=3)]\n",
    "\n",
    "\t#train model\n",
    "\tmodel.fit(\ttrain_x, \n",
    "\t\t\t\t\ttrain_y, \n",
    "\t\t\t\t\tepochs=100000, \n",
    "\t\t\t\t\tcallbacks=callbacks,\n",
    "\t\t\t\t\tvalidation_split=0.1, \n",
    "\t\t\t\t\tbatch_size=1024, \n",
    "\t\t\t\t\tshuffle=True, \n",
    "\t\t\t\t\tverbose=0)\n",
    "\t#save the model\n",
    "\tmodel.save(dict_of_models[dataset_name])\n",
    "\n",
    "\n",
    "\t#evaluate model\n",
    "\ty_pred = model.predict(test_x)\n",
    "\ttest_y_cat = one_hot_to_categorical(test_y)\n",
    "\ty_pred_cat = one_hot_to_categorical(y_pred)\n",
    "\tacc = accuracy_score(test_y_cat, y_pred_cat)\n",
    "\n",
    "\t#clean memory???\n",
    "\ttrain_x, train_y = None, None\n",
    "\n",
    "\t#return the accuracy\n",
    "\t#print(\"data with shape:\", train_x.shape, train_y.shape, 'train=', train_file, 'test=', test_file, 'with fraction', percent_dataset, 'had acc', acc)\n",
    "\treturn acc"
   ]
  },
  {
   "cell_type": "code",
   "execution_count": null,
   "metadata": {},
   "outputs": [],
   "source": [
    "run_model('pc')"
   ]
  },
  {
   "cell_type": "code",
   "execution_count": null,
   "metadata": {},
   "outputs": [],
   "source": [
    "run_model('cr')"
   ]
  },
  {
   "cell_type": "code",
   "execution_count": null,
   "metadata": {},
   "outputs": [],
   "source": [
    "run_model('subj')"
   ]
  },
  {
   "cell_type": "markdown",
   "metadata": {},
   "source": [
    "## Augmenting data"
   ]
  },
  {
   "cell_type": "code",
   "execution_count": 6,
   "metadata": {},
   "outputs": [
    {
     "name": "stdout",
     "output_type": "stream",
     "text": [
      "\u001b[H\u001b[2J"
     ]
    }
   ],
   "source": [
    "from aug import *\n",
    "from functions import *\n",
    "from tqdm import tqdm"
   ]
  },
  {
   "cell_type": "code",
   "execution_count": null,
   "metadata": {},
   "outputs": [],
   "source": [
    "def aug_samples(dataset_name):\n",
    "    data = load_data(dict_of_30_samples['pc'])\n",
    "    methods = ['eda_augmenter','wordnet_augmenter','aeda_augmenter','backtranslation_augmenter']\n",
    "    for method in methods:\n",
    "        augmented_data = augment_text(data, method,fraction=1,pct_words_to_swap=0.2 ,transformations_per_example=1,\n",
    "                    label_column='class',target_column='text',include_original=True)\n",
    "        augmented_data = augmented_data[['class','text']]\n",
    "        np.savetxt(f'data/{dataset_name}/{method}_augmented.txt', augmented_data.values, fmt='%s', delimiter='\\t')"
   ]
  },
  {
   "cell_type": "code",
   "execution_count": null,
   "metadata": {},
   "outputs": [],
   "source": [
    "aug_samples('pc')"
   ]
  },
  {
   "cell_type": "code",
   "execution_count": null,
   "metadata": {},
   "outputs": [],
   "source": [
    "aug_samples('cr')"
   ]
  },
  {
   "cell_type": "code",
   "execution_count": null,
   "metadata": {},
   "outputs": [],
   "source": [
    "aug_samples('subj')"
   ]
  },
  {
   "cell_type": "markdown",
   "metadata": {},
   "source": [
    "## TSNE"
   ]
  },
  {
   "cell_type": "code",
   "execution_count": 39,
   "metadata": {},
   "outputs": [],
   "source": [
    "dict_of_eda_augmented_datasets = {'pc':'data/pc/eda_augmenter_augmented.txt', 'cr':'data/cr/eda_augmenter_augmented.txt', 'subj':'data/subj/eda_augmenter_augmented.txt'}\n",
    "dict_of_wordnet_augmented_datasets = {'pc':'data/pc/wordnet_augmenter_augmented.txt', 'cr':'data/cr/wordnet_augmenter_augmented.txt', 'subj':'data/subj/wordnet_augmenter_augmented.txt'}\n",
    "dict_of_aeda_augmented_datasets = {'pc':'data/pc/aeda_augmenter_augmented.txt', 'cr':'data/cr/aeda_augmenter_augmented.txt', 'subj':'data/subj/aeda_augmenter_augmented.txt'}\n",
    "dict_of_backtranslation_augmented_datasets = {'pc':'data/pc/backtranslation_augmenter_augmented.txt', 'cr':'data/cr/backtranslation_augmenter_augmented.txt', 'subj':'data/subj/backtranslation_augmenter_augmented.txt'}\n",
    "\n",
    "dict_of_aug_methods = {'eda':dict_of_eda_augmented_datasets, 'wordnet':dict_of_wordnet_augmented_datasets, 'aeda':dict_of_aeda_augmented_datasets, 'backtranslation':dict_of_backtranslation_augmented_datasets}\n",
    "\n",
    "\n",
    "def tsne_plot(dataset_name,method_name):\n",
    "\n",
    "    \n",
    "    \n",
    "    model = load_model(dict_of_models[dataset_name])\n",
    "    \n",
    "    model.summary()\n",
    "\n",
    "    word2vec = dict_of_word2vec_files[dataset_name]\n",
    "    word2vec_len = 300\n",
    "    input_size = 25\n",
    "\n",
    "    original_file = dict_of_30_samples[dataset_name]\n",
    "    augmented_file = dict_of_aug_methods[method_name][dataset_name]\n",
    "    \n",
    "\n",
    "\n",
    "    X = train_x(augmented_file, word2vec_len, input_size, word2vec)\n",
    "    labels, _ = get_tsne_labels(augmented_file,1)\n",
    "\n",
    "\n",
    "    intermediate_layer_model = Model(inputs=model.input, outputs=model.get_layer(model.layers[5].name).output)\n",
    "    layer_output = intermediate_layer_model.predict(X)\n",
    "\n",
    "    #layer_output = K.function([model.layers[0].input],[model.layers[4].output])([X])[0]\n",
    "\n",
    "    t = get_plot_vectors(layer_output,perplexity=30,n_iter=5000,random_state=10,method='exact')\n",
    "\n",
    "    plot_tsne(t, labels, 'output/pc_last_dense_tsne.png')"
   ]
  },
  {
   "cell_type": "code",
   "execution_count": 40,
   "metadata": {},
   "outputs": [
    {
     "name": "stdout",
     "output_type": "stream",
     "text": [
      "Model: \"sequential_2\"\n",
      "_________________________________________________________________\n",
      " Layer (type)                Output Shape              Param #   \n",
      "=================================================================\n",
      " bidirectional_4 (Bidirectio  (None, 25, 128)          186880    \n",
      " nal)                                                            \n",
      "                                                                 \n",
      " dropout_4 (Dropout)         (None, 25, 128)           0         \n",
      "                                                                 \n",
      " bidirectional_5 (Bidirectio  (None, 64)               41216     \n",
      " nal)                                                            \n",
      "                                                                 \n",
      " dropout_5 (Dropout)         (None, 64)                0         \n",
      "                                                                 \n",
      " dense_4 (Dense)             (None, 20)                1300      \n",
      "                                                                 \n",
      " dense_5 (Dense)             (None, 2)                 42        \n",
      "                                                                 \n",
      "=================================================================\n",
      "Total params: 229,438\n",
      "Trainable params: 229,438\n",
      "Non-trainable params: 0\n",
      "_________________________________________________________________\n",
      "WARNING:tensorflow:5 out of the last 9 calls to <function Model.make_predict_function.<locals>.predict_function at 0x7fd3a01298b0> triggered tf.function retracing. Tracing is expensive and the excessive number of tracings could be due to (1) creating @tf.function repeatedly in a loop, (2) passing tensors with different shapes, (3) passing Python objects instead of tensors. For (1), please define your @tf.function outside of the loop. For (2), @tf.function has reduce_retracing=True option that can avoid unnecessary retracing. For (3), please refer to https://www.tensorflow.org/guide/function#controlling_retracing and https://www.tensorflow.org/api_docs/python/tf/function for  more details.\n"
     ]
    },
    {
     "name": "stderr",
     "output_type": "stream",
     "text": [
      "5 out of the last 9 calls to <function Model.make_predict_function.<locals>.predict_function at 0x7fd3a01298b0> triggered tf.function retracing. Tracing is expensive and the excessive number of tracings could be due to (1) creating @tf.function repeatedly in a loop, (2) passing tensors with different shapes, (3) passing Python objects instead of tensors. For (1), please define your @tf.function outside of the loop. For (2), @tf.function has reduce_retracing=True option that can avoid unnecessary retracing. For (3), please refer to https://www.tensorflow.org/guide/function#controlling_retracing and https://www.tensorflow.org/api_docs/python/tf/function for  more details.\n"
     ]
    },
    {
     "name": "stdout",
     "output_type": "stream",
     "text": [
      "2/2 [==============================] - 1s 5ms/step\n"
     ]
    },
    {
     "data": {
      "image/png": "[encoded data removed]",
      "text/plain": [
       "<Figure size 640x480 with 1 Axes>"
      ]
     },
     "metadata": {},
     "output_type": "display_data"
    },
    {
     "data": {
      "text/plain": [
       "<Figure size 6400x4800 with 0 Axes>"
      ]
     },
     "metadata": {},
     "output_type": "display_data"
    }
   ],
   "source": [
    "tsne_plot('pc','aeda')"
   ]
  },
  {
   "cell_type": "code",
   "execution_count": 41,
   "metadata": {},
   "outputs": [
    {
     "name": "stdout",
     "output_type": "stream",
     "text": [
      "Model: \"sequential_2\"\n",
      "_________________________________________________________________\n",
      " Layer (type)                Output Shape              Param #   \n",
      "=================================================================\n",
      " bidirectional_4 (Bidirectio  (None, 25, 128)          186880    \n",
      " nal)                                                            \n",
      "                                                                 \n",
      " dropout_4 (Dropout)         (None, 25, 128)           0         \n",
      "                                                                 \n",
      " bidirectional_5 (Bidirectio  (None, 64)               41216     \n",
      " nal)                                                            \n",
      "                                                                 \n",
      " dropout_5 (Dropout)         (None, 64)                0         \n",
      "                                                                 \n",
      " dense_4 (Dense)             (None, 20)                1300      \n",
      "                                                                 \n",
      " dense_5 (Dense)             (None, 2)                 42        \n",
      "                                                                 \n",
      "=================================================================\n",
      "Total params: 229,438\n",
      "Trainable params: 229,438\n",
      "Non-trainable params: 0\n",
      "_________________________________________________________________\n",
      "WARNING:tensorflow:6 out of the last 11 calls to <function Model.make_predict_function.<locals>.predict_function at 0x7fd389016670> triggered tf.function retracing. Tracing is expensive and the excessive number of tracings could be due to (1) creating @tf.function repeatedly in a loop, (2) passing tensors with different shapes, (3) passing Python objects instead of tensors. For (1), please define your @tf.function outside of the loop. For (2), @tf.function has reduce_retracing=True option that can avoid unnecessary retracing. For (3), please refer to https://www.tensorflow.org/guide/function#controlling_retracing and https://www.tensorflow.org/api_docs/python/tf/function for  more details.\n"
     ]
    },
    {
     "name": "stderr",
     "output_type": "stream",
     "text": [
      "6 out of the last 11 calls to <function Model.make_predict_function.<locals>.predict_function at 0x7fd389016670> triggered tf.function retracing. Tracing is expensive and the excessive number of tracings could be due to (1) creating @tf.function repeatedly in a loop, (2) passing tensors with different shapes, (3) passing Python objects instead of tensors. For (1), please define your @tf.function outside of the loop. For (2), @tf.function has reduce_retracing=True option that can avoid unnecessary retracing. For (3), please refer to https://www.tensorflow.org/guide/function#controlling_retracing and https://www.tensorflow.org/api_docs/python/tf/function for  more details.\n"
     ]
    },
    {
     "name": "stdout",
     "output_type": "stream",
     "text": [
      "2/2 [==============================] - 1s 5ms/step\n"
     ]
    },
    {
     "data": {
      "image/png": "[encoded data removed]",
      "text/plain": [
       "<Figure size 640x480 with 1 Axes>"
      ]
     },
     "metadata": {},
     "output_type": "display_data"
    },
    {
     "data": {
      "text/plain": [
       "<Figure size 6400x4800 with 0 Axes>"
      ]
     },
     "metadata": {},
     "output_type": "display_data"
    }
   ],
   "source": [
    "tsne_plot('pc','eda')"
   ]
  },
  {
   "cell_type": "code",
   "execution_count": 42,
   "metadata": {},
   "outputs": [
    {
     "name": "stdout",
     "output_type": "stream",
     "text": [
      "Model: \"sequential_2\"\n",
      "_________________________________________________________________\n",
      " Layer (type)                Output Shape              Param #   \n",
      "=================================================================\n",
      " bidirectional_4 (Bidirectio  (None, 25, 128)          186880    \n",
      " nal)                                                            \n",
      "                                                                 \n",
      " dropout_4 (Dropout)         (None, 25, 128)           0         \n",
      "                                                                 \n",
      " bidirectional_5 (Bidirectio  (None, 64)               41216     \n",
      " nal)                                                            \n",
      "                                                                 \n",
      " dropout_5 (Dropout)         (None, 64)                0         \n",
      "                                                                 \n",
      " dense_4 (Dense)             (None, 20)                1300      \n",
      "                                                                 \n",
      " dense_5 (Dense)             (None, 2)                 42        \n",
      "                                                                 \n",
      "=================================================================\n",
      "Total params: 229,438\n",
      "Trainable params: 229,438\n",
      "Non-trainable params: 0\n",
      "_________________________________________________________________\n",
      "2/2 [==============================] - 1s 5ms/step\n"
     ]
    },
    {
     "data": {
      "image/png": "[encoded data removed]",
      "text/plain": [
       "<Figure size 640x480 with 1 Axes>"
      ]
     },
     "metadata": {},
     "output_type": "display_data"
    },
    {
     "data": {
      "text/plain": [
       "<Figure size 6400x4800 with 0 Axes>"
      ]
     },
     "metadata": {},
     "output_type": "display_data"
    }
   ],
   "source": [
    "tsne_plot('pc','wordnet')"
   ]
  },
  {
   "cell_type": "code",
   "execution_count": 43,
   "metadata": {},
   "outputs": [
    {
     "name": "stdout",
     "output_type": "stream",
     "text": [
      "Model: \"sequential_2\"\n",
      "_________________________________________________________________\n",
      " Layer (type)                Output Shape              Param #   \n",
      "=================================================================\n",
      " bidirectional_4 (Bidirectio  (None, 25, 128)          186880    \n",
      " nal)                                                            \n",
      "                                                                 \n",
      " dropout_4 (Dropout)         (None, 25, 128)           0         \n",
      "                                                                 \n",
      " bidirectional_5 (Bidirectio  (None, 64)               41216     \n",
      " nal)                                                            \n",
      "                                                                 \n",
      " dropout_5 (Dropout)         (None, 64)                0         \n",
      "                                                                 \n",
      " dense_4 (Dense)             (None, 20)                1300      \n",
      "                                                                 \n",
      " dense_5 (Dense)             (None, 2)                 42        \n",
      "                                                                 \n",
      "=================================================================\n",
      "Total params: 229,438\n",
      "Trainable params: 229,438\n",
      "Non-trainable params: 0\n",
      "_________________________________________________________________\n",
      "2/2 [==============================] - 1s 5ms/step\n"
     ]
    },
    {
     "data": {
      "image/png": "[encoded data removed]",
      "text/plain": [
       "<Figure size 640x480 with 1 Axes>"
      ]
     },
     "metadata": {},
     "output_type": "display_data"
    },
    {
     "data": {
      "text/plain": [
       "<Figure size 6400x4800 with 0 Axes>"
      ]
     },
     "metadata": {},
     "output_type": "display_data"
    }
   ],
   "source": [
    "tsne_plot('pc','backtranslation')"
   ]
  },
  {
   "cell_type": "code",
   "execution_count": 44,
   "metadata": {},
   "outputs": [
    {
     "name": "stdout",
     "output_type": "stream",
     "text": [
      "Model: \"sequential_3\"\n",
      "_________________________________________________________________\n",
      " Layer (type)                Output Shape              Param #   \n",
      "=================================================================\n",
      " bidirectional_6 (Bidirectio  (None, 25, 128)          186880    \n",
      " nal)                                                            \n",
      "                                                                 \n",
      " dropout_6 (Dropout)         (None, 25, 128)           0         \n",
      "                                                                 \n",
      " bidirectional_7 (Bidirectio  (None, 64)               41216     \n",
      " nal)                                                            \n",
      "                                                                 \n",
      " dropout_7 (Dropout)         (None, 64)                0         \n",
      "                                                                 \n",
      " dense_6 (Dense)             (None, 20)                1300      \n",
      "                                                                 \n",
      " dense_7 (Dense)             (None, 2)                 42        \n",
      "                                                                 \n",
      "=================================================================\n",
      "Total params: 229,438\n",
      "Trainable params: 229,438\n",
      "Non-trainable params: 0\n",
      "_________________________________________________________________\n",
      "2/2 [==============================] - 1s 5ms/step\n"
     ]
    },
    {
     "data": {
      "image/png": "[encoded data removed]",
      "text/plain": [
       "<Figure size 640x480 with 1 Axes>"
      ]
     },
     "metadata": {},
     "output_type": "display_data"
    },
    {
     "data": {
      "text/plain": [
       "<Figure size 6400x4800 with 0 Axes>"
      ]
     },
     "metadata": {},
     "output_type": "display_data"
    }
   ],
   "source": [
    "tsne_plot('cr','eda')"
   ]
  },
  {
   "cell_type": "code",
   "execution_count": 46,
   "metadata": {},
   "outputs": [
    {
     "name": "stdout",
     "output_type": "stream",
     "text": [
      "Model: \"sequential_3\"\n",
      "_________________________________________________________________\n",
      " Layer (type)                Output Shape              Param #   \n",
      "=================================================================\n",
      " bidirectional_6 (Bidirectio  (None, 25, 128)          186880    \n",
      " nal)                                                            \n",
      "                                                                 \n",
      " dropout_6 (Dropout)         (None, 25, 128)           0         \n",
      "                                                                 \n",
      " bidirectional_7 (Bidirectio  (None, 64)               41216     \n",
      " nal)                                                            \n",
      "                                                                 \n",
      " dropout_7 (Dropout)         (None, 64)                0         \n",
      "                                                                 \n",
      " dense_6 (Dense)             (None, 20)                1300      \n",
      "                                                                 \n",
      " dense_7 (Dense)             (None, 2)                 42        \n",
      "                                                                 \n",
      "=================================================================\n",
      "Total params: 229,438\n",
      "Trainable params: 229,438\n",
      "Non-trainable params: 0\n",
      "_________________________________________________________________\n",
      "2/2 [==============================] - 1s 6ms/step\n"
     ]
    },
    {
     "data": {
      "image/png": "[encoded data removed]",
      "text/plain": [
       "<Figure size 640x480 with 1 Axes>"
      ]
     },
     "metadata": {},
     "output_type": "display_data"
    },
    {
     "data": {
      "text/plain": [
       "<Figure size 6400x4800 with 0 Axes>"
      ]
     },
     "metadata": {},
     "output_type": "display_data"
    }
   ],
   "source": [
    "tsne_plot('cr','aeda')"
   ]
  },
  {
   "cell_type": "code",
   "execution_count": 47,
   "metadata": {},
   "outputs": [
    {
     "name": "stdout",
     "output_type": "stream",
     "text": [
      "Model: \"sequential_3\"\n",
      "_________________________________________________________________\n",
      " Layer (type)                Output Shape              Param #   \n",
      "=================================================================\n",
      " bidirectional_6 (Bidirectio  (None, 25, 128)          186880    \n",
      " nal)                                                            \n",
      "                                                                 \n",
      " dropout_6 (Dropout)         (None, 25, 128)           0         \n",
      "                                                                 \n",
      " bidirectional_7 (Bidirectio  (None, 64)               41216     \n",
      " nal)                                                            \n",
      "                                                                 \n",
      " dropout_7 (Dropout)         (None, 64)                0         \n",
      "                                                                 \n",
      " dense_6 (Dense)             (None, 20)                1300      \n",
      "                                                                 \n",
      " dense_7 (Dense)             (None, 2)                 42        \n",
      "                                                                 \n",
      "=================================================================\n",
      "Total params: 229,438\n",
      "Trainable params: 229,438\n",
      "Non-trainable params: 0\n",
      "_________________________________________________________________\n",
      "2/2 [==============================] - 1s 6ms/step\n"
     ]
    },
    {
     "data": {
      "image/png": "[encoded data removed]",
      "text/plain": [
       "<Figure size 640x480 with 1 Axes>"
      ]
     },
     "metadata": {},
     "output_type": "display_data"
    },
    {
     "data": {
      "text/plain": [
       "<Figure size 6400x4800 with 0 Axes>"
      ]
     },
     "metadata": {},
     "output_type": "display_data"
    }
   ],
   "source": [
    "tsne_plot('cr','wordnet')"
   ]
  },
  {
   "cell_type": "code",
   "execution_count": 48,
   "metadata": {},
   "outputs": [
    {
     "name": "stdout",
     "output_type": "stream",
     "text": [
      "Model: \"sequential_3\"\n",
      "_________________________________________________________________\n",
      " Layer (type)                Output Shape              Param #   \n",
      "=================================================================\n",
      " bidirectional_6 (Bidirectio  (None, 25, 128)          186880    \n",
      " nal)                                                            \n",
      "                                                                 \n",
      " dropout_6 (Dropout)         (None, 25, 128)           0         \n",
      "                                                                 \n",
      " bidirectional_7 (Bidirectio  (None, 64)               41216     \n",
      " nal)                                                            \n",
      "                                                                 \n",
      " dropout_7 (Dropout)         (None, 64)                0         \n",
      "                                                                 \n",
      " dense_6 (Dense)             (None, 20)                1300      \n",
      "                                                                 \n",
      " dense_7 (Dense)             (None, 2)                 42        \n",
      "                                                                 \n",
      "=================================================================\n",
      "Total params: 229,438\n",
      "Trainable params: 229,438\n",
      "Non-trainable params: 0\n",
      "_________________________________________________________________\n",
      "2/2 [==============================] - 1s 6ms/step\n"
     ]
    },
    {
     "data": {
      "image/png": "[encoded data removed]",
      "text/plain": [
       "<Figure size 640x480 with 1 Axes>"
      ]
     },
     "metadata": {},
     "output_type": "display_data"
    },
    {
     "data": {
      "text/plain": [
       "<Figure size 6400x4800 with 0 Axes>"
      ]
     },
     "metadata": {},
     "output_type": "display_data"
    }
   ],
   "source": [
    "tsne_plot('cr','backtranslation')"
   ]
  },
  {
   "cell_type": "code",
   "execution_count": 49,
   "metadata": {},
   "outputs": [
    {
     "name": "stdout",
     "output_type": "stream",
     "text": [
      "Model: \"sequential_4\"\n",
      "_________________________________________________________________\n",
      " Layer (type)                Output Shape              Param #   \n",
      "=================================================================\n",
      " bidirectional_8 (Bidirectio  (None, 25, 128)          186880    \n",
      " nal)                                                            \n",
      "                                                                 \n",
      " dropout_8 (Dropout)         (None, 25, 128)           0         \n",
      "                                                                 \n",
      " bidirectional_9 (Bidirectio  (None, 64)               41216     \n",
      " nal)                                                            \n",
      "                                                                 \n",
      " dropout_9 (Dropout)         (None, 64)                0         \n",
      "                                                                 \n",
      " dense_8 (Dense)             (None, 20)                1300      \n",
      "                                                                 \n",
      " dense_9 (Dense)             (None, 2)                 42        \n",
      "                                                                 \n",
      "=================================================================\n",
      "Total params: 229,438\n",
      "Trainable params: 229,438\n",
      "Non-trainable params: 0\n",
      "_________________________________________________________________\n",
      "2/2 [==============================] - 1s 6ms/step\n"
     ]
    },
    {
     "data": {
      "image/png": "[encoded data removed]",
      "text/plain": [
       "<Figure size 640x480 with 1 Axes>"
      ]
     },
     "metadata": {},
     "output_type": "display_data"
    },
    {
     "data": {
      "text/plain": [
       "<Figure size 6400x4800 with 0 Axes>"
      ]
     },
     "metadata": {},
     "output_type": "display_data"
    }
   ],
   "source": [
    "tsne_plot('subj','eda')"
   ]
  },
  {
   "cell_type": "code",
   "execution_count": 50,
   "metadata": {},
   "outputs": [
    {
     "name": "stdout",
     "output_type": "stream",
     "text": [
      "Model: \"sequential_4\"\n",
      "_________________________________________________________________\n",
      " Layer (type)                Output Shape              Param #   \n",
      "=================================================================\n",
      " bidirectional_8 (Bidirectio  (None, 25, 128)          186880    \n",
      " nal)                                                            \n",
      "                                                                 \n",
      " dropout_8 (Dropout)         (None, 25, 128)           0         \n",
      "                                                                 \n",
      " bidirectional_9 (Bidirectio  (None, 64)               41216     \n",
      " nal)                                                            \n",
      "                                                                 \n",
      " dropout_9 (Dropout)         (None, 64)                0         \n",
      "                                                                 \n",
      " dense_8 (Dense)             (None, 20)                1300      \n",
      "                                                                 \n",
      " dense_9 (Dense)             (None, 2)                 42        \n",
      "                                                                 \n",
      "=================================================================\n",
      "Total params: 229,438\n",
      "Trainable params: 229,438\n",
      "Non-trainable params: 0\n",
      "_________________________________________________________________\n",
      "2/2 [==============================] - 1s 6ms/step\n"
     ]
    },
    {
     "data": {
      "image/png": "[encoded data removed]",
      "text/plain": [
       "<Figure size 640x480 with 1 Axes>"
      ]
     },
     "metadata": {},
     "output_type": "display_data"
    },
    {
     "data": {
      "text/plain": [
       "<Figure size 6400x4800 with 0 Axes>"
      ]
     },
     "metadata": {},
     "output_type": "display_data"
    }
   ],
   "source": [
    "tsne_plot('subj','aeda')"
   ]
  },
  {
   "cell_type": "code",
   "execution_count": 51,
   "metadata": {},
   "outputs": [
    {
     "name": "stdout",
     "output_type": "stream",
     "text": [
      "Model: \"sequential_4\"\n",
      "_________________________________________________________________\n",
      " Layer (type)                Output Shape              Param #   \n",
      "=================================================================\n",
      " bidirectional_8 (Bidirectio  (None, 25, 128)          186880    \n",
      " nal)                                                            \n",
      "                                                                 \n",
      " dropout_8 (Dropout)         (None, 25, 128)           0         \n",
      "                                                                 \n",
      " bidirectional_9 (Bidirectio  (None, 64)               41216     \n",
      " nal)                                                            \n",
      "                                                                 \n",
      " dropout_9 (Dropout)         (None, 64)                0         \n",
      "                                                                 \n",
      " dense_8 (Dense)             (None, 20)                1300      \n",
      "                                                                 \n",
      " dense_9 (Dense)             (None, 2)                 42        \n",
      "                                                                 \n",
      "=================================================================\n",
      "Total params: 229,438\n",
      "Trainable params: 229,438\n",
      "Non-trainable params: 0\n",
      "_________________________________________________________________\n",
      "2/2 [==============================] - 1s 5ms/step\n"
     ]
    },
    {
     "data": {
      "image/png": "[encoded data removed]",
      "text/plain": [
       "<Figure size 640x480 with 1 Axes>"
      ]
     },
     "metadata": {},
     "output_type": "display_data"
    },
    {
     "data": {
      "text/plain": [
       "<Figure size 6400x4800 with 0 Axes>"
      ]
     },
     "metadata": {},
     "output_type": "display_data"
    }
   ],
   "source": [
    "tsne_plot('subj','wordnet')"
   ]
  },
  {
   "cell_type": "code",
   "execution_count": 52,
   "metadata": {},
   "outputs": [
    {
     "name": "stdout",
     "output_type": "stream",
     "text": [
      "Model: \"sequential_4\"\n",
      "_________________________________________________________________\n",
      " Layer (type)                Output Shape              Param #   \n",
      "=================================================================\n",
      " bidirectional_8 (Bidirectio  (None, 25, 128)          186880    \n",
      " nal)                                                            \n",
      "                                                                 \n",
      " dropout_8 (Dropout)         (None, 25, 128)           0         \n",
      "                                                                 \n",
      " bidirectional_9 (Bidirectio  (None, 64)               41216     \n",
      " nal)                                                            \n",
      "                                                                 \n",
      " dropout_9 (Dropout)         (None, 64)                0         \n",
      "                                                                 \n",
      " dense_8 (Dense)             (None, 20)                1300      \n",
      "                                                                 \n",
      " dense_9 (Dense)             (None, 2)                 42        \n",
      "                                                                 \n",
      "=================================================================\n",
      "Total params: 229,438\n",
      "Trainable params: 229,438\n",
      "Non-trainable params: 0\n",
      "_________________________________________________________________\n",
      "2/2 [==============================] - 1s 6ms/step\n"
     ]
    },
    {
     "data": {
      "image/png": "[encoded data removed]",
      "text/plain": [
       "<Figure size 640x480 with 1 Axes>"
      ]
     },
     "metadata": {},
     "output_type": "display_data"
    },
    {
     "data": {
      "text/plain": [
       "<Figure size 6400x4800 with 0 Axes>"
      ]
     },
     "metadata": {},
     "output_type": "display_data"
    }
   ],
   "source": [
    "tsne_plot('subj','backtranslation')"
   ]
  },
  {
   "cell_type": "code",
   "execution_count": null,
   "metadata": {},
   "outputs": [],
   "source": []
  }
 ],
 "metadata": {
  "kernelspec": {
   "display_name": "Python 3.8.13 ('test')",
   "language": "python",
   "name": "python3"
  },
  "language_info": {
   "codemirror_mode": {
    "name": "ipython",
    "version": 3
   },
   "file_extension": ".py",
   "mimetype": "text/x-python",
   "name": "python",
   "nbconvert_exporter": "python",
   "pygments_lexer": "ipython3",
   "version": "3.8.13"
  },
  "orig_nbformat": 4,
  "vscode": {
   "interpreter": {
    "hash": "105d983fd7af724b4799aa016a3246070456ed2a0f153d4c18e29a0780e65f60"
   }
  }
 },
 "nbformat": 4,
 "nbformat_minor": 2
}
