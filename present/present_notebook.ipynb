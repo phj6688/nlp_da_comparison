{
 "cells": [
  {
   "cell_type": "markdown",
   "metadata": {},
   "source": [
    "## imports"
   ]
  },
  {
   "cell_type": "code",
   "execution_count": 3,
   "metadata": {},
   "outputs": [
    {
     "name": "stderr",
     "output_type": "stream",
     "text": [
      "2022-11-15 02:45:04.518925: I tensorflow/core/platform/cpu_feature_guard.cc:193] This TensorFlow binary is optimized with oneAPI Deep Neural Network Library (oneDNN) to use the following CPU instructions in performance-critical operations:  AVX2 FMA\n",
      "To enable them in other operations, rebuild TensorFlow with the appropriate compiler flags.\n",
      "2022-11-15 02:45:04.650799: E tensorflow/stream_executor/cuda/cuda_blas.cc:2981] Unable to register cuBLAS factory: Attempting to register factory for plugin cuBLAS when one has already been registered\n",
      "2022-11-15 02:45:05.141395: W tensorflow/stream_executor/platform/default/dso_loader.cc:64] Could not load dynamic library 'libnvinfer.so.7'; dlerror: libnvinfer.so.7: cannot open shared object file: No such file or directory\n",
      "2022-11-15 02:45:05.141438: W tensorflow/stream_executor/platform/default/dso_loader.cc:64] Could not load dynamic library 'libnvinfer_plugin.so.7'; dlerror: libnvinfer_plugin.so.7: cannot open shared object file: No such file or directory\n",
      "2022-11-15 02:45:05.141442: W tensorflow/compiler/tf2tensorrt/utils/py_utils.cc:38] TF-TRT Warning: Cannot dlopen some TensorRT libraries. If you would like to use Nvidia GPU with TensorRT, please make sure the missing libraries mentioned above are installed properly.\n"
     ]
    },
    {
     "name": "stdout",
     "output_type": "stream",
     "text": [
      "\u001b[H\u001b[2J"
     ]
    }
   ],
   "source": [
    "from aug import *\n",
    "from functions import *\n",
    "from tqdm import tqdm\n",
    "\n",
    "import plotly.express as px\n",
    "import matplotlib.pyplot as plt\n",
    "import numpy as np\n",
    "import pandas as pd\n",
    "import pickle\n",
    "\n",
    "from scipy.spatial import distance\n",
    "\n",
    "from sklearn.manifold import TSNE\n",
    "from sklearn.metrics import accuracy_score\n",
    "from sklearn.utils import shuffle\n",
    "\n",
    "from keras import backend as K\n",
    "from keras.layers import Dense, Dropout, LSTM, Bidirectional\n",
    "from keras.models import Sequential, load_model, Model\n",
    "from keras.callbacks import EarlyStopping\n",
    "\n",
    "import os\n",
    "os.environ['TF_CPP_MIN_LOG_LEVEL'] = '3'  #get rid of warnings"
   ]
  },
  {
   "cell_type": "markdown",
   "metadata": {},
   "source": [
    "## load model"
   ]
  },
  {
   "cell_type": "code",
   "execution_count": null,
   "metadata": {},
   "outputs": [],
   "source": [
    "model = load_model('eda_code/output/pc.h5')\n",
    "model.summary()"
   ]
  },
  {
   "cell_type": "code",
   "execution_count": null,
   "metadata": {},
   "outputs": [],
   "source": [
    "# intermediate_layer_model = Model(inputs=model.input, outputs=model.get_layer('dense_1').output)\n",
    "# intermediate_layer_model_with_k_function = K.function([model.input], [model.get_layer('dense_1').output])\n",
    "# get_4rd_layer_output = K.function([model.layers[0].input],[model.layers[5].output])"
   ]
  },
  {
   "cell_type": "markdown",
   "metadata": {},
   "source": [
    "## define functions"
   ]
  },
  {
   "cell_type": "code",
   "execution_count": 2,
   "metadata": {},
   "outputs": [],
   "source": [
    "def train_x(train_txt, word2vec_len, input_size, word2vec):\n",
    "\n",
    "\t#read in lines\n",
    "\ttrain_lines = open(train_txt, 'r').readlines()\n",
    "\tnum_lines = len(train_lines)\n",
    "\n",
    "\tx_matrix = np.zeros((num_lines, input_size, word2vec_len))\n",
    "\n",
    "\t#insert values\n",
    "\tfor i, line in enumerate(train_lines):\n",
    "\n",
    "\t\tparts = line[:-1].split('\\t')\n",
    "\t\tlabel = int(parts[0])\n",
    "\t\tsentence = parts[1]\t\n",
    "\n",
    "\t\t#insert x\n",
    "\t\twords = sentence.split(' ')\n",
    "\t\twords = words[:x_matrix.shape[1]] #cut off if too long\n",
    "\t\tfor j, word in enumerate(words):\n",
    "\t\t\tif word in word2vec:\n",
    "\t\t\t\tx_matrix[i, j, :] = word2vec[word]\n",
    "\n",
    "\treturn x_matrix\n",
    "\n",
    "\n",
    "\n",
    "\n",
    "\n",
    "\n",
    "def get_tsne_labels(file,num_aug):\n",
    "\tlabels = []\n",
    "\talphas = []\n",
    "\tlines = open(file, 'r').readlines()\n",
    "\tfor i, line in enumerate(lines):\n",
    "\t\tparts = line[:-1].split('\\t')\n",
    "\t\t_class = int(parts[0])\n",
    "\t\talpha = i % (num_aug+1)\n",
    "\t\tif alpha == 0:\n",
    "\t\t\tlabels.append(_class+100)\n",
    "\t\t\talphas.append(alpha)\n",
    "\t\telse:\n",
    "\t\t\tlabels.append(_class)\n",
    "\t\t\talphas.append(alpha)\n",
    "\treturn labels, alphas\n",
    "\n",
    "def get_plot_vectors(layer_output,perplexity=30,n_iter=1000,random_state=0,method='barnes_hut',learning_rate=200):\n",
    "\n",
    "\ttsne = TSNE(n_components=2,perplexity=perplexity,n_iter=n_iter,random_state=random_state,method=method,learning_rate=learning_rate).fit_transform(layer_output)\n",
    "\treturn tsne\n",
    "\n",
    "def plot_tsne(tsne, labels, output_path):\n",
    "\n",
    "\tlabel_to_legend_label = {'output/pc_last_dense_tsne.png':{\t0:'Con (augmented)', \n",
    "\t\t\t\t\t\t\t\t\t\t\t\t\t\t\t100:'Con (original)', \n",
    "\t\t\t\t\t\t\t\t\t\t\t\t\t\t\t1: 'Pro (augmented)', \n",
    "\t\t\t\t\t\t\t\t \t\t\t\t\t\t\t101:'Pro (original)'}\n",
    "\t\t\t\t\t\t\t\t,'output/cr_last_dense_tsne.png':{\t0:'Con (augmented)', \n",
    "\t\t\t\t\t\t\t\t\t\t\t\t\t\t\t100:'Con (original)', \n",
    "\t\t\t\t\t\t\t\t\t\t\t\t\t\t\t1: 'Pro (augmented)', \n",
    "\t\t\t\t\t\t\t\t \t\t\t\t\t\t\t101:'Pro (original)'}\n",
    "\t\t\t\t\t\t\t\t,'output/subj_last_dense_tsne.png':{\t0:'Con (augmented)', \n",
    "\t\t\t\t\t\t\t\t\t\t\t\t\t\t\t100:'Con (original)', \n",
    "\t\t\t\t\t\t\t\t\t\t\t\t\t\t\t1: 'Pro (augmented)', \n",
    "\t\t\t\t\t\t\t\t \t\t\t\t\t\t\t101:'Pro (original)'}}\n",
    "\t\t\t\t\t\t\t\t# 'outputs_f4/trec_last_dense_tsne.png':{0:'Description (augmented)',\n",
    "\t\t\t\t\t\t\t\t# \t\t\t\t\t\t\t100:'Description (original)',\n",
    "\t\t\t\t\t\t\t\t# \t\t\t\t\t\t\t1:'Entity (augmented)',\n",
    "\t\t\t\t\t\t\t\t# \t\t\t\t\t\t\t101:'Entity (original)',\n",
    "\t\t\t\t\t\t\t\t# \t\t\t\t\t\t\t2:'Abbreviation (augmented)',\n",
    "\t\t\t\t\t\t\t\t# \t\t\t\t\t\t\t102:'Abbreviation (original)',\n",
    "\t\t\t\t\t\t\t\t# \t\t\t\t\t\t\t3:'Human (augmented)',\n",
    "\t\t\t\t\t\t\t\t# \t\t\t\t\t\t\t103:'Human (original)',\n",
    "\t\t\t\t\t\t\t\t# \t\t\t\t\t\t\t4:'Location (augmented)',\n",
    "\t\t\t\t\t\t\t\t# \t\t\t\t\t\t\t104:'Location (original)',\n",
    "\t\t\t\t\t\t\t\t# \t\t\t\t\t\t\t5:'Number (augmented)',\n",
    "\t\t\t\t\t\t\t\t# \t\t\t\t\t\t\t105:'Number (original)'}}\n",
    "\n",
    "\tplot_to_legend_size = {'output/cr_last_dense_tsne.png':6,'output/pc_last_dense_tsne.png':6,'output/subj_last_dense_tsne.png':6}\n",
    "\n",
    "\tlabels = labels#.tolist() \n",
    "\tbig_groups = [label for label in labels if label < 100]\n",
    "\tbig_groups = list(sorted(set(big_groups)))\n",
    "\t\n",
    "\tcolors = ['b', 'g']#, 'r', 'c', 'm', 'y', 'k', '#ff1493', '#FF4500']\n",
    "\tfig, ax = plt.subplots()\n",
    "\n",
    "\tfor big_group in big_groups:\n",
    "\t\t\n",
    "\t\tfor group in [big_group, big_group+100]:\n",
    "\t\t\t\n",
    "\t\t\tx, y = [], []\n",
    "\n",
    "\t\t\tfor j, label in enumerate(labels):\n",
    "\t\t\t\tif label == group:\n",
    "\t\t\t\t\n",
    "\t\t\t\t\tx.append(tsne[j][0])\n",
    "\t\t\t\t\ty.append(tsne[j][1])\n",
    "\n",
    "\t\t\t#params\n",
    "\t\t\tcolor = colors[int(group % 100)]\n",
    "\t\t\tmarker = 'o' if group in[0,100] else '^'\n",
    "\t\t\tsize = 1 if group < 100 else 40\n",
    "\t\t\tfillstyles = color if group < 100 else 'none'\n",
    "\t\t\n",
    "\n",
    "\t\t\tlegend_label = label_to_legend_label[output_path][group]\n",
    "\t\t\t\n",
    "\t\t\tax.scatter(x, y, color=color, marker=marker, s=size, facecolors=fillstyles, label=legend_label)\n",
    "\t\t\tplt.axis('off')\n",
    "\n",
    "\tlegend_size = plot_to_legend_size[output_path]\n",
    "\tplt.legend(loc='best',prop={'size': legend_size})\n",
    "\t\n",
    "\tplt.figure(dpi=1000)\n",
    "\tplt.show()\n",
    "\n",
    "\n"
   ]
  },
  {
   "cell_type": "code",
   "execution_count": null,
   "metadata": {},
   "outputs": [],
   "source": []
  },
  {
   "cell_type": "markdown",
   "metadata": {},
   "source": [
    "## train model"
   ]
  },
  {
   "cell_type": "code",
   "execution_count": 3,
   "metadata": {},
   "outputs": [],
   "source": [
    "def build_model(sentence_length, word2vec_len, num_classes):\n",
    "    model = None\n",
    "    model = Sequential()\n",
    "    model.add(Bidirectional(LSTM(64, return_sequences=True), input_shape=(sentence_length, word2vec_len)))\n",
    "    model.add(Dropout(0.5))\n",
    "    model.add(Bidirectional(LSTM(32, return_sequences=False)))\n",
    "    model.add(Dropout(0.5))\n",
    "    model.add(Dense(20, activation='relu'))\n",
    "    model.add(Dense(num_classes, kernel_initializer='normal', activation='softmax'))\n",
    "    model.compile(loss='categorical_crossentropy', optimizer='adam', metrics=['accuracy'])\n",
    "    #print(model.summary())\n",
    "    return model"
   ]
  },
  {
   "cell_type": "code",
   "execution_count": 4,
   "metadata": {},
   "outputs": [],
   "source": [
    "word2vec_len = 300\n",
    "input_size = 25\n",
    "num_classes = 2\n"
   ]
  },
  {
   "cell_type": "code",
   "execution_count": 5,
   "metadata": {},
   "outputs": [],
   "source": [
    "dict_of_train_datasets = {'pc':'data/pc/train.txt','cr':'data/cr/train.txt','subj':'data/subj/train.txt'}\n",
    "dict_of_test_datasets = {'pc':'data/pc/test.txt','cr':'data/cr/test.txt','subj':'data/subj/test.txt'}\n",
    "\n",
    "dict_of_30_samples = {'pc':'data/pc/30_samples.txt','cr':'data/cr/30_samples.txt','subj':'data/subj/30_samples.txt'}\n",
    "\n",
    "dict_of_models = {'pc':'models/pc_model.h5','cr':'models/cr_model.h5','subj':'models/subj_model.h5'}\n",
    "\n",
    "dict_of_word2vec_files = {'pc':pickle.load(open('data/pc/word2vec.p', 'rb')),\n",
    "                        'cr':pickle.load(open('data/cr/word2vec.p', 'rb')),\n",
    "                        'subj':pickle.load(open('data/subj/word2vec.p', 'rb'))}\n",
    "# laod data\n",
    "df_train_pc = load_data('data/pc/train.txt')\n",
    "df_train_cr = load_data('data/cr/train.txt')\n",
    "df_train_subj = load_data('data/subj/train.txt')\n",
    "df_test_pc = load_data('data/pc/test.txt')\n",
    "df_test_cr = load_data('data/cr/test.txt')\n",
    "df_test_subj = load_data('data/subj/test.txt')"
   ]
  },
  {
   "cell_type": "code",
   "execution_count": 6,
   "metadata": {},
   "outputs": [],
   "source": [
    "def get_x_y(train_txt, num_classes, word2vec_len, input_size, word2vec, percent_dataset):\n",
    "\n",
    "    #read in lines\n",
    "    train_lines = open(train_txt, 'r').readlines()\n",
    "    shuffle(train_lines)\n",
    "    train_lines = train_lines[:int(percent_dataset*len(train_lines))]\n",
    "    num_lines = len(train_lines)\n",
    "\n",
    "    #initialize x and y matrix\n",
    "    x_matrix = None\n",
    "    y_matrix = None\n",
    "\n",
    "    try:\n",
    "        x_matrix = np.zeros((num_lines, input_size, word2vec_len))\n",
    "    except:\n",
    "        print(\"Error!\", num_lines, input_size, word2vec_len)\n",
    "    y_matrix = np.zeros((num_lines, num_classes))\n",
    "\n",
    "    #insert values\n",
    "    for i, line in enumerate(train_lines):\n",
    "\n",
    "        parts = line[:-1].split('\\t')\n",
    "        label = int(parts[0])\n",
    "        sentence = parts[1]\t\n",
    "\n",
    "        #insert x\n",
    "        words = sentence.split(' ')\n",
    "        words = words[:x_matrix.shape[1]] #cut off if too long\n",
    "        for j, word in enumerate(words):\n",
    "            if word in word2vec:\n",
    "                x_matrix[i, j, :] = word2vec[word]\n",
    "\n",
    "        #insert y\n",
    "        y_matrix[i][label] = 1.0\n",
    "\n",
    "    return x_matrix, y_matrix"
   ]
  },
  {
   "cell_type": "code",
   "execution_count": 7,
   "metadata": {},
   "outputs": [],
   "source": [
    "#one hot to categorical\n",
    "def one_hot_to_categorical(y):\n",
    "    assert len(y.shape) == 2\n",
    "    return np.argmax(y, axis=1)\n",
    "#load data\n",
    "def run_model(dataset_name):\n",
    "\ttrain_x, train_y = get_x_y(dict_of_train_datasets[dataset_name], num_classes, word2vec_len, input_size, dict_of_word2vec_files[dataset_name], 1)\n",
    "\ttest_x, test_y = get_x_y(dict_of_test_datasets[dataset_name], num_classes, word2vec_len, input_size, dict_of_word2vec_files[dataset_name], 1)\n",
    "\n",
    "\t#build model\n",
    "\tmodel = build_model(input_size, word2vec_len, num_classes)\n",
    "\n",
    "\tcallbacks = [EarlyStopping(monitor='val_loss', patience=3)]\n",
    "\n",
    "\t#train model\n",
    "\tmodel.fit(\ttrain_x, \n",
    "\t\t\t\t\ttrain_y, \n",
    "\t\t\t\t\tepochs=100000, \n",
    "\t\t\t\t\tcallbacks=callbacks,\n",
    "\t\t\t\t\tvalidation_split=0.1, \n",
    "\t\t\t\t\tbatch_size=1024, \n",
    "\t\t\t\t\tshuffle=True, \n",
    "\t\t\t\t\tverbose=0)\n",
    "\t#save the model\n",
    "\tmodel.save(dict_of_models[dataset_name])\n",
    "\n",
    "\n",
    "\t#evaluate model\n",
    "\ty_pred = model.predict(test_x)\n",
    "\ttest_y_cat = one_hot_to_categorical(test_y)\n",
    "\ty_pred_cat = one_hot_to_categorical(y_pred)\n",
    "\tacc = accuracy_score(test_y_cat, y_pred_cat)\n",
    "\n",
    "\t#clean memory???\n",
    "\ttrain_x, train_y = None, None\n",
    "\n",
    "\t#return the accuracy\n",
    "\t#print(\"data with shape:\", train_x.shape, train_y.shape, 'train=', train_file, 'test=', test_file, 'with fraction', percent_dataset, 'had acc', acc)\n",
    "\treturn acc"
   ]
  },
  {
   "cell_type": "code",
   "execution_count": 8,
   "metadata": {},
   "outputs": [
    {
     "name": "stderr",
     "output_type": "stream",
     "text": [
      "2022-11-14 13:44:10.463010: I tensorflow/stream_executor/cuda/cuda_gpu_executor.cc:980] successful NUMA node read from SysFS had negative value (-1), but there must be at least one NUMA node, so returning NUMA node zero\n",
      "2022-11-14 13:44:10.463683: W tensorflow/stream_executor/platform/default/dso_loader.cc:64] Could not load dynamic library 'libcudnn.so.8'; dlerror: libcudnn.so.8: cannot open shared object file: No such file or directory\n",
      "2022-11-14 13:44:10.463692: W tensorflow/core/common_runtime/gpu/gpu_device.cc:1934] Cannot dlopen some GPU libraries. Please make sure the missing libraries mentioned above are installed properly if you would like to use GPU. Follow the guide at https://www.tensorflow.org/install/gpu for how to download and setup the required libraries for your platform.\n",
      "Skipping registering GPU devices...\n",
      "2022-11-14 13:44:10.463836: I tensorflow/core/platform/cpu_feature_guard.cc:193] This TensorFlow binary is optimized with oneAPI Deep Neural Network Library (oneDNN) to use the following CPU instructions in performance-critical operations:  AVX2 FMA\n",
      "To enable them in other operations, rebuild TensorFlow with the appropriate compiler flags.\n",
      "2022-11-14 13:44:11.935941: W tensorflow/core/framework/cpu_allocator_impl.cc:82] Allocation of 1080000000 exceeds 10% of free system memory.\n",
      "2022-11-14 13:44:15.518033: W tensorflow/core/framework/cpu_allocator_impl.cc:82] Allocation of 30720000 exceeds 10% of free system memory.\n",
      "2022-11-14 13:44:15.518061: W tensorflow/core/framework/cpu_allocator_impl.cc:82] Allocation of 30720000 exceeds 10% of free system memory.\n",
      "2022-11-14 13:44:15.518076: W tensorflow/core/framework/cpu_allocator_impl.cc:82] Allocation of 30720000 exceeds 10% of free system memory.\n",
      "2022-11-14 13:44:15.518163: W tensorflow/core/framework/cpu_allocator_impl.cc:82] Allocation of 30720000 exceeds 10% of free system memory.\n"
     ]
    },
    {
     "name": "stdout",
     "output_type": "stream",
     "text": [
      "182/182 [==============================] - 2s 6ms/step\n"
     ]
    },
    {
     "data": {
      "text/plain": [
       "0.9235273854633138"
      ]
     },
     "execution_count": 8,
     "metadata": {},
     "output_type": "execute_result"
    }
   ],
   "source": [
    "run_model('pc')"
   ]
  },
  {
   "cell_type": "code",
   "execution_count": null,
   "metadata": {},
   "outputs": [],
   "source": [
    "run_model('cr')"
   ]
  },
  {
   "cell_type": "code",
   "execution_count": null,
   "metadata": {},
   "outputs": [],
   "source": [
    "run_model('subj')"
   ]
  },
  {
   "cell_type": "markdown",
   "metadata": {},
   "source": [
    "## Augmenting data"
   ]
  },
  {
   "cell_type": "code",
   "execution_count": null,
   "metadata": {},
   "outputs": [],
   "source": [
    "def aug_samples(dataset_name):\n",
    "    data = load_data(dict_of_30_samples['pc'])\n",
    "    methods = ['eda_augmenter','wordnet_augmenter','aeda_augmenter','backtranslation_augmenter']\n",
    "    for method in methods:\n",
    "        augmented_data = augment_text(data, method,fraction=1,pct_words_to_swap=0.2 ,transformations_per_example=1,\n",
    "                    label_column='class',target_column='text',include_original=True)\n",
    "        augmented_data = augmented_data[['class','text']]\n",
    "        np.savetxt(f'data/{dataset_name}/{method}_augmented.txt', augmented_data.values, fmt='%s', delimiter='\\t')"
   ]
  },
  {
   "cell_type": "code",
   "execution_count": null,
   "metadata": {},
   "outputs": [],
   "source": [
    "aug_samples('pc')"
   ]
  },
  {
   "cell_type": "code",
   "execution_count": null,
   "metadata": {},
   "outputs": [],
   "source": [
    "aug_samples('cr')"
   ]
  },
  {
   "cell_type": "code",
   "execution_count": null,
   "metadata": {},
   "outputs": [],
   "source": [
    "aug_samples('subj')"
   ]
  },
  {
   "cell_type": "markdown",
   "metadata": {},
   "source": [
    "## TSNE"
   ]
  },
  {
   "cell_type": "code",
   "execution_count": null,
   "metadata": {},
   "outputs": [],
   "source": [
    "dict_of_eda_augmented_datasets = {'pc':'data/pc/eda_augmenter_augmented.txt', 'cr':'data/cr/eda_augmenter_augmented.txt', 'subj':'data/subj/eda_augmenter_augmented.txt'}\n",
    "dict_of_wordnet_augmented_datasets = {'pc':'data/pc/wordnet_augmenter_augmented.txt', 'cr':'data/cr/wordnet_augmenter_augmented.txt', 'subj':'data/subj/wordnet_augmenter_augmented.txt'}\n",
    "dict_of_aeda_augmented_datasets = {'pc':'data/pc/aeda_augmenter_augmented.txt', 'cr':'data/cr/aeda_augmenter_augmented.txt', 'subj':'data/subj/aeda_augmenter_augmented.txt'}\n",
    "dict_of_backtranslation_augmented_datasets = {'pc':'data/pc/backtranslation_augmenter_augmented.txt', 'cr':'data/cr/backtranslation_augmenter_augmented.txt', 'subj':'data/subj/backtranslation_augmenter_augmented.txt'}\n",
    "\n",
    "dict_of_aug_methods = {'eda':dict_of_eda_augmented_datasets, 'wordnet':dict_of_wordnet_augmented_datasets, 'aeda':dict_of_aeda_augmented_datasets, 'backtranslation':dict_of_backtranslation_augmented_datasets}\n",
    "\n",
    "\n",
    "def tsne_plot(dataset_name,method_name):\n",
    "\n",
    "    \n",
    "    \n",
    "    model = load_model(dict_of_models[dataset_name])\n",
    "    \n",
    "    model.summary()\n",
    "\n",
    "    word2vec = dict_of_word2vec_files[dataset_name]\n",
    "    word2vec_len = 300\n",
    "    input_size = 25\n",
    "\n",
    "    original_file = dict_of_30_samples[dataset_name]\n",
    "    augmented_file = dict_of_aug_methods[method_name][dataset_name]\n",
    "    \n",
    "\n",
    "\n",
    "    X = train_x(augmented_file, word2vec_len, input_size, word2vec)\n",
    "    labels, _ = get_tsne_labels(augmented_file,1)\n",
    "\n",
    "\n",
    "    intermediate_layer_model = Model(inputs=model.input, outputs=model.get_layer(model.layers[5].name).output)\n",
    "    layer_output = intermediate_layer_model.predict(X)\n",
    "\n",
    "    #layer_output = K.function([model.layers[0].input],[model.layers[4].output])([X])[0]\n",
    "\n",
    "    t = get_plot_vectors(layer_output,perplexity=30,n_iter=5000,random_state=10,method='exact')\n",
    "\n",
    "    plot_tsne(t, labels, 'output/pc_last_dense_tsne.png')"
   ]
  },
  {
   "cell_type": "code",
   "execution_count": null,
   "metadata": {},
   "outputs": [],
   "source": []
  },
  {
   "cell_type": "code",
   "execution_count": null,
   "metadata": {},
   "outputs": [],
   "source": [
    "tsne_plot('pc','aeda')"
   ]
  },
  {
   "cell_type": "code",
   "execution_count": null,
   "metadata": {},
   "outputs": [],
   "source": [
    "tsne_plot('pc','eda')"
   ]
  },
  {
   "cell_type": "code",
   "execution_count": null,
   "metadata": {},
   "outputs": [],
   "source": [
    "tsne_plot('pc','wordnet')"
   ]
  },
  {
   "cell_type": "code",
   "execution_count": null,
   "metadata": {},
   "outputs": [],
   "source": [
    "tsne_plot('pc','backtranslation')"
   ]
  },
  {
   "cell_type": "code",
   "execution_count": null,
   "metadata": {},
   "outputs": [],
   "source": [
    "tsne_plot('cr','eda')"
   ]
  },
  {
   "cell_type": "code",
   "execution_count": null,
   "metadata": {},
   "outputs": [],
   "source": [
    "tsne_plot('cr','aeda')"
   ]
  },
  {
   "cell_type": "code",
   "execution_count": null,
   "metadata": {},
   "outputs": [],
   "source": [
    "tsne_plot('cr','wordnet')"
   ]
  },
  {
   "cell_type": "code",
   "execution_count": null,
   "metadata": {},
   "outputs": [],
   "source": [
    "tsne_plot('cr','backtranslation')"
   ]
  },
  {
   "cell_type": "code",
   "execution_count": null,
   "metadata": {},
   "outputs": [],
   "source": [
    "tsne_plot('subj','eda')"
   ]
  },
  {
   "cell_type": "code",
   "execution_count": null,
   "metadata": {},
   "outputs": [],
   "source": [
    "tsne_plot('subj','aeda')"
   ]
  },
  {
   "cell_type": "code",
   "execution_count": null,
   "metadata": {},
   "outputs": [],
   "source": [
    "tsne_plot('subj','wordnet')"
   ]
  },
  {
   "cell_type": "code",
   "execution_count": null,
   "metadata": {},
   "outputs": [],
   "source": [
    "tsne_plot('subj','backtranslation')"
   ]
  },
  {
   "cell_type": "code",
   "execution_count": null,
   "metadata": {},
   "outputs": [],
   "source": []
  },
  {
   "cell_type": "code",
   "execution_count": null,
   "metadata": {},
   "outputs": [],
   "source": []
  },
  {
   "cell_type": "code",
   "execution_count": null,
   "metadata": {},
   "outputs": [],
   "source": []
  },
  {
   "cell_type": "code",
   "execution_count": null,
   "metadata": {},
   "outputs": [],
   "source": []
  },
  {
   "cell_type": "code",
   "execution_count": null,
   "metadata": {},
   "outputs": [],
   "source": []
  },
  {
   "cell_type": "markdown",
   "metadata": {},
   "source": [
    "## Plotly TSNE"
   ]
  },
  {
   "cell_type": "code",
   "execution_count": null,
   "metadata": {},
   "outputs": [],
   "source": [
    "model = load_model(dict_of_models['subj'])\n",
    "model.summary()"
   ]
  },
  {
   "cell_type": "code",
   "execution_count": null,
   "metadata": {},
   "outputs": [],
   "source": [
    "word2vec = dict_of_word2vec_files['subj']\n",
    "word2vec_len = 300\n",
    "input_size = 25"
   ]
  },
  {
   "cell_type": "code",
   "execution_count": 6,
   "metadata": {},
   "outputs": [],
   "source": [
    "dict_of_eda_augmented_datasets = {'pc':'data/pc/eda_augmenter_augmented.txt', 'cr':'data/cr/eda_augmenter_augmented.txt', 'subj':'data/subj/eda_augmenter_augmented.txt'}\n",
    "dict_of_wordnet_augmented_datasets = {'pc':'data/pc/wordnet_augmenter_augmented.txt', 'cr':'data/cr/wordnet_augmenter_augmented.txt', 'subj':'data/subj/wordnet_augmenter_augmented.txt'}\n",
    "dict_of_aeda_augmented_datasets = {'pc':'data/pc/aeda_augmenter_augmented.txt', 'cr':'data/cr/aeda_augmenter_augmented.txt', 'subj':'data/subj/aeda_augmenter_augmented.txt'}\n",
    "dict_of_backtranslation_augmented_datasets = {'pc':'data/pc/backtranslation_augmenter_augmented.txt', 'cr':'data/cr/backtranslation_augmenter_augmented.txt', 'subj':'data/subj/backtranslation_augmenter_augmented.txt'}\n",
    "\n",
    "dict_of_aug_methods = {'eda':dict_of_eda_augmented_datasets, 'wordnet':dict_of_wordnet_augmented_datasets, 'aeda':dict_of_aeda_augmented_datasets, 'backtranslation':dict_of_backtranslation_augmented_datasets}\n"
   ]
  },
  {
   "cell_type": "code",
   "execution_count": null,
   "metadata": {},
   "outputs": [],
   "source": [
    "augmented_file = dict_of_aug_methods['eda']['subj']"
   ]
  },
  {
   "cell_type": "code",
   "execution_count": null,
   "metadata": {},
   "outputs": [],
   "source": [
    "print(augmented_file)"
   ]
  },
  {
   "cell_type": "code",
   "execution_count": null,
   "metadata": {},
   "outputs": [],
   "source": [
    "X = train_x(augmented_file, word2vec_len, input_size, word2vec)"
   ]
  },
  {
   "cell_type": "code",
   "execution_count": null,
   "metadata": {},
   "outputs": [],
   "source": [
    "\n",
    "def plotly_tsne(df, df_name, method):\n",
    "    total_distance = df['distance'].sum()\n",
    "    fig = px.scatter(df, x='x', y='y', color='color'\n",
    "                                , size='size'\n",
    "                                , symbol='symbol'\n",
    "                                , title=f't-SNE plot of {df_name} dataset with {method} augmentation method, total distance: {total_distance:.4f}'\n",
    "                                , custom_data=[df['text'],df['label'],df['distance']]\n",
    "                                #,labels={'label':'bbb', 'y':''}                   \n",
    "                                ).update_traces(hovertemplate='Text: %{customdata[0]} <br>' +\n",
    "                                                                            'Label: %{customdata[1]} <br>' +\n",
    "                                                                            'Distance: %{customdata[2]:.5f} <br>' )\n",
    "    fig.show()\n",
    "                       \n",
    "\n",
    "def cal_distance(df,number_of_augmentation_per_sample):\n",
    "    dists = []\n",
    "    for i in range(0,len(df),number_of_augmentation_per_sample+1):\n",
    "        point_a = df[['x','y']].iloc[i]\n",
    "        point_b = df[['x','y']].iloc[i+1]\n",
    "        dist = distance.euclidean(point_a, point_b)\n",
    "        dists.append(dist)\n",
    "    dists = np.repeat(dists, 2)\n",
    "    return dists\n",
    "\n",
    "\n",
    "labels, _ = get_tsne_labels(augmented_file,1)\n",
    "\n",
    "def label_to_str_map(x):\n",
    "    if x == 0:\n",
    "        return 'Con (augmented)'\n",
    "    elif x == 1:\n",
    "        return 'Pro (augmented)'\n",
    "    elif x == 100:\n",
    "        return 'Con (original)'\n",
    "    elif x == 101:\n",
    "        return 'Pro (original)'\n",
    "\n",
    "def label_to_color_map(x):\n",
    "    if x == 100 or x == 0:\n",
    "        return 'red'\n",
    "    elif x == 1 or x == 101:\n",
    "        return 'blue'\n",
    "\n",
    "def label_to_size_map(x):\n",
    "    if x >= 100:\n",
    "        return 100\n",
    "    elif x < 100:\n",
    "        return 10\n",
    "\n",
    "def label_to_symbol_map(x):\n",
    "    if x == 0 or x == 100:\n",
    "        return '^'\n",
    "    elif x == 1 or x == 101:\n",
    "        return 'o'\n",
    "\n",
    "labels_str = list(map(label_to_str_map,labels))\n",
    "labels_color = list(map(label_to_color_map,labels))\n",
    "labels_size = list(map(label_to_size_map,labels))\n",
    "labels_symbol = list(map(label_to_symbol_map,labels))\n"
   ]
  },
  {
   "cell_type": "code",
   "execution_count": null,
   "metadata": {},
   "outputs": [],
   "source": [
    "intermediate_layer_model = Model(inputs=model.input, outputs=model.get_layer(model.layers[5].name).output)\n",
    "layer_output = intermediate_layer_model.predict(X)"
   ]
  },
  {
   "cell_type": "code",
   "execution_count": null,
   "metadata": {},
   "outputs": [],
   "source": [
    "t = get_plot_vectors(layer_output,perplexity=30,n_iter=5000,random_state=10,method='exact')"
   ]
  },
  {
   "cell_type": "code",
   "execution_count": null,
   "metadata": {},
   "outputs": [],
   "source": [
    "df_t = pd.DataFrame(t, columns=['x','y'])\n",
    "df_text = load_data(augmented_file)\n",
    "\n",
    "\n",
    "\n",
    "df_text = df_text[['text']]\n",
    "df_t['distance'] = cal_distance(df_t,1)\n",
    "df_t['text'] = df_text['text']\n",
    "df_t['label'] = labels_str\n",
    "df_t['color'] = labels_color\n",
    "df_t['size'] = labels_size\n",
    "df_t['symbol'] = labels_symbol\n",
    "\n"
   ]
  },
  {
   "cell_type": "code",
   "execution_count": null,
   "metadata": {},
   "outputs": [],
   "source": [
    "def plotly_tsne(df, df_name, method):\n",
    "    total_distance = df['distance'].sum()/2\n",
    "    fig = px.scatter(df, x='x', y='y', color='color'\n",
    "                                , size='size'\n",
    "                                , symbol='symbol'\n",
    "                                , title=f't-SNE plot of {df_name} dataset with {method} augmentation method, total distance: {total_distance:.4f}'\n",
    "                                , custom_data=[df['text'],df['label'],df['distance']]\n",
    "                                ).update_traces(hovertemplate='Text: %{customdata[0]} <br>' +\n",
    "                                                                            'Label: %{customdata[1]} <br>' +\n",
    "                                                                            'Distance: %{customdata[2]:.5f} <br>' )\n",
    "    fig.update_layout(showlegend=False)\n",
    "    fig.show()"
   ]
  },
  {
   "cell_type": "code",
   "execution_count": null,
   "metadata": {},
   "outputs": [],
   "source": [
    "plotly_tsne(df_t, 'pc','eda')"
   ]
  },
  {
   "cell_type": "code",
   "execution_count": null,
   "metadata": {},
   "outputs": [],
   "source": []
  },
  {
   "cell_type": "code",
   "execution_count": null,
   "metadata": {},
   "outputs": [],
   "source": []
  },
  {
   "cell_type": "code",
   "execution_count": null,
   "metadata": {},
   "outputs": [],
   "source": []
  },
  {
   "cell_type": "code",
   "execution_count": null,
   "metadata": {},
   "outputs": [],
   "source": []
  },
  {
   "cell_type": "markdown",
   "metadata": {},
   "source": [
    "## experimental"
   ]
  },
  {
   "cell_type": "code",
   "execution_count": 100,
   "metadata": {},
   "outputs": [],
   "source": [
    "def train_x(train_txt, word2vec_len, input_size, word2vec):\n",
    "\n",
    "\t#read in lines\n",
    "\ttrain_lines = open(train_txt, 'r').readlines()\n",
    "\tnum_lines = len(train_lines)\n",
    "\n",
    "\tx_matrix = np.zeros((num_lines, input_size, word2vec_len))\n",
    "\n",
    "\t#insert values\n",
    "\tfor i, line in enumerate(train_lines):\n",
    "\n",
    "\t\tparts = line[:-1].split('\\t')\n",
    "\t\tlabel = int(parts[0])\n",
    "\t\tsentence = parts[1]\t\n",
    "\n",
    "\t\t#insert x\n",
    "\t\twords = sentence.split(' ')\n",
    "\t\twords = words[:x_matrix.shape[1]] #cut off if too long\n",
    "\t\tfor j, word in enumerate(words):\n",
    "\t\t\tif word in word2vec:\n",
    "\t\t\t\tx_matrix[i, j, :] = word2vec[word]\n",
    "\n",
    "\treturn x_matrix\n",
    "\n",
    "\n",
    "\n",
    "\n",
    "\n",
    "def plotly_tsne(df, df_name, method):\n",
    "    total_distance = df['normailized_distance'].sum()/2\n",
    "    fig = px.scatter(df, x='x', y='y', color='color'\n",
    "                                , size='size'\n",
    "                                , symbol='symbol'\n",
    "                                , title=f't-SNE plot of {df_name} dataset with {method} augmentation method, total distance: {total_distance:.4f}'\n",
    "                                , custom_data=[df['text'],df['label'],df['distance']]\n",
    "                                #,labels={'label':'bbb', 'y':''}                   \n",
    "                                ).update_traces(hovertemplate='Text: %{customdata[0]} <br>' +\n",
    "                                                                            'Label: %{customdata[1]} <br>' +\n",
    "                                                                            'Distance: %{customdata[2]:.5f} <br>' )\n",
    "    fig.update_layout(showlegend=False)\n",
    "    fig.show()\n",
    "                       \n",
    "\n",
    "def cal_distance(df,number_of_augmentation_per_sample):\n",
    "    dists = []\n",
    "    for i in range(0,len(df),number_of_augmentation_per_sample+1):\n",
    "        point_a = df[['x','y']].iloc[i]\n",
    "        point_b = df[['x','y']].iloc[i+1]\n",
    "        dist = distance.euclidean(point_a, point_b)\n",
    "        dists.append(dist)\n",
    "    dists = np.repeat(dists, 2)\n",
    "    return dists\n",
    "\n",
    "\n",
    "\n",
    "def label_to_str_map(x):\n",
    "    if x == 0:\n",
    "        return 'Con (augmented)'\n",
    "    elif x == 1:\n",
    "        return 'Pro (augmented)'\n",
    "    elif x == 100:\n",
    "        return 'Con (original)'\n",
    "    elif x == 101:\n",
    "        return 'Pro (original)'\n",
    "\n",
    "def label_to_color_map(x):\n",
    "    if x == 100 or x == 0:\n",
    "        return 'red'\n",
    "    elif x == 1 or x == 101:\n",
    "        return 'blue'\n",
    "\n",
    "def label_to_size_map(x):\n",
    "    if x >= 100:\n",
    "        return 100\n",
    "    elif x < 100:\n",
    "        return 10\n",
    "\n",
    "def label_to_symbol_map(x):\n",
    "    if x == 0 or x == 100:\n",
    "        return '^'\n",
    "    elif x == 1 or x == 101:\n",
    "        return 'o'\n",
    "\n",
    "\n",
    "def get_tsne_labels(file,num_aug):\n",
    "\tlabels = []\n",
    "\talphas = []\n",
    "\tlines = open(file, 'r').readlines()\n",
    "\tfor i, line in enumerate(lines):\n",
    "\t\tparts = line[:-1].split('\\t')\n",
    "\t\t_class = int(parts[0])\n",
    "\t\talpha = i % (num_aug+1)\n",
    "\t\tif alpha == 0:\n",
    "\t\t\tlabels.append(_class+100)\n",
    "\t\t\talphas.append(alpha)\n",
    "\t\telse:\n",
    "\t\t\tlabels.append(_class)\n",
    "\t\t\talphas.append(alpha)\n",
    "\treturn labels, alphas\n",
    "\n",
    "def get_plot_vectors(layer_output,perplexity=30,n_iter=1000,random_state=0,method='barnes_hut',learning_rate=200):\n",
    "\n",
    "\ttsne = TSNE(n_components=2,perplexity=perplexity,n_iter=n_iter,random_state=random_state,method=method,learning_rate=learning_rate).fit_transform(layer_output)\n",
    "\treturn tsne\n",
    "\n",
    "\n",
    "def get_x_y(train_txt, num_classes, word2vec_len, input_size, word2vec, percent_dataset):\n",
    "\n",
    "    #read in lines\n",
    "    train_lines = open(train_txt, 'r').readlines()\n",
    "    shuffle(train_lines)\n",
    "    train_lines = train_lines[:int(percent_dataset*len(train_lines))]\n",
    "    num_lines = len(train_lines)\n",
    "\n",
    "    #initialize x and y matrix\n",
    "    x_matrix = None\n",
    "    y_matrix = None\n",
    "\n",
    "    try:\n",
    "        x_matrix = np.zeros((num_lines, input_size, word2vec_len))\n",
    "    except:\n",
    "        print(\"Error!\", num_lines, input_size, word2vec_len)\n",
    "    y_matrix = np.zeros((num_lines, num_classes))\n",
    "\n",
    "    #insert values\n",
    "    for i, line in enumerate(train_lines):\n",
    "\n",
    "        parts = line[:-1].split('\\t')\n",
    "        label = int(parts[0])\n",
    "        sentence = parts[1]\t\n",
    "\n",
    "        #insert x\n",
    "        words = sentence.split(' ')\n",
    "        words = words[:x_matrix.shape[1]] #cut off if too long\n",
    "        for j, word in enumerate(words):\n",
    "            if word in word2vec:\n",
    "                x_matrix[i, j, :] = word2vec[word]\n",
    "\n",
    "        #insert y\n",
    "        y_matrix[i][label] = 1.0\n",
    "\n",
    "    return x_matrix, y_matrix\n",
    "\n",
    "\n",
    "def one_hot_to_categorical(y):\n",
    "    assert len(y.shape) == 2\n",
    "    return np.argmax(y, axis=1)"
   ]
  },
  {
   "cell_type": "code",
   "execution_count": 101,
   "metadata": {},
   "outputs": [],
   "source": [
    "dict_of_train_datasets = {'pc':'data/pc/train.txt','cr':'data/cr/train.txt','subj':'data/subj/train.txt'}\n",
    "dict_of_test_datasets = {'pc':'data/pc/test.txt','cr':'data/cr/test.txt','subj':'data/subj/test.txt'}\n",
    "\n",
    "dict_of_30_samples = {'pc':'data/pc/30_samples.txt','cr':'data/cr/30_samples.txt','subj':'data/subj/30_samples.txt'}\n",
    "\n",
    "dict_of_models = {'pc':'models/pc_model.h5','cr':'models/cr_model.h5','subj':'models/subj_model.h5'}\n",
    "\n",
    "dict_of_word2vec_files = {'pc':pickle.load(open('data/pc/word2vec.p', 'rb')),\n",
    "                        'cr':pickle.load(open('data/cr/word2vec.p', 'rb')),\n",
    "                        'subj':pickle.load(open('data/subj/word2vec.p', 'rb'))}\n",
    "\n",
    "\n",
    "dict_of_eda_augmented_datasets = {'pc':'data/pc/eda_augmenter_augmented.txt', 'cr':'data/cr/eda_augmenter_augmented.txt', 'subj':'data/subj/eda_augmenter_augmented.txt'}\n",
    "dict_of_wordnet_augmented_datasets = {'pc':'data/pc/wordnet_augmenter_augmented.txt', 'cr':'data/cr/wordnet_augmenter_augmented.txt', 'subj':'data/subj/wordnet_augmenter_augmented.txt'}\n",
    "dict_of_aeda_augmented_datasets = {'pc':'data/pc/aeda_augmenter_augmented.txt', 'cr':'data/cr/aeda_augmenter_augmented.txt', 'subj':'data/subj/aeda_augmenter_augmented.txt'}\n",
    "dict_of_backtranslation_augmented_datasets = {'pc':'data/pc/backtranslation_augmenter_augmented.txt', 'cr':'data/cr/backtranslation_augmenter_augmented.txt', 'subj':'data/subj/backtranslation_augmenter_augmented.txt'}\n",
    "\n",
    "dict_of_aug_methods = {'eda':dict_of_eda_augmented_datasets, 'wordnet':dict_of_wordnet_augmented_datasets, 'aeda':dict_of_aeda_augmented_datasets, 'backtranslation':dict_of_backtranslation_augmented_datasets}\n"
   ]
  },
  {
   "cell_type": "code",
   "execution_count": 103,
   "metadata": {},
   "outputs": [],
   "source": [
    "model = load_model(dict_of_models['cr'])"
   ]
  },
  {
   "cell_type": "code",
   "execution_count": 104,
   "metadata": {},
   "outputs": [],
   "source": [
    "word2vec = dict_of_word2vec_files['cr']\n",
    "word2vec_len = 300\n",
    "input_size = 25"
   ]
  },
  {
   "cell_type": "code",
   "execution_count": 105,
   "metadata": {},
   "outputs": [],
   "source": [
    "augmented_file = dict_of_aug_methods['eda']['cr']"
   ]
  },
  {
   "cell_type": "code",
   "execution_count": 106,
   "metadata": {},
   "outputs": [],
   "source": [
    "X = train_x(augmented_file, word2vec_len, input_size, word2vec)"
   ]
  },
  {
   "cell_type": "code",
   "execution_count": 107,
   "metadata": {},
   "outputs": [],
   "source": [
    "labels, _ = get_tsne_labels(augmented_file,1)"
   ]
  },
  {
   "cell_type": "code",
   "execution_count": 108,
   "metadata": {},
   "outputs": [],
   "source": [
    "labels_str = list(map(label_to_str_map,labels))\n",
    "labels_color = list(map(label_to_color_map,labels))\n",
    "labels_size = list(map(label_to_size_map,labels))\n",
    "labels_symbol = list(map(label_to_symbol_map,labels))"
   ]
  },
  {
   "cell_type": "code",
   "execution_count": 109,
   "metadata": {},
   "outputs": [
    {
     "name": "stdout",
     "output_type": "stream",
     "text": [
      "2/2 [==============================] - 1s 5ms/step\n"
     ]
    }
   ],
   "source": [
    "intermediate_layer_model = Model(inputs=model.input, outputs=model.get_layer(model.layers[4].name).output)\n",
    "layer_output = intermediate_layer_model.predict(X)"
   ]
  },
  {
   "cell_type": "code",
   "execution_count": 110,
   "metadata": {},
   "outputs": [],
   "source": [
    "t = get_plot_vectors(layer_output,perplexity=30,n_iter=10000,random_state=10,method='barnes_hut')"
   ]
  },
  {
   "cell_type": "code",
   "execution_count": 125,
   "metadata": {},
   "outputs": [
    {
     "name": "stdout",
     "output_type": "stream",
     "text": [
      "2/2 [==============================] - 0s 5ms/step\n"
     ]
    }
   ],
   "source": [
    "df_t = pd.DataFrame(t, columns=['x','y'])\n",
    "df_t['standardized_x'] = df_t['x'].apply(lambda x: (x - df_t['x'].mean()) / df_t['x'].std())\n",
    "df_t['standardized_y'] = df_t['y'].apply(lambda x: (x - df_t['y'].mean()) / df_t['y'].std())\n",
    "\n",
    "df_text = load_data(augmented_file)\n",
    "\n",
    "\n",
    "df_t['ground_truth'] = [int(i) for i in df_text['class']]\n",
    "df_t['predicted_label'] = list(one_hot_to_categorical(model.predict(X)))\n",
    "\n",
    "df_text = df_text[['text']]\n",
    "\n",
    "df_t['distance'] = cal_distance(df_t,1)\n",
    "df_t['normailized_distance'] = df_t['distance'].apply(lambda x: (x - df_t['distance'].min()) / (df_t['distance'].max() - df_t['distance'].min()))\n",
    "\n",
    "df_t['text'] = df_text['text']\n",
    "df_t['label'] = labels_str\n",
    "df_t['color'] = labels_color\n",
    "df_t['size'] = labels_size\n",
    "df_t['symbol'] = labels_symbol\n",
    "\n",
    "\n"
   ]
  },
  {
   "cell_type": "code",
   "execution_count": 112,
   "metadata": {},
   "outputs": [
    {
     "data": {
      "application/vnd.plotly.v1+json": {
       "config": {
        "plotlyServerURL": "https://plot.ly"
       },
       "data": [
        {
         "customdata": [
          [
           "No USB and no optical zoom, not great in low light",
           "Con (original)",
           1.0470876693725586
          ],
          [
           "No USB and no optic zoom, not swell in low light",
           "Con (augmented)",
           1.0470876693725586
          ],
          [
           "Port cover, antenna when extended, takes a bit to find sweet spot.",
           "Con (original)",
           1.6629133224487305
          ],
          [
           "Port cover, antenna extended, takes a bit to find sweet.",
           "Con (augmented)",
           1.6629133224487305
          ],
          [
           "Sometimes more than one sheet of paper is pulled through at a time",
           "Con (original)",
           0.6703837513923645
          ],
          [
           "Sometimes through than one sheet of paper is pulled more at a time",
           "Con (augmented)",
           0.6703837513923645
          ],
          [
           "Ink smears and ink blots",
           "Con (original)",
           0.00807990599423647
          ],
          [
           "blots smears and ink Ink",
           "Con (augmented)",
           0.00807990599423647
          ],
          [
           "Flash recharges slowly with NiMH. Small 8MB card.",
           "Con (original)",
           2.567016124725342
          ],
          [
           "Flash card slowly with NiMH. Small 8MB recharges.",
           "Con (augmented)",
           2.567016124725342
          ],
          [
           "could do with more pixals",
           "Con (original)",
           0.3905438482761383
          ],
          [
           "pixals do with more could",
           "Con (augmented)",
           0.3905438482761383
          ],
          [
           "No Back-light at night.",
           "Con (original)",
           0.559881329536438
          ],
          [
           "No Back-light night at.",
           "Con (augmented)",
           0.559881329536438
          ],
          [
           "Functions don't work as well as if individual items (separate fax, etc)",
           "Con (original)",
           1.1157633066177368
          ],
          [
           "Functions don't work as etc as if individual items (separate fax, well)",
           "Con (augmented)",
           1.1157633066177368
          ],
          [
           "Brightness varies too much on LCD, video out, and computer",
           "Con (original)",
           0.4892321228981018
          ],
          [
           "Brightness motley too much on LCD, picture out, and computer",
           "Con (augmented)",
           0.4892321228981018
          ],
          [
           "so new that it's hard to find or get accessories for",
           "Con (original)",
           0.07405325025320053
          ],
          [
           "so new find it's hard to that or get accessories for",
           "Con (augmented)",
           0.07405325025320053
          ],
          [
           "sh_t pictures most of the time, viewfinder not accurate",
           "Con (original)",
           1.6465835571289062
          ],
          [
           "sh_t pictures most finder of the time, viewfinder not accurate",
           "Con (augmented)",
           1.6465835571289062
          ],
          [
           "Does not fold very compact.",
           "Con (original)",
           0.30180811882019043
          ],
          [
           "Does not fold compact.",
           "Con (augmented)",
           0.30180811882019043
          ],
          [
           "Battery life is terrible",
           "Con (original)",
           0.3169541358947754
          ],
          [
           "is life Battery terrible",
           "Con (augmented)",
           0.3169541358947754
          ],
          [
           "A little noisy. ",
           "Con (original)",
           2.1934404373168945
          ],
          [
           "A noisy. ",
           "Con (augmented)",
           2.1934404373168945
          ],
          [
           "Software / driver problems",
           "Con (original)",
           0.01433041412383318
          ],
          [
           "Software / problems driver",
           "Con (augmented)",
           0.01433041412383318
          ]
         ],
         "hovertemplate": "Text: %{customdata[0]} <br>Label: %{customdata[1]} <br>Distance: %{customdata[2]:.5f} <br>",
         "legendgroup": "red, ^",
         "marker": {
          "color": "#636efa",
          "size": [
           100,
           10,
           100,
           10,
           100,
           10,
           100,
           10,
           100,
           10,
           100,
           10,
           100,
           10,
           100,
           10,
           100,
           10,
           100,
           10,
           100,
           10,
           100,
           10,
           100,
           10,
           100,
           10,
           100,
           10
          ],
          "sizemode": "area",
          "sizeref": 0.25,
          "symbol": "circle"
         },
         "mode": "markers",
         "name": "red, ^",
         "orientation": "v",
         "showlegend": true,
         "type": "scatter",
         "x": [
          7.599387168884277,
          8.402976989746094,
          6.661738872528076,
          7.7485432624816895,
          6.662806510925293,
          6.176990985870361,
          4.96309757232666,
          4.970551013946533,
          4.0833539962768555,
          5.970194339752197,
          7.419521808624268,
          7.78225040435791,
          8.263060569763184,
          7.719387531280518,
          7.26826286315918,
          8.240211486816406,
          7.227682113647461,
          6.874544620513916,
          5.188171863555908,
          5.257343769073486,
          5.675623416900635,
          4.483789920806885,
          7.9589409828186035,
          8.260741233825684,
          7.840786933898926,
          8.131711959838867,
          7.551120281219482,
          6.101931571960449,
          8.288324356079102,
          8.302406311035156
         ],
         "xaxis": "x",
         "y": [
          -8.28625202178955,
          -8.95754623413086,
          -7.427605628967285,
          -8.686230659484863,
          -7.439452171325684,
          -6.977502346038818,
          -5.874251842498779,
          -5.877371311187744,
          -5.060267925262451,
          -6.80078649520874,
          -8.204568862915039,
          -8.349318504333496,
          -8.663139343261719,
          -8.796880722045898,
          -8.018983840942383,
          -8.56692886352539,
          -7.993142604827881,
          -7.65455436706543,
          -6.083235740661621,
          -6.109676837921143,
          -6.520142555236816,
          -5.384021759033203,
          -8.897876739501953,
          -8.900056838989258,
          -8.350709915161133,
          -8.476497650146484,
          -8.557497024536133,
          -6.910975456237793,
          -8.8876314163208,
          -8.884974479675293
         ],
         "yaxis": "y"
        },
        {
         "customdata": [
          [
           "Buy it! Great first digital camera, Comes with docking station, charger, fair price, great quality.",
           "Pro (original)",
           0.3137982487678528
          ],
          [
           "Buy it! charger first digital great, Comes with docking station, Great, fair price, camera quality.",
           "Pro (augmented)",
           0.3137982487678528
          ],
          [
           "Easy to use, great battery life, variety of ringtones and faceplates to buy.",
           "Pro (original)",
           0.3002955913543701
          ],
          [
           "Easy to use, great battery life, of ringtones and faceplates buy.",
           "Pro (augmented)",
           0.3002955913543701
          ],
          [
           "fabulous picture quality, very quick operation",
           "Pro (original)",
           0.6076156497001648
          ],
          [
           "fabulous picture quality, very nimble operation",
           "Pro (augmented)",
           0.6076156497001648
          ],
          [
           "Great picture photos",
           "Pro (original)",
           0.17301923036575317
          ],
          [
           "neat Great picture photos",
           "Pro (augmented)",
           0.17301923036575317
          ],
          [
           "Quality LCD Screen, no shutter lag, excellent pictures, fantastic movies.",
           "Pro (original)",
           0.6428559422492981
          ],
          [
           "Quality LCD cover, no shutter lag, fantabulous pictures, fantastic movies.",
           "Pro (augmented)",
           0.6428559422492981
          ],
          [
           "A solidly built  great little printer.",
           "Pro (original)",
           0.41247236728668213
          ],
          [
           "A printer built  great little solidly.",
           "Pro (augmented)",
           0.41247236728668213
          ],
          [
           "small, enough features &#13;&#10;",
           "Pro (original)",
           0.23303140699863434
          ],
          [
           "small, enough features &#thirteen;&#10;",
           "Pro (augmented)",
           0.23303140699863434
          ],
          [
           "speed, clarity",
           "Pro (original)",
           0.02865728922188282
          ],
          [
           "speed, velocity clarity",
           "Pro (augmented)",
           0.02865728922188282
          ],
          [
           "Great Pictures",
           "Pro (original)",
           0.4831320643424988
          ],
          [
           "Pictures Great",
           "Pro (augmented)",
           0.4831320643424988
          ],
          [
           "Excellent quality prints., Easy to install.",
           "Pro (original)",
           0.6097549796104431
          ],
          [
           "Excellent quality prints., Easy to.",
           "Pro (augmented)",
           0.6097549796104431
          ],
          [
           "5 MP, manual features, construction, quality pictures, software interface, quick charger.",
           "Pro (original)",
           0.0191495418548584
          ],
          [
           "5 MP, manual features, charger, quality pictures, software interface, quick construction.",
           "Pro (augmented)",
           0.0191495418548584
          ],
          [
           "It's cheap",
           "Pro (original)",
           0.5341832041740417
          ],
          [
           "It's ",
           "Pro (augmented)",
           0.5341832041740417
          ],
          [
           "egronomic shape, inexpensive, loud ringer, several accessories included, fm tuner, minibrowser",
           "Pro (original)",
           1.6704013347625732
          ],
          [
           "egronomic shape,, loud ringer, several accessories, fm tuner, minibrowser",
           "Pro (augmented)",
           1.6704013347625732
          ],
          [
           "instant photos, ease of carrying, no downloading",
           "Pro (original)",
           0.010571488179266453
          ],
          [
           "instant carrying, ease of photos, no downloading",
           "Pro (augmented)",
           0.010571488179266453
          ],
          [
           "...small",
           "Pro (original)",
           0.01747182011604309
          ],
          [
           "...small",
           "Pro (augmented)",
           0.01747182011604309
          ]
         ],
         "hovertemplate": "Text: %{customdata[0]} <br>Label: %{customdata[1]} <br>Distance: %{customdata[2]:.5f} <br>",
         "legendgroup": "blue, o",
         "marker": {
          "color": "#EF553B",
          "size": [
           100,
           10,
           100,
           10,
           100,
           10,
           100,
           10,
           100,
           10,
           100,
           10,
           100,
           10,
           100,
           10,
           100,
           10,
           100,
           10,
           100,
           10,
           100,
           10,
           100,
           10,
           100,
           10,
           100,
           10
          ],
          "sizemode": "area",
          "sizeref": 0.25,
          "symbol": "diamond"
         },
         "mode": "markers",
         "name": "blue, o",
         "orientation": "v",
         "showlegend": true,
         "type": "scatter",
         "x": [
          3.44250750541687,
          3.751722574234009,
          3.3655812740325928,
          3.214298725128174,
          3.409148931503296,
          3.677443504333496,
          3.246112108230591,
          3.1925032138824463,
          3.745804786682129,
          3.8780746459960938,
          3.3992867469787598,
          3.2541520595550537,
          3.8677403926849365,
          4.017868518829346,
          5.987362861633301,
          5.967513084411621,
          4.01520299911499,
          3.711880683898926,
          3.849794626235962,
          3.526097059249878,
          5.583887100219727,
          5.578237533569336,
          4.903977870941162,
          4.512587070465088,
          6.75071382522583,
          7.8068437576293945,
          6.633027076721191,
          6.623045444488525,
          6.404756546020508,
          6.413500785827637
         ],
         "xaxis": "x",
         "y": [
          -4.302541255950928,
          -4.3559770584106445,
          -4.3172807693481445,
          -4.576685905456543,
          -4.881988048553467,
          -4.336813926696777,
          -4.7306342124938965,
          -4.566129684448242,
          -4.370007038116455,
          -4.99910831451416,
          -4.329793453216553,
          -4.715888500213623,
          -4.976276874542236,
          -4.798048973083496,
          -6.814053535461426,
          -6.793384075164795,
          -4.650374889373779,
          -5.02642297744751,
          -4.447144985198975,
          -4.96388578414917,
          -6.4367475509643555,
          -6.418450355529785,
          -5.782684326171875,
          -5.419139385223389,
          -7.5360260009765625,
          -8.830178260803223,
          -7.390052318572998,
          -7.393534183502197,
          -7.200037956237793,
          -7.184911727905273
         ],
         "yaxis": "y"
        }
       ],
       "layout": {
        "legend": {
         "itemsizing": "constant",
         "title": {
          "text": "color, symbol"
         },
         "tracegroupgap": 0
        },
        "showlegend": false,
        "template": {
         "data": {
          "bar": [
           {
            "error_x": {
             "color": "#2a3f5f"
            },
            "error_y": {
             "color": "#2a3f5f"
            },
            "marker": {
             "line": {
              "color": "#E5ECF6",
              "width": 0.5
             },
             "pattern": {
              "fillmode": "overlay",
              "size": 10,
              "solidity": 0.2
             }
            },
            "type": "bar"
           }
          ],
          "barpolar": [
           {
            "marker": {
             "line": {
              "color": "#E5ECF6",
              "width": 0.5
             },
             "pattern": {
              "fillmode": "overlay",
              "size": 10,
              "solidity": 0.2
             }
            },
            "type": "barpolar"
           }
          ],
          "carpet": [
           {
            "aaxis": {
             "endlinecolor": "#2a3f5f",
             "gridcolor": "white",
             "linecolor": "white",
             "minorgridcolor": "white",
             "startlinecolor": "#2a3f5f"
            },
            "baxis": {
             "endlinecolor": "#2a3f5f",
             "gridcolor": "white",
             "linecolor": "white",
             "minorgridcolor": "white",
             "startlinecolor": "#2a3f5f"
            },
            "type": "carpet"
           }
          ],
          "choropleth": [
           {
            "colorbar": {
             "outlinewidth": 0,
             "ticks": ""
            },
            "type": "choropleth"
           }
          ],
          "contour": [
           {
            "colorbar": {
             "outlinewidth": 0,
             "ticks": ""
            },
            "colorscale": [
             [
              0,
              "#0d0887"
             ],
             [
              0.1111111111111111,
              "#46039f"
             ],
             [
              0.2222222222222222,
              "#7201a8"
             ],
             [
              0.3333333333333333,
              "#9c179e"
             ],
             [
              0.4444444444444444,
              "#bd3786"
             ],
             [
              0.5555555555555556,
              "#d8576b"
             ],
             [
              0.6666666666666666,
              "#ed7953"
             ],
             [
              0.7777777777777778,
              "#fb9f3a"
             ],
             [
              0.8888888888888888,
              "#fdca26"
             ],
             [
              1,
              "#f0f921"
             ]
            ],
            "type": "contour"
           }
          ],
          "contourcarpet": [
           {
            "colorbar": {
             "outlinewidth": 0,
             "ticks": ""
            },
            "type": "contourcarpet"
           }
          ],
          "heatmap": [
           {
            "colorbar": {
             "outlinewidth": 0,
             "ticks": ""
            },
            "colorscale": [
             [
              0,
              "#0d0887"
             ],
             [
              0.1111111111111111,
              "#46039f"
             ],
             [
              0.2222222222222222,
              "#7201a8"
             ],
             [
              0.3333333333333333,
              "#9c179e"
             ],
             [
              0.4444444444444444,
              "#bd3786"
             ],
             [
              0.5555555555555556,
              "#d8576b"
             ],
             [
              0.6666666666666666,
              "#ed7953"
             ],
             [
              0.7777777777777778,
              "#fb9f3a"
             ],
             [
              0.8888888888888888,
              "#fdca26"
             ],
             [
              1,
              "#f0f921"
             ]
            ],
            "type": "heatmap"
           }
          ],
          "heatmapgl": [
           {
            "colorbar": {
             "outlinewidth": 0,
             "ticks": ""
            },
            "colorscale": [
             [
              0,
              "#0d0887"
             ],
             [
              0.1111111111111111,
              "#46039f"
             ],
             [
              0.2222222222222222,
              "#7201a8"
             ],
             [
              0.3333333333333333,
              "#9c179e"
             ],
             [
              0.4444444444444444,
              "#bd3786"
             ],
             [
              0.5555555555555556,
              "#d8576b"
             ],
             [
              0.6666666666666666,
              "#ed7953"
             ],
             [
              0.7777777777777778,
              "#fb9f3a"
             ],
             [
              0.8888888888888888,
              "#fdca26"
             ],
             [
              1,
              "#f0f921"
             ]
            ],
            "type": "heatmapgl"
           }
          ],
          "histogram": [
           {
            "marker": {
             "pattern": {
              "fillmode": "overlay",
              "size": 10,
              "solidity": 0.2
             }
            },
            "type": "histogram"
           }
          ],
          "histogram2d": [
           {
            "colorbar": {
             "outlinewidth": 0,
             "ticks": ""
            },
            "colorscale": [
             [
              0,
              "#0d0887"
             ],
             [
              0.1111111111111111,
              "#46039f"
             ],
             [
              0.2222222222222222,
              "#7201a8"
             ],
             [
              0.3333333333333333,
              "#9c179e"
             ],
             [
              0.4444444444444444,
              "#bd3786"
             ],
             [
              0.5555555555555556,
              "#d8576b"
             ],
             [
              0.6666666666666666,
              "#ed7953"
             ],
             [
              0.7777777777777778,
              "#fb9f3a"
             ],
             [
              0.8888888888888888,
              "#fdca26"
             ],
             [
              1,
              "#f0f921"
             ]
            ],
            "type": "histogram2d"
           }
          ],
          "histogram2dcontour": [
           {
            "colorbar": {
             "outlinewidth": 0,
             "ticks": ""
            },
            "colorscale": [
             [
              0,
              "#0d0887"
             ],
             [
              0.1111111111111111,
              "#46039f"
             ],
             [
              0.2222222222222222,
              "#7201a8"
             ],
             [
              0.3333333333333333,
              "#9c179e"
             ],
             [
              0.4444444444444444,
              "#bd3786"
             ],
             [
              0.5555555555555556,
              "#d8576b"
             ],
             [
              0.6666666666666666,
              "#ed7953"
             ],
             [
              0.7777777777777778,
              "#fb9f3a"
             ],
             [
              0.8888888888888888,
              "#fdca26"
             ],
             [
              1,
              "#f0f921"
             ]
            ],
            "type": "histogram2dcontour"
           }
          ],
          "mesh3d": [
           {
            "colorbar": {
             "outlinewidth": 0,
             "ticks": ""
            },
            "type": "mesh3d"
           }
          ],
          "parcoords": [
           {
            "line": {
             "colorbar": {
              "outlinewidth": 0,
              "ticks": ""
             }
            },
            "type": "parcoords"
           }
          ],
          "pie": [
           {
            "automargin": true,
            "type": "pie"
           }
          ],
          "scatter": [
           {
            "fillpattern": {
             "fillmode": "overlay",
             "size": 10,
             "solidity": 0.2
            },
            "type": "scatter"
           }
          ],
          "scatter3d": [
           {
            "line": {
             "colorbar": {
              "outlinewidth": 0,
              "ticks": ""
             }
            },
            "marker": {
             "colorbar": {
              "outlinewidth": 0,
              "ticks": ""
             }
            },
            "type": "scatter3d"
           }
          ],
          "scattercarpet": [
           {
            "marker": {
             "colorbar": {
              "outlinewidth": 0,
              "ticks": ""
             }
            },
            "type": "scattercarpet"
           }
          ],
          "scattergeo": [
           {
            "marker": {
             "colorbar": {
              "outlinewidth": 0,
              "ticks": ""
             }
            },
            "type": "scattergeo"
           }
          ],
          "scattergl": [
           {
            "marker": {
             "colorbar": {
              "outlinewidth": 0,
              "ticks": ""
             }
            },
            "type": "scattergl"
           }
          ],
          "scattermapbox": [
           {
            "marker": {
             "colorbar": {
              "outlinewidth": 0,
              "ticks": ""
             }
            },
            "type": "scattermapbox"
           }
          ],
          "scatterpolar": [
           {
            "marker": {
             "colorbar": {
              "outlinewidth": 0,
              "ticks": ""
             }
            },
            "type": "scatterpolar"
           }
          ],
          "scatterpolargl": [
           {
            "marker": {
             "colorbar": {
              "outlinewidth": 0,
              "ticks": ""
             }
            },
            "type": "scatterpolargl"
           }
          ],
          "scatterternary": [
           {
            "marker": {
             "colorbar": {
              "outlinewidth": 0,
              "ticks": ""
             }
            },
            "type": "scatterternary"
           }
          ],
          "surface": [
           {
            "colorbar": {
             "outlinewidth": 0,
             "ticks": ""
            },
            "colorscale": [
             [
              0,
              "#0d0887"
             ],
             [
              0.1111111111111111,
              "#46039f"
             ],
             [
              0.2222222222222222,
              "#7201a8"
             ],
             [
              0.3333333333333333,
              "#9c179e"
             ],
             [
              0.4444444444444444,
              "#bd3786"
             ],
             [
              0.5555555555555556,
              "#d8576b"
             ],
             [
              0.6666666666666666,
              "#ed7953"
             ],
             [
              0.7777777777777778,
              "#fb9f3a"
             ],
             [
              0.8888888888888888,
              "#fdca26"
             ],
             [
              1,
              "#f0f921"
             ]
            ],
            "type": "surface"
           }
          ],
          "table": [
           {
            "cells": {
             "fill": {
              "color": "#EBF0F8"
             },
             "line": {
              "color": "white"
             }
            },
            "header": {
             "fill": {
              "color": "#C8D4E3"
             },
             "line": {
              "color": "white"
             }
            },
            "type": "table"
           }
          ]
         },
         "layout": {
          "annotationdefaults": {
           "arrowcolor": "#2a3f5f",
           "arrowhead": 0,
           "arrowwidth": 1
          },
          "autotypenumbers": "strict",
          "coloraxis": {
           "colorbar": {
            "outlinewidth": 0,
            "ticks": ""
           }
          },
          "colorscale": {
           "diverging": [
            [
             0,
             "#8e0152"
            ],
            [
             0.1,
             "#c51b7d"
            ],
            [
             0.2,
             "#de77ae"
            ],
            [
             0.3,
             "#f1b6da"
            ],
            [
             0.4,
             "#fde0ef"
            ],
            [
             0.5,
             "#f7f7f7"
            ],
            [
             0.6,
             "#e6f5d0"
            ],
            [
             0.7,
             "#b8e186"
            ],
            [
             0.8,
             "#7fbc41"
            ],
            [
             0.9,
             "#4d9221"
            ],
            [
             1,
             "#276419"
            ]
           ],
           "sequential": [
            [
             0,
             "#0d0887"
            ],
            [
             0.1111111111111111,
             "#46039f"
            ],
            [
             0.2222222222222222,
             "#7201a8"
            ],
            [
             0.3333333333333333,
             "#9c179e"
            ],
            [
             0.4444444444444444,
             "#bd3786"
            ],
            [
             0.5555555555555556,
             "#d8576b"
            ],
            [
             0.6666666666666666,
             "#ed7953"
            ],
            [
             0.7777777777777778,
             "#fb9f3a"
            ],
            [
             0.8888888888888888,
             "#fdca26"
            ],
            [
             1,
             "#f0f921"
            ]
           ],
           "sequentialminus": [
            [
             0,
             "#0d0887"
            ],
            [
             0.1111111111111111,
             "#46039f"
            ],
            [
             0.2222222222222222,
             "#7201a8"
            ],
            [
             0.3333333333333333,
             "#9c179e"
            ],
            [
             0.4444444444444444,
             "#bd3786"
            ],
            [
             0.5555555555555556,
             "#d8576b"
            ],
            [
             0.6666666666666666,
             "#ed7953"
            ],
            [
             0.7777777777777778,
             "#fb9f3a"
            ],
            [
             0.8888888888888888,
             "#fdca26"
            ],
            [
             1,
             "#f0f921"
            ]
           ]
          },
          "colorway": [
           "#636efa",
           "#EF553B",
           "#00cc96",
           "#ab63fa",
           "#FFA15A",
           "#19d3f3",
           "#FF6692",
           "#B6E880",
           "#FF97FF",
           "#FECB52"
          ],
          "font": {
           "color": "#2a3f5f"
          },
          "geo": {
           "bgcolor": "white",
           "lakecolor": "white",
           "landcolor": "#E5ECF6",
           "showlakes": true,
           "showland": true,
           "subunitcolor": "white"
          },
          "hoverlabel": {
           "align": "left"
          },
          "hovermode": "closest",
          "mapbox": {
           "style": "light"
          },
          "paper_bgcolor": "white",
          "plot_bgcolor": "#E5ECF6",
          "polar": {
           "angularaxis": {
            "gridcolor": "white",
            "linecolor": "white",
            "ticks": ""
           },
           "bgcolor": "#E5ECF6",
           "radialaxis": {
            "gridcolor": "white",
            "linecolor": "white",
            "ticks": ""
           }
          },
          "scene": {
           "xaxis": {
            "backgroundcolor": "#E5ECF6",
            "gridcolor": "white",
            "gridwidth": 2,
            "linecolor": "white",
            "showbackground": true,
            "ticks": "",
            "zerolinecolor": "white"
           },
           "yaxis": {
            "backgroundcolor": "#E5ECF6",
            "gridcolor": "white",
            "gridwidth": 2,
            "linecolor": "white",
            "showbackground": true,
            "ticks": "",
            "zerolinecolor": "white"
           },
           "zaxis": {
            "backgroundcolor": "#E5ECF6",
            "gridcolor": "white",
            "gridwidth": 2,
            "linecolor": "white",
            "showbackground": true,
            "ticks": "",
            "zerolinecolor": "white"
           }
          },
          "shapedefaults": {
           "line": {
            "color": "#2a3f5f"
           }
          },
          "ternary": {
           "aaxis": {
            "gridcolor": "white",
            "linecolor": "white",
            "ticks": ""
           },
           "baxis": {
            "gridcolor": "white",
            "linecolor": "white",
            "ticks": ""
           },
           "bgcolor": "#E5ECF6",
           "caxis": {
            "gridcolor": "white",
            "linecolor": "white",
            "ticks": ""
           }
          },
          "title": {
           "x": 0.05
          },
          "xaxis": {
           "automargin": true,
           "gridcolor": "white",
           "linecolor": "white",
           "ticks": "",
           "title": {
            "standoff": 15
           },
           "zerolinecolor": "white",
           "zerolinewidth": 2
          },
          "yaxis": {
           "automargin": true,
           "gridcolor": "white",
           "linecolor": "white",
           "ticks": "",
           "title": {
            "standoff": 15
           },
           "zerolinecolor": "white",
           "zerolinewidth": 2
          }
         }
        },
        "title": {
         "text": "t-SNE plot of cr dataset with eda augmentation method, total distance: 7.3750"
        },
        "xaxis": {
         "anchor": "y",
         "domain": [
          0,
          1
         ],
         "title": {
          "text": "x"
         }
        },
        "yaxis": {
         "anchor": "x",
         "domain": [
          0,
          1
         ],
         "title": {
          "text": "y"
         }
        }
       }
      },
      "text/html": [
       "<div>                            <div id=\"d08934e8-7516-4ea4-8125-57c088f8ae78\" class=\"plotly-graph-div\" style=\"height:525px; width:100%;\"></div>            <script type=\"text/javascript\">                require([\"plotly\"], function(Plotly) {                    window.PLOTLYENV=window.PLOTLYENV || {};                                    if (document.getElementById(\"d08934e8-7516-4ea4-8125-57c088f8ae78\")) {                    Plotly.newPlot(                        \"d08934e8-7516-4ea4-8125-57c088f8ae78\",                        [{\"customdata\":[[\"No USB and no optical zoom, not great in low light\",\"Con (original)\",1.0470876693725586],[\"No USB and no optic zoom, not swell in low light\",\"Con (augmented)\",1.0470876693725586],[\"Port cover, antenna when extended, takes a bit to find sweet spot.\",\"Con (original)\",1.6629133224487305],[\"Port cover, antenna extended, takes a bit to find sweet.\",\"Con (augmented)\",1.6629133224487305],[\"Sometimes more than one sheet of paper is pulled through at a time\",\"Con (original)\",0.6703837513923645],[\"Sometimes through than one sheet of paper is pulled more at a time\",\"Con (augmented)\",0.6703837513923645],[\"Ink smears and ink blots\",\"Con (original)\",0.00807990599423647],[\"blots smears and ink Ink\",\"Con (augmented)\",0.00807990599423647],[\"Flash recharges slowly with NiMH. Small 8MB card.\",\"Con (original)\",2.567016124725342],[\"Flash card slowly with NiMH. Small 8MB recharges.\",\"Con (augmented)\",2.567016124725342],[\"could do with more pixals\",\"Con (original)\",0.3905438482761383],[\"pixals do with more could\",\"Con (augmented)\",0.3905438482761383],[\"No Back-light at night.\",\"Con (original)\",0.559881329536438],[\"No Back-light night at.\",\"Con (augmented)\",0.559881329536438],[\"Functions don't work as well as if individual items (separate fax, etc)\",\"Con (original)\",1.1157633066177368],[\"Functions don't work as etc as if individual items (separate fax, well)\",\"Con (augmented)\",1.1157633066177368],[\"Brightness varies too much on LCD, video out, and computer\",\"Con (original)\",0.4892321228981018],[\"Brightness motley too much on LCD, picture out, and computer\",\"Con (augmented)\",0.4892321228981018],[\"so new that it's hard to find or get accessories for\",\"Con (original)\",0.07405325025320053],[\"so new find it's hard to that or get accessories for\",\"Con (augmented)\",0.07405325025320053],[\"sh_t pictures most of the time, viewfinder not accurate\",\"Con (original)\",1.6465835571289062],[\"sh_t pictures most finder of the time, viewfinder not accurate\",\"Con (augmented)\",1.6465835571289062],[\"Does not fold very compact.\",\"Con (original)\",0.30180811882019043],[\"Does not fold compact.\",\"Con (augmented)\",0.30180811882019043],[\"Battery life is terrible\",\"Con (original)\",0.3169541358947754],[\"is life Battery terrible\",\"Con (augmented)\",0.3169541358947754],[\"A little noisy. \",\"Con (original)\",2.1934404373168945],[\"A noisy. \",\"Con (augmented)\",2.1934404373168945],[\"Software / driver problems\",\"Con (original)\",0.01433041412383318],[\"Software / problems driver\",\"Con (augmented)\",0.01433041412383318]],\"hovertemplate\":\"Text: %{customdata[0]} <br>Label: %{customdata[1]} <br>Distance: %{customdata[2]:.5f} <br>\",\"legendgroup\":\"red, ^\",\"marker\":{\"color\":\"#636efa\",\"size\":[100,10,100,10,100,10,100,10,100,10,100,10,100,10,100,10,100,10,100,10,100,10,100,10,100,10,100,10,100,10],\"sizemode\":\"area\",\"sizeref\":0.25,\"symbol\":\"circle\"},\"mode\":\"markers\",\"name\":\"red, ^\",\"orientation\":\"v\",\"showlegend\":true,\"x\":[7.599387168884277,8.402976989746094,6.661738872528076,7.7485432624816895,6.662806510925293,6.176990985870361,4.96309757232666,4.970551013946533,4.0833539962768555,5.970194339752197,7.419521808624268,7.78225040435791,8.263060569763184,7.719387531280518,7.26826286315918,8.240211486816406,7.227682113647461,6.874544620513916,5.188171863555908,5.257343769073486,5.675623416900635,4.483789920806885,7.9589409828186035,8.260741233825684,7.840786933898926,8.131711959838867,7.551120281219482,6.101931571960449,8.288324356079102,8.302406311035156],\"xaxis\":\"x\",\"y\":[-8.28625202178955,-8.95754623413086,-7.427605628967285,-8.686230659484863,-7.439452171325684,-6.977502346038818,-5.874251842498779,-5.877371311187744,-5.060267925262451,-6.80078649520874,-8.204568862915039,-8.349318504333496,-8.663139343261719,-8.796880722045898,-8.018983840942383,-8.56692886352539,-7.993142604827881,-7.65455436706543,-6.083235740661621,-6.109676837921143,-6.520142555236816,-5.384021759033203,-8.897876739501953,-8.900056838989258,-8.350709915161133,-8.476497650146484,-8.557497024536133,-6.910975456237793,-8.8876314163208,-8.884974479675293],\"yaxis\":\"y\",\"type\":\"scatter\"},{\"customdata\":[[\"Buy it! Great first digital camera, Comes with docking station, charger, fair price, great quality.\",\"Pro (original)\",0.3137982487678528],[\"Buy it! charger first digital great, Comes with docking station, Great, fair price, camera quality.\",\"Pro (augmented)\",0.3137982487678528],[\"Easy to use, great battery life, variety of ringtones and faceplates to buy.\",\"Pro (original)\",0.3002955913543701],[\"Easy to use, great battery life, of ringtones and faceplates buy.\",\"Pro (augmented)\",0.3002955913543701],[\"fabulous picture quality, very quick operation\",\"Pro (original)\",0.6076156497001648],[\"fabulous picture quality, very nimble operation\",\"Pro (augmented)\",0.6076156497001648],[\"Great picture photos\",\"Pro (original)\",0.17301923036575317],[\"neat Great picture photos\",\"Pro (augmented)\",0.17301923036575317],[\"Quality LCD Screen, no shutter lag, excellent pictures, fantastic movies.\",\"Pro (original)\",0.6428559422492981],[\"Quality LCD cover, no shutter lag, fantabulous pictures, fantastic movies.\",\"Pro (augmented)\",0.6428559422492981],[\"A solidly built  great little printer.\",\"Pro (original)\",0.41247236728668213],[\"A printer built  great little solidly.\",\"Pro (augmented)\",0.41247236728668213],[\"small, enough features &#13;&#10;\",\"Pro (original)\",0.23303140699863434],[\"small, enough features &#thirteen;&#10;\",\"Pro (augmented)\",0.23303140699863434],[\"speed, clarity\",\"Pro (original)\",0.02865728922188282],[\"speed, velocity clarity\",\"Pro (augmented)\",0.02865728922188282],[\"Great Pictures\",\"Pro (original)\",0.4831320643424988],[\"Pictures Great\",\"Pro (augmented)\",0.4831320643424988],[\"Excellent quality prints., Easy to install.\",\"Pro (original)\",0.6097549796104431],[\"Excellent quality prints., Easy to.\",\"Pro (augmented)\",0.6097549796104431],[\"5 MP, manual features, construction, quality pictures, software interface, quick charger.\",\"Pro (original)\",0.0191495418548584],[\"5 MP, manual features, charger, quality pictures, software interface, quick construction.\",\"Pro (augmented)\",0.0191495418548584],[\"It's cheap\",\"Pro (original)\",0.5341832041740417],[\"It's \",\"Pro (augmented)\",0.5341832041740417],[\"egronomic shape, inexpensive, loud ringer, several accessories included, fm tuner, minibrowser\",\"Pro (original)\",1.6704013347625732],[\"egronomic shape,, loud ringer, several accessories, fm tuner, minibrowser\",\"Pro (augmented)\",1.6704013347625732],[\"instant photos, ease of carrying, no downloading\",\"Pro (original)\",0.010571488179266453],[\"instant carrying, ease of photos, no downloading\",\"Pro (augmented)\",0.010571488179266453],[\"...small\",\"Pro (original)\",0.01747182011604309],[\"...small\",\"Pro (augmented)\",0.01747182011604309]],\"hovertemplate\":\"Text: %{customdata[0]} <br>Label: %{customdata[1]} <br>Distance: %{customdata[2]:.5f} <br>\",\"legendgroup\":\"blue, o\",\"marker\":{\"color\":\"#EF553B\",\"size\":[100,10,100,10,100,10,100,10,100,10,100,10,100,10,100,10,100,10,100,10,100,10,100,10,100,10,100,10,100,10],\"sizemode\":\"area\",\"sizeref\":0.25,\"symbol\":\"diamond\"},\"mode\":\"markers\",\"name\":\"blue, o\",\"orientation\":\"v\",\"showlegend\":true,\"x\":[3.44250750541687,3.751722574234009,3.3655812740325928,3.214298725128174,3.409148931503296,3.677443504333496,3.246112108230591,3.1925032138824463,3.745804786682129,3.8780746459960938,3.3992867469787598,3.2541520595550537,3.8677403926849365,4.017868518829346,5.987362861633301,5.967513084411621,4.01520299911499,3.711880683898926,3.849794626235962,3.526097059249878,5.583887100219727,5.578237533569336,4.903977870941162,4.512587070465088,6.75071382522583,7.8068437576293945,6.633027076721191,6.623045444488525,6.404756546020508,6.413500785827637],\"xaxis\":\"x\",\"y\":[-4.302541255950928,-4.3559770584106445,-4.3172807693481445,-4.576685905456543,-4.881988048553467,-4.336813926696777,-4.7306342124938965,-4.566129684448242,-4.370007038116455,-4.99910831451416,-4.329793453216553,-4.715888500213623,-4.976276874542236,-4.798048973083496,-6.814053535461426,-6.793384075164795,-4.650374889373779,-5.02642297744751,-4.447144985198975,-4.96388578414917,-6.4367475509643555,-6.418450355529785,-5.782684326171875,-5.419139385223389,-7.5360260009765625,-8.830178260803223,-7.390052318572998,-7.393534183502197,-7.200037956237793,-7.184911727905273],\"yaxis\":\"y\",\"type\":\"scatter\"}],                        {\"template\":{\"data\":{\"histogram2dcontour\":[{\"type\":\"histogram2dcontour\",\"colorbar\":{\"outlinewidth\":0,\"ticks\":\"\"},\"colorscale\":[[0.0,\"#0d0887\"],[0.1111111111111111,\"#46039f\"],[0.2222222222222222,\"#7201a8\"],[0.3333333333333333,\"#9c179e\"],[0.4444444444444444,\"#bd3786\"],[0.5555555555555556,\"#d8576b\"],[0.6666666666666666,\"#ed7953\"],[0.7777777777777778,\"#fb9f3a\"],[0.8888888888888888,\"#fdca26\"],[1.0,\"#f0f921\"]]}],\"choropleth\":[{\"type\":\"choropleth\",\"colorbar\":{\"outlinewidth\":0,\"ticks\":\"\"}}],\"histogram2d\":[{\"type\":\"histogram2d\",\"colorbar\":{\"outlinewidth\":0,\"ticks\":\"\"},\"colorscale\":[[0.0,\"#0d0887\"],[0.1111111111111111,\"#46039f\"],[0.2222222222222222,\"#7201a8\"],[0.3333333333333333,\"#9c179e\"],[0.4444444444444444,\"#bd3786\"],[0.5555555555555556,\"#d8576b\"],[0.6666666666666666,\"#ed7953\"],[0.7777777777777778,\"#fb9f3a\"],[0.8888888888888888,\"#fdca26\"],[1.0,\"#f0f921\"]]}],\"heatmap\":[{\"type\":\"heatmap\",\"colorbar\":{\"outlinewidth\":0,\"ticks\":\"\"},\"colorscale\":[[0.0,\"#0d0887\"],[0.1111111111111111,\"#46039f\"],[0.2222222222222222,\"#7201a8\"],[0.3333333333333333,\"#9c179e\"],[0.4444444444444444,\"#bd3786\"],[0.5555555555555556,\"#d8576b\"],[0.6666666666666666,\"#ed7953\"],[0.7777777777777778,\"#fb9f3a\"],[0.8888888888888888,\"#fdca26\"],[1.0,\"#f0f921\"]]}],\"heatmapgl\":[{\"type\":\"heatmapgl\",\"colorbar\":{\"outlinewidth\":0,\"ticks\":\"\"},\"colorscale\":[[0.0,\"#0d0887\"],[0.1111111111111111,\"#46039f\"],[0.2222222222222222,\"#7201a8\"],[0.3333333333333333,\"#9c179e\"],[0.4444444444444444,\"#bd3786\"],[0.5555555555555556,\"#d8576b\"],[0.6666666666666666,\"#ed7953\"],[0.7777777777777778,\"#fb9f3a\"],[0.8888888888888888,\"#fdca26\"],[1.0,\"#f0f921\"]]}],\"contourcarpet\":[{\"type\":\"contourcarpet\",\"colorbar\":{\"outlinewidth\":0,\"ticks\":\"\"}}],\"contour\":[{\"type\":\"contour\",\"colorbar\":{\"outlinewidth\":0,\"ticks\":\"\"},\"colorscale\":[[0.0,\"#0d0887\"],[0.1111111111111111,\"#46039f\"],[0.2222222222222222,\"#7201a8\"],[0.3333333333333333,\"#9c179e\"],[0.4444444444444444,\"#bd3786\"],[0.5555555555555556,\"#d8576b\"],[0.6666666666666666,\"#ed7953\"],[0.7777777777777778,\"#fb9f3a\"],[0.8888888888888888,\"#fdca26\"],[1.0,\"#f0f921\"]]}],\"surface\":[{\"type\":\"surface\",\"colorbar\":{\"outlinewidth\":0,\"ticks\":\"\"},\"colorscale\":[[0.0,\"#0d0887\"],[0.1111111111111111,\"#46039f\"],[0.2222222222222222,\"#7201a8\"],[0.3333333333333333,\"#9c179e\"],[0.4444444444444444,\"#bd3786\"],[0.5555555555555556,\"#d8576b\"],[0.6666666666666666,\"#ed7953\"],[0.7777777777777778,\"#fb9f3a\"],[0.8888888888888888,\"#fdca26\"],[1.0,\"#f0f921\"]]}],\"mesh3d\":[{\"type\":\"mesh3d\",\"colorbar\":{\"outlinewidth\":0,\"ticks\":\"\"}}],\"scatter\":[{\"fillpattern\":{\"fillmode\":\"overlay\",\"size\":10,\"solidity\":0.2},\"type\":\"scatter\"}],\"parcoords\":[{\"type\":\"parcoords\",\"line\":{\"colorbar\":{\"outlinewidth\":0,\"ticks\":\"\"}}}],\"scatterpolargl\":[{\"type\":\"scatterpolargl\",\"marker\":{\"colorbar\":{\"outlinewidth\":0,\"ticks\":\"\"}}}],\"bar\":[{\"error_x\":{\"color\":\"#2a3f5f\"},\"error_y\":{\"color\":\"#2a3f5f\"},\"marker\":{\"line\":{\"color\":\"#E5ECF6\",\"width\":0.5},\"pattern\":{\"fillmode\":\"overlay\",\"size\":10,\"solidity\":0.2}},\"type\":\"bar\"}],\"scattergeo\":[{\"type\":\"scattergeo\",\"marker\":{\"colorbar\":{\"outlinewidth\":0,\"ticks\":\"\"}}}],\"scatterpolar\":[{\"type\":\"scatterpolar\",\"marker\":{\"colorbar\":{\"outlinewidth\":0,\"ticks\":\"\"}}}],\"histogram\":[{\"marker\":{\"pattern\":{\"fillmode\":\"overlay\",\"size\":10,\"solidity\":0.2}},\"type\":\"histogram\"}],\"scattergl\":[{\"type\":\"scattergl\",\"marker\":{\"colorbar\":{\"outlinewidth\":0,\"ticks\":\"\"}}}],\"scatter3d\":[{\"type\":\"scatter3d\",\"line\":{\"colorbar\":{\"outlinewidth\":0,\"ticks\":\"\"}},\"marker\":{\"colorbar\":{\"outlinewidth\":0,\"ticks\":\"\"}}}],\"scattermapbox\":[{\"type\":\"scattermapbox\",\"marker\":{\"colorbar\":{\"outlinewidth\":0,\"ticks\":\"\"}}}],\"scatterternary\":[{\"type\":\"scatterternary\",\"marker\":{\"colorbar\":{\"outlinewidth\":0,\"ticks\":\"\"}}}],\"scattercarpet\":[{\"type\":\"scattercarpet\",\"marker\":{\"colorbar\":{\"outlinewidth\":0,\"ticks\":\"\"}}}],\"carpet\":[{\"aaxis\":{\"endlinecolor\":\"#2a3f5f\",\"gridcolor\":\"white\",\"linecolor\":\"white\",\"minorgridcolor\":\"white\",\"startlinecolor\":\"#2a3f5f\"},\"baxis\":{\"endlinecolor\":\"#2a3f5f\",\"gridcolor\":\"white\",\"linecolor\":\"white\",\"minorgridcolor\":\"white\",\"startlinecolor\":\"#2a3f5f\"},\"type\":\"carpet\"}],\"table\":[{\"cells\":{\"fill\":{\"color\":\"#EBF0F8\"},\"line\":{\"color\":\"white\"}},\"header\":{\"fill\":{\"color\":\"#C8D4E3\"},\"line\":{\"color\":\"white\"}},\"type\":\"table\"}],\"barpolar\":[{\"marker\":{\"line\":{\"color\":\"#E5ECF6\",\"width\":0.5},\"pattern\":{\"fillmode\":\"overlay\",\"size\":10,\"solidity\":0.2}},\"type\":\"barpolar\"}],\"pie\":[{\"automargin\":true,\"type\":\"pie\"}]},\"layout\":{\"autotypenumbers\":\"strict\",\"colorway\":[\"#636efa\",\"#EF553B\",\"#00cc96\",\"#ab63fa\",\"#FFA15A\",\"#19d3f3\",\"#FF6692\",\"#B6E880\",\"#FF97FF\",\"#FECB52\"],\"font\":{\"color\":\"#2a3f5f\"},\"hovermode\":\"closest\",\"hoverlabel\":{\"align\":\"left\"},\"paper_bgcolor\":\"white\",\"plot_bgcolor\":\"#E5ECF6\",\"polar\":{\"bgcolor\":\"#E5ECF6\",\"angularaxis\":{\"gridcolor\":\"white\",\"linecolor\":\"white\",\"ticks\":\"\"},\"radialaxis\":{\"gridcolor\":\"white\",\"linecolor\":\"white\",\"ticks\":\"\"}},\"ternary\":{\"bgcolor\":\"#E5ECF6\",\"aaxis\":{\"gridcolor\":\"white\",\"linecolor\":\"white\",\"ticks\":\"\"},\"baxis\":{\"gridcolor\":\"white\",\"linecolor\":\"white\",\"ticks\":\"\"},\"caxis\":{\"gridcolor\":\"white\",\"linecolor\":\"white\",\"ticks\":\"\"}},\"coloraxis\":{\"colorbar\":{\"outlinewidth\":0,\"ticks\":\"\"}},\"colorscale\":{\"sequential\":[[0.0,\"#0d0887\"],[0.1111111111111111,\"#46039f\"],[0.2222222222222222,\"#7201a8\"],[0.3333333333333333,\"#9c179e\"],[0.4444444444444444,\"#bd3786\"],[0.5555555555555556,\"#d8576b\"],[0.6666666666666666,\"#ed7953\"],[0.7777777777777778,\"#fb9f3a\"],[0.8888888888888888,\"#fdca26\"],[1.0,\"#f0f921\"]],\"sequentialminus\":[[0.0,\"#0d0887\"],[0.1111111111111111,\"#46039f\"],[0.2222222222222222,\"#7201a8\"],[0.3333333333333333,\"#9c179e\"],[0.4444444444444444,\"#bd3786\"],[0.5555555555555556,\"#d8576b\"],[0.6666666666666666,\"#ed7953\"],[0.7777777777777778,\"#fb9f3a\"],[0.8888888888888888,\"#fdca26\"],[1.0,\"#f0f921\"]],\"diverging\":[[0,\"#8e0152\"],[0.1,\"#c51b7d\"],[0.2,\"#de77ae\"],[0.3,\"#f1b6da\"],[0.4,\"#fde0ef\"],[0.5,\"#f7f7f7\"],[0.6,\"#e6f5d0\"],[0.7,\"#b8e186\"],[0.8,\"#7fbc41\"],[0.9,\"#4d9221\"],[1,\"#276419\"]]},\"xaxis\":{\"gridcolor\":\"white\",\"linecolor\":\"white\",\"ticks\":\"\",\"title\":{\"standoff\":15},\"zerolinecolor\":\"white\",\"automargin\":true,\"zerolinewidth\":2},\"yaxis\":{\"gridcolor\":\"white\",\"linecolor\":\"white\",\"ticks\":\"\",\"title\":{\"standoff\":15},\"zerolinecolor\":\"white\",\"automargin\":true,\"zerolinewidth\":2},\"scene\":{\"xaxis\":{\"backgroundcolor\":\"#E5ECF6\",\"gridcolor\":\"white\",\"linecolor\":\"white\",\"showbackground\":true,\"ticks\":\"\",\"zerolinecolor\":\"white\",\"gridwidth\":2},\"yaxis\":{\"backgroundcolor\":\"#E5ECF6\",\"gridcolor\":\"white\",\"linecolor\":\"white\",\"showbackground\":true,\"ticks\":\"\",\"zerolinecolor\":\"white\",\"gridwidth\":2},\"zaxis\":{\"backgroundcolor\":\"#E5ECF6\",\"gridcolor\":\"white\",\"linecolor\":\"white\",\"showbackground\":true,\"ticks\":\"\",\"zerolinecolor\":\"white\",\"gridwidth\":2}},\"shapedefaults\":{\"line\":{\"color\":\"#2a3f5f\"}},\"annotationdefaults\":{\"arrowcolor\":\"#2a3f5f\",\"arrowhead\":0,\"arrowwidth\":1},\"geo\":{\"bgcolor\":\"white\",\"landcolor\":\"#E5ECF6\",\"subunitcolor\":\"white\",\"showland\":true,\"showlakes\":true,\"lakecolor\":\"white\"},\"title\":{\"x\":0.05},\"mapbox\":{\"style\":\"light\"}}},\"xaxis\":{\"anchor\":\"y\",\"domain\":[0.0,1.0],\"title\":{\"text\":\"x\"}},\"yaxis\":{\"anchor\":\"x\",\"domain\":[0.0,1.0],\"title\":{\"text\":\"y\"}},\"legend\":{\"title\":{\"text\":\"color, symbol\"},\"tracegroupgap\":0,\"itemsizing\":\"constant\"},\"title\":{\"text\":\"t-SNE plot of cr dataset with eda augmentation method, total distance: 7.3750\"},\"showlegend\":false},                        {\"responsive\": true}                    ).then(function(){\n",
       "                            \n",
       "var gd = document.getElementById('d08934e8-7516-4ea4-8125-57c088f8ae78');\n",
       "var x = new MutationObserver(function (mutations, observer) {{\n",
       "        var display = window.getComputedStyle(gd).display;\n",
       "        if (!display || display === 'none') {{\n",
       "            console.log([gd, 'removed!']);\n",
       "            Plotly.purge(gd);\n",
       "            observer.disconnect();\n",
       "        }}\n",
       "}});\n",
       "\n",
       "// Listen for the removal of the full notebook cells\n",
       "var notebookContainer = gd.closest('#notebook-container');\n",
       "if (notebookContainer) {{\n",
       "    x.observe(notebookContainer, {childList: true});\n",
       "}}\n",
       "\n",
       "// Listen for the clearing of the current output cell\n",
       "var outputEl = gd.closest('.output');\n",
       "if (outputEl) {{\n",
       "    x.observe(outputEl, {childList: true});\n",
       "}}\n",
       "\n",
       "                        })                };                });            </script>        </div>"
      ]
     },
     "metadata": {},
     "output_type": "display_data"
    }
   ],
   "source": [
    "plotly_tsne(df_t, 'cr','eda')"
   ]
  },
  {
   "cell_type": "code",
   "execution_count": 71,
   "metadata": {},
   "outputs": [
    {
     "data": {
      "application/vnd.plotly.v1+json": {
       "config": {
        "plotlyServerURL": "https://plot.ly"
       },
       "data": [
        {
         "customdata": [
          [
           "Flash recharges slowly with NiMH. Small 8MB card.",
           "Con (original)",
           3.8473432064056396
          ],
          [
           "Flash recharges slowly with NiMH. Small modest 8MB card.",
           "Con (augmented)",
           3.8473432064056396
          ],
          [
           "Ink smears and ink blots",
           "Con (original)",
           0.08565876632928848
          ],
          [
           "stain Ink smears and ink blots",
           "Con (augmented)",
           0.08565876632928848
          ],
          [
           "No Back-light at night.",
           "Con (original)",
           3.5762786865234375e-7
          ],
          [
           "No Back-light at nighttime.",
           "Con (augmented)",
           3.5762786865234375e-7
          ],
          [
           "Battery life is terrible",
           "Con (original)",
           1.3791465759277344
          ],
          [
           "Battery life is ",
           "Con (augmented)",
           1.3791465759277344
          ],
          [
           "sh_t pictures most of the time, viewfinder not accurate",
           "Con (original)",
           0.20702247321605682
          ],
          [
           "sh_t pictures most of the time, precise viewfinder not accurate",
           "Con (augmented)",
           0.20702247321605682
          ],
          [
           "Sometimes more than one sheet of paper is pulled through at a time",
           "Con (original)",
           6.430771350860596
          ],
          [
           "Sometimes more one sheet paper is pulled through at a time",
           "Con (augmented)",
           6.430771350860596
          ],
          [
           "so new that it's hard to find or get accessories for",
           "Con (original)",
           0.5841684937477112
          ],
          [
           "so new sol that it's hard to find or get accessories for",
           "Con (augmented)",
           0.5841684937477112
          ],
          [
           "Port cover, antenna when extended, takes a bit to find sweet spot.",
           "Con (original)",
           0.5340766310691833
          ],
          [
           "Port cover, antenna when extended, takes a bit to find sweet-scented patch.",
           "Con (augmented)",
           0.5340766310691833
          ],
          [
           "No USB and no optical zoom, not great in low light",
           "Con (original)",
           0.45701152086257935
          ],
          [
           "No USB and great optical zoom, not no in low light",
           "Con (augmented)",
           0.45701152086257935
          ],
          [
           "could do with more pixals",
           "Con (original)",
           0.4988124966621399
          ],
          [
           "do with more pixals",
           "Con (augmented)",
           0.4988124966621399
          ],
          [
           "Functions don't work as well as if individual items (separate fax, etc)",
           "Con (original)",
           0.3557487428188324
          ],
          [
           "Functions don't work as well as individual items (separate fax,)",
           "Con (augmented)",
           0.3557487428188324
          ],
          [
           "A little noisy. ",
           "Con (original)",
           0.2091217339038849
          ],
          [
           "A ampere little noisy. ",
           "Con (augmented)",
           0.2091217339038849
          ],
          [
           "Does not fold very compact.",
           "Con (original)",
           0.23624247312545776
          ],
          [
           "Does not very fold compact.",
           "Con (augmented)",
           0.23624247312545776
          ],
          [
           "Software / driver problems",
           "Con (original)",
           0.24935241043567657
          ],
          [
           "problems / driver Software",
           "Con (augmented)",
           0.24935241043567657
          ],
          [
           "Brightness varies too much on LCD, video out, and computer",
           "Con (original)",
           1.2549251317977905
          ],
          [
           "lots Brightness varies too much on LCD, video out, and computer",
           "Con (augmented)",
           1.2549251317977905
          ]
         ],
         "hovertemplate": "Text: %{customdata[0]} <br>Label: %{customdata[1]} <br>Distance: %{customdata[2]:.5f} <br>",
         "legendgroup": "red, ^",
         "marker": {
          "color": "#636efa",
          "size": [
           100,
           10,
           100,
           10,
           100,
           10,
           100,
           10,
           100,
           10,
           100,
           10,
           100,
           10,
           100,
           10,
           100,
           10,
           100,
           10,
           100,
           10,
           100,
           10,
           100,
           10,
           100,
           10,
           100,
           10
          ],
          "sizemode": "area",
          "sizeref": 0.25,
          "symbol": "circle"
         },
         "mode": "markers",
         "name": "red, ^",
         "orientation": "v",
         "showlegend": true,
         "type": "scatter",
         "x": [
          -0.7138568758964539,
          1.6462068557739258,
          -1.5812568664550781,
          -1.5206525325775146,
          -0.8023941516876221,
          -0.8023945093154907,
          -0.6657448410987854,
          -1.6551649570465088,
          3.1833760738372803,
          3.380687713623047,
          3.4546730518341064,
          -0.17257444560527802,
          -1.102620005607605,
          -0.5746833682060242,
          -0.32988080382347107,
          -0.769115149974823,
          2.1934361457824707,
          2.3718414306640625,
          2.233431816101074,
          1.8898767232894897,
          3.2434699535369873,
          2.9061813354492188,
          0.04980993643403053,
          0.2052193582057953,
          1.6615217924118042,
          1.6293678283691406,
          -0.5295936465263367,
          -0.7220104336738586,
          2.341148614883423,
          3.117798089981079
         ],
         "xaxis": "x",
         "y": [
          10.020305633544922,
          6.981860637664795,
          10.196930885314941,
          10.136395454406738,
          9.07109546661377,
          9.07109546661377,
          10.604268074035645,
          11.565045356750488,
          5.321418762207031,
          5.258757591247559,
          5.803483009338379,
          11.113652229309082,
          11.696590423583984,
          11.446518898010254,
          11.15417766571045,
          11.45800495147705,
          7.430633544921875,
          7.009882926940918,
          6.983430862426758,
          7.345071315765381,
          5.726489543914795,
          5.839598178863525,
          8.524348258972168,
          8.384420394897461,
          7.2320027351379395,
          7.4660468101501465,
          9.179553031921387,
          9.33814811706543,
          6.958654403686523,
          5.972929954528809
         ],
         "yaxis": "y"
        },
        {
         "customdata": [
          [
           "instant photos, ease of carrying, no downloading",
           "Pro (original)",
           0.08300717175006866
          ],
          [
           "relaxation instant photos, ease of carrying, no downloading",
           "Pro (augmented)",
           0.08300717175006866
          ],
          [
           "Buy it! Great first digital camera, Comes with docking station, charger, fair price, great quality.",
           "Pro (original)",
           6.2018961906433105
          ],
          [
           "Buy it! average Great neat first digital camera, Comes with docking station, charger, fair price, great quality.",
           "Pro (augmented)",
           6.2018961906433105
          ],
          [
           "Great picture photos",
           "Pro (original)",
           0.7662234902381897
          ],
          [
           "Great picture exposure photos",
           "Pro (augmented)",
           0.7662234902381897
          ],
          [
           "Excellent quality prints., Easy to install.",
           "Pro (original)",
           3.4093375205993652
          ],
          [
           "Excellent timber prints., Easy to install.",
           "Pro (augmented)",
           3.4093375205993652
          ],
          [
           "speed, clarity",
           "Pro (original)",
           4.362155437469482
          ],
          [
           "speed, ",
           "Pro (augmented)",
           4.362155437469482
          ],
          [
           "A solidly built  great little printer.",
           "Pro (original)",
           4.76837158203125e-7
          ],
          [
           "A solidly establish  great little printer.",
           "Pro (augmented)",
           4.76837158203125e-7
          ],
          [
           "Quality LCD Screen, no shutter lag, excellent pictures, fantastic movies.",
           "Pro (original)",
           3.7951157093048096
          ],
          [
           "Quality LCD Screen, no shutter lag, pictures, movies.",
           "Pro (augmented)",
           3.7951157093048096
          ],
          [
           "It's cheap",
           "Pro (original)",
           0.045313309878110886
          ],
          [
           "cheap It's",
           "Pro (augmented)",
           0.045313309878110886
          ],
          [
           "...small",
           "Pro (original)",
           5.960464477539062e-7
          ],
          [
           "...pocket-size",
           "Pro (augmented)",
           5.960464477539062e-7
          ],
          [
           "fabulous picture quality, very quick operation",
           "Pro (original)",
           0.06004155054688454
          ],
          [
           "picture fabulous quality, very quick operation",
           "Pro (augmented)",
           0.06004155054688454
          ],
          [
           "Easy to use, great battery life, variety of ringtones and faceplates to buy.",
           "Pro (original)",
           1.2563278675079346
          ],
          [
           "Easy to use, great expend battery life, variety of ringtones and faceplates to buy.",
           "Pro (augmented)",
           1.2563278675079346
          ],
          [
           "Great Pictures",
           "Pro (original)",
           0.0000013486991292666062
          ],
          [
           "Pictures Great",
           "Pro (augmented)",
           0.0000013486991292666062
          ],
          [
           "small, enough features &#13;&#10;",
           "Pro (original)",
           6.128017902374268
          ],
          [
           "small, 13 features &#enough;&#10;",
           "Pro (augmented)",
           6.128017902374268
          ],
          [
           "egronomic shape, inexpensive, loud ringer, several accessories included, fm tuner, minibrowser",
           "Pro (original)",
           4.1474809646606445
          ],
          [
           "egronomic shape, inexpensive, loud, several accessories, fm tuner, minibrowser",
           "Pro (augmented)",
           4.1474809646606445
          ],
          [
           "5 MP, manual features, construction, quality pictures, software interface, quick charger.",
           "Pro (original)",
           0.10329268872737885
          ],
          [
           "5 MP, manual features,, quality pictures, software interface, quick.",
           "Pro (augmented)",
           0.10329268872737885
          ]
         ],
         "hovertemplate": "Text: %{customdata[0]} <br>Label: %{customdata[1]} <br>Distance: %{customdata[2]:.5f} <br>",
         "legendgroup": "blue, o",
         "marker": {
          "color": "#EF553B",
          "size": [
           100,
           10,
           100,
           10,
           100,
           10,
           100,
           10,
           100,
           10,
           100,
           10,
           100,
           10,
           100,
           10,
           100,
           10,
           100,
           10,
           100,
           10,
           100,
           10,
           100,
           10,
           100,
           10,
           100,
           10
          ],
          "sizemode": "area",
          "sizeref": 0.25,
          "symbol": "diamond"
         },
         "mode": "markers",
         "name": "blue, o",
         "orientation": "v",
         "showlegend": true,
         "type": "scatter",
         "x": [
          0.773361086845398,
          0.7583668231964111,
          -0.42559516429901123,
          3.1346607208251953,
          0.5005729794502258,
          0.02977500669658184,
          1.3785218000411987,
          -0.937524676322937,
          1.5274180173873901,
          -1.6674866676330566,
          2.8164238929748535,
          2.8164238929748535,
          2.2593579292297363,
          -0.39739173650741577,
          -1.1011905670166016,
          -1.1169095039367676,
          -1.6674864292144775,
          -1.6674858331680298,
          1.1285523176193237,
          1.1878305673599243,
          2.7421483993530273,
          3.401275873184204,
          -1.6674857139587402,
          -1.6674866676330566,
          1.7532873153686523,
          -1.8086514472961426,
          0.9874186515808105,
          -1.8462530374526978,
          1.259901762008667,
          1.2974539995193481
         ],
         "xaxis": "x",
         "y": [
          8.078166961669922,
          7.996525287628174,
          10.399663925170898,
          5.321465969085693,
          8.099942207336426,
          8.70446491241455,
          6.932648658752441,
          9.434550285339355,
          6.556607723236084,
          9.52662181854248,
          5.514825820922852,
          5.514825344085693,
          6.134702205657959,
          8.844791412353516,
          9.107693672180176,
          9.150193214416504,
          9.52662181854248,
          9.52662181854248,
          7.906903266906738,
          7.916446685791016,
          6.634907245635986,
          5.565369606018066,
          9.526622772216797,
          9.52662181854248,
          6.638472080230713,
          11.62497329711914,
          7.336916446685791,
          10.365431785583496,
          7.304752349853516,
          7.40097713470459
         ],
         "yaxis": "y"
        }
       ],
       "layout": {
        "legend": {
         "itemsizing": "constant",
         "title": {
          "text": "color, symbol"
         },
         "tracegroupgap": 0
        },
        "template": {
         "data": {
          "bar": [
           {
            "error_x": {
             "color": "#2a3f5f"
            },
            "error_y": {
             "color": "#2a3f5f"
            },
            "marker": {
             "line": {
              "color": "#E5ECF6",
              "width": 0.5
             },
             "pattern": {
              "fillmode": "overlay",
              "size": 10,
              "solidity": 0.2
             }
            },
            "type": "bar"
           }
          ],
          "barpolar": [
           {
            "marker": {
             "line": {
              "color": "#E5ECF6",
              "width": 0.5
             },
             "pattern": {
              "fillmode": "overlay",
              "size": 10,
              "solidity": 0.2
             }
            },
            "type": "barpolar"
           }
          ],
          "carpet": [
           {
            "aaxis": {
             "endlinecolor": "#2a3f5f",
             "gridcolor": "white",
             "linecolor": "white",
             "minorgridcolor": "white",
             "startlinecolor": "#2a3f5f"
            },
            "baxis": {
             "endlinecolor": "#2a3f5f",
             "gridcolor": "white",
             "linecolor": "white",
             "minorgridcolor": "white",
             "startlinecolor": "#2a3f5f"
            },
            "type": "carpet"
           }
          ],
          "choropleth": [
           {
            "colorbar": {
             "outlinewidth": 0,
             "ticks": ""
            },
            "type": "choropleth"
           }
          ],
          "contour": [
           {
            "colorbar": {
             "outlinewidth": 0,
             "ticks": ""
            },
            "colorscale": [
             [
              0,
              "#0d0887"
             ],
             [
              0.1111111111111111,
              "#46039f"
             ],
             [
              0.2222222222222222,
              "#7201a8"
             ],
             [
              0.3333333333333333,
              "#9c179e"
             ],
             [
              0.4444444444444444,
              "#bd3786"
             ],
             [
              0.5555555555555556,
              "#d8576b"
             ],
             [
              0.6666666666666666,
              "#ed7953"
             ],
             [
              0.7777777777777778,
              "#fb9f3a"
             ],
             [
              0.8888888888888888,
              "#fdca26"
             ],
             [
              1,
              "#f0f921"
             ]
            ],
            "type": "contour"
           }
          ],
          "contourcarpet": [
           {
            "colorbar": {
             "outlinewidth": 0,
             "ticks": ""
            },
            "type": "contourcarpet"
           }
          ],
          "heatmap": [
           {
            "colorbar": {
             "outlinewidth": 0,
             "ticks": ""
            },
            "colorscale": [
             [
              0,
              "#0d0887"
             ],
             [
              0.1111111111111111,
              "#46039f"
             ],
             [
              0.2222222222222222,
              "#7201a8"
             ],
             [
              0.3333333333333333,
              "#9c179e"
             ],
             [
              0.4444444444444444,
              "#bd3786"
             ],
             [
              0.5555555555555556,
              "#d8576b"
             ],
             [
              0.6666666666666666,
              "#ed7953"
             ],
             [
              0.7777777777777778,
              "#fb9f3a"
             ],
             [
              0.8888888888888888,
              "#fdca26"
             ],
             [
              1,
              "#f0f921"
             ]
            ],
            "type": "heatmap"
           }
          ],
          "heatmapgl": [
           {
            "colorbar": {
             "outlinewidth": 0,
             "ticks": ""
            },
            "colorscale": [
             [
              0,
              "#0d0887"
             ],
             [
              0.1111111111111111,
              "#46039f"
             ],
             [
              0.2222222222222222,
              "#7201a8"
             ],
             [
              0.3333333333333333,
              "#9c179e"
             ],
             [
              0.4444444444444444,
              "#bd3786"
             ],
             [
              0.5555555555555556,
              "#d8576b"
             ],
             [
              0.6666666666666666,
              "#ed7953"
             ],
             [
              0.7777777777777778,
              "#fb9f3a"
             ],
             [
              0.8888888888888888,
              "#fdca26"
             ],
             [
              1,
              "#f0f921"
             ]
            ],
            "type": "heatmapgl"
           }
          ],
          "histogram": [
           {
            "marker": {
             "pattern": {
              "fillmode": "overlay",
              "size": 10,
              "solidity": 0.2
             }
            },
            "type": "histogram"
           }
          ],
          "histogram2d": [
           {
            "colorbar": {
             "outlinewidth": 0,
             "ticks": ""
            },
            "colorscale": [
             [
              0,
              "#0d0887"
             ],
             [
              0.1111111111111111,
              "#46039f"
             ],
             [
              0.2222222222222222,
              "#7201a8"
             ],
             [
              0.3333333333333333,
              "#9c179e"
             ],
             [
              0.4444444444444444,
              "#bd3786"
             ],
             [
              0.5555555555555556,
              "#d8576b"
             ],
             [
              0.6666666666666666,
              "#ed7953"
             ],
             [
              0.7777777777777778,
              "#fb9f3a"
             ],
             [
              0.8888888888888888,
              "#fdca26"
             ],
             [
              1,
              "#f0f921"
             ]
            ],
            "type": "histogram2d"
           }
          ],
          "histogram2dcontour": [
           {
            "colorbar": {
             "outlinewidth": 0,
             "ticks": ""
            },
            "colorscale": [
             [
              0,
              "#0d0887"
             ],
             [
              0.1111111111111111,
              "#46039f"
             ],
             [
              0.2222222222222222,
              "#7201a8"
             ],
             [
              0.3333333333333333,
              "#9c179e"
             ],
             [
              0.4444444444444444,
              "#bd3786"
             ],
             [
              0.5555555555555556,
              "#d8576b"
             ],
             [
              0.6666666666666666,
              "#ed7953"
             ],
             [
              0.7777777777777778,
              "#fb9f3a"
             ],
             [
              0.8888888888888888,
              "#fdca26"
             ],
             [
              1,
              "#f0f921"
             ]
            ],
            "type": "histogram2dcontour"
           }
          ],
          "mesh3d": [
           {
            "colorbar": {
             "outlinewidth": 0,
             "ticks": ""
            },
            "type": "mesh3d"
           }
          ],
          "parcoords": [
           {
            "line": {
             "colorbar": {
              "outlinewidth": 0,
              "ticks": ""
             }
            },
            "type": "parcoords"
           }
          ],
          "pie": [
           {
            "automargin": true,
            "type": "pie"
           }
          ],
          "scatter": [
           {
            "fillpattern": {
             "fillmode": "overlay",
             "size": 10,
             "solidity": 0.2
            },
            "type": "scatter"
           }
          ],
          "scatter3d": [
           {
            "line": {
             "colorbar": {
              "outlinewidth": 0,
              "ticks": ""
             }
            },
            "marker": {
             "colorbar": {
              "outlinewidth": 0,
              "ticks": ""
             }
            },
            "type": "scatter3d"
           }
          ],
          "scattercarpet": [
           {
            "marker": {
             "colorbar": {
              "outlinewidth": 0,
              "ticks": ""
             }
            },
            "type": "scattercarpet"
           }
          ],
          "scattergeo": [
           {
            "marker": {
             "colorbar": {
              "outlinewidth": 0,
              "ticks": ""
             }
            },
            "type": "scattergeo"
           }
          ],
          "scattergl": [
           {
            "marker": {
             "colorbar": {
              "outlinewidth": 0,
              "ticks": ""
             }
            },
            "type": "scattergl"
           }
          ],
          "scattermapbox": [
           {
            "marker": {
             "colorbar": {
              "outlinewidth": 0,
              "ticks": ""
             }
            },
            "type": "scattermapbox"
           }
          ],
          "scatterpolar": [
           {
            "marker": {
             "colorbar": {
              "outlinewidth": 0,
              "ticks": ""
             }
            },
            "type": "scatterpolar"
           }
          ],
          "scatterpolargl": [
           {
            "marker": {
             "colorbar": {
              "outlinewidth": 0,
              "ticks": ""
             }
            },
            "type": "scatterpolargl"
           }
          ],
          "scatterternary": [
           {
            "marker": {
             "colorbar": {
              "outlinewidth": 0,
              "ticks": ""
             }
            },
            "type": "scatterternary"
           }
          ],
          "surface": [
           {
            "colorbar": {
             "outlinewidth": 0,
             "ticks": ""
            },
            "colorscale": [
             [
              0,
              "#0d0887"
             ],
             [
              0.1111111111111111,
              "#46039f"
             ],
             [
              0.2222222222222222,
              "#7201a8"
             ],
             [
              0.3333333333333333,
              "#9c179e"
             ],
             [
              0.4444444444444444,
              "#bd3786"
             ],
             [
              0.5555555555555556,
              "#d8576b"
             ],
             [
              0.6666666666666666,
              "#ed7953"
             ],
             [
              0.7777777777777778,
              "#fb9f3a"
             ],
             [
              0.8888888888888888,
              "#fdca26"
             ],
             [
              1,
              "#f0f921"
             ]
            ],
            "type": "surface"
           }
          ],
          "table": [
           {
            "cells": {
             "fill": {
              "color": "#EBF0F8"
             },
             "line": {
              "color": "white"
             }
            },
            "header": {
             "fill": {
              "color": "#C8D4E3"
             },
             "line": {
              "color": "white"
             }
            },
            "type": "table"
           }
          ]
         },
         "layout": {
          "annotationdefaults": {
           "arrowcolor": "#2a3f5f",
           "arrowhead": 0,
           "arrowwidth": 1
          },
          "autotypenumbers": "strict",
          "coloraxis": {
           "colorbar": {
            "outlinewidth": 0,
            "ticks": ""
           }
          },
          "colorscale": {
           "diverging": [
            [
             0,
             "#8e0152"
            ],
            [
             0.1,
             "#c51b7d"
            ],
            [
             0.2,
             "#de77ae"
            ],
            [
             0.3,
             "#f1b6da"
            ],
            [
             0.4,
             "#fde0ef"
            ],
            [
             0.5,
             "#f7f7f7"
            ],
            [
             0.6,
             "#e6f5d0"
            ],
            [
             0.7,
             "#b8e186"
            ],
            [
             0.8,
             "#7fbc41"
            ],
            [
             0.9,
             "#4d9221"
            ],
            [
             1,
             "#276419"
            ]
           ],
           "sequential": [
            [
             0,
             "#0d0887"
            ],
            [
             0.1111111111111111,
             "#46039f"
            ],
            [
             0.2222222222222222,
             "#7201a8"
            ],
            [
             0.3333333333333333,
             "#9c179e"
            ],
            [
             0.4444444444444444,
             "#bd3786"
            ],
            [
             0.5555555555555556,
             "#d8576b"
            ],
            [
             0.6666666666666666,
             "#ed7953"
            ],
            [
             0.7777777777777778,
             "#fb9f3a"
            ],
            [
             0.8888888888888888,
             "#fdca26"
            ],
            [
             1,
             "#f0f921"
            ]
           ],
           "sequentialminus": [
            [
             0,
             "#0d0887"
            ],
            [
             0.1111111111111111,
             "#46039f"
            ],
            [
             0.2222222222222222,
             "#7201a8"
            ],
            [
             0.3333333333333333,
             "#9c179e"
            ],
            [
             0.4444444444444444,
             "#bd3786"
            ],
            [
             0.5555555555555556,
             "#d8576b"
            ],
            [
             0.6666666666666666,
             "#ed7953"
            ],
            [
             0.7777777777777778,
             "#fb9f3a"
            ],
            [
             0.8888888888888888,
             "#fdca26"
            ],
            [
             1,
             "#f0f921"
            ]
           ]
          },
          "colorway": [
           "#636efa",
           "#EF553B",
           "#00cc96",
           "#ab63fa",
           "#FFA15A",
           "#19d3f3",
           "#FF6692",
           "#B6E880",
           "#FF97FF",
           "#FECB52"
          ],
          "font": {
           "color": "#2a3f5f"
          },
          "geo": {
           "bgcolor": "white",
           "lakecolor": "white",
           "landcolor": "#E5ECF6",
           "showlakes": true,
           "showland": true,
           "subunitcolor": "white"
          },
          "hoverlabel": {
           "align": "left"
          },
          "hovermode": "closest",
          "mapbox": {
           "style": "light"
          },
          "paper_bgcolor": "white",
          "plot_bgcolor": "#E5ECF6",
          "polar": {
           "angularaxis": {
            "gridcolor": "white",
            "linecolor": "white",
            "ticks": ""
           },
           "bgcolor": "#E5ECF6",
           "radialaxis": {
            "gridcolor": "white",
            "linecolor": "white",
            "ticks": ""
           }
          },
          "scene": {
           "xaxis": {
            "backgroundcolor": "#E5ECF6",
            "gridcolor": "white",
            "gridwidth": 2,
            "linecolor": "white",
            "showbackground": true,
            "ticks": "",
            "zerolinecolor": "white"
           },
           "yaxis": {
            "backgroundcolor": "#E5ECF6",
            "gridcolor": "white",
            "gridwidth": 2,
            "linecolor": "white",
            "showbackground": true,
            "ticks": "",
            "zerolinecolor": "white"
           },
           "zaxis": {
            "backgroundcolor": "#E5ECF6",
            "gridcolor": "white",
            "gridwidth": 2,
            "linecolor": "white",
            "showbackground": true,
            "ticks": "",
            "zerolinecolor": "white"
           }
          },
          "shapedefaults": {
           "line": {
            "color": "#2a3f5f"
           }
          },
          "ternary": {
           "aaxis": {
            "gridcolor": "white",
            "linecolor": "white",
            "ticks": ""
           },
           "baxis": {
            "gridcolor": "white",
            "linecolor": "white",
            "ticks": ""
           },
           "bgcolor": "#E5ECF6",
           "caxis": {
            "gridcolor": "white",
            "linecolor": "white",
            "ticks": ""
           }
          },
          "title": {
           "x": 0.05
          },
          "xaxis": {
           "automargin": true,
           "gridcolor": "white",
           "linecolor": "white",
           "ticks": "",
           "title": {
            "standoff": 15
           },
           "zerolinecolor": "white",
           "zerolinewidth": 2
          },
          "yaxis": {
           "automargin": true,
           "gridcolor": "white",
           "linecolor": "white",
           "ticks": "",
           "title": {
            "standoff": 15
           },
           "zerolinecolor": "white",
           "zerolinewidth": 2
          }
         }
        },
        "title": {
         "text": "t-SNE plot of subj dataset with eda augmentation method, total distance: 7.2600"
        },
        "xaxis": {
         "anchor": "y",
         "domain": [
          0,
          1
         ],
         "title": {
          "text": "x"
         }
        },
        "yaxis": {
         "anchor": "x",
         "domain": [
          0,
          1
         ],
         "title": {
          "text": "y"
         }
        }
       }
      },
      "text/html": [
       "<div>                            <div id=\"dbca92a4-6433-4828-bb13-0e8796dedc3b\" class=\"plotly-graph-div\" style=\"height:525px; width:100%;\"></div>            <script type=\"text/javascript\">                require([\"plotly\"], function(Plotly) {                    window.PLOTLYENV=window.PLOTLYENV || {};                                    if (document.getElementById(\"dbca92a4-6433-4828-bb13-0e8796dedc3b\")) {                    Plotly.newPlot(                        \"dbca92a4-6433-4828-bb13-0e8796dedc3b\",                        [{\"customdata\":[[\"Flash recharges slowly with NiMH. Small 8MB card.\",\"Con (original)\",3.8473432064056396],[\"Flash recharges slowly with NiMH. Small modest 8MB card.\",\"Con (augmented)\",3.8473432064056396],[\"Ink smears and ink blots\",\"Con (original)\",0.08565876632928848],[\"stain Ink smears and ink blots\",\"Con (augmented)\",0.08565876632928848],[\"No Back-light at night.\",\"Con (original)\",3.5762786865234375e-07],[\"No Back-light at nighttime.\",\"Con (augmented)\",3.5762786865234375e-07],[\"Battery life is terrible\",\"Con (original)\",1.3791465759277344],[\"Battery life is \",\"Con (augmented)\",1.3791465759277344],[\"sh_t pictures most of the time, viewfinder not accurate\",\"Con (original)\",0.20702247321605682],[\"sh_t pictures most of the time, precise viewfinder not accurate\",\"Con (augmented)\",0.20702247321605682],[\"Sometimes more than one sheet of paper is pulled through at a time\",\"Con (original)\",6.430771350860596],[\"Sometimes more one sheet paper is pulled through at a time\",\"Con (augmented)\",6.430771350860596],[\"so new that it's hard to find or get accessories for\",\"Con (original)\",0.5841684937477112],[\"so new sol that it's hard to find or get accessories for\",\"Con (augmented)\",0.5841684937477112],[\"Port cover, antenna when extended, takes a bit to find sweet spot.\",\"Con (original)\",0.5340766310691833],[\"Port cover, antenna when extended, takes a bit to find sweet-scented patch.\",\"Con (augmented)\",0.5340766310691833],[\"No USB and no optical zoom, not great in low light\",\"Con (original)\",0.45701152086257935],[\"No USB and great optical zoom, not no in low light\",\"Con (augmented)\",0.45701152086257935],[\"could do with more pixals\",\"Con (original)\",0.4988124966621399],[\"do with more pixals\",\"Con (augmented)\",0.4988124966621399],[\"Functions don't work as well as if individual items (separate fax, etc)\",\"Con (original)\",0.3557487428188324],[\"Functions don't work as well as individual items (separate fax,)\",\"Con (augmented)\",0.3557487428188324],[\"A little noisy. \",\"Con (original)\",0.2091217339038849],[\"A ampere little noisy. \",\"Con (augmented)\",0.2091217339038849],[\"Does not fold very compact.\",\"Con (original)\",0.23624247312545776],[\"Does not very fold compact.\",\"Con (augmented)\",0.23624247312545776],[\"Software / driver problems\",\"Con (original)\",0.24935241043567657],[\"problems / driver Software\",\"Con (augmented)\",0.24935241043567657],[\"Brightness varies too much on LCD, video out, and computer\",\"Con (original)\",1.2549251317977905],[\"lots Brightness varies too much on LCD, video out, and computer\",\"Con (augmented)\",1.2549251317977905]],\"hovertemplate\":\"Text: %{customdata[0]} <br>Label: %{customdata[1]} <br>Distance: %{customdata[2]:.5f} <br>\",\"legendgroup\":\"red, ^\",\"marker\":{\"color\":\"#636efa\",\"size\":[100,10,100,10,100,10,100,10,100,10,100,10,100,10,100,10,100,10,100,10,100,10,100,10,100,10,100,10,100,10],\"sizemode\":\"area\",\"sizeref\":0.25,\"symbol\":\"circle\"},\"mode\":\"markers\",\"name\":\"red, ^\",\"orientation\":\"v\",\"showlegend\":true,\"x\":[-0.7138568758964539,1.6462068557739258,-1.5812568664550781,-1.5206525325775146,-0.8023941516876221,-0.8023945093154907,-0.6657448410987854,-1.6551649570465088,3.1833760738372803,3.380687713623047,3.4546730518341064,-0.17257444560527802,-1.102620005607605,-0.5746833682060242,-0.32988080382347107,-0.769115149974823,2.1934361457824707,2.3718414306640625,2.233431816101074,1.8898767232894897,3.2434699535369873,2.9061813354492188,0.04980993643403053,0.2052193582057953,1.6615217924118042,1.6293678283691406,-0.5295936465263367,-0.7220104336738586,2.341148614883423,3.117798089981079],\"xaxis\":\"x\",\"y\":[10.020305633544922,6.981860637664795,10.196930885314941,10.136395454406738,9.07109546661377,9.07109546661377,10.604268074035645,11.565045356750488,5.321418762207031,5.258757591247559,5.803483009338379,11.113652229309082,11.696590423583984,11.446518898010254,11.15417766571045,11.45800495147705,7.430633544921875,7.009882926940918,6.983430862426758,7.345071315765381,5.726489543914795,5.839598178863525,8.524348258972168,8.384420394897461,7.2320027351379395,7.4660468101501465,9.179553031921387,9.33814811706543,6.958654403686523,5.972929954528809],\"yaxis\":\"y\",\"type\":\"scatter\"},{\"customdata\":[[\"instant photos, ease of carrying, no downloading\",\"Pro (original)\",0.08300717175006866],[\"relaxation instant photos, ease of carrying, no downloading\",\"Pro (augmented)\",0.08300717175006866],[\"Buy it! Great first digital camera, Comes with docking station, charger, fair price, great quality.\",\"Pro (original)\",6.2018961906433105],[\"Buy it! average Great neat first digital camera, Comes with docking station, charger, fair price, great quality.\",\"Pro (augmented)\",6.2018961906433105],[\"Great picture photos\",\"Pro (original)\",0.7662234902381897],[\"Great picture exposure photos\",\"Pro (augmented)\",0.7662234902381897],[\"Excellent quality prints., Easy to install.\",\"Pro (original)\",3.4093375205993652],[\"Excellent timber prints., Easy to install.\",\"Pro (augmented)\",3.4093375205993652],[\"speed, clarity\",\"Pro (original)\",4.362155437469482],[\"speed, \",\"Pro (augmented)\",4.362155437469482],[\"A solidly built  great little printer.\",\"Pro (original)\",4.76837158203125e-07],[\"A solidly establish  great little printer.\",\"Pro (augmented)\",4.76837158203125e-07],[\"Quality LCD Screen, no shutter lag, excellent pictures, fantastic movies.\",\"Pro (original)\",3.7951157093048096],[\"Quality LCD Screen, no shutter lag, pictures, movies.\",\"Pro (augmented)\",3.7951157093048096],[\"It's cheap\",\"Pro (original)\",0.045313309878110886],[\"cheap It's\",\"Pro (augmented)\",0.045313309878110886],[\"...small\",\"Pro (original)\",5.960464477539062e-07],[\"...pocket-size\",\"Pro (augmented)\",5.960464477539062e-07],[\"fabulous picture quality, very quick operation\",\"Pro (original)\",0.06004155054688454],[\"picture fabulous quality, very quick operation\",\"Pro (augmented)\",0.06004155054688454],[\"Easy to use, great battery life, variety of ringtones and faceplates to buy.\",\"Pro (original)\",1.2563278675079346],[\"Easy to use, great expend battery life, variety of ringtones and faceplates to buy.\",\"Pro (augmented)\",1.2563278675079346],[\"Great Pictures\",\"Pro (original)\",1.3486991292666062e-06],[\"Pictures Great\",\"Pro (augmented)\",1.3486991292666062e-06],[\"small, enough features &#13;&#10;\",\"Pro (original)\",6.128017902374268],[\"small, 13 features &#enough;&#10;\",\"Pro (augmented)\",6.128017902374268],[\"egronomic shape, inexpensive, loud ringer, several accessories included, fm tuner, minibrowser\",\"Pro (original)\",4.1474809646606445],[\"egronomic shape, inexpensive, loud, several accessories, fm tuner, minibrowser\",\"Pro (augmented)\",4.1474809646606445],[\"5 MP, manual features, construction, quality pictures, software interface, quick charger.\",\"Pro (original)\",0.10329268872737885],[\"5 MP, manual features,, quality pictures, software interface, quick.\",\"Pro (augmented)\",0.10329268872737885]],\"hovertemplate\":\"Text: %{customdata[0]} <br>Label: %{customdata[1]} <br>Distance: %{customdata[2]:.5f} <br>\",\"legendgroup\":\"blue, o\",\"marker\":{\"color\":\"#EF553B\",\"size\":[100,10,100,10,100,10,100,10,100,10,100,10,100,10,100,10,100,10,100,10,100,10,100,10,100,10,100,10,100,10],\"sizemode\":\"area\",\"sizeref\":0.25,\"symbol\":\"diamond\"},\"mode\":\"markers\",\"name\":\"blue, o\",\"orientation\":\"v\",\"showlegend\":true,\"x\":[0.773361086845398,0.7583668231964111,-0.42559516429901123,3.1346607208251953,0.5005729794502258,0.02977500669658184,1.3785218000411987,-0.937524676322937,1.5274180173873901,-1.6674866676330566,2.8164238929748535,2.8164238929748535,2.2593579292297363,-0.39739173650741577,-1.1011905670166016,-1.1169095039367676,-1.6674864292144775,-1.6674858331680298,1.1285523176193237,1.1878305673599243,2.7421483993530273,3.401275873184204,-1.6674857139587402,-1.6674866676330566,1.7532873153686523,-1.8086514472961426,0.9874186515808105,-1.8462530374526978,1.259901762008667,1.2974539995193481],\"xaxis\":\"x\",\"y\":[8.078166961669922,7.996525287628174,10.399663925170898,5.321465969085693,8.099942207336426,8.70446491241455,6.932648658752441,9.434550285339355,6.556607723236084,9.52662181854248,5.514825820922852,5.514825344085693,6.134702205657959,8.844791412353516,9.107693672180176,9.150193214416504,9.52662181854248,9.52662181854248,7.906903266906738,7.916446685791016,6.634907245635986,5.565369606018066,9.526622772216797,9.52662181854248,6.638472080230713,11.62497329711914,7.336916446685791,10.365431785583496,7.304752349853516,7.40097713470459],\"yaxis\":\"y\",\"type\":\"scatter\"}],                        {\"template\":{\"data\":{\"histogram2dcontour\":[{\"type\":\"histogram2dcontour\",\"colorbar\":{\"outlinewidth\":0,\"ticks\":\"\"},\"colorscale\":[[0.0,\"#0d0887\"],[0.1111111111111111,\"#46039f\"],[0.2222222222222222,\"#7201a8\"],[0.3333333333333333,\"#9c179e\"],[0.4444444444444444,\"#bd3786\"],[0.5555555555555556,\"#d8576b\"],[0.6666666666666666,\"#ed7953\"],[0.7777777777777778,\"#fb9f3a\"],[0.8888888888888888,\"#fdca26\"],[1.0,\"#f0f921\"]]}],\"choropleth\":[{\"type\":\"choropleth\",\"colorbar\":{\"outlinewidth\":0,\"ticks\":\"\"}}],\"histogram2d\":[{\"type\":\"histogram2d\",\"colorbar\":{\"outlinewidth\":0,\"ticks\":\"\"},\"colorscale\":[[0.0,\"#0d0887\"],[0.1111111111111111,\"#46039f\"],[0.2222222222222222,\"#7201a8\"],[0.3333333333333333,\"#9c179e\"],[0.4444444444444444,\"#bd3786\"],[0.5555555555555556,\"#d8576b\"],[0.6666666666666666,\"#ed7953\"],[0.7777777777777778,\"#fb9f3a\"],[0.8888888888888888,\"#fdca26\"],[1.0,\"#f0f921\"]]}],\"heatmap\":[{\"type\":\"heatmap\",\"colorbar\":{\"outlinewidth\":0,\"ticks\":\"\"},\"colorscale\":[[0.0,\"#0d0887\"],[0.1111111111111111,\"#46039f\"],[0.2222222222222222,\"#7201a8\"],[0.3333333333333333,\"#9c179e\"],[0.4444444444444444,\"#bd3786\"],[0.5555555555555556,\"#d8576b\"],[0.6666666666666666,\"#ed7953\"],[0.7777777777777778,\"#fb9f3a\"],[0.8888888888888888,\"#fdca26\"],[1.0,\"#f0f921\"]]}],\"heatmapgl\":[{\"type\":\"heatmapgl\",\"colorbar\":{\"outlinewidth\":0,\"ticks\":\"\"},\"colorscale\":[[0.0,\"#0d0887\"],[0.1111111111111111,\"#46039f\"],[0.2222222222222222,\"#7201a8\"],[0.3333333333333333,\"#9c179e\"],[0.4444444444444444,\"#bd3786\"],[0.5555555555555556,\"#d8576b\"],[0.6666666666666666,\"#ed7953\"],[0.7777777777777778,\"#fb9f3a\"],[0.8888888888888888,\"#fdca26\"],[1.0,\"#f0f921\"]]}],\"contourcarpet\":[{\"type\":\"contourcarpet\",\"colorbar\":{\"outlinewidth\":0,\"ticks\":\"\"}}],\"contour\":[{\"type\":\"contour\",\"colorbar\":{\"outlinewidth\":0,\"ticks\":\"\"},\"colorscale\":[[0.0,\"#0d0887\"],[0.1111111111111111,\"#46039f\"],[0.2222222222222222,\"#7201a8\"],[0.3333333333333333,\"#9c179e\"],[0.4444444444444444,\"#bd3786\"],[0.5555555555555556,\"#d8576b\"],[0.6666666666666666,\"#ed7953\"],[0.7777777777777778,\"#fb9f3a\"],[0.8888888888888888,\"#fdca26\"],[1.0,\"#f0f921\"]]}],\"surface\":[{\"type\":\"surface\",\"colorbar\":{\"outlinewidth\":0,\"ticks\":\"\"},\"colorscale\":[[0.0,\"#0d0887\"],[0.1111111111111111,\"#46039f\"],[0.2222222222222222,\"#7201a8\"],[0.3333333333333333,\"#9c179e\"],[0.4444444444444444,\"#bd3786\"],[0.5555555555555556,\"#d8576b\"],[0.6666666666666666,\"#ed7953\"],[0.7777777777777778,\"#fb9f3a\"],[0.8888888888888888,\"#fdca26\"],[1.0,\"#f0f921\"]]}],\"mesh3d\":[{\"type\":\"mesh3d\",\"colorbar\":{\"outlinewidth\":0,\"ticks\":\"\"}}],\"scatter\":[{\"fillpattern\":{\"fillmode\":\"overlay\",\"size\":10,\"solidity\":0.2},\"type\":\"scatter\"}],\"parcoords\":[{\"type\":\"parcoords\",\"line\":{\"colorbar\":{\"outlinewidth\":0,\"ticks\":\"\"}}}],\"scatterpolargl\":[{\"type\":\"scatterpolargl\",\"marker\":{\"colorbar\":{\"outlinewidth\":0,\"ticks\":\"\"}}}],\"bar\":[{\"error_x\":{\"color\":\"#2a3f5f\"},\"error_y\":{\"color\":\"#2a3f5f\"},\"marker\":{\"line\":{\"color\":\"#E5ECF6\",\"width\":0.5},\"pattern\":{\"fillmode\":\"overlay\",\"size\":10,\"solidity\":0.2}},\"type\":\"bar\"}],\"scattergeo\":[{\"type\":\"scattergeo\",\"marker\":{\"colorbar\":{\"outlinewidth\":0,\"ticks\":\"\"}}}],\"scatterpolar\":[{\"type\":\"scatterpolar\",\"marker\":{\"colorbar\":{\"outlinewidth\":0,\"ticks\":\"\"}}}],\"histogram\":[{\"marker\":{\"pattern\":{\"fillmode\":\"overlay\",\"size\":10,\"solidity\":0.2}},\"type\":\"histogram\"}],\"scattergl\":[{\"type\":\"scattergl\",\"marker\":{\"colorbar\":{\"outlinewidth\":0,\"ticks\":\"\"}}}],\"scatter3d\":[{\"type\":\"scatter3d\",\"line\":{\"colorbar\":{\"outlinewidth\":0,\"ticks\":\"\"}},\"marker\":{\"colorbar\":{\"outlinewidth\":0,\"ticks\":\"\"}}}],\"scattermapbox\":[{\"type\":\"scattermapbox\",\"marker\":{\"colorbar\":{\"outlinewidth\":0,\"ticks\":\"\"}}}],\"scatterternary\":[{\"type\":\"scatterternary\",\"marker\":{\"colorbar\":{\"outlinewidth\":0,\"ticks\":\"\"}}}],\"scattercarpet\":[{\"type\":\"scattercarpet\",\"marker\":{\"colorbar\":{\"outlinewidth\":0,\"ticks\":\"\"}}}],\"carpet\":[{\"aaxis\":{\"endlinecolor\":\"#2a3f5f\",\"gridcolor\":\"white\",\"linecolor\":\"white\",\"minorgridcolor\":\"white\",\"startlinecolor\":\"#2a3f5f\"},\"baxis\":{\"endlinecolor\":\"#2a3f5f\",\"gridcolor\":\"white\",\"linecolor\":\"white\",\"minorgridcolor\":\"white\",\"startlinecolor\":\"#2a3f5f\"},\"type\":\"carpet\"}],\"table\":[{\"cells\":{\"fill\":{\"color\":\"#EBF0F8\"},\"line\":{\"color\":\"white\"}},\"header\":{\"fill\":{\"color\":\"#C8D4E3\"},\"line\":{\"color\":\"white\"}},\"type\":\"table\"}],\"barpolar\":[{\"marker\":{\"line\":{\"color\":\"#E5ECF6\",\"width\":0.5},\"pattern\":{\"fillmode\":\"overlay\",\"size\":10,\"solidity\":0.2}},\"type\":\"barpolar\"}],\"pie\":[{\"automargin\":true,\"type\":\"pie\"}]},\"layout\":{\"autotypenumbers\":\"strict\",\"colorway\":[\"#636efa\",\"#EF553B\",\"#00cc96\",\"#ab63fa\",\"#FFA15A\",\"#19d3f3\",\"#FF6692\",\"#B6E880\",\"#FF97FF\",\"#FECB52\"],\"font\":{\"color\":\"#2a3f5f\"},\"hovermode\":\"closest\",\"hoverlabel\":{\"align\":\"left\"},\"paper_bgcolor\":\"white\",\"plot_bgcolor\":\"#E5ECF6\",\"polar\":{\"bgcolor\":\"#E5ECF6\",\"angularaxis\":{\"gridcolor\":\"white\",\"linecolor\":\"white\",\"ticks\":\"\"},\"radialaxis\":{\"gridcolor\":\"white\",\"linecolor\":\"white\",\"ticks\":\"\"}},\"ternary\":{\"bgcolor\":\"#E5ECF6\",\"aaxis\":{\"gridcolor\":\"white\",\"linecolor\":\"white\",\"ticks\":\"\"},\"baxis\":{\"gridcolor\":\"white\",\"linecolor\":\"white\",\"ticks\":\"\"},\"caxis\":{\"gridcolor\":\"white\",\"linecolor\":\"white\",\"ticks\":\"\"}},\"coloraxis\":{\"colorbar\":{\"outlinewidth\":0,\"ticks\":\"\"}},\"colorscale\":{\"sequential\":[[0.0,\"#0d0887\"],[0.1111111111111111,\"#46039f\"],[0.2222222222222222,\"#7201a8\"],[0.3333333333333333,\"#9c179e\"],[0.4444444444444444,\"#bd3786\"],[0.5555555555555556,\"#d8576b\"],[0.6666666666666666,\"#ed7953\"],[0.7777777777777778,\"#fb9f3a\"],[0.8888888888888888,\"#fdca26\"],[1.0,\"#f0f921\"]],\"sequentialminus\":[[0.0,\"#0d0887\"],[0.1111111111111111,\"#46039f\"],[0.2222222222222222,\"#7201a8\"],[0.3333333333333333,\"#9c179e\"],[0.4444444444444444,\"#bd3786\"],[0.5555555555555556,\"#d8576b\"],[0.6666666666666666,\"#ed7953\"],[0.7777777777777778,\"#fb9f3a\"],[0.8888888888888888,\"#fdca26\"],[1.0,\"#f0f921\"]],\"diverging\":[[0,\"#8e0152\"],[0.1,\"#c51b7d\"],[0.2,\"#de77ae\"],[0.3,\"#f1b6da\"],[0.4,\"#fde0ef\"],[0.5,\"#f7f7f7\"],[0.6,\"#e6f5d0\"],[0.7,\"#b8e186\"],[0.8,\"#7fbc41\"],[0.9,\"#4d9221\"],[1,\"#276419\"]]},\"xaxis\":{\"gridcolor\":\"white\",\"linecolor\":\"white\",\"ticks\":\"\",\"title\":{\"standoff\":15},\"zerolinecolor\":\"white\",\"automargin\":true,\"zerolinewidth\":2},\"yaxis\":{\"gridcolor\":\"white\",\"linecolor\":\"white\",\"ticks\":\"\",\"title\":{\"standoff\":15},\"zerolinecolor\":\"white\",\"automargin\":true,\"zerolinewidth\":2},\"scene\":{\"xaxis\":{\"backgroundcolor\":\"#E5ECF6\",\"gridcolor\":\"white\",\"linecolor\":\"white\",\"showbackground\":true,\"ticks\":\"\",\"zerolinecolor\":\"white\",\"gridwidth\":2},\"yaxis\":{\"backgroundcolor\":\"#E5ECF6\",\"gridcolor\":\"white\",\"linecolor\":\"white\",\"showbackground\":true,\"ticks\":\"\",\"zerolinecolor\":\"white\",\"gridwidth\":2},\"zaxis\":{\"backgroundcolor\":\"#E5ECF6\",\"gridcolor\":\"white\",\"linecolor\":\"white\",\"showbackground\":true,\"ticks\":\"\",\"zerolinecolor\":\"white\",\"gridwidth\":2}},\"shapedefaults\":{\"line\":{\"color\":\"#2a3f5f\"}},\"annotationdefaults\":{\"arrowcolor\":\"#2a3f5f\",\"arrowhead\":0,\"arrowwidth\":1},\"geo\":{\"bgcolor\":\"white\",\"landcolor\":\"#E5ECF6\",\"subunitcolor\":\"white\",\"showland\":true,\"showlakes\":true,\"lakecolor\":\"white\"},\"title\":{\"x\":0.05},\"mapbox\":{\"style\":\"light\"}}},\"xaxis\":{\"anchor\":\"y\",\"domain\":[0.0,1.0],\"title\":{\"text\":\"x\"}},\"yaxis\":{\"anchor\":\"x\",\"domain\":[0.0,1.0],\"title\":{\"text\":\"y\"}},\"legend\":{\"title\":{\"text\":\"color, symbol\"},\"tracegroupgap\":0,\"itemsizing\":\"constant\"},\"title\":{\"text\":\"t-SNE plot of subj dataset with eda augmentation method, total distance: 7.2600\"}},                        {\"responsive\": true}                    ).then(function(){\n",
       "                            \n",
       "var gd = document.getElementById('dbca92a4-6433-4828-bb13-0e8796dedc3b');\n",
       "var x = new MutationObserver(function (mutations, observer) {{\n",
       "        var display = window.getComputedStyle(gd).display;\n",
       "        if (!display || display === 'none') {{\n",
       "            console.log([gd, 'removed!']);\n",
       "            Plotly.purge(gd);\n",
       "            observer.disconnect();\n",
       "        }}\n",
       "}});\n",
       "\n",
       "// Listen for the removal of the full notebook cells\n",
       "var notebookContainer = gd.closest('#notebook-container');\n",
       "if (notebookContainer) {{\n",
       "    x.observe(notebookContainer, {childList: true});\n",
       "}}\n",
       "\n",
       "// Listen for the clearing of the current output cell\n",
       "var outputEl = gd.closest('.output');\n",
       "if (outputEl) {{\n",
       "    x.observe(outputEl, {childList: true});\n",
       "}}\n",
       "\n",
       "                        })                };                });            </script>        </div>"
      ]
     },
     "metadata": {},
     "output_type": "display_data"
    }
   ],
   "source": [
    "plotly_tsne(df_t, 'subj','eda')"
   ]
  },
  {
   "cell_type": "code",
   "execution_count": 78,
   "metadata": {},
   "outputs": [
    {
     "data": {
      "application/vnd.plotly.v1+json": {
       "config": {
        "plotlyServerURL": "https://plot.ly"
       },
       "data": [
        {
         "customdata": [
          [
           "Flash recharges slowly with NiMH. Small 8MB card.",
           "Con (original)",
           3.8608787059783936
          ],
          [
           "Flash recharges slowly with NiMH. Small modest 8MB card.",
           "Con (augmented)",
           3.8608787059783936
          ],
          [
           "Ink smears and ink blots",
           "Con (original)",
           0.08258715271949768
          ],
          [
           "stain Ink smears and ink blots",
           "Con (augmented)",
           0.08258715271949768
          ],
          [
           "No Back-light at night.",
           "Con (original)",
           0.030131356790661812
          ],
          [
           "No Back-light at nighttime.",
           "Con (augmented)",
           0.030131356790661812
          ],
          [
           "Battery life is terrible",
           "Con (original)",
           1.388411521911621
          ],
          [
           "Battery life is ",
           "Con (augmented)",
           1.388411521911621
          ],
          [
           "sh_t pictures most of the time, viewfinder not accurate",
           "Con (original)",
           0.23268195986747742
          ],
          [
           "sh_t pictures most of the time, precise viewfinder not accurate",
           "Con (augmented)",
           0.23268195986747742
          ],
          [
           "Sometimes more than one sheet of paper is pulled through at a time",
           "Con (original)",
           6.5051422119140625
          ],
          [
           "Sometimes more one sheet paper is pulled through at a time",
           "Con (augmented)",
           6.5051422119140625
          ],
          [
           "so new that it's hard to find or get accessories for",
           "Con (original)",
           0.5945920944213867
          ],
          [
           "so new sol that it's hard to find or get accessories for",
           "Con (augmented)",
           0.5945920944213867
          ],
          [
           "Port cover, antenna when extended, takes a bit to find sweet spot.",
           "Con (original)",
           0.5408090949058533
          ],
          [
           "Port cover, antenna when extended, takes a bit to find sweet-scented patch.",
           "Con (augmented)",
           0.5408090949058533
          ],
          [
           "No USB and no optical zoom, not great in low light",
           "Con (original)",
           0.47359949350357056
          ],
          [
           "No USB and great optical zoom, not no in low light",
           "Con (augmented)",
           0.47359949350357056
          ],
          [
           "could do with more pixals",
           "Con (original)",
           0.4808482825756073
          ],
          [
           "do with more pixals",
           "Con (augmented)",
           0.4808482825756073
          ],
          [
           "Functions don't work as well as if individual items (separate fax, etc)",
           "Con (original)",
           0.3106730282306671
          ],
          [
           "Functions don't work as well as individual items (separate fax,)",
           "Con (augmented)",
           0.3106730282306671
          ],
          [
           "A little noisy. ",
           "Con (original)",
           0.25334686040878296
          ],
          [
           "A ampere little noisy. ",
           "Con (augmented)",
           0.25334686040878296
          ],
          [
           "Does not fold very compact.",
           "Con (original)",
           0.23329725861549377
          ],
          [
           "Does not very fold compact.",
           "Con (augmented)",
           0.23329725861549377
          ],
          [
           "Software / driver problems",
           "Con (original)",
           0.23359328508377075
          ],
          [
           "problems / driver Software",
           "Con (augmented)",
           0.23359328508377075
          ],
          [
           "Brightness varies too much on LCD, video out, and computer",
           "Con (original)",
           1.255500078201294
          ],
          [
           "lots Brightness varies too much on LCD, video out, and computer",
           "Con (augmented)",
           1.255500078201294
          ]
         ],
         "hovertemplate": "Text: %{customdata[0]} <br>Label: %{customdata[1]} <br>Distance: %{customdata[2]:.5f} <br>",
         "legendgroup": "red, ^",
         "marker": {
          "color": "#636efa",
          "size": [
           100,
           10,
           100,
           10,
           100,
           10,
           100,
           10,
           100,
           10,
           100,
           10,
           100,
           10,
           100,
           10,
           100,
           10,
           100,
           10,
           100,
           10,
           100,
           10,
           100,
           10,
           100,
           10,
           100,
           10
          ],
          "sizemode": "area",
          "sizeref": 0.25,
          "symbol": "circle"
         },
         "mode": "markers",
         "name": "red, ^",
         "orientation": "v",
         "showlegend": true,
         "type": "scatter",
         "x": [
          11.635320663452148,
          11.714750289916992,
          11.029314041137695,
          11.054352760314941,
          10.986753463745117,
          10.99816608428955,
          12.012175559997559,
          11.789822578430176,
          11.867127418518066,
          11.999177932739258,
          12.402653694152832,
          12.724621772766113,
          12.324501037597656,
          12.59190845489502,
          12.612881660461426,
          12.44762134552002,
          12.44054889678955,
          12.33559799194336,
          12.197675704956055,
          12.131772994995117,
          12.17636775970459,
          12.028230667114258,
          11.346177101135254,
          11.425936698913574,
          11.907569885253906,
          12.008825302124023,
          11.287753105163574,
          11.231719970703125,
          12.275288581848145,
          12.26783561706543
         ],
         "xaxis": "x",
         "y": [
          13.872255325317383,
          17.732316970825195,
          13.181792259216309,
          13.260492324829102,
          14.590858459472656,
          14.562972068786621,
          13.417584419250488,
          12.047093391418457,
          19.97944450378418,
          20.1710262298584,
          19.801332473754883,
          13.304162979125977,
          12.268805503845215,
          12.799873352050781,
          13.186277389526367,
          12.671337127685547,
          17.7070255279541,
          18.16884994506836,
          18.067041397094727,
          17.590730667114258,
          19.69651985168457,
          19.423439025878906,
          15.506282806396484,
          15.746747016906738,
          17.544536590576172,
          17.33435821533203,
          14.646157264709473,
          14.419384002685547,
          18.185335159301758,
          19.440813064575195
         ],
         "yaxis": "y"
        },
        {
         "customdata": [
          [
           "instant photos, ease of carrying, no downloading",
           "Pro (original)",
           0.10519500076770782
          ],
          [
           "relaxation instant photos, ease of carrying, no downloading",
           "Pro (augmented)",
           0.10519500076770782
          ],
          [
           "Buy it! Great first digital camera, Comes with docking station, charger, fair price, great quality.",
           "Pro (original)",
           6.221126079559326
          ],
          [
           "Buy it! average Great neat first digital camera, Comes with docking station, charger, fair price, great quality.",
           "Pro (augmented)",
           6.221126079559326
          ],
          [
           "Great picture photos",
           "Pro (original)",
           0.7507711052894592
          ],
          [
           "Great picture exposure photos",
           "Pro (augmented)",
           0.7507711052894592
          ],
          [
           "Excellent quality prints., Easy to install.",
           "Pro (original)",
           3.4002597332000732
          ],
          [
           "Excellent timber prints., Easy to install.",
           "Pro (augmented)",
           3.4002597332000732
          ],
          [
           "speed, clarity",
           "Pro (original)",
           4.363855838775635
          ],
          [
           "speed, ",
           "Pro (augmented)",
           4.363855838775635
          ],
          [
           "A solidly built  great little printer.",
           "Pro (original)",
           0.01980603300035
          ],
          [
           "A solidly establish  great little printer.",
           "Pro (augmented)",
           0.01980603300035
          ],
          [
           "Quality LCD Screen, no shutter lag, excellent pictures, fantastic movies.",
           "Pro (original)",
           3.8142788410186768
          ],
          [
           "Quality LCD Screen, no shutter lag, pictures, movies.",
           "Pro (augmented)",
           3.8142788410186768
          ],
          [
           "It's cheap",
           "Pro (original)",
           0.03369763866066933
          ],
          [
           "cheap It's",
           "Pro (augmented)",
           0.03369763866066933
          ],
          [
           "...small",
           "Pro (original)",
           0
          ],
          [
           "...pocket-size",
           "Pro (augmented)",
           0
          ],
          [
           "fabulous picture quality, very quick operation",
           "Pro (original)",
           0.05282876268029213
          ],
          [
           "picture fabulous quality, very quick operation",
           "Pro (augmented)",
           0.05282876268029213
          ],
          [
           "Easy to use, great battery life, variety of ringtones and faceplates to buy.",
           "Pro (original)",
           1.2780330181121826
          ],
          [
           "Easy to use, great expend battery life, variety of ringtones and faceplates to buy.",
           "Pro (augmented)",
           1.2780330181121826
          ],
          [
           "Great Pictures",
           "Pro (original)",
           0.0000019073486328125
          ],
          [
           "Pictures Great",
           "Pro (augmented)",
           0.0000019073486328125
          ],
          [
           "small, enough features &#13;&#10;",
           "Pro (original)",
           6.1457672119140625
          ],
          [
           "small, 13 features &#enough;&#10;",
           "Pro (augmented)",
           6.1457672119140625
          ],
          [
           "egronomic shape, inexpensive, loud ringer, several accessories included, fm tuner, minibrowser",
           "Pro (original)",
           4.180095195770264
          ],
          [
           "egronomic shape, inexpensive, loud, several accessories, fm tuner, minibrowser",
           "Pro (augmented)",
           4.180095195770264
          ],
          [
           "5 MP, manual features, construction, quality pictures, software interface, quick charger.",
           "Pro (original)",
           0.08614940196275711
          ],
          [
           "5 MP, manual features,, quality pictures, software interface, quick.",
           "Pro (augmented)",
           0.08614940196275711
          ]
         ],
         "hovertemplate": "Text: %{customdata[0]} <br>Label: %{customdata[1]} <br>Distance: %{customdata[2]:.5f} <br>",
         "legendgroup": "blue, o",
         "marker": {
          "color": "#EF553B",
          "size": [
           100,
           10,
           100,
           10,
           100,
           10,
           100,
           10,
           100,
           10,
           100,
           10,
           100,
           10,
           100,
           10,
           100,
           10,
           100,
           10,
           100,
           10,
           100,
           10,
           100,
           10,
           100,
           10,
           100,
           10
          ],
          "sizemode": "area",
          "sizeref": 0.25,
          "symbol": "diamond"
         },
         "mode": "markers",
         "name": "blue, o",
         "orientation": "v",
         "showlegend": true,
         "type": "scatter",
         "x": [
          11.686752319335938,
          11.628321647644043,
          12.081637382507324,
          11.835939407348633,
          11.454704284667969,
          11.468635559082031,
          11.475065231323242,
          11.11372184753418,
          11.360906600952148,
          10.565643310546875,
          11.723418235778809,
          11.728822708129883,
          11.681496620178223,
          11.205501556396484,
          10.774930953979492,
          10.781218528747559,
          10.565643310546875,
          10.565643310546875,
          11.872785568237305,
          11.92556381225586,
          12.399688720703125,
          12.217339515686035,
          10.565643310546875,
          10.565643310546875,
          11.593889236450195,
          11.705877304077148,
          11.415801048278809,
          10.927470207214355,
          11.623761177062988,
          11.690362930297852
         ],
         "xaxis": "x",
         "y": [
          16.305377960205078,
          16.392852783203125,
          13.730043411254883,
          19.94631576538086,
          16.144495010375977,
          15.393853187561035,
          17.604434967041016,
          14.223429679870605,
          17.98605728149414,
          13.695277214050293,
          19.613847732543945,
          19.59479331970215,
          18.802452087402344,
          15.017990112304688,
          14.370237350463867,
          14.33713150024414,
          13.69527816772461,
          13.69527816772461,
          16.690933227539062,
          16.6932430267334,
          18.679275512695312,
          19.944232940673828,
          13.695277214050293,
          13.695279121398926,
          18.044021606445312,
          11.899274826049805,
          17.03680419921875,
          12.885331153869629,
          17.245054244995117,
          17.190410614013672
         ],
         "yaxis": "y"
        }
       ],
       "layout": {
        "legend": {
         "itemsizing": "constant",
         "title": {
          "text": "color, symbol"
         },
         "tracegroupgap": 0
        },
        "showlegend": false,
        "template": {
         "data": {
          "bar": [
           {
            "error_x": {
             "color": "#2a3f5f"
            },
            "error_y": {
             "color": "#2a3f5f"
            },
            "marker": {
             "line": {
              "color": "#E5ECF6",
              "width": 0.5
             },
             "pattern": {
              "fillmode": "overlay",
              "size": 10,
              "solidity": 0.2
             }
            },
            "type": "bar"
           }
          ],
          "barpolar": [
           {
            "marker": {
             "line": {
              "color": "#E5ECF6",
              "width": 0.5
             },
             "pattern": {
              "fillmode": "overlay",
              "size": 10,
              "solidity": 0.2
             }
            },
            "type": "barpolar"
           }
          ],
          "carpet": [
           {
            "aaxis": {
             "endlinecolor": "#2a3f5f",
             "gridcolor": "white",
             "linecolor": "white",
             "minorgridcolor": "white",
             "startlinecolor": "#2a3f5f"
            },
            "baxis": {
             "endlinecolor": "#2a3f5f",
             "gridcolor": "white",
             "linecolor": "white",
             "minorgridcolor": "white",
             "startlinecolor": "#2a3f5f"
            },
            "type": "carpet"
           }
          ],
          "choropleth": [
           {
            "colorbar": {
             "outlinewidth": 0,
             "ticks": ""
            },
            "type": "choropleth"
           }
          ],
          "contour": [
           {
            "colorbar": {
             "outlinewidth": 0,
             "ticks": ""
            },
            "colorscale": [
             [
              0,
              "#0d0887"
             ],
             [
              0.1111111111111111,
              "#46039f"
             ],
             [
              0.2222222222222222,
              "#7201a8"
             ],
             [
              0.3333333333333333,
              "#9c179e"
             ],
             [
              0.4444444444444444,
              "#bd3786"
             ],
             [
              0.5555555555555556,
              "#d8576b"
             ],
             [
              0.6666666666666666,
              "#ed7953"
             ],
             [
              0.7777777777777778,
              "#fb9f3a"
             ],
             [
              0.8888888888888888,
              "#fdca26"
             ],
             [
              1,
              "#f0f921"
             ]
            ],
            "type": "contour"
           }
          ],
          "contourcarpet": [
           {
            "colorbar": {
             "outlinewidth": 0,
             "ticks": ""
            },
            "type": "contourcarpet"
           }
          ],
          "heatmap": [
           {
            "colorbar": {
             "outlinewidth": 0,
             "ticks": ""
            },
            "colorscale": [
             [
              0,
              "#0d0887"
             ],
             [
              0.1111111111111111,
              "#46039f"
             ],
             [
              0.2222222222222222,
              "#7201a8"
             ],
             [
              0.3333333333333333,
              "#9c179e"
             ],
             [
              0.4444444444444444,
              "#bd3786"
             ],
             [
              0.5555555555555556,
              "#d8576b"
             ],
             [
              0.6666666666666666,
              "#ed7953"
             ],
             [
              0.7777777777777778,
              "#fb9f3a"
             ],
             [
              0.8888888888888888,
              "#fdca26"
             ],
             [
              1,
              "#f0f921"
             ]
            ],
            "type": "heatmap"
           }
          ],
          "heatmapgl": [
           {
            "colorbar": {
             "outlinewidth": 0,
             "ticks": ""
            },
            "colorscale": [
             [
              0,
              "#0d0887"
             ],
             [
              0.1111111111111111,
              "#46039f"
             ],
             [
              0.2222222222222222,
              "#7201a8"
             ],
             [
              0.3333333333333333,
              "#9c179e"
             ],
             [
              0.4444444444444444,
              "#bd3786"
             ],
             [
              0.5555555555555556,
              "#d8576b"
             ],
             [
              0.6666666666666666,
              "#ed7953"
             ],
             [
              0.7777777777777778,
              "#fb9f3a"
             ],
             [
              0.8888888888888888,
              "#fdca26"
             ],
             [
              1,
              "#f0f921"
             ]
            ],
            "type": "heatmapgl"
           }
          ],
          "histogram": [
           {
            "marker": {
             "pattern": {
              "fillmode": "overlay",
              "size": 10,
              "solidity": 0.2
             }
            },
            "type": "histogram"
           }
          ],
          "histogram2d": [
           {
            "colorbar": {
             "outlinewidth": 0,
             "ticks": ""
            },
            "colorscale": [
             [
              0,
              "#0d0887"
             ],
             [
              0.1111111111111111,
              "#46039f"
             ],
             [
              0.2222222222222222,
              "#7201a8"
             ],
             [
              0.3333333333333333,
              "#9c179e"
             ],
             [
              0.4444444444444444,
              "#bd3786"
             ],
             [
              0.5555555555555556,
              "#d8576b"
             ],
             [
              0.6666666666666666,
              "#ed7953"
             ],
             [
              0.7777777777777778,
              "#fb9f3a"
             ],
             [
              0.8888888888888888,
              "#fdca26"
             ],
             [
              1,
              "#f0f921"
             ]
            ],
            "type": "histogram2d"
           }
          ],
          "histogram2dcontour": [
           {
            "colorbar": {
             "outlinewidth": 0,
             "ticks": ""
            },
            "colorscale": [
             [
              0,
              "#0d0887"
             ],
             [
              0.1111111111111111,
              "#46039f"
             ],
             [
              0.2222222222222222,
              "#7201a8"
             ],
             [
              0.3333333333333333,
              "#9c179e"
             ],
             [
              0.4444444444444444,
              "#bd3786"
             ],
             [
              0.5555555555555556,
              "#d8576b"
             ],
             [
              0.6666666666666666,
              "#ed7953"
             ],
             [
              0.7777777777777778,
              "#fb9f3a"
             ],
             [
              0.8888888888888888,
              "#fdca26"
             ],
             [
              1,
              "#f0f921"
             ]
            ],
            "type": "histogram2dcontour"
           }
          ],
          "mesh3d": [
           {
            "colorbar": {
             "outlinewidth": 0,
             "ticks": ""
            },
            "type": "mesh3d"
           }
          ],
          "parcoords": [
           {
            "line": {
             "colorbar": {
              "outlinewidth": 0,
              "ticks": ""
             }
            },
            "type": "parcoords"
           }
          ],
          "pie": [
           {
            "automargin": true,
            "type": "pie"
           }
          ],
          "scatter": [
           {
            "fillpattern": {
             "fillmode": "overlay",
             "size": 10,
             "solidity": 0.2
            },
            "type": "scatter"
           }
          ],
          "scatter3d": [
           {
            "line": {
             "colorbar": {
              "outlinewidth": 0,
              "ticks": ""
             }
            },
            "marker": {
             "colorbar": {
              "outlinewidth": 0,
              "ticks": ""
             }
            },
            "type": "scatter3d"
           }
          ],
          "scattercarpet": [
           {
            "marker": {
             "colorbar": {
              "outlinewidth": 0,
              "ticks": ""
             }
            },
            "type": "scattercarpet"
           }
          ],
          "scattergeo": [
           {
            "marker": {
             "colorbar": {
              "outlinewidth": 0,
              "ticks": ""
             }
            },
            "type": "scattergeo"
           }
          ],
          "scattergl": [
           {
            "marker": {
             "colorbar": {
              "outlinewidth": 0,
              "ticks": ""
             }
            },
            "type": "scattergl"
           }
          ],
          "scattermapbox": [
           {
            "marker": {
             "colorbar": {
              "outlinewidth": 0,
              "ticks": ""
             }
            },
            "type": "scattermapbox"
           }
          ],
          "scatterpolar": [
           {
            "marker": {
             "colorbar": {
              "outlinewidth": 0,
              "ticks": ""
             }
            },
            "type": "scatterpolar"
           }
          ],
          "scatterpolargl": [
           {
            "marker": {
             "colorbar": {
              "outlinewidth": 0,
              "ticks": ""
             }
            },
            "type": "scatterpolargl"
           }
          ],
          "scatterternary": [
           {
            "marker": {
             "colorbar": {
              "outlinewidth": 0,
              "ticks": ""
             }
            },
            "type": "scatterternary"
           }
          ],
          "surface": [
           {
            "colorbar": {
             "outlinewidth": 0,
             "ticks": ""
            },
            "colorscale": [
             [
              0,
              "#0d0887"
             ],
             [
              0.1111111111111111,
              "#46039f"
             ],
             [
              0.2222222222222222,
              "#7201a8"
             ],
             [
              0.3333333333333333,
              "#9c179e"
             ],
             [
              0.4444444444444444,
              "#bd3786"
             ],
             [
              0.5555555555555556,
              "#d8576b"
             ],
             [
              0.6666666666666666,
              "#ed7953"
             ],
             [
              0.7777777777777778,
              "#fb9f3a"
             ],
             [
              0.8888888888888888,
              "#fdca26"
             ],
             [
              1,
              "#f0f921"
             ]
            ],
            "type": "surface"
           }
          ],
          "table": [
           {
            "cells": {
             "fill": {
              "color": "#EBF0F8"
             },
             "line": {
              "color": "white"
             }
            },
            "header": {
             "fill": {
              "color": "#C8D4E3"
             },
             "line": {
              "color": "white"
             }
            },
            "type": "table"
           }
          ]
         },
         "layout": {
          "annotationdefaults": {
           "arrowcolor": "#2a3f5f",
           "arrowhead": 0,
           "arrowwidth": 1
          },
          "autotypenumbers": "strict",
          "coloraxis": {
           "colorbar": {
            "outlinewidth": 0,
            "ticks": ""
           }
          },
          "colorscale": {
           "diverging": [
            [
             0,
             "#8e0152"
            ],
            [
             0.1,
             "#c51b7d"
            ],
            [
             0.2,
             "#de77ae"
            ],
            [
             0.3,
             "#f1b6da"
            ],
            [
             0.4,
             "#fde0ef"
            ],
            [
             0.5,
             "#f7f7f7"
            ],
            [
             0.6,
             "#e6f5d0"
            ],
            [
             0.7,
             "#b8e186"
            ],
            [
             0.8,
             "#7fbc41"
            ],
            [
             0.9,
             "#4d9221"
            ],
            [
             1,
             "#276419"
            ]
           ],
           "sequential": [
            [
             0,
             "#0d0887"
            ],
            [
             0.1111111111111111,
             "#46039f"
            ],
            [
             0.2222222222222222,
             "#7201a8"
            ],
            [
             0.3333333333333333,
             "#9c179e"
            ],
            [
             0.4444444444444444,
             "#bd3786"
            ],
            [
             0.5555555555555556,
             "#d8576b"
            ],
            [
             0.6666666666666666,
             "#ed7953"
            ],
            [
             0.7777777777777778,
             "#fb9f3a"
            ],
            [
             0.8888888888888888,
             "#fdca26"
            ],
            [
             1,
             "#f0f921"
            ]
           ],
           "sequentialminus": [
            [
             0,
             "#0d0887"
            ],
            [
             0.1111111111111111,
             "#46039f"
            ],
            [
             0.2222222222222222,
             "#7201a8"
            ],
            [
             0.3333333333333333,
             "#9c179e"
            ],
            [
             0.4444444444444444,
             "#bd3786"
            ],
            [
             0.5555555555555556,
             "#d8576b"
            ],
            [
             0.6666666666666666,
             "#ed7953"
            ],
            [
             0.7777777777777778,
             "#fb9f3a"
            ],
            [
             0.8888888888888888,
             "#fdca26"
            ],
            [
             1,
             "#f0f921"
            ]
           ]
          },
          "colorway": [
           "#636efa",
           "#EF553B",
           "#00cc96",
           "#ab63fa",
           "#FFA15A",
           "#19d3f3",
           "#FF6692",
           "#B6E880",
           "#FF97FF",
           "#FECB52"
          ],
          "font": {
           "color": "#2a3f5f"
          },
          "geo": {
           "bgcolor": "white",
           "lakecolor": "white",
           "landcolor": "#E5ECF6",
           "showlakes": true,
           "showland": true,
           "subunitcolor": "white"
          },
          "hoverlabel": {
           "align": "left"
          },
          "hovermode": "closest",
          "mapbox": {
           "style": "light"
          },
          "paper_bgcolor": "white",
          "plot_bgcolor": "#E5ECF6",
          "polar": {
           "angularaxis": {
            "gridcolor": "white",
            "linecolor": "white",
            "ticks": ""
           },
           "bgcolor": "#E5ECF6",
           "radialaxis": {
            "gridcolor": "white",
            "linecolor": "white",
            "ticks": ""
           }
          },
          "scene": {
           "xaxis": {
            "backgroundcolor": "#E5ECF6",
            "gridcolor": "white",
            "gridwidth": 2,
            "linecolor": "white",
            "showbackground": true,
            "ticks": "",
            "zerolinecolor": "white"
           },
           "yaxis": {
            "backgroundcolor": "#E5ECF6",
            "gridcolor": "white",
            "gridwidth": 2,
            "linecolor": "white",
            "showbackground": true,
            "ticks": "",
            "zerolinecolor": "white"
           },
           "zaxis": {
            "backgroundcolor": "#E5ECF6",
            "gridcolor": "white",
            "gridwidth": 2,
            "linecolor": "white",
            "showbackground": true,
            "ticks": "",
            "zerolinecolor": "white"
           }
          },
          "shapedefaults": {
           "line": {
            "color": "#2a3f5f"
           }
          },
          "ternary": {
           "aaxis": {
            "gridcolor": "white",
            "linecolor": "white",
            "ticks": ""
           },
           "baxis": {
            "gridcolor": "white",
            "linecolor": "white",
            "ticks": ""
           },
           "bgcolor": "#E5ECF6",
           "caxis": {
            "gridcolor": "white",
            "linecolor": "white",
            "ticks": ""
           }
          },
          "title": {
           "x": 0.05
          },
          "xaxis": {
           "automargin": true,
           "gridcolor": "white",
           "linecolor": "white",
           "ticks": "",
           "title": {
            "standoff": 15
           },
           "zerolinecolor": "white",
           "zerolinewidth": 2
          },
          "yaxis": {
           "automargin": true,
           "gridcolor": "white",
           "linecolor": "white",
           "ticks": "",
           "title": {
            "standoff": 15
           },
           "zerolinecolor": "white",
           "zerolinewidth": 2
          }
         }
        },
        "title": {
         "text": "t-SNE plot of subj dataset with eda augmentation method, total distance: 7.2140"
        },
        "xaxis": {
         "anchor": "y",
         "domain": [
          0,
          1
         ],
         "title": {
          "text": "x"
         }
        },
        "yaxis": {
         "anchor": "x",
         "domain": [
          0,
          1
         ],
         "title": {
          "text": "y"
         }
        }
       }
      },
      "text/html": [
       "<div>                            <div id=\"5282233f-627d-4774-972c-0cd1450255a4\" class=\"plotly-graph-div\" style=\"height:525px; width:100%;\"></div>            <script type=\"text/javascript\">                require([\"plotly\"], function(Plotly) {                    window.PLOTLYENV=window.PLOTLYENV || {};                                    if (document.getElementById(\"5282233f-627d-4774-972c-0cd1450255a4\")) {                    Plotly.newPlot(                        \"5282233f-627d-4774-972c-0cd1450255a4\",                        [{\"customdata\":[[\"Flash recharges slowly with NiMH. Small 8MB card.\",\"Con (original)\",3.8608787059783936],[\"Flash recharges slowly with NiMH. Small modest 8MB card.\",\"Con (augmented)\",3.8608787059783936],[\"Ink smears and ink blots\",\"Con (original)\",0.08258715271949768],[\"stain Ink smears and ink blots\",\"Con (augmented)\",0.08258715271949768],[\"No Back-light at night.\",\"Con (original)\",0.030131356790661812],[\"No Back-light at nighttime.\",\"Con (augmented)\",0.030131356790661812],[\"Battery life is terrible\",\"Con (original)\",1.388411521911621],[\"Battery life is \",\"Con (augmented)\",1.388411521911621],[\"sh_t pictures most of the time, viewfinder not accurate\",\"Con (original)\",0.23268195986747742],[\"sh_t pictures most of the time, precise viewfinder not accurate\",\"Con (augmented)\",0.23268195986747742],[\"Sometimes more than one sheet of paper is pulled through at a time\",\"Con (original)\",6.5051422119140625],[\"Sometimes more one sheet paper is pulled through at a time\",\"Con (augmented)\",6.5051422119140625],[\"so new that it's hard to find or get accessories for\",\"Con (original)\",0.5945920944213867],[\"so new sol that it's hard to find or get accessories for\",\"Con (augmented)\",0.5945920944213867],[\"Port cover, antenna when extended, takes a bit to find sweet spot.\",\"Con (original)\",0.5408090949058533],[\"Port cover, antenna when extended, takes a bit to find sweet-scented patch.\",\"Con (augmented)\",0.5408090949058533],[\"No USB and no optical zoom, not great in low light\",\"Con (original)\",0.47359949350357056],[\"No USB and great optical zoom, not no in low light\",\"Con (augmented)\",0.47359949350357056],[\"could do with more pixals\",\"Con (original)\",0.4808482825756073],[\"do with more pixals\",\"Con (augmented)\",0.4808482825756073],[\"Functions don't work as well as if individual items (separate fax, etc)\",\"Con (original)\",0.3106730282306671],[\"Functions don't work as well as individual items (separate fax,)\",\"Con (augmented)\",0.3106730282306671],[\"A little noisy. \",\"Con (original)\",0.25334686040878296],[\"A ampere little noisy. \",\"Con (augmented)\",0.25334686040878296],[\"Does not fold very compact.\",\"Con (original)\",0.23329725861549377],[\"Does not very fold compact.\",\"Con (augmented)\",0.23329725861549377],[\"Software / driver problems\",\"Con (original)\",0.23359328508377075],[\"problems / driver Software\",\"Con (augmented)\",0.23359328508377075],[\"Brightness varies too much on LCD, video out, and computer\",\"Con (original)\",1.255500078201294],[\"lots Brightness varies too much on LCD, video out, and computer\",\"Con (augmented)\",1.255500078201294]],\"hovertemplate\":\"Text: %{customdata[0]} <br>Label: %{customdata[1]} <br>Distance: %{customdata[2]:.5f} <br>\",\"legendgroup\":\"red, ^\",\"marker\":{\"color\":\"#636efa\",\"size\":[100,10,100,10,100,10,100,10,100,10,100,10,100,10,100,10,100,10,100,10,100,10,100,10,100,10,100,10,100,10],\"sizemode\":\"area\",\"sizeref\":0.25,\"symbol\":\"circle\"},\"mode\":\"markers\",\"name\":\"red, ^\",\"orientation\":\"v\",\"showlegend\":true,\"x\":[11.635320663452148,11.714750289916992,11.029314041137695,11.054352760314941,10.986753463745117,10.99816608428955,12.012175559997559,11.789822578430176,11.867127418518066,11.999177932739258,12.402653694152832,12.724621772766113,12.324501037597656,12.59190845489502,12.612881660461426,12.44762134552002,12.44054889678955,12.33559799194336,12.197675704956055,12.131772994995117,12.17636775970459,12.028230667114258,11.346177101135254,11.425936698913574,11.907569885253906,12.008825302124023,11.287753105163574,11.231719970703125,12.275288581848145,12.26783561706543],\"xaxis\":\"x\",\"y\":[13.872255325317383,17.732316970825195,13.181792259216309,13.260492324829102,14.590858459472656,14.562972068786621,13.417584419250488,12.047093391418457,19.97944450378418,20.1710262298584,19.801332473754883,13.304162979125977,12.268805503845215,12.799873352050781,13.186277389526367,12.671337127685547,17.7070255279541,18.16884994506836,18.067041397094727,17.590730667114258,19.69651985168457,19.423439025878906,15.506282806396484,15.746747016906738,17.544536590576172,17.33435821533203,14.646157264709473,14.419384002685547,18.185335159301758,19.440813064575195],\"yaxis\":\"y\",\"type\":\"scatter\"},{\"customdata\":[[\"instant photos, ease of carrying, no downloading\",\"Pro (original)\",0.10519500076770782],[\"relaxation instant photos, ease of carrying, no downloading\",\"Pro (augmented)\",0.10519500076770782],[\"Buy it! Great first digital camera, Comes with docking station, charger, fair price, great quality.\",\"Pro (original)\",6.221126079559326],[\"Buy it! average Great neat first digital camera, Comes with docking station, charger, fair price, great quality.\",\"Pro (augmented)\",6.221126079559326],[\"Great picture photos\",\"Pro (original)\",0.7507711052894592],[\"Great picture exposure photos\",\"Pro (augmented)\",0.7507711052894592],[\"Excellent quality prints., Easy to install.\",\"Pro (original)\",3.4002597332000732],[\"Excellent timber prints., Easy to install.\",\"Pro (augmented)\",3.4002597332000732],[\"speed, clarity\",\"Pro (original)\",4.363855838775635],[\"speed, \",\"Pro (augmented)\",4.363855838775635],[\"A solidly built  great little printer.\",\"Pro (original)\",0.01980603300035],[\"A solidly establish  great little printer.\",\"Pro (augmented)\",0.01980603300035],[\"Quality LCD Screen, no shutter lag, excellent pictures, fantastic movies.\",\"Pro (original)\",3.8142788410186768],[\"Quality LCD Screen, no shutter lag, pictures, movies.\",\"Pro (augmented)\",3.8142788410186768],[\"It's cheap\",\"Pro (original)\",0.03369763866066933],[\"cheap It's\",\"Pro (augmented)\",0.03369763866066933],[\"...small\",\"Pro (original)\",0.0],[\"...pocket-size\",\"Pro (augmented)\",0.0],[\"fabulous picture quality, very quick operation\",\"Pro (original)\",0.05282876268029213],[\"picture fabulous quality, very quick operation\",\"Pro (augmented)\",0.05282876268029213],[\"Easy to use, great battery life, variety of ringtones and faceplates to buy.\",\"Pro (original)\",1.2780330181121826],[\"Easy to use, great expend battery life, variety of ringtones and faceplates to buy.\",\"Pro (augmented)\",1.2780330181121826],[\"Great Pictures\",\"Pro (original)\",1.9073486328125e-06],[\"Pictures Great\",\"Pro (augmented)\",1.9073486328125e-06],[\"small, enough features &#13;&#10;\",\"Pro (original)\",6.1457672119140625],[\"small, 13 features &#enough;&#10;\",\"Pro (augmented)\",6.1457672119140625],[\"egronomic shape, inexpensive, loud ringer, several accessories included, fm tuner, minibrowser\",\"Pro (original)\",4.180095195770264],[\"egronomic shape, inexpensive, loud, several accessories, fm tuner, minibrowser\",\"Pro (augmented)\",4.180095195770264],[\"5 MP, manual features, construction, quality pictures, software interface, quick charger.\",\"Pro (original)\",0.08614940196275711],[\"5 MP, manual features,, quality pictures, software interface, quick.\",\"Pro (augmented)\",0.08614940196275711]],\"hovertemplate\":\"Text: %{customdata[0]} <br>Label: %{customdata[1]} <br>Distance: %{customdata[2]:.5f} <br>\",\"legendgroup\":\"blue, o\",\"marker\":{\"color\":\"#EF553B\",\"size\":[100,10,100,10,100,10,100,10,100,10,100,10,100,10,100,10,100,10,100,10,100,10,100,10,100,10,100,10,100,10],\"sizemode\":\"area\",\"sizeref\":0.25,\"symbol\":\"diamond\"},\"mode\":\"markers\",\"name\":\"blue, o\",\"orientation\":\"v\",\"showlegend\":true,\"x\":[11.686752319335938,11.628321647644043,12.081637382507324,11.835939407348633,11.454704284667969,11.468635559082031,11.475065231323242,11.11372184753418,11.360906600952148,10.565643310546875,11.723418235778809,11.728822708129883,11.681496620178223,11.205501556396484,10.774930953979492,10.781218528747559,10.565643310546875,10.565643310546875,11.872785568237305,11.92556381225586,12.399688720703125,12.217339515686035,10.565643310546875,10.565643310546875,11.593889236450195,11.705877304077148,11.415801048278809,10.927470207214355,11.623761177062988,11.690362930297852],\"xaxis\":\"x\",\"y\":[16.305377960205078,16.392852783203125,13.730043411254883,19.94631576538086,16.144495010375977,15.393853187561035,17.604434967041016,14.223429679870605,17.98605728149414,13.695277214050293,19.613847732543945,19.59479331970215,18.802452087402344,15.017990112304688,14.370237350463867,14.33713150024414,13.69527816772461,13.69527816772461,16.690933227539062,16.6932430267334,18.679275512695312,19.944232940673828,13.695277214050293,13.695279121398926,18.044021606445312,11.899274826049805,17.03680419921875,12.885331153869629,17.245054244995117,17.190410614013672],\"yaxis\":\"y\",\"type\":\"scatter\"}],                        {\"template\":{\"data\":{\"histogram2dcontour\":[{\"type\":\"histogram2dcontour\",\"colorbar\":{\"outlinewidth\":0,\"ticks\":\"\"},\"colorscale\":[[0.0,\"#0d0887\"],[0.1111111111111111,\"#46039f\"],[0.2222222222222222,\"#7201a8\"],[0.3333333333333333,\"#9c179e\"],[0.4444444444444444,\"#bd3786\"],[0.5555555555555556,\"#d8576b\"],[0.6666666666666666,\"#ed7953\"],[0.7777777777777778,\"#fb9f3a\"],[0.8888888888888888,\"#fdca26\"],[1.0,\"#f0f921\"]]}],\"choropleth\":[{\"type\":\"choropleth\",\"colorbar\":{\"outlinewidth\":0,\"ticks\":\"\"}}],\"histogram2d\":[{\"type\":\"histogram2d\",\"colorbar\":{\"outlinewidth\":0,\"ticks\":\"\"},\"colorscale\":[[0.0,\"#0d0887\"],[0.1111111111111111,\"#46039f\"],[0.2222222222222222,\"#7201a8\"],[0.3333333333333333,\"#9c179e\"],[0.4444444444444444,\"#bd3786\"],[0.5555555555555556,\"#d8576b\"],[0.6666666666666666,\"#ed7953\"],[0.7777777777777778,\"#fb9f3a\"],[0.8888888888888888,\"#fdca26\"],[1.0,\"#f0f921\"]]}],\"heatmap\":[{\"type\":\"heatmap\",\"colorbar\":{\"outlinewidth\":0,\"ticks\":\"\"},\"colorscale\":[[0.0,\"#0d0887\"],[0.1111111111111111,\"#46039f\"],[0.2222222222222222,\"#7201a8\"],[0.3333333333333333,\"#9c179e\"],[0.4444444444444444,\"#bd3786\"],[0.5555555555555556,\"#d8576b\"],[0.6666666666666666,\"#ed7953\"],[0.7777777777777778,\"#fb9f3a\"],[0.8888888888888888,\"#fdca26\"],[1.0,\"#f0f921\"]]}],\"heatmapgl\":[{\"type\":\"heatmapgl\",\"colorbar\":{\"outlinewidth\":0,\"ticks\":\"\"},\"colorscale\":[[0.0,\"#0d0887\"],[0.1111111111111111,\"#46039f\"],[0.2222222222222222,\"#7201a8\"],[0.3333333333333333,\"#9c179e\"],[0.4444444444444444,\"#bd3786\"],[0.5555555555555556,\"#d8576b\"],[0.6666666666666666,\"#ed7953\"],[0.7777777777777778,\"#fb9f3a\"],[0.8888888888888888,\"#fdca26\"],[1.0,\"#f0f921\"]]}],\"contourcarpet\":[{\"type\":\"contourcarpet\",\"colorbar\":{\"outlinewidth\":0,\"ticks\":\"\"}}],\"contour\":[{\"type\":\"contour\",\"colorbar\":{\"outlinewidth\":0,\"ticks\":\"\"},\"colorscale\":[[0.0,\"#0d0887\"],[0.1111111111111111,\"#46039f\"],[0.2222222222222222,\"#7201a8\"],[0.3333333333333333,\"#9c179e\"],[0.4444444444444444,\"#bd3786\"],[0.5555555555555556,\"#d8576b\"],[0.6666666666666666,\"#ed7953\"],[0.7777777777777778,\"#fb9f3a\"],[0.8888888888888888,\"#fdca26\"],[1.0,\"#f0f921\"]]}],\"surface\":[{\"type\":\"surface\",\"colorbar\":{\"outlinewidth\":0,\"ticks\":\"\"},\"colorscale\":[[0.0,\"#0d0887\"],[0.1111111111111111,\"#46039f\"],[0.2222222222222222,\"#7201a8\"],[0.3333333333333333,\"#9c179e\"],[0.4444444444444444,\"#bd3786\"],[0.5555555555555556,\"#d8576b\"],[0.6666666666666666,\"#ed7953\"],[0.7777777777777778,\"#fb9f3a\"],[0.8888888888888888,\"#fdca26\"],[1.0,\"#f0f921\"]]}],\"mesh3d\":[{\"type\":\"mesh3d\",\"colorbar\":{\"outlinewidth\":0,\"ticks\":\"\"}}],\"scatter\":[{\"fillpattern\":{\"fillmode\":\"overlay\",\"size\":10,\"solidity\":0.2},\"type\":\"scatter\"}],\"parcoords\":[{\"type\":\"parcoords\",\"line\":{\"colorbar\":{\"outlinewidth\":0,\"ticks\":\"\"}}}],\"scatterpolargl\":[{\"type\":\"scatterpolargl\",\"marker\":{\"colorbar\":{\"outlinewidth\":0,\"ticks\":\"\"}}}],\"bar\":[{\"error_x\":{\"color\":\"#2a3f5f\"},\"error_y\":{\"color\":\"#2a3f5f\"},\"marker\":{\"line\":{\"color\":\"#E5ECF6\",\"width\":0.5},\"pattern\":{\"fillmode\":\"overlay\",\"size\":10,\"solidity\":0.2}},\"type\":\"bar\"}],\"scattergeo\":[{\"type\":\"scattergeo\",\"marker\":{\"colorbar\":{\"outlinewidth\":0,\"ticks\":\"\"}}}],\"scatterpolar\":[{\"type\":\"scatterpolar\",\"marker\":{\"colorbar\":{\"outlinewidth\":0,\"ticks\":\"\"}}}],\"histogram\":[{\"marker\":{\"pattern\":{\"fillmode\":\"overlay\",\"size\":10,\"solidity\":0.2}},\"type\":\"histogram\"}],\"scattergl\":[{\"type\":\"scattergl\",\"marker\":{\"colorbar\":{\"outlinewidth\":0,\"ticks\":\"\"}}}],\"scatter3d\":[{\"type\":\"scatter3d\",\"line\":{\"colorbar\":{\"outlinewidth\":0,\"ticks\":\"\"}},\"marker\":{\"colorbar\":{\"outlinewidth\":0,\"ticks\":\"\"}}}],\"scattermapbox\":[{\"type\":\"scattermapbox\",\"marker\":{\"colorbar\":{\"outlinewidth\":0,\"ticks\":\"\"}}}],\"scatterternary\":[{\"type\":\"scatterternary\",\"marker\":{\"colorbar\":{\"outlinewidth\":0,\"ticks\":\"\"}}}],\"scattercarpet\":[{\"type\":\"scattercarpet\",\"marker\":{\"colorbar\":{\"outlinewidth\":0,\"ticks\":\"\"}}}],\"carpet\":[{\"aaxis\":{\"endlinecolor\":\"#2a3f5f\",\"gridcolor\":\"white\",\"linecolor\":\"white\",\"minorgridcolor\":\"white\",\"startlinecolor\":\"#2a3f5f\"},\"baxis\":{\"endlinecolor\":\"#2a3f5f\",\"gridcolor\":\"white\",\"linecolor\":\"white\",\"minorgridcolor\":\"white\",\"startlinecolor\":\"#2a3f5f\"},\"type\":\"carpet\"}],\"table\":[{\"cells\":{\"fill\":{\"color\":\"#EBF0F8\"},\"line\":{\"color\":\"white\"}},\"header\":{\"fill\":{\"color\":\"#C8D4E3\"},\"line\":{\"color\":\"white\"}},\"type\":\"table\"}],\"barpolar\":[{\"marker\":{\"line\":{\"color\":\"#E5ECF6\",\"width\":0.5},\"pattern\":{\"fillmode\":\"overlay\",\"size\":10,\"solidity\":0.2}},\"type\":\"barpolar\"}],\"pie\":[{\"automargin\":true,\"type\":\"pie\"}]},\"layout\":{\"autotypenumbers\":\"strict\",\"colorway\":[\"#636efa\",\"#EF553B\",\"#00cc96\",\"#ab63fa\",\"#FFA15A\",\"#19d3f3\",\"#FF6692\",\"#B6E880\",\"#FF97FF\",\"#FECB52\"],\"font\":{\"color\":\"#2a3f5f\"},\"hovermode\":\"closest\",\"hoverlabel\":{\"align\":\"left\"},\"paper_bgcolor\":\"white\",\"plot_bgcolor\":\"#E5ECF6\",\"polar\":{\"bgcolor\":\"#E5ECF6\",\"angularaxis\":{\"gridcolor\":\"white\",\"linecolor\":\"white\",\"ticks\":\"\"},\"radialaxis\":{\"gridcolor\":\"white\",\"linecolor\":\"white\",\"ticks\":\"\"}},\"ternary\":{\"bgcolor\":\"#E5ECF6\",\"aaxis\":{\"gridcolor\":\"white\",\"linecolor\":\"white\",\"ticks\":\"\"},\"baxis\":{\"gridcolor\":\"white\",\"linecolor\":\"white\",\"ticks\":\"\"},\"caxis\":{\"gridcolor\":\"white\",\"linecolor\":\"white\",\"ticks\":\"\"}},\"coloraxis\":{\"colorbar\":{\"outlinewidth\":0,\"ticks\":\"\"}},\"colorscale\":{\"sequential\":[[0.0,\"#0d0887\"],[0.1111111111111111,\"#46039f\"],[0.2222222222222222,\"#7201a8\"],[0.3333333333333333,\"#9c179e\"],[0.4444444444444444,\"#bd3786\"],[0.5555555555555556,\"#d8576b\"],[0.6666666666666666,\"#ed7953\"],[0.7777777777777778,\"#fb9f3a\"],[0.8888888888888888,\"#fdca26\"],[1.0,\"#f0f921\"]],\"sequentialminus\":[[0.0,\"#0d0887\"],[0.1111111111111111,\"#46039f\"],[0.2222222222222222,\"#7201a8\"],[0.3333333333333333,\"#9c179e\"],[0.4444444444444444,\"#bd3786\"],[0.5555555555555556,\"#d8576b\"],[0.6666666666666666,\"#ed7953\"],[0.7777777777777778,\"#fb9f3a\"],[0.8888888888888888,\"#fdca26\"],[1.0,\"#f0f921\"]],\"diverging\":[[0,\"#8e0152\"],[0.1,\"#c51b7d\"],[0.2,\"#de77ae\"],[0.3,\"#f1b6da\"],[0.4,\"#fde0ef\"],[0.5,\"#f7f7f7\"],[0.6,\"#e6f5d0\"],[0.7,\"#b8e186\"],[0.8,\"#7fbc41\"],[0.9,\"#4d9221\"],[1,\"#276419\"]]},\"xaxis\":{\"gridcolor\":\"white\",\"linecolor\":\"white\",\"ticks\":\"\",\"title\":{\"standoff\":15},\"zerolinecolor\":\"white\",\"automargin\":true,\"zerolinewidth\":2},\"yaxis\":{\"gridcolor\":\"white\",\"linecolor\":\"white\",\"ticks\":\"\",\"title\":{\"standoff\":15},\"zerolinecolor\":\"white\",\"automargin\":true,\"zerolinewidth\":2},\"scene\":{\"xaxis\":{\"backgroundcolor\":\"#E5ECF6\",\"gridcolor\":\"white\",\"linecolor\":\"white\",\"showbackground\":true,\"ticks\":\"\",\"zerolinecolor\":\"white\",\"gridwidth\":2},\"yaxis\":{\"backgroundcolor\":\"#E5ECF6\",\"gridcolor\":\"white\",\"linecolor\":\"white\",\"showbackground\":true,\"ticks\":\"\",\"zerolinecolor\":\"white\",\"gridwidth\":2},\"zaxis\":{\"backgroundcolor\":\"#E5ECF6\",\"gridcolor\":\"white\",\"linecolor\":\"white\",\"showbackground\":true,\"ticks\":\"\",\"zerolinecolor\":\"white\",\"gridwidth\":2}},\"shapedefaults\":{\"line\":{\"color\":\"#2a3f5f\"}},\"annotationdefaults\":{\"arrowcolor\":\"#2a3f5f\",\"arrowhead\":0,\"arrowwidth\":1},\"geo\":{\"bgcolor\":\"white\",\"landcolor\":\"#E5ECF6\",\"subunitcolor\":\"white\",\"showland\":true,\"showlakes\":true,\"lakecolor\":\"white\"},\"title\":{\"x\":0.05},\"mapbox\":{\"style\":\"light\"}}},\"xaxis\":{\"anchor\":\"y\",\"domain\":[0.0,1.0],\"title\":{\"text\":\"x\"}},\"yaxis\":{\"anchor\":\"x\",\"domain\":[0.0,1.0],\"title\":{\"text\":\"y\"}},\"legend\":{\"title\":{\"text\":\"color, symbol\"},\"tracegroupgap\":0,\"itemsizing\":\"constant\"},\"title\":{\"text\":\"t-SNE plot of subj dataset with eda augmentation method, total distance: 7.2140\"},\"showlegend\":false},                        {\"responsive\": true}                    ).then(function(){\n",
       "                            \n",
       "var gd = document.getElementById('5282233f-627d-4774-972c-0cd1450255a4');\n",
       "var x = new MutationObserver(function (mutations, observer) {{\n",
       "        var display = window.getComputedStyle(gd).display;\n",
       "        if (!display || display === 'none') {{\n",
       "            console.log([gd, 'removed!']);\n",
       "            Plotly.purge(gd);\n",
       "            observer.disconnect();\n",
       "        }}\n",
       "}});\n",
       "\n",
       "// Listen for the removal of the full notebook cells\n",
       "var notebookContainer = gd.closest('#notebook-container');\n",
       "if (notebookContainer) {{\n",
       "    x.observe(notebookContainer, {childList: true});\n",
       "}}\n",
       "\n",
       "// Listen for the clearing of the current output cell\n",
       "var outputEl = gd.closest('.output');\n",
       "if (outputEl) {{\n",
       "    x.observe(outputEl, {childList: true});\n",
       "}}\n",
       "\n",
       "                        })                };                });            </script>        </div>"
      ]
     },
     "metadata": {},
     "output_type": "display_data"
    }
   ],
   "source": [
    "plotly_tsne(df_t, 'subj','eda')"
   ]
  },
  {
   "cell_type": "code",
   "execution_count": 34,
   "metadata": {},
   "outputs": [],
   "source": [
    "pred = one_hot_to_categorical(layer_output)"
   ]
  },
  {
   "cell_type": "code",
   "execution_count": 35,
   "metadata": {},
   "outputs": [
    {
     "data": {
      "text/plain": [
       "array([ 9, 11,  9,  9,  9,  9,  9,  9,  9, 15,  9, 11, 11,  9, 11,  9, 11,\n",
       "       11, 11,  9, 11,  9, 15,  9,  9,  9,  9,  9, 11, 11, 11, 11, 11, 11,\n",
       "        9,  9, 11, 11,  9,  9, 11, 11,  9,  9,  9, 11, 11, 11,  9,  9,  9,\n",
       "        9, 11, 15,  9, 11, 11,  9, 11, 11])"
      ]
     },
     "execution_count": 35,
     "metadata": {},
     "output_type": "execute_result"
    }
   ],
   "source": [
    "pred"
   ]
  },
  {
   "cell_type": "code",
   "execution_count": 37,
   "metadata": {},
   "outputs": [
    {
     "data": {
      "text/plain": [
       "(60, 20)"
      ]
     },
     "execution_count": 37,
     "metadata": {},
     "output_type": "execute_result"
    }
   ],
   "source": [
    "layer_output.shape"
   ]
  },
  {
   "cell_type": "code",
   "execution_count": 113,
   "metadata": {},
   "outputs": [
    {
     "data": {
      "text/plain": [
       "0.7"
      ]
     },
     "execution_count": 113,
     "metadata": {},
     "output_type": "execute_result"
    }
   ],
   "source": [
    "accuracy_score(df_t['ground_truth'],df_t['predicted_label'])"
   ]
  },
  {
   "cell_type": "code",
   "execution_count": 116,
   "metadata": {},
   "outputs": [],
   "source": [
    "df_t['standardized_x'] = df_t['x'].apply(lambda x: (x - df_t['x'].mean()) / df_t['x'].std())\n",
    "df_t['standardized_y'] = df_t['y'].apply(lambda x: (x - df_t['y'].mean()) / df_t['y'].std())"
   ]
  },
  {
   "cell_type": "code",
   "execution_count": 117,
   "metadata": {},
   "outputs": [
    {
     "data": {
      "text/html": [
       "<div>\n",
       "<style scoped>\n",
       "    .dataframe tbody tr th:only-of-type {\n",
       "        vertical-align: middle;\n",
       "    }\n",
       "\n",
       "    .dataframe tbody tr th {\n",
       "        vertical-align: top;\n",
       "    }\n",
       "\n",
       "    .dataframe thead th {\n",
       "        text-align: right;\n",
       "    }\n",
       "</style>\n",
       "<table border=\"1\" class=\"dataframe\">\n",
       "  <thead>\n",
       "    <tr style=\"text-align: right;\">\n",
       "      <th></th>\n",
       "      <th>x</th>\n",
       "      <th>y</th>\n",
       "      <th>ground_truth</th>\n",
       "      <th>predicted_label</th>\n",
       "      <th>distance</th>\n",
       "      <th>normailized_distance</th>\n",
       "      <th>text</th>\n",
       "      <th>label</th>\n",
       "      <th>color</th>\n",
       "      <th>size</th>\n",
       "      <th>symbol</th>\n",
       "      <th>standardized_distance</th>\n",
       "      <th>standardized_x</th>\n",
       "      <th>standardized_y</th>\n",
       "    </tr>\n",
       "  </thead>\n",
       "  <tbody>\n",
       "    <tr>\n",
       "      <th>0</th>\n",
       "      <td>7.599387</td>\n",
       "      <td>-8.286252</td>\n",
       "      <td>0</td>\n",
       "      <td>1</td>\n",
       "      <td>1.047088</td>\n",
       "      <td>0.406031</td>\n",
       "      <td>No USB and no optical zoom, not great in low l...</td>\n",
       "      <td>Con (original)</td>\n",
       "      <td>red</td>\n",
       "      <td>100</td>\n",
       "      <td>^</td>\n",
       "      <td>0.610531</td>\n",
       "      <td>1.046947</td>\n",
       "      <td>-1.035637</td>\n",
       "    </tr>\n",
       "    <tr>\n",
       "      <th>1</th>\n",
       "      <td>8.402977</td>\n",
       "      <td>-8.957546</td>\n",
       "      <td>0</td>\n",
       "      <td>0</td>\n",
       "      <td>1.047088</td>\n",
       "      <td>0.406031</td>\n",
       "      <td>No USB and no optic zoom, not swell in low light</td>\n",
       "      <td>Con (augmented)</td>\n",
       "      <td>red</td>\n",
       "      <td>10</td>\n",
       "      <td>^</td>\n",
       "      <td>0.610531</td>\n",
       "      <td>1.501070</td>\n",
       "      <td>-1.448502</td>\n",
       "    </tr>\n",
       "    <tr>\n",
       "      <th>2</th>\n",
       "      <td>3.442508</td>\n",
       "      <td>-4.302541</td>\n",
       "      <td>1</td>\n",
       "      <td>1</td>\n",
       "      <td>0.313798</td>\n",
       "      <td>0.119471</td>\n",
       "      <td>Buy it! Great first digital camera, Comes with...</td>\n",
       "      <td>Pro (original)</td>\n",
       "      <td>blue</td>\n",
       "      <td>100</td>\n",
       "      <td>o</td>\n",
       "      <td>-0.481574</td>\n",
       "      <td>-1.302179</td>\n",
       "      <td>1.414464</td>\n",
       "    </tr>\n",
       "    <tr>\n",
       "      <th>3</th>\n",
       "      <td>3.751723</td>\n",
       "      <td>-4.355977</td>\n",
       "      <td>1</td>\n",
       "      <td>1</td>\n",
       "      <td>0.313798</td>\n",
       "      <td>0.119471</td>\n",
       "      <td>Buy it! charger first digital great, Comes wit...</td>\n",
       "      <td>Pro (augmented)</td>\n",
       "      <td>blue</td>\n",
       "      <td>10</td>\n",
       "      <td>o</td>\n",
       "      <td>-0.481574</td>\n",
       "      <td>-1.127436</td>\n",
       "      <td>1.381600</td>\n",
       "    </tr>\n",
       "    <tr>\n",
       "      <th>4</th>\n",
       "      <td>6.661739</td>\n",
       "      <td>-7.427606</td>\n",
       "      <td>0</td>\n",
       "      <td>1</td>\n",
       "      <td>1.662913</td>\n",
       "      <td>0.646688</td>\n",
       "      <td>Port cover, antenna when extended, takes a bit...</td>\n",
       "      <td>Con (original)</td>\n",
       "      <td>red</td>\n",
       "      <td>100</td>\n",
       "      <td>^</td>\n",
       "      <td>1.527694</td>\n",
       "      <td>0.517065</td>\n",
       "      <td>-0.507543</td>\n",
       "    </tr>\n",
       "    <tr>\n",
       "      <th>5</th>\n",
       "      <td>7.748543</td>\n",
       "      <td>-8.686231</td>\n",
       "      <td>0</td>\n",
       "      <td>0</td>\n",
       "      <td>1.662913</td>\n",
       "      <td>0.646688</td>\n",
       "      <td>Port cover, antenna extended, takes a bit to f...</td>\n",
       "      <td>Con (augmented)</td>\n",
       "      <td>red</td>\n",
       "      <td>10</td>\n",
       "      <td>^</td>\n",
       "      <td>1.527694</td>\n",
       "      <td>1.131238</td>\n",
       "      <td>-1.281635</td>\n",
       "    </tr>\n",
       "    <tr>\n",
       "      <th>6</th>\n",
       "      <td>3.365581</td>\n",
       "      <td>-4.317281</td>\n",
       "      <td>1</td>\n",
       "      <td>1</td>\n",
       "      <td>0.300296</td>\n",
       "      <td>0.114194</td>\n",
       "      <td>Easy to use, great battery life, variety of ri...</td>\n",
       "      <td>Pro (original)</td>\n",
       "      <td>blue</td>\n",
       "      <td>100</td>\n",
       "      <td>o</td>\n",
       "      <td>-0.501684</td>\n",
       "      <td>-1.345652</td>\n",
       "      <td>1.405399</td>\n",
       "    </tr>\n",
       "    <tr>\n",
       "      <th>7</th>\n",
       "      <td>3.214299</td>\n",
       "      <td>-4.576686</td>\n",
       "      <td>1</td>\n",
       "      <td>1</td>\n",
       "      <td>0.300296</td>\n",
       "      <td>0.114194</td>\n",
       "      <td>Easy to use, great battery life, of ringtones ...</td>\n",
       "      <td>Pro (augmented)</td>\n",
       "      <td>blue</td>\n",
       "      <td>10</td>\n",
       "      <td>o</td>\n",
       "      <td>-0.501684</td>\n",
       "      <td>-1.431144</td>\n",
       "      <td>1.245857</td>\n",
       "    </tr>\n",
       "    <tr>\n",
       "      <th>8</th>\n",
       "      <td>6.662807</td>\n",
       "      <td>-7.439452</td>\n",
       "      <td>0</td>\n",
       "      <td>1</td>\n",
       "      <td>0.670384</td>\n",
       "      <td>0.258820</td>\n",
       "      <td>Sometimes more than one sheet of paper is pull...</td>\n",
       "      <td>Con (original)</td>\n",
       "      <td>red</td>\n",
       "      <td>100</td>\n",
       "      <td>^</td>\n",
       "      <td>0.049497</td>\n",
       "      <td>0.517669</td>\n",
       "      <td>-0.514829</td>\n",
       "    </tr>\n",
       "    <tr>\n",
       "      <th>9</th>\n",
       "      <td>6.176991</td>\n",
       "      <td>-6.977502</td>\n",
       "      <td>0</td>\n",
       "      <td>1</td>\n",
       "      <td>0.670384</td>\n",
       "      <td>0.258820</td>\n",
       "      <td>Sometimes through than one sheet of paper is p...</td>\n",
       "      <td>Con (augmented)</td>\n",
       "      <td>red</td>\n",
       "      <td>10</td>\n",
       "      <td>^</td>\n",
       "      <td>0.049497</td>\n",
       "      <td>0.243126</td>\n",
       "      <td>-0.230717</td>\n",
       "    </tr>\n",
       "    <tr>\n",
       "      <th>10</th>\n",
       "      <td>3.409149</td>\n",
       "      <td>-4.881988</td>\n",
       "      <td>1</td>\n",
       "      <td>1</td>\n",
       "      <td>0.607616</td>\n",
       "      <td>0.234291</td>\n",
       "      <td>fabulous picture quality, very quick operation</td>\n",
       "      <td>Pro (original)</td>\n",
       "      <td>blue</td>\n",
       "      <td>100</td>\n",
       "      <td>o</td>\n",
       "      <td>-0.043985</td>\n",
       "      <td>-1.321031</td>\n",
       "      <td>1.058087</td>\n",
       "    </tr>\n",
       "    <tr>\n",
       "      <th>11</th>\n",
       "      <td>3.677444</td>\n",
       "      <td>-4.336814</td>\n",
       "      <td>1</td>\n",
       "      <td>1</td>\n",
       "      <td>0.607616</td>\n",
       "      <td>0.234291</td>\n",
       "      <td>fabulous picture quality, very nimble operation</td>\n",
       "      <td>Pro (augmented)</td>\n",
       "      <td>blue</td>\n",
       "      <td>10</td>\n",
       "      <td>o</td>\n",
       "      <td>-0.043985</td>\n",
       "      <td>-1.169413</td>\n",
       "      <td>1.393385</td>\n",
       "    </tr>\n",
       "    <tr>\n",
       "      <th>12</th>\n",
       "      <td>3.246112</td>\n",
       "      <td>-4.730634</td>\n",
       "      <td>1</td>\n",
       "      <td>1</td>\n",
       "      <td>0.173019</td>\n",
       "      <td>0.064456</td>\n",
       "      <td>Great picture photos</td>\n",
       "      <td>Pro (original)</td>\n",
       "      <td>blue</td>\n",
       "      <td>100</td>\n",
       "      <td>o</td>\n",
       "      <td>-0.691240</td>\n",
       "      <td>-1.413166</td>\n",
       "      <td>1.151174</td>\n",
       "    </tr>\n",
       "    <tr>\n",
       "      <th>13</th>\n",
       "      <td>3.192503</td>\n",
       "      <td>-4.566130</td>\n",
       "      <td>1</td>\n",
       "      <td>1</td>\n",
       "      <td>0.173019</td>\n",
       "      <td>0.064456</td>\n",
       "      <td>neat Great picture photos</td>\n",
       "      <td>Pro (augmented)</td>\n",
       "      <td>blue</td>\n",
       "      <td>10</td>\n",
       "      <td>o</td>\n",
       "      <td>-0.691240</td>\n",
       "      <td>-1.443461</td>\n",
       "      <td>1.252349</td>\n",
       "    </tr>\n",
       "    <tr>\n",
       "      <th>14</th>\n",
       "      <td>3.745805</td>\n",
       "      <td>-4.370007</td>\n",
       "      <td>1</td>\n",
       "      <td>1</td>\n",
       "      <td>0.642856</td>\n",
       "      <td>0.248062</td>\n",
       "      <td>Quality LCD Screen, no shutter lag, excellent ...</td>\n",
       "      <td>Pro (original)</td>\n",
       "      <td>blue</td>\n",
       "      <td>100</td>\n",
       "      <td>o</td>\n",
       "      <td>0.008499</td>\n",
       "      <td>-1.130780</td>\n",
       "      <td>1.372971</td>\n",
       "    </tr>\n",
       "    <tr>\n",
       "      <th>15</th>\n",
       "      <td>3.878075</td>\n",
       "      <td>-4.999108</td>\n",
       "      <td>1</td>\n",
       "      <td>1</td>\n",
       "      <td>0.642856</td>\n",
       "      <td>0.248062</td>\n",
       "      <td>Quality LCD cover, no shutter lag, fantabulous...</td>\n",
       "      <td>Pro (augmented)</td>\n",
       "      <td>blue</td>\n",
       "      <td>10</td>\n",
       "      <td>o</td>\n",
       "      <td>0.008499</td>\n",
       "      <td>-1.056032</td>\n",
       "      <td>0.986055</td>\n",
       "    </tr>\n",
       "    <tr>\n",
       "      <th>16</th>\n",
       "      <td>3.399287</td>\n",
       "      <td>-4.329793</td>\n",
       "      <td>1</td>\n",
       "      <td>1</td>\n",
       "      <td>0.412472</td>\n",
       "      <td>0.158031</td>\n",
       "      <td>A solidly built  great little printer.</td>\n",
       "      <td>Pro (original)</td>\n",
       "      <td>blue</td>\n",
       "      <td>100</td>\n",
       "      <td>o</td>\n",
       "      <td>-0.334617</td>\n",
       "      <td>-1.326604</td>\n",
       "      <td>1.397703</td>\n",
       "    </tr>\n",
       "    <tr>\n",
       "      <th>17</th>\n",
       "      <td>3.254152</td>\n",
       "      <td>-4.715889</td>\n",
       "      <td>1</td>\n",
       "      <td>1</td>\n",
       "      <td>0.412472</td>\n",
       "      <td>0.158031</td>\n",
       "      <td>A printer built  great little solidly.</td>\n",
       "      <td>Pro (augmented)</td>\n",
       "      <td>blue</td>\n",
       "      <td>10</td>\n",
       "      <td>o</td>\n",
       "      <td>-0.334617</td>\n",
       "      <td>-1.408622</td>\n",
       "      <td>1.160243</td>\n",
       "    </tr>\n",
       "    <tr>\n",
       "      <th>18</th>\n",
       "      <td>4.963098</td>\n",
       "      <td>-5.874252</td>\n",
       "      <td>0</td>\n",
       "      <td>1</td>\n",
       "      <td>0.008080</td>\n",
       "      <td>0.000000</td>\n",
       "      <td>Ink smears and ink blots</td>\n",
       "      <td>Con (original)</td>\n",
       "      <td>red</td>\n",
       "      <td>100</td>\n",
       "      <td>^</td>\n",
       "      <td>-0.936888</td>\n",
       "      <td>-0.442867</td>\n",
       "      <td>0.447815</td>\n",
       "    </tr>\n",
       "    <tr>\n",
       "      <th>19</th>\n",
       "      <td>4.970551</td>\n",
       "      <td>-5.877371</td>\n",
       "      <td>0</td>\n",
       "      <td>1</td>\n",
       "      <td>0.008080</td>\n",
       "      <td>0.000000</td>\n",
       "      <td>blots smears and ink Ink</td>\n",
       "      <td>Con (augmented)</td>\n",
       "      <td>red</td>\n",
       "      <td>10</td>\n",
       "      <td>^</td>\n",
       "      <td>-0.936888</td>\n",
       "      <td>-0.438655</td>\n",
       "      <td>0.445897</td>\n",
       "    </tr>\n",
       "    <tr>\n",
       "      <th>20</th>\n",
       "      <td>4.083354</td>\n",
       "      <td>-5.060268</td>\n",
       "      <td>0</td>\n",
       "      <td>1</td>\n",
       "      <td>2.567016</td>\n",
       "      <td>1.000000</td>\n",
       "      <td>Flash recharges slowly with NiMH. Small 8MB card.</td>\n",
       "      <td>Con (original)</td>\n",
       "      <td>red</td>\n",
       "      <td>100</td>\n",
       "      <td>^</td>\n",
       "      <td>2.874196</td>\n",
       "      <td>-0.940025</td>\n",
       "      <td>0.948440</td>\n",
       "    </tr>\n",
       "    <tr>\n",
       "      <th>21</th>\n",
       "      <td>5.970194</td>\n",
       "      <td>-6.800786</td>\n",
       "      <td>0</td>\n",
       "      <td>1</td>\n",
       "      <td>2.567016</td>\n",
       "      <td>1.000000</td>\n",
       "      <td>Flash card slowly with NiMH. Small 8MB recharges.</td>\n",
       "      <td>Con (augmented)</td>\n",
       "      <td>red</td>\n",
       "      <td>10</td>\n",
       "      <td>^</td>\n",
       "      <td>2.874196</td>\n",
       "      <td>0.126261</td>\n",
       "      <td>-0.122031</td>\n",
       "    </tr>\n",
       "    <tr>\n",
       "      <th>22</th>\n",
       "      <td>7.419522</td>\n",
       "      <td>-8.204569</td>\n",
       "      <td>0</td>\n",
       "      <td>1</td>\n",
       "      <td>0.390544</td>\n",
       "      <td>0.149462</td>\n",
       "      <td>could do with more pixals</td>\n",
       "      <td>Con (original)</td>\n",
       "      <td>red</td>\n",
       "      <td>100</td>\n",
       "      <td>^</td>\n",
       "      <td>-0.367275</td>\n",
       "      <td>0.945302</td>\n",
       "      <td>-0.985399</td>\n",
       "    </tr>\n",
       "    <tr>\n",
       "      <th>23</th>\n",
       "      <td>7.782250</td>\n",
       "      <td>-8.349319</td>\n",
       "      <td>0</td>\n",
       "      <td>0</td>\n",
       "      <td>0.390544</td>\n",
       "      <td>0.149462</td>\n",
       "      <td>pixals do with more could</td>\n",
       "      <td>Con (augmented)</td>\n",
       "      <td>red</td>\n",
       "      <td>10</td>\n",
       "      <td>^</td>\n",
       "      <td>-0.367275</td>\n",
       "      <td>1.150286</td>\n",
       "      <td>-1.074424</td>\n",
       "    </tr>\n",
       "    <tr>\n",
       "      <th>24</th>\n",
       "      <td>3.867740</td>\n",
       "      <td>-4.976277</td>\n",
       "      <td>1</td>\n",
       "      <td>1</td>\n",
       "      <td>0.233031</td>\n",
       "      <td>0.087908</td>\n",
       "      <td>small, enough features &amp;#13;&amp;#10;</td>\n",
       "      <td>Pro (original)</td>\n",
       "      <td>blue</td>\n",
       "      <td>100</td>\n",
       "      <td>o</td>\n",
       "      <td>-0.601862</td>\n",
       "      <td>-1.061873</td>\n",
       "      <td>1.000097</td>\n",
       "    </tr>\n",
       "    <tr>\n",
       "      <th>25</th>\n",
       "      <td>4.017869</td>\n",
       "      <td>-4.798049</td>\n",
       "      <td>1</td>\n",
       "      <td>1</td>\n",
       "      <td>0.233031</td>\n",
       "      <td>0.087908</td>\n",
       "      <td>small, enough features &amp;#thirteen;&amp;#10;</td>\n",
       "      <td>Pro (augmented)</td>\n",
       "      <td>blue</td>\n",
       "      <td>10</td>\n",
       "      <td>o</td>\n",
       "      <td>-0.601862</td>\n",
       "      <td>-0.977032</td>\n",
       "      <td>1.109712</td>\n",
       "    </tr>\n",
       "    <tr>\n",
       "      <th>26</th>\n",
       "      <td>8.263061</td>\n",
       "      <td>-8.663139</td>\n",
       "      <td>0</td>\n",
       "      <td>0</td>\n",
       "      <td>0.559881</td>\n",
       "      <td>0.215637</td>\n",
       "      <td>No Back-light at night.</td>\n",
       "      <td>Con (original)</td>\n",
       "      <td>red</td>\n",
       "      <td>100</td>\n",
       "      <td>^</td>\n",
       "      <td>-0.115077</td>\n",
       "      <td>1.422001</td>\n",
       "      <td>-1.267433</td>\n",
       "    </tr>\n",
       "    <tr>\n",
       "      <th>27</th>\n",
       "      <td>7.719388</td>\n",
       "      <td>-8.796881</td>\n",
       "      <td>0</td>\n",
       "      <td>0</td>\n",
       "      <td>0.559881</td>\n",
       "      <td>0.215637</td>\n",
       "      <td>No Back-light night at.</td>\n",
       "      <td>Con (augmented)</td>\n",
       "      <td>red</td>\n",
       "      <td>10</td>\n",
       "      <td>^</td>\n",
       "      <td>-0.115077</td>\n",
       "      <td>1.114761</td>\n",
       "      <td>-1.349688</td>\n",
       "    </tr>\n",
       "    <tr>\n",
       "      <th>28</th>\n",
       "      <td>7.268263</td>\n",
       "      <td>-8.018984</td>\n",
       "      <td>0</td>\n",
       "      <td>1</td>\n",
       "      <td>1.115763</td>\n",
       "      <td>0.432869</td>\n",
       "      <td>Functions don't work as well as if individual ...</td>\n",
       "      <td>Con (original)</td>\n",
       "      <td>red</td>\n",
       "      <td>100</td>\n",
       "      <td>^</td>\n",
       "      <td>0.712811</td>\n",
       "      <td>0.859823</td>\n",
       "      <td>-0.871259</td>\n",
       "    </tr>\n",
       "    <tr>\n",
       "      <th>29</th>\n",
       "      <td>8.240211</td>\n",
       "      <td>-8.566929</td>\n",
       "      <td>0</td>\n",
       "      <td>0</td>\n",
       "      <td>1.115763</td>\n",
       "      <td>0.432869</td>\n",
       "      <td>Functions don't work as etc as if individual i...</td>\n",
       "      <td>Con (augmented)</td>\n",
       "      <td>red</td>\n",
       "      <td>10</td>\n",
       "      <td>^</td>\n",
       "      <td>0.712811</td>\n",
       "      <td>1.409088</td>\n",
       "      <td>-1.208261</td>\n",
       "    </tr>\n",
       "    <tr>\n",
       "      <th>30</th>\n",
       "      <td>5.987363</td>\n",
       "      <td>-6.814054</td>\n",
       "      <td>1</td>\n",
       "      <td>1</td>\n",
       "      <td>0.028657</td>\n",
       "      <td>0.008041</td>\n",
       "      <td>speed, clarity</td>\n",
       "      <td>Pro (original)</td>\n",
       "      <td>blue</td>\n",
       "      <td>100</td>\n",
       "      <td>o</td>\n",
       "      <td>-0.906242</td>\n",
       "      <td>0.135964</td>\n",
       "      <td>-0.130191</td>\n",
       "    </tr>\n",
       "    <tr>\n",
       "      <th>31</th>\n",
       "      <td>5.967513</td>\n",
       "      <td>-6.793384</td>\n",
       "      <td>1</td>\n",
       "      <td>1</td>\n",
       "      <td>0.028657</td>\n",
       "      <td>0.008041</td>\n",
       "      <td>speed, velocity clarity</td>\n",
       "      <td>Pro (augmented)</td>\n",
       "      <td>blue</td>\n",
       "      <td>10</td>\n",
       "      <td>o</td>\n",
       "      <td>-0.906242</td>\n",
       "      <td>0.124746</td>\n",
       "      <td>-0.117478</td>\n",
       "    </tr>\n",
       "    <tr>\n",
       "      <th>32</th>\n",
       "      <td>4.015203</td>\n",
       "      <td>-4.650375</td>\n",
       "      <td>1</td>\n",
       "      <td>1</td>\n",
       "      <td>0.483132</td>\n",
       "      <td>0.185644</td>\n",
       "      <td>Great Pictures</td>\n",
       "      <td>Pro (original)</td>\n",
       "      <td>blue</td>\n",
       "      <td>100</td>\n",
       "      <td>o</td>\n",
       "      <td>-0.229382</td>\n",
       "      <td>-0.978539</td>\n",
       "      <td>1.200536</td>\n",
       "    </tr>\n",
       "    <tr>\n",
       "      <th>33</th>\n",
       "      <td>3.711881</td>\n",
       "      <td>-5.026423</td>\n",
       "      <td>1</td>\n",
       "      <td>1</td>\n",
       "      <td>0.483132</td>\n",
       "      <td>0.185644</td>\n",
       "      <td>Pictures Great</td>\n",
       "      <td>Pro (augmented)</td>\n",
       "      <td>blue</td>\n",
       "      <td>10</td>\n",
       "      <td>o</td>\n",
       "      <td>-0.229382</td>\n",
       "      <td>-1.149952</td>\n",
       "      <td>0.969255</td>\n",
       "    </tr>\n",
       "    <tr>\n",
       "      <th>34</th>\n",
       "      <td>3.849795</td>\n",
       "      <td>-4.447145</td>\n",
       "      <td>1</td>\n",
       "      <td>1</td>\n",
       "      <td>0.609755</td>\n",
       "      <td>0.235127</td>\n",
       "      <td>Excellent quality prints., Easy to install.</td>\n",
       "      <td>Pro (original)</td>\n",
       "      <td>blue</td>\n",
       "      <td>100</td>\n",
       "      <td>o</td>\n",
       "      <td>-0.040799</td>\n",
       "      <td>-1.072014</td>\n",
       "      <td>1.325529</td>\n",
       "    </tr>\n",
       "    <tr>\n",
       "      <th>35</th>\n",
       "      <td>3.526097</td>\n",
       "      <td>-4.963886</td>\n",
       "      <td>1</td>\n",
       "      <td>1</td>\n",
       "      <td>0.609755</td>\n",
       "      <td>0.235127</td>\n",
       "      <td>Excellent quality prints., Easy to.</td>\n",
       "      <td>Pro (augmented)</td>\n",
       "      <td>blue</td>\n",
       "      <td>10</td>\n",
       "      <td>o</td>\n",
       "      <td>-0.040799</td>\n",
       "      <td>-1.254941</td>\n",
       "      <td>1.007718</td>\n",
       "    </tr>\n",
       "    <tr>\n",
       "      <th>36</th>\n",
       "      <td>5.583887</td>\n",
       "      <td>-6.436748</td>\n",
       "      <td>1</td>\n",
       "      <td>1</td>\n",
       "      <td>0.019150</td>\n",
       "      <td>0.004326</td>\n",
       "      <td>5 MP, manual features, construction, quality p...</td>\n",
       "      <td>Pro (original)</td>\n",
       "      <td>blue</td>\n",
       "      <td>100</td>\n",
       "      <td>o</td>\n",
       "      <td>-0.920402</td>\n",
       "      <td>-0.092048</td>\n",
       "      <td>0.101864</td>\n",
       "    </tr>\n",
       "    <tr>\n",
       "      <th>37</th>\n",
       "      <td>5.578238</td>\n",
       "      <td>-6.418450</td>\n",
       "      <td>1</td>\n",
       "      <td>1</td>\n",
       "      <td>0.019150</td>\n",
       "      <td>0.004326</td>\n",
       "      <td>5 MP, manual features, charger, quality pictur...</td>\n",
       "      <td>Pro (augmented)</td>\n",
       "      <td>blue</td>\n",
       "      <td>10</td>\n",
       "      <td>o</td>\n",
       "      <td>-0.920402</td>\n",
       "      <td>-0.095240</td>\n",
       "      <td>0.113117</td>\n",
       "    </tr>\n",
       "    <tr>\n",
       "      <th>38</th>\n",
       "      <td>7.227682</td>\n",
       "      <td>-7.993143</td>\n",
       "      <td>0</td>\n",
       "      <td>1</td>\n",
       "      <td>0.489232</td>\n",
       "      <td>0.188028</td>\n",
       "      <td>Brightness varies too much on LCD, video out, ...</td>\n",
       "      <td>Con (original)</td>\n",
       "      <td>red</td>\n",
       "      <td>100</td>\n",
       "      <td>^</td>\n",
       "      <td>-0.220297</td>\n",
       "      <td>0.836890</td>\n",
       "      <td>-0.855366</td>\n",
       "    </tr>\n",
       "    <tr>\n",
       "      <th>39</th>\n",
       "      <td>6.874545</td>\n",
       "      <td>-7.654554</td>\n",
       "      <td>0</td>\n",
       "      <td>1</td>\n",
       "      <td>0.489232</td>\n",
       "      <td>0.188028</td>\n",
       "      <td>Brightness motley too much on LCD, picture out...</td>\n",
       "      <td>Con (augmented)</td>\n",
       "      <td>red</td>\n",
       "      <td>10</td>\n",
       "      <td>^</td>\n",
       "      <td>-0.220297</td>\n",
       "      <td>0.637326</td>\n",
       "      <td>-0.647124</td>\n",
       "    </tr>\n",
       "    <tr>\n",
       "      <th>40</th>\n",
       "      <td>4.903978</td>\n",
       "      <td>-5.782684</td>\n",
       "      <td>1</td>\n",
       "      <td>1</td>\n",
       "      <td>0.534183</td>\n",
       "      <td>0.205595</td>\n",
       "      <td>It's cheap</td>\n",
       "      <td>Pro (original)</td>\n",
       "      <td>blue</td>\n",
       "      <td>100</td>\n",
       "      <td>o</td>\n",
       "      <td>-0.153350</td>\n",
       "      <td>-0.476276</td>\n",
       "      <td>0.504132</td>\n",
       "    </tr>\n",
       "    <tr>\n",
       "      <th>41</th>\n",
       "      <td>4.512587</td>\n",
       "      <td>-5.419139</td>\n",
       "      <td>1</td>\n",
       "      <td>1</td>\n",
       "      <td>0.534183</td>\n",
       "      <td>0.205595</td>\n",
       "      <td>It's</td>\n",
       "      <td>Pro (augmented)</td>\n",
       "      <td>blue</td>\n",
       "      <td>10</td>\n",
       "      <td>o</td>\n",
       "      <td>-0.153350</td>\n",
       "      <td>-0.697458</td>\n",
       "      <td>0.727723</td>\n",
       "    </tr>\n",
       "    <tr>\n",
       "      <th>42</th>\n",
       "      <td>6.750714</td>\n",
       "      <td>-7.536026</td>\n",
       "      <td>1</td>\n",
       "      <td>1</td>\n",
       "      <td>1.670401</td>\n",
       "      <td>0.649614</td>\n",
       "      <td>egronomic shape, inexpensive, loud ringer, sev...</td>\n",
       "      <td>Pro (original)</td>\n",
       "      <td>blue</td>\n",
       "      <td>100</td>\n",
       "      <td>o</td>\n",
       "      <td>1.538846</td>\n",
       "      <td>0.567347</td>\n",
       "      <td>-0.574225</td>\n",
       "    </tr>\n",
       "    <tr>\n",
       "      <th>43</th>\n",
       "      <td>7.806844</td>\n",
       "      <td>-8.830178</td>\n",
       "      <td>1</td>\n",
       "      <td>0</td>\n",
       "      <td>1.670401</td>\n",
       "      <td>0.649614</td>\n",
       "      <td>egronomic shape,, loud ringer, several accesso...</td>\n",
       "      <td>Pro (augmented)</td>\n",
       "      <td>blue</td>\n",
       "      <td>10</td>\n",
       "      <td>o</td>\n",
       "      <td>1.538846</td>\n",
       "      <td>1.164184</td>\n",
       "      <td>-1.370167</td>\n",
       "    </tr>\n",
       "    <tr>\n",
       "      <th>44</th>\n",
       "      <td>5.188172</td>\n",
       "      <td>-6.083236</td>\n",
       "      <td>0</td>\n",
       "      <td>1</td>\n",
       "      <td>0.074053</td>\n",
       "      <td>0.025782</td>\n",
       "      <td>so new that it's hard to find or get accessori...</td>\n",
       "      <td>Con (original)</td>\n",
       "      <td>red</td>\n",
       "      <td>100</td>\n",
       "      <td>^</td>\n",
       "      <td>-0.838632</td>\n",
       "      <td>-0.315673</td>\n",
       "      <td>0.319284</td>\n",
       "    </tr>\n",
       "    <tr>\n",
       "      <th>45</th>\n",
       "      <td>5.257344</td>\n",
       "      <td>-6.109677</td>\n",
       "      <td>0</td>\n",
       "      <td>1</td>\n",
       "      <td>0.074053</td>\n",
       "      <td>0.025782</td>\n",
       "      <td>so new find it's hard to that or get accessori...</td>\n",
       "      <td>Con (augmented)</td>\n",
       "      <td>red</td>\n",
       "      <td>10</td>\n",
       "      <td>^</td>\n",
       "      <td>-0.838632</td>\n",
       "      <td>-0.276583</td>\n",
       "      <td>0.303022</td>\n",
       "    </tr>\n",
       "    <tr>\n",
       "      <th>46</th>\n",
       "      <td>5.675623</td>\n",
       "      <td>-6.520143</td>\n",
       "      <td>0</td>\n",
       "      <td>1</td>\n",
       "      <td>1.646584</td>\n",
       "      <td>0.640307</td>\n",
       "      <td>sh_t pictures most of the time, viewfinder not...</td>\n",
       "      <td>Con (original)</td>\n",
       "      <td>red</td>\n",
       "      <td>100</td>\n",
       "      <td>^</td>\n",
       "      <td>1.503374</td>\n",
       "      <td>-0.040206</td>\n",
       "      <td>0.050573</td>\n",
       "    </tr>\n",
       "    <tr>\n",
       "      <th>47</th>\n",
       "      <td>4.483790</td>\n",
       "      <td>-5.384022</td>\n",
       "      <td>0</td>\n",
       "      <td>1</td>\n",
       "      <td>1.646584</td>\n",
       "      <td>0.640307</td>\n",
       "      <td>sh_t pictures most finder of the time, viewfin...</td>\n",
       "      <td>Con (augmented)</td>\n",
       "      <td>red</td>\n",
       "      <td>10</td>\n",
       "      <td>^</td>\n",
       "      <td>1.503374</td>\n",
       "      <td>-0.713732</td>\n",
       "      <td>0.749321</td>\n",
       "    </tr>\n",
       "    <tr>\n",
       "      <th>48</th>\n",
       "      <td>7.958941</td>\n",
       "      <td>-8.897877</td>\n",
       "      <td>0</td>\n",
       "      <td>0</td>\n",
       "      <td>0.301808</td>\n",
       "      <td>0.114785</td>\n",
       "      <td>Does not fold very compact.</td>\n",
       "      <td>Con (original)</td>\n",
       "      <td>red</td>\n",
       "      <td>100</td>\n",
       "      <td>^</td>\n",
       "      <td>-0.499432</td>\n",
       "      <td>1.250137</td>\n",
       "      <td>-1.411804</td>\n",
       "    </tr>\n",
       "    <tr>\n",
       "      <th>49</th>\n",
       "      <td>8.260741</td>\n",
       "      <td>-8.900057</td>\n",
       "      <td>0</td>\n",
       "      <td>0</td>\n",
       "      <td>0.301808</td>\n",
       "      <td>0.114785</td>\n",
       "      <td>Does not fold compact.</td>\n",
       "      <td>Con (augmented)</td>\n",
       "      <td>red</td>\n",
       "      <td>10</td>\n",
       "      <td>^</td>\n",
       "      <td>-0.499432</td>\n",
       "      <td>1.420690</td>\n",
       "      <td>-1.413145</td>\n",
       "    </tr>\n",
       "    <tr>\n",
       "      <th>50</th>\n",
       "      <td>6.633027</td>\n",
       "      <td>-7.390052</td>\n",
       "      <td>1</td>\n",
       "      <td>1</td>\n",
       "      <td>0.010571</td>\n",
       "      <td>0.000974</td>\n",
       "      <td>instant photos, ease of carrying, no downloading</td>\n",
       "      <td>Pro (original)</td>\n",
       "      <td>blue</td>\n",
       "      <td>100</td>\n",
       "      <td>o</td>\n",
       "      <td>-0.933177</td>\n",
       "      <td>0.500840</td>\n",
       "      <td>-0.484447</td>\n",
       "    </tr>\n",
       "    <tr>\n",
       "      <th>51</th>\n",
       "      <td>6.623045</td>\n",
       "      <td>-7.393534</td>\n",
       "      <td>1</td>\n",
       "      <td>1</td>\n",
       "      <td>0.010571</td>\n",
       "      <td>0.000974</td>\n",
       "      <td>instant carrying, ease of photos, no downloading</td>\n",
       "      <td>Pro (augmented)</td>\n",
       "      <td>blue</td>\n",
       "      <td>10</td>\n",
       "      <td>o</td>\n",
       "      <td>-0.933177</td>\n",
       "      <td>0.495199</td>\n",
       "      <td>-0.486588</td>\n",
       "    </tr>\n",
       "    <tr>\n",
       "      <th>52</th>\n",
       "      <td>7.840787</td>\n",
       "      <td>-8.350710</td>\n",
       "      <td>0</td>\n",
       "      <td>0</td>\n",
       "      <td>0.316954</td>\n",
       "      <td>0.120704</td>\n",
       "      <td>Battery life is terrible</td>\n",
       "      <td>Con (original)</td>\n",
       "      <td>red</td>\n",
       "      <td>100</td>\n",
       "      <td>^</td>\n",
       "      <td>-0.476874</td>\n",
       "      <td>1.183366</td>\n",
       "      <td>-1.075280</td>\n",
       "    </tr>\n",
       "    <tr>\n",
       "      <th>53</th>\n",
       "      <td>8.131712</td>\n",
       "      <td>-8.476498</td>\n",
       "      <td>0</td>\n",
       "      <td>0</td>\n",
       "      <td>0.316954</td>\n",
       "      <td>0.120704</td>\n",
       "      <td>is life Battery terrible</td>\n",
       "      <td>Con (augmented)</td>\n",
       "      <td>red</td>\n",
       "      <td>10</td>\n",
       "      <td>^</td>\n",
       "      <td>-0.476874</td>\n",
       "      <td>1.347773</td>\n",
       "      <td>-1.152643</td>\n",
       "    </tr>\n",
       "    <tr>\n",
       "      <th>54</th>\n",
       "      <td>7.551120</td>\n",
       "      <td>-8.557497</td>\n",
       "      <td>0</td>\n",
       "      <td>0</td>\n",
       "      <td>2.193440</td>\n",
       "      <td>0.854011</td>\n",
       "      <td>A little noisy.</td>\n",
       "      <td>Con (original)</td>\n",
       "      <td>red</td>\n",
       "      <td>100</td>\n",
       "      <td>^</td>\n",
       "      <td>2.317821</td>\n",
       "      <td>1.019671</td>\n",
       "      <td>-1.202460</td>\n",
       "    </tr>\n",
       "    <tr>\n",
       "      <th>55</th>\n",
       "      <td>6.101932</td>\n",
       "      <td>-6.910975</td>\n",
       "      <td>0</td>\n",
       "      <td>1</td>\n",
       "      <td>2.193440</td>\n",
       "      <td>0.854011</td>\n",
       "      <td>A noisy.</td>\n",
       "      <td>Con (augmented)</td>\n",
       "      <td>red</td>\n",
       "      <td>10</td>\n",
       "      <td>^</td>\n",
       "      <td>2.317821</td>\n",
       "      <td>0.200708</td>\n",
       "      <td>-0.189800</td>\n",
       "    </tr>\n",
       "    <tr>\n",
       "      <th>56</th>\n",
       "      <td>8.288324</td>\n",
       "      <td>-8.887631</td>\n",
       "      <td>0</td>\n",
       "      <td>0</td>\n",
       "      <td>0.014330</td>\n",
       "      <td>0.002443</td>\n",
       "      <td>Software / driver problems</td>\n",
       "      <td>Con (original)</td>\n",
       "      <td>red</td>\n",
       "      <td>100</td>\n",
       "      <td>^</td>\n",
       "      <td>-0.927579</td>\n",
       "      <td>1.436278</td>\n",
       "      <td>-1.405503</td>\n",
       "    </tr>\n",
       "    <tr>\n",
       "      <th>57</th>\n",
       "      <td>8.302406</td>\n",
       "      <td>-8.884974</td>\n",
       "      <td>0</td>\n",
       "      <td>0</td>\n",
       "      <td>0.014330</td>\n",
       "      <td>0.002443</td>\n",
       "      <td>Software / problems driver</td>\n",
       "      <td>Con (augmented)</td>\n",
       "      <td>red</td>\n",
       "      <td>10</td>\n",
       "      <td>^</td>\n",
       "      <td>-0.927579</td>\n",
       "      <td>1.444236</td>\n",
       "      <td>-1.403869</td>\n",
       "    </tr>\n",
       "    <tr>\n",
       "      <th>58</th>\n",
       "      <td>6.404757</td>\n",
       "      <td>-7.200038</td>\n",
       "      <td>1</td>\n",
       "      <td>1</td>\n",
       "      <td>0.017472</td>\n",
       "      <td>0.003670</td>\n",
       "      <td>...small</td>\n",
       "      <td>Pro (original)</td>\n",
       "      <td>blue</td>\n",
       "      <td>100</td>\n",
       "      <td>o</td>\n",
       "      <td>-0.922900</td>\n",
       "      <td>0.371840</td>\n",
       "      <td>-0.367583</td>\n",
       "    </tr>\n",
       "    <tr>\n",
       "      <th>59</th>\n",
       "      <td>6.413501</td>\n",
       "      <td>-7.184912</td>\n",
       "      <td>1</td>\n",
       "      <td>1</td>\n",
       "      <td>0.017472</td>\n",
       "      <td>0.003670</td>\n",
       "      <td>...small</td>\n",
       "      <td>Pro (augmented)</td>\n",
       "      <td>blue</td>\n",
       "      <td>10</td>\n",
       "      <td>o</td>\n",
       "      <td>-0.922900</td>\n",
       "      <td>0.376782</td>\n",
       "      <td>-0.358279</td>\n",
       "    </tr>\n",
       "  </tbody>\n",
       "</table>\n",
       "</div>"
      ],
      "text/plain": [
       "           x         y  ground_truth  predicted_label  distance  \\\n",
       "0   7.599387 -8.286252             0                1  1.047088   \n",
       "1   8.402977 -8.957546             0                0  1.047088   \n",
       "2   3.442508 -4.302541             1                1  0.313798   \n",
       "3   3.751723 -4.355977             1                1  0.313798   \n",
       "4   6.661739 -7.427606             0                1  1.662913   \n",
       "5   7.748543 -8.686231             0                0  1.662913   \n",
       "6   3.365581 -4.317281             1                1  0.300296   \n",
       "7   3.214299 -4.576686             1                1  0.300296   \n",
       "8   6.662807 -7.439452             0                1  0.670384   \n",
       "9   6.176991 -6.977502             0                1  0.670384   \n",
       "10  3.409149 -4.881988             1                1  0.607616   \n",
       "11  3.677444 -4.336814             1                1  0.607616   \n",
       "12  3.246112 -4.730634             1                1  0.173019   \n",
       "13  3.192503 -4.566130             1                1  0.173019   \n",
       "14  3.745805 -4.370007             1                1  0.642856   \n",
       "15  3.878075 -4.999108             1                1  0.642856   \n",
       "16  3.399287 -4.329793             1                1  0.412472   \n",
       "17  3.254152 -4.715889             1                1  0.412472   \n",
       "18  4.963098 -5.874252             0                1  0.008080   \n",
       "19  4.970551 -5.877371             0                1  0.008080   \n",
       "20  4.083354 -5.060268             0                1  2.567016   \n",
       "21  5.970194 -6.800786             0                1  2.567016   \n",
       "22  7.419522 -8.204569             0                1  0.390544   \n",
       "23  7.782250 -8.349319             0                0  0.390544   \n",
       "24  3.867740 -4.976277             1                1  0.233031   \n",
       "25  4.017869 -4.798049             1                1  0.233031   \n",
       "26  8.263061 -8.663139             0                0  0.559881   \n",
       "27  7.719388 -8.796881             0                0  0.559881   \n",
       "28  7.268263 -8.018984             0                1  1.115763   \n",
       "29  8.240211 -8.566929             0                0  1.115763   \n",
       "30  5.987363 -6.814054             1                1  0.028657   \n",
       "31  5.967513 -6.793384             1                1  0.028657   \n",
       "32  4.015203 -4.650375             1                1  0.483132   \n",
       "33  3.711881 -5.026423             1                1  0.483132   \n",
       "34  3.849795 -4.447145             1                1  0.609755   \n",
       "35  3.526097 -4.963886             1                1  0.609755   \n",
       "36  5.583887 -6.436748             1                1  0.019150   \n",
       "37  5.578238 -6.418450             1                1  0.019150   \n",
       "38  7.227682 -7.993143             0                1  0.489232   \n",
       "39  6.874545 -7.654554             0                1  0.489232   \n",
       "40  4.903978 -5.782684             1                1  0.534183   \n",
       "41  4.512587 -5.419139             1                1  0.534183   \n",
       "42  6.750714 -7.536026             1                1  1.670401   \n",
       "43  7.806844 -8.830178             1                0  1.670401   \n",
       "44  5.188172 -6.083236             0                1  0.074053   \n",
       "45  5.257344 -6.109677             0                1  0.074053   \n",
       "46  5.675623 -6.520143             0                1  1.646584   \n",
       "47  4.483790 -5.384022             0                1  1.646584   \n",
       "48  7.958941 -8.897877             0                0  0.301808   \n",
       "49  8.260741 -8.900057             0                0  0.301808   \n",
       "50  6.633027 -7.390052             1                1  0.010571   \n",
       "51  6.623045 -7.393534             1                1  0.010571   \n",
       "52  7.840787 -8.350710             0                0  0.316954   \n",
       "53  8.131712 -8.476498             0                0  0.316954   \n",
       "54  7.551120 -8.557497             0                0  2.193440   \n",
       "55  6.101932 -6.910975             0                1  2.193440   \n",
       "56  8.288324 -8.887631             0                0  0.014330   \n",
       "57  8.302406 -8.884974             0                0  0.014330   \n",
       "58  6.404757 -7.200038             1                1  0.017472   \n",
       "59  6.413501 -7.184912             1                1  0.017472   \n",
       "\n",
       "    normailized_distance                                               text  \\\n",
       "0               0.406031  No USB and no optical zoom, not great in low l...   \n",
       "1               0.406031   No USB and no optic zoom, not swell in low light   \n",
       "2               0.119471  Buy it! Great first digital camera, Comes with...   \n",
       "3               0.119471  Buy it! charger first digital great, Comes wit...   \n",
       "4               0.646688  Port cover, antenna when extended, takes a bit...   \n",
       "5               0.646688  Port cover, antenna extended, takes a bit to f...   \n",
       "6               0.114194  Easy to use, great battery life, variety of ri...   \n",
       "7               0.114194  Easy to use, great battery life, of ringtones ...   \n",
       "8               0.258820  Sometimes more than one sheet of paper is pull...   \n",
       "9               0.258820  Sometimes through than one sheet of paper is p...   \n",
       "10              0.234291     fabulous picture quality, very quick operation   \n",
       "11              0.234291    fabulous picture quality, very nimble operation   \n",
       "12              0.064456                               Great picture photos   \n",
       "13              0.064456                          neat Great picture photos   \n",
       "14              0.248062  Quality LCD Screen, no shutter lag, excellent ...   \n",
       "15              0.248062  Quality LCD cover, no shutter lag, fantabulous...   \n",
       "16              0.158031             A solidly built  great little printer.   \n",
       "17              0.158031             A printer built  great little solidly.   \n",
       "18              0.000000                           Ink smears and ink blots   \n",
       "19              0.000000                           blots smears and ink Ink   \n",
       "20              1.000000  Flash recharges slowly with NiMH. Small 8MB card.   \n",
       "21              1.000000  Flash card slowly with NiMH. Small 8MB recharges.   \n",
       "22              0.149462                          could do with more pixals   \n",
       "23              0.149462                          pixals do with more could   \n",
       "24              0.087908                  small, enough features &#13;&#10;   \n",
       "25              0.087908            small, enough features &#thirteen;&#10;   \n",
       "26              0.215637                            No Back-light at night.   \n",
       "27              0.215637                            No Back-light night at.   \n",
       "28              0.432869  Functions don't work as well as if individual ...   \n",
       "29              0.432869  Functions don't work as etc as if individual i...   \n",
       "30              0.008041                                     speed, clarity   \n",
       "31              0.008041                            speed, velocity clarity   \n",
       "32              0.185644                                     Great Pictures   \n",
       "33              0.185644                                     Pictures Great   \n",
       "34              0.235127        Excellent quality prints., Easy to install.   \n",
       "35              0.235127                Excellent quality prints., Easy to.   \n",
       "36              0.004326  5 MP, manual features, construction, quality p...   \n",
       "37              0.004326  5 MP, manual features, charger, quality pictur...   \n",
       "38              0.188028  Brightness varies too much on LCD, video out, ...   \n",
       "39              0.188028  Brightness motley too much on LCD, picture out...   \n",
       "40              0.205595                                         It's cheap   \n",
       "41              0.205595                                              It's    \n",
       "42              0.649614  egronomic shape, inexpensive, loud ringer, sev...   \n",
       "43              0.649614  egronomic shape,, loud ringer, several accesso...   \n",
       "44              0.025782  so new that it's hard to find or get accessori...   \n",
       "45              0.025782  so new find it's hard to that or get accessori...   \n",
       "46              0.640307  sh_t pictures most of the time, viewfinder not...   \n",
       "47              0.640307  sh_t pictures most finder of the time, viewfin...   \n",
       "48              0.114785                        Does not fold very compact.   \n",
       "49              0.114785                             Does not fold compact.   \n",
       "50              0.000974   instant photos, ease of carrying, no downloading   \n",
       "51              0.000974   instant carrying, ease of photos, no downloading   \n",
       "52              0.120704                           Battery life is terrible   \n",
       "53              0.120704                           is life Battery terrible   \n",
       "54              0.854011                                   A little noisy.    \n",
       "55              0.854011                                          A noisy.    \n",
       "56              0.002443                         Software / driver problems   \n",
       "57              0.002443                         Software / problems driver   \n",
       "58              0.003670                                           ...small   \n",
       "59              0.003670                                           ...small   \n",
       "\n",
       "              label color  size symbol  standardized_distance  standardized_x  \\\n",
       "0    Con (original)   red   100      ^               0.610531        1.046947   \n",
       "1   Con (augmented)   red    10      ^               0.610531        1.501070   \n",
       "2    Pro (original)  blue   100      o              -0.481574       -1.302179   \n",
       "3   Pro (augmented)  blue    10      o              -0.481574       -1.127436   \n",
       "4    Con (original)   red   100      ^               1.527694        0.517065   \n",
       "5   Con (augmented)   red    10      ^               1.527694        1.131238   \n",
       "6    Pro (original)  blue   100      o              -0.501684       -1.345652   \n",
       "7   Pro (augmented)  blue    10      o              -0.501684       -1.431144   \n",
       "8    Con (original)   red   100      ^               0.049497        0.517669   \n",
       "9   Con (augmented)   red    10      ^               0.049497        0.243126   \n",
       "10   Pro (original)  blue   100      o              -0.043985       -1.321031   \n",
       "11  Pro (augmented)  blue    10      o              -0.043985       -1.169413   \n",
       "12   Pro (original)  blue   100      o              -0.691240       -1.413166   \n",
       "13  Pro (augmented)  blue    10      o              -0.691240       -1.443461   \n",
       "14   Pro (original)  blue   100      o               0.008499       -1.130780   \n",
       "15  Pro (augmented)  blue    10      o               0.008499       -1.056032   \n",
       "16   Pro (original)  blue   100      o              -0.334617       -1.326604   \n",
       "17  Pro (augmented)  blue    10      o              -0.334617       -1.408622   \n",
       "18   Con (original)   red   100      ^              -0.936888       -0.442867   \n",
       "19  Con (augmented)   red    10      ^              -0.936888       -0.438655   \n",
       "20   Con (original)   red   100      ^               2.874196       -0.940025   \n",
       "21  Con (augmented)   red    10      ^               2.874196        0.126261   \n",
       "22   Con (original)   red   100      ^              -0.367275        0.945302   \n",
       "23  Con (augmented)   red    10      ^              -0.367275        1.150286   \n",
       "24   Pro (original)  blue   100      o              -0.601862       -1.061873   \n",
       "25  Pro (augmented)  blue    10      o              -0.601862       -0.977032   \n",
       "26   Con (original)   red   100      ^              -0.115077        1.422001   \n",
       "27  Con (augmented)   red    10      ^              -0.115077        1.114761   \n",
       "28   Con (original)   red   100      ^               0.712811        0.859823   \n",
       "29  Con (augmented)   red    10      ^               0.712811        1.409088   \n",
       "30   Pro (original)  blue   100      o              -0.906242        0.135964   \n",
       "31  Pro (augmented)  blue    10      o              -0.906242        0.124746   \n",
       "32   Pro (original)  blue   100      o              -0.229382       -0.978539   \n",
       "33  Pro (augmented)  blue    10      o              -0.229382       -1.149952   \n",
       "34   Pro (original)  blue   100      o              -0.040799       -1.072014   \n",
       "35  Pro (augmented)  blue    10      o              -0.040799       -1.254941   \n",
       "36   Pro (original)  blue   100      o              -0.920402       -0.092048   \n",
       "37  Pro (augmented)  blue    10      o              -0.920402       -0.095240   \n",
       "38   Con (original)   red   100      ^              -0.220297        0.836890   \n",
       "39  Con (augmented)   red    10      ^              -0.220297        0.637326   \n",
       "40   Pro (original)  blue   100      o              -0.153350       -0.476276   \n",
       "41  Pro (augmented)  blue    10      o              -0.153350       -0.697458   \n",
       "42   Pro (original)  blue   100      o               1.538846        0.567347   \n",
       "43  Pro (augmented)  blue    10      o               1.538846        1.164184   \n",
       "44   Con (original)   red   100      ^              -0.838632       -0.315673   \n",
       "45  Con (augmented)   red    10      ^              -0.838632       -0.276583   \n",
       "46   Con (original)   red   100      ^               1.503374       -0.040206   \n",
       "47  Con (augmented)   red    10      ^               1.503374       -0.713732   \n",
       "48   Con (original)   red   100      ^              -0.499432        1.250137   \n",
       "49  Con (augmented)   red    10      ^              -0.499432        1.420690   \n",
       "50   Pro (original)  blue   100      o              -0.933177        0.500840   \n",
       "51  Pro (augmented)  blue    10      o              -0.933177        0.495199   \n",
       "52   Con (original)   red   100      ^              -0.476874        1.183366   \n",
       "53  Con (augmented)   red    10      ^              -0.476874        1.347773   \n",
       "54   Con (original)   red   100      ^               2.317821        1.019671   \n",
       "55  Con (augmented)   red    10      ^               2.317821        0.200708   \n",
       "56   Con (original)   red   100      ^              -0.927579        1.436278   \n",
       "57  Con (augmented)   red    10      ^              -0.927579        1.444236   \n",
       "58   Pro (original)  blue   100      o              -0.922900        0.371840   \n",
       "59  Pro (augmented)  blue    10      o              -0.922900        0.376782   \n",
       "\n",
       "    standardized_y  \n",
       "0        -1.035637  \n",
       "1        -1.448502  \n",
       "2         1.414464  \n",
       "3         1.381600  \n",
       "4        -0.507543  \n",
       "5        -1.281635  \n",
       "6         1.405399  \n",
       "7         1.245857  \n",
       "8        -0.514829  \n",
       "9        -0.230717  \n",
       "10        1.058087  \n",
       "11        1.393385  \n",
       "12        1.151174  \n",
       "13        1.252349  \n",
       "14        1.372971  \n",
       "15        0.986055  \n",
       "16        1.397703  \n",
       "17        1.160243  \n",
       "18        0.447815  \n",
       "19        0.445897  \n",
       "20        0.948440  \n",
       "21       -0.122031  \n",
       "22       -0.985399  \n",
       "23       -1.074424  \n",
       "24        1.000097  \n",
       "25        1.109712  \n",
       "26       -1.267433  \n",
       "27       -1.349688  \n",
       "28       -0.871259  \n",
       "29       -1.208261  \n",
       "30       -0.130191  \n",
       "31       -0.117478  \n",
       "32        1.200536  \n",
       "33        0.969255  \n",
       "34        1.325529  \n",
       "35        1.007718  \n",
       "36        0.101864  \n",
       "37        0.113117  \n",
       "38       -0.855366  \n",
       "39       -0.647124  \n",
       "40        0.504132  \n",
       "41        0.727723  \n",
       "42       -0.574225  \n",
       "43       -1.370167  \n",
       "44        0.319284  \n",
       "45        0.303022  \n",
       "46        0.050573  \n",
       "47        0.749321  \n",
       "48       -1.411804  \n",
       "49       -1.413145  \n",
       "50       -0.484447  \n",
       "51       -0.486588  \n",
       "52       -1.075280  \n",
       "53       -1.152643  \n",
       "54       -1.202460  \n",
       "55       -0.189800  \n",
       "56       -1.405503  \n",
       "57       -1.403869  \n",
       "58       -0.367583  \n",
       "59       -0.358279  "
      ]
     },
     "execution_count": 117,
     "metadata": {},
     "output_type": "execute_result"
    }
   ],
   "source": [
    "df_t"
   ]
  },
  {
   "cell_type": "code",
   "execution_count": 120,
   "metadata": {},
   "outputs": [],
   "source": [
    "def plotly_standard_tsne(df, df_name, method):\n",
    "    total_distance = df['normailized_distance'].sum()/2\n",
    "    fig = px.scatter(df, x='standardized_x', y='standardized_y', color='color'\n",
    "                                , size='size'\n",
    "                                , symbol='symbol'\n",
    "                                , title=f't-SNE plot of {df_name} dataset with {method} augmentation method, total distance: {total_distance:.4f}'\n",
    "                                , custom_data=[df['text'],df['label'],df['distance']]\n",
    "                                #,labels={'label':'bbb', 'y':''}                   \n",
    "                                ).update_traces(hovertemplate='Text: %{customdata[0]} <br>' +\n",
    "                                                                            'Label: %{customdata[1]} <br>' +\n",
    "                                                                            'Distance: %{customdata[2]:.5f} <br>' )\n",
    "    fig.update_layout(showlegend=False)\n",
    "    fig.show()"
   ]
  },
  {
   "cell_type": "code",
   "execution_count": 121,
   "metadata": {},
   "outputs": [
    {
     "data": {
      "application/vnd.plotly.v1+json": {
       "config": {
        "plotlyServerURL": "https://plot.ly"
       },
       "data": [
        {
         "customdata": [
          [
           "No USB and no optical zoom, not great in low light",
           "Con (original)",
           1.0470876693725586
          ],
          [
           "No USB and no optic zoom, not swell in low light",
           "Con (augmented)",
           1.0470876693725586
          ],
          [
           "Port cover, antenna when extended, takes a bit to find sweet spot.",
           "Con (original)",
           1.6629133224487305
          ],
          [
           "Port cover, antenna extended, takes a bit to find sweet.",
           "Con (augmented)",
           1.6629133224487305
          ],
          [
           "Sometimes more than one sheet of paper is pulled through at a time",
           "Con (original)",
           0.6703837513923645
          ],
          [
           "Sometimes through than one sheet of paper is pulled more at a time",
           "Con (augmented)",
           0.6703837513923645
          ],
          [
           "Ink smears and ink blots",
           "Con (original)",
           0.00807990599423647
          ],
          [
           "blots smears and ink Ink",
           "Con (augmented)",
           0.00807990599423647
          ],
          [
           "Flash recharges slowly with NiMH. Small 8MB card.",
           "Con (original)",
           2.567016124725342
          ],
          [
           "Flash card slowly with NiMH. Small 8MB recharges.",
           "Con (augmented)",
           2.567016124725342
          ],
          [
           "could do with more pixals",
           "Con (original)",
           0.3905438482761383
          ],
          [
           "pixals do with more could",
           "Con (augmented)",
           0.3905438482761383
          ],
          [
           "No Back-light at night.",
           "Con (original)",
           0.559881329536438
          ],
          [
           "No Back-light night at.",
           "Con (augmented)",
           0.559881329536438
          ],
          [
           "Functions don't work as well as if individual items (separate fax, etc)",
           "Con (original)",
           1.1157633066177368
          ],
          [
           "Functions don't work as etc as if individual items (separate fax, well)",
           "Con (augmented)",
           1.1157633066177368
          ],
          [
           "Brightness varies too much on LCD, video out, and computer",
           "Con (original)",
           0.4892321228981018
          ],
          [
           "Brightness motley too much on LCD, picture out, and computer",
           "Con (augmented)",
           0.4892321228981018
          ],
          [
           "so new that it's hard to find or get accessories for",
           "Con (original)",
           0.07405325025320053
          ],
          [
           "so new find it's hard to that or get accessories for",
           "Con (augmented)",
           0.07405325025320053
          ],
          [
           "sh_t pictures most of the time, viewfinder not accurate",
           "Con (original)",
           1.6465835571289062
          ],
          [
           "sh_t pictures most finder of the time, viewfinder not accurate",
           "Con (augmented)",
           1.6465835571289062
          ],
          [
           "Does not fold very compact.",
           "Con (original)",
           0.30180811882019043
          ],
          [
           "Does not fold compact.",
           "Con (augmented)",
           0.30180811882019043
          ],
          [
           "Battery life is terrible",
           "Con (original)",
           0.3169541358947754
          ],
          [
           "is life Battery terrible",
           "Con (augmented)",
           0.3169541358947754
          ],
          [
           "A little noisy. ",
           "Con (original)",
           2.1934404373168945
          ],
          [
           "A noisy. ",
           "Con (augmented)",
           2.1934404373168945
          ],
          [
           "Software / driver problems",
           "Con (original)",
           0.01433041412383318
          ],
          [
           "Software / problems driver",
           "Con (augmented)",
           0.01433041412383318
          ]
         ],
         "hovertemplate": "Text: %{customdata[0]} <br>Label: %{customdata[1]} <br>Distance: %{customdata[2]:.5f} <br>",
         "legendgroup": "red, ^",
         "marker": {
          "color": "#636efa",
          "size": [
           100,
           10,
           100,
           10,
           100,
           10,
           100,
           10,
           100,
           10,
           100,
           10,
           100,
           10,
           100,
           10,
           100,
           10,
           100,
           10,
           100,
           10,
           100,
           10,
           100,
           10,
           100,
           10,
           100,
           10
          ],
          "sizemode": "area",
          "sizeref": 0.25,
          "symbol": "circle"
         },
         "mode": "markers",
         "name": "red, ^",
         "orientation": "v",
         "showlegend": true,
         "type": "scatter",
         "x": [
          1.0469470429874639,
          1.501069859731897,
          0.5170654113358378,
          1.1312377888388858,
          0.5176687526719547,
          0.24312580933362848,
          -0.4428668225725111,
          -0.4386547509222917,
          -0.9400254729149188,
          0.12626136805963784,
          0.9453019475475684,
          1.150286290718635,
          1.4220006168147916,
          1.1147613696090852,
          0.8598228429233572,
          1.4090881960269206,
          0.8368899438305115,
          0.6373257023274451,
          -0.3156733608631958,
          -0.276583093966169,
          -0.040205869010257474,
          -0.7137320515047088,
          1.2501372608276393,
          1.4206899190663003,
          1.183366318597909,
          1.3477731948567508,
          1.0196705713189744,
          0.20070840734190146,
          1.4362776291730492,
          1.4442355909140945
         ],
         "xaxis": "x",
         "y": [
          -1.0356365144299733,
          -1.4485024326300522,
          -0.5075434296626827,
          -1.2816352799139372,
          -0.514829405764335,
          -0.2307165156587706,
          0.44781537657981285,
          0.44589681050120195,
          0.9484397097135032,
          -0.1220310083623468,
          -0.9853989408441881,
          -1.0744242780431008,
          -1.2674334332427646,
          -1.349688361317432,
          -0.8712586293499406,
          -1.2082611249961783,
          -0.8553655001083996,
          -0.6471236575517915,
          0.31928405988172603,
          0.3030219981842247,
          0.05057336663989853,
          0.7493214670813197,
          -1.4118039176784998,
          -1.4131447437426101,
          -1.0752800371102647,
          -1.1526432375494644,
          -1.20246026332774,
          -0.18980049860136328,
          -1.4055027390228847,
          -1.4038686439158807
         ],
         "yaxis": "y"
        },
        {
         "customdata": [
          [
           "Buy it! Great first digital camera, Comes with docking station, charger, fair price, great quality.",
           "Pro (original)",
           0.3137982487678528
          ],
          [
           "Buy it! charger first digital great, Comes with docking station, Great, fair price, camera quality.",
           "Pro (augmented)",
           0.3137982487678528
          ],
          [
           "Easy to use, great battery life, variety of ringtones and faceplates to buy.",
           "Pro (original)",
           0.3002955913543701
          ],
          [
           "Easy to use, great battery life, of ringtones and faceplates buy.",
           "Pro (augmented)",
           0.3002955913543701
          ],
          [
           "fabulous picture quality, very quick operation",
           "Pro (original)",
           0.6076156497001648
          ],
          [
           "fabulous picture quality, very nimble operation",
           "Pro (augmented)",
           0.6076156497001648
          ],
          [
           "Great picture photos",
           "Pro (original)",
           0.17301923036575317
          ],
          [
           "neat Great picture photos",
           "Pro (augmented)",
           0.17301923036575317
          ],
          [
           "Quality LCD Screen, no shutter lag, excellent pictures, fantastic movies.",
           "Pro (original)",
           0.6428559422492981
          ],
          [
           "Quality LCD cover, no shutter lag, fantabulous pictures, fantastic movies.",
           "Pro (augmented)",
           0.6428559422492981
          ],
          [
           "A solidly built  great little printer.",
           "Pro (original)",
           0.41247236728668213
          ],
          [
           "A printer built  great little solidly.",
           "Pro (augmented)",
           0.41247236728668213
          ],
          [
           "small, enough features &#13;&#10;",
           "Pro (original)",
           0.23303140699863434
          ],
          [
           "small, enough features &#thirteen;&#10;",
           "Pro (augmented)",
           0.23303140699863434
          ],
          [
           "speed, clarity",
           "Pro (original)",
           0.02865728922188282
          ],
          [
           "speed, velocity clarity",
           "Pro (augmented)",
           0.02865728922188282
          ],
          [
           "Great Pictures",
           "Pro (original)",
           0.4831320643424988
          ],
          [
           "Pictures Great",
           "Pro (augmented)",
           0.4831320643424988
          ],
          [
           "Excellent quality prints., Easy to install.",
           "Pro (original)",
           0.6097549796104431
          ],
          [
           "Excellent quality prints., Easy to.",
           "Pro (augmented)",
           0.6097549796104431
          ],
          [
           "5 MP, manual features, construction, quality pictures, software interface, quick charger.",
           "Pro (original)",
           0.0191495418548584
          ],
          [
           "5 MP, manual features, charger, quality pictures, software interface, quick construction.",
           "Pro (augmented)",
           0.0191495418548584
          ],
          [
           "It's cheap",
           "Pro (original)",
           0.5341832041740417
          ],
          [
           "It's ",
           "Pro (augmented)",
           0.5341832041740417
          ],
          [
           "egronomic shape, inexpensive, loud ringer, several accessories included, fm tuner, minibrowser",
           "Pro (original)",
           1.6704013347625732
          ],
          [
           "egronomic shape,, loud ringer, several accessories, fm tuner, minibrowser",
           "Pro (augmented)",
           1.6704013347625732
          ],
          [
           "instant photos, ease of carrying, no downloading",
           "Pro (original)",
           0.010571488179266453
          ],
          [
           "instant carrying, ease of photos, no downloading",
           "Pro (augmented)",
           0.010571488179266453
          ],
          [
           "...small",
           "Pro (original)",
           0.01747182011604309
          ],
          [
           "...small",
           "Pro (augmented)",
           0.01747182011604309
          ]
         ],
         "hovertemplate": "Text: %{customdata[0]} <br>Label: %{customdata[1]} <br>Distance: %{customdata[2]:.5f} <br>",
         "legendgroup": "blue, o",
         "marker": {
          "color": "#EF553B",
          "size": [
           100,
           10,
           100,
           10,
           100,
           10,
           100,
           10,
           100,
           10,
           100,
           10,
           100,
           10,
           100,
           10,
           100,
           10,
           100,
           10,
           100,
           10,
           100,
           10,
           100,
           10,
           100,
           10,
           100,
           10
          ],
          "sizemode": "area",
          "sizeref": 0.25,
          "symbol": "diamond"
         },
         "mode": "markers",
         "name": "blue, o",
         "orientation": "v",
         "showlegend": true,
         "type": "scatter",
         "x": [
          -1.302179156267966,
          -1.1274362533769533,
          -1.3456515298232916,
          -1.431143973168422,
          -1.321030676228688,
          -1.1694126691710227,
          -1.4131656678569566,
          -1.4434610019589056,
          -1.1307804997601052,
          -1.0560324634825569,
          -1.3266039710854256,
          -1.4086221492020818,
          -1.0618725327576755,
          -0.9770324741265867,
          0.1359636033463213,
          0.12474614325705426,
          -0.9785388064485575,
          -1.1499516100846658,
          -1.072014002692805,
          -1.2549412213768227,
          -0.09204768363679822,
          -0.0952403536458699,
          -0.47627641117267433,
          -0.697458273045234,
          0.5673467303494031,
          1.1641844295089694,
          0.5008398678469593,
          0.4951990709782982,
          0.37184015469682635,
          0.3767816792263973
         ],
         "xaxis": "x",
         "y": [
          1.4144641611665891,
          1.3815995524127866,
          1.4053989217817004,
          1.2458570432189855,
          1.0580871394706186,
          1.3933854487086008,
          1.1511742529136095,
          1.2523494332905674,
          1.372970697363724,
          0.9860546904240985,
          1.3977032488271255,
          1.1602433047960559,
          1.000096705466894,
          1.109712168898334,
          -0.1301906329427796,
          -0.11747829974046423,
          1.2005361251373141,
          0.9692553598400159,
          1.325528564294802,
          1.0077175948155312,
          0.10186377608967229,
          0.11311709580359126,
          0.5041321241557426,
          0.7277230818793238,
          -0.5742251850216062,
          -1.3701673385827027,
          -0.4844470261895854,
          -0.48658847674079553,
          -0.3675825385558978,
          -0.3582794579772222
         ],
         "yaxis": "y"
        }
       ],
       "layout": {
        "legend": {
         "itemsizing": "constant",
         "title": {
          "text": "color, symbol"
         },
         "tracegroupgap": 0
        },
        "showlegend": false,
        "template": {
         "data": {
          "bar": [
           {
            "error_x": {
             "color": "#2a3f5f"
            },
            "error_y": {
             "color": "#2a3f5f"
            },
            "marker": {
             "line": {
              "color": "#E5ECF6",
              "width": 0.5
             },
             "pattern": {
              "fillmode": "overlay",
              "size": 10,
              "solidity": 0.2
             }
            },
            "type": "bar"
           }
          ],
          "barpolar": [
           {
            "marker": {
             "line": {
              "color": "#E5ECF6",
              "width": 0.5
             },
             "pattern": {
              "fillmode": "overlay",
              "size": 10,
              "solidity": 0.2
             }
            },
            "type": "barpolar"
           }
          ],
          "carpet": [
           {
            "aaxis": {
             "endlinecolor": "#2a3f5f",
             "gridcolor": "white",
             "linecolor": "white",
             "minorgridcolor": "white",
             "startlinecolor": "#2a3f5f"
            },
            "baxis": {
             "endlinecolor": "#2a3f5f",
             "gridcolor": "white",
             "linecolor": "white",
             "minorgridcolor": "white",
             "startlinecolor": "#2a3f5f"
            },
            "type": "carpet"
           }
          ],
          "choropleth": [
           {
            "colorbar": {
             "outlinewidth": 0,
             "ticks": ""
            },
            "type": "choropleth"
           }
          ],
          "contour": [
           {
            "colorbar": {
             "outlinewidth": 0,
             "ticks": ""
            },
            "colorscale": [
             [
              0,
              "#0d0887"
             ],
             [
              0.1111111111111111,
              "#46039f"
             ],
             [
              0.2222222222222222,
              "#7201a8"
             ],
             [
              0.3333333333333333,
              "#9c179e"
             ],
             [
              0.4444444444444444,
              "#bd3786"
             ],
             [
              0.5555555555555556,
              "#d8576b"
             ],
             [
              0.6666666666666666,
              "#ed7953"
             ],
             [
              0.7777777777777778,
              "#fb9f3a"
             ],
             [
              0.8888888888888888,
              "#fdca26"
             ],
             [
              1,
              "#f0f921"
             ]
            ],
            "type": "contour"
           }
          ],
          "contourcarpet": [
           {
            "colorbar": {
             "outlinewidth": 0,
             "ticks": ""
            },
            "type": "contourcarpet"
           }
          ],
          "heatmap": [
           {
            "colorbar": {
             "outlinewidth": 0,
             "ticks": ""
            },
            "colorscale": [
             [
              0,
              "#0d0887"
             ],
             [
              0.1111111111111111,
              "#46039f"
             ],
             [
              0.2222222222222222,
              "#7201a8"
             ],
             [
              0.3333333333333333,
              "#9c179e"
             ],
             [
              0.4444444444444444,
              "#bd3786"
             ],
             [
              0.5555555555555556,
              "#d8576b"
             ],
             [
              0.6666666666666666,
              "#ed7953"
             ],
             [
              0.7777777777777778,
              "#fb9f3a"
             ],
             [
              0.8888888888888888,
              "#fdca26"
             ],
             [
              1,
              "#f0f921"
             ]
            ],
            "type": "heatmap"
           }
          ],
          "heatmapgl": [
           {
            "colorbar": {
             "outlinewidth": 0,
             "ticks": ""
            },
            "colorscale": [
             [
              0,
              "#0d0887"
             ],
             [
              0.1111111111111111,
              "#46039f"
             ],
             [
              0.2222222222222222,
              "#7201a8"
             ],
             [
              0.3333333333333333,
              "#9c179e"
             ],
             [
              0.4444444444444444,
              "#bd3786"
             ],
             [
              0.5555555555555556,
              "#d8576b"
             ],
             [
              0.6666666666666666,
              "#ed7953"
             ],
             [
              0.7777777777777778,
              "#fb9f3a"
             ],
             [
              0.8888888888888888,
              "#fdca26"
             ],
             [
              1,
              "#f0f921"
             ]
            ],
            "type": "heatmapgl"
           }
          ],
          "histogram": [
           {
            "marker": {
             "pattern": {
              "fillmode": "overlay",
              "size": 10,
              "solidity": 0.2
             }
            },
            "type": "histogram"
           }
          ],
          "histogram2d": [
           {
            "colorbar": {
             "outlinewidth": 0,
             "ticks": ""
            },
            "colorscale": [
             [
              0,
              "#0d0887"
             ],
             [
              0.1111111111111111,
              "#46039f"
             ],
             [
              0.2222222222222222,
              "#7201a8"
             ],
             [
              0.3333333333333333,
              "#9c179e"
             ],
             [
              0.4444444444444444,
              "#bd3786"
             ],
             [
              0.5555555555555556,
              "#d8576b"
             ],
             [
              0.6666666666666666,
              "#ed7953"
             ],
             [
              0.7777777777777778,
              "#fb9f3a"
             ],
             [
              0.8888888888888888,
              "#fdca26"
             ],
             [
              1,
              "#f0f921"
             ]
            ],
            "type": "histogram2d"
           }
          ],
          "histogram2dcontour": [
           {
            "colorbar": {
             "outlinewidth": 0,
             "ticks": ""
            },
            "colorscale": [
             [
              0,
              "#0d0887"
             ],
             [
              0.1111111111111111,
              "#46039f"
             ],
             [
              0.2222222222222222,
              "#7201a8"
             ],
             [
              0.3333333333333333,
              "#9c179e"
             ],
             [
              0.4444444444444444,
              "#bd3786"
             ],
             [
              0.5555555555555556,
              "#d8576b"
             ],
             [
              0.6666666666666666,
              "#ed7953"
             ],
             [
              0.7777777777777778,
              "#fb9f3a"
             ],
             [
              0.8888888888888888,
              "#fdca26"
             ],
             [
              1,
              "#f0f921"
             ]
            ],
            "type": "histogram2dcontour"
           }
          ],
          "mesh3d": [
           {
            "colorbar": {
             "outlinewidth": 0,
             "ticks": ""
            },
            "type": "mesh3d"
           }
          ],
          "parcoords": [
           {
            "line": {
             "colorbar": {
              "outlinewidth": 0,
              "ticks": ""
             }
            },
            "type": "parcoords"
           }
          ],
          "pie": [
           {
            "automargin": true,
            "type": "pie"
           }
          ],
          "scatter": [
           {
            "fillpattern": {
             "fillmode": "overlay",
             "size": 10,
             "solidity": 0.2
            },
            "type": "scatter"
           }
          ],
          "scatter3d": [
           {
            "line": {
             "colorbar": {
              "outlinewidth": 0,
              "ticks": ""
             }
            },
            "marker": {
             "colorbar": {
              "outlinewidth": 0,
              "ticks": ""
             }
            },
            "type": "scatter3d"
           }
          ],
          "scattercarpet": [
           {
            "marker": {
             "colorbar": {
              "outlinewidth": 0,
              "ticks": ""
             }
            },
            "type": "scattercarpet"
           }
          ],
          "scattergeo": [
           {
            "marker": {
             "colorbar": {
              "outlinewidth": 0,
              "ticks": ""
             }
            },
            "type": "scattergeo"
           }
          ],
          "scattergl": [
           {
            "marker": {
             "colorbar": {
              "outlinewidth": 0,
              "ticks": ""
             }
            },
            "type": "scattergl"
           }
          ],
          "scattermapbox": [
           {
            "marker": {
             "colorbar": {
              "outlinewidth": 0,
              "ticks": ""
             }
            },
            "type": "scattermapbox"
           }
          ],
          "scatterpolar": [
           {
            "marker": {
             "colorbar": {
              "outlinewidth": 0,
              "ticks": ""
             }
            },
            "type": "scatterpolar"
           }
          ],
          "scatterpolargl": [
           {
            "marker": {
             "colorbar": {
              "outlinewidth": 0,
              "ticks": ""
             }
            },
            "type": "scatterpolargl"
           }
          ],
          "scatterternary": [
           {
            "marker": {
             "colorbar": {
              "outlinewidth": 0,
              "ticks": ""
             }
            },
            "type": "scatterternary"
           }
          ],
          "surface": [
           {
            "colorbar": {
             "outlinewidth": 0,
             "ticks": ""
            },
            "colorscale": [
             [
              0,
              "#0d0887"
             ],
             [
              0.1111111111111111,
              "#46039f"
             ],
             [
              0.2222222222222222,
              "#7201a8"
             ],
             [
              0.3333333333333333,
              "#9c179e"
             ],
             [
              0.4444444444444444,
              "#bd3786"
             ],
             [
              0.5555555555555556,
              "#d8576b"
             ],
             [
              0.6666666666666666,
              "#ed7953"
             ],
             [
              0.7777777777777778,
              "#fb9f3a"
             ],
             [
              0.8888888888888888,
              "#fdca26"
             ],
             [
              1,
              "#f0f921"
             ]
            ],
            "type": "surface"
           }
          ],
          "table": [
           {
            "cells": {
             "fill": {
              "color": "#EBF0F8"
             },
             "line": {
              "color": "white"
             }
            },
            "header": {
             "fill": {
              "color": "#C8D4E3"
             },
             "line": {
              "color": "white"
             }
            },
            "type": "table"
           }
          ]
         },
         "layout": {
          "annotationdefaults": {
           "arrowcolor": "#2a3f5f",
           "arrowhead": 0,
           "arrowwidth": 1
          },
          "autotypenumbers": "strict",
          "coloraxis": {
           "colorbar": {
            "outlinewidth": 0,
            "ticks": ""
           }
          },
          "colorscale": {
           "diverging": [
            [
             0,
             "#8e0152"
            ],
            [
             0.1,
             "#c51b7d"
            ],
            [
             0.2,
             "#de77ae"
            ],
            [
             0.3,
             "#f1b6da"
            ],
            [
             0.4,
             "#fde0ef"
            ],
            [
             0.5,
             "#f7f7f7"
            ],
            [
             0.6,
             "#e6f5d0"
            ],
            [
             0.7,
             "#b8e186"
            ],
            [
             0.8,
             "#7fbc41"
            ],
            [
             0.9,
             "#4d9221"
            ],
            [
             1,
             "#276419"
            ]
           ],
           "sequential": [
            [
             0,
             "#0d0887"
            ],
            [
             0.1111111111111111,
             "#46039f"
            ],
            [
             0.2222222222222222,
             "#7201a8"
            ],
            [
             0.3333333333333333,
             "#9c179e"
            ],
            [
             0.4444444444444444,
             "#bd3786"
            ],
            [
             0.5555555555555556,
             "#d8576b"
            ],
            [
             0.6666666666666666,
             "#ed7953"
            ],
            [
             0.7777777777777778,
             "#fb9f3a"
            ],
            [
             0.8888888888888888,
             "#fdca26"
            ],
            [
             1,
             "#f0f921"
            ]
           ],
           "sequentialminus": [
            [
             0,
             "#0d0887"
            ],
            [
             0.1111111111111111,
             "#46039f"
            ],
            [
             0.2222222222222222,
             "#7201a8"
            ],
            [
             0.3333333333333333,
             "#9c179e"
            ],
            [
             0.4444444444444444,
             "#bd3786"
            ],
            [
             0.5555555555555556,
             "#d8576b"
            ],
            [
             0.6666666666666666,
             "#ed7953"
            ],
            [
             0.7777777777777778,
             "#fb9f3a"
            ],
            [
             0.8888888888888888,
             "#fdca26"
            ],
            [
             1,
             "#f0f921"
            ]
           ]
          },
          "colorway": [
           "#636efa",
           "#EF553B",
           "#00cc96",
           "#ab63fa",
           "#FFA15A",
           "#19d3f3",
           "#FF6692",
           "#B6E880",
           "#FF97FF",
           "#FECB52"
          ],
          "font": {
           "color": "#2a3f5f"
          },
          "geo": {
           "bgcolor": "white",
           "lakecolor": "white",
           "landcolor": "#E5ECF6",
           "showlakes": true,
           "showland": true,
           "subunitcolor": "white"
          },
          "hoverlabel": {
           "align": "left"
          },
          "hovermode": "closest",
          "mapbox": {
           "style": "light"
          },
          "paper_bgcolor": "white",
          "plot_bgcolor": "#E5ECF6",
          "polar": {
           "angularaxis": {
            "gridcolor": "white",
            "linecolor": "white",
            "ticks": ""
           },
           "bgcolor": "#E5ECF6",
           "radialaxis": {
            "gridcolor": "white",
            "linecolor": "white",
            "ticks": ""
           }
          },
          "scene": {
           "xaxis": {
            "backgroundcolor": "#E5ECF6",
            "gridcolor": "white",
            "gridwidth": 2,
            "linecolor": "white",
            "showbackground": true,
            "ticks": "",
            "zerolinecolor": "white"
           },
           "yaxis": {
            "backgroundcolor": "#E5ECF6",
            "gridcolor": "white",
            "gridwidth": 2,
            "linecolor": "white",
            "showbackground": true,
            "ticks": "",
            "zerolinecolor": "white"
           },
           "zaxis": {
            "backgroundcolor": "#E5ECF6",
            "gridcolor": "white",
            "gridwidth": 2,
            "linecolor": "white",
            "showbackground": true,
            "ticks": "",
            "zerolinecolor": "white"
           }
          },
          "shapedefaults": {
           "line": {
            "color": "#2a3f5f"
           }
          },
          "ternary": {
           "aaxis": {
            "gridcolor": "white",
            "linecolor": "white",
            "ticks": ""
           },
           "baxis": {
            "gridcolor": "white",
            "linecolor": "white",
            "ticks": ""
           },
           "bgcolor": "#E5ECF6",
           "caxis": {
            "gridcolor": "white",
            "linecolor": "white",
            "ticks": ""
           }
          },
          "title": {
           "x": 0.05
          },
          "xaxis": {
           "automargin": true,
           "gridcolor": "white",
           "linecolor": "white",
           "ticks": "",
           "title": {
            "standoff": 15
           },
           "zerolinecolor": "white",
           "zerolinewidth": 2
          },
          "yaxis": {
           "automargin": true,
           "gridcolor": "white",
           "linecolor": "white",
           "ticks": "",
           "title": {
            "standoff": 15
           },
           "zerolinecolor": "white",
           "zerolinewidth": 2
          }
         }
        },
        "title": {
         "text": "t-SNE plot of cr dataset with eda augmentation method, total distance: 7.3750"
        },
        "xaxis": {
         "anchor": "y",
         "domain": [
          0,
          1
         ],
         "title": {
          "text": "standardized_x"
         }
        },
        "yaxis": {
         "anchor": "x",
         "domain": [
          0,
          1
         ],
         "title": {
          "text": "standardized_y"
         }
        }
       }
      },
      "text/html": [
       "<div>                            <div id=\"83114e33-2599-48a9-b546-ae064a6cc09c\" class=\"plotly-graph-div\" style=\"height:525px; width:100%;\"></div>            <script type=\"text/javascript\">                require([\"plotly\"], function(Plotly) {                    window.PLOTLYENV=window.PLOTLYENV || {};                                    if (document.getElementById(\"83114e33-2599-48a9-b546-ae064a6cc09c\")) {                    Plotly.newPlot(                        \"83114e33-2599-48a9-b546-ae064a6cc09c\",                        [{\"customdata\":[[\"No USB and no optical zoom, not great in low light\",\"Con (original)\",1.0470876693725586],[\"No USB and no optic zoom, not swell in low light\",\"Con (augmented)\",1.0470876693725586],[\"Port cover, antenna when extended, takes a bit to find sweet spot.\",\"Con (original)\",1.6629133224487305],[\"Port cover, antenna extended, takes a bit to find sweet.\",\"Con (augmented)\",1.6629133224487305],[\"Sometimes more than one sheet of paper is pulled through at a time\",\"Con (original)\",0.6703837513923645],[\"Sometimes through than one sheet of paper is pulled more at a time\",\"Con (augmented)\",0.6703837513923645],[\"Ink smears and ink blots\",\"Con (original)\",0.00807990599423647],[\"blots smears and ink Ink\",\"Con (augmented)\",0.00807990599423647],[\"Flash recharges slowly with NiMH. Small 8MB card.\",\"Con (original)\",2.567016124725342],[\"Flash card slowly with NiMH. Small 8MB recharges.\",\"Con (augmented)\",2.567016124725342],[\"could do with more pixals\",\"Con (original)\",0.3905438482761383],[\"pixals do with more could\",\"Con (augmented)\",0.3905438482761383],[\"No Back-light at night.\",\"Con (original)\",0.559881329536438],[\"No Back-light night at.\",\"Con (augmented)\",0.559881329536438],[\"Functions don't work as well as if individual items (separate fax, etc)\",\"Con (original)\",1.1157633066177368],[\"Functions don't work as etc as if individual items (separate fax, well)\",\"Con (augmented)\",1.1157633066177368],[\"Brightness varies too much on LCD, video out, and computer\",\"Con (original)\",0.4892321228981018],[\"Brightness motley too much on LCD, picture out, and computer\",\"Con (augmented)\",0.4892321228981018],[\"so new that it's hard to find or get accessories for\",\"Con (original)\",0.07405325025320053],[\"so new find it's hard to that or get accessories for\",\"Con (augmented)\",0.07405325025320053],[\"sh_t pictures most of the time, viewfinder not accurate\",\"Con (original)\",1.6465835571289062],[\"sh_t pictures most finder of the time, viewfinder not accurate\",\"Con (augmented)\",1.6465835571289062],[\"Does not fold very compact.\",\"Con (original)\",0.30180811882019043],[\"Does not fold compact.\",\"Con (augmented)\",0.30180811882019043],[\"Battery life is terrible\",\"Con (original)\",0.3169541358947754],[\"is life Battery terrible\",\"Con (augmented)\",0.3169541358947754],[\"A little noisy. \",\"Con (original)\",2.1934404373168945],[\"A noisy. \",\"Con (augmented)\",2.1934404373168945],[\"Software / driver problems\",\"Con (original)\",0.01433041412383318],[\"Software / problems driver\",\"Con (augmented)\",0.01433041412383318]],\"hovertemplate\":\"Text: %{customdata[0]} <br>Label: %{customdata[1]} <br>Distance: %{customdata[2]:.5f} <br>\",\"legendgroup\":\"red, ^\",\"marker\":{\"color\":\"#636efa\",\"size\":[100,10,100,10,100,10,100,10,100,10,100,10,100,10,100,10,100,10,100,10,100,10,100,10,100,10,100,10,100,10],\"sizemode\":\"area\",\"sizeref\":0.25,\"symbol\":\"circle\"},\"mode\":\"markers\",\"name\":\"red, ^\",\"orientation\":\"v\",\"showlegend\":true,\"x\":[1.0469470429874639,1.501069859731897,0.5170654113358378,1.1312377888388858,0.5176687526719547,0.24312580933362848,-0.4428668225725111,-0.4386547509222917,-0.9400254729149188,0.12626136805963784,0.9453019475475684,1.150286290718635,1.4220006168147916,1.1147613696090852,0.8598228429233572,1.4090881960269206,0.8368899438305115,0.6373257023274451,-0.3156733608631958,-0.276583093966169,-0.040205869010257474,-0.7137320515047088,1.2501372608276393,1.4206899190663003,1.183366318597909,1.3477731948567508,1.0196705713189744,0.20070840734190146,1.4362776291730492,1.4442355909140945],\"xaxis\":\"x\",\"y\":[-1.0356365144299733,-1.4485024326300522,-0.5075434296626827,-1.2816352799139372,-0.514829405764335,-0.2307165156587706,0.44781537657981285,0.44589681050120195,0.9484397097135032,-0.1220310083623468,-0.9853989408441881,-1.0744242780431008,-1.2674334332427646,-1.349688361317432,-0.8712586293499406,-1.2082611249961783,-0.8553655001083996,-0.6471236575517915,0.31928405988172603,0.3030219981842247,0.05057336663989853,0.7493214670813197,-1.4118039176784998,-1.4131447437426101,-1.0752800371102647,-1.1526432375494644,-1.20246026332774,-0.18980049860136328,-1.4055027390228847,-1.4038686439158807],\"yaxis\":\"y\",\"type\":\"scatter\"},{\"customdata\":[[\"Buy it! Great first digital camera, Comes with docking station, charger, fair price, great quality.\",\"Pro (original)\",0.3137982487678528],[\"Buy it! charger first digital great, Comes with docking station, Great, fair price, camera quality.\",\"Pro (augmented)\",0.3137982487678528],[\"Easy to use, great battery life, variety of ringtones and faceplates to buy.\",\"Pro (original)\",0.3002955913543701],[\"Easy to use, great battery life, of ringtones and faceplates buy.\",\"Pro (augmented)\",0.3002955913543701],[\"fabulous picture quality, very quick operation\",\"Pro (original)\",0.6076156497001648],[\"fabulous picture quality, very nimble operation\",\"Pro (augmented)\",0.6076156497001648],[\"Great picture photos\",\"Pro (original)\",0.17301923036575317],[\"neat Great picture photos\",\"Pro (augmented)\",0.17301923036575317],[\"Quality LCD Screen, no shutter lag, excellent pictures, fantastic movies.\",\"Pro (original)\",0.6428559422492981],[\"Quality LCD cover, no shutter lag, fantabulous pictures, fantastic movies.\",\"Pro (augmented)\",0.6428559422492981],[\"A solidly built  great little printer.\",\"Pro (original)\",0.41247236728668213],[\"A printer built  great little solidly.\",\"Pro (augmented)\",0.41247236728668213],[\"small, enough features &#13;&#10;\",\"Pro (original)\",0.23303140699863434],[\"small, enough features &#thirteen;&#10;\",\"Pro (augmented)\",0.23303140699863434],[\"speed, clarity\",\"Pro (original)\",0.02865728922188282],[\"speed, velocity clarity\",\"Pro (augmented)\",0.02865728922188282],[\"Great Pictures\",\"Pro (original)\",0.4831320643424988],[\"Pictures Great\",\"Pro (augmented)\",0.4831320643424988],[\"Excellent quality prints., Easy to install.\",\"Pro (original)\",0.6097549796104431],[\"Excellent quality prints., Easy to.\",\"Pro (augmented)\",0.6097549796104431],[\"5 MP, manual features, construction, quality pictures, software interface, quick charger.\",\"Pro (original)\",0.0191495418548584],[\"5 MP, manual features, charger, quality pictures, software interface, quick construction.\",\"Pro (augmented)\",0.0191495418548584],[\"It's cheap\",\"Pro (original)\",0.5341832041740417],[\"It's \",\"Pro (augmented)\",0.5341832041740417],[\"egronomic shape, inexpensive, loud ringer, several accessories included, fm tuner, minibrowser\",\"Pro (original)\",1.6704013347625732],[\"egronomic shape,, loud ringer, several accessories, fm tuner, minibrowser\",\"Pro (augmented)\",1.6704013347625732],[\"instant photos, ease of carrying, no downloading\",\"Pro (original)\",0.010571488179266453],[\"instant carrying, ease of photos, no downloading\",\"Pro (augmented)\",0.010571488179266453],[\"...small\",\"Pro (original)\",0.01747182011604309],[\"...small\",\"Pro (augmented)\",0.01747182011604309]],\"hovertemplate\":\"Text: %{customdata[0]} <br>Label: %{customdata[1]} <br>Distance: %{customdata[2]:.5f} <br>\",\"legendgroup\":\"blue, o\",\"marker\":{\"color\":\"#EF553B\",\"size\":[100,10,100,10,100,10,100,10,100,10,100,10,100,10,100,10,100,10,100,10,100,10,100,10,100,10,100,10,100,10],\"sizemode\":\"area\",\"sizeref\":0.25,\"symbol\":\"diamond\"},\"mode\":\"markers\",\"name\":\"blue, o\",\"orientation\":\"v\",\"showlegend\":true,\"x\":[-1.302179156267966,-1.1274362533769533,-1.3456515298232916,-1.431143973168422,-1.321030676228688,-1.1694126691710227,-1.4131656678569566,-1.4434610019589056,-1.1307804997601052,-1.0560324634825569,-1.3266039710854256,-1.4086221492020818,-1.0618725327576755,-0.9770324741265867,0.1359636033463213,0.12474614325705426,-0.9785388064485575,-1.1499516100846658,-1.072014002692805,-1.2549412213768227,-0.09204768363679822,-0.0952403536458699,-0.47627641117267433,-0.697458273045234,0.5673467303494031,1.1641844295089694,0.5008398678469593,0.4951990709782982,0.37184015469682635,0.3767816792263973],\"xaxis\":\"x\",\"y\":[1.4144641611665891,1.3815995524127866,1.4053989217817004,1.2458570432189855,1.0580871394706186,1.3933854487086008,1.1511742529136095,1.2523494332905674,1.372970697363724,0.9860546904240985,1.3977032488271255,1.1602433047960559,1.000096705466894,1.109712168898334,-0.1301906329427796,-0.11747829974046423,1.2005361251373141,0.9692553598400159,1.325528564294802,1.0077175948155312,0.10186377608967229,0.11311709580359126,0.5041321241557426,0.7277230818793238,-0.5742251850216062,-1.3701673385827027,-0.4844470261895854,-0.48658847674079553,-0.3675825385558978,-0.3582794579772222],\"yaxis\":\"y\",\"type\":\"scatter\"}],                        {\"template\":{\"data\":{\"histogram2dcontour\":[{\"type\":\"histogram2dcontour\",\"colorbar\":{\"outlinewidth\":0,\"ticks\":\"\"},\"colorscale\":[[0.0,\"#0d0887\"],[0.1111111111111111,\"#46039f\"],[0.2222222222222222,\"#7201a8\"],[0.3333333333333333,\"#9c179e\"],[0.4444444444444444,\"#bd3786\"],[0.5555555555555556,\"#d8576b\"],[0.6666666666666666,\"#ed7953\"],[0.7777777777777778,\"#fb9f3a\"],[0.8888888888888888,\"#fdca26\"],[1.0,\"#f0f921\"]]}],\"choropleth\":[{\"type\":\"choropleth\",\"colorbar\":{\"outlinewidth\":0,\"ticks\":\"\"}}],\"histogram2d\":[{\"type\":\"histogram2d\",\"colorbar\":{\"outlinewidth\":0,\"ticks\":\"\"},\"colorscale\":[[0.0,\"#0d0887\"],[0.1111111111111111,\"#46039f\"],[0.2222222222222222,\"#7201a8\"],[0.3333333333333333,\"#9c179e\"],[0.4444444444444444,\"#bd3786\"],[0.5555555555555556,\"#d8576b\"],[0.6666666666666666,\"#ed7953\"],[0.7777777777777778,\"#fb9f3a\"],[0.8888888888888888,\"#fdca26\"],[1.0,\"#f0f921\"]]}],\"heatmap\":[{\"type\":\"heatmap\",\"colorbar\":{\"outlinewidth\":0,\"ticks\":\"\"},\"colorscale\":[[0.0,\"#0d0887\"],[0.1111111111111111,\"#46039f\"],[0.2222222222222222,\"#7201a8\"],[0.3333333333333333,\"#9c179e\"],[0.4444444444444444,\"#bd3786\"],[0.5555555555555556,\"#d8576b\"],[0.6666666666666666,\"#ed7953\"],[0.7777777777777778,\"#fb9f3a\"],[0.8888888888888888,\"#fdca26\"],[1.0,\"#f0f921\"]]}],\"heatmapgl\":[{\"type\":\"heatmapgl\",\"colorbar\":{\"outlinewidth\":0,\"ticks\":\"\"},\"colorscale\":[[0.0,\"#0d0887\"],[0.1111111111111111,\"#46039f\"],[0.2222222222222222,\"#7201a8\"],[0.3333333333333333,\"#9c179e\"],[0.4444444444444444,\"#bd3786\"],[0.5555555555555556,\"#d8576b\"],[0.6666666666666666,\"#ed7953\"],[0.7777777777777778,\"#fb9f3a\"],[0.8888888888888888,\"#fdca26\"],[1.0,\"#f0f921\"]]}],\"contourcarpet\":[{\"type\":\"contourcarpet\",\"colorbar\":{\"outlinewidth\":0,\"ticks\":\"\"}}],\"contour\":[{\"type\":\"contour\",\"colorbar\":{\"outlinewidth\":0,\"ticks\":\"\"},\"colorscale\":[[0.0,\"#0d0887\"],[0.1111111111111111,\"#46039f\"],[0.2222222222222222,\"#7201a8\"],[0.3333333333333333,\"#9c179e\"],[0.4444444444444444,\"#bd3786\"],[0.5555555555555556,\"#d8576b\"],[0.6666666666666666,\"#ed7953\"],[0.7777777777777778,\"#fb9f3a\"],[0.8888888888888888,\"#fdca26\"],[1.0,\"#f0f921\"]]}],\"surface\":[{\"type\":\"surface\",\"colorbar\":{\"outlinewidth\":0,\"ticks\":\"\"},\"colorscale\":[[0.0,\"#0d0887\"],[0.1111111111111111,\"#46039f\"],[0.2222222222222222,\"#7201a8\"],[0.3333333333333333,\"#9c179e\"],[0.4444444444444444,\"#bd3786\"],[0.5555555555555556,\"#d8576b\"],[0.6666666666666666,\"#ed7953\"],[0.7777777777777778,\"#fb9f3a\"],[0.8888888888888888,\"#fdca26\"],[1.0,\"#f0f921\"]]}],\"mesh3d\":[{\"type\":\"mesh3d\",\"colorbar\":{\"outlinewidth\":0,\"ticks\":\"\"}}],\"scatter\":[{\"fillpattern\":{\"fillmode\":\"overlay\",\"size\":10,\"solidity\":0.2},\"type\":\"scatter\"}],\"parcoords\":[{\"type\":\"parcoords\",\"line\":{\"colorbar\":{\"outlinewidth\":0,\"ticks\":\"\"}}}],\"scatterpolargl\":[{\"type\":\"scatterpolargl\",\"marker\":{\"colorbar\":{\"outlinewidth\":0,\"ticks\":\"\"}}}],\"bar\":[{\"error_x\":{\"color\":\"#2a3f5f\"},\"error_y\":{\"color\":\"#2a3f5f\"},\"marker\":{\"line\":{\"color\":\"#E5ECF6\",\"width\":0.5},\"pattern\":{\"fillmode\":\"overlay\",\"size\":10,\"solidity\":0.2}},\"type\":\"bar\"}],\"scattergeo\":[{\"type\":\"scattergeo\",\"marker\":{\"colorbar\":{\"outlinewidth\":0,\"ticks\":\"\"}}}],\"scatterpolar\":[{\"type\":\"scatterpolar\",\"marker\":{\"colorbar\":{\"outlinewidth\":0,\"ticks\":\"\"}}}],\"histogram\":[{\"marker\":{\"pattern\":{\"fillmode\":\"overlay\",\"size\":10,\"solidity\":0.2}},\"type\":\"histogram\"}],\"scattergl\":[{\"type\":\"scattergl\",\"marker\":{\"colorbar\":{\"outlinewidth\":0,\"ticks\":\"\"}}}],\"scatter3d\":[{\"type\":\"scatter3d\",\"line\":{\"colorbar\":{\"outlinewidth\":0,\"ticks\":\"\"}},\"marker\":{\"colorbar\":{\"outlinewidth\":0,\"ticks\":\"\"}}}],\"scattermapbox\":[{\"type\":\"scattermapbox\",\"marker\":{\"colorbar\":{\"outlinewidth\":0,\"ticks\":\"\"}}}],\"scatterternary\":[{\"type\":\"scatterternary\",\"marker\":{\"colorbar\":{\"outlinewidth\":0,\"ticks\":\"\"}}}],\"scattercarpet\":[{\"type\":\"scattercarpet\",\"marker\":{\"colorbar\":{\"outlinewidth\":0,\"ticks\":\"\"}}}],\"carpet\":[{\"aaxis\":{\"endlinecolor\":\"#2a3f5f\",\"gridcolor\":\"white\",\"linecolor\":\"white\",\"minorgridcolor\":\"white\",\"startlinecolor\":\"#2a3f5f\"},\"baxis\":{\"endlinecolor\":\"#2a3f5f\",\"gridcolor\":\"white\",\"linecolor\":\"white\",\"minorgridcolor\":\"white\",\"startlinecolor\":\"#2a3f5f\"},\"type\":\"carpet\"}],\"table\":[{\"cells\":{\"fill\":{\"color\":\"#EBF0F8\"},\"line\":{\"color\":\"white\"}},\"header\":{\"fill\":{\"color\":\"#C8D4E3\"},\"line\":{\"color\":\"white\"}},\"type\":\"table\"}],\"barpolar\":[{\"marker\":{\"line\":{\"color\":\"#E5ECF6\",\"width\":0.5},\"pattern\":{\"fillmode\":\"overlay\",\"size\":10,\"solidity\":0.2}},\"type\":\"barpolar\"}],\"pie\":[{\"automargin\":true,\"type\":\"pie\"}]},\"layout\":{\"autotypenumbers\":\"strict\",\"colorway\":[\"#636efa\",\"#EF553B\",\"#00cc96\",\"#ab63fa\",\"#FFA15A\",\"#19d3f3\",\"#FF6692\",\"#B6E880\",\"#FF97FF\",\"#FECB52\"],\"font\":{\"color\":\"#2a3f5f\"},\"hovermode\":\"closest\",\"hoverlabel\":{\"align\":\"left\"},\"paper_bgcolor\":\"white\",\"plot_bgcolor\":\"#E5ECF6\",\"polar\":{\"bgcolor\":\"#E5ECF6\",\"angularaxis\":{\"gridcolor\":\"white\",\"linecolor\":\"white\",\"ticks\":\"\"},\"radialaxis\":{\"gridcolor\":\"white\",\"linecolor\":\"white\",\"ticks\":\"\"}},\"ternary\":{\"bgcolor\":\"#E5ECF6\",\"aaxis\":{\"gridcolor\":\"white\",\"linecolor\":\"white\",\"ticks\":\"\"},\"baxis\":{\"gridcolor\":\"white\",\"linecolor\":\"white\",\"ticks\":\"\"},\"caxis\":{\"gridcolor\":\"white\",\"linecolor\":\"white\",\"ticks\":\"\"}},\"coloraxis\":{\"colorbar\":{\"outlinewidth\":0,\"ticks\":\"\"}},\"colorscale\":{\"sequential\":[[0.0,\"#0d0887\"],[0.1111111111111111,\"#46039f\"],[0.2222222222222222,\"#7201a8\"],[0.3333333333333333,\"#9c179e\"],[0.4444444444444444,\"#bd3786\"],[0.5555555555555556,\"#d8576b\"],[0.6666666666666666,\"#ed7953\"],[0.7777777777777778,\"#fb9f3a\"],[0.8888888888888888,\"#fdca26\"],[1.0,\"#f0f921\"]],\"sequentialminus\":[[0.0,\"#0d0887\"],[0.1111111111111111,\"#46039f\"],[0.2222222222222222,\"#7201a8\"],[0.3333333333333333,\"#9c179e\"],[0.4444444444444444,\"#bd3786\"],[0.5555555555555556,\"#d8576b\"],[0.6666666666666666,\"#ed7953\"],[0.7777777777777778,\"#fb9f3a\"],[0.8888888888888888,\"#fdca26\"],[1.0,\"#f0f921\"]],\"diverging\":[[0,\"#8e0152\"],[0.1,\"#c51b7d\"],[0.2,\"#de77ae\"],[0.3,\"#f1b6da\"],[0.4,\"#fde0ef\"],[0.5,\"#f7f7f7\"],[0.6,\"#e6f5d0\"],[0.7,\"#b8e186\"],[0.8,\"#7fbc41\"],[0.9,\"#4d9221\"],[1,\"#276419\"]]},\"xaxis\":{\"gridcolor\":\"white\",\"linecolor\":\"white\",\"ticks\":\"\",\"title\":{\"standoff\":15},\"zerolinecolor\":\"white\",\"automargin\":true,\"zerolinewidth\":2},\"yaxis\":{\"gridcolor\":\"white\",\"linecolor\":\"white\",\"ticks\":\"\",\"title\":{\"standoff\":15},\"zerolinecolor\":\"white\",\"automargin\":true,\"zerolinewidth\":2},\"scene\":{\"xaxis\":{\"backgroundcolor\":\"#E5ECF6\",\"gridcolor\":\"white\",\"linecolor\":\"white\",\"showbackground\":true,\"ticks\":\"\",\"zerolinecolor\":\"white\",\"gridwidth\":2},\"yaxis\":{\"backgroundcolor\":\"#E5ECF6\",\"gridcolor\":\"white\",\"linecolor\":\"white\",\"showbackground\":true,\"ticks\":\"\",\"zerolinecolor\":\"white\",\"gridwidth\":2},\"zaxis\":{\"backgroundcolor\":\"#E5ECF6\",\"gridcolor\":\"white\",\"linecolor\":\"white\",\"showbackground\":true,\"ticks\":\"\",\"zerolinecolor\":\"white\",\"gridwidth\":2}},\"shapedefaults\":{\"line\":{\"color\":\"#2a3f5f\"}},\"annotationdefaults\":{\"arrowcolor\":\"#2a3f5f\",\"arrowhead\":0,\"arrowwidth\":1},\"geo\":{\"bgcolor\":\"white\",\"landcolor\":\"#E5ECF6\",\"subunitcolor\":\"white\",\"showland\":true,\"showlakes\":true,\"lakecolor\":\"white\"},\"title\":{\"x\":0.05},\"mapbox\":{\"style\":\"light\"}}},\"xaxis\":{\"anchor\":\"y\",\"domain\":[0.0,1.0],\"title\":{\"text\":\"standardized_x\"}},\"yaxis\":{\"anchor\":\"x\",\"domain\":[0.0,1.0],\"title\":{\"text\":\"standardized_y\"}},\"legend\":{\"title\":{\"text\":\"color, symbol\"},\"tracegroupgap\":0,\"itemsizing\":\"constant\"},\"title\":{\"text\":\"t-SNE plot of cr dataset with eda augmentation method, total distance: 7.3750\"},\"showlegend\":false},                        {\"responsive\": true}                    ).then(function(){\n",
       "                            \n",
       "var gd = document.getElementById('83114e33-2599-48a9-b546-ae064a6cc09c');\n",
       "var x = new MutationObserver(function (mutations, observer) {{\n",
       "        var display = window.getComputedStyle(gd).display;\n",
       "        if (!display || display === 'none') {{\n",
       "            console.log([gd, 'removed!']);\n",
       "            Plotly.purge(gd);\n",
       "            observer.disconnect();\n",
       "        }}\n",
       "}});\n",
       "\n",
       "// Listen for the removal of the full notebook cells\n",
       "var notebookContainer = gd.closest('#notebook-container');\n",
       "if (notebookContainer) {{\n",
       "    x.observe(notebookContainer, {childList: true});\n",
       "}}\n",
       "\n",
       "// Listen for the clearing of the current output cell\n",
       "var outputEl = gd.closest('.output');\n",
       "if (outputEl) {{\n",
       "    x.observe(outputEl, {childList: true});\n",
       "}}\n",
       "\n",
       "                        })                };                });            </script>        </div>"
      ]
     },
     "metadata": {},
     "output_type": "display_data"
    }
   ],
   "source": [
    "plotly_standard_tsne(df_t, 'cr','eda')"
   ]
  },
  {
   "cell_type": "code",
   "execution_count": 124,
   "metadata": {},
   "outputs": [
    {
     "data": {
      "text/html": [
       "<div>\n",
       "<style scoped>\n",
       "    .dataframe tbody tr th:only-of-type {\n",
       "        vertical-align: middle;\n",
       "    }\n",
       "\n",
       "    .dataframe tbody tr th {\n",
       "        vertical-align: top;\n",
       "    }\n",
       "\n",
       "    .dataframe thead th {\n",
       "        text-align: right;\n",
       "    }\n",
       "</style>\n",
       "<table border=\"1\" class=\"dataframe\">\n",
       "  <thead>\n",
       "    <tr style=\"text-align: right;\">\n",
       "      <th></th>\n",
       "      <th>x</th>\n",
       "      <th>y</th>\n",
       "      <th>ground_truth</th>\n",
       "      <th>predicted_label</th>\n",
       "      <th>distance</th>\n",
       "      <th>normailized_distance</th>\n",
       "      <th>text</th>\n",
       "      <th>label</th>\n",
       "      <th>color</th>\n",
       "      <th>size</th>\n",
       "      <th>symbol</th>\n",
       "      <th>standardized_x</th>\n",
       "      <th>standardized_y</th>\n",
       "    </tr>\n",
       "  </thead>\n",
       "  <tbody>\n",
       "    <tr>\n",
       "      <th>0</th>\n",
       "      <td>7.599387</td>\n",
       "      <td>-8.286252</td>\n",
       "      <td>0</td>\n",
       "      <td>1</td>\n",
       "      <td>1.047088</td>\n",
       "      <td>0.406031</td>\n",
       "      <td>No USB and no optical zoom, not great in low l...</td>\n",
       "      <td>Con (original)</td>\n",
       "      <td>red</td>\n",
       "      <td>100</td>\n",
       "      <td>^</td>\n",
       "      <td>1.046947</td>\n",
       "      <td>-1.035637</td>\n",
       "    </tr>\n",
       "    <tr>\n",
       "      <th>1</th>\n",
       "      <td>8.402977</td>\n",
       "      <td>-8.957546</td>\n",
       "      <td>0</td>\n",
       "      <td>0</td>\n",
       "      <td>1.047088</td>\n",
       "      <td>0.406031</td>\n",
       "      <td>No USB and no optic zoom, not swell in low light</td>\n",
       "      <td>Con (augmented)</td>\n",
       "      <td>red</td>\n",
       "      <td>10</td>\n",
       "      <td>^</td>\n",
       "      <td>1.501070</td>\n",
       "      <td>-1.448502</td>\n",
       "    </tr>\n",
       "    <tr>\n",
       "      <th>2</th>\n",
       "      <td>3.442508</td>\n",
       "      <td>-4.302541</td>\n",
       "      <td>1</td>\n",
       "      <td>1</td>\n",
       "      <td>0.313798</td>\n",
       "      <td>0.119471</td>\n",
       "      <td>Buy it! Great first digital camera, Comes with...</td>\n",
       "      <td>Pro (original)</td>\n",
       "      <td>blue</td>\n",
       "      <td>100</td>\n",
       "      <td>o</td>\n",
       "      <td>-1.302179</td>\n",
       "      <td>1.414464</td>\n",
       "    </tr>\n",
       "    <tr>\n",
       "      <th>3</th>\n",
       "      <td>3.751723</td>\n",
       "      <td>-4.355977</td>\n",
       "      <td>1</td>\n",
       "      <td>1</td>\n",
       "      <td>0.313798</td>\n",
       "      <td>0.119471</td>\n",
       "      <td>Buy it! charger first digital great, Comes wit...</td>\n",
       "      <td>Pro (augmented)</td>\n",
       "      <td>blue</td>\n",
       "      <td>10</td>\n",
       "      <td>o</td>\n",
       "      <td>-1.127436</td>\n",
       "      <td>1.381600</td>\n",
       "    </tr>\n",
       "    <tr>\n",
       "      <th>4</th>\n",
       "      <td>6.661739</td>\n",
       "      <td>-7.427606</td>\n",
       "      <td>0</td>\n",
       "      <td>1</td>\n",
       "      <td>1.662913</td>\n",
       "      <td>0.646688</td>\n",
       "      <td>Port cover, antenna when extended, takes a bit...</td>\n",
       "      <td>Con (original)</td>\n",
       "      <td>red</td>\n",
       "      <td>100</td>\n",
       "      <td>^</td>\n",
       "      <td>0.517065</td>\n",
       "      <td>-0.507543</td>\n",
       "    </tr>\n",
       "    <tr>\n",
       "      <th>5</th>\n",
       "      <td>7.748543</td>\n",
       "      <td>-8.686231</td>\n",
       "      <td>0</td>\n",
       "      <td>0</td>\n",
       "      <td>1.662913</td>\n",
       "      <td>0.646688</td>\n",
       "      <td>Port cover, antenna extended, takes a bit to f...</td>\n",
       "      <td>Con (augmented)</td>\n",
       "      <td>red</td>\n",
       "      <td>10</td>\n",
       "      <td>^</td>\n",
       "      <td>1.131238</td>\n",
       "      <td>-1.281635</td>\n",
       "    </tr>\n",
       "    <tr>\n",
       "      <th>6</th>\n",
       "      <td>3.365581</td>\n",
       "      <td>-4.317281</td>\n",
       "      <td>1</td>\n",
       "      <td>1</td>\n",
       "      <td>0.300296</td>\n",
       "      <td>0.114194</td>\n",
       "      <td>Easy to use, great battery life, variety of ri...</td>\n",
       "      <td>Pro (original)</td>\n",
       "      <td>blue</td>\n",
       "      <td>100</td>\n",
       "      <td>o</td>\n",
       "      <td>-1.345652</td>\n",
       "      <td>1.405399</td>\n",
       "    </tr>\n",
       "    <tr>\n",
       "      <th>7</th>\n",
       "      <td>3.214299</td>\n",
       "      <td>-4.576686</td>\n",
       "      <td>1</td>\n",
       "      <td>1</td>\n",
       "      <td>0.300296</td>\n",
       "      <td>0.114194</td>\n",
       "      <td>Easy to use, great battery life, of ringtones ...</td>\n",
       "      <td>Pro (augmented)</td>\n",
       "      <td>blue</td>\n",
       "      <td>10</td>\n",
       "      <td>o</td>\n",
       "      <td>-1.431144</td>\n",
       "      <td>1.245857</td>\n",
       "    </tr>\n",
       "    <tr>\n",
       "      <th>8</th>\n",
       "      <td>6.662807</td>\n",
       "      <td>-7.439452</td>\n",
       "      <td>0</td>\n",
       "      <td>1</td>\n",
       "      <td>0.670384</td>\n",
       "      <td>0.258820</td>\n",
       "      <td>Sometimes more than one sheet of paper is pull...</td>\n",
       "      <td>Con (original)</td>\n",
       "      <td>red</td>\n",
       "      <td>100</td>\n",
       "      <td>^</td>\n",
       "      <td>0.517669</td>\n",
       "      <td>-0.514829</td>\n",
       "    </tr>\n",
       "    <tr>\n",
       "      <th>9</th>\n",
       "      <td>6.176991</td>\n",
       "      <td>-6.977502</td>\n",
       "      <td>0</td>\n",
       "      <td>1</td>\n",
       "      <td>0.670384</td>\n",
       "      <td>0.258820</td>\n",
       "      <td>Sometimes through than one sheet of paper is p...</td>\n",
       "      <td>Con (augmented)</td>\n",
       "      <td>red</td>\n",
       "      <td>10</td>\n",
       "      <td>^</td>\n",
       "      <td>0.243126</td>\n",
       "      <td>-0.230717</td>\n",
       "    </tr>\n",
       "    <tr>\n",
       "      <th>10</th>\n",
       "      <td>3.409149</td>\n",
       "      <td>-4.881988</td>\n",
       "      <td>1</td>\n",
       "      <td>1</td>\n",
       "      <td>0.607616</td>\n",
       "      <td>0.234291</td>\n",
       "      <td>fabulous picture quality, very quick operation</td>\n",
       "      <td>Pro (original)</td>\n",
       "      <td>blue</td>\n",
       "      <td>100</td>\n",
       "      <td>o</td>\n",
       "      <td>-1.321031</td>\n",
       "      <td>1.058087</td>\n",
       "    </tr>\n",
       "    <tr>\n",
       "      <th>11</th>\n",
       "      <td>3.677444</td>\n",
       "      <td>-4.336814</td>\n",
       "      <td>1</td>\n",
       "      <td>1</td>\n",
       "      <td>0.607616</td>\n",
       "      <td>0.234291</td>\n",
       "      <td>fabulous picture quality, very nimble operation</td>\n",
       "      <td>Pro (augmented)</td>\n",
       "      <td>blue</td>\n",
       "      <td>10</td>\n",
       "      <td>o</td>\n",
       "      <td>-1.169413</td>\n",
       "      <td>1.393385</td>\n",
       "    </tr>\n",
       "    <tr>\n",
       "      <th>12</th>\n",
       "      <td>3.246112</td>\n",
       "      <td>-4.730634</td>\n",
       "      <td>1</td>\n",
       "      <td>1</td>\n",
       "      <td>0.173019</td>\n",
       "      <td>0.064456</td>\n",
       "      <td>Great picture photos</td>\n",
       "      <td>Pro (original)</td>\n",
       "      <td>blue</td>\n",
       "      <td>100</td>\n",
       "      <td>o</td>\n",
       "      <td>-1.413166</td>\n",
       "      <td>1.151174</td>\n",
       "    </tr>\n",
       "    <tr>\n",
       "      <th>13</th>\n",
       "      <td>3.192503</td>\n",
       "      <td>-4.566130</td>\n",
       "      <td>1</td>\n",
       "      <td>1</td>\n",
       "      <td>0.173019</td>\n",
       "      <td>0.064456</td>\n",
       "      <td>neat Great picture photos</td>\n",
       "      <td>Pro (augmented)</td>\n",
       "      <td>blue</td>\n",
       "      <td>10</td>\n",
       "      <td>o</td>\n",
       "      <td>-1.443461</td>\n",
       "      <td>1.252349</td>\n",
       "    </tr>\n",
       "    <tr>\n",
       "      <th>14</th>\n",
       "      <td>3.745805</td>\n",
       "      <td>-4.370007</td>\n",
       "      <td>1</td>\n",
       "      <td>1</td>\n",
       "      <td>0.642856</td>\n",
       "      <td>0.248062</td>\n",
       "      <td>Quality LCD Screen, no shutter lag, excellent ...</td>\n",
       "      <td>Pro (original)</td>\n",
       "      <td>blue</td>\n",
       "      <td>100</td>\n",
       "      <td>o</td>\n",
       "      <td>-1.130780</td>\n",
       "      <td>1.372971</td>\n",
       "    </tr>\n",
       "    <tr>\n",
       "      <th>15</th>\n",
       "      <td>3.878075</td>\n",
       "      <td>-4.999108</td>\n",
       "      <td>1</td>\n",
       "      <td>1</td>\n",
       "      <td>0.642856</td>\n",
       "      <td>0.248062</td>\n",
       "      <td>Quality LCD cover, no shutter lag, fantabulous...</td>\n",
       "      <td>Pro (augmented)</td>\n",
       "      <td>blue</td>\n",
       "      <td>10</td>\n",
       "      <td>o</td>\n",
       "      <td>-1.056032</td>\n",
       "      <td>0.986055</td>\n",
       "    </tr>\n",
       "    <tr>\n",
       "      <th>16</th>\n",
       "      <td>3.399287</td>\n",
       "      <td>-4.329793</td>\n",
       "      <td>1</td>\n",
       "      <td>1</td>\n",
       "      <td>0.412472</td>\n",
       "      <td>0.158031</td>\n",
       "      <td>A solidly built  great little printer.</td>\n",
       "      <td>Pro (original)</td>\n",
       "      <td>blue</td>\n",
       "      <td>100</td>\n",
       "      <td>o</td>\n",
       "      <td>-1.326604</td>\n",
       "      <td>1.397703</td>\n",
       "    </tr>\n",
       "    <tr>\n",
       "      <th>17</th>\n",
       "      <td>3.254152</td>\n",
       "      <td>-4.715889</td>\n",
       "      <td>1</td>\n",
       "      <td>1</td>\n",
       "      <td>0.412472</td>\n",
       "      <td>0.158031</td>\n",
       "      <td>A printer built  great little solidly.</td>\n",
       "      <td>Pro (augmented)</td>\n",
       "      <td>blue</td>\n",
       "      <td>10</td>\n",
       "      <td>o</td>\n",
       "      <td>-1.408622</td>\n",
       "      <td>1.160243</td>\n",
       "    </tr>\n",
       "    <tr>\n",
       "      <th>18</th>\n",
       "      <td>4.963098</td>\n",
       "      <td>-5.874252</td>\n",
       "      <td>0</td>\n",
       "      <td>1</td>\n",
       "      <td>0.008080</td>\n",
       "      <td>0.000000</td>\n",
       "      <td>Ink smears and ink blots</td>\n",
       "      <td>Con (original)</td>\n",
       "      <td>red</td>\n",
       "      <td>100</td>\n",
       "      <td>^</td>\n",
       "      <td>-0.442867</td>\n",
       "      <td>0.447815</td>\n",
       "    </tr>\n",
       "    <tr>\n",
       "      <th>19</th>\n",
       "      <td>4.970551</td>\n",
       "      <td>-5.877371</td>\n",
       "      <td>0</td>\n",
       "      <td>1</td>\n",
       "      <td>0.008080</td>\n",
       "      <td>0.000000</td>\n",
       "      <td>blots smears and ink Ink</td>\n",
       "      <td>Con (augmented)</td>\n",
       "      <td>red</td>\n",
       "      <td>10</td>\n",
       "      <td>^</td>\n",
       "      <td>-0.438655</td>\n",
       "      <td>0.445897</td>\n",
       "    </tr>\n",
       "    <tr>\n",
       "      <th>20</th>\n",
       "      <td>4.083354</td>\n",
       "      <td>-5.060268</td>\n",
       "      <td>0</td>\n",
       "      <td>1</td>\n",
       "      <td>2.567016</td>\n",
       "      <td>1.000000</td>\n",
       "      <td>Flash recharges slowly with NiMH. Small 8MB card.</td>\n",
       "      <td>Con (original)</td>\n",
       "      <td>red</td>\n",
       "      <td>100</td>\n",
       "      <td>^</td>\n",
       "      <td>-0.940025</td>\n",
       "      <td>0.948440</td>\n",
       "    </tr>\n",
       "    <tr>\n",
       "      <th>21</th>\n",
       "      <td>5.970194</td>\n",
       "      <td>-6.800786</td>\n",
       "      <td>0</td>\n",
       "      <td>1</td>\n",
       "      <td>2.567016</td>\n",
       "      <td>1.000000</td>\n",
       "      <td>Flash card slowly with NiMH. Small 8MB recharges.</td>\n",
       "      <td>Con (augmented)</td>\n",
       "      <td>red</td>\n",
       "      <td>10</td>\n",
       "      <td>^</td>\n",
       "      <td>0.126261</td>\n",
       "      <td>-0.122031</td>\n",
       "    </tr>\n",
       "    <tr>\n",
       "      <th>22</th>\n",
       "      <td>7.419522</td>\n",
       "      <td>-8.204569</td>\n",
       "      <td>0</td>\n",
       "      <td>1</td>\n",
       "      <td>0.390544</td>\n",
       "      <td>0.149462</td>\n",
       "      <td>could do with more pixals</td>\n",
       "      <td>Con (original)</td>\n",
       "      <td>red</td>\n",
       "      <td>100</td>\n",
       "      <td>^</td>\n",
       "      <td>0.945302</td>\n",
       "      <td>-0.985399</td>\n",
       "    </tr>\n",
       "    <tr>\n",
       "      <th>23</th>\n",
       "      <td>7.782250</td>\n",
       "      <td>-8.349319</td>\n",
       "      <td>0</td>\n",
       "      <td>0</td>\n",
       "      <td>0.390544</td>\n",
       "      <td>0.149462</td>\n",
       "      <td>pixals do with more could</td>\n",
       "      <td>Con (augmented)</td>\n",
       "      <td>red</td>\n",
       "      <td>10</td>\n",
       "      <td>^</td>\n",
       "      <td>1.150286</td>\n",
       "      <td>-1.074424</td>\n",
       "    </tr>\n",
       "    <tr>\n",
       "      <th>24</th>\n",
       "      <td>3.867740</td>\n",
       "      <td>-4.976277</td>\n",
       "      <td>1</td>\n",
       "      <td>1</td>\n",
       "      <td>0.233031</td>\n",
       "      <td>0.087908</td>\n",
       "      <td>small, enough features &amp;#13;&amp;#10;</td>\n",
       "      <td>Pro (original)</td>\n",
       "      <td>blue</td>\n",
       "      <td>100</td>\n",
       "      <td>o</td>\n",
       "      <td>-1.061873</td>\n",
       "      <td>1.000097</td>\n",
       "    </tr>\n",
       "    <tr>\n",
       "      <th>25</th>\n",
       "      <td>4.017869</td>\n",
       "      <td>-4.798049</td>\n",
       "      <td>1</td>\n",
       "      <td>1</td>\n",
       "      <td>0.233031</td>\n",
       "      <td>0.087908</td>\n",
       "      <td>small, enough features &amp;#thirteen;&amp;#10;</td>\n",
       "      <td>Pro (augmented)</td>\n",
       "      <td>blue</td>\n",
       "      <td>10</td>\n",
       "      <td>o</td>\n",
       "      <td>-0.977032</td>\n",
       "      <td>1.109712</td>\n",
       "    </tr>\n",
       "    <tr>\n",
       "      <th>26</th>\n",
       "      <td>8.263061</td>\n",
       "      <td>-8.663139</td>\n",
       "      <td>0</td>\n",
       "      <td>0</td>\n",
       "      <td>0.559881</td>\n",
       "      <td>0.215637</td>\n",
       "      <td>No Back-light at night.</td>\n",
       "      <td>Con (original)</td>\n",
       "      <td>red</td>\n",
       "      <td>100</td>\n",
       "      <td>^</td>\n",
       "      <td>1.422001</td>\n",
       "      <td>-1.267433</td>\n",
       "    </tr>\n",
       "    <tr>\n",
       "      <th>27</th>\n",
       "      <td>7.719388</td>\n",
       "      <td>-8.796881</td>\n",
       "      <td>0</td>\n",
       "      <td>0</td>\n",
       "      <td>0.559881</td>\n",
       "      <td>0.215637</td>\n",
       "      <td>No Back-light night at.</td>\n",
       "      <td>Con (augmented)</td>\n",
       "      <td>red</td>\n",
       "      <td>10</td>\n",
       "      <td>^</td>\n",
       "      <td>1.114761</td>\n",
       "      <td>-1.349688</td>\n",
       "    </tr>\n",
       "    <tr>\n",
       "      <th>28</th>\n",
       "      <td>7.268263</td>\n",
       "      <td>-8.018984</td>\n",
       "      <td>0</td>\n",
       "      <td>1</td>\n",
       "      <td>1.115763</td>\n",
       "      <td>0.432869</td>\n",
       "      <td>Functions don't work as well as if individual ...</td>\n",
       "      <td>Con (original)</td>\n",
       "      <td>red</td>\n",
       "      <td>100</td>\n",
       "      <td>^</td>\n",
       "      <td>0.859823</td>\n",
       "      <td>-0.871259</td>\n",
       "    </tr>\n",
       "    <tr>\n",
       "      <th>29</th>\n",
       "      <td>8.240211</td>\n",
       "      <td>-8.566929</td>\n",
       "      <td>0</td>\n",
       "      <td>0</td>\n",
       "      <td>1.115763</td>\n",
       "      <td>0.432869</td>\n",
       "      <td>Functions don't work as etc as if individual i...</td>\n",
       "      <td>Con (augmented)</td>\n",
       "      <td>red</td>\n",
       "      <td>10</td>\n",
       "      <td>^</td>\n",
       "      <td>1.409088</td>\n",
       "      <td>-1.208261</td>\n",
       "    </tr>\n",
       "    <tr>\n",
       "      <th>30</th>\n",
       "      <td>5.987363</td>\n",
       "      <td>-6.814054</td>\n",
       "      <td>1</td>\n",
       "      <td>1</td>\n",
       "      <td>0.028657</td>\n",
       "      <td>0.008041</td>\n",
       "      <td>speed, clarity</td>\n",
       "      <td>Pro (original)</td>\n",
       "      <td>blue</td>\n",
       "      <td>100</td>\n",
       "      <td>o</td>\n",
       "      <td>0.135964</td>\n",
       "      <td>-0.130191</td>\n",
       "    </tr>\n",
       "    <tr>\n",
       "      <th>31</th>\n",
       "      <td>5.967513</td>\n",
       "      <td>-6.793384</td>\n",
       "      <td>1</td>\n",
       "      <td>1</td>\n",
       "      <td>0.028657</td>\n",
       "      <td>0.008041</td>\n",
       "      <td>speed, velocity clarity</td>\n",
       "      <td>Pro (augmented)</td>\n",
       "      <td>blue</td>\n",
       "      <td>10</td>\n",
       "      <td>o</td>\n",
       "      <td>0.124746</td>\n",
       "      <td>-0.117478</td>\n",
       "    </tr>\n",
       "    <tr>\n",
       "      <th>32</th>\n",
       "      <td>4.015203</td>\n",
       "      <td>-4.650375</td>\n",
       "      <td>1</td>\n",
       "      <td>1</td>\n",
       "      <td>0.483132</td>\n",
       "      <td>0.185644</td>\n",
       "      <td>Great Pictures</td>\n",
       "      <td>Pro (original)</td>\n",
       "      <td>blue</td>\n",
       "      <td>100</td>\n",
       "      <td>o</td>\n",
       "      <td>-0.978539</td>\n",
       "      <td>1.200536</td>\n",
       "    </tr>\n",
       "    <tr>\n",
       "      <th>33</th>\n",
       "      <td>3.711881</td>\n",
       "      <td>-5.026423</td>\n",
       "      <td>1</td>\n",
       "      <td>1</td>\n",
       "      <td>0.483132</td>\n",
       "      <td>0.185644</td>\n",
       "      <td>Pictures Great</td>\n",
       "      <td>Pro (augmented)</td>\n",
       "      <td>blue</td>\n",
       "      <td>10</td>\n",
       "      <td>o</td>\n",
       "      <td>-1.149952</td>\n",
       "      <td>0.969255</td>\n",
       "    </tr>\n",
       "    <tr>\n",
       "      <th>34</th>\n",
       "      <td>3.849795</td>\n",
       "      <td>-4.447145</td>\n",
       "      <td>1</td>\n",
       "      <td>1</td>\n",
       "      <td>0.609755</td>\n",
       "      <td>0.235127</td>\n",
       "      <td>Excellent quality prints., Easy to install.</td>\n",
       "      <td>Pro (original)</td>\n",
       "      <td>blue</td>\n",
       "      <td>100</td>\n",
       "      <td>o</td>\n",
       "      <td>-1.072014</td>\n",
       "      <td>1.325529</td>\n",
       "    </tr>\n",
       "    <tr>\n",
       "      <th>35</th>\n",
       "      <td>3.526097</td>\n",
       "      <td>-4.963886</td>\n",
       "      <td>1</td>\n",
       "      <td>1</td>\n",
       "      <td>0.609755</td>\n",
       "      <td>0.235127</td>\n",
       "      <td>Excellent quality prints., Easy to.</td>\n",
       "      <td>Pro (augmented)</td>\n",
       "      <td>blue</td>\n",
       "      <td>10</td>\n",
       "      <td>o</td>\n",
       "      <td>-1.254941</td>\n",
       "      <td>1.007718</td>\n",
       "    </tr>\n",
       "    <tr>\n",
       "      <th>36</th>\n",
       "      <td>5.583887</td>\n",
       "      <td>-6.436748</td>\n",
       "      <td>1</td>\n",
       "      <td>1</td>\n",
       "      <td>0.019150</td>\n",
       "      <td>0.004326</td>\n",
       "      <td>5 MP, manual features, construction, quality p...</td>\n",
       "      <td>Pro (original)</td>\n",
       "      <td>blue</td>\n",
       "      <td>100</td>\n",
       "      <td>o</td>\n",
       "      <td>-0.092048</td>\n",
       "      <td>0.101864</td>\n",
       "    </tr>\n",
       "    <tr>\n",
       "      <th>37</th>\n",
       "      <td>5.578238</td>\n",
       "      <td>-6.418450</td>\n",
       "      <td>1</td>\n",
       "      <td>1</td>\n",
       "      <td>0.019150</td>\n",
       "      <td>0.004326</td>\n",
       "      <td>5 MP, manual features, charger, quality pictur...</td>\n",
       "      <td>Pro (augmented)</td>\n",
       "      <td>blue</td>\n",
       "      <td>10</td>\n",
       "      <td>o</td>\n",
       "      <td>-0.095240</td>\n",
       "      <td>0.113117</td>\n",
       "    </tr>\n",
       "    <tr>\n",
       "      <th>38</th>\n",
       "      <td>7.227682</td>\n",
       "      <td>-7.993143</td>\n",
       "      <td>0</td>\n",
       "      <td>1</td>\n",
       "      <td>0.489232</td>\n",
       "      <td>0.188028</td>\n",
       "      <td>Brightness varies too much on LCD, video out, ...</td>\n",
       "      <td>Con (original)</td>\n",
       "      <td>red</td>\n",
       "      <td>100</td>\n",
       "      <td>^</td>\n",
       "      <td>0.836890</td>\n",
       "      <td>-0.855366</td>\n",
       "    </tr>\n",
       "    <tr>\n",
       "      <th>39</th>\n",
       "      <td>6.874545</td>\n",
       "      <td>-7.654554</td>\n",
       "      <td>0</td>\n",
       "      <td>1</td>\n",
       "      <td>0.489232</td>\n",
       "      <td>0.188028</td>\n",
       "      <td>Brightness motley too much on LCD, picture out...</td>\n",
       "      <td>Con (augmented)</td>\n",
       "      <td>red</td>\n",
       "      <td>10</td>\n",
       "      <td>^</td>\n",
       "      <td>0.637326</td>\n",
       "      <td>-0.647124</td>\n",
       "    </tr>\n",
       "    <tr>\n",
       "      <th>40</th>\n",
       "      <td>4.903978</td>\n",
       "      <td>-5.782684</td>\n",
       "      <td>1</td>\n",
       "      <td>1</td>\n",
       "      <td>0.534183</td>\n",
       "      <td>0.205595</td>\n",
       "      <td>It's cheap</td>\n",
       "      <td>Pro (original)</td>\n",
       "      <td>blue</td>\n",
       "      <td>100</td>\n",
       "      <td>o</td>\n",
       "      <td>-0.476276</td>\n",
       "      <td>0.504132</td>\n",
       "    </tr>\n",
       "    <tr>\n",
       "      <th>41</th>\n",
       "      <td>4.512587</td>\n",
       "      <td>-5.419139</td>\n",
       "      <td>1</td>\n",
       "      <td>1</td>\n",
       "      <td>0.534183</td>\n",
       "      <td>0.205595</td>\n",
       "      <td>It's</td>\n",
       "      <td>Pro (augmented)</td>\n",
       "      <td>blue</td>\n",
       "      <td>10</td>\n",
       "      <td>o</td>\n",
       "      <td>-0.697458</td>\n",
       "      <td>0.727723</td>\n",
       "    </tr>\n",
       "    <tr>\n",
       "      <th>42</th>\n",
       "      <td>6.750714</td>\n",
       "      <td>-7.536026</td>\n",
       "      <td>1</td>\n",
       "      <td>1</td>\n",
       "      <td>1.670401</td>\n",
       "      <td>0.649614</td>\n",
       "      <td>egronomic shape, inexpensive, loud ringer, sev...</td>\n",
       "      <td>Pro (original)</td>\n",
       "      <td>blue</td>\n",
       "      <td>100</td>\n",
       "      <td>o</td>\n",
       "      <td>0.567347</td>\n",
       "      <td>-0.574225</td>\n",
       "    </tr>\n",
       "    <tr>\n",
       "      <th>43</th>\n",
       "      <td>7.806844</td>\n",
       "      <td>-8.830178</td>\n",
       "      <td>1</td>\n",
       "      <td>0</td>\n",
       "      <td>1.670401</td>\n",
       "      <td>0.649614</td>\n",
       "      <td>egronomic shape,, loud ringer, several accesso...</td>\n",
       "      <td>Pro (augmented)</td>\n",
       "      <td>blue</td>\n",
       "      <td>10</td>\n",
       "      <td>o</td>\n",
       "      <td>1.164184</td>\n",
       "      <td>-1.370167</td>\n",
       "    </tr>\n",
       "    <tr>\n",
       "      <th>44</th>\n",
       "      <td>5.188172</td>\n",
       "      <td>-6.083236</td>\n",
       "      <td>0</td>\n",
       "      <td>1</td>\n",
       "      <td>0.074053</td>\n",
       "      <td>0.025782</td>\n",
       "      <td>so new that it's hard to find or get accessori...</td>\n",
       "      <td>Con (original)</td>\n",
       "      <td>red</td>\n",
       "      <td>100</td>\n",
       "      <td>^</td>\n",
       "      <td>-0.315673</td>\n",
       "      <td>0.319284</td>\n",
       "    </tr>\n",
       "    <tr>\n",
       "      <th>45</th>\n",
       "      <td>5.257344</td>\n",
       "      <td>-6.109677</td>\n",
       "      <td>0</td>\n",
       "      <td>1</td>\n",
       "      <td>0.074053</td>\n",
       "      <td>0.025782</td>\n",
       "      <td>so new find it's hard to that or get accessori...</td>\n",
       "      <td>Con (augmented)</td>\n",
       "      <td>red</td>\n",
       "      <td>10</td>\n",
       "      <td>^</td>\n",
       "      <td>-0.276583</td>\n",
       "      <td>0.303022</td>\n",
       "    </tr>\n",
       "    <tr>\n",
       "      <th>46</th>\n",
       "      <td>5.675623</td>\n",
       "      <td>-6.520143</td>\n",
       "      <td>0</td>\n",
       "      <td>1</td>\n",
       "      <td>1.646584</td>\n",
       "      <td>0.640307</td>\n",
       "      <td>sh_t pictures most of the time, viewfinder not...</td>\n",
       "      <td>Con (original)</td>\n",
       "      <td>red</td>\n",
       "      <td>100</td>\n",
       "      <td>^</td>\n",
       "      <td>-0.040206</td>\n",
       "      <td>0.050573</td>\n",
       "    </tr>\n",
       "    <tr>\n",
       "      <th>47</th>\n",
       "      <td>4.483790</td>\n",
       "      <td>-5.384022</td>\n",
       "      <td>0</td>\n",
       "      <td>1</td>\n",
       "      <td>1.646584</td>\n",
       "      <td>0.640307</td>\n",
       "      <td>sh_t pictures most finder of the time, viewfin...</td>\n",
       "      <td>Con (augmented)</td>\n",
       "      <td>red</td>\n",
       "      <td>10</td>\n",
       "      <td>^</td>\n",
       "      <td>-0.713732</td>\n",
       "      <td>0.749321</td>\n",
       "    </tr>\n",
       "    <tr>\n",
       "      <th>48</th>\n",
       "      <td>7.958941</td>\n",
       "      <td>-8.897877</td>\n",
       "      <td>0</td>\n",
       "      <td>0</td>\n",
       "      <td>0.301808</td>\n",
       "      <td>0.114785</td>\n",
       "      <td>Does not fold very compact.</td>\n",
       "      <td>Con (original)</td>\n",
       "      <td>red</td>\n",
       "      <td>100</td>\n",
       "      <td>^</td>\n",
       "      <td>1.250137</td>\n",
       "      <td>-1.411804</td>\n",
       "    </tr>\n",
       "    <tr>\n",
       "      <th>49</th>\n",
       "      <td>8.260741</td>\n",
       "      <td>-8.900057</td>\n",
       "      <td>0</td>\n",
       "      <td>0</td>\n",
       "      <td>0.301808</td>\n",
       "      <td>0.114785</td>\n",
       "      <td>Does not fold compact.</td>\n",
       "      <td>Con (augmented)</td>\n",
       "      <td>red</td>\n",
       "      <td>10</td>\n",
       "      <td>^</td>\n",
       "      <td>1.420690</td>\n",
       "      <td>-1.413145</td>\n",
       "    </tr>\n",
       "    <tr>\n",
       "      <th>50</th>\n",
       "      <td>6.633027</td>\n",
       "      <td>-7.390052</td>\n",
       "      <td>1</td>\n",
       "      <td>1</td>\n",
       "      <td>0.010571</td>\n",
       "      <td>0.000974</td>\n",
       "      <td>instant photos, ease of carrying, no downloading</td>\n",
       "      <td>Pro (original)</td>\n",
       "      <td>blue</td>\n",
       "      <td>100</td>\n",
       "      <td>o</td>\n",
       "      <td>0.500840</td>\n",
       "      <td>-0.484447</td>\n",
       "    </tr>\n",
       "    <tr>\n",
       "      <th>51</th>\n",
       "      <td>6.623045</td>\n",
       "      <td>-7.393534</td>\n",
       "      <td>1</td>\n",
       "      <td>1</td>\n",
       "      <td>0.010571</td>\n",
       "      <td>0.000974</td>\n",
       "      <td>instant carrying, ease of photos, no downloading</td>\n",
       "      <td>Pro (augmented)</td>\n",
       "      <td>blue</td>\n",
       "      <td>10</td>\n",
       "      <td>o</td>\n",
       "      <td>0.495199</td>\n",
       "      <td>-0.486588</td>\n",
       "    </tr>\n",
       "    <tr>\n",
       "      <th>52</th>\n",
       "      <td>7.840787</td>\n",
       "      <td>-8.350710</td>\n",
       "      <td>0</td>\n",
       "      <td>0</td>\n",
       "      <td>0.316954</td>\n",
       "      <td>0.120704</td>\n",
       "      <td>Battery life is terrible</td>\n",
       "      <td>Con (original)</td>\n",
       "      <td>red</td>\n",
       "      <td>100</td>\n",
       "      <td>^</td>\n",
       "      <td>1.183366</td>\n",
       "      <td>-1.075280</td>\n",
       "    </tr>\n",
       "    <tr>\n",
       "      <th>53</th>\n",
       "      <td>8.131712</td>\n",
       "      <td>-8.476498</td>\n",
       "      <td>0</td>\n",
       "      <td>0</td>\n",
       "      <td>0.316954</td>\n",
       "      <td>0.120704</td>\n",
       "      <td>is life Battery terrible</td>\n",
       "      <td>Con (augmented)</td>\n",
       "      <td>red</td>\n",
       "      <td>10</td>\n",
       "      <td>^</td>\n",
       "      <td>1.347773</td>\n",
       "      <td>-1.152643</td>\n",
       "    </tr>\n",
       "    <tr>\n",
       "      <th>54</th>\n",
       "      <td>7.551120</td>\n",
       "      <td>-8.557497</td>\n",
       "      <td>0</td>\n",
       "      <td>0</td>\n",
       "      <td>2.193440</td>\n",
       "      <td>0.854011</td>\n",
       "      <td>A little noisy.</td>\n",
       "      <td>Con (original)</td>\n",
       "      <td>red</td>\n",
       "      <td>100</td>\n",
       "      <td>^</td>\n",
       "      <td>1.019671</td>\n",
       "      <td>-1.202460</td>\n",
       "    </tr>\n",
       "    <tr>\n",
       "      <th>55</th>\n",
       "      <td>6.101932</td>\n",
       "      <td>-6.910975</td>\n",
       "      <td>0</td>\n",
       "      <td>1</td>\n",
       "      <td>2.193440</td>\n",
       "      <td>0.854011</td>\n",
       "      <td>A noisy.</td>\n",
       "      <td>Con (augmented)</td>\n",
       "      <td>red</td>\n",
       "      <td>10</td>\n",
       "      <td>^</td>\n",
       "      <td>0.200708</td>\n",
       "      <td>-0.189800</td>\n",
       "    </tr>\n",
       "    <tr>\n",
       "      <th>56</th>\n",
       "      <td>8.288324</td>\n",
       "      <td>-8.887631</td>\n",
       "      <td>0</td>\n",
       "      <td>0</td>\n",
       "      <td>0.014330</td>\n",
       "      <td>0.002443</td>\n",
       "      <td>Software / driver problems</td>\n",
       "      <td>Con (original)</td>\n",
       "      <td>red</td>\n",
       "      <td>100</td>\n",
       "      <td>^</td>\n",
       "      <td>1.436278</td>\n",
       "      <td>-1.405503</td>\n",
       "    </tr>\n",
       "    <tr>\n",
       "      <th>57</th>\n",
       "      <td>8.302406</td>\n",
       "      <td>-8.884974</td>\n",
       "      <td>0</td>\n",
       "      <td>0</td>\n",
       "      <td>0.014330</td>\n",
       "      <td>0.002443</td>\n",
       "      <td>Software / problems driver</td>\n",
       "      <td>Con (augmented)</td>\n",
       "      <td>red</td>\n",
       "      <td>10</td>\n",
       "      <td>^</td>\n",
       "      <td>1.444236</td>\n",
       "      <td>-1.403869</td>\n",
       "    </tr>\n",
       "    <tr>\n",
       "      <th>58</th>\n",
       "      <td>6.404757</td>\n",
       "      <td>-7.200038</td>\n",
       "      <td>1</td>\n",
       "      <td>1</td>\n",
       "      <td>0.017472</td>\n",
       "      <td>0.003670</td>\n",
       "      <td>...small</td>\n",
       "      <td>Pro (original)</td>\n",
       "      <td>blue</td>\n",
       "      <td>100</td>\n",
       "      <td>o</td>\n",
       "      <td>0.371840</td>\n",
       "      <td>-0.367583</td>\n",
       "    </tr>\n",
       "    <tr>\n",
       "      <th>59</th>\n",
       "      <td>6.413501</td>\n",
       "      <td>-7.184912</td>\n",
       "      <td>1</td>\n",
       "      <td>1</td>\n",
       "      <td>0.017472</td>\n",
       "      <td>0.003670</td>\n",
       "      <td>...small</td>\n",
       "      <td>Pro (augmented)</td>\n",
       "      <td>blue</td>\n",
       "      <td>10</td>\n",
       "      <td>o</td>\n",
       "      <td>0.376782</td>\n",
       "      <td>-0.358279</td>\n",
       "    </tr>\n",
       "  </tbody>\n",
       "</table>\n",
       "</div>"
      ],
      "text/plain": [
       "           x         y  ground_truth  predicted_label  distance  \\\n",
       "0   7.599387 -8.286252             0                1  1.047088   \n",
       "1   8.402977 -8.957546             0                0  1.047088   \n",
       "2   3.442508 -4.302541             1                1  0.313798   \n",
       "3   3.751723 -4.355977             1                1  0.313798   \n",
       "4   6.661739 -7.427606             0                1  1.662913   \n",
       "5   7.748543 -8.686231             0                0  1.662913   \n",
       "6   3.365581 -4.317281             1                1  0.300296   \n",
       "7   3.214299 -4.576686             1                1  0.300296   \n",
       "8   6.662807 -7.439452             0                1  0.670384   \n",
       "9   6.176991 -6.977502             0                1  0.670384   \n",
       "10  3.409149 -4.881988             1                1  0.607616   \n",
       "11  3.677444 -4.336814             1                1  0.607616   \n",
       "12  3.246112 -4.730634             1                1  0.173019   \n",
       "13  3.192503 -4.566130             1                1  0.173019   \n",
       "14  3.745805 -4.370007             1                1  0.642856   \n",
       "15  3.878075 -4.999108             1                1  0.642856   \n",
       "16  3.399287 -4.329793             1                1  0.412472   \n",
       "17  3.254152 -4.715889             1                1  0.412472   \n",
       "18  4.963098 -5.874252             0                1  0.008080   \n",
       "19  4.970551 -5.877371             0                1  0.008080   \n",
       "20  4.083354 -5.060268             0                1  2.567016   \n",
       "21  5.970194 -6.800786             0                1  2.567016   \n",
       "22  7.419522 -8.204569             0                1  0.390544   \n",
       "23  7.782250 -8.349319             0                0  0.390544   \n",
       "24  3.867740 -4.976277             1                1  0.233031   \n",
       "25  4.017869 -4.798049             1                1  0.233031   \n",
       "26  8.263061 -8.663139             0                0  0.559881   \n",
       "27  7.719388 -8.796881             0                0  0.559881   \n",
       "28  7.268263 -8.018984             0                1  1.115763   \n",
       "29  8.240211 -8.566929             0                0  1.115763   \n",
       "30  5.987363 -6.814054             1                1  0.028657   \n",
       "31  5.967513 -6.793384             1                1  0.028657   \n",
       "32  4.015203 -4.650375             1                1  0.483132   \n",
       "33  3.711881 -5.026423             1                1  0.483132   \n",
       "34  3.849795 -4.447145             1                1  0.609755   \n",
       "35  3.526097 -4.963886             1                1  0.609755   \n",
       "36  5.583887 -6.436748             1                1  0.019150   \n",
       "37  5.578238 -6.418450             1                1  0.019150   \n",
       "38  7.227682 -7.993143             0                1  0.489232   \n",
       "39  6.874545 -7.654554             0                1  0.489232   \n",
       "40  4.903978 -5.782684             1                1  0.534183   \n",
       "41  4.512587 -5.419139             1                1  0.534183   \n",
       "42  6.750714 -7.536026             1                1  1.670401   \n",
       "43  7.806844 -8.830178             1                0  1.670401   \n",
       "44  5.188172 -6.083236             0                1  0.074053   \n",
       "45  5.257344 -6.109677             0                1  0.074053   \n",
       "46  5.675623 -6.520143             0                1  1.646584   \n",
       "47  4.483790 -5.384022             0                1  1.646584   \n",
       "48  7.958941 -8.897877             0                0  0.301808   \n",
       "49  8.260741 -8.900057             0                0  0.301808   \n",
       "50  6.633027 -7.390052             1                1  0.010571   \n",
       "51  6.623045 -7.393534             1                1  0.010571   \n",
       "52  7.840787 -8.350710             0                0  0.316954   \n",
       "53  8.131712 -8.476498             0                0  0.316954   \n",
       "54  7.551120 -8.557497             0                0  2.193440   \n",
       "55  6.101932 -6.910975             0                1  2.193440   \n",
       "56  8.288324 -8.887631             0                0  0.014330   \n",
       "57  8.302406 -8.884974             0                0  0.014330   \n",
       "58  6.404757 -7.200038             1                1  0.017472   \n",
       "59  6.413501 -7.184912             1                1  0.017472   \n",
       "\n",
       "    normailized_distance                                               text  \\\n",
       "0               0.406031  No USB and no optical zoom, not great in low l...   \n",
       "1               0.406031   No USB and no optic zoom, not swell in low light   \n",
       "2               0.119471  Buy it! Great first digital camera, Comes with...   \n",
       "3               0.119471  Buy it! charger first digital great, Comes wit...   \n",
       "4               0.646688  Port cover, antenna when extended, takes a bit...   \n",
       "5               0.646688  Port cover, antenna extended, takes a bit to f...   \n",
       "6               0.114194  Easy to use, great battery life, variety of ri...   \n",
       "7               0.114194  Easy to use, great battery life, of ringtones ...   \n",
       "8               0.258820  Sometimes more than one sheet of paper is pull...   \n",
       "9               0.258820  Sometimes through than one sheet of paper is p...   \n",
       "10              0.234291     fabulous picture quality, very quick operation   \n",
       "11              0.234291    fabulous picture quality, very nimble operation   \n",
       "12              0.064456                               Great picture photos   \n",
       "13              0.064456                          neat Great picture photos   \n",
       "14              0.248062  Quality LCD Screen, no shutter lag, excellent ...   \n",
       "15              0.248062  Quality LCD cover, no shutter lag, fantabulous...   \n",
       "16              0.158031             A solidly built  great little printer.   \n",
       "17              0.158031             A printer built  great little solidly.   \n",
       "18              0.000000                           Ink smears and ink blots   \n",
       "19              0.000000                           blots smears and ink Ink   \n",
       "20              1.000000  Flash recharges slowly with NiMH. Small 8MB card.   \n",
       "21              1.000000  Flash card slowly with NiMH. Small 8MB recharges.   \n",
       "22              0.149462                          could do with more pixals   \n",
       "23              0.149462                          pixals do with more could   \n",
       "24              0.087908                  small, enough features &#13;&#10;   \n",
       "25              0.087908            small, enough features &#thirteen;&#10;   \n",
       "26              0.215637                            No Back-light at night.   \n",
       "27              0.215637                            No Back-light night at.   \n",
       "28              0.432869  Functions don't work as well as if individual ...   \n",
       "29              0.432869  Functions don't work as etc as if individual i...   \n",
       "30              0.008041                                     speed, clarity   \n",
       "31              0.008041                            speed, velocity clarity   \n",
       "32              0.185644                                     Great Pictures   \n",
       "33              0.185644                                     Pictures Great   \n",
       "34              0.235127        Excellent quality prints., Easy to install.   \n",
       "35              0.235127                Excellent quality prints., Easy to.   \n",
       "36              0.004326  5 MP, manual features, construction, quality p...   \n",
       "37              0.004326  5 MP, manual features, charger, quality pictur...   \n",
       "38              0.188028  Brightness varies too much on LCD, video out, ...   \n",
       "39              0.188028  Brightness motley too much on LCD, picture out...   \n",
       "40              0.205595                                         It's cheap   \n",
       "41              0.205595                                              It's    \n",
       "42              0.649614  egronomic shape, inexpensive, loud ringer, sev...   \n",
       "43              0.649614  egronomic shape,, loud ringer, several accesso...   \n",
       "44              0.025782  so new that it's hard to find or get accessori...   \n",
       "45              0.025782  so new find it's hard to that or get accessori...   \n",
       "46              0.640307  sh_t pictures most of the time, viewfinder not...   \n",
       "47              0.640307  sh_t pictures most finder of the time, viewfin...   \n",
       "48              0.114785                        Does not fold very compact.   \n",
       "49              0.114785                             Does not fold compact.   \n",
       "50              0.000974   instant photos, ease of carrying, no downloading   \n",
       "51              0.000974   instant carrying, ease of photos, no downloading   \n",
       "52              0.120704                           Battery life is terrible   \n",
       "53              0.120704                           is life Battery terrible   \n",
       "54              0.854011                                   A little noisy.    \n",
       "55              0.854011                                          A noisy.    \n",
       "56              0.002443                         Software / driver problems   \n",
       "57              0.002443                         Software / problems driver   \n",
       "58              0.003670                                           ...small   \n",
       "59              0.003670                                           ...small   \n",
       "\n",
       "              label color  size symbol  standardized_x  standardized_y  \n",
       "0    Con (original)   red   100      ^        1.046947       -1.035637  \n",
       "1   Con (augmented)   red    10      ^        1.501070       -1.448502  \n",
       "2    Pro (original)  blue   100      o       -1.302179        1.414464  \n",
       "3   Pro (augmented)  blue    10      o       -1.127436        1.381600  \n",
       "4    Con (original)   red   100      ^        0.517065       -0.507543  \n",
       "5   Con (augmented)   red    10      ^        1.131238       -1.281635  \n",
       "6    Pro (original)  blue   100      o       -1.345652        1.405399  \n",
       "7   Pro (augmented)  blue    10      o       -1.431144        1.245857  \n",
       "8    Con (original)   red   100      ^        0.517669       -0.514829  \n",
       "9   Con (augmented)   red    10      ^        0.243126       -0.230717  \n",
       "10   Pro (original)  blue   100      o       -1.321031        1.058087  \n",
       "11  Pro (augmented)  blue    10      o       -1.169413        1.393385  \n",
       "12   Pro (original)  blue   100      o       -1.413166        1.151174  \n",
       "13  Pro (augmented)  blue    10      o       -1.443461        1.252349  \n",
       "14   Pro (original)  blue   100      o       -1.130780        1.372971  \n",
       "15  Pro (augmented)  blue    10      o       -1.056032        0.986055  \n",
       "16   Pro (original)  blue   100      o       -1.326604        1.397703  \n",
       "17  Pro (augmented)  blue    10      o       -1.408622        1.160243  \n",
       "18   Con (original)   red   100      ^       -0.442867        0.447815  \n",
       "19  Con (augmented)   red    10      ^       -0.438655        0.445897  \n",
       "20   Con (original)   red   100      ^       -0.940025        0.948440  \n",
       "21  Con (augmented)   red    10      ^        0.126261       -0.122031  \n",
       "22   Con (original)   red   100      ^        0.945302       -0.985399  \n",
       "23  Con (augmented)   red    10      ^        1.150286       -1.074424  \n",
       "24   Pro (original)  blue   100      o       -1.061873        1.000097  \n",
       "25  Pro (augmented)  blue    10      o       -0.977032        1.109712  \n",
       "26   Con (original)   red   100      ^        1.422001       -1.267433  \n",
       "27  Con (augmented)   red    10      ^        1.114761       -1.349688  \n",
       "28   Con (original)   red   100      ^        0.859823       -0.871259  \n",
       "29  Con (augmented)   red    10      ^        1.409088       -1.208261  \n",
       "30   Pro (original)  blue   100      o        0.135964       -0.130191  \n",
       "31  Pro (augmented)  blue    10      o        0.124746       -0.117478  \n",
       "32   Pro (original)  blue   100      o       -0.978539        1.200536  \n",
       "33  Pro (augmented)  blue    10      o       -1.149952        0.969255  \n",
       "34   Pro (original)  blue   100      o       -1.072014        1.325529  \n",
       "35  Pro (augmented)  blue    10      o       -1.254941        1.007718  \n",
       "36   Pro (original)  blue   100      o       -0.092048        0.101864  \n",
       "37  Pro (augmented)  blue    10      o       -0.095240        0.113117  \n",
       "38   Con (original)   red   100      ^        0.836890       -0.855366  \n",
       "39  Con (augmented)   red    10      ^        0.637326       -0.647124  \n",
       "40   Pro (original)  blue   100      o       -0.476276        0.504132  \n",
       "41  Pro (augmented)  blue    10      o       -0.697458        0.727723  \n",
       "42   Pro (original)  blue   100      o        0.567347       -0.574225  \n",
       "43  Pro (augmented)  blue    10      o        1.164184       -1.370167  \n",
       "44   Con (original)   red   100      ^       -0.315673        0.319284  \n",
       "45  Con (augmented)   red    10      ^       -0.276583        0.303022  \n",
       "46   Con (original)   red   100      ^       -0.040206        0.050573  \n",
       "47  Con (augmented)   red    10      ^       -0.713732        0.749321  \n",
       "48   Con (original)   red   100      ^        1.250137       -1.411804  \n",
       "49  Con (augmented)   red    10      ^        1.420690       -1.413145  \n",
       "50   Pro (original)  blue   100      o        0.500840       -0.484447  \n",
       "51  Pro (augmented)  blue    10      o        0.495199       -0.486588  \n",
       "52   Con (original)   red   100      ^        1.183366       -1.075280  \n",
       "53  Con (augmented)   red    10      ^        1.347773       -1.152643  \n",
       "54   Con (original)   red   100      ^        1.019671       -1.202460  \n",
       "55  Con (augmented)   red    10      ^        0.200708       -0.189800  \n",
       "56   Con (original)   red   100      ^        1.436278       -1.405503  \n",
       "57  Con (augmented)   red    10      ^        1.444236       -1.403869  \n",
       "58   Pro (original)  blue   100      o        0.371840       -0.367583  \n",
       "59  Pro (augmented)  blue    10      o        0.376782       -0.358279  "
      ]
     },
     "execution_count": 124,
     "metadata": {},
     "output_type": "execute_result"
    }
   ],
   "source": [
    "df_t"
   ]
  },
  {
   "cell_type": "code",
   "execution_count": 1,
   "metadata": {},
   "outputs": [],
   "source": [
    "def aug_samples(dataset_name):\n",
    "    data = load_data(dict_of_30_samples[dataset_name])\n",
    "    methods = ['eda_augmenter','wordnet_augmenter','aeda_augmenter','backtranslation_augmenter']\n",
    "    for method in methods:\n",
    "        augmented_data = augment_text(data, method,fraction=1,pct_words_to_swap=0.2 ,transformations_per_example=1,\n",
    "                    label_column='class',target_column='text',include_original=True)\n",
    "        augmented_data = augmented_data[['class','text']]\n",
    "        np.savetxt(f'data/{dataset_name}/{method}_augmented.txt', augmented_data.values, fmt='%s', delimiter='\\t')\n"
   ]
  },
  {
   "cell_type": "code",
   "execution_count": 7,
   "metadata": {},
   "outputs": [
    {
     "name": "stderr",
     "output_type": "stream",
     "text": [
      "[nltk_data] Downloading package omw-1.4 to /home/peyman/nltk_data...\n",
      "[nltk_data]   Package omw-1.4 is already up-to-date!\n",
      "[nltk_data] Downloading package omw-1.4 to /home/peyman/nltk_data...\n",
      "[nltk_data]   Package omw-1.4 is already up-to-date!\n",
      "If you want to use `RobertaLMHeadModel` as a standalone, add `is_decoder=True.`\n"
     ]
    },
    {
     "name": "stdout",
     "output_type": "stream",
     "text": [
      "\u001b[H\u001b[2J"
     ]
    },
    {
     "name": "stderr",
     "output_type": "stream",
     "text": [
      "[nltk_data] Downloading package omw-1.4 to /home/peyman/nltk_data...\n",
      "[nltk_data]   Package omw-1.4 is already up-to-date!\n",
      "[nltk_data] Downloading package omw-1.4 to /home/peyman/nltk_data...\n",
      "[nltk_data]   Package omw-1.4 is already up-to-date!\n",
      "If you want to use `RobertaLMHeadModel` as a standalone, add `is_decoder=True.`\n"
     ]
    },
    {
     "name": "stdout",
     "output_type": "stream",
     "text": [
      "\u001b[H\u001b[2J"
     ]
    },
    {
     "name": "stderr",
     "output_type": "stream",
     "text": [
      "[nltk_data] Downloading package omw-1.4 to /home/peyman/nltk_data...\n",
      "[nltk_data]   Package omw-1.4 is already up-to-date!\n",
      "[nltk_data] Downloading package omw-1.4 to /home/peyman/nltk_data...\n",
      "[nltk_data]   Package omw-1.4 is already up-to-date!\n",
      "If you want to use `RobertaLMHeadModel` as a standalone, add `is_decoder=True.`\n"
     ]
    },
    {
     "name": "stdout",
     "output_type": "stream",
     "text": [
      "\u001b[H\u001b[2J"
     ]
    },
    {
     "name": "stderr",
     "output_type": "stream",
     "text": [
      "[nltk_data] Downloading package omw-1.4 to /home/peyman/nltk_data...\n",
      "[nltk_data]   Package omw-1.4 is already up-to-date!\n",
      "[nltk_data] Downloading package omw-1.4 to /home/peyman/nltk_data...\n",
      "[nltk_data]   Package omw-1.4 is already up-to-date!\n",
      "If you want to use `RobertaLMHeadModel` as a standalone, add `is_decoder=True.`\n"
     ]
    },
    {
     "name": "stdout",
     "output_type": "stream",
     "text": [
      "\u001b[H\u001b[2J"
     ]
    }
   ],
   "source": [
    "aug_samples('cr')"
   ]
  },
  {
   "cell_type": "code",
   "execution_count": 8,
   "metadata": {},
   "outputs": [
    {
     "name": "stderr",
     "output_type": "stream",
     "text": [
      "[nltk_data] Downloading package omw-1.4 to /home/peyman/nltk_data...\n",
      "[nltk_data]   Package omw-1.4 is already up-to-date!\n",
      "[nltk_data] Downloading package omw-1.4 to /home/peyman/nltk_data...\n",
      "[nltk_data]   Package omw-1.4 is already up-to-date!\n",
      "If you want to use `RobertaLMHeadModel` as a standalone, add `is_decoder=True.`\n"
     ]
    },
    {
     "name": "stdout",
     "output_type": "stream",
     "text": [
      "\u001b[H\u001b[2J"
     ]
    },
    {
     "name": "stderr",
     "output_type": "stream",
     "text": [
      "[nltk_data] Downloading package omw-1.4 to /home/peyman/nltk_data...\n",
      "[nltk_data]   Package omw-1.4 is already up-to-date!\n",
      "[nltk_data] Downloading package omw-1.4 to /home/peyman/nltk_data...\n",
      "[nltk_data]   Package omw-1.4 is already up-to-date!\n",
      "If you want to use `RobertaLMHeadModel` as a standalone, add `is_decoder=True.`\n"
     ]
    },
    {
     "name": "stdout",
     "output_type": "stream",
     "text": [
      "\u001b[H\u001b[2J"
     ]
    },
    {
     "name": "stderr",
     "output_type": "stream",
     "text": [
      "[nltk_data] Downloading package omw-1.4 to /home/peyman/nltk_data...\n",
      "[nltk_data]   Package omw-1.4 is already up-to-date!\n",
      "[nltk_data] Downloading package omw-1.4 to /home/peyman/nltk_data...\n",
      "[nltk_data]   Package omw-1.4 is already up-to-date!\n",
      "If you want to use `RobertaLMHeadModel` as a standalone, add `is_decoder=True.`\n"
     ]
    },
    {
     "name": "stdout",
     "output_type": "stream",
     "text": [
      "\u001b[H\u001b[2J"
     ]
    },
    {
     "name": "stderr",
     "output_type": "stream",
     "text": [
      "[nltk_data] Downloading package omw-1.4 to /home/peyman/nltk_data...\n",
      "[nltk_data]   Package omw-1.4 is already up-to-date!\n",
      "[nltk_data] Downloading package omw-1.4 to /home/peyman/nltk_data...\n",
      "[nltk_data]   Package omw-1.4 is already up-to-date!\n",
      "If you want to use `RobertaLMHeadModel` as a standalone, add `is_decoder=True.`\n"
     ]
    },
    {
     "name": "stdout",
     "output_type": "stream",
     "text": [
      "\u001b[H\u001b[2J"
     ]
    }
   ],
   "source": [
    "aug_samples('subj')"
   ]
  },
  {
   "cell_type": "code",
   "execution_count": null,
   "metadata": {},
   "outputs": [],
   "source": []
  }
 ],
 "metadata": {
  "kernelspec": {
   "display_name": "Python 3.8.13 ('test')",
   "language": "python",
   "name": "python3"
  },
  "language_info": {
   "codemirror_mode": {
    "name": "ipython",
    "version": 3
   },
   "file_extension": ".py",
   "mimetype": "text/x-python",
   "name": "python",
   "nbconvert_exporter": "python",
   "pygments_lexer": "ipython3",
   "version": "3.8.13"
  },
  "orig_nbformat": 4,
  "vscode": {
   "interpreter": {
    "hash": "105d983fd7af724b4799aa016a3246070456ed2a0f153d4c18e29a0780e65f60"
   }
  }
 },
 "nbformat": 4,
 "nbformat_minor": 2
}
