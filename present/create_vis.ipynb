{
 "cells": [
  {
   "cell_type": "code",
   "execution_count": 1,
   "metadata": {},
   "outputs": [
    {
     "name": "stderr",
     "output_type": "stream",
     "text": [
      "2023-01-20 19:07:25.073214: I tensorflow/core/platform/cpu_feature_guard.cc:193] This TensorFlow binary is optimized with oneAPI Deep Neural Network Library (oneDNN) to use the following CPU instructions in performance-critical operations:  AVX2 FMA\n",
      "To enable them in other operations, rebuild TensorFlow with the appropriate compiler flags.\n",
      "2023-01-20 19:07:25.236640: E tensorflow/stream_executor/cuda/cuda_blas.cc:2981] Unable to register cuBLAS factory: Attempting to register factory for plugin cuBLAS when one has already been registered\n",
      "2023-01-20 19:07:25.710985: W tensorflow/stream_executor/platform/default/dso_loader.cc:64] Could not load dynamic library 'libnvinfer.so.7'; dlerror: libnvinfer.so.7: cannot open shared object file: No such file or directory\n",
      "2023-01-20 19:07:25.711027: W tensorflow/stream_executor/platform/default/dso_loader.cc:64] Could not load dynamic library 'libnvinfer_plugin.so.7'; dlerror: libnvinfer_plugin.so.7: cannot open shared object file: No such file or directory\n",
      "2023-01-20 19:07:25.711032: W tensorflow/compiler/tf2tensorrt/utils/py_utils.cc:38] TF-TRT Warning: Cannot dlopen some TensorRT libraries. If you would like to use Nvidia GPU with TensorRT, please make sure the missing libraries mentioned above are installed properly.\n"
     ]
    },
    {
     "name": "stdout",
     "output_type": "stream",
     "text": [
      "\u001b[H\u001b[2J"
     ]
    }
   ],
   "source": [
    "from aug import *\n",
    "from functions import *\n",
    "from tqdm import tqdm\n",
    "\n",
    "import plotly.graph_objects as go\n",
    "\n",
    "import numpy as np\n",
    "import pandas as pd\n",
    "import pickle\n",
    "\n",
    "from scipy.spatial import distance\n",
    "\n",
    "from sklearn.manifold import TSNE\n",
    "from sklearn.metrics import accuracy_score\n",
    "from sklearn.utils import shuffle\n",
    "\n",
    "from keras import backend as K\n",
    "from keras.layers import Dense, Dropout, LSTM, Bidirectional\n",
    "from keras.models import Sequential, load_model, Model\n",
    "from keras.callbacks import EarlyStopping\n",
    "\n",
    "import os\n",
    "os.environ['TF_CPP_MIN_LOG_LEVEL'] = '3'  #get rid of warnings"
   ]
  },
  {
   "cell_type": "code",
   "execution_count": 46,
   "metadata": {},
   "outputs": [],
   "source": [
    "\n",
    "def plotly_tsne(df, df_name, method,annotations=False):    \n",
    "    df['normalized_distance'] = df['distance'].apply(lambda x: (x - df['distance'].min()) / (df['distance'].max() - df['distance'].min()))\n",
    "    df['standardized_x'] = df['x'].apply(lambda x: (x - df['x'].mean()) / df['x'].std())\n",
    "    df['standardized_y'] = df['y'].apply(lambda x: (x - df['y'].mean()) / df['y'].std())\n",
    "    df['is_original'] = df['label'].str.contains('original')\n",
    "    total_distance = df['normalized_distance'].sum()/2\n",
    "    fig = go.Figure()\n",
    "    for name, group in df.groupby(['label', 'is_original']):\n",
    "        if name[0].startswith('Pro'):\n",
    "            symbol = 'diamond'\n",
    "            color = 'red'\n",
    "            procon = 'Pro'\n",
    "        elif name[0].startswith('Con'):\n",
    "            symbol = 'circle'\n",
    "            color = 'blue'\n",
    "            procon = 'Con'\n",
    "        size = 60 if name[1] else 20\n",
    "        opacity = 0.3 if name[1] else 1\n",
    "        fig.add_trace(go.Scatter(x=group['standardized_x'], y=group['standardized_y'],\n",
    "                   mode='markers', marker=dict(size=size, color=color, symbol=symbol, opacity=opacity),\n",
    "                   name=f'{procon} ({\"Original\" if name[1] else \"Augmented\"})',\n",
    "                   text=group[['text','label','distance']].apply(lambda x: f'Text: {x[0]} <br> Label: {x[1]} <br> Distance: {x[2]:.5f}', axis=1),\n",
    "                   hovertemplate='%{text}'\n",
    "                   ))\n",
    "    annotations = []\n",
    "    if annotations:\n",
    "        for i, row in df.loc[df['normalized_distance'] < 0.1 ][:6].iterrows():\n",
    "            annotations.append(dict(x=row['standardized_x'], \n",
    "                                    y=row['standardized_y'], \n",
    "                                    text=row['text'], \n",
    "                                    showarrow=True, \n",
    "                                    arrowhead=1, \n",
    "                                    ax=10, \n",
    "                                    ay=10,\n",
    "                                    font=dict(size=10,\n",
    "                                        color='black',\n",
    "                                        family='Monospace')\n",
    "                                    ))\n",
    "        fig.update_layout(title=f'total distance: {total_distance:.4f}',\n",
    "                        annotations=annotations,\n",
    "                      showlegend=True,\n",
    "                      font=dict(family=\"Courier New, monospace\", size=50, color=\"black\"))\n",
    "    else:\n",
    "        fig.update_layout(title=f'total distance: {total_distance:.4f}',\n",
    "                      showlegend=True,\n",
    "                      font=dict(family=\"Courier New, monospace\", size=50, color=\"black\"))\n",
    "    filename = f'images/{df_name}_{method}.png'\n",
    "    # note that the image font and point size are set for the image to be saved with the below sizes. because of this, the image will look different when you open it in the browser\n",
    "    fig.write_image(filename, width=3000, height=1000, scale=2)\n",
    "    fig.show()\n",
    "\n",
    "\n",
    "\n",
    "\n",
    "\n",
    "def cal_distance(df,number_of_augmentation_per_sample):\n",
    "    dists = []\n",
    "    for i in range(0,len(df),number_of_augmentation_per_sample+1):\n",
    "        point_a = df[['x','y']].iloc[i]\n",
    "        point_b = df[['x','y']].iloc[i+1]\n",
    "        dist = distance.euclidean(point_a, point_b)\n",
    "        dists.append(dist)\n",
    "    dists = np.repeat(dists, 2)\n",
    "    return dists\n",
    "\n",
    "\n",
    "def train_x(train_txt, word2vec_len, input_size, word2vec):\n",
    "\n",
    "\t#read in lines\n",
    "\ttrain_lines = open(train_txt, 'r').readlines()\n",
    "\tnum_lines = len(train_lines)\n",
    "\n",
    "\tx_matrix = np.zeros((num_lines, input_size, word2vec_len))\n",
    "\n",
    "\t#insert values\n",
    "\tfor i, line in enumerate(train_lines):\n",
    "\n",
    "\t\tparts = line[:-1].split('\\t')\n",
    "\t\tlabel = int(parts[0])\n",
    "\t\tsentence = parts[1]\t\n",
    "\n",
    "\t\t#insert x\n",
    "\t\twords = sentence.split(' ')\n",
    "\t\twords = words[:x_matrix.shape[1]] #cut off if too long\n",
    "\t\tfor j, word in enumerate(words):\n",
    "\t\t\tif word in word2vec:\n",
    "\t\t\t\tx_matrix[i, j, :] = word2vec[word]\n",
    "\n",
    "\treturn x_matrix\n",
    "\n",
    "\n",
    "\n",
    "\n",
    "def get_plot_vectors(layer_output,perplexity=30,n_iter=1000,random_state=0,method='barnes_hut'):\n",
    "\n",
    "\ttsne = TSNE(n_components=2,perplexity=perplexity,n_iter=n_iter,random_state=random_state,method=method,).fit_transform(layer_output)\n",
    "\treturn tsne\n",
    "\n",
    "\n",
    "def one_hot_to_categorical(y):\n",
    "    assert len(y.shape) == 2\n",
    "    return np.argmax(y, axis=1)\n",
    "\n",
    "\n",
    "def get_tsne_labels(file,num_aug):\n",
    "\tlabels = []\n",
    "\talphas = []\n",
    "\tlines = open(file, 'r').readlines()\n",
    "\tfor i, line in enumerate(lines):\n",
    "\t\tparts = line[:-1].split('\\t')\n",
    "\t\t_class = int(parts[0])\n",
    "\t\talpha = i % (num_aug+1)\n",
    "\t\tif alpha == 0:\n",
    "\t\t\tlabels.append(_class+100)\n",
    "\t\t\talphas.append(alpha)\n",
    "\t\telse:\n",
    "\t\t\tlabels.append(_class)\n",
    "\t\t\talphas.append(alpha)\n",
    "\treturn labels, alphas\n",
    "\n",
    "\n",
    "def label_to_str_map(x):\n",
    "    if x == 0:\n",
    "        return 'Con (augmented)'\n",
    "    elif x == 1:\n",
    "        return 'Pro (augmented)'\n",
    "    elif x == 100:\n",
    "        return 'Con (original)'\n",
    "    elif x == 101:\n",
    "        return 'Pro (original)'\n",
    "\n",
    "# def label_to_color_map(x):\n",
    "#     if x == 100 or x == 0:\n",
    "#         return 'red'\n",
    "#     elif x == 1 or x == 101:\n",
    "#         return 'blue'\n",
    "\n",
    "# def label_to_size_map(x):\n",
    "#     if x >= 100:\n",
    "#         return 100\n",
    "#     elif x < 100:\n",
    "#         return 10\n",
    "\n",
    "# def label_to_symbol_map(x):\n",
    "#     if x == 0 or x == 100:\n",
    "#         return '^'\n",
    "#     elif x == 1 or x == 101:\n",
    "#         return 'o'\n",
    "        "
   ]
  },
  {
   "cell_type": "code",
   "execution_count": 47,
   "metadata": {},
   "outputs": [],
   "source": [
    "def run(dataset,method,):\n",
    "    dict_of_eda_augmented_datasets = {'pc':'data/pc/eda_augmenter_augmented.txt', 'cr':'data/cr/eda_augmenter_augmented.txt', 'subj':'data/subj/eda_augmenter_augmented.txt'}\n",
    "    dict_of_wordnet_augmented_datasets = {'pc':'data/pc/wordnet_augmenter_augmented.txt', 'cr':'data/cr/wordnet_augmenter_augmented.txt', 'subj':'data/subj/wordnet_augmenter_augmented.txt'}\n",
    "    dict_of_aeda_augmented_datasets = {'pc':'data/pc/aeda_augmenter_augmented.txt', 'cr':'data/cr/aeda_augmenter_augmented.txt', 'subj':'data/subj/aeda_augmenter_augmented.txt'}\n",
    "    dict_of_backtranslation_augmented_datasets = {'pc':'data/pc/backtranslation_augmenter_augmented.txt', 'cr':'data/cr/backtranslation_augmenter_augmented.txt', 'subj':'data/subj/backtranslation_augmenter_augmented.txt'}\n",
    "    dict_of_train_datasets = {'pc':'data/pc/train.txt','cr':'data/cr/train.txt','subj':'data/subj/train.txt'}\n",
    "    dict_of_test_datasets = {'pc':'data/pc/test.txt','cr':'data/cr/test.txt','subj':'data/subj/test.txt'}\n",
    "    dict_of_30_samples = {'pc':'data/pc/30_samples.txt','cr':'data/cr/30_samples.txt','subj':'data/subj/30_samples.txt'}\n",
    "    dict_of_models = {'pc':'models/pc_model.h5','cr':'models/cr_model.h5','subj':'models/subj_model.h5'}\n",
    "    \n",
    "    dict_of_aug_methods = {'eda':dict_of_eda_augmented_datasets,\n",
    "                                         'wordnet':dict_of_wordnet_augmented_datasets,\n",
    "                                          'aeda':dict_of_aeda_augmented_datasets,\n",
    "                                           'backtranslation':dict_of_backtranslation_augmented_datasets}\n",
    "\n",
    "    dict_of_word2vec_files = {'pc':pickle.load(open('data/pc/word2vec.p', 'rb')),\n",
    "                        'cr':pickle.load(open('data/cr/word2vec.p', 'rb')),\n",
    "                        'subj':pickle.load(open('data/subj/word2vec.p', 'rb'))}\n",
    "\n",
    "    word2vec = dict_of_word2vec_files[dataset]\n",
    "    word2vec_len = 300\n",
    "    input_size = 25\n",
    "    augmented_file = dict_of_aug_methods[method][dataset]\n",
    "    labels, _ = get_tsne_labels(augmented_file,1)\n",
    "\n",
    "    labels_str = list(map(label_to_str_map,labels))\n",
    "    # labels_color = list(map(label_to_color_map,labels))\n",
    "    # labels_size = list(map(label_to_size_map,labels))\n",
    "    # labels_symbol = list(map(label_to_symbol_map,labels))\n",
    "\n",
    "    model = load_model(dict_of_models[dataset])\n",
    "    intermediate_layer_model = Model(inputs=model.input, outputs=model.get_layer(model.layers[4].name).output)\n",
    "    X = train_x(augmented_file, word2vec_len, input_size, word2vec)\n",
    "    layer_output = intermediate_layer_model.predict(X)\n",
    "\n",
    "    t = get_plot_vectors(layer_output,perplexity=30,n_iter=5000,random_state=10,method='exact')\n",
    "    \n",
    "    \n",
    "    df = pd.DataFrame(t,columns=['x','y'])\n",
    "    df_text = load_data(augmented_file)\n",
    "    \n",
    "    df['distance'] = cal_distance(df,1)\n",
    "    df['text'] = df_text['text']\n",
    "    df['label'] = labels_str\n",
    "    # df['color'] = labels_color\n",
    "    # df['size'] = labels_size\n",
    "    # df['symbol'] = labels_symbol\n",
    "\n",
    "    plotly_tsne(df, dataset, method)\n",
    "    return df\n",
    "    "
   ]
  },
  {
   "cell_type": "code",
   "execution_count": 48,
   "metadata": {},
   "outputs": [
    {
     "name": "stdout",
     "output_type": "stream",
     "text": [
      "2/2 [==============================] - 1s 4ms/step\n"
     ]
    },
    {
     "data": {
      "application/vnd.plotly.v1+json": {
       "config": {
        "plotlyServerURL": "https://plot.ly"
       },
       "data": [
        {
         "hovertemplate": "%{text}",
         "marker": {
          "color": "blue",
          "opacity": 1,
          "size": 20,
          "symbol": "circle"
         },
         "mode": "markers",
         "name": "Con (Augmented)",
         "text": [
          "Text: Software / Controller Problems <br> Label: Con (augmented) <br> Distance: 0.44865",
          "Text: Sometimes there's more than one pedal of paper per vehicle. <br> Label: Con (augmented) <br> Distance: 0.15102",
          "Text: A little noisy. <br> Label: Con (augmented) <br> Distance: 0.00000",
          "Text: Ink stains and ink stains <br> Label: Con (augmented) <br> Distance: 0.73346",
          "Text: It doesn't bend very tightly. <br> Label: Con (augmented) <br> Distance: 1.71583",
          "Text: Covering the door, the antenna when it extends, takes a while to find the addol. <br> Label: Con (augmented) <br> Distance: 1.01569",
          "Text: Pixal Pixal Pixal Pixal Pixal Pixal Pixal Pixal Pixal Pixal Pixal Pixal Pixal Pixal Pixal Pixal Pixal Pixal Pixal Pixal Pixal Pixal Pixal Pixal Pixal Pixal Pixal Pixal Pixal Pixal Pixal Pixal Pixal Pixal Pixal Pixal Pixal Pixal Pixal Pixal Pixal Pixal Pixal Pixal Pixal Pixal Pixal Pixal Pixal Pixal Pixal Pixal Pixal Pixal Pixal Pixal Pixal Pixal Pixal Pixal Pixal Pixal Pixal Pixal Pixal Pixal Pixal <br> Label: Con (augmented) <br> Distance: 1.78331",
          "Text: There is no rear light during the night. <br> Label: Con (augmented) <br> Distance: 0.43775",
          "Text: The long-lived battery is terrible. <br> Label: Con (augmented) <br> Distance: 2.41187",
          "Text: Lighting changes path to LCD, view and page <br> Label: Con (augmented) <br> Distance: 2.29988",
          "Text: Slow flash load in the NiMH cartridge. 8MB. <br> Label: Con (augmented) <br> Distance: 0.06600",
          "Text: The new thing is that it is difficult, that it can complete, that it can fill. <br> Label: Con (augmented) <br> Distance: 2.82543",
          "Text: Functions did not work as well as individual elements (separate fax, etc.) <br> Label: Con (augmented) <br> Distance: 0.51016",
          "Text: Sh_t images most of the time, the viewfinder is not required <br> Label: Con (augmented) <br> Distance: 0.33184",
          "Text: No zoom and USB optics, no big low lights <br> Label: Con (augmented) <br> Distance: 0.09173"
         ],
         "type": "scatter",
         "x": [
          -0.8446031939718861,
          -0.7586769279042019,
          -0.5813373340936062,
          -0.803197068331438,
          0.007816253723188797,
          -0.7494829624403475,
          -0.003994781457476173,
          -0.8492841247771132,
          -0.3586520072534805,
          0.07825721964898696,
          -1.317065175357433,
          -0.045239387335034006,
          -0.9680861995331019,
          -1.0366283793113413,
          -1.3853312898323287
         ],
         "y": [
          -1.0641501746879414,
          -0.7629351308720629,
          -0.5814499904532858,
          -0.982343041707291,
          0.007520820403888083,
          -0.8216680967073429,
          -0.0043755858968817386,
          -1.0253824610700795,
          -0.36071990330373765,
          0.07828798122544517,
          -1.3462146431719346,
          -0.0458182775511452,
          -1.1829191482053254,
          -0.8699890394897448,
          -1.2709838676432461
         ]
        },
        {
         "hovertemplate": "%{text}",
         "marker": {
          "color": "blue",
          "opacity": 0.3,
          "size": 60,
          "symbol": "circle"
         },
         "mode": "markers",
         "name": "Con (Original)",
         "text": [
          "Text: Software / driver problems <br> Label: Con (original) <br> Distance: 0.44865",
          "Text: Sometimes more than one sheet of paper is pulled through at a time <br> Label: Con (original) <br> Distance: 0.15102",
          "Text: A little noisy.  <br> Label: Con (original) <br> Distance: 0.00000",
          "Text: Ink smears and ink blots <br> Label: Con (original) <br> Distance: 0.73346",
          "Text: Does not fold very compact. <br> Label: Con (original) <br> Distance: 1.71583",
          "Text: Port cover, antenna when extended, takes a bit to find sweet spot. <br> Label: Con (original) <br> Distance: 1.01569",
          "Text: could do with more pixals <br> Label: Con (original) <br> Distance: 1.78331",
          "Text: No Back-light at night. <br> Label: Con (original) <br> Distance: 0.43775",
          "Text: Battery life is terrible <br> Label: Con (original) <br> Distance: 2.41187",
          "Text: Brightness varies too much on LCD, video out, and computer <br> Label: Con (original) <br> Distance: 2.29988",
          "Text: Flash recharges slowly with NiMH. Small 8MB card. <br> Label: Con (original) <br> Distance: 0.06600",
          "Text: so new that it's hard to find or get accessories for <br> Label: Con (original) <br> Distance: 2.82543",
          "Text: Functions don't work as well as if individual items (separate fax, etc) <br> Label: Con (original) <br> Distance: 0.51016",
          "Text: sh_t pictures most of the time, viewfinder not accurate <br> Label: Con (original) <br> Distance: 0.33184",
          "Text: No USB and no optical zoom, not great in low light <br> Label: Con (original) <br> Distance: 0.09173"
         ],
         "type": "scatter",
         "x": [
          -1.0302103426778702,
          -0.8275293026942744,
          -0.5813372423470781,
          -1.3307637577359526,
          -0.637678154555284,
          -1.0363588280114995,
          -0.6767815226162073,
          -1.005044728726159,
          -1.3992579540799452,
          -0.6950946801234358,
          -1.275389498417143,
          -0.9454508172092633,
          -1.3032645708395587,
          -1.2022634785971404,
          -1.3389549795198812
         ],
         "y": [
          -1.2269504306486358,
          -0.8152947287671278,
          -0.5814498878556048,
          -1.0946171203313824,
          -0.6366235349435903,
          -1.2282489581974982,
          -0.6732557291314522,
          -0.858350768954229,
          -1.2201850882683758,
          -0.8119524041150288,
          -1.3299798939324654,
          -1.1525935308673845,
          -1.0685832665849921,
          -0.978684613600205,
          -1.3007433509777404
         ]
        },
        {
         "hovertemplate": "%{text}",
         "marker": {
          "color": "red",
          "opacity": 1,
          "size": 20,
          "symbol": "diamond"
         },
         "mode": "markers",
         "name": "Pro (Augmented)",
         "text": [
          "Text: Small and sufficient features &#13;&#10; <br> Label: Pro (augmented) <br> Distance: 2.69634",
          "Text: It's a board. <br> Label: Pro (augmented) <br> Distance: 1.36795",
          "Text: 5 MP, manual features, construction, quality photos, software interface, fast charger. <br> Label: Pro (augmented) <br> Distance: 0.15320",
          "Text: Instant photography, easy to transport, without downloading <br> Label: Pro (augmented) <br> Distance: 0.33855",
          "Text: Large images <br> Label: Pro (augmented) <br> Distance: 3.50675",
          "Text: Ergonomic shape, low cost sonar, strong, various accessories included, fm tuner, minibrowser <br> Label: Pro (augmented) <br> Distance: 0.07602",
          "Text: Excellent quality prints., Easy to install. <br> Label: Pro (augmented) <br> Distance: 0.00000",
          "Text: Hurry up, maureye. <br> Label: Pro (augmented) <br> Distance: 0.09108",
          "Text: Fabulous image quality, very fast operation <br> Label: Pro (augmented) <br> Distance: 0.38217",
          "Text: Large images <br> Label: Pro (augmented) <br> Distance: 3.29752",
          "Text: A large and tiny printer solidly built. <br> Label: Pro (augmented) <br> Distance: 5.67937",
          "Text: The first large digital camera, arrived at the anchovy, car, good price, great quality. <br> Label: Pro (augmented) <br> Distance: 0.75294",
          "Text: ...small. <br> Label: Pro (augmented) <br> Distance: 0.00000",
          "Text: Easy to use, battery life, variety of sonars and acquired facets. <br> Label: Pro (augmented) <br> Distance: 0.58038",
          "Text: Quality LCD screen, no filling lake, excellent photos, fantastic movies. <br> Label: Pro (augmented) <br> Distance: 0.64014"
         ],
         "type": "scatter",
         "x": [
          1.0376966300123995,
          0.31259592672938763,
          1.4310887698120893,
          1.473451444755516,
          0.0487457561496551,
          1.0261924410952885,
          1.415088358787643,
          -0.003994873204004369,
          1.063288773573697,
          0.0487457561496551,
          -1.0673950270629322,
          1.2184416026467038,
          -0.003995240190117156,
          1.0610660304350759,
          1.1629355035668756
         ],
         "y": [
          1.0467801308099913,
          0.31396839724672965,
          1.2342546160492116,
          1.3239321710315652,
          0.04876324138494968,
          1.0359490988281395,
          1.4304139949803059,
          -0.0043757910922436255,
          1.241917021252802,
          0.04876324138494968,
          -0.8801700125651379,
          1.105113273482634,
          -0.0043757910922436255,
          1.2473544931474496,
          1.355740530054503
         ]
        },
        {
         "hovertemplate": "%{text}",
         "marker": {
          "color": "red",
          "opacity": 0.3,
          "size": 60,
          "symbol": "diamond"
         },
         "mode": "markers",
         "name": "Pro (Original)",
         "text": [
          "Text: small, enough features &#13;&#10; <br> Label: Pro (original) <br> Distance: 2.69634",
          "Text: It's cheap <br> Label: Pro (original) <br> Distance: 1.36795",
          "Text: 5 MP, manual features, construction, quality pictures, software interface, quick charger. <br> Label: Pro (original) <br> Distance: 0.15320",
          "Text: instant photos, ease of carrying, no downloading <br> Label: Pro (original) <br> Distance: 0.33855",
          "Text: Great picture photos <br> Label: Pro (original) <br> Distance: 3.50675",
          "Text: egronomic shape, inexpensive, loud ringer, several accessories included, fm tuner, minibrowser <br> Label: Pro (original) <br> Distance: 0.07602",
          "Text: Excellent quality prints., Easy to install. <br> Label: Pro (original) <br> Distance: 0.00000",
          "Text: speed, clarity <br> Label: Pro (original) <br> Distance: 0.09108",
          "Text: fabulous picture quality, very quick operation <br> Label: Pro (original) <br> Distance: 0.38217",
          "Text: Great Pictures <br> Label: Pro (original) <br> Distance: 3.29752",
          "Text: A solidly built  great little printer. <br> Label: Pro (original) <br> Distance: 5.67937",
          "Text: Buy it! Great first digital camera, Comes with docking station, charger, fair price, great quality. <br> Label: Pro (original) <br> Distance: 0.75294",
          "Text: ...small <br> Label: Pro (original) <br> Distance: 0.00000",
          "Text: Easy to use, great battery life, variety of ringtones and faceplates to buy. <br> Label: Pro (original) <br> Distance: 0.58038",
          "Text: Quality LCD Screen, no shutter lag, excellent pictures, fantastic movies. <br> Label: Pro (original) <br> Distance: 0.64014"
         ],
         "type": "scatter",
         "x": [
          0.032002427613136084,
          0.8234820651593018,
          1.3713946252131386,
          1.3817548266701654,
          1.4751909589301253,
          1.0546690037565616,
          1.4150889092668122,
          0.030070796208482974,
          1.0781409767977617,
          1.1252084137071148,
          1.0659088709259381,
          1.3415030558474879,
          -0.003994781457476173,
          1.3791545465680146,
          1.1073583926742232
         ],
         "y": [
          0.03183893313185885,
          0.8286800326137508,
          1.1774003163496893,
          1.1875652841868554,
          1.3298128649078893,
          1.06452624648744,
          1.4304144053710297,
          0.029880343402645934,
          1.0776694198070362,
          1.3337989900079092,
          1.2529594044573973,
          1.4217303324606032,
          -0.0043755858968817386,
          1.4226931090985777,
          1.0820292056610528
         ]
        }
       ],
       "layout": {
        "font": {
         "color": "black",
         "family": "Courier New, monospace",
         "size": 50
        },
        "showlegend": true,
        "template": {
         "data": {
          "bar": [
           {
            "error_x": {
             "color": "#2a3f5f"
            },
            "error_y": {
             "color": "#2a3f5f"
            },
            "marker": {
             "line": {
              "color": "#E5ECF6",
              "width": 0.5
             },
             "pattern": {
              "fillmode": "overlay",
              "size": 10,
              "solidity": 0.2
             }
            },
            "type": "bar"
           }
          ],
          "barpolar": [
           {
            "marker": {
             "line": {
              "color": "#E5ECF6",
              "width": 0.5
             },
             "pattern": {
              "fillmode": "overlay",
              "size": 10,
              "solidity": 0.2
             }
            },
            "type": "barpolar"
           }
          ],
          "carpet": [
           {
            "aaxis": {
             "endlinecolor": "#2a3f5f",
             "gridcolor": "white",
             "linecolor": "white",
             "minorgridcolor": "white",
             "startlinecolor": "#2a3f5f"
            },
            "baxis": {
             "endlinecolor": "#2a3f5f",
             "gridcolor": "white",
             "linecolor": "white",
             "minorgridcolor": "white",
             "startlinecolor": "#2a3f5f"
            },
            "type": "carpet"
           }
          ],
          "choropleth": [
           {
            "colorbar": {
             "outlinewidth": 0,
             "ticks": ""
            },
            "type": "choropleth"
           }
          ],
          "contour": [
           {
            "colorbar": {
             "outlinewidth": 0,
             "ticks": ""
            },
            "colorscale": [
             [
              0,
              "#0d0887"
             ],
             [
              0.1111111111111111,
              "#46039f"
             ],
             [
              0.2222222222222222,
              "#7201a8"
             ],
             [
              0.3333333333333333,
              "#9c179e"
             ],
             [
              0.4444444444444444,
              "#bd3786"
             ],
             [
              0.5555555555555556,
              "#d8576b"
             ],
             [
              0.6666666666666666,
              "#ed7953"
             ],
             [
              0.7777777777777778,
              "#fb9f3a"
             ],
             [
              0.8888888888888888,
              "#fdca26"
             ],
             [
              1,
              "#f0f921"
             ]
            ],
            "type": "contour"
           }
          ],
          "contourcarpet": [
           {
            "colorbar": {
             "outlinewidth": 0,
             "ticks": ""
            },
            "type": "contourcarpet"
           }
          ],
          "heatmap": [
           {
            "colorbar": {
             "outlinewidth": 0,
             "ticks": ""
            },
            "colorscale": [
             [
              0,
              "#0d0887"
             ],
             [
              0.1111111111111111,
              "#46039f"
             ],
             [
              0.2222222222222222,
              "#7201a8"
             ],
             [
              0.3333333333333333,
              "#9c179e"
             ],
             [
              0.4444444444444444,
              "#bd3786"
             ],
             [
              0.5555555555555556,
              "#d8576b"
             ],
             [
              0.6666666666666666,
              "#ed7953"
             ],
             [
              0.7777777777777778,
              "#fb9f3a"
             ],
             [
              0.8888888888888888,
              "#fdca26"
             ],
             [
              1,
              "#f0f921"
             ]
            ],
            "type": "heatmap"
           }
          ],
          "heatmapgl": [
           {
            "colorbar": {
             "outlinewidth": 0,
             "ticks": ""
            },
            "colorscale": [
             [
              0,
              "#0d0887"
             ],
             [
              0.1111111111111111,
              "#46039f"
             ],
             [
              0.2222222222222222,
              "#7201a8"
             ],
             [
              0.3333333333333333,
              "#9c179e"
             ],
             [
              0.4444444444444444,
              "#bd3786"
             ],
             [
              0.5555555555555556,
              "#d8576b"
             ],
             [
              0.6666666666666666,
              "#ed7953"
             ],
             [
              0.7777777777777778,
              "#fb9f3a"
             ],
             [
              0.8888888888888888,
              "#fdca26"
             ],
             [
              1,
              "#f0f921"
             ]
            ],
            "type": "heatmapgl"
           }
          ],
          "histogram": [
           {
            "marker": {
             "pattern": {
              "fillmode": "overlay",
              "size": 10,
              "solidity": 0.2
             }
            },
            "type": "histogram"
           }
          ],
          "histogram2d": [
           {
            "colorbar": {
             "outlinewidth": 0,
             "ticks": ""
            },
            "colorscale": [
             [
              0,
              "#0d0887"
             ],
             [
              0.1111111111111111,
              "#46039f"
             ],
             [
              0.2222222222222222,
              "#7201a8"
             ],
             [
              0.3333333333333333,
              "#9c179e"
             ],
             [
              0.4444444444444444,
              "#bd3786"
             ],
             [
              0.5555555555555556,
              "#d8576b"
             ],
             [
              0.6666666666666666,
              "#ed7953"
             ],
             [
              0.7777777777777778,
              "#fb9f3a"
             ],
             [
              0.8888888888888888,
              "#fdca26"
             ],
             [
              1,
              "#f0f921"
             ]
            ],
            "type": "histogram2d"
           }
          ],
          "histogram2dcontour": [
           {
            "colorbar": {
             "outlinewidth": 0,
             "ticks": ""
            },
            "colorscale": [
             [
              0,
              "#0d0887"
             ],
             [
              0.1111111111111111,
              "#46039f"
             ],
             [
              0.2222222222222222,
              "#7201a8"
             ],
             [
              0.3333333333333333,
              "#9c179e"
             ],
             [
              0.4444444444444444,
              "#bd3786"
             ],
             [
              0.5555555555555556,
              "#d8576b"
             ],
             [
              0.6666666666666666,
              "#ed7953"
             ],
             [
              0.7777777777777778,
              "#fb9f3a"
             ],
             [
              0.8888888888888888,
              "#fdca26"
             ],
             [
              1,
              "#f0f921"
             ]
            ],
            "type": "histogram2dcontour"
           }
          ],
          "mesh3d": [
           {
            "colorbar": {
             "outlinewidth": 0,
             "ticks": ""
            },
            "type": "mesh3d"
           }
          ],
          "parcoords": [
           {
            "line": {
             "colorbar": {
              "outlinewidth": 0,
              "ticks": ""
             }
            },
            "type": "parcoords"
           }
          ],
          "pie": [
           {
            "automargin": true,
            "type": "pie"
           }
          ],
          "scatter": [
           {
            "fillpattern": {
             "fillmode": "overlay",
             "size": 10,
             "solidity": 0.2
            },
            "type": "scatter"
           }
          ],
          "scatter3d": [
           {
            "line": {
             "colorbar": {
              "outlinewidth": 0,
              "ticks": ""
             }
            },
            "marker": {
             "colorbar": {
              "outlinewidth": 0,
              "ticks": ""
             }
            },
            "type": "scatter3d"
           }
          ],
          "scattercarpet": [
           {
            "marker": {
             "colorbar": {
              "outlinewidth": 0,
              "ticks": ""
             }
            },
            "type": "scattercarpet"
           }
          ],
          "scattergeo": [
           {
            "marker": {
             "colorbar": {
              "outlinewidth": 0,
              "ticks": ""
             }
            },
            "type": "scattergeo"
           }
          ],
          "scattergl": [
           {
            "marker": {
             "colorbar": {
              "outlinewidth": 0,
              "ticks": ""
             }
            },
            "type": "scattergl"
           }
          ],
          "scattermapbox": [
           {
            "marker": {
             "colorbar": {
              "outlinewidth": 0,
              "ticks": ""
             }
            },
            "type": "scattermapbox"
           }
          ],
          "scatterpolar": [
           {
            "marker": {
             "colorbar": {
              "outlinewidth": 0,
              "ticks": ""
             }
            },
            "type": "scatterpolar"
           }
          ],
          "scatterpolargl": [
           {
            "marker": {
             "colorbar": {
              "outlinewidth": 0,
              "ticks": ""
             }
            },
            "type": "scatterpolargl"
           }
          ],
          "scatterternary": [
           {
            "marker": {
             "colorbar": {
              "outlinewidth": 0,
              "ticks": ""
             }
            },
            "type": "scatterternary"
           }
          ],
          "surface": [
           {
            "colorbar": {
             "outlinewidth": 0,
             "ticks": ""
            },
            "colorscale": [
             [
              0,
              "#0d0887"
             ],
             [
              0.1111111111111111,
              "#46039f"
             ],
             [
              0.2222222222222222,
              "#7201a8"
             ],
             [
              0.3333333333333333,
              "#9c179e"
             ],
             [
              0.4444444444444444,
              "#bd3786"
             ],
             [
              0.5555555555555556,
              "#d8576b"
             ],
             [
              0.6666666666666666,
              "#ed7953"
             ],
             [
              0.7777777777777778,
              "#fb9f3a"
             ],
             [
              0.8888888888888888,
              "#fdca26"
             ],
             [
              1,
              "#f0f921"
             ]
            ],
            "type": "surface"
           }
          ],
          "table": [
           {
            "cells": {
             "fill": {
              "color": "#EBF0F8"
             },
             "line": {
              "color": "white"
             }
            },
            "header": {
             "fill": {
              "color": "#C8D4E3"
             },
             "line": {
              "color": "white"
             }
            },
            "type": "table"
           }
          ]
         },
         "layout": {
          "annotationdefaults": {
           "arrowcolor": "#2a3f5f",
           "arrowhead": 0,
           "arrowwidth": 1
          },
          "autotypenumbers": "strict",
          "coloraxis": {
           "colorbar": {
            "outlinewidth": 0,
            "ticks": ""
           }
          },
          "colorscale": {
           "diverging": [
            [
             0,
             "#8e0152"
            ],
            [
             0.1,
             "#c51b7d"
            ],
            [
             0.2,
             "#de77ae"
            ],
            [
             0.3,
             "#f1b6da"
            ],
            [
             0.4,
             "#fde0ef"
            ],
            [
             0.5,
             "#f7f7f7"
            ],
            [
             0.6,
             "#e6f5d0"
            ],
            [
             0.7,
             "#b8e186"
            ],
            [
             0.8,
             "#7fbc41"
            ],
            [
             0.9,
             "#4d9221"
            ],
            [
             1,
             "#276419"
            ]
           ],
           "sequential": [
            [
             0,
             "#0d0887"
            ],
            [
             0.1111111111111111,
             "#46039f"
            ],
            [
             0.2222222222222222,
             "#7201a8"
            ],
            [
             0.3333333333333333,
             "#9c179e"
            ],
            [
             0.4444444444444444,
             "#bd3786"
            ],
            [
             0.5555555555555556,
             "#d8576b"
            ],
            [
             0.6666666666666666,
             "#ed7953"
            ],
            [
             0.7777777777777778,
             "#fb9f3a"
            ],
            [
             0.8888888888888888,
             "#fdca26"
            ],
            [
             1,
             "#f0f921"
            ]
           ],
           "sequentialminus": [
            [
             0,
             "#0d0887"
            ],
            [
             0.1111111111111111,
             "#46039f"
            ],
            [
             0.2222222222222222,
             "#7201a8"
            ],
            [
             0.3333333333333333,
             "#9c179e"
            ],
            [
             0.4444444444444444,
             "#bd3786"
            ],
            [
             0.5555555555555556,
             "#d8576b"
            ],
            [
             0.6666666666666666,
             "#ed7953"
            ],
            [
             0.7777777777777778,
             "#fb9f3a"
            ],
            [
             0.8888888888888888,
             "#fdca26"
            ],
            [
             1,
             "#f0f921"
            ]
           ]
          },
          "colorway": [
           "#636efa",
           "#EF553B",
           "#00cc96",
           "#ab63fa",
           "#FFA15A",
           "#19d3f3",
           "#FF6692",
           "#B6E880",
           "#FF97FF",
           "#FECB52"
          ],
          "font": {
           "color": "#2a3f5f"
          },
          "geo": {
           "bgcolor": "white",
           "lakecolor": "white",
           "landcolor": "#E5ECF6",
           "showlakes": true,
           "showland": true,
           "subunitcolor": "white"
          },
          "hoverlabel": {
           "align": "left"
          },
          "hovermode": "closest",
          "mapbox": {
           "style": "light"
          },
          "paper_bgcolor": "white",
          "plot_bgcolor": "#E5ECF6",
          "polar": {
           "angularaxis": {
            "gridcolor": "white",
            "linecolor": "white",
            "ticks": ""
           },
           "bgcolor": "#E5ECF6",
           "radialaxis": {
            "gridcolor": "white",
            "linecolor": "white",
            "ticks": ""
           }
          },
          "scene": {
           "xaxis": {
            "backgroundcolor": "#E5ECF6",
            "gridcolor": "white",
            "gridwidth": 2,
            "linecolor": "white",
            "showbackground": true,
            "ticks": "",
            "zerolinecolor": "white"
           },
           "yaxis": {
            "backgroundcolor": "#E5ECF6",
            "gridcolor": "white",
            "gridwidth": 2,
            "linecolor": "white",
            "showbackground": true,
            "ticks": "",
            "zerolinecolor": "white"
           },
           "zaxis": {
            "backgroundcolor": "#E5ECF6",
            "gridcolor": "white",
            "gridwidth": 2,
            "linecolor": "white",
            "showbackground": true,
            "ticks": "",
            "zerolinecolor": "white"
           }
          },
          "shapedefaults": {
           "line": {
            "color": "#2a3f5f"
           }
          },
          "ternary": {
           "aaxis": {
            "gridcolor": "white",
            "linecolor": "white",
            "ticks": ""
           },
           "baxis": {
            "gridcolor": "white",
            "linecolor": "white",
            "ticks": ""
           },
           "bgcolor": "#E5ECF6",
           "caxis": {
            "gridcolor": "white",
            "linecolor": "white",
            "ticks": ""
           }
          },
          "title": {
           "x": 0.05
          },
          "xaxis": {
           "automargin": true,
           "gridcolor": "white",
           "linecolor": "white",
           "ticks": "",
           "title": {
            "standoff": 15
           },
           "zerolinecolor": "white",
           "zerolinewidth": 2
          },
          "yaxis": {
           "automargin": true,
           "gridcolor": "white",
           "linecolor": "white",
           "ticks": "",
           "title": {
            "standoff": 15
           },
           "zerolinecolor": "white",
           "zerolinewidth": 2
          }
         }
        },
        "title": {
         "text": "total distance: 6.0544"
        }
       }
      },
      "text/html": [
       "<div>                            <div id=\"e91d11fd-0add-429e-9e19-4919860ac7e8\" class=\"plotly-graph-div\" style=\"height:525px; width:100%;\"></div>            <script type=\"text/javascript\">                require([\"plotly\"], function(Plotly) {                    window.PLOTLYENV=window.PLOTLYENV || {};                                    if (document.getElementById(\"e91d11fd-0add-429e-9e19-4919860ac7e8\")) {                    Plotly.newPlot(                        \"e91d11fd-0add-429e-9e19-4919860ac7e8\",                        [{\"hovertemplate\":\"%{text}\",\"marker\":{\"color\":\"blue\",\"opacity\":1,\"size\":20,\"symbol\":\"circle\"},\"mode\":\"markers\",\"name\":\"Con (Augmented)\",\"text\":[\"Text: Software / Controller Problems <br> Label: Con (augmented) <br> Distance: 0.44865\",\"Text: Sometimes there's more than one pedal of paper per vehicle. <br> Label: Con (augmented) <br> Distance: 0.15102\",\"Text: A little noisy. <br> Label: Con (augmented) <br> Distance: 0.00000\",\"Text: Ink stains and ink stains <br> Label: Con (augmented) <br> Distance: 0.73346\",\"Text: It doesn't bend very tightly. <br> Label: Con (augmented) <br> Distance: 1.71583\",\"Text: Covering the door, the antenna when it extends, takes a while to find the addol. <br> Label: Con (augmented) <br> Distance: 1.01569\",\"Text: Pixal Pixal Pixal Pixal Pixal Pixal Pixal Pixal Pixal Pixal Pixal Pixal Pixal Pixal Pixal Pixal Pixal Pixal Pixal Pixal Pixal Pixal Pixal Pixal Pixal Pixal Pixal Pixal Pixal Pixal Pixal Pixal Pixal Pixal Pixal Pixal Pixal Pixal Pixal Pixal Pixal Pixal Pixal Pixal Pixal Pixal Pixal Pixal Pixal Pixal Pixal Pixal Pixal Pixal Pixal Pixal Pixal Pixal Pixal Pixal Pixal Pixal Pixal Pixal Pixal Pixal Pixal <br> Label: Con (augmented) <br> Distance: 1.78331\",\"Text: There is no rear light during the night. <br> Label: Con (augmented) <br> Distance: 0.43775\",\"Text: The long-lived battery is terrible. <br> Label: Con (augmented) <br> Distance: 2.41187\",\"Text: Lighting changes path to LCD, view and page <br> Label: Con (augmented) <br> Distance: 2.29988\",\"Text: Slow flash load in the NiMH cartridge. 8MB. <br> Label: Con (augmented) <br> Distance: 0.06600\",\"Text: The new thing is that it is difficult, that it can complete, that it can fill. <br> Label: Con (augmented) <br> Distance: 2.82543\",\"Text: Functions did not work as well as individual elements (separate fax, etc.) <br> Label: Con (augmented) <br> Distance: 0.51016\",\"Text: Sh_t images most of the time, the viewfinder is not required <br> Label: Con (augmented) <br> Distance: 0.33184\",\"Text: No zoom and USB optics, no big low lights <br> Label: Con (augmented) <br> Distance: 0.09173\"],\"x\":[-0.8446031939718861,-0.7586769279042019,-0.5813373340936062,-0.803197068331438,0.007816253723188797,-0.7494829624403475,-0.003994781457476173,-0.8492841247771132,-0.3586520072534805,0.07825721964898696,-1.317065175357433,-0.045239387335034006,-0.9680861995331019,-1.0366283793113413,-1.3853312898323287],\"y\":[-1.0641501746879414,-0.7629351308720629,-0.5814499904532858,-0.982343041707291,0.007520820403888083,-0.8216680967073429,-0.0043755858968817386,-1.0253824610700795,-0.36071990330373765,0.07828798122544517,-1.3462146431719346,-0.0458182775511452,-1.1829191482053254,-0.8699890394897448,-1.2709838676432461],\"type\":\"scatter\"},{\"hovertemplate\":\"%{text}\",\"marker\":{\"color\":\"blue\",\"opacity\":0.3,\"size\":60,\"symbol\":\"circle\"},\"mode\":\"markers\",\"name\":\"Con (Original)\",\"text\":[\"Text: Software / driver problems <br> Label: Con (original) <br> Distance: 0.44865\",\"Text: Sometimes more than one sheet of paper is pulled through at a time <br> Label: Con (original) <br> Distance: 0.15102\",\"Text: A little noisy.  <br> Label: Con (original) <br> Distance: 0.00000\",\"Text: Ink smears and ink blots <br> Label: Con (original) <br> Distance: 0.73346\",\"Text: Does not fold very compact. <br> Label: Con (original) <br> Distance: 1.71583\",\"Text: Port cover, antenna when extended, takes a bit to find sweet spot. <br> Label: Con (original) <br> Distance: 1.01569\",\"Text: could do with more pixals <br> Label: Con (original) <br> Distance: 1.78331\",\"Text: No Back-light at night. <br> Label: Con (original) <br> Distance: 0.43775\",\"Text: Battery life is terrible <br> Label: Con (original) <br> Distance: 2.41187\",\"Text: Brightness varies too much on LCD, video out, and computer <br> Label: Con (original) <br> Distance: 2.29988\",\"Text: Flash recharges slowly with NiMH. Small 8MB card. <br> Label: Con (original) <br> Distance: 0.06600\",\"Text: so new that it's hard to find or get accessories for <br> Label: Con (original) <br> Distance: 2.82543\",\"Text: Functions don't work as well as if individual items (separate fax, etc) <br> Label: Con (original) <br> Distance: 0.51016\",\"Text: sh_t pictures most of the time, viewfinder not accurate <br> Label: Con (original) <br> Distance: 0.33184\",\"Text: No USB and no optical zoom, not great in low light <br> Label: Con (original) <br> Distance: 0.09173\"],\"x\":[-1.0302103426778702,-0.8275293026942744,-0.5813372423470781,-1.3307637577359526,-0.637678154555284,-1.0363588280114995,-0.6767815226162073,-1.005044728726159,-1.3992579540799452,-0.6950946801234358,-1.275389498417143,-0.9454508172092633,-1.3032645708395587,-1.2022634785971404,-1.3389549795198812],\"y\":[-1.2269504306486358,-0.8152947287671278,-0.5814498878556048,-1.0946171203313824,-0.6366235349435903,-1.2282489581974982,-0.6732557291314522,-0.858350768954229,-1.2201850882683758,-0.8119524041150288,-1.3299798939324654,-1.1525935308673845,-1.0685832665849921,-0.978684613600205,-1.3007433509777404],\"type\":\"scatter\"},{\"hovertemplate\":\"%{text}\",\"marker\":{\"color\":\"red\",\"opacity\":1,\"size\":20,\"symbol\":\"diamond\"},\"mode\":\"markers\",\"name\":\"Pro (Augmented)\",\"text\":[\"Text: Small and sufficient features &#13;&#10; <br> Label: Pro (augmented) <br> Distance: 2.69634\",\"Text: It's a board. <br> Label: Pro (augmented) <br> Distance: 1.36795\",\"Text: 5 MP, manual features, construction, quality photos, software interface, fast charger. <br> Label: Pro (augmented) <br> Distance: 0.15320\",\"Text: Instant photography, easy to transport, without downloading <br> Label: Pro (augmented) <br> Distance: 0.33855\",\"Text: Large images <br> Label: Pro (augmented) <br> Distance: 3.50675\",\"Text: Ergonomic shape, low cost sonar, strong, various accessories included, fm tuner, minibrowser <br> Label: Pro (augmented) <br> Distance: 0.07602\",\"Text: Excellent quality prints., Easy to install. <br> Label: Pro (augmented) <br> Distance: 0.00000\",\"Text: Hurry up, maureye. <br> Label: Pro (augmented) <br> Distance: 0.09108\",\"Text: Fabulous image quality, very fast operation <br> Label: Pro (augmented) <br> Distance: 0.38217\",\"Text: Large images <br> Label: Pro (augmented) <br> Distance: 3.29752\",\"Text: A large and tiny printer solidly built. <br> Label: Pro (augmented) <br> Distance: 5.67937\",\"Text: The first large digital camera, arrived at the anchovy, car, good price, great quality. <br> Label: Pro (augmented) <br> Distance: 0.75294\",\"Text: ...small. <br> Label: Pro (augmented) <br> Distance: 0.00000\",\"Text: Easy to use, battery life, variety of sonars and acquired facets. <br> Label: Pro (augmented) <br> Distance: 0.58038\",\"Text: Quality LCD screen, no filling lake, excellent photos, fantastic movies. <br> Label: Pro (augmented) <br> Distance: 0.64014\"],\"x\":[1.0376966300123995,0.31259592672938763,1.4310887698120893,1.473451444755516,0.0487457561496551,1.0261924410952885,1.415088358787643,-0.003994873204004369,1.063288773573697,0.0487457561496551,-1.0673950270629322,1.2184416026467038,-0.003995240190117156,1.0610660304350759,1.1629355035668756],\"y\":[1.0467801308099913,0.31396839724672965,1.2342546160492116,1.3239321710315652,0.04876324138494968,1.0359490988281395,1.4304139949803059,-0.0043757910922436255,1.241917021252802,0.04876324138494968,-0.8801700125651379,1.105113273482634,-0.0043757910922436255,1.2473544931474496,1.355740530054503],\"type\":\"scatter\"},{\"hovertemplate\":\"%{text}\",\"marker\":{\"color\":\"red\",\"opacity\":0.3,\"size\":60,\"symbol\":\"diamond\"},\"mode\":\"markers\",\"name\":\"Pro (Original)\",\"text\":[\"Text: small, enough features &#13;&#10; <br> Label: Pro (original) <br> Distance: 2.69634\",\"Text: It's cheap <br> Label: Pro (original) <br> Distance: 1.36795\",\"Text: 5 MP, manual features, construction, quality pictures, software interface, quick charger. <br> Label: Pro (original) <br> Distance: 0.15320\",\"Text: instant photos, ease of carrying, no downloading <br> Label: Pro (original) <br> Distance: 0.33855\",\"Text: Great picture photos <br> Label: Pro (original) <br> Distance: 3.50675\",\"Text: egronomic shape, inexpensive, loud ringer, several accessories included, fm tuner, minibrowser <br> Label: Pro (original) <br> Distance: 0.07602\",\"Text: Excellent quality prints., Easy to install. <br> Label: Pro (original) <br> Distance: 0.00000\",\"Text: speed, clarity <br> Label: Pro (original) <br> Distance: 0.09108\",\"Text: fabulous picture quality, very quick operation <br> Label: Pro (original) <br> Distance: 0.38217\",\"Text: Great Pictures <br> Label: Pro (original) <br> Distance: 3.29752\",\"Text: A solidly built  great little printer. <br> Label: Pro (original) <br> Distance: 5.67937\",\"Text: Buy it! Great first digital camera, Comes with docking station, charger, fair price, great quality. <br> Label: Pro (original) <br> Distance: 0.75294\",\"Text: ...small <br> Label: Pro (original) <br> Distance: 0.00000\",\"Text: Easy to use, great battery life, variety of ringtones and faceplates to buy. <br> Label: Pro (original) <br> Distance: 0.58038\",\"Text: Quality LCD Screen, no shutter lag, excellent pictures, fantastic movies. <br> Label: Pro (original) <br> Distance: 0.64014\"],\"x\":[0.032002427613136084,0.8234820651593018,1.3713946252131386,1.3817548266701654,1.4751909589301253,1.0546690037565616,1.4150889092668122,0.030070796208482974,1.0781409767977617,1.1252084137071148,1.0659088709259381,1.3415030558474879,-0.003994781457476173,1.3791545465680146,1.1073583926742232],\"y\":[0.03183893313185885,0.8286800326137508,1.1774003163496893,1.1875652841868554,1.3298128649078893,1.06452624648744,1.4304144053710297,0.029880343402645934,1.0776694198070362,1.3337989900079092,1.2529594044573973,1.4217303324606032,-0.0043755858968817386,1.4226931090985777,1.0820292056610528],\"type\":\"scatter\"}],                        {\"template\":{\"data\":{\"histogram2dcontour\":[{\"type\":\"histogram2dcontour\",\"colorbar\":{\"outlinewidth\":0,\"ticks\":\"\"},\"colorscale\":[[0.0,\"#0d0887\"],[0.1111111111111111,\"#46039f\"],[0.2222222222222222,\"#7201a8\"],[0.3333333333333333,\"#9c179e\"],[0.4444444444444444,\"#bd3786\"],[0.5555555555555556,\"#d8576b\"],[0.6666666666666666,\"#ed7953\"],[0.7777777777777778,\"#fb9f3a\"],[0.8888888888888888,\"#fdca26\"],[1.0,\"#f0f921\"]]}],\"choropleth\":[{\"type\":\"choropleth\",\"colorbar\":{\"outlinewidth\":0,\"ticks\":\"\"}}],\"histogram2d\":[{\"type\":\"histogram2d\",\"colorbar\":{\"outlinewidth\":0,\"ticks\":\"\"},\"colorscale\":[[0.0,\"#0d0887\"],[0.1111111111111111,\"#46039f\"],[0.2222222222222222,\"#7201a8\"],[0.3333333333333333,\"#9c179e\"],[0.4444444444444444,\"#bd3786\"],[0.5555555555555556,\"#d8576b\"],[0.6666666666666666,\"#ed7953\"],[0.7777777777777778,\"#fb9f3a\"],[0.8888888888888888,\"#fdca26\"],[1.0,\"#f0f921\"]]}],\"heatmap\":[{\"type\":\"heatmap\",\"colorbar\":{\"outlinewidth\":0,\"ticks\":\"\"},\"colorscale\":[[0.0,\"#0d0887\"],[0.1111111111111111,\"#46039f\"],[0.2222222222222222,\"#7201a8\"],[0.3333333333333333,\"#9c179e\"],[0.4444444444444444,\"#bd3786\"],[0.5555555555555556,\"#d8576b\"],[0.6666666666666666,\"#ed7953\"],[0.7777777777777778,\"#fb9f3a\"],[0.8888888888888888,\"#fdca26\"],[1.0,\"#f0f921\"]]}],\"heatmapgl\":[{\"type\":\"heatmapgl\",\"colorbar\":{\"outlinewidth\":0,\"ticks\":\"\"},\"colorscale\":[[0.0,\"#0d0887\"],[0.1111111111111111,\"#46039f\"],[0.2222222222222222,\"#7201a8\"],[0.3333333333333333,\"#9c179e\"],[0.4444444444444444,\"#bd3786\"],[0.5555555555555556,\"#d8576b\"],[0.6666666666666666,\"#ed7953\"],[0.7777777777777778,\"#fb9f3a\"],[0.8888888888888888,\"#fdca26\"],[1.0,\"#f0f921\"]]}],\"contourcarpet\":[{\"type\":\"contourcarpet\",\"colorbar\":{\"outlinewidth\":0,\"ticks\":\"\"}}],\"contour\":[{\"type\":\"contour\",\"colorbar\":{\"outlinewidth\":0,\"ticks\":\"\"},\"colorscale\":[[0.0,\"#0d0887\"],[0.1111111111111111,\"#46039f\"],[0.2222222222222222,\"#7201a8\"],[0.3333333333333333,\"#9c179e\"],[0.4444444444444444,\"#bd3786\"],[0.5555555555555556,\"#d8576b\"],[0.6666666666666666,\"#ed7953\"],[0.7777777777777778,\"#fb9f3a\"],[0.8888888888888888,\"#fdca26\"],[1.0,\"#f0f921\"]]}],\"surface\":[{\"type\":\"surface\",\"colorbar\":{\"outlinewidth\":0,\"ticks\":\"\"},\"colorscale\":[[0.0,\"#0d0887\"],[0.1111111111111111,\"#46039f\"],[0.2222222222222222,\"#7201a8\"],[0.3333333333333333,\"#9c179e\"],[0.4444444444444444,\"#bd3786\"],[0.5555555555555556,\"#d8576b\"],[0.6666666666666666,\"#ed7953\"],[0.7777777777777778,\"#fb9f3a\"],[0.8888888888888888,\"#fdca26\"],[1.0,\"#f0f921\"]]}],\"mesh3d\":[{\"type\":\"mesh3d\",\"colorbar\":{\"outlinewidth\":0,\"ticks\":\"\"}}],\"scatter\":[{\"fillpattern\":{\"fillmode\":\"overlay\",\"size\":10,\"solidity\":0.2},\"type\":\"scatter\"}],\"parcoords\":[{\"type\":\"parcoords\",\"line\":{\"colorbar\":{\"outlinewidth\":0,\"ticks\":\"\"}}}],\"scatterpolargl\":[{\"type\":\"scatterpolargl\",\"marker\":{\"colorbar\":{\"outlinewidth\":0,\"ticks\":\"\"}}}],\"bar\":[{\"error_x\":{\"color\":\"#2a3f5f\"},\"error_y\":{\"color\":\"#2a3f5f\"},\"marker\":{\"line\":{\"color\":\"#E5ECF6\",\"width\":0.5},\"pattern\":{\"fillmode\":\"overlay\",\"size\":10,\"solidity\":0.2}},\"type\":\"bar\"}],\"scattergeo\":[{\"type\":\"scattergeo\",\"marker\":{\"colorbar\":{\"outlinewidth\":0,\"ticks\":\"\"}}}],\"scatterpolar\":[{\"type\":\"scatterpolar\",\"marker\":{\"colorbar\":{\"outlinewidth\":0,\"ticks\":\"\"}}}],\"histogram\":[{\"marker\":{\"pattern\":{\"fillmode\":\"overlay\",\"size\":10,\"solidity\":0.2}},\"type\":\"histogram\"}],\"scattergl\":[{\"type\":\"scattergl\",\"marker\":{\"colorbar\":{\"outlinewidth\":0,\"ticks\":\"\"}}}],\"scatter3d\":[{\"type\":\"scatter3d\",\"line\":{\"colorbar\":{\"outlinewidth\":0,\"ticks\":\"\"}},\"marker\":{\"colorbar\":{\"outlinewidth\":0,\"ticks\":\"\"}}}],\"scattermapbox\":[{\"type\":\"scattermapbox\",\"marker\":{\"colorbar\":{\"outlinewidth\":0,\"ticks\":\"\"}}}],\"scatterternary\":[{\"type\":\"scatterternary\",\"marker\":{\"colorbar\":{\"outlinewidth\":0,\"ticks\":\"\"}}}],\"scattercarpet\":[{\"type\":\"scattercarpet\",\"marker\":{\"colorbar\":{\"outlinewidth\":0,\"ticks\":\"\"}}}],\"carpet\":[{\"aaxis\":{\"endlinecolor\":\"#2a3f5f\",\"gridcolor\":\"white\",\"linecolor\":\"white\",\"minorgridcolor\":\"white\",\"startlinecolor\":\"#2a3f5f\"},\"baxis\":{\"endlinecolor\":\"#2a3f5f\",\"gridcolor\":\"white\",\"linecolor\":\"white\",\"minorgridcolor\":\"white\",\"startlinecolor\":\"#2a3f5f\"},\"type\":\"carpet\"}],\"table\":[{\"cells\":{\"fill\":{\"color\":\"#EBF0F8\"},\"line\":{\"color\":\"white\"}},\"header\":{\"fill\":{\"color\":\"#C8D4E3\"},\"line\":{\"color\":\"white\"}},\"type\":\"table\"}],\"barpolar\":[{\"marker\":{\"line\":{\"color\":\"#E5ECF6\",\"width\":0.5},\"pattern\":{\"fillmode\":\"overlay\",\"size\":10,\"solidity\":0.2}},\"type\":\"barpolar\"}],\"pie\":[{\"automargin\":true,\"type\":\"pie\"}]},\"layout\":{\"autotypenumbers\":\"strict\",\"colorway\":[\"#636efa\",\"#EF553B\",\"#00cc96\",\"#ab63fa\",\"#FFA15A\",\"#19d3f3\",\"#FF6692\",\"#B6E880\",\"#FF97FF\",\"#FECB52\"],\"font\":{\"color\":\"#2a3f5f\"},\"hovermode\":\"closest\",\"hoverlabel\":{\"align\":\"left\"},\"paper_bgcolor\":\"white\",\"plot_bgcolor\":\"#E5ECF6\",\"polar\":{\"bgcolor\":\"#E5ECF6\",\"angularaxis\":{\"gridcolor\":\"white\",\"linecolor\":\"white\",\"ticks\":\"\"},\"radialaxis\":{\"gridcolor\":\"white\",\"linecolor\":\"white\",\"ticks\":\"\"}},\"ternary\":{\"bgcolor\":\"#E5ECF6\",\"aaxis\":{\"gridcolor\":\"white\",\"linecolor\":\"white\",\"ticks\":\"\"},\"baxis\":{\"gridcolor\":\"white\",\"linecolor\":\"white\",\"ticks\":\"\"},\"caxis\":{\"gridcolor\":\"white\",\"linecolor\":\"white\",\"ticks\":\"\"}},\"coloraxis\":{\"colorbar\":{\"outlinewidth\":0,\"ticks\":\"\"}},\"colorscale\":{\"sequential\":[[0.0,\"#0d0887\"],[0.1111111111111111,\"#46039f\"],[0.2222222222222222,\"#7201a8\"],[0.3333333333333333,\"#9c179e\"],[0.4444444444444444,\"#bd3786\"],[0.5555555555555556,\"#d8576b\"],[0.6666666666666666,\"#ed7953\"],[0.7777777777777778,\"#fb9f3a\"],[0.8888888888888888,\"#fdca26\"],[1.0,\"#f0f921\"]],\"sequentialminus\":[[0.0,\"#0d0887\"],[0.1111111111111111,\"#46039f\"],[0.2222222222222222,\"#7201a8\"],[0.3333333333333333,\"#9c179e\"],[0.4444444444444444,\"#bd3786\"],[0.5555555555555556,\"#d8576b\"],[0.6666666666666666,\"#ed7953\"],[0.7777777777777778,\"#fb9f3a\"],[0.8888888888888888,\"#fdca26\"],[1.0,\"#f0f921\"]],\"diverging\":[[0,\"#8e0152\"],[0.1,\"#c51b7d\"],[0.2,\"#de77ae\"],[0.3,\"#f1b6da\"],[0.4,\"#fde0ef\"],[0.5,\"#f7f7f7\"],[0.6,\"#e6f5d0\"],[0.7,\"#b8e186\"],[0.8,\"#7fbc41\"],[0.9,\"#4d9221\"],[1,\"#276419\"]]},\"xaxis\":{\"gridcolor\":\"white\",\"linecolor\":\"white\",\"ticks\":\"\",\"title\":{\"standoff\":15},\"zerolinecolor\":\"white\",\"automargin\":true,\"zerolinewidth\":2},\"yaxis\":{\"gridcolor\":\"white\",\"linecolor\":\"white\",\"ticks\":\"\",\"title\":{\"standoff\":15},\"zerolinecolor\":\"white\",\"automargin\":true,\"zerolinewidth\":2},\"scene\":{\"xaxis\":{\"backgroundcolor\":\"#E5ECF6\",\"gridcolor\":\"white\",\"linecolor\":\"white\",\"showbackground\":true,\"ticks\":\"\",\"zerolinecolor\":\"white\",\"gridwidth\":2},\"yaxis\":{\"backgroundcolor\":\"#E5ECF6\",\"gridcolor\":\"white\",\"linecolor\":\"white\",\"showbackground\":true,\"ticks\":\"\",\"zerolinecolor\":\"white\",\"gridwidth\":2},\"zaxis\":{\"backgroundcolor\":\"#E5ECF6\",\"gridcolor\":\"white\",\"linecolor\":\"white\",\"showbackground\":true,\"ticks\":\"\",\"zerolinecolor\":\"white\",\"gridwidth\":2}},\"shapedefaults\":{\"line\":{\"color\":\"#2a3f5f\"}},\"annotationdefaults\":{\"arrowcolor\":\"#2a3f5f\",\"arrowhead\":0,\"arrowwidth\":1},\"geo\":{\"bgcolor\":\"white\",\"landcolor\":\"#E5ECF6\",\"subunitcolor\":\"white\",\"showland\":true,\"showlakes\":true,\"lakecolor\":\"white\"},\"title\":{\"x\":0.05},\"mapbox\":{\"style\":\"light\"}}},\"font\":{\"family\":\"Courier New, monospace\",\"size\":50,\"color\":\"black\"},\"title\":{\"text\":\"total distance: 6.0544\"},\"showlegend\":true},                        {\"responsive\": true}                    ).then(function(){\n",
       "                            \n",
       "var gd = document.getElementById('e91d11fd-0add-429e-9e19-4919860ac7e8');\n",
       "var x = new MutationObserver(function (mutations, observer) {{\n",
       "        var display = window.getComputedStyle(gd).display;\n",
       "        if (!display || display === 'none') {{\n",
       "            console.log([gd, 'removed!']);\n",
       "            Plotly.purge(gd);\n",
       "            observer.disconnect();\n",
       "        }}\n",
       "}});\n",
       "\n",
       "// Listen for the removal of the full notebook cells\n",
       "var notebookContainer = gd.closest('#notebook-container');\n",
       "if (notebookContainer) {{\n",
       "    x.observe(notebookContainer, {childList: true});\n",
       "}}\n",
       "\n",
       "// Listen for the clearing of the current output cell\n",
       "var outputEl = gd.closest('.output');\n",
       "if (outputEl) {{\n",
       "    x.observe(outputEl, {childList: true});\n",
       "}}\n",
       "\n",
       "                        })                };                });            </script>        </div>"
      ]
     },
     "metadata": {},
     "output_type": "display_data"
    }
   ],
   "source": [
    "df = run('pc','backtranslation')"
   ]
  },
  {
   "cell_type": "code",
   "execution_count": 50,
   "metadata": {},
   "outputs": [
    {
     "name": "stdout",
     "output_type": "stream",
     "text": [
      "2/2 [==============================] - 1s 5ms/step\n"
     ]
    },
    {
     "data": {
      "application/vnd.plotly.v1+json": {
       "config": {
        "plotlyServerURL": "https://plot.ly"
       },
       "data": [
        {
         "hovertemplate": "%{text}",
         "marker": {
          "color": "blue",
          "opacity": 1,
          "size": 20,
          "symbol": "circle"
         },
         "mode": "markers",
         "name": "Con (Augmented)",
         "text": [
          "Text: Functions don't work as well as if individual items ( fax,) <br> Label: Con (augmented) <br> Distance: 0.62383",
          "Text: recharges slowly with NiMH. Small 8MB card. <br> Label: Con (augmented) <br> Distance: 0.25245",
          "Text: Port cover, antenna when offer, takes a bit to find sweet daub. <br> Label: Con (augmented) <br> Distance: 0.06664",
          "Text: Brightness varies too much on LCD, video out, and diverge computer <br> Label: Con (augmented) <br> Distance: 0.37296",
          "Text: smears and ink blots <br> Label: Con (augmented) <br> Distance: 0.64890",
          "Text: No USB and soar no optical zoom, not great in low light <br> Label: Con (augmented) <br> Distance: 0.16458",
          "Text: practice not fold very compact. <br> Label: Con (augmented) <br> Distance: 1.07348",
          "Text: so new accessary that it's hard to find or get accessories for <br> Label: Con (augmented) <br> Distance: 0.05071",
          "Text: package / driver problems <br> Label: Con (augmented) <br> Distance: 0.76465",
          "Text: Sometimes more than one sheet of composition is extract through at a time <br> Label: Con (augmented) <br> Distance: 0.29872",
          "Text: could do with more pixals <br> Label: Con (augmented) <br> Distance: 0.00000",
          "Text: Back-light No at night. <br> Label: Con (augmented) <br> Distance: 0.35338",
          "Text: A little axerophthol noisy.  <br> Label: Con (augmented) <br> Distance: 0.00000",
          "Text: Battery life is tremendous <br> Label: Con (augmented) <br> Distance: 1.33762",
          "Text: sh_t pictures most of the time, non viewfinder not accurate <br> Label: Con (augmented) <br> Distance: 0.38746"
         ],
         "type": "scatter",
         "x": [
          -1.0420084917242878,
          -1.2260069598590044,
          -1.1509784677791184,
          -0.5532895447867197,
          -1.043632491406297,
          -1.310985641183271,
          -0.8989840920035161,
          -0.9867895237021617,
          -0.8330794536893276,
          -0.6337988467072576,
          -0.5764505943192336,
          -0.763835573953552,
          -0.473132734320885,
          -0.7766348773707211,
          -1.1305117152413615
         ],
         "y": [
          -1.439087598689169,
          -1.4824335723499285,
          -0.7257751202920186,
          -0.6594993769512664,
          -0.6404055837716172,
          -1.1650486143218832,
          -1.16750246313221,
          -1.3529782699486805,
          -1.0898747514038205,
          -0.5870958320415515,
          -0.5306310885365778,
          -0.9241687208240749,
          -0.4527870925430657,
          -0.5436943853317133,
          -0.6884837419633231
         ]
        },
        {
         "hovertemplate": "%{text}",
         "marker": {
          "color": "blue",
          "opacity": 0.3,
          "size": 60,
          "symbol": "circle"
         },
         "mode": "markers",
         "name": "Con (Original)",
         "text": [
          "Text: Functions don't work as well as if individual items (separate fax, etc) <br> Label: Con (original) <br> Distance: 0.62383",
          "Text: Flash recharges slowly with NiMH. Small 8MB card. <br> Label: Con (original) <br> Distance: 0.25245",
          "Text: Port cover, antenna when extended, takes a bit to find sweet spot. <br> Label: Con (original) <br> Distance: 0.06664",
          "Text: Brightness varies too much on LCD, video out, and computer <br> Label: Con (original) <br> Distance: 0.37296",
          "Text: Ink smears and ink blots <br> Label: Con (original) <br> Distance: 0.64890",
          "Text: No USB and no optical zoom, not great in low light <br> Label: Con (original) <br> Distance: 0.16458",
          "Text: Does not fold very compact. <br> Label: Con (original) <br> Distance: 1.07348",
          "Text: so new that it's hard to find or get accessories for <br> Label: Con (original) <br> Distance: 0.05071",
          "Text: Software / driver problems <br> Label: Con (original) <br> Distance: 0.76465",
          "Text: Sometimes more than one sheet of paper is pulled through at a time <br> Label: Con (original) <br> Distance: 0.29872",
          "Text: could do with more pixals <br> Label: Con (original) <br> Distance: 0.00000",
          "Text: No Back-light at night. <br> Label: Con (original) <br> Distance: 0.35338",
          "Text: A little noisy.  <br> Label: Con (original) <br> Distance: 0.00000",
          "Text: Battery life is terrible <br> Label: Con (original) <br> Distance: 1.33762",
          "Text: sh_t pictures most of the time, viewfinder not accurate <br> Label: Con (original) <br> Distance: 0.38746"
         ],
         "type": "scatter",
         "x": [
          -1.1025419552450701,
          -1.3094889633742144,
          -1.1745637102268671,
          -0.6710679091258342,
          -1.0783040223844467,
          -1.2959786953806387,
          -0.5326364056870033,
          -1.0047991805228207,
          -1.106257771149045,
          -0.7492808436306343,
          -0.5764502917814255,
          -0.8312690965355325,
          -0.47313285068158045,
          -1.2796882911072782,
          -0.981768024434629
         ],
         "y": [
          -0.6708160305289711,
          -1.3117872575223386,
          -0.7615452336108779,
          -0.9383482990576326,
          -1.4576719795246853,
          -1.3685076923764798,
          -0.5044529626056328,
          -1.3797766027562073,
          -1.4820910338501547,
          -0.5338609537711708,
          -0.5306309369708699,
          -0.532187062093515,
          -0.45278694097735783,
          -1.0006850012166937,
          -0.5986540813575922
         ]
        },
        {
         "hovertemplate": "%{text}",
         "marker": {
          "color": "red",
          "opacity": 1,
          "size": 20,
          "symbol": "diamond"
         },
         "mode": "markers",
         "name": "Pro (Augmented)",
         "text": [
          "Text: Great  <br> Label: Pro (augmented) <br> Distance: 0.02194",
          "Text: Quality Screen, no shutter lag, excellent pictures, fantastic. <br> Label: Pro (augmented) <br> Distance: 1.89282",
          "Text: Excellent quality prints., slow to install. <br> Label: Pro (augmented) <br> Distance: 0.51466",
          "Text: 5, manual features, construction, quality, software interface, quick charger. <br> Label: Pro (augmented) <br> Distance: 1.10495",
          "Text: cheap <br> Label: Pro (augmented) <br> Distance: 0.95117",
          "Text: velocity, clarity <br> Label: Pro (augmented) <br> Distance: 0.00000",
          "Text: fabulous picture quality, operation quick very <br> Label: Pro (augmented) <br> Distance: 0.04088",
          "Text: egronomic anatomy, inexpensive, loud ringer, several appurtenance included, fm tuner, minibrowser <br> Label: Pro (augmented) <br> Distance: 0.19009",
          "Text: A solidly little  great built printer. <br> Label: Pro (augmented) <br> Distance: 0.83807",
          "Text: photos picture Great <br> Label: Pro (augmented) <br> Distance: 0.53366",
          "Text: photos, ease of carrying, no downloading <br> Label: Pro (augmented) <br> Distance: 2.33359",
          "Text: small, enough features &#13;&#XIII 10; <br> Label: Pro (augmented) <br> Distance: 0.00000",
          "Text: ...small <br> Label: Pro (augmented) <br> Distance: 0.00000",
          "Text: great it! Great first digital camera, Comes docking with station, charger, fair price, Buy quality. <br> Label: Pro (augmented) <br> Distance: 0.07611",
          "Text: Easy to use, great battery life, variety of ringtones and faceplates to loose buy. <br> Label: Pro (augmented) <br> Distance: 0.20771"
         ],
         "type": "scatter",
         "x": [
          1.271605458303355,
          0.39035508536732605,
          1.2891815086285179,
          0.8243456642468917,
          0.48448344089560874,
          0.20979763571822801,
          1.073556389649707,
          1.0043247546953635,
          0.9108640302932504,
          1.2014446133794878,
          0.3708309708233469,
          0.21405708879130933,
          0.1785004252750697,
          1.4252345296360918,
          1.3940210058050955
         ],
         "y": [
          1.5460815665445071,
          0.3812330734259314,
          0.9573051526202263,
          0.8040289499595964,
          0.4739483935436949,
          0.20501429378299443,
          1.0495454279181153,
          0.9998173254305963,
          0.8885514615215969,
          1.4448963923345037,
          0.36240588432641585,
          0.20916067685304424,
          0.17442151347907942,
          1.4302733328397343,
          1.1390192122417804
         ]
        },
        {
         "hovertemplate": "%{text}",
         "marker": {
          "color": "red",
          "opacity": 0.3,
          "size": 60,
          "symbol": "diamond"
         },
         "mode": "markers",
         "name": "Pro (Original)",
         "text": [
          "Text: Great Pictures <br> Label: Pro (original) <br> Distance: 0.02194",
          "Text: Quality LCD Screen, no shutter lag, excellent pictures, fantastic movies. <br> Label: Pro (original) <br> Distance: 1.89282",
          "Text: Excellent quality prints., Easy to install. <br> Label: Pro (original) <br> Distance: 0.51466",
          "Text: 5 MP, manual features, construction, quality pictures, software interface, quick charger. <br> Label: Pro (original) <br> Distance: 1.10495",
          "Text: It's cheap <br> Label: Pro (original) <br> Distance: 0.95117",
          "Text: speed, clarity <br> Label: Pro (original) <br> Distance: 0.00000",
          "Text: fabulous picture quality, very quick operation <br> Label: Pro (original) <br> Distance: 0.04088",
          "Text: egronomic shape, inexpensive, loud ringer, several accessories included, fm tuner, minibrowser <br> Label: Pro (original) <br> Distance: 0.19009",
          "Text: A solidly built  great little printer. <br> Label: Pro (original) <br> Distance: 0.83807",
          "Text: Great picture photos <br> Label: Pro (original) <br> Distance: 0.53366",
          "Text: instant photos, ease of carrying, no downloading <br> Label: Pro (original) <br> Distance: 2.33359",
          "Text: small, enough features &#13;&#10; <br> Label: Pro (original) <br> Distance: 0.00000",
          "Text: ...small <br> Label: Pro (original) <br> Distance: 0.00000",
          "Text: Buy it! Great first digital camera, Comes with docking station, charger, fair price, great quality. <br> Label: Pro (original) <br> Distance: 0.07611",
          "Text: Easy to use, great battery life, variety of ringtones and faceplates to buy. <br> Label: Pro (original) <br> Distance: 0.20771"
         ],
         "type": "scatter",
         "x": [
          1.2640729185003172,
          1.1041819661587724,
          1.4332414487223084,
          1.2535743911147346,
          0.8398598030488178,
          0.20979791498389708,
          1.0888095081396167,
          1.0735355378130835,
          1.2373551995869847,
          1.3898653464723487,
          1.2174275461512118,
          0.2140565302599712,
          0.17850051836362604,
          1.4002867965332704,
          1.4201850339852355
         ],
         "y": [
          1.5327951389770391,
          1.004441481503262,
          1.4134952742191202,
          0.9453879578165353,
          0.8250949161299788,
          0.20501474848011803,
          1.0648603090864324,
          1.0871046607440344,
          0.9595827684037335,
          1.1552190097954644,
          1.4591513839805808,
          0.20915991902450493,
          0.1744216650447873,
          1.4828437186282666,
          1.388982135480494
         ]
        }
       ],
       "layout": {
        "font": {
         "color": "black",
         "family": "Courier New, monospace",
         "size": 50
        },
        "showlegend": true,
        "template": {
         "data": {
          "bar": [
           {
            "error_x": {
             "color": "#2a3f5f"
            },
            "error_y": {
             "color": "#2a3f5f"
            },
            "marker": {
             "line": {
              "color": "#E5ECF6",
              "width": 0.5
             },
             "pattern": {
              "fillmode": "overlay",
              "size": 10,
              "solidity": 0.2
             }
            },
            "type": "bar"
           }
          ],
          "barpolar": [
           {
            "marker": {
             "line": {
              "color": "#E5ECF6",
              "width": 0.5
             },
             "pattern": {
              "fillmode": "overlay",
              "size": 10,
              "solidity": 0.2
             }
            },
            "type": "barpolar"
           }
          ],
          "carpet": [
           {
            "aaxis": {
             "endlinecolor": "#2a3f5f",
             "gridcolor": "white",
             "linecolor": "white",
             "minorgridcolor": "white",
             "startlinecolor": "#2a3f5f"
            },
            "baxis": {
             "endlinecolor": "#2a3f5f",
             "gridcolor": "white",
             "linecolor": "white",
             "minorgridcolor": "white",
             "startlinecolor": "#2a3f5f"
            },
            "type": "carpet"
           }
          ],
          "choropleth": [
           {
            "colorbar": {
             "outlinewidth": 0,
             "ticks": ""
            },
            "type": "choropleth"
           }
          ],
          "contour": [
           {
            "colorbar": {
             "outlinewidth": 0,
             "ticks": ""
            },
            "colorscale": [
             [
              0,
              "#0d0887"
             ],
             [
              0.1111111111111111,
              "#46039f"
             ],
             [
              0.2222222222222222,
              "#7201a8"
             ],
             [
              0.3333333333333333,
              "#9c179e"
             ],
             [
              0.4444444444444444,
              "#bd3786"
             ],
             [
              0.5555555555555556,
              "#d8576b"
             ],
             [
              0.6666666666666666,
              "#ed7953"
             ],
             [
              0.7777777777777778,
              "#fb9f3a"
             ],
             [
              0.8888888888888888,
              "#fdca26"
             ],
             [
              1,
              "#f0f921"
             ]
            ],
            "type": "contour"
           }
          ],
          "contourcarpet": [
           {
            "colorbar": {
             "outlinewidth": 0,
             "ticks": ""
            },
            "type": "contourcarpet"
           }
          ],
          "heatmap": [
           {
            "colorbar": {
             "outlinewidth": 0,
             "ticks": ""
            },
            "colorscale": [
             [
              0,
              "#0d0887"
             ],
             [
              0.1111111111111111,
              "#46039f"
             ],
             [
              0.2222222222222222,
              "#7201a8"
             ],
             [
              0.3333333333333333,
              "#9c179e"
             ],
             [
              0.4444444444444444,
              "#bd3786"
             ],
             [
              0.5555555555555556,
              "#d8576b"
             ],
             [
              0.6666666666666666,
              "#ed7953"
             ],
             [
              0.7777777777777778,
              "#fb9f3a"
             ],
             [
              0.8888888888888888,
              "#fdca26"
             ],
             [
              1,
              "#f0f921"
             ]
            ],
            "type": "heatmap"
           }
          ],
          "heatmapgl": [
           {
            "colorbar": {
             "outlinewidth": 0,
             "ticks": ""
            },
            "colorscale": [
             [
              0,
              "#0d0887"
             ],
             [
              0.1111111111111111,
              "#46039f"
             ],
             [
              0.2222222222222222,
              "#7201a8"
             ],
             [
              0.3333333333333333,
              "#9c179e"
             ],
             [
              0.4444444444444444,
              "#bd3786"
             ],
             [
              0.5555555555555556,
              "#d8576b"
             ],
             [
              0.6666666666666666,
              "#ed7953"
             ],
             [
              0.7777777777777778,
              "#fb9f3a"
             ],
             [
              0.8888888888888888,
              "#fdca26"
             ],
             [
              1,
              "#f0f921"
             ]
            ],
            "type": "heatmapgl"
           }
          ],
          "histogram": [
           {
            "marker": {
             "pattern": {
              "fillmode": "overlay",
              "size": 10,
              "solidity": 0.2
             }
            },
            "type": "histogram"
           }
          ],
          "histogram2d": [
           {
            "colorbar": {
             "outlinewidth": 0,
             "ticks": ""
            },
            "colorscale": [
             [
              0,
              "#0d0887"
             ],
             [
              0.1111111111111111,
              "#46039f"
             ],
             [
              0.2222222222222222,
              "#7201a8"
             ],
             [
              0.3333333333333333,
              "#9c179e"
             ],
             [
              0.4444444444444444,
              "#bd3786"
             ],
             [
              0.5555555555555556,
              "#d8576b"
             ],
             [
              0.6666666666666666,
              "#ed7953"
             ],
             [
              0.7777777777777778,
              "#fb9f3a"
             ],
             [
              0.8888888888888888,
              "#fdca26"
             ],
             [
              1,
              "#f0f921"
             ]
            ],
            "type": "histogram2d"
           }
          ],
          "histogram2dcontour": [
           {
            "colorbar": {
             "outlinewidth": 0,
             "ticks": ""
            },
            "colorscale": [
             [
              0,
              "#0d0887"
             ],
             [
              0.1111111111111111,
              "#46039f"
             ],
             [
              0.2222222222222222,
              "#7201a8"
             ],
             [
              0.3333333333333333,
              "#9c179e"
             ],
             [
              0.4444444444444444,
              "#bd3786"
             ],
             [
              0.5555555555555556,
              "#d8576b"
             ],
             [
              0.6666666666666666,
              "#ed7953"
             ],
             [
              0.7777777777777778,
              "#fb9f3a"
             ],
             [
              0.8888888888888888,
              "#fdca26"
             ],
             [
              1,
              "#f0f921"
             ]
            ],
            "type": "histogram2dcontour"
           }
          ],
          "mesh3d": [
           {
            "colorbar": {
             "outlinewidth": 0,
             "ticks": ""
            },
            "type": "mesh3d"
           }
          ],
          "parcoords": [
           {
            "line": {
             "colorbar": {
              "outlinewidth": 0,
              "ticks": ""
             }
            },
            "type": "parcoords"
           }
          ],
          "pie": [
           {
            "automargin": true,
            "type": "pie"
           }
          ],
          "scatter": [
           {
            "fillpattern": {
             "fillmode": "overlay",
             "size": 10,
             "solidity": 0.2
            },
            "type": "scatter"
           }
          ],
          "scatter3d": [
           {
            "line": {
             "colorbar": {
              "outlinewidth": 0,
              "ticks": ""
             }
            },
            "marker": {
             "colorbar": {
              "outlinewidth": 0,
              "ticks": ""
             }
            },
            "type": "scatter3d"
           }
          ],
          "scattercarpet": [
           {
            "marker": {
             "colorbar": {
              "outlinewidth": 0,
              "ticks": ""
             }
            },
            "type": "scattercarpet"
           }
          ],
          "scattergeo": [
           {
            "marker": {
             "colorbar": {
              "outlinewidth": 0,
              "ticks": ""
             }
            },
            "type": "scattergeo"
           }
          ],
          "scattergl": [
           {
            "marker": {
             "colorbar": {
              "outlinewidth": 0,
              "ticks": ""
             }
            },
            "type": "scattergl"
           }
          ],
          "scattermapbox": [
           {
            "marker": {
             "colorbar": {
              "outlinewidth": 0,
              "ticks": ""
             }
            },
            "type": "scattermapbox"
           }
          ],
          "scatterpolar": [
           {
            "marker": {
             "colorbar": {
              "outlinewidth": 0,
              "ticks": ""
             }
            },
            "type": "scatterpolar"
           }
          ],
          "scatterpolargl": [
           {
            "marker": {
             "colorbar": {
              "outlinewidth": 0,
              "ticks": ""
             }
            },
            "type": "scatterpolargl"
           }
          ],
          "scatterternary": [
           {
            "marker": {
             "colorbar": {
              "outlinewidth": 0,
              "ticks": ""
             }
            },
            "type": "scatterternary"
           }
          ],
          "surface": [
           {
            "colorbar": {
             "outlinewidth": 0,
             "ticks": ""
            },
            "colorscale": [
             [
              0,
              "#0d0887"
             ],
             [
              0.1111111111111111,
              "#46039f"
             ],
             [
              0.2222222222222222,
              "#7201a8"
             ],
             [
              0.3333333333333333,
              "#9c179e"
             ],
             [
              0.4444444444444444,
              "#bd3786"
             ],
             [
              0.5555555555555556,
              "#d8576b"
             ],
             [
              0.6666666666666666,
              "#ed7953"
             ],
             [
              0.7777777777777778,
              "#fb9f3a"
             ],
             [
              0.8888888888888888,
              "#fdca26"
             ],
             [
              1,
              "#f0f921"
             ]
            ],
            "type": "surface"
           }
          ],
          "table": [
           {
            "cells": {
             "fill": {
              "color": "#EBF0F8"
             },
             "line": {
              "color": "white"
             }
            },
            "header": {
             "fill": {
              "color": "#C8D4E3"
             },
             "line": {
              "color": "white"
             }
            },
            "type": "table"
           }
          ]
         },
         "layout": {
          "annotationdefaults": {
           "arrowcolor": "#2a3f5f",
           "arrowhead": 0,
           "arrowwidth": 1
          },
          "autotypenumbers": "strict",
          "coloraxis": {
           "colorbar": {
            "outlinewidth": 0,
            "ticks": ""
           }
          },
          "colorscale": {
           "diverging": [
            [
             0,
             "#8e0152"
            ],
            [
             0.1,
             "#c51b7d"
            ],
            [
             0.2,
             "#de77ae"
            ],
            [
             0.3,
             "#f1b6da"
            ],
            [
             0.4,
             "#fde0ef"
            ],
            [
             0.5,
             "#f7f7f7"
            ],
            [
             0.6,
             "#e6f5d0"
            ],
            [
             0.7,
             "#b8e186"
            ],
            [
             0.8,
             "#7fbc41"
            ],
            [
             0.9,
             "#4d9221"
            ],
            [
             1,
             "#276419"
            ]
           ],
           "sequential": [
            [
             0,
             "#0d0887"
            ],
            [
             0.1111111111111111,
             "#46039f"
            ],
            [
             0.2222222222222222,
             "#7201a8"
            ],
            [
             0.3333333333333333,
             "#9c179e"
            ],
            [
             0.4444444444444444,
             "#bd3786"
            ],
            [
             0.5555555555555556,
             "#d8576b"
            ],
            [
             0.6666666666666666,
             "#ed7953"
            ],
            [
             0.7777777777777778,
             "#fb9f3a"
            ],
            [
             0.8888888888888888,
             "#fdca26"
            ],
            [
             1,
             "#f0f921"
            ]
           ],
           "sequentialminus": [
            [
             0,
             "#0d0887"
            ],
            [
             0.1111111111111111,
             "#46039f"
            ],
            [
             0.2222222222222222,
             "#7201a8"
            ],
            [
             0.3333333333333333,
             "#9c179e"
            ],
            [
             0.4444444444444444,
             "#bd3786"
            ],
            [
             0.5555555555555556,
             "#d8576b"
            ],
            [
             0.6666666666666666,
             "#ed7953"
            ],
            [
             0.7777777777777778,
             "#fb9f3a"
            ],
            [
             0.8888888888888888,
             "#fdca26"
            ],
            [
             1,
             "#f0f921"
            ]
           ]
          },
          "colorway": [
           "#636efa",
           "#EF553B",
           "#00cc96",
           "#ab63fa",
           "#FFA15A",
           "#19d3f3",
           "#FF6692",
           "#B6E880",
           "#FF97FF",
           "#FECB52"
          ],
          "font": {
           "color": "#2a3f5f"
          },
          "geo": {
           "bgcolor": "white",
           "lakecolor": "white",
           "landcolor": "#E5ECF6",
           "showlakes": true,
           "showland": true,
           "subunitcolor": "white"
          },
          "hoverlabel": {
           "align": "left"
          },
          "hovermode": "closest",
          "mapbox": {
           "style": "light"
          },
          "paper_bgcolor": "white",
          "plot_bgcolor": "#E5ECF6",
          "polar": {
           "angularaxis": {
            "gridcolor": "white",
            "linecolor": "white",
            "ticks": ""
           },
           "bgcolor": "#E5ECF6",
           "radialaxis": {
            "gridcolor": "white",
            "linecolor": "white",
            "ticks": ""
           }
          },
          "scene": {
           "xaxis": {
            "backgroundcolor": "#E5ECF6",
            "gridcolor": "white",
            "gridwidth": 2,
            "linecolor": "white",
            "showbackground": true,
            "ticks": "",
            "zerolinecolor": "white"
           },
           "yaxis": {
            "backgroundcolor": "#E5ECF6",
            "gridcolor": "white",
            "gridwidth": 2,
            "linecolor": "white",
            "showbackground": true,
            "ticks": "",
            "zerolinecolor": "white"
           },
           "zaxis": {
            "backgroundcolor": "#E5ECF6",
            "gridcolor": "white",
            "gridwidth": 2,
            "linecolor": "white",
            "showbackground": true,
            "ticks": "",
            "zerolinecolor": "white"
           }
          },
          "shapedefaults": {
           "line": {
            "color": "#2a3f5f"
           }
          },
          "ternary": {
           "aaxis": {
            "gridcolor": "white",
            "linecolor": "white",
            "ticks": ""
           },
           "baxis": {
            "gridcolor": "white",
            "linecolor": "white",
            "ticks": ""
           },
           "bgcolor": "#E5ECF6",
           "caxis": {
            "gridcolor": "white",
            "linecolor": "white",
            "ticks": ""
           }
          },
          "title": {
           "x": 0.05
          },
          "xaxis": {
           "automargin": true,
           "gridcolor": "white",
           "linecolor": "white",
           "ticks": "",
           "title": {
            "standoff": 15
           },
           "zerolinecolor": "white",
           "zerolinewidth": 2
          },
          "yaxis": {
           "automargin": true,
           "gridcolor": "white",
           "linecolor": "white",
           "ticks": "",
           "title": {
            "standoff": 15
           },
           "zerolinecolor": "white",
           "zerolinewidth": 2
          }
         }
        },
        "title": {
         "text": "total distance: 6.4712"
        }
       }
      },
      "text/html": [
       "<div>                            <div id=\"8888b26b-b504-4722-b32e-c2240e6ceb70\" class=\"plotly-graph-div\" style=\"height:525px; width:100%;\"></div>            <script type=\"text/javascript\">                require([\"plotly\"], function(Plotly) {                    window.PLOTLYENV=window.PLOTLYENV || {};                                    if (document.getElementById(\"8888b26b-b504-4722-b32e-c2240e6ceb70\")) {                    Plotly.newPlot(                        \"8888b26b-b504-4722-b32e-c2240e6ceb70\",                        [{\"hovertemplate\":\"%{text}\",\"marker\":{\"color\":\"blue\",\"opacity\":1,\"size\":20,\"symbol\":\"circle\"},\"mode\":\"markers\",\"name\":\"Con (Augmented)\",\"text\":[\"Text: Functions don't work as well as if individual items ( fax,) <br> Label: Con (augmented) <br> Distance: 0.62383\",\"Text: recharges slowly with NiMH. Small 8MB card. <br> Label: Con (augmented) <br> Distance: 0.25245\",\"Text: Port cover, antenna when offer, takes a bit to find sweet daub. <br> Label: Con (augmented) <br> Distance: 0.06664\",\"Text: Brightness varies too much on LCD, video out, and diverge computer <br> Label: Con (augmented) <br> Distance: 0.37296\",\"Text: smears and ink blots <br> Label: Con (augmented) <br> Distance: 0.64890\",\"Text: No USB and soar no optical zoom, not great in low light <br> Label: Con (augmented) <br> Distance: 0.16458\",\"Text: practice not fold very compact. <br> Label: Con (augmented) <br> Distance: 1.07348\",\"Text: so new accessary that it's hard to find or get accessories for <br> Label: Con (augmented) <br> Distance: 0.05071\",\"Text: package / driver problems <br> Label: Con (augmented) <br> Distance: 0.76465\",\"Text: Sometimes more than one sheet of composition is extract through at a time <br> Label: Con (augmented) <br> Distance: 0.29872\",\"Text: could do with more pixals <br> Label: Con (augmented) <br> Distance: 0.00000\",\"Text: Back-light No at night. <br> Label: Con (augmented) <br> Distance: 0.35338\",\"Text: A little axerophthol noisy.  <br> Label: Con (augmented) <br> Distance: 0.00000\",\"Text: Battery life is tremendous <br> Label: Con (augmented) <br> Distance: 1.33762\",\"Text: sh_t pictures most of the time, non viewfinder not accurate <br> Label: Con (augmented) <br> Distance: 0.38746\"],\"x\":[-1.0420084917242878,-1.2260069598590044,-1.1509784677791184,-0.5532895447867197,-1.043632491406297,-1.310985641183271,-0.8989840920035161,-0.9867895237021617,-0.8330794536893276,-0.6337988467072576,-0.5764505943192336,-0.763835573953552,-0.473132734320885,-0.7766348773707211,-1.1305117152413615],\"y\":[-1.439087598689169,-1.4824335723499285,-0.7257751202920186,-0.6594993769512664,-0.6404055837716172,-1.1650486143218832,-1.16750246313221,-1.3529782699486805,-1.0898747514038205,-0.5870958320415515,-0.5306310885365778,-0.9241687208240749,-0.4527870925430657,-0.5436943853317133,-0.6884837419633231],\"type\":\"scatter\"},{\"hovertemplate\":\"%{text}\",\"marker\":{\"color\":\"blue\",\"opacity\":0.3,\"size\":60,\"symbol\":\"circle\"},\"mode\":\"markers\",\"name\":\"Con (Original)\",\"text\":[\"Text: Functions don't work as well as if individual items (separate fax, etc) <br> Label: Con (original) <br> Distance: 0.62383\",\"Text: Flash recharges slowly with NiMH. Small 8MB card. <br> Label: Con (original) <br> Distance: 0.25245\",\"Text: Port cover, antenna when extended, takes a bit to find sweet spot. <br> Label: Con (original) <br> Distance: 0.06664\",\"Text: Brightness varies too much on LCD, video out, and computer <br> Label: Con (original) <br> Distance: 0.37296\",\"Text: Ink smears and ink blots <br> Label: Con (original) <br> Distance: 0.64890\",\"Text: No USB and no optical zoom, not great in low light <br> Label: Con (original) <br> Distance: 0.16458\",\"Text: Does not fold very compact. <br> Label: Con (original) <br> Distance: 1.07348\",\"Text: so new that it's hard to find or get accessories for <br> Label: Con (original) <br> Distance: 0.05071\",\"Text: Software / driver problems <br> Label: Con (original) <br> Distance: 0.76465\",\"Text: Sometimes more than one sheet of paper is pulled through at a time <br> Label: Con (original) <br> Distance: 0.29872\",\"Text: could do with more pixals <br> Label: Con (original) <br> Distance: 0.00000\",\"Text: No Back-light at night. <br> Label: Con (original) <br> Distance: 0.35338\",\"Text: A little noisy.  <br> Label: Con (original) <br> Distance: 0.00000\",\"Text: Battery life is terrible <br> Label: Con (original) <br> Distance: 1.33762\",\"Text: sh_t pictures most of the time, viewfinder not accurate <br> Label: Con (original) <br> Distance: 0.38746\"],\"x\":[-1.1025419552450701,-1.3094889633742144,-1.1745637102268671,-0.6710679091258342,-1.0783040223844467,-1.2959786953806387,-0.5326364056870033,-1.0047991805228207,-1.106257771149045,-0.7492808436306343,-0.5764502917814255,-0.8312690965355325,-0.47313285068158045,-1.2796882911072782,-0.981768024434629],\"y\":[-0.6708160305289711,-1.3117872575223386,-0.7615452336108779,-0.9383482990576326,-1.4576719795246853,-1.3685076923764798,-0.5044529626056328,-1.3797766027562073,-1.4820910338501547,-0.5338609537711708,-0.5306309369708699,-0.532187062093515,-0.45278694097735783,-1.0006850012166937,-0.5986540813575922],\"type\":\"scatter\"},{\"hovertemplate\":\"%{text}\",\"marker\":{\"color\":\"red\",\"opacity\":1,\"size\":20,\"symbol\":\"diamond\"},\"mode\":\"markers\",\"name\":\"Pro (Augmented)\",\"text\":[\"Text: Great  <br> Label: Pro (augmented) <br> Distance: 0.02194\",\"Text: Quality Screen, no shutter lag, excellent pictures, fantastic. <br> Label: Pro (augmented) <br> Distance: 1.89282\",\"Text: Excellent quality prints., slow to install. <br> Label: Pro (augmented) <br> Distance: 0.51466\",\"Text: 5, manual features, construction, quality, software interface, quick charger. <br> Label: Pro (augmented) <br> Distance: 1.10495\",\"Text: cheap <br> Label: Pro (augmented) <br> Distance: 0.95117\",\"Text: velocity, clarity <br> Label: Pro (augmented) <br> Distance: 0.00000\",\"Text: fabulous picture quality, operation quick very <br> Label: Pro (augmented) <br> Distance: 0.04088\",\"Text: egronomic anatomy, inexpensive, loud ringer, several appurtenance included, fm tuner, minibrowser <br> Label: Pro (augmented) <br> Distance: 0.19009\",\"Text: A solidly little  great built printer. <br> Label: Pro (augmented) <br> Distance: 0.83807\",\"Text: photos picture Great <br> Label: Pro (augmented) <br> Distance: 0.53366\",\"Text: photos, ease of carrying, no downloading <br> Label: Pro (augmented) <br> Distance: 2.33359\",\"Text: small, enough features &#13;&#XIII 10; <br> Label: Pro (augmented) <br> Distance: 0.00000\",\"Text: ...small <br> Label: Pro (augmented) <br> Distance: 0.00000\",\"Text: great it! Great first digital camera, Comes docking with station, charger, fair price, Buy quality. <br> Label: Pro (augmented) <br> Distance: 0.07611\",\"Text: Easy to use, great battery life, variety of ringtones and faceplates to loose buy. <br> Label: Pro (augmented) <br> Distance: 0.20771\"],\"x\":[1.271605458303355,0.39035508536732605,1.2891815086285179,0.8243456642468917,0.48448344089560874,0.20979763571822801,1.073556389649707,1.0043247546953635,0.9108640302932504,1.2014446133794878,0.3708309708233469,0.21405708879130933,0.1785004252750697,1.4252345296360918,1.3940210058050955],\"y\":[1.5460815665445071,0.3812330734259314,0.9573051526202263,0.8040289499595964,0.4739483935436949,0.20501429378299443,1.0495454279181153,0.9998173254305963,0.8885514615215969,1.4448963923345037,0.36240588432641585,0.20916067685304424,0.17442151347907942,1.4302733328397343,1.1390192122417804],\"type\":\"scatter\"},{\"hovertemplate\":\"%{text}\",\"marker\":{\"color\":\"red\",\"opacity\":0.3,\"size\":60,\"symbol\":\"diamond\"},\"mode\":\"markers\",\"name\":\"Pro (Original)\",\"text\":[\"Text: Great Pictures <br> Label: Pro (original) <br> Distance: 0.02194\",\"Text: Quality LCD Screen, no shutter lag, excellent pictures, fantastic movies. <br> Label: Pro (original) <br> Distance: 1.89282\",\"Text: Excellent quality prints., Easy to install. <br> Label: Pro (original) <br> Distance: 0.51466\",\"Text: 5 MP, manual features, construction, quality pictures, software interface, quick charger. <br> Label: Pro (original) <br> Distance: 1.10495\",\"Text: It's cheap <br> Label: Pro (original) <br> Distance: 0.95117\",\"Text: speed, clarity <br> Label: Pro (original) <br> Distance: 0.00000\",\"Text: fabulous picture quality, very quick operation <br> Label: Pro (original) <br> Distance: 0.04088\",\"Text: egronomic shape, inexpensive, loud ringer, several accessories included, fm tuner, minibrowser <br> Label: Pro (original) <br> Distance: 0.19009\",\"Text: A solidly built  great little printer. <br> Label: Pro (original) <br> Distance: 0.83807\",\"Text: Great picture photos <br> Label: Pro (original) <br> Distance: 0.53366\",\"Text: instant photos, ease of carrying, no downloading <br> Label: Pro (original) <br> Distance: 2.33359\",\"Text: small, enough features &#13;&#10; <br> Label: Pro (original) <br> Distance: 0.00000\",\"Text: ...small <br> Label: Pro (original) <br> Distance: 0.00000\",\"Text: Buy it! Great first digital camera, Comes with docking station, charger, fair price, great quality. <br> Label: Pro (original) <br> Distance: 0.07611\",\"Text: Easy to use, great battery life, variety of ringtones and faceplates to buy. <br> Label: Pro (original) <br> Distance: 0.20771\"],\"x\":[1.2640729185003172,1.1041819661587724,1.4332414487223084,1.2535743911147346,0.8398598030488178,0.20979791498389708,1.0888095081396167,1.0735355378130835,1.2373551995869847,1.3898653464723487,1.2174275461512118,0.2140565302599712,0.17850051836362604,1.4002867965332704,1.4201850339852355],\"y\":[1.5327951389770391,1.004441481503262,1.4134952742191202,0.9453879578165353,0.8250949161299788,0.20501474848011803,1.0648603090864324,1.0871046607440344,0.9595827684037335,1.1552190097954644,1.4591513839805808,0.20915991902450493,0.1744216650447873,1.4828437186282666,1.388982135480494],\"type\":\"scatter\"}],                        {\"template\":{\"data\":{\"histogram2dcontour\":[{\"type\":\"histogram2dcontour\",\"colorbar\":{\"outlinewidth\":0,\"ticks\":\"\"},\"colorscale\":[[0.0,\"#0d0887\"],[0.1111111111111111,\"#46039f\"],[0.2222222222222222,\"#7201a8\"],[0.3333333333333333,\"#9c179e\"],[0.4444444444444444,\"#bd3786\"],[0.5555555555555556,\"#d8576b\"],[0.6666666666666666,\"#ed7953\"],[0.7777777777777778,\"#fb9f3a\"],[0.8888888888888888,\"#fdca26\"],[1.0,\"#f0f921\"]]}],\"choropleth\":[{\"type\":\"choropleth\",\"colorbar\":{\"outlinewidth\":0,\"ticks\":\"\"}}],\"histogram2d\":[{\"type\":\"histogram2d\",\"colorbar\":{\"outlinewidth\":0,\"ticks\":\"\"},\"colorscale\":[[0.0,\"#0d0887\"],[0.1111111111111111,\"#46039f\"],[0.2222222222222222,\"#7201a8\"],[0.3333333333333333,\"#9c179e\"],[0.4444444444444444,\"#bd3786\"],[0.5555555555555556,\"#d8576b\"],[0.6666666666666666,\"#ed7953\"],[0.7777777777777778,\"#fb9f3a\"],[0.8888888888888888,\"#fdca26\"],[1.0,\"#f0f921\"]]}],\"heatmap\":[{\"type\":\"heatmap\",\"colorbar\":{\"outlinewidth\":0,\"ticks\":\"\"},\"colorscale\":[[0.0,\"#0d0887\"],[0.1111111111111111,\"#46039f\"],[0.2222222222222222,\"#7201a8\"],[0.3333333333333333,\"#9c179e\"],[0.4444444444444444,\"#bd3786\"],[0.5555555555555556,\"#d8576b\"],[0.6666666666666666,\"#ed7953\"],[0.7777777777777778,\"#fb9f3a\"],[0.8888888888888888,\"#fdca26\"],[1.0,\"#f0f921\"]]}],\"heatmapgl\":[{\"type\":\"heatmapgl\",\"colorbar\":{\"outlinewidth\":0,\"ticks\":\"\"},\"colorscale\":[[0.0,\"#0d0887\"],[0.1111111111111111,\"#46039f\"],[0.2222222222222222,\"#7201a8\"],[0.3333333333333333,\"#9c179e\"],[0.4444444444444444,\"#bd3786\"],[0.5555555555555556,\"#d8576b\"],[0.6666666666666666,\"#ed7953\"],[0.7777777777777778,\"#fb9f3a\"],[0.8888888888888888,\"#fdca26\"],[1.0,\"#f0f921\"]]}],\"contourcarpet\":[{\"type\":\"contourcarpet\",\"colorbar\":{\"outlinewidth\":0,\"ticks\":\"\"}}],\"contour\":[{\"type\":\"contour\",\"colorbar\":{\"outlinewidth\":0,\"ticks\":\"\"},\"colorscale\":[[0.0,\"#0d0887\"],[0.1111111111111111,\"#46039f\"],[0.2222222222222222,\"#7201a8\"],[0.3333333333333333,\"#9c179e\"],[0.4444444444444444,\"#bd3786\"],[0.5555555555555556,\"#d8576b\"],[0.6666666666666666,\"#ed7953\"],[0.7777777777777778,\"#fb9f3a\"],[0.8888888888888888,\"#fdca26\"],[1.0,\"#f0f921\"]]}],\"surface\":[{\"type\":\"surface\",\"colorbar\":{\"outlinewidth\":0,\"ticks\":\"\"},\"colorscale\":[[0.0,\"#0d0887\"],[0.1111111111111111,\"#46039f\"],[0.2222222222222222,\"#7201a8\"],[0.3333333333333333,\"#9c179e\"],[0.4444444444444444,\"#bd3786\"],[0.5555555555555556,\"#d8576b\"],[0.6666666666666666,\"#ed7953\"],[0.7777777777777778,\"#fb9f3a\"],[0.8888888888888888,\"#fdca26\"],[1.0,\"#f0f921\"]]}],\"mesh3d\":[{\"type\":\"mesh3d\",\"colorbar\":{\"outlinewidth\":0,\"ticks\":\"\"}}],\"scatter\":[{\"fillpattern\":{\"fillmode\":\"overlay\",\"size\":10,\"solidity\":0.2},\"type\":\"scatter\"}],\"parcoords\":[{\"type\":\"parcoords\",\"line\":{\"colorbar\":{\"outlinewidth\":0,\"ticks\":\"\"}}}],\"scatterpolargl\":[{\"type\":\"scatterpolargl\",\"marker\":{\"colorbar\":{\"outlinewidth\":0,\"ticks\":\"\"}}}],\"bar\":[{\"error_x\":{\"color\":\"#2a3f5f\"},\"error_y\":{\"color\":\"#2a3f5f\"},\"marker\":{\"line\":{\"color\":\"#E5ECF6\",\"width\":0.5},\"pattern\":{\"fillmode\":\"overlay\",\"size\":10,\"solidity\":0.2}},\"type\":\"bar\"}],\"scattergeo\":[{\"type\":\"scattergeo\",\"marker\":{\"colorbar\":{\"outlinewidth\":0,\"ticks\":\"\"}}}],\"scatterpolar\":[{\"type\":\"scatterpolar\",\"marker\":{\"colorbar\":{\"outlinewidth\":0,\"ticks\":\"\"}}}],\"histogram\":[{\"marker\":{\"pattern\":{\"fillmode\":\"overlay\",\"size\":10,\"solidity\":0.2}},\"type\":\"histogram\"}],\"scattergl\":[{\"type\":\"scattergl\",\"marker\":{\"colorbar\":{\"outlinewidth\":0,\"ticks\":\"\"}}}],\"scatter3d\":[{\"type\":\"scatter3d\",\"line\":{\"colorbar\":{\"outlinewidth\":0,\"ticks\":\"\"}},\"marker\":{\"colorbar\":{\"outlinewidth\":0,\"ticks\":\"\"}}}],\"scattermapbox\":[{\"type\":\"scattermapbox\",\"marker\":{\"colorbar\":{\"outlinewidth\":0,\"ticks\":\"\"}}}],\"scatterternary\":[{\"type\":\"scatterternary\",\"marker\":{\"colorbar\":{\"outlinewidth\":0,\"ticks\":\"\"}}}],\"scattercarpet\":[{\"type\":\"scattercarpet\",\"marker\":{\"colorbar\":{\"outlinewidth\":0,\"ticks\":\"\"}}}],\"carpet\":[{\"aaxis\":{\"endlinecolor\":\"#2a3f5f\",\"gridcolor\":\"white\",\"linecolor\":\"white\",\"minorgridcolor\":\"white\",\"startlinecolor\":\"#2a3f5f\"},\"baxis\":{\"endlinecolor\":\"#2a3f5f\",\"gridcolor\":\"white\",\"linecolor\":\"white\",\"minorgridcolor\":\"white\",\"startlinecolor\":\"#2a3f5f\"},\"type\":\"carpet\"}],\"table\":[{\"cells\":{\"fill\":{\"color\":\"#EBF0F8\"},\"line\":{\"color\":\"white\"}},\"header\":{\"fill\":{\"color\":\"#C8D4E3\"},\"line\":{\"color\":\"white\"}},\"type\":\"table\"}],\"barpolar\":[{\"marker\":{\"line\":{\"color\":\"#E5ECF6\",\"width\":0.5},\"pattern\":{\"fillmode\":\"overlay\",\"size\":10,\"solidity\":0.2}},\"type\":\"barpolar\"}],\"pie\":[{\"automargin\":true,\"type\":\"pie\"}]},\"layout\":{\"autotypenumbers\":\"strict\",\"colorway\":[\"#636efa\",\"#EF553B\",\"#00cc96\",\"#ab63fa\",\"#FFA15A\",\"#19d3f3\",\"#FF6692\",\"#B6E880\",\"#FF97FF\",\"#FECB52\"],\"font\":{\"color\":\"#2a3f5f\"},\"hovermode\":\"closest\",\"hoverlabel\":{\"align\":\"left\"},\"paper_bgcolor\":\"white\",\"plot_bgcolor\":\"#E5ECF6\",\"polar\":{\"bgcolor\":\"#E5ECF6\",\"angularaxis\":{\"gridcolor\":\"white\",\"linecolor\":\"white\",\"ticks\":\"\"},\"radialaxis\":{\"gridcolor\":\"white\",\"linecolor\":\"white\",\"ticks\":\"\"}},\"ternary\":{\"bgcolor\":\"#E5ECF6\",\"aaxis\":{\"gridcolor\":\"white\",\"linecolor\":\"white\",\"ticks\":\"\"},\"baxis\":{\"gridcolor\":\"white\",\"linecolor\":\"white\",\"ticks\":\"\"},\"caxis\":{\"gridcolor\":\"white\",\"linecolor\":\"white\",\"ticks\":\"\"}},\"coloraxis\":{\"colorbar\":{\"outlinewidth\":0,\"ticks\":\"\"}},\"colorscale\":{\"sequential\":[[0.0,\"#0d0887\"],[0.1111111111111111,\"#46039f\"],[0.2222222222222222,\"#7201a8\"],[0.3333333333333333,\"#9c179e\"],[0.4444444444444444,\"#bd3786\"],[0.5555555555555556,\"#d8576b\"],[0.6666666666666666,\"#ed7953\"],[0.7777777777777778,\"#fb9f3a\"],[0.8888888888888888,\"#fdca26\"],[1.0,\"#f0f921\"]],\"sequentialminus\":[[0.0,\"#0d0887\"],[0.1111111111111111,\"#46039f\"],[0.2222222222222222,\"#7201a8\"],[0.3333333333333333,\"#9c179e\"],[0.4444444444444444,\"#bd3786\"],[0.5555555555555556,\"#d8576b\"],[0.6666666666666666,\"#ed7953\"],[0.7777777777777778,\"#fb9f3a\"],[0.8888888888888888,\"#fdca26\"],[1.0,\"#f0f921\"]],\"diverging\":[[0,\"#8e0152\"],[0.1,\"#c51b7d\"],[0.2,\"#de77ae\"],[0.3,\"#f1b6da\"],[0.4,\"#fde0ef\"],[0.5,\"#f7f7f7\"],[0.6,\"#e6f5d0\"],[0.7,\"#b8e186\"],[0.8,\"#7fbc41\"],[0.9,\"#4d9221\"],[1,\"#276419\"]]},\"xaxis\":{\"gridcolor\":\"white\",\"linecolor\":\"white\",\"ticks\":\"\",\"title\":{\"standoff\":15},\"zerolinecolor\":\"white\",\"automargin\":true,\"zerolinewidth\":2},\"yaxis\":{\"gridcolor\":\"white\",\"linecolor\":\"white\",\"ticks\":\"\",\"title\":{\"standoff\":15},\"zerolinecolor\":\"white\",\"automargin\":true,\"zerolinewidth\":2},\"scene\":{\"xaxis\":{\"backgroundcolor\":\"#E5ECF6\",\"gridcolor\":\"white\",\"linecolor\":\"white\",\"showbackground\":true,\"ticks\":\"\",\"zerolinecolor\":\"white\",\"gridwidth\":2},\"yaxis\":{\"backgroundcolor\":\"#E5ECF6\",\"gridcolor\":\"white\",\"linecolor\":\"white\",\"showbackground\":true,\"ticks\":\"\",\"zerolinecolor\":\"white\",\"gridwidth\":2},\"zaxis\":{\"backgroundcolor\":\"#E5ECF6\",\"gridcolor\":\"white\",\"linecolor\":\"white\",\"showbackground\":true,\"ticks\":\"\",\"zerolinecolor\":\"white\",\"gridwidth\":2}},\"shapedefaults\":{\"line\":{\"color\":\"#2a3f5f\"}},\"annotationdefaults\":{\"arrowcolor\":\"#2a3f5f\",\"arrowhead\":0,\"arrowwidth\":1},\"geo\":{\"bgcolor\":\"white\",\"landcolor\":\"#E5ECF6\",\"subunitcolor\":\"white\",\"showland\":true,\"showlakes\":true,\"lakecolor\":\"white\"},\"title\":{\"x\":0.05},\"mapbox\":{\"style\":\"light\"}}},\"font\":{\"family\":\"Courier New, monospace\",\"size\":50,\"color\":\"black\"},\"title\":{\"text\":\"total distance: 6.4712\"},\"showlegend\":true},                        {\"responsive\": true}                    ).then(function(){\n",
       "                            \n",
       "var gd = document.getElementById('8888b26b-b504-4722-b32e-c2240e6ceb70');\n",
       "var x = new MutationObserver(function (mutations, observer) {{\n",
       "        var display = window.getComputedStyle(gd).display;\n",
       "        if (!display || display === 'none') {{\n",
       "            console.log([gd, 'removed!']);\n",
       "            Plotly.purge(gd);\n",
       "            observer.disconnect();\n",
       "        }}\n",
       "}});\n",
       "\n",
       "// Listen for the removal of the full notebook cells\n",
       "var notebookContainer = gd.closest('#notebook-container');\n",
       "if (notebookContainer) {{\n",
       "    x.observe(notebookContainer, {childList: true});\n",
       "}}\n",
       "\n",
       "// Listen for the clearing of the current output cell\n",
       "var outputEl = gd.closest('.output');\n",
       "if (outputEl) {{\n",
       "    x.observe(outputEl, {childList: true});\n",
       "}}\n",
       "\n",
       "                        })                };                });            </script>        </div>"
      ]
     },
     "metadata": {},
     "output_type": "display_data"
    },
    {
     "name": "stdout",
     "output_type": "stream",
     "text": [
      "2/2 [==============================] - 1s 4ms/step\n"
     ]
    },
    {
     "data": {
      "application/vnd.plotly.v1+json": {
       "config": {
        "plotlyServerURL": "https://plot.ly"
       },
       "data": [
        {
         "hovertemplate": "%{text}",
         "marker": {
          "color": "blue",
          "opacity": 1,
          "size": 20,
          "symbol": "circle"
         },
         "mode": "markers",
         "name": "Con (Augmented)",
         "text": [
          "Text: so new that it's heavy to incur or get accessories for <br> Label: Con (augmented) <br> Distance: 0.29324",
          "Text: office don't bring as well as if individual items (separate fax, etc) <br> Label: Con (augmented) <br> Distance: 0.65967",
          "Text: ostentate recharges slowly with NiMH. Small 8MB card. <br> Label: Con (augmented) <br> Distance: 0.38364",
          "Text: Port cover, antenna when extended, takes a sting to ascertain sweet spot. <br> Label: Con (augmented) <br> Distance: 0.90470",
          "Text: sh_t photo most of the time, viewfinder not accurate <br> Label: Con (augmented) <br> Distance: 0.34695",
          "Text: exercise not fold very compact. <br> Label: Con (augmented) <br> Distance: 0.92334",
          "Text: Sometimes more than one rag of paper is pulled through at a clip <br> Label: Con (augmented) <br> Distance: 0.25857",
          "Text: Brightness varies too much on LCD, television out, and estimator <br> Label: Con (augmented) <br> Distance: 1.49543",
          "Text: adenine little noisy.  <br> Label: Con (augmented) <br> Distance: 0.32419",
          "Text: could do with more pixals <br> Label: Con (augmented) <br> Distance: 0.00000",
          "Text: Software / driver job <br> Label: Con (augmented) <br> Distance: 0.99267",
          "Text: Ink smears and ink blob <br> Label: Con (augmented) <br> Distance: 0.05161",
          "Text: No Back-light at dark. <br> Label: Con (augmented) <br> Distance: 0.48129",
          "Text: Battery lifespan is terrible <br> Label: Con (augmented) <br> Distance: 0.41902",
          "Text: nobelium USB and no optical zoom, not great in humbled light <br> Label: Con (augmented) <br> Distance: 4.95766"
         ],
         "type": "scatter",
         "x": [
          -1.1260616316678156,
          -1.016570002811141,
          -1.143669110523722,
          -0.9802782459472716,
          -0.7865107421338525,
          -0.8094370695125886,
          -0.7726061249336538,
          -0.18292445462623194,
          -0.40186330825083644,
          -0.614166165331984,
          -0.9331777155598836,
          -1.0145338539925144,
          -0.9845523071780954,
          -1.3451377598284795,
          0.5073894239253657
         ],
         "y": [
          -0.9058781819761065,
          -0.7935401304514262,
          -1.360529962227361,
          -0.7717177034793704,
          -1.0064642245059952,
          -1.0028592340616378,
          -0.9530436941780475,
          -0.1816267474266653,
          -0.40092868865495096,
          -0.6295702090114896,
          -0.7434505410372931,
          -1.2540271927391071,
          -0.8266689652500865,
          -1.2087045974635862,
          0.5071064002715954
         ]
        },
        {
         "hovertemplate": "%{text}",
         "marker": {
          "color": "blue",
          "opacity": 0.3,
          "size": 60,
          "symbol": "circle"
         },
         "mode": "markers",
         "name": "Con (Original)",
         "text": [
          "Text: so new that it's hard to find or get accessories for <br> Label: Con (original) <br> Distance: 0.29324",
          "Text: Functions don't work as well as if individual items (separate fax, etc) <br> Label: Con (original) <br> Distance: 0.65967",
          "Text: Flash recharges slowly with NiMH. Small 8MB card. <br> Label: Con (original) <br> Distance: 0.38364",
          "Text: Port cover, antenna when extended, takes a bit to find sweet spot. <br> Label: Con (original) <br> Distance: 0.90470",
          "Text: sh_t pictures most of the time, viewfinder not accurate <br> Label: Con (original) <br> Distance: 0.34695",
          "Text: Does not fold very compact. <br> Label: Con (original) <br> Distance: 0.92334",
          "Text: Sometimes more than one sheet of paper is pulled through at a time <br> Label: Con (original) <br> Distance: 0.25857",
          "Text: Brightness varies too much on LCD, video out, and computer <br> Label: Con (original) <br> Distance: 1.49543",
          "Text: A little noisy.  <br> Label: Con (original) <br> Distance: 0.32419",
          "Text: could do with more pixals <br> Label: Con (original) <br> Distance: 0.00000",
          "Text: Software / driver problems <br> Label: Con (original) <br> Distance: 0.99267",
          "Text: Ink smears and ink blots <br> Label: Con (original) <br> Distance: 0.05161",
          "Text: No Back-light at night. <br> Label: Con (original) <br> Distance: 0.48129",
          "Text: Battery life is terrible <br> Label: Con (original) <br> Distance: 0.41902",
          "Text: No USB and no optical zoom, not great in low light <br> Label: Con (original) <br> Distance: 4.95766"
         ],
         "type": "scatter",
         "x": [
          -1.2292120405577018,
          -1.2674448518154398,
          -1.3594941022717386,
          -1.3099948277537226,
          -0.9095278094691652,
          -0.5774635029580703,
          -0.7100777896583682,
          -0.8145324386960303,
          -0.5217257065532319,
          -0.614166433634635,
          -1.3111672191577215,
          -1.0302157750287637,
          -0.7596244017773173,
          -1.2044373217170807,
          -1.3401595844045595
         ],
         "y": [
          -1.0213607052432485,
          -1.0388621001529528,
          -1.364055913803603,
          -1.1195190394648167,
          -1.1423973631574933,
          -0.5859729949330913,
          -0.835234998073954,
          -0.6801926190449266,
          -0.5242360598655064,
          -0.6295702090114896,
          -1.1122172676227202,
          -1.2759438167183688,
          -0.9619110852433591,
          -1.378362550445926,
          -1.3671330160389954
         ]
        },
        {
         "hovertemplate": "%{text}",
         "marker": {
          "color": "red",
          "opacity": 1,
          "size": 20,
          "symbol": "diamond"
         },
         "mode": "markers",
         "name": "Pro (Augmented)",
         "text": [
          "Text: A solidly built  groovy little printer. <br> Label: Pro (augmented) <br> Distance: 2.04813",
          "Text: Buy it! swell first digital camera, Comes with dockage station, charger, fair price, corking quality. <br> Label: Pro (augmented) <br> Distance: 1.08360",
          "Text: promiscuous to use, great barrage life, variety of ringtones and faceplates to buy. <br> Label: Pro (augmented) <br> Distance: 0.17825",
          "Text: egronomic configuration, inexpensive, loud ringer, several supplement included, fm tuner, minibrowser <br> Label: Pro (augmented) <br> Distance: 0.20896",
          "Text: instant picture, ease of carrying, no downloading <br> Label: Pro (augmented) <br> Distance: 0.41177",
          "Text: 5 MP, manual boast, construction, quality visualise, software interface, quick charger. <br> Label: Pro (augmented) <br> Distance: 0.00000",
          "Text: It's tawdry <br> Label: Pro (augmented) <br> Distance: 0.47711",
          "Text: ...minor <br> Label: Pro (augmented) <br> Distance: 0.00000",
          "Text: keen picture photos <br> Label: Pro (augmented) <br> Distance: 3.22876",
          "Text: fastness, clarity <br> Label: Pro (augmented) <br> Distance: 0.00000",
          "Text: bang-up Pictures <br> Label: Pro (augmented) <br> Distance: 3.10632",
          "Text: choice LCD Screen, no shutter imprison, excellent pictures, fantastic movies. <br> Label: Pro (augmented) <br> Distance: 0.70917",
          "Text: small-scale, enough features &#13;&#10; <br> Label: Pro (augmented) <br> Distance: 0.00000",
          "Text: fabulous picture quality, very speedy operation <br> Label: Pro (augmented) <br> Distance: 0.91635",
          "Text: Excellent quality prints., gentle to install. <br> Label: Pro (augmented) <br> Distance: 0.03819"
         ],
         "type": "scatter",
         "x": [
          0.4777831654440674,
          1.0363530640196286,
          1.4655568148638596,
          1.0142172904021367,
          1.1803669266810017,
          1.344773937241461,
          0.6632951308367816,
          0.14013273066297519,
          0.1903589869348012,
          0.18136910415824167,
          0.15434821002221746,
          0.8560216203642249,
          0.187116146943191,
          0.7664886232633021,
          1.464062100795001
         ],
         "y": [
          0.47765269238625924,
          1.031949507516873,
          1.3390380067480185,
          1.0218869092145366,
          1.340192912583493,
          1.1896997798220146,
          0.6641105552859439,
          0.14043366232911303,
          0.1904762133909888,
          0.18159715296463125,
          0.15461927446409363,
          0.8526207820974196,
          0.18729877871113954,
          0.7654078273261788,
          1.4411798036804442
         ]
        },
        {
         "hovertemplate": "%{text}",
         "marker": {
          "color": "red",
          "opacity": 0.3,
          "size": 60,
          "symbol": "diamond"
         },
         "mode": "markers",
         "name": "Pro (Original)",
         "text": [
          "Text: A solidly built  great little printer. <br> Label: Pro (original) <br> Distance: 2.04813",
          "Text: Buy it! Great first digital camera, Comes with docking station, charger, fair price, great quality. <br> Label: Pro (original) <br> Distance: 1.08360",
          "Text: Easy to use, great battery life, variety of ringtones and faceplates to buy. <br> Label: Pro (original) <br> Distance: 0.17825",
          "Text: egronomic shape, inexpensive, loud ringer, several accessories included, fm tuner, minibrowser <br> Label: Pro (original) <br> Distance: 0.20896",
          "Text: instant photos, ease of carrying, no downloading <br> Label: Pro (original) <br> Distance: 0.41177",
          "Text: 5 MP, manual features, construction, quality pictures, software interface, quick charger. <br> Label: Pro (original) <br> Distance: 0.00000",
          "Text: It's cheap <br> Label: Pro (original) <br> Distance: 0.47711",
          "Text: ...small <br> Label: Pro (original) <br> Distance: 0.00000",
          "Text: Great picture photos <br> Label: Pro (original) <br> Distance: 3.22876",
          "Text: speed, clarity <br> Label: Pro (original) <br> Distance: 0.00000",
          "Text: Great Pictures <br> Label: Pro (original) <br> Distance: 3.10632",
          "Text: Quality LCD Screen, no shutter lag, excellent pictures, fantastic movies. <br> Label: Pro (original) <br> Distance: 0.70917",
          "Text: small, enough features &#13;&#10; <br> Label: Pro (original) <br> Distance: 0.00000",
          "Text: fabulous picture quality, very quick operation <br> Label: Pro (original) <br> Distance: 0.91635",
          "Text: Excellent quality prints., Easy to install. <br> Label: Pro (original) <br> Distance: 0.03819"
         ],
         "type": "scatter",
         "x": [
          1.1582451048013631,
          1.4097788401370301,
          1.4737427287466236,
          1.0823253817594576,
          1.354698988908167,
          1.344773937241461,
          0.8421645933467516,
          0.1401328648143007,
          1.3296081298922893,
          0.18136964076354373,
          1.2227375496334751,
          1.1398639584823111,
          0.18711574448921447,
          1.1057973025790526,
          1.4687458601739394
         ],
         "y": [
          1.3117240025282813,
          1.464169647967859,
          1.4286827601190804,
          1.1078330766474913,
          1.203342586214322,
          1.189699539216632,
          0.8436327274328392,
          0.14043342172373063,
          1.459530294984605,
          0.18159715296463125,
          1.3951072414280121,
          1.1041279943640596,
          0.18729877871113954,
          1.113553469613826,
          1.4599888888434411
         ]
        }
       ],
       "layout": {
        "font": {
         "color": "black",
         "family": "Courier New, monospace",
         "size": 50
        },
        "showlegend": true,
        "template": {
         "data": {
          "bar": [
           {
            "error_x": {
             "color": "#2a3f5f"
            },
            "error_y": {
             "color": "#2a3f5f"
            },
            "marker": {
             "line": {
              "color": "#E5ECF6",
              "width": 0.5
             },
             "pattern": {
              "fillmode": "overlay",
              "size": 10,
              "solidity": 0.2
             }
            },
            "type": "bar"
           }
          ],
          "barpolar": [
           {
            "marker": {
             "line": {
              "color": "#E5ECF6",
              "width": 0.5
             },
             "pattern": {
              "fillmode": "overlay",
              "size": 10,
              "solidity": 0.2
             }
            },
            "type": "barpolar"
           }
          ],
          "carpet": [
           {
            "aaxis": {
             "endlinecolor": "#2a3f5f",
             "gridcolor": "white",
             "linecolor": "white",
             "minorgridcolor": "white",
             "startlinecolor": "#2a3f5f"
            },
            "baxis": {
             "endlinecolor": "#2a3f5f",
             "gridcolor": "white",
             "linecolor": "white",
             "minorgridcolor": "white",
             "startlinecolor": "#2a3f5f"
            },
            "type": "carpet"
           }
          ],
          "choropleth": [
           {
            "colorbar": {
             "outlinewidth": 0,
             "ticks": ""
            },
            "type": "choropleth"
           }
          ],
          "contour": [
           {
            "colorbar": {
             "outlinewidth": 0,
             "ticks": ""
            },
            "colorscale": [
             [
              0,
              "#0d0887"
             ],
             [
              0.1111111111111111,
              "#46039f"
             ],
             [
              0.2222222222222222,
              "#7201a8"
             ],
             [
              0.3333333333333333,
              "#9c179e"
             ],
             [
              0.4444444444444444,
              "#bd3786"
             ],
             [
              0.5555555555555556,
              "#d8576b"
             ],
             [
              0.6666666666666666,
              "#ed7953"
             ],
             [
              0.7777777777777778,
              "#fb9f3a"
             ],
             [
              0.8888888888888888,
              "#fdca26"
             ],
             [
              1,
              "#f0f921"
             ]
            ],
            "type": "contour"
           }
          ],
          "contourcarpet": [
           {
            "colorbar": {
             "outlinewidth": 0,
             "ticks": ""
            },
            "type": "contourcarpet"
           }
          ],
          "heatmap": [
           {
            "colorbar": {
             "outlinewidth": 0,
             "ticks": ""
            },
            "colorscale": [
             [
              0,
              "#0d0887"
             ],
             [
              0.1111111111111111,
              "#46039f"
             ],
             [
              0.2222222222222222,
              "#7201a8"
             ],
             [
              0.3333333333333333,
              "#9c179e"
             ],
             [
              0.4444444444444444,
              "#bd3786"
             ],
             [
              0.5555555555555556,
              "#d8576b"
             ],
             [
              0.6666666666666666,
              "#ed7953"
             ],
             [
              0.7777777777777778,
              "#fb9f3a"
             ],
             [
              0.8888888888888888,
              "#fdca26"
             ],
             [
              1,
              "#f0f921"
             ]
            ],
            "type": "heatmap"
           }
          ],
          "heatmapgl": [
           {
            "colorbar": {
             "outlinewidth": 0,
             "ticks": ""
            },
            "colorscale": [
             [
              0,
              "#0d0887"
             ],
             [
              0.1111111111111111,
              "#46039f"
             ],
             [
              0.2222222222222222,
              "#7201a8"
             ],
             [
              0.3333333333333333,
              "#9c179e"
             ],
             [
              0.4444444444444444,
              "#bd3786"
             ],
             [
              0.5555555555555556,
              "#d8576b"
             ],
             [
              0.6666666666666666,
              "#ed7953"
             ],
             [
              0.7777777777777778,
              "#fb9f3a"
             ],
             [
              0.8888888888888888,
              "#fdca26"
             ],
             [
              1,
              "#f0f921"
             ]
            ],
            "type": "heatmapgl"
           }
          ],
          "histogram": [
           {
            "marker": {
             "pattern": {
              "fillmode": "overlay",
              "size": 10,
              "solidity": 0.2
             }
            },
            "type": "histogram"
           }
          ],
          "histogram2d": [
           {
            "colorbar": {
             "outlinewidth": 0,
             "ticks": ""
            },
            "colorscale": [
             [
              0,
              "#0d0887"
             ],
             [
              0.1111111111111111,
              "#46039f"
             ],
             [
              0.2222222222222222,
              "#7201a8"
             ],
             [
              0.3333333333333333,
              "#9c179e"
             ],
             [
              0.4444444444444444,
              "#bd3786"
             ],
             [
              0.5555555555555556,
              "#d8576b"
             ],
             [
              0.6666666666666666,
              "#ed7953"
             ],
             [
              0.7777777777777778,
              "#fb9f3a"
             ],
             [
              0.8888888888888888,
              "#fdca26"
             ],
             [
              1,
              "#f0f921"
             ]
            ],
            "type": "histogram2d"
           }
          ],
          "histogram2dcontour": [
           {
            "colorbar": {
             "outlinewidth": 0,
             "ticks": ""
            },
            "colorscale": [
             [
              0,
              "#0d0887"
             ],
             [
              0.1111111111111111,
              "#46039f"
             ],
             [
              0.2222222222222222,
              "#7201a8"
             ],
             [
              0.3333333333333333,
              "#9c179e"
             ],
             [
              0.4444444444444444,
              "#bd3786"
             ],
             [
              0.5555555555555556,
              "#d8576b"
             ],
             [
              0.6666666666666666,
              "#ed7953"
             ],
             [
              0.7777777777777778,
              "#fb9f3a"
             ],
             [
              0.8888888888888888,
              "#fdca26"
             ],
             [
              1,
              "#f0f921"
             ]
            ],
            "type": "histogram2dcontour"
           }
          ],
          "mesh3d": [
           {
            "colorbar": {
             "outlinewidth": 0,
             "ticks": ""
            },
            "type": "mesh3d"
           }
          ],
          "parcoords": [
           {
            "line": {
             "colorbar": {
              "outlinewidth": 0,
              "ticks": ""
             }
            },
            "type": "parcoords"
           }
          ],
          "pie": [
           {
            "automargin": true,
            "type": "pie"
           }
          ],
          "scatter": [
           {
            "fillpattern": {
             "fillmode": "overlay",
             "size": 10,
             "solidity": 0.2
            },
            "type": "scatter"
           }
          ],
          "scatter3d": [
           {
            "line": {
             "colorbar": {
              "outlinewidth": 0,
              "ticks": ""
             }
            },
            "marker": {
             "colorbar": {
              "outlinewidth": 0,
              "ticks": ""
             }
            },
            "type": "scatter3d"
           }
          ],
          "scattercarpet": [
           {
            "marker": {
             "colorbar": {
              "outlinewidth": 0,
              "ticks": ""
             }
            },
            "type": "scattercarpet"
           }
          ],
          "scattergeo": [
           {
            "marker": {
             "colorbar": {
              "outlinewidth": 0,
              "ticks": ""
             }
            },
            "type": "scattergeo"
           }
          ],
          "scattergl": [
           {
            "marker": {
             "colorbar": {
              "outlinewidth": 0,
              "ticks": ""
             }
            },
            "type": "scattergl"
           }
          ],
          "scattermapbox": [
           {
            "marker": {
             "colorbar": {
              "outlinewidth": 0,
              "ticks": ""
             }
            },
            "type": "scattermapbox"
           }
          ],
          "scatterpolar": [
           {
            "marker": {
             "colorbar": {
              "outlinewidth": 0,
              "ticks": ""
             }
            },
            "type": "scatterpolar"
           }
          ],
          "scatterpolargl": [
           {
            "marker": {
             "colorbar": {
              "outlinewidth": 0,
              "ticks": ""
             }
            },
            "type": "scatterpolargl"
           }
          ],
          "scatterternary": [
           {
            "marker": {
             "colorbar": {
              "outlinewidth": 0,
              "ticks": ""
             }
            },
            "type": "scatterternary"
           }
          ],
          "surface": [
           {
            "colorbar": {
             "outlinewidth": 0,
             "ticks": ""
            },
            "colorscale": [
             [
              0,
              "#0d0887"
             ],
             [
              0.1111111111111111,
              "#46039f"
             ],
             [
              0.2222222222222222,
              "#7201a8"
             ],
             [
              0.3333333333333333,
              "#9c179e"
             ],
             [
              0.4444444444444444,
              "#bd3786"
             ],
             [
              0.5555555555555556,
              "#d8576b"
             ],
             [
              0.6666666666666666,
              "#ed7953"
             ],
             [
              0.7777777777777778,
              "#fb9f3a"
             ],
             [
              0.8888888888888888,
              "#fdca26"
             ],
             [
              1,
              "#f0f921"
             ]
            ],
            "type": "surface"
           }
          ],
          "table": [
           {
            "cells": {
             "fill": {
              "color": "#EBF0F8"
             },
             "line": {
              "color": "white"
             }
            },
            "header": {
             "fill": {
              "color": "#C8D4E3"
             },
             "line": {
              "color": "white"
             }
            },
            "type": "table"
           }
          ]
         },
         "layout": {
          "annotationdefaults": {
           "arrowcolor": "#2a3f5f",
           "arrowhead": 0,
           "arrowwidth": 1
          },
          "autotypenumbers": "strict",
          "coloraxis": {
           "colorbar": {
            "outlinewidth": 0,
            "ticks": ""
           }
          },
          "colorscale": {
           "diverging": [
            [
             0,
             "#8e0152"
            ],
            [
             0.1,
             "#c51b7d"
            ],
            [
             0.2,
             "#de77ae"
            ],
            [
             0.3,
             "#f1b6da"
            ],
            [
             0.4,
             "#fde0ef"
            ],
            [
             0.5,
             "#f7f7f7"
            ],
            [
             0.6,
             "#e6f5d0"
            ],
            [
             0.7,
             "#b8e186"
            ],
            [
             0.8,
             "#7fbc41"
            ],
            [
             0.9,
             "#4d9221"
            ],
            [
             1,
             "#276419"
            ]
           ],
           "sequential": [
            [
             0,
             "#0d0887"
            ],
            [
             0.1111111111111111,
             "#46039f"
            ],
            [
             0.2222222222222222,
             "#7201a8"
            ],
            [
             0.3333333333333333,
             "#9c179e"
            ],
            [
             0.4444444444444444,
             "#bd3786"
            ],
            [
             0.5555555555555556,
             "#d8576b"
            ],
            [
             0.6666666666666666,
             "#ed7953"
            ],
            [
             0.7777777777777778,
             "#fb9f3a"
            ],
            [
             0.8888888888888888,
             "#fdca26"
            ],
            [
             1,
             "#f0f921"
            ]
           ],
           "sequentialminus": [
            [
             0,
             "#0d0887"
            ],
            [
             0.1111111111111111,
             "#46039f"
            ],
            [
             0.2222222222222222,
             "#7201a8"
            ],
            [
             0.3333333333333333,
             "#9c179e"
            ],
            [
             0.4444444444444444,
             "#bd3786"
            ],
            [
             0.5555555555555556,
             "#d8576b"
            ],
            [
             0.6666666666666666,
             "#ed7953"
            ],
            [
             0.7777777777777778,
             "#fb9f3a"
            ],
            [
             0.8888888888888888,
             "#fdca26"
            ],
            [
             1,
             "#f0f921"
            ]
           ]
          },
          "colorway": [
           "#636efa",
           "#EF553B",
           "#00cc96",
           "#ab63fa",
           "#FFA15A",
           "#19d3f3",
           "#FF6692",
           "#B6E880",
           "#FF97FF",
           "#FECB52"
          ],
          "font": {
           "color": "#2a3f5f"
          },
          "geo": {
           "bgcolor": "white",
           "lakecolor": "white",
           "landcolor": "#E5ECF6",
           "showlakes": true,
           "showland": true,
           "subunitcolor": "white"
          },
          "hoverlabel": {
           "align": "left"
          },
          "hovermode": "closest",
          "mapbox": {
           "style": "light"
          },
          "paper_bgcolor": "white",
          "plot_bgcolor": "#E5ECF6",
          "polar": {
           "angularaxis": {
            "gridcolor": "white",
            "linecolor": "white",
            "ticks": ""
           },
           "bgcolor": "#E5ECF6",
           "radialaxis": {
            "gridcolor": "white",
            "linecolor": "white",
            "ticks": ""
           }
          },
          "scene": {
           "xaxis": {
            "backgroundcolor": "#E5ECF6",
            "gridcolor": "white",
            "gridwidth": 2,
            "linecolor": "white",
            "showbackground": true,
            "ticks": "",
            "zerolinecolor": "white"
           },
           "yaxis": {
            "backgroundcolor": "#E5ECF6",
            "gridcolor": "white",
            "gridwidth": 2,
            "linecolor": "white",
            "showbackground": true,
            "ticks": "",
            "zerolinecolor": "white"
           },
           "zaxis": {
            "backgroundcolor": "#E5ECF6",
            "gridcolor": "white",
            "gridwidth": 2,
            "linecolor": "white",
            "showbackground": true,
            "ticks": "",
            "zerolinecolor": "white"
           }
          },
          "shapedefaults": {
           "line": {
            "color": "#2a3f5f"
           }
          },
          "ternary": {
           "aaxis": {
            "gridcolor": "white",
            "linecolor": "white",
            "ticks": ""
           },
           "baxis": {
            "gridcolor": "white",
            "linecolor": "white",
            "ticks": ""
           },
           "bgcolor": "#E5ECF6",
           "caxis": {
            "gridcolor": "white",
            "linecolor": "white",
            "ticks": ""
           }
          },
          "title": {
           "x": 0.05
          },
          "xaxis": {
           "automargin": true,
           "gridcolor": "white",
           "linecolor": "white",
           "ticks": "",
           "title": {
            "standoff": 15
           },
           "zerolinecolor": "white",
           "zerolinewidth": 2
          },
          "yaxis": {
           "automargin": true,
           "gridcolor": "white",
           "linecolor": "white",
           "ticks": "",
           "title": {
            "standoff": 15
           },
           "zerolinecolor": "white",
           "zerolinewidth": 2
          }
         }
        },
        "title": {
         "text": "total distance: 5.0222"
        }
       }
      },
      "text/html": [
       "<div>                            <div id=\"b3ce1269-446a-4a3f-a834-bc4b243eb422\" class=\"plotly-graph-div\" style=\"height:525px; width:100%;\"></div>            <script type=\"text/javascript\">                require([\"plotly\"], function(Plotly) {                    window.PLOTLYENV=window.PLOTLYENV || {};                                    if (document.getElementById(\"b3ce1269-446a-4a3f-a834-bc4b243eb422\")) {                    Plotly.newPlot(                        \"b3ce1269-446a-4a3f-a834-bc4b243eb422\",                        [{\"hovertemplate\":\"%{text}\",\"marker\":{\"color\":\"blue\",\"opacity\":1,\"size\":20,\"symbol\":\"circle\"},\"mode\":\"markers\",\"name\":\"Con (Augmented)\",\"text\":[\"Text: so new that it's heavy to incur or get accessories for <br> Label: Con (augmented) <br> Distance: 0.29324\",\"Text: office don't bring as well as if individual items (separate fax, etc) <br> Label: Con (augmented) <br> Distance: 0.65967\",\"Text: ostentate recharges slowly with NiMH. Small 8MB card. <br> Label: Con (augmented) <br> Distance: 0.38364\",\"Text: Port cover, antenna when extended, takes a sting to ascertain sweet spot. <br> Label: Con (augmented) <br> Distance: 0.90470\",\"Text: sh_t photo most of the time, viewfinder not accurate <br> Label: Con (augmented) <br> Distance: 0.34695\",\"Text: exercise not fold very compact. <br> Label: Con (augmented) <br> Distance: 0.92334\",\"Text: Sometimes more than one rag of paper is pulled through at a clip <br> Label: Con (augmented) <br> Distance: 0.25857\",\"Text: Brightness varies too much on LCD, television out, and estimator <br> Label: Con (augmented) <br> Distance: 1.49543\",\"Text: adenine little noisy.  <br> Label: Con (augmented) <br> Distance: 0.32419\",\"Text: could do with more pixals <br> Label: Con (augmented) <br> Distance: 0.00000\",\"Text: Software / driver job <br> Label: Con (augmented) <br> Distance: 0.99267\",\"Text: Ink smears and ink blob <br> Label: Con (augmented) <br> Distance: 0.05161\",\"Text: No Back-light at dark. <br> Label: Con (augmented) <br> Distance: 0.48129\",\"Text: Battery lifespan is terrible <br> Label: Con (augmented) <br> Distance: 0.41902\",\"Text: nobelium USB and no optical zoom, not great in humbled light <br> Label: Con (augmented) <br> Distance: 4.95766\"],\"x\":[-1.1260616316678156,-1.016570002811141,-1.143669110523722,-0.9802782459472716,-0.7865107421338525,-0.8094370695125886,-0.7726061249336538,-0.18292445462623194,-0.40186330825083644,-0.614166165331984,-0.9331777155598836,-1.0145338539925144,-0.9845523071780954,-1.3451377598284795,0.5073894239253657],\"y\":[-0.9058781819761065,-0.7935401304514262,-1.360529962227361,-0.7717177034793704,-1.0064642245059952,-1.0028592340616378,-0.9530436941780475,-0.1816267474266653,-0.40092868865495096,-0.6295702090114896,-0.7434505410372931,-1.2540271927391071,-0.8266689652500865,-1.2087045974635862,0.5071064002715954],\"type\":\"scatter\"},{\"hovertemplate\":\"%{text}\",\"marker\":{\"color\":\"blue\",\"opacity\":0.3,\"size\":60,\"symbol\":\"circle\"},\"mode\":\"markers\",\"name\":\"Con (Original)\",\"text\":[\"Text: so new that it's hard to find or get accessories for <br> Label: Con (original) <br> Distance: 0.29324\",\"Text: Functions don't work as well as if individual items (separate fax, etc) <br> Label: Con (original) <br> Distance: 0.65967\",\"Text: Flash recharges slowly with NiMH. Small 8MB card. <br> Label: Con (original) <br> Distance: 0.38364\",\"Text: Port cover, antenna when extended, takes a bit to find sweet spot. <br> Label: Con (original) <br> Distance: 0.90470\",\"Text: sh_t pictures most of the time, viewfinder not accurate <br> Label: Con (original) <br> Distance: 0.34695\",\"Text: Does not fold very compact. <br> Label: Con (original) <br> Distance: 0.92334\",\"Text: Sometimes more than one sheet of paper is pulled through at a time <br> Label: Con (original) <br> Distance: 0.25857\",\"Text: Brightness varies too much on LCD, video out, and computer <br> Label: Con (original) <br> Distance: 1.49543\",\"Text: A little noisy.  <br> Label: Con (original) <br> Distance: 0.32419\",\"Text: could do with more pixals <br> Label: Con (original) <br> Distance: 0.00000\",\"Text: Software / driver problems <br> Label: Con (original) <br> Distance: 0.99267\",\"Text: Ink smears and ink blots <br> Label: Con (original) <br> Distance: 0.05161\",\"Text: No Back-light at night. <br> Label: Con (original) <br> Distance: 0.48129\",\"Text: Battery life is terrible <br> Label: Con (original) <br> Distance: 0.41902\",\"Text: No USB and no optical zoom, not great in low light <br> Label: Con (original) <br> Distance: 4.95766\"],\"x\":[-1.2292120405577018,-1.2674448518154398,-1.3594941022717386,-1.3099948277537226,-0.9095278094691652,-0.5774635029580703,-0.7100777896583682,-0.8145324386960303,-0.5217257065532319,-0.614166433634635,-1.3111672191577215,-1.0302157750287637,-0.7596244017773173,-1.2044373217170807,-1.3401595844045595],\"y\":[-1.0213607052432485,-1.0388621001529528,-1.364055913803603,-1.1195190394648167,-1.1423973631574933,-0.5859729949330913,-0.835234998073954,-0.6801926190449266,-0.5242360598655064,-0.6295702090114896,-1.1122172676227202,-1.2759438167183688,-0.9619110852433591,-1.378362550445926,-1.3671330160389954],\"type\":\"scatter\"},{\"hovertemplate\":\"%{text}\",\"marker\":{\"color\":\"red\",\"opacity\":1,\"size\":20,\"symbol\":\"diamond\"},\"mode\":\"markers\",\"name\":\"Pro (Augmented)\",\"text\":[\"Text: A solidly built  groovy little printer. <br> Label: Pro (augmented) <br> Distance: 2.04813\",\"Text: Buy it! swell first digital camera, Comes with dockage station, charger, fair price, corking quality. <br> Label: Pro (augmented) <br> Distance: 1.08360\",\"Text: promiscuous to use, great barrage life, variety of ringtones and faceplates to buy. <br> Label: Pro (augmented) <br> Distance: 0.17825\",\"Text: egronomic configuration, inexpensive, loud ringer, several supplement included, fm tuner, minibrowser <br> Label: Pro (augmented) <br> Distance: 0.20896\",\"Text: instant picture, ease of carrying, no downloading <br> Label: Pro (augmented) <br> Distance: 0.41177\",\"Text: 5 MP, manual boast, construction, quality visualise, software interface, quick charger. <br> Label: Pro (augmented) <br> Distance: 0.00000\",\"Text: It's tawdry <br> Label: Pro (augmented) <br> Distance: 0.47711\",\"Text: ...minor <br> Label: Pro (augmented) <br> Distance: 0.00000\",\"Text: keen picture photos <br> Label: Pro (augmented) <br> Distance: 3.22876\",\"Text: fastness, clarity <br> Label: Pro (augmented) <br> Distance: 0.00000\",\"Text: bang-up Pictures <br> Label: Pro (augmented) <br> Distance: 3.10632\",\"Text: choice LCD Screen, no shutter imprison, excellent pictures, fantastic movies. <br> Label: Pro (augmented) <br> Distance: 0.70917\",\"Text: small-scale, enough features &#13;&#10; <br> Label: Pro (augmented) <br> Distance: 0.00000\",\"Text: fabulous picture quality, very speedy operation <br> Label: Pro (augmented) <br> Distance: 0.91635\",\"Text: Excellent quality prints., gentle to install. <br> Label: Pro (augmented) <br> Distance: 0.03819\"],\"x\":[0.4777831654440674,1.0363530640196286,1.4655568148638596,1.0142172904021367,1.1803669266810017,1.344773937241461,0.6632951308367816,0.14013273066297519,0.1903589869348012,0.18136910415824167,0.15434821002221746,0.8560216203642249,0.187116146943191,0.7664886232633021,1.464062100795001],\"y\":[0.47765269238625924,1.031949507516873,1.3390380067480185,1.0218869092145366,1.340192912583493,1.1896997798220146,0.6641105552859439,0.14043366232911303,0.1904762133909888,0.18159715296463125,0.15461927446409363,0.8526207820974196,0.18729877871113954,0.7654078273261788,1.4411798036804442],\"type\":\"scatter\"},{\"hovertemplate\":\"%{text}\",\"marker\":{\"color\":\"red\",\"opacity\":0.3,\"size\":60,\"symbol\":\"diamond\"},\"mode\":\"markers\",\"name\":\"Pro (Original)\",\"text\":[\"Text: A solidly built  great little printer. <br> Label: Pro (original) <br> Distance: 2.04813\",\"Text: Buy it! Great first digital camera, Comes with docking station, charger, fair price, great quality. <br> Label: Pro (original) <br> Distance: 1.08360\",\"Text: Easy to use, great battery life, variety of ringtones and faceplates to buy. <br> Label: Pro (original) <br> Distance: 0.17825\",\"Text: egronomic shape, inexpensive, loud ringer, several accessories included, fm tuner, minibrowser <br> Label: Pro (original) <br> Distance: 0.20896\",\"Text: instant photos, ease of carrying, no downloading <br> Label: Pro (original) <br> Distance: 0.41177\",\"Text: 5 MP, manual features, construction, quality pictures, software interface, quick charger. <br> Label: Pro (original) <br> Distance: 0.00000\",\"Text: It's cheap <br> Label: Pro (original) <br> Distance: 0.47711\",\"Text: ...small <br> Label: Pro (original) <br> Distance: 0.00000\",\"Text: Great picture photos <br> Label: Pro (original) <br> Distance: 3.22876\",\"Text: speed, clarity <br> Label: Pro (original) <br> Distance: 0.00000\",\"Text: Great Pictures <br> Label: Pro (original) <br> Distance: 3.10632\",\"Text: Quality LCD Screen, no shutter lag, excellent pictures, fantastic movies. <br> Label: Pro (original) <br> Distance: 0.70917\",\"Text: small, enough features &#13;&#10; <br> Label: Pro (original) <br> Distance: 0.00000\",\"Text: fabulous picture quality, very quick operation <br> Label: Pro (original) <br> Distance: 0.91635\",\"Text: Excellent quality prints., Easy to install. <br> Label: Pro (original) <br> Distance: 0.03819\"],\"x\":[1.1582451048013631,1.4097788401370301,1.4737427287466236,1.0823253817594576,1.354698988908167,1.344773937241461,0.8421645933467516,0.1401328648143007,1.3296081298922893,0.18136964076354373,1.2227375496334751,1.1398639584823111,0.18711574448921447,1.1057973025790526,1.4687458601739394],\"y\":[1.3117240025282813,1.464169647967859,1.4286827601190804,1.1078330766474913,1.203342586214322,1.189699539216632,0.8436327274328392,0.14043342172373063,1.459530294984605,0.18159715296463125,1.3951072414280121,1.1041279943640596,0.18729877871113954,1.113553469613826,1.4599888888434411],\"type\":\"scatter\"}],                        {\"template\":{\"data\":{\"histogram2dcontour\":[{\"type\":\"histogram2dcontour\",\"colorbar\":{\"outlinewidth\":0,\"ticks\":\"\"},\"colorscale\":[[0.0,\"#0d0887\"],[0.1111111111111111,\"#46039f\"],[0.2222222222222222,\"#7201a8\"],[0.3333333333333333,\"#9c179e\"],[0.4444444444444444,\"#bd3786\"],[0.5555555555555556,\"#d8576b\"],[0.6666666666666666,\"#ed7953\"],[0.7777777777777778,\"#fb9f3a\"],[0.8888888888888888,\"#fdca26\"],[1.0,\"#f0f921\"]]}],\"choropleth\":[{\"type\":\"choropleth\",\"colorbar\":{\"outlinewidth\":0,\"ticks\":\"\"}}],\"histogram2d\":[{\"type\":\"histogram2d\",\"colorbar\":{\"outlinewidth\":0,\"ticks\":\"\"},\"colorscale\":[[0.0,\"#0d0887\"],[0.1111111111111111,\"#46039f\"],[0.2222222222222222,\"#7201a8\"],[0.3333333333333333,\"#9c179e\"],[0.4444444444444444,\"#bd3786\"],[0.5555555555555556,\"#d8576b\"],[0.6666666666666666,\"#ed7953\"],[0.7777777777777778,\"#fb9f3a\"],[0.8888888888888888,\"#fdca26\"],[1.0,\"#f0f921\"]]}],\"heatmap\":[{\"type\":\"heatmap\",\"colorbar\":{\"outlinewidth\":0,\"ticks\":\"\"},\"colorscale\":[[0.0,\"#0d0887\"],[0.1111111111111111,\"#46039f\"],[0.2222222222222222,\"#7201a8\"],[0.3333333333333333,\"#9c179e\"],[0.4444444444444444,\"#bd3786\"],[0.5555555555555556,\"#d8576b\"],[0.6666666666666666,\"#ed7953\"],[0.7777777777777778,\"#fb9f3a\"],[0.8888888888888888,\"#fdca26\"],[1.0,\"#f0f921\"]]}],\"heatmapgl\":[{\"type\":\"heatmapgl\",\"colorbar\":{\"outlinewidth\":0,\"ticks\":\"\"},\"colorscale\":[[0.0,\"#0d0887\"],[0.1111111111111111,\"#46039f\"],[0.2222222222222222,\"#7201a8\"],[0.3333333333333333,\"#9c179e\"],[0.4444444444444444,\"#bd3786\"],[0.5555555555555556,\"#d8576b\"],[0.6666666666666666,\"#ed7953\"],[0.7777777777777778,\"#fb9f3a\"],[0.8888888888888888,\"#fdca26\"],[1.0,\"#f0f921\"]]}],\"contourcarpet\":[{\"type\":\"contourcarpet\",\"colorbar\":{\"outlinewidth\":0,\"ticks\":\"\"}}],\"contour\":[{\"type\":\"contour\",\"colorbar\":{\"outlinewidth\":0,\"ticks\":\"\"},\"colorscale\":[[0.0,\"#0d0887\"],[0.1111111111111111,\"#46039f\"],[0.2222222222222222,\"#7201a8\"],[0.3333333333333333,\"#9c179e\"],[0.4444444444444444,\"#bd3786\"],[0.5555555555555556,\"#d8576b\"],[0.6666666666666666,\"#ed7953\"],[0.7777777777777778,\"#fb9f3a\"],[0.8888888888888888,\"#fdca26\"],[1.0,\"#f0f921\"]]}],\"surface\":[{\"type\":\"surface\",\"colorbar\":{\"outlinewidth\":0,\"ticks\":\"\"},\"colorscale\":[[0.0,\"#0d0887\"],[0.1111111111111111,\"#46039f\"],[0.2222222222222222,\"#7201a8\"],[0.3333333333333333,\"#9c179e\"],[0.4444444444444444,\"#bd3786\"],[0.5555555555555556,\"#d8576b\"],[0.6666666666666666,\"#ed7953\"],[0.7777777777777778,\"#fb9f3a\"],[0.8888888888888888,\"#fdca26\"],[1.0,\"#f0f921\"]]}],\"mesh3d\":[{\"type\":\"mesh3d\",\"colorbar\":{\"outlinewidth\":0,\"ticks\":\"\"}}],\"scatter\":[{\"fillpattern\":{\"fillmode\":\"overlay\",\"size\":10,\"solidity\":0.2},\"type\":\"scatter\"}],\"parcoords\":[{\"type\":\"parcoords\",\"line\":{\"colorbar\":{\"outlinewidth\":0,\"ticks\":\"\"}}}],\"scatterpolargl\":[{\"type\":\"scatterpolargl\",\"marker\":{\"colorbar\":{\"outlinewidth\":0,\"ticks\":\"\"}}}],\"bar\":[{\"error_x\":{\"color\":\"#2a3f5f\"},\"error_y\":{\"color\":\"#2a3f5f\"},\"marker\":{\"line\":{\"color\":\"#E5ECF6\",\"width\":0.5},\"pattern\":{\"fillmode\":\"overlay\",\"size\":10,\"solidity\":0.2}},\"type\":\"bar\"}],\"scattergeo\":[{\"type\":\"scattergeo\",\"marker\":{\"colorbar\":{\"outlinewidth\":0,\"ticks\":\"\"}}}],\"scatterpolar\":[{\"type\":\"scatterpolar\",\"marker\":{\"colorbar\":{\"outlinewidth\":0,\"ticks\":\"\"}}}],\"histogram\":[{\"marker\":{\"pattern\":{\"fillmode\":\"overlay\",\"size\":10,\"solidity\":0.2}},\"type\":\"histogram\"}],\"scattergl\":[{\"type\":\"scattergl\",\"marker\":{\"colorbar\":{\"outlinewidth\":0,\"ticks\":\"\"}}}],\"scatter3d\":[{\"type\":\"scatter3d\",\"line\":{\"colorbar\":{\"outlinewidth\":0,\"ticks\":\"\"}},\"marker\":{\"colorbar\":{\"outlinewidth\":0,\"ticks\":\"\"}}}],\"scattermapbox\":[{\"type\":\"scattermapbox\",\"marker\":{\"colorbar\":{\"outlinewidth\":0,\"ticks\":\"\"}}}],\"scatterternary\":[{\"type\":\"scatterternary\",\"marker\":{\"colorbar\":{\"outlinewidth\":0,\"ticks\":\"\"}}}],\"scattercarpet\":[{\"type\":\"scattercarpet\",\"marker\":{\"colorbar\":{\"outlinewidth\":0,\"ticks\":\"\"}}}],\"carpet\":[{\"aaxis\":{\"endlinecolor\":\"#2a3f5f\",\"gridcolor\":\"white\",\"linecolor\":\"white\",\"minorgridcolor\":\"white\",\"startlinecolor\":\"#2a3f5f\"},\"baxis\":{\"endlinecolor\":\"#2a3f5f\",\"gridcolor\":\"white\",\"linecolor\":\"white\",\"minorgridcolor\":\"white\",\"startlinecolor\":\"#2a3f5f\"},\"type\":\"carpet\"}],\"table\":[{\"cells\":{\"fill\":{\"color\":\"#EBF0F8\"},\"line\":{\"color\":\"white\"}},\"header\":{\"fill\":{\"color\":\"#C8D4E3\"},\"line\":{\"color\":\"white\"}},\"type\":\"table\"}],\"barpolar\":[{\"marker\":{\"line\":{\"color\":\"#E5ECF6\",\"width\":0.5},\"pattern\":{\"fillmode\":\"overlay\",\"size\":10,\"solidity\":0.2}},\"type\":\"barpolar\"}],\"pie\":[{\"automargin\":true,\"type\":\"pie\"}]},\"layout\":{\"autotypenumbers\":\"strict\",\"colorway\":[\"#636efa\",\"#EF553B\",\"#00cc96\",\"#ab63fa\",\"#FFA15A\",\"#19d3f3\",\"#FF6692\",\"#B6E880\",\"#FF97FF\",\"#FECB52\"],\"font\":{\"color\":\"#2a3f5f\"},\"hovermode\":\"closest\",\"hoverlabel\":{\"align\":\"left\"},\"paper_bgcolor\":\"white\",\"plot_bgcolor\":\"#E5ECF6\",\"polar\":{\"bgcolor\":\"#E5ECF6\",\"angularaxis\":{\"gridcolor\":\"white\",\"linecolor\":\"white\",\"ticks\":\"\"},\"radialaxis\":{\"gridcolor\":\"white\",\"linecolor\":\"white\",\"ticks\":\"\"}},\"ternary\":{\"bgcolor\":\"#E5ECF6\",\"aaxis\":{\"gridcolor\":\"white\",\"linecolor\":\"white\",\"ticks\":\"\"},\"baxis\":{\"gridcolor\":\"white\",\"linecolor\":\"white\",\"ticks\":\"\"},\"caxis\":{\"gridcolor\":\"white\",\"linecolor\":\"white\",\"ticks\":\"\"}},\"coloraxis\":{\"colorbar\":{\"outlinewidth\":0,\"ticks\":\"\"}},\"colorscale\":{\"sequential\":[[0.0,\"#0d0887\"],[0.1111111111111111,\"#46039f\"],[0.2222222222222222,\"#7201a8\"],[0.3333333333333333,\"#9c179e\"],[0.4444444444444444,\"#bd3786\"],[0.5555555555555556,\"#d8576b\"],[0.6666666666666666,\"#ed7953\"],[0.7777777777777778,\"#fb9f3a\"],[0.8888888888888888,\"#fdca26\"],[1.0,\"#f0f921\"]],\"sequentialminus\":[[0.0,\"#0d0887\"],[0.1111111111111111,\"#46039f\"],[0.2222222222222222,\"#7201a8\"],[0.3333333333333333,\"#9c179e\"],[0.4444444444444444,\"#bd3786\"],[0.5555555555555556,\"#d8576b\"],[0.6666666666666666,\"#ed7953\"],[0.7777777777777778,\"#fb9f3a\"],[0.8888888888888888,\"#fdca26\"],[1.0,\"#f0f921\"]],\"diverging\":[[0,\"#8e0152\"],[0.1,\"#c51b7d\"],[0.2,\"#de77ae\"],[0.3,\"#f1b6da\"],[0.4,\"#fde0ef\"],[0.5,\"#f7f7f7\"],[0.6,\"#e6f5d0\"],[0.7,\"#b8e186\"],[0.8,\"#7fbc41\"],[0.9,\"#4d9221\"],[1,\"#276419\"]]},\"xaxis\":{\"gridcolor\":\"white\",\"linecolor\":\"white\",\"ticks\":\"\",\"title\":{\"standoff\":15},\"zerolinecolor\":\"white\",\"automargin\":true,\"zerolinewidth\":2},\"yaxis\":{\"gridcolor\":\"white\",\"linecolor\":\"white\",\"ticks\":\"\",\"title\":{\"standoff\":15},\"zerolinecolor\":\"white\",\"automargin\":true,\"zerolinewidth\":2},\"scene\":{\"xaxis\":{\"backgroundcolor\":\"#E5ECF6\",\"gridcolor\":\"white\",\"linecolor\":\"white\",\"showbackground\":true,\"ticks\":\"\",\"zerolinecolor\":\"white\",\"gridwidth\":2},\"yaxis\":{\"backgroundcolor\":\"#E5ECF6\",\"gridcolor\":\"white\",\"linecolor\":\"white\",\"showbackground\":true,\"ticks\":\"\",\"zerolinecolor\":\"white\",\"gridwidth\":2},\"zaxis\":{\"backgroundcolor\":\"#E5ECF6\",\"gridcolor\":\"white\",\"linecolor\":\"white\",\"showbackground\":true,\"ticks\":\"\",\"zerolinecolor\":\"white\",\"gridwidth\":2}},\"shapedefaults\":{\"line\":{\"color\":\"#2a3f5f\"}},\"annotationdefaults\":{\"arrowcolor\":\"#2a3f5f\",\"arrowhead\":0,\"arrowwidth\":1},\"geo\":{\"bgcolor\":\"white\",\"landcolor\":\"#E5ECF6\",\"subunitcolor\":\"white\",\"showland\":true,\"showlakes\":true,\"lakecolor\":\"white\"},\"title\":{\"x\":0.05},\"mapbox\":{\"style\":\"light\"}}},\"font\":{\"family\":\"Courier New, monospace\",\"size\":50,\"color\":\"black\"},\"title\":{\"text\":\"total distance: 5.0222\"},\"showlegend\":true},                        {\"responsive\": true}                    ).then(function(){\n",
       "                            \n",
       "var gd = document.getElementById('b3ce1269-446a-4a3f-a834-bc4b243eb422');\n",
       "var x = new MutationObserver(function (mutations, observer) {{\n",
       "        var display = window.getComputedStyle(gd).display;\n",
       "        if (!display || display === 'none') {{\n",
       "            console.log([gd, 'removed!']);\n",
       "            Plotly.purge(gd);\n",
       "            observer.disconnect();\n",
       "        }}\n",
       "}});\n",
       "\n",
       "// Listen for the removal of the full notebook cells\n",
       "var notebookContainer = gd.closest('#notebook-container');\n",
       "if (notebookContainer) {{\n",
       "    x.observe(notebookContainer, {childList: true});\n",
       "}}\n",
       "\n",
       "// Listen for the clearing of the current output cell\n",
       "var outputEl = gd.closest('.output');\n",
       "if (outputEl) {{\n",
       "    x.observe(outputEl, {childList: true});\n",
       "}}\n",
       "\n",
       "                        })                };                });            </script>        </div>"
      ]
     },
     "metadata": {},
     "output_type": "display_data"
    },
    {
     "name": "stdout",
     "output_type": "stream",
     "text": [
      "2/2 [==============================] - 1s 4ms/step\n"
     ]
    },
    {
     "data": {
      "application/vnd.plotly.v1+json": {
       "config": {
        "plotlyServerURL": "https://plot.ly"
       },
       "data": [
        {
         "hovertemplate": "%{text}",
         "marker": {
          "color": "blue",
          "opacity": 1,
          "size": 20,
          "symbol": "circle"
         },
         "mode": "markers",
         "name": "Con (Augmented)",
         "text": [
          "Text: sh_t pictures most : of the time, ! viewfinder not accurate <br> Label: Con (augmented) <br> Distance: 1.50802",
          "Text: Sometimes ; more than one . sheet of paper is pulled through at a time <br> Label: Con (augmented) <br> Distance: 0.02110",
          "Text: Brightness varies too . much on LCD, video out, and . computer <br> Label: Con (augmented) <br> Distance: 0.48910",
          "Text: A little noisy. ,  <br> Label: Con (augmented) <br> Distance: 0.32869",
          "Text: Functions don't work as well as if individual ; items . (separate ; fax, etc) <br> Label: Con (augmented) <br> Distance: 0.52980",
          "Text: . No USB and ! no optical zoom, not great , in low light <br> Label: Con (augmented) <br> Distance: 0.19345",
          "Text: Does not , fold very compact. <br> Label: Con (augmented) <br> Distance: 0.10437",
          "Text: so new : that it's hard to find or get accessories for <br> Label: Con (augmented) <br> Distance: 0.48849",
          "Text: Battery life is ; terrible <br> Label: Con (augmented) <br> Distance: 0.03265",
          "Text: Software / driver . problems <br> Label: Con (augmented) <br> Distance: 0.03092",
          "Text: Flash recharges slowly with NiMH. Small 8MB ; card. <br> Label: Con (augmented) <br> Distance: 0.00150",
          "Text: Ink smears ? and ; ink blots <br> Label: Con (augmented) <br> Distance: 0.01626",
          "Text: Port cover, antenna when ! extended, takes a , bit to find sweet spot. <br> Label: Con (augmented) <br> Distance: 0.38715",
          "Text: No Back-light : at night. <br> Label: Con (augmented) <br> Distance: 0.03089",
          "Text: could do , with more pixals <br> Label: Con (augmented) <br> Distance: 0.05684"
         ],
         "type": "scatter",
         "x": [
          0.40492178218392794,
          0.7617967749749126,
          0.5562936433786636,
          0.43348777927725296,
          0.948196765747373,
          1.2740853201379516,
          0.5656941705018628,
          0.9422918901461411,
          1.1647681580677531,
          1.1843620309814642,
          1.278363322837007,
          1.0019567574425874,
          0.9184215140085585,
          0.8650370255026125,
          0.6609731305581508
         ],
         "y": [
          0.404209471454993,
          0.7635295340076889,
          0.5598341286338187,
          0.43285127705802073,
          1.13356776515722,
          1.115353560701161,
          0.5640171736282329,
          1.1113147349562669,
          1.280446348962648,
          0.9730676732346173,
          1.2487729860588745,
          1.19461659758908,
          1.0540145041986,
          0.8133339349336314,
          0.6576239823700896
         ]
        },
        {
         "hovertemplate": "%{text}",
         "marker": {
          "color": "blue",
          "opacity": 0.3,
          "size": 60,
          "symbol": "circle"
         },
         "mode": "markers",
         "name": "Con (Original)",
         "text": [
          "Text: sh_t pictures most of the time, viewfinder not accurate <br> Label: Con (original) <br> Distance: 1.50802",
          "Text: Sometimes more than one sheet of paper is pulled through at a time <br> Label: Con (original) <br> Distance: 0.02110",
          "Text: Brightness varies too much on LCD, video out, and computer <br> Label: Con (original) <br> Distance: 0.48910",
          "Text: A little noisy.  <br> Label: Con (original) <br> Distance: 0.32869",
          "Text: Functions don't work as well as if individual items (separate fax, etc) <br> Label: Con (original) <br> Distance: 0.52980",
          "Text: No USB and no optical zoom, not great in low light <br> Label: Con (original) <br> Distance: 0.19345",
          "Text: Does not fold very compact. <br> Label: Con (original) <br> Distance: 0.10437",
          "Text: so new that it's hard to find or get accessories for <br> Label: Con (original) <br> Distance: 0.48849",
          "Text: Battery life is terrible <br> Label: Con (original) <br> Distance: 0.03265",
          "Text: Software / driver problems <br> Label: Con (original) <br> Distance: 0.03092",
          "Text: Flash recharges slowly with NiMH. Small 8MB card. <br> Label: Con (original) <br> Distance: 0.00150",
          "Text: Ink smears and ink blots <br> Label: Con (original) <br> Distance: 0.01626",
          "Text: Port cover, antenna when extended, takes a bit to find sweet spot. <br> Label: Con (original) <br> Distance: 0.38715",
          "Text: No Back-light at night. <br> Label: Con (original) <br> Distance: 0.03089",
          "Text: could do with more pixals <br> Label: Con (original) <br> Distance: 0.05684"
         ],
         "type": "scatter",
         "x": [
          1.0241617357001973,
          0.7699491331879996,
          0.7192117951024833,
          0.5557617910654348,
          1.140885901472946,
          1.282461273169775,
          0.6046456913157318,
          1.109959052793061,
          1.1805159924795552,
          1.1954160466913504,
          1.2782565140662308,
          1.0076954219869199,
          1.0367503489163408,
          0.8500976389033069,
          0.6399238439623055
         ],
         "y": [
          0.8635607609090016,
          0.770847768135004,
          0.7641780398996976,
          0.5539133103585201,
          0.9323036903027595,
          1.226352524176812,
          0.6022789525809168,
          0.9129875821045338,
          1.2789930996583172,
          0.9850649978988629,
          1.2496290989943593,
          1.2010197262402735,
          1.2269017248141512,
          0.8129032001083979,
          0.6365495668168814
         ]
        },
        {
         "hovertemplate": "%{text}",
         "marker": {
          "color": "red",
          "opacity": 1,
          "size": 20,
          "symbol": "diamond"
         },
         "mode": "markers",
         "name": "Pro (Augmented)",
         "text": [
          "Text: 5 , MP, manual features, construction, quality pictures, software ? interface, quick charger. <br> Label: Pro (augmented) <br> Distance: 0.01787",
          "Text: speed, . clarity <br> Label: Pro (augmented) <br> Distance: 0.21638",
          "Text: : egronomic shape, inexpensive, loud ringer, several accessories included, fm . tuner, ! minibrowser <br> Label: Pro (augmented) <br> Distance: 0.63821",
          "Text: fabulous . picture quality, . very quick operation <br> Label: Pro (augmented) <br> Distance: 0.38847",
          "Text: A solidly built  great little ? printer. <br> Label: Pro (augmented) <br> Distance: 0.04635",
          "Text: ? It's cheap <br> Label: Pro (augmented) <br> Distance: 0.54447",
          "Text: ! ...small <br> Label: Pro (augmented) <br> Distance: 2.48095",
          "Text: Buy it! Great ; first digital camera, Comes with docking station, charger, fair price, great quality. <br> Label: Pro (augmented) <br> Distance: 0.35012",
          "Text: instant photos, ease of carrying, , no downloading <br> Label: Pro (augmented) <br> Distance: 0.48430",
          "Text: Great ; Pictures <br> Label: Pro (augmented) <br> Distance: 0.53395",
          "Text: small, enough features ? &#13;&#10; <br> Label: Pro (augmented) <br> Distance: 0.18878",
          "Text: Excellent quality prints., Easy to , install. <br> Label: Pro (augmented) <br> Distance: 0.00648",
          "Text: Great . picture photos <br> Label: Pro (augmented) <br> Distance: 0.47743",
          "Text: Quality LCD Screen, no shutter lag, excellent pictures, ! fantastic ! movies. <br> Label: Pro (augmented) <br> Distance: 0.83053",
          "Text: Easy to use, great battery life, variety of ringtones and faceplates to ; buy. <br> Label: Pro (augmented) <br> Distance: 0.26829"
         ],
         "type": "scatter",
         "x": [
          -1.0323089034222637,
          -0.002452925130050636,
          -1.077620505899858,
          -1.1382645881633735,
          -1.1048897309018766,
          -0.527890988154146,
          -0.819582972882568,
          -1.352042688905037,
          -1.2311900642467444,
          -1.2520733704741802,
          0.1468273448043185,
          -1.325090083855266,
          -1.1928592108146765,
          -1.3313050624589087,
          -1.2645872982917516
         ],
         "y": [
          -1.1891749306013537,
          -0.002345966458860463,
          -1.2701547259652268,
          -0.9978814192245495,
          -0.9976855557485347,
          -0.5272072017873847,
          -0.8184965720114526,
          -1.2227623576495916,
          -1.0352473906102142,
          -1.0465550038825882,
          0.14679569207487067,
          -1.3492291790154398,
          -1.3667577239537803,
          -1.152759707449192,
          -1.377428849604939
         ]
        },
        {
         "hovertemplate": "%{text}",
         "marker": {
          "color": "red",
          "opacity": 0.3,
          "size": 60,
          "symbol": "diamond"
         },
         "mode": "markers",
         "name": "Pro (Original)",
         "text": [
          "Text: 5 MP, manual features, construction, quality pictures, software interface, quick charger. <br> Label: Pro (original) <br> Distance: 0.01787",
          "Text: speed, clarity <br> Label: Pro (original) <br> Distance: 0.21638",
          "Text: egronomic shape, inexpensive, loud ringer, several accessories included, fm tuner, minibrowser <br> Label: Pro (original) <br> Distance: 0.63821",
          "Text: fabulous picture quality, very quick operation <br> Label: Pro (original) <br> Distance: 0.38847",
          "Text: A solidly built  great little printer. <br> Label: Pro (original) <br> Distance: 0.04635",
          "Text: It's cheap <br> Label: Pro (original) <br> Distance: 0.54447",
          "Text: ...small <br> Label: Pro (original) <br> Distance: 2.48095",
          "Text: Buy it! Great first digital camera, Comes with docking station, charger, fair price, great quality. <br> Label: Pro (original) <br> Distance: 0.35012",
          "Text: instant photos, ease of carrying, no downloading <br> Label: Pro (original) <br> Distance: 0.48430",
          "Text: Great Pictures <br> Label: Pro (original) <br> Distance: 0.53395",
          "Text: small, enough features &#13;&#10; <br> Label: Pro (original) <br> Distance: 0.18878",
          "Text: Excellent quality prints., Easy to install. <br> Label: Pro (original) <br> Distance: 0.00648",
          "Text: Great picture photos <br> Label: Pro (original) <br> Distance: 0.47743",
          "Text: Quality LCD Screen, no shutter lag, excellent pictures, fantastic movies. <br> Label: Pro (original) <br> Distance: 0.83053",
          "Text: Easy to use, great battery life, variety of ringtones and faceplates to buy. <br> Label: Pro (original) <br> Distance: 0.26829"
         ],
         "type": "scatter",
         "x": [
          -1.0295165345975064,
          0.07774268429126728,
          -0.940758100049598,
          -0.9536561242026829,
          -1.1272923515231208,
          -0.7297148690266099,
          0.1000018671349643,
          -1.2435765366737026,
          -1.0382728929490064,
          -1.077574829578878,
          0.07686272304693358,
          -1.3223615003979377,
          -1.3297008547008546,
          -0.9611824515265811,
          -1.3520111999261797
         ],
         "y": [
          -1.1794331263237696,
          0.07777400747454033,
          -0.9405769305652303,
          -0.9559309239241398,
          -0.9965015843858076,
          -0.7287724201700098,
          0.10002071949884772,
          -1.3776873454407454,
          -1.1935789744266994,
          -1.2733632608878838,
          0.0768934459424704,
          -1.3510680431226545,
          -1.1451798183977475,
          -0.9665501306454711,
          -1.2631885241584069
         ]
        }
       ],
       "layout": {
        "font": {
         "color": "black",
         "family": "Courier New, monospace",
         "size": 50
        },
        "showlegend": true,
        "template": {
         "data": {
          "bar": [
           {
            "error_x": {
             "color": "#2a3f5f"
            },
            "error_y": {
             "color": "#2a3f5f"
            },
            "marker": {
             "line": {
              "color": "#E5ECF6",
              "width": 0.5
             },
             "pattern": {
              "fillmode": "overlay",
              "size": 10,
              "solidity": 0.2
             }
            },
            "type": "bar"
           }
          ],
          "barpolar": [
           {
            "marker": {
             "line": {
              "color": "#E5ECF6",
              "width": 0.5
             },
             "pattern": {
              "fillmode": "overlay",
              "size": 10,
              "solidity": 0.2
             }
            },
            "type": "barpolar"
           }
          ],
          "carpet": [
           {
            "aaxis": {
             "endlinecolor": "#2a3f5f",
             "gridcolor": "white",
             "linecolor": "white",
             "minorgridcolor": "white",
             "startlinecolor": "#2a3f5f"
            },
            "baxis": {
             "endlinecolor": "#2a3f5f",
             "gridcolor": "white",
             "linecolor": "white",
             "minorgridcolor": "white",
             "startlinecolor": "#2a3f5f"
            },
            "type": "carpet"
           }
          ],
          "choropleth": [
           {
            "colorbar": {
             "outlinewidth": 0,
             "ticks": ""
            },
            "type": "choropleth"
           }
          ],
          "contour": [
           {
            "colorbar": {
             "outlinewidth": 0,
             "ticks": ""
            },
            "colorscale": [
             [
              0,
              "#0d0887"
             ],
             [
              0.1111111111111111,
              "#46039f"
             ],
             [
              0.2222222222222222,
              "#7201a8"
             ],
             [
              0.3333333333333333,
              "#9c179e"
             ],
             [
              0.4444444444444444,
              "#bd3786"
             ],
             [
              0.5555555555555556,
              "#d8576b"
             ],
             [
              0.6666666666666666,
              "#ed7953"
             ],
             [
              0.7777777777777778,
              "#fb9f3a"
             ],
             [
              0.8888888888888888,
              "#fdca26"
             ],
             [
              1,
              "#f0f921"
             ]
            ],
            "type": "contour"
           }
          ],
          "contourcarpet": [
           {
            "colorbar": {
             "outlinewidth": 0,
             "ticks": ""
            },
            "type": "contourcarpet"
           }
          ],
          "heatmap": [
           {
            "colorbar": {
             "outlinewidth": 0,
             "ticks": ""
            },
            "colorscale": [
             [
              0,
              "#0d0887"
             ],
             [
              0.1111111111111111,
              "#46039f"
             ],
             [
              0.2222222222222222,
              "#7201a8"
             ],
             [
              0.3333333333333333,
              "#9c179e"
             ],
             [
              0.4444444444444444,
              "#bd3786"
             ],
             [
              0.5555555555555556,
              "#d8576b"
             ],
             [
              0.6666666666666666,
              "#ed7953"
             ],
             [
              0.7777777777777778,
              "#fb9f3a"
             ],
             [
              0.8888888888888888,
              "#fdca26"
             ],
             [
              1,
              "#f0f921"
             ]
            ],
            "type": "heatmap"
           }
          ],
          "heatmapgl": [
           {
            "colorbar": {
             "outlinewidth": 0,
             "ticks": ""
            },
            "colorscale": [
             [
              0,
              "#0d0887"
             ],
             [
              0.1111111111111111,
              "#46039f"
             ],
             [
              0.2222222222222222,
              "#7201a8"
             ],
             [
              0.3333333333333333,
              "#9c179e"
             ],
             [
              0.4444444444444444,
              "#bd3786"
             ],
             [
              0.5555555555555556,
              "#d8576b"
             ],
             [
              0.6666666666666666,
              "#ed7953"
             ],
             [
              0.7777777777777778,
              "#fb9f3a"
             ],
             [
              0.8888888888888888,
              "#fdca26"
             ],
             [
              1,
              "#f0f921"
             ]
            ],
            "type": "heatmapgl"
           }
          ],
          "histogram": [
           {
            "marker": {
             "pattern": {
              "fillmode": "overlay",
              "size": 10,
              "solidity": 0.2
             }
            },
            "type": "histogram"
           }
          ],
          "histogram2d": [
           {
            "colorbar": {
             "outlinewidth": 0,
             "ticks": ""
            },
            "colorscale": [
             [
              0,
              "#0d0887"
             ],
             [
              0.1111111111111111,
              "#46039f"
             ],
             [
              0.2222222222222222,
              "#7201a8"
             ],
             [
              0.3333333333333333,
              "#9c179e"
             ],
             [
              0.4444444444444444,
              "#bd3786"
             ],
             [
              0.5555555555555556,
              "#d8576b"
             ],
             [
              0.6666666666666666,
              "#ed7953"
             ],
             [
              0.7777777777777778,
              "#fb9f3a"
             ],
             [
              0.8888888888888888,
              "#fdca26"
             ],
             [
              1,
              "#f0f921"
             ]
            ],
            "type": "histogram2d"
           }
          ],
          "histogram2dcontour": [
           {
            "colorbar": {
             "outlinewidth": 0,
             "ticks": ""
            },
            "colorscale": [
             [
              0,
              "#0d0887"
             ],
             [
              0.1111111111111111,
              "#46039f"
             ],
             [
              0.2222222222222222,
              "#7201a8"
             ],
             [
              0.3333333333333333,
              "#9c179e"
             ],
             [
              0.4444444444444444,
              "#bd3786"
             ],
             [
              0.5555555555555556,
              "#d8576b"
             ],
             [
              0.6666666666666666,
              "#ed7953"
             ],
             [
              0.7777777777777778,
              "#fb9f3a"
             ],
             [
              0.8888888888888888,
              "#fdca26"
             ],
             [
              1,
              "#f0f921"
             ]
            ],
            "type": "histogram2dcontour"
           }
          ],
          "mesh3d": [
           {
            "colorbar": {
             "outlinewidth": 0,
             "ticks": ""
            },
            "type": "mesh3d"
           }
          ],
          "parcoords": [
           {
            "line": {
             "colorbar": {
              "outlinewidth": 0,
              "ticks": ""
             }
            },
            "type": "parcoords"
           }
          ],
          "pie": [
           {
            "automargin": true,
            "type": "pie"
           }
          ],
          "scatter": [
           {
            "fillpattern": {
             "fillmode": "overlay",
             "size": 10,
             "solidity": 0.2
            },
            "type": "scatter"
           }
          ],
          "scatter3d": [
           {
            "line": {
             "colorbar": {
              "outlinewidth": 0,
              "ticks": ""
             }
            },
            "marker": {
             "colorbar": {
              "outlinewidth": 0,
              "ticks": ""
             }
            },
            "type": "scatter3d"
           }
          ],
          "scattercarpet": [
           {
            "marker": {
             "colorbar": {
              "outlinewidth": 0,
              "ticks": ""
             }
            },
            "type": "scattercarpet"
           }
          ],
          "scattergeo": [
           {
            "marker": {
             "colorbar": {
              "outlinewidth": 0,
              "ticks": ""
             }
            },
            "type": "scattergeo"
           }
          ],
          "scattergl": [
           {
            "marker": {
             "colorbar": {
              "outlinewidth": 0,
              "ticks": ""
             }
            },
            "type": "scattergl"
           }
          ],
          "scattermapbox": [
           {
            "marker": {
             "colorbar": {
              "outlinewidth": 0,
              "ticks": ""
             }
            },
            "type": "scattermapbox"
           }
          ],
          "scatterpolar": [
           {
            "marker": {
             "colorbar": {
              "outlinewidth": 0,
              "ticks": ""
             }
            },
            "type": "scatterpolar"
           }
          ],
          "scatterpolargl": [
           {
            "marker": {
             "colorbar": {
              "outlinewidth": 0,
              "ticks": ""
             }
            },
            "type": "scatterpolargl"
           }
          ],
          "scatterternary": [
           {
            "marker": {
             "colorbar": {
              "outlinewidth": 0,
              "ticks": ""
             }
            },
            "type": "scatterternary"
           }
          ],
          "surface": [
           {
            "colorbar": {
             "outlinewidth": 0,
             "ticks": ""
            },
            "colorscale": [
             [
              0,
              "#0d0887"
             ],
             [
              0.1111111111111111,
              "#46039f"
             ],
             [
              0.2222222222222222,
              "#7201a8"
             ],
             [
              0.3333333333333333,
              "#9c179e"
             ],
             [
              0.4444444444444444,
              "#bd3786"
             ],
             [
              0.5555555555555556,
              "#d8576b"
             ],
             [
              0.6666666666666666,
              "#ed7953"
             ],
             [
              0.7777777777777778,
              "#fb9f3a"
             ],
             [
              0.8888888888888888,
              "#fdca26"
             ],
             [
              1,
              "#f0f921"
             ]
            ],
            "type": "surface"
           }
          ],
          "table": [
           {
            "cells": {
             "fill": {
              "color": "#EBF0F8"
             },
             "line": {
              "color": "white"
             }
            },
            "header": {
             "fill": {
              "color": "#C8D4E3"
             },
             "line": {
              "color": "white"
             }
            },
            "type": "table"
           }
          ]
         },
         "layout": {
          "annotationdefaults": {
           "arrowcolor": "#2a3f5f",
           "arrowhead": 0,
           "arrowwidth": 1
          },
          "autotypenumbers": "strict",
          "coloraxis": {
           "colorbar": {
            "outlinewidth": 0,
            "ticks": ""
           }
          },
          "colorscale": {
           "diverging": [
            [
             0,
             "#8e0152"
            ],
            [
             0.1,
             "#c51b7d"
            ],
            [
             0.2,
             "#de77ae"
            ],
            [
             0.3,
             "#f1b6da"
            ],
            [
             0.4,
             "#fde0ef"
            ],
            [
             0.5,
             "#f7f7f7"
            ],
            [
             0.6,
             "#e6f5d0"
            ],
            [
             0.7,
             "#b8e186"
            ],
            [
             0.8,
             "#7fbc41"
            ],
            [
             0.9,
             "#4d9221"
            ],
            [
             1,
             "#276419"
            ]
           ],
           "sequential": [
            [
             0,
             "#0d0887"
            ],
            [
             0.1111111111111111,
             "#46039f"
            ],
            [
             0.2222222222222222,
             "#7201a8"
            ],
            [
             0.3333333333333333,
             "#9c179e"
            ],
            [
             0.4444444444444444,
             "#bd3786"
            ],
            [
             0.5555555555555556,
             "#d8576b"
            ],
            [
             0.6666666666666666,
             "#ed7953"
            ],
            [
             0.7777777777777778,
             "#fb9f3a"
            ],
            [
             0.8888888888888888,
             "#fdca26"
            ],
            [
             1,
             "#f0f921"
            ]
           ],
           "sequentialminus": [
            [
             0,
             "#0d0887"
            ],
            [
             0.1111111111111111,
             "#46039f"
            ],
            [
             0.2222222222222222,
             "#7201a8"
            ],
            [
             0.3333333333333333,
             "#9c179e"
            ],
            [
             0.4444444444444444,
             "#bd3786"
            ],
            [
             0.5555555555555556,
             "#d8576b"
            ],
            [
             0.6666666666666666,
             "#ed7953"
            ],
            [
             0.7777777777777778,
             "#fb9f3a"
            ],
            [
             0.8888888888888888,
             "#fdca26"
            ],
            [
             1,
             "#f0f921"
            ]
           ]
          },
          "colorway": [
           "#636efa",
           "#EF553B",
           "#00cc96",
           "#ab63fa",
           "#FFA15A",
           "#19d3f3",
           "#FF6692",
           "#B6E880",
           "#FF97FF",
           "#FECB52"
          ],
          "font": {
           "color": "#2a3f5f"
          },
          "geo": {
           "bgcolor": "white",
           "lakecolor": "white",
           "landcolor": "#E5ECF6",
           "showlakes": true,
           "showland": true,
           "subunitcolor": "white"
          },
          "hoverlabel": {
           "align": "left"
          },
          "hovermode": "closest",
          "mapbox": {
           "style": "light"
          },
          "paper_bgcolor": "white",
          "plot_bgcolor": "#E5ECF6",
          "polar": {
           "angularaxis": {
            "gridcolor": "white",
            "linecolor": "white",
            "ticks": ""
           },
           "bgcolor": "#E5ECF6",
           "radialaxis": {
            "gridcolor": "white",
            "linecolor": "white",
            "ticks": ""
           }
          },
          "scene": {
           "xaxis": {
            "backgroundcolor": "#E5ECF6",
            "gridcolor": "white",
            "gridwidth": 2,
            "linecolor": "white",
            "showbackground": true,
            "ticks": "",
            "zerolinecolor": "white"
           },
           "yaxis": {
            "backgroundcolor": "#E5ECF6",
            "gridcolor": "white",
            "gridwidth": 2,
            "linecolor": "white",
            "showbackground": true,
            "ticks": "",
            "zerolinecolor": "white"
           },
           "zaxis": {
            "backgroundcolor": "#E5ECF6",
            "gridcolor": "white",
            "gridwidth": 2,
            "linecolor": "white",
            "showbackground": true,
            "ticks": "",
            "zerolinecolor": "white"
           }
          },
          "shapedefaults": {
           "line": {
            "color": "#2a3f5f"
           }
          },
          "ternary": {
           "aaxis": {
            "gridcolor": "white",
            "linecolor": "white",
            "ticks": ""
           },
           "baxis": {
            "gridcolor": "white",
            "linecolor": "white",
            "ticks": ""
           },
           "bgcolor": "#E5ECF6",
           "caxis": {
            "gridcolor": "white",
            "linecolor": "white",
            "ticks": ""
           }
          },
          "title": {
           "x": 0.05
          },
          "xaxis": {
           "automargin": true,
           "gridcolor": "white",
           "linecolor": "white",
           "ticks": "",
           "title": {
            "standoff": 15
           },
           "zerolinecolor": "white",
           "zerolinewidth": 2
          },
          "yaxis": {
           "automargin": true,
           "gridcolor": "white",
           "linecolor": "white",
           "ticks": "",
           "title": {
            "standoff": 15
           },
           "zerolinecolor": "white",
           "zerolinewidth": 2
          }
         }
        },
        "title": {
         "text": "total distance: 4.6973"
        }
       }
      },
      "text/html": [
       "<div>                            <div id=\"bb4c46fd-4cd6-4b85-a0bc-b5f319ac89ba\" class=\"plotly-graph-div\" style=\"height:525px; width:100%;\"></div>            <script type=\"text/javascript\">                require([\"plotly\"], function(Plotly) {                    window.PLOTLYENV=window.PLOTLYENV || {};                                    if (document.getElementById(\"bb4c46fd-4cd6-4b85-a0bc-b5f319ac89ba\")) {                    Plotly.newPlot(                        \"bb4c46fd-4cd6-4b85-a0bc-b5f319ac89ba\",                        [{\"hovertemplate\":\"%{text}\",\"marker\":{\"color\":\"blue\",\"opacity\":1,\"size\":20,\"symbol\":\"circle\"},\"mode\":\"markers\",\"name\":\"Con (Augmented)\",\"text\":[\"Text: sh_t pictures most : of the time, ! viewfinder not accurate <br> Label: Con (augmented) <br> Distance: 1.50802\",\"Text: Sometimes ; more than one . sheet of paper is pulled through at a time <br> Label: Con (augmented) <br> Distance: 0.02110\",\"Text: Brightness varies too . much on LCD, video out, and . computer <br> Label: Con (augmented) <br> Distance: 0.48910\",\"Text: A little noisy. ,  <br> Label: Con (augmented) <br> Distance: 0.32869\",\"Text: Functions don't work as well as if individual ; items . (separate ; fax, etc) <br> Label: Con (augmented) <br> Distance: 0.52980\",\"Text: . No USB and ! no optical zoom, not great , in low light <br> Label: Con (augmented) <br> Distance: 0.19345\",\"Text: Does not , fold very compact. <br> Label: Con (augmented) <br> Distance: 0.10437\",\"Text: so new : that it's hard to find or get accessories for <br> Label: Con (augmented) <br> Distance: 0.48849\",\"Text: Battery life is ; terrible <br> Label: Con (augmented) <br> Distance: 0.03265\",\"Text: Software / driver . problems <br> Label: Con (augmented) <br> Distance: 0.03092\",\"Text: Flash recharges slowly with NiMH. Small 8MB ; card. <br> Label: Con (augmented) <br> Distance: 0.00150\",\"Text: Ink smears ? and ; ink blots <br> Label: Con (augmented) <br> Distance: 0.01626\",\"Text: Port cover, antenna when ! extended, takes a , bit to find sweet spot. <br> Label: Con (augmented) <br> Distance: 0.38715\",\"Text: No Back-light : at night. <br> Label: Con (augmented) <br> Distance: 0.03089\",\"Text: could do , with more pixals <br> Label: Con (augmented) <br> Distance: 0.05684\"],\"x\":[0.40492178218392794,0.7617967749749126,0.5562936433786636,0.43348777927725296,0.948196765747373,1.2740853201379516,0.5656941705018628,0.9422918901461411,1.1647681580677531,1.1843620309814642,1.278363322837007,1.0019567574425874,0.9184215140085585,0.8650370255026125,0.6609731305581508],\"y\":[0.404209471454993,0.7635295340076889,0.5598341286338187,0.43285127705802073,1.13356776515722,1.115353560701161,0.5640171736282329,1.1113147349562669,1.280446348962648,0.9730676732346173,1.2487729860588745,1.19461659758908,1.0540145041986,0.8133339349336314,0.6576239823700896],\"type\":\"scatter\"},{\"hovertemplate\":\"%{text}\",\"marker\":{\"color\":\"blue\",\"opacity\":0.3,\"size\":60,\"symbol\":\"circle\"},\"mode\":\"markers\",\"name\":\"Con (Original)\",\"text\":[\"Text: sh_t pictures most of the time, viewfinder not accurate <br> Label: Con (original) <br> Distance: 1.50802\",\"Text: Sometimes more than one sheet of paper is pulled through at a time <br> Label: Con (original) <br> Distance: 0.02110\",\"Text: Brightness varies too much on LCD, video out, and computer <br> Label: Con (original) <br> Distance: 0.48910\",\"Text: A little noisy.  <br> Label: Con (original) <br> Distance: 0.32869\",\"Text: Functions don't work as well as if individual items (separate fax, etc) <br> Label: Con (original) <br> Distance: 0.52980\",\"Text: No USB and no optical zoom, not great in low light <br> Label: Con (original) <br> Distance: 0.19345\",\"Text: Does not fold very compact. <br> Label: Con (original) <br> Distance: 0.10437\",\"Text: so new that it's hard to find or get accessories for <br> Label: Con (original) <br> Distance: 0.48849\",\"Text: Battery life is terrible <br> Label: Con (original) <br> Distance: 0.03265\",\"Text: Software / driver problems <br> Label: Con (original) <br> Distance: 0.03092\",\"Text: Flash recharges slowly with NiMH. Small 8MB card. <br> Label: Con (original) <br> Distance: 0.00150\",\"Text: Ink smears and ink blots <br> Label: Con (original) <br> Distance: 0.01626\",\"Text: Port cover, antenna when extended, takes a bit to find sweet spot. <br> Label: Con (original) <br> Distance: 0.38715\",\"Text: No Back-light at night. <br> Label: Con (original) <br> Distance: 0.03089\",\"Text: could do with more pixals <br> Label: Con (original) <br> Distance: 0.05684\"],\"x\":[1.0241617357001973,0.7699491331879996,0.7192117951024833,0.5557617910654348,1.140885901472946,1.282461273169775,0.6046456913157318,1.109959052793061,1.1805159924795552,1.1954160466913504,1.2782565140662308,1.0076954219869199,1.0367503489163408,0.8500976389033069,0.6399238439623055],\"y\":[0.8635607609090016,0.770847768135004,0.7641780398996976,0.5539133103585201,0.9323036903027595,1.226352524176812,0.6022789525809168,0.9129875821045338,1.2789930996583172,0.9850649978988629,1.2496290989943593,1.2010197262402735,1.2269017248141512,0.8129032001083979,0.6365495668168814],\"type\":\"scatter\"},{\"hovertemplate\":\"%{text}\",\"marker\":{\"color\":\"red\",\"opacity\":1,\"size\":20,\"symbol\":\"diamond\"},\"mode\":\"markers\",\"name\":\"Pro (Augmented)\",\"text\":[\"Text: 5 , MP, manual features, construction, quality pictures, software ? interface, quick charger. <br> Label: Pro (augmented) <br> Distance: 0.01787\",\"Text: speed, . clarity <br> Label: Pro (augmented) <br> Distance: 0.21638\",\"Text: : egronomic shape, inexpensive, loud ringer, several accessories included, fm . tuner, ! minibrowser <br> Label: Pro (augmented) <br> Distance: 0.63821\",\"Text: fabulous . picture quality, . very quick operation <br> Label: Pro (augmented) <br> Distance: 0.38847\",\"Text: A solidly built  great little ? printer. <br> Label: Pro (augmented) <br> Distance: 0.04635\",\"Text: ? It's cheap <br> Label: Pro (augmented) <br> Distance: 0.54447\",\"Text: ! ...small <br> Label: Pro (augmented) <br> Distance: 2.48095\",\"Text: Buy it! Great ; first digital camera, Comes with docking station, charger, fair price, great quality. <br> Label: Pro (augmented) <br> Distance: 0.35012\",\"Text: instant photos, ease of carrying, , no downloading <br> Label: Pro (augmented) <br> Distance: 0.48430\",\"Text: Great ; Pictures <br> Label: Pro (augmented) <br> Distance: 0.53395\",\"Text: small, enough features ? &#13;&#10; <br> Label: Pro (augmented) <br> Distance: 0.18878\",\"Text: Excellent quality prints., Easy to , install. <br> Label: Pro (augmented) <br> Distance: 0.00648\",\"Text: Great . picture photos <br> Label: Pro (augmented) <br> Distance: 0.47743\",\"Text: Quality LCD Screen, no shutter lag, excellent pictures, ! fantastic ! movies. <br> Label: Pro (augmented) <br> Distance: 0.83053\",\"Text: Easy to use, great battery life, variety of ringtones and faceplates to ; buy. <br> Label: Pro (augmented) <br> Distance: 0.26829\"],\"x\":[-1.0323089034222637,-0.002452925130050636,-1.077620505899858,-1.1382645881633735,-1.1048897309018766,-0.527890988154146,-0.819582972882568,-1.352042688905037,-1.2311900642467444,-1.2520733704741802,0.1468273448043185,-1.325090083855266,-1.1928592108146765,-1.3313050624589087,-1.2645872982917516],\"y\":[-1.1891749306013537,-0.002345966458860463,-1.2701547259652268,-0.9978814192245495,-0.9976855557485347,-0.5272072017873847,-0.8184965720114526,-1.2227623576495916,-1.0352473906102142,-1.0465550038825882,0.14679569207487067,-1.3492291790154398,-1.3667577239537803,-1.152759707449192,-1.377428849604939],\"type\":\"scatter\"},{\"hovertemplate\":\"%{text}\",\"marker\":{\"color\":\"red\",\"opacity\":0.3,\"size\":60,\"symbol\":\"diamond\"},\"mode\":\"markers\",\"name\":\"Pro (Original)\",\"text\":[\"Text: 5 MP, manual features, construction, quality pictures, software interface, quick charger. <br> Label: Pro (original) <br> Distance: 0.01787\",\"Text: speed, clarity <br> Label: Pro (original) <br> Distance: 0.21638\",\"Text: egronomic shape, inexpensive, loud ringer, several accessories included, fm tuner, minibrowser <br> Label: Pro (original) <br> Distance: 0.63821\",\"Text: fabulous picture quality, very quick operation <br> Label: Pro (original) <br> Distance: 0.38847\",\"Text: A solidly built  great little printer. <br> Label: Pro (original) <br> Distance: 0.04635\",\"Text: It's cheap <br> Label: Pro (original) <br> Distance: 0.54447\",\"Text: ...small <br> Label: Pro (original) <br> Distance: 2.48095\",\"Text: Buy it! Great first digital camera, Comes with docking station, charger, fair price, great quality. <br> Label: Pro (original) <br> Distance: 0.35012\",\"Text: instant photos, ease of carrying, no downloading <br> Label: Pro (original) <br> Distance: 0.48430\",\"Text: Great Pictures <br> Label: Pro (original) <br> Distance: 0.53395\",\"Text: small, enough features &#13;&#10; <br> Label: Pro (original) <br> Distance: 0.18878\",\"Text: Excellent quality prints., Easy to install. <br> Label: Pro (original) <br> Distance: 0.00648\",\"Text: Great picture photos <br> Label: Pro (original) <br> Distance: 0.47743\",\"Text: Quality LCD Screen, no shutter lag, excellent pictures, fantastic movies. <br> Label: Pro (original) <br> Distance: 0.83053\",\"Text: Easy to use, great battery life, variety of ringtones and faceplates to buy. <br> Label: Pro (original) <br> Distance: 0.26829\"],\"x\":[-1.0295165345975064,0.07774268429126728,-0.940758100049598,-0.9536561242026829,-1.1272923515231208,-0.7297148690266099,0.1000018671349643,-1.2435765366737026,-1.0382728929490064,-1.077574829578878,0.07686272304693358,-1.3223615003979377,-1.3297008547008546,-0.9611824515265811,-1.3520111999261797],\"y\":[-1.1794331263237696,0.07777400747454033,-0.9405769305652303,-0.9559309239241398,-0.9965015843858076,-0.7287724201700098,0.10002071949884772,-1.3776873454407454,-1.1935789744266994,-1.2733632608878838,0.0768934459424704,-1.3510680431226545,-1.1451798183977475,-0.9665501306454711,-1.2631885241584069],\"type\":\"scatter\"}],                        {\"template\":{\"data\":{\"histogram2dcontour\":[{\"type\":\"histogram2dcontour\",\"colorbar\":{\"outlinewidth\":0,\"ticks\":\"\"},\"colorscale\":[[0.0,\"#0d0887\"],[0.1111111111111111,\"#46039f\"],[0.2222222222222222,\"#7201a8\"],[0.3333333333333333,\"#9c179e\"],[0.4444444444444444,\"#bd3786\"],[0.5555555555555556,\"#d8576b\"],[0.6666666666666666,\"#ed7953\"],[0.7777777777777778,\"#fb9f3a\"],[0.8888888888888888,\"#fdca26\"],[1.0,\"#f0f921\"]]}],\"choropleth\":[{\"type\":\"choropleth\",\"colorbar\":{\"outlinewidth\":0,\"ticks\":\"\"}}],\"histogram2d\":[{\"type\":\"histogram2d\",\"colorbar\":{\"outlinewidth\":0,\"ticks\":\"\"},\"colorscale\":[[0.0,\"#0d0887\"],[0.1111111111111111,\"#46039f\"],[0.2222222222222222,\"#7201a8\"],[0.3333333333333333,\"#9c179e\"],[0.4444444444444444,\"#bd3786\"],[0.5555555555555556,\"#d8576b\"],[0.6666666666666666,\"#ed7953\"],[0.7777777777777778,\"#fb9f3a\"],[0.8888888888888888,\"#fdca26\"],[1.0,\"#f0f921\"]]}],\"heatmap\":[{\"type\":\"heatmap\",\"colorbar\":{\"outlinewidth\":0,\"ticks\":\"\"},\"colorscale\":[[0.0,\"#0d0887\"],[0.1111111111111111,\"#46039f\"],[0.2222222222222222,\"#7201a8\"],[0.3333333333333333,\"#9c179e\"],[0.4444444444444444,\"#bd3786\"],[0.5555555555555556,\"#d8576b\"],[0.6666666666666666,\"#ed7953\"],[0.7777777777777778,\"#fb9f3a\"],[0.8888888888888888,\"#fdca26\"],[1.0,\"#f0f921\"]]}],\"heatmapgl\":[{\"type\":\"heatmapgl\",\"colorbar\":{\"outlinewidth\":0,\"ticks\":\"\"},\"colorscale\":[[0.0,\"#0d0887\"],[0.1111111111111111,\"#46039f\"],[0.2222222222222222,\"#7201a8\"],[0.3333333333333333,\"#9c179e\"],[0.4444444444444444,\"#bd3786\"],[0.5555555555555556,\"#d8576b\"],[0.6666666666666666,\"#ed7953\"],[0.7777777777777778,\"#fb9f3a\"],[0.8888888888888888,\"#fdca26\"],[1.0,\"#f0f921\"]]}],\"contourcarpet\":[{\"type\":\"contourcarpet\",\"colorbar\":{\"outlinewidth\":0,\"ticks\":\"\"}}],\"contour\":[{\"type\":\"contour\",\"colorbar\":{\"outlinewidth\":0,\"ticks\":\"\"},\"colorscale\":[[0.0,\"#0d0887\"],[0.1111111111111111,\"#46039f\"],[0.2222222222222222,\"#7201a8\"],[0.3333333333333333,\"#9c179e\"],[0.4444444444444444,\"#bd3786\"],[0.5555555555555556,\"#d8576b\"],[0.6666666666666666,\"#ed7953\"],[0.7777777777777778,\"#fb9f3a\"],[0.8888888888888888,\"#fdca26\"],[1.0,\"#f0f921\"]]}],\"surface\":[{\"type\":\"surface\",\"colorbar\":{\"outlinewidth\":0,\"ticks\":\"\"},\"colorscale\":[[0.0,\"#0d0887\"],[0.1111111111111111,\"#46039f\"],[0.2222222222222222,\"#7201a8\"],[0.3333333333333333,\"#9c179e\"],[0.4444444444444444,\"#bd3786\"],[0.5555555555555556,\"#d8576b\"],[0.6666666666666666,\"#ed7953\"],[0.7777777777777778,\"#fb9f3a\"],[0.8888888888888888,\"#fdca26\"],[1.0,\"#f0f921\"]]}],\"mesh3d\":[{\"type\":\"mesh3d\",\"colorbar\":{\"outlinewidth\":0,\"ticks\":\"\"}}],\"scatter\":[{\"fillpattern\":{\"fillmode\":\"overlay\",\"size\":10,\"solidity\":0.2},\"type\":\"scatter\"}],\"parcoords\":[{\"type\":\"parcoords\",\"line\":{\"colorbar\":{\"outlinewidth\":0,\"ticks\":\"\"}}}],\"scatterpolargl\":[{\"type\":\"scatterpolargl\",\"marker\":{\"colorbar\":{\"outlinewidth\":0,\"ticks\":\"\"}}}],\"bar\":[{\"error_x\":{\"color\":\"#2a3f5f\"},\"error_y\":{\"color\":\"#2a3f5f\"},\"marker\":{\"line\":{\"color\":\"#E5ECF6\",\"width\":0.5},\"pattern\":{\"fillmode\":\"overlay\",\"size\":10,\"solidity\":0.2}},\"type\":\"bar\"}],\"scattergeo\":[{\"type\":\"scattergeo\",\"marker\":{\"colorbar\":{\"outlinewidth\":0,\"ticks\":\"\"}}}],\"scatterpolar\":[{\"type\":\"scatterpolar\",\"marker\":{\"colorbar\":{\"outlinewidth\":0,\"ticks\":\"\"}}}],\"histogram\":[{\"marker\":{\"pattern\":{\"fillmode\":\"overlay\",\"size\":10,\"solidity\":0.2}},\"type\":\"histogram\"}],\"scattergl\":[{\"type\":\"scattergl\",\"marker\":{\"colorbar\":{\"outlinewidth\":0,\"ticks\":\"\"}}}],\"scatter3d\":[{\"type\":\"scatter3d\",\"line\":{\"colorbar\":{\"outlinewidth\":0,\"ticks\":\"\"}},\"marker\":{\"colorbar\":{\"outlinewidth\":0,\"ticks\":\"\"}}}],\"scattermapbox\":[{\"type\":\"scattermapbox\",\"marker\":{\"colorbar\":{\"outlinewidth\":0,\"ticks\":\"\"}}}],\"scatterternary\":[{\"type\":\"scatterternary\",\"marker\":{\"colorbar\":{\"outlinewidth\":0,\"ticks\":\"\"}}}],\"scattercarpet\":[{\"type\":\"scattercarpet\",\"marker\":{\"colorbar\":{\"outlinewidth\":0,\"ticks\":\"\"}}}],\"carpet\":[{\"aaxis\":{\"endlinecolor\":\"#2a3f5f\",\"gridcolor\":\"white\",\"linecolor\":\"white\",\"minorgridcolor\":\"white\",\"startlinecolor\":\"#2a3f5f\"},\"baxis\":{\"endlinecolor\":\"#2a3f5f\",\"gridcolor\":\"white\",\"linecolor\":\"white\",\"minorgridcolor\":\"white\",\"startlinecolor\":\"#2a3f5f\"},\"type\":\"carpet\"}],\"table\":[{\"cells\":{\"fill\":{\"color\":\"#EBF0F8\"},\"line\":{\"color\":\"white\"}},\"header\":{\"fill\":{\"color\":\"#C8D4E3\"},\"line\":{\"color\":\"white\"}},\"type\":\"table\"}],\"barpolar\":[{\"marker\":{\"line\":{\"color\":\"#E5ECF6\",\"width\":0.5},\"pattern\":{\"fillmode\":\"overlay\",\"size\":10,\"solidity\":0.2}},\"type\":\"barpolar\"}],\"pie\":[{\"automargin\":true,\"type\":\"pie\"}]},\"layout\":{\"autotypenumbers\":\"strict\",\"colorway\":[\"#636efa\",\"#EF553B\",\"#00cc96\",\"#ab63fa\",\"#FFA15A\",\"#19d3f3\",\"#FF6692\",\"#B6E880\",\"#FF97FF\",\"#FECB52\"],\"font\":{\"color\":\"#2a3f5f\"},\"hovermode\":\"closest\",\"hoverlabel\":{\"align\":\"left\"},\"paper_bgcolor\":\"white\",\"plot_bgcolor\":\"#E5ECF6\",\"polar\":{\"bgcolor\":\"#E5ECF6\",\"angularaxis\":{\"gridcolor\":\"white\",\"linecolor\":\"white\",\"ticks\":\"\"},\"radialaxis\":{\"gridcolor\":\"white\",\"linecolor\":\"white\",\"ticks\":\"\"}},\"ternary\":{\"bgcolor\":\"#E5ECF6\",\"aaxis\":{\"gridcolor\":\"white\",\"linecolor\":\"white\",\"ticks\":\"\"},\"baxis\":{\"gridcolor\":\"white\",\"linecolor\":\"white\",\"ticks\":\"\"},\"caxis\":{\"gridcolor\":\"white\",\"linecolor\":\"white\",\"ticks\":\"\"}},\"coloraxis\":{\"colorbar\":{\"outlinewidth\":0,\"ticks\":\"\"}},\"colorscale\":{\"sequential\":[[0.0,\"#0d0887\"],[0.1111111111111111,\"#46039f\"],[0.2222222222222222,\"#7201a8\"],[0.3333333333333333,\"#9c179e\"],[0.4444444444444444,\"#bd3786\"],[0.5555555555555556,\"#d8576b\"],[0.6666666666666666,\"#ed7953\"],[0.7777777777777778,\"#fb9f3a\"],[0.8888888888888888,\"#fdca26\"],[1.0,\"#f0f921\"]],\"sequentialminus\":[[0.0,\"#0d0887\"],[0.1111111111111111,\"#46039f\"],[0.2222222222222222,\"#7201a8\"],[0.3333333333333333,\"#9c179e\"],[0.4444444444444444,\"#bd3786\"],[0.5555555555555556,\"#d8576b\"],[0.6666666666666666,\"#ed7953\"],[0.7777777777777778,\"#fb9f3a\"],[0.8888888888888888,\"#fdca26\"],[1.0,\"#f0f921\"]],\"diverging\":[[0,\"#8e0152\"],[0.1,\"#c51b7d\"],[0.2,\"#de77ae\"],[0.3,\"#f1b6da\"],[0.4,\"#fde0ef\"],[0.5,\"#f7f7f7\"],[0.6,\"#e6f5d0\"],[0.7,\"#b8e186\"],[0.8,\"#7fbc41\"],[0.9,\"#4d9221\"],[1,\"#276419\"]]},\"xaxis\":{\"gridcolor\":\"white\",\"linecolor\":\"white\",\"ticks\":\"\",\"title\":{\"standoff\":15},\"zerolinecolor\":\"white\",\"automargin\":true,\"zerolinewidth\":2},\"yaxis\":{\"gridcolor\":\"white\",\"linecolor\":\"white\",\"ticks\":\"\",\"title\":{\"standoff\":15},\"zerolinecolor\":\"white\",\"automargin\":true,\"zerolinewidth\":2},\"scene\":{\"xaxis\":{\"backgroundcolor\":\"#E5ECF6\",\"gridcolor\":\"white\",\"linecolor\":\"white\",\"showbackground\":true,\"ticks\":\"\",\"zerolinecolor\":\"white\",\"gridwidth\":2},\"yaxis\":{\"backgroundcolor\":\"#E5ECF6\",\"gridcolor\":\"white\",\"linecolor\":\"white\",\"showbackground\":true,\"ticks\":\"\",\"zerolinecolor\":\"white\",\"gridwidth\":2},\"zaxis\":{\"backgroundcolor\":\"#E5ECF6\",\"gridcolor\":\"white\",\"linecolor\":\"white\",\"showbackground\":true,\"ticks\":\"\",\"zerolinecolor\":\"white\",\"gridwidth\":2}},\"shapedefaults\":{\"line\":{\"color\":\"#2a3f5f\"}},\"annotationdefaults\":{\"arrowcolor\":\"#2a3f5f\",\"arrowhead\":0,\"arrowwidth\":1},\"geo\":{\"bgcolor\":\"white\",\"landcolor\":\"#E5ECF6\",\"subunitcolor\":\"white\",\"showland\":true,\"showlakes\":true,\"lakecolor\":\"white\"},\"title\":{\"x\":0.05},\"mapbox\":{\"style\":\"light\"}}},\"font\":{\"family\":\"Courier New, monospace\",\"size\":50,\"color\":\"black\"},\"title\":{\"text\":\"total distance: 4.6973\"},\"showlegend\":true},                        {\"responsive\": true}                    ).then(function(){\n",
       "                            \n",
       "var gd = document.getElementById('bb4c46fd-4cd6-4b85-a0bc-b5f319ac89ba');\n",
       "var x = new MutationObserver(function (mutations, observer) {{\n",
       "        var display = window.getComputedStyle(gd).display;\n",
       "        if (!display || display === 'none') {{\n",
       "            console.log([gd, 'removed!']);\n",
       "            Plotly.purge(gd);\n",
       "            observer.disconnect();\n",
       "        }}\n",
       "}});\n",
       "\n",
       "// Listen for the removal of the full notebook cells\n",
       "var notebookContainer = gd.closest('#notebook-container');\n",
       "if (notebookContainer) {{\n",
       "    x.observe(notebookContainer, {childList: true});\n",
       "}}\n",
       "\n",
       "// Listen for the clearing of the current output cell\n",
       "var outputEl = gd.closest('.output');\n",
       "if (outputEl) {{\n",
       "    x.observe(outputEl, {childList: true});\n",
       "}}\n",
       "\n",
       "                        })                };                });            </script>        </div>"
      ]
     },
     "metadata": {},
     "output_type": "display_data"
    },
    {
     "name": "stdout",
     "output_type": "stream",
     "text": [
      "2/2 [==============================] - 1s 4ms/step\n"
     ]
    },
    {
     "data": {
      "application/vnd.plotly.v1+json": {
       "config": {
        "plotlyServerURL": "https://plot.ly"
       },
       "data": [
        {
         "hovertemplate": "%{text}",
         "marker": {
          "color": "blue",
          "opacity": 1,
          "size": 20,
          "symbol": "circle"
         },
         "mode": "markers",
         "name": "Con (Augmented)",
         "text": [
          "Text: Software / Controller Problems <br> Label: Con (augmented) <br> Distance: 0.44865",
          "Text: Sometimes there's more than one pedal of paper per vehicle. <br> Label: Con (augmented) <br> Distance: 0.15102",
          "Text: A little noisy. <br> Label: Con (augmented) <br> Distance: 0.00000",
          "Text: Ink stains and ink stains <br> Label: Con (augmented) <br> Distance: 0.73346",
          "Text: It doesn't bend very tightly. <br> Label: Con (augmented) <br> Distance: 1.71583",
          "Text: Covering the door, the antenna when it extends, takes a while to find the addol. <br> Label: Con (augmented) <br> Distance: 1.01569",
          "Text: Pixal Pixal Pixal Pixal Pixal Pixal Pixal Pixal Pixal Pixal Pixal Pixal Pixal Pixal Pixal Pixal Pixal Pixal Pixal Pixal Pixal Pixal Pixal Pixal Pixal Pixal Pixal Pixal Pixal Pixal Pixal Pixal Pixal Pixal Pixal Pixal Pixal Pixal Pixal Pixal Pixal Pixal Pixal Pixal Pixal Pixal Pixal Pixal Pixal Pixal Pixal Pixal Pixal Pixal Pixal Pixal Pixal Pixal Pixal Pixal Pixal Pixal Pixal Pixal Pixal Pixal Pixal <br> Label: Con (augmented) <br> Distance: 1.78331",
          "Text: There is no rear light during the night. <br> Label: Con (augmented) <br> Distance: 0.43775",
          "Text: The long-lived battery is terrible. <br> Label: Con (augmented) <br> Distance: 2.41187",
          "Text: Lighting changes path to LCD, view and page <br> Label: Con (augmented) <br> Distance: 2.29988",
          "Text: Slow flash load in the NiMH cartridge. 8MB. <br> Label: Con (augmented) <br> Distance: 0.06600",
          "Text: The new thing is that it is difficult, that it can complete, that it can fill. <br> Label: Con (augmented) <br> Distance: 2.82543",
          "Text: Functions did not work as well as individual elements (separate fax, etc.) <br> Label: Con (augmented) <br> Distance: 0.51016",
          "Text: Sh_t images most of the time, the viewfinder is not required <br> Label: Con (augmented) <br> Distance: 0.33184",
          "Text: No zoom and USB optics, no big low lights <br> Label: Con (augmented) <br> Distance: 0.09173"
         ],
         "type": "scatter",
         "x": [
          -0.8446031939718861,
          -0.7586769279042019,
          -0.5813373340936062,
          -0.803197068331438,
          0.007816253723188797,
          -0.7494829624403475,
          -0.003994781457476173,
          -0.8492841247771132,
          -0.3586520072534805,
          0.07825721964898696,
          -1.317065175357433,
          -0.045239387335034006,
          -0.9680861995331019,
          -1.0366283793113413,
          -1.3853312898323287
         ],
         "y": [
          -1.0641501746879414,
          -0.7629351308720629,
          -0.5814499904532858,
          -0.982343041707291,
          0.007520820403888083,
          -0.8216680967073429,
          -0.0043755858968817386,
          -1.0253824610700795,
          -0.36071990330373765,
          0.07828798122544517,
          -1.3462146431719346,
          -0.0458182775511452,
          -1.1829191482053254,
          -0.8699890394897448,
          -1.2709838676432461
         ]
        },
        {
         "hovertemplate": "%{text}",
         "marker": {
          "color": "blue",
          "opacity": 0.3,
          "size": 60,
          "symbol": "circle"
         },
         "mode": "markers",
         "name": "Con (Original)",
         "text": [
          "Text: Software / driver problems <br> Label: Con (original) <br> Distance: 0.44865",
          "Text: Sometimes more than one sheet of paper is pulled through at a time <br> Label: Con (original) <br> Distance: 0.15102",
          "Text: A little noisy.  <br> Label: Con (original) <br> Distance: 0.00000",
          "Text: Ink smears and ink blots <br> Label: Con (original) <br> Distance: 0.73346",
          "Text: Does not fold very compact. <br> Label: Con (original) <br> Distance: 1.71583",
          "Text: Port cover, antenna when extended, takes a bit to find sweet spot. <br> Label: Con (original) <br> Distance: 1.01569",
          "Text: could do with more pixals <br> Label: Con (original) <br> Distance: 1.78331",
          "Text: No Back-light at night. <br> Label: Con (original) <br> Distance: 0.43775",
          "Text: Battery life is terrible <br> Label: Con (original) <br> Distance: 2.41187",
          "Text: Brightness varies too much on LCD, video out, and computer <br> Label: Con (original) <br> Distance: 2.29988",
          "Text: Flash recharges slowly with NiMH. Small 8MB card. <br> Label: Con (original) <br> Distance: 0.06600",
          "Text: so new that it's hard to find or get accessories for <br> Label: Con (original) <br> Distance: 2.82543",
          "Text: Functions don't work as well as if individual items (separate fax, etc) <br> Label: Con (original) <br> Distance: 0.51016",
          "Text: sh_t pictures most of the time, viewfinder not accurate <br> Label: Con (original) <br> Distance: 0.33184",
          "Text: No USB and no optical zoom, not great in low light <br> Label: Con (original) <br> Distance: 0.09173"
         ],
         "type": "scatter",
         "x": [
          -1.0302103426778702,
          -0.8275293026942744,
          -0.5813372423470781,
          -1.3307637577359526,
          -0.637678154555284,
          -1.0363588280114995,
          -0.6767815226162073,
          -1.005044728726159,
          -1.3992579540799452,
          -0.6950946801234358,
          -1.275389498417143,
          -0.9454508172092633,
          -1.3032645708395587,
          -1.2022634785971404,
          -1.3389549795198812
         ],
         "y": [
          -1.2269504306486358,
          -0.8152947287671278,
          -0.5814498878556048,
          -1.0946171203313824,
          -0.6366235349435903,
          -1.2282489581974982,
          -0.6732557291314522,
          -0.858350768954229,
          -1.2201850882683758,
          -0.8119524041150288,
          -1.3299798939324654,
          -1.1525935308673845,
          -1.0685832665849921,
          -0.978684613600205,
          -1.3007433509777404
         ]
        },
        {
         "hovertemplate": "%{text}",
         "marker": {
          "color": "red",
          "opacity": 1,
          "size": 20,
          "symbol": "diamond"
         },
         "mode": "markers",
         "name": "Pro (Augmented)",
         "text": [
          "Text: Small and sufficient features &#13;&#10; <br> Label: Pro (augmented) <br> Distance: 2.69634",
          "Text: It's a board. <br> Label: Pro (augmented) <br> Distance: 1.36795",
          "Text: 5 MP, manual features, construction, quality photos, software interface, fast charger. <br> Label: Pro (augmented) <br> Distance: 0.15320",
          "Text: Instant photography, easy to transport, without downloading <br> Label: Pro (augmented) <br> Distance: 0.33855",
          "Text: Large images <br> Label: Pro (augmented) <br> Distance: 3.50675",
          "Text: Ergonomic shape, low cost sonar, strong, various accessories included, fm tuner, minibrowser <br> Label: Pro (augmented) <br> Distance: 0.07602",
          "Text: Excellent quality prints., Easy to install. <br> Label: Pro (augmented) <br> Distance: 0.00000",
          "Text: Hurry up, maureye. <br> Label: Pro (augmented) <br> Distance: 0.09108",
          "Text: Fabulous image quality, very fast operation <br> Label: Pro (augmented) <br> Distance: 0.38217",
          "Text: Large images <br> Label: Pro (augmented) <br> Distance: 3.29752",
          "Text: A large and tiny printer solidly built. <br> Label: Pro (augmented) <br> Distance: 5.67937",
          "Text: The first large digital camera, arrived at the anchovy, car, good price, great quality. <br> Label: Pro (augmented) <br> Distance: 0.75294",
          "Text: ...small. <br> Label: Pro (augmented) <br> Distance: 0.00000",
          "Text: Easy to use, battery life, variety of sonars and acquired facets. <br> Label: Pro (augmented) <br> Distance: 0.58038",
          "Text: Quality LCD screen, no filling lake, excellent photos, fantastic movies. <br> Label: Pro (augmented) <br> Distance: 0.64014"
         ],
         "type": "scatter",
         "x": [
          1.0376966300123995,
          0.31259592672938763,
          1.4310887698120893,
          1.473451444755516,
          0.0487457561496551,
          1.0261924410952885,
          1.415088358787643,
          -0.003994873204004369,
          1.063288773573697,
          0.0487457561496551,
          -1.0673950270629322,
          1.2184416026467038,
          -0.003995240190117156,
          1.0610660304350759,
          1.1629355035668756
         ],
         "y": [
          1.0467801308099913,
          0.31396839724672965,
          1.2342546160492116,
          1.3239321710315652,
          0.04876324138494968,
          1.0359490988281395,
          1.4304139949803059,
          -0.0043757910922436255,
          1.241917021252802,
          0.04876324138494968,
          -0.8801700125651379,
          1.105113273482634,
          -0.0043757910922436255,
          1.2473544931474496,
          1.355740530054503
         ]
        },
        {
         "hovertemplate": "%{text}",
         "marker": {
          "color": "red",
          "opacity": 0.3,
          "size": 60,
          "symbol": "diamond"
         },
         "mode": "markers",
         "name": "Pro (Original)",
         "text": [
          "Text: small, enough features &#13;&#10; <br> Label: Pro (original) <br> Distance: 2.69634",
          "Text: It's cheap <br> Label: Pro (original) <br> Distance: 1.36795",
          "Text: 5 MP, manual features, construction, quality pictures, software interface, quick charger. <br> Label: Pro (original) <br> Distance: 0.15320",
          "Text: instant photos, ease of carrying, no downloading <br> Label: Pro (original) <br> Distance: 0.33855",
          "Text: Great picture photos <br> Label: Pro (original) <br> Distance: 3.50675",
          "Text: egronomic shape, inexpensive, loud ringer, several accessories included, fm tuner, minibrowser <br> Label: Pro (original) <br> Distance: 0.07602",
          "Text: Excellent quality prints., Easy to install. <br> Label: Pro (original) <br> Distance: 0.00000",
          "Text: speed, clarity <br> Label: Pro (original) <br> Distance: 0.09108",
          "Text: fabulous picture quality, very quick operation <br> Label: Pro (original) <br> Distance: 0.38217",
          "Text: Great Pictures <br> Label: Pro (original) <br> Distance: 3.29752",
          "Text: A solidly built  great little printer. <br> Label: Pro (original) <br> Distance: 5.67937",
          "Text: Buy it! Great first digital camera, Comes with docking station, charger, fair price, great quality. <br> Label: Pro (original) <br> Distance: 0.75294",
          "Text: ...small <br> Label: Pro (original) <br> Distance: 0.00000",
          "Text: Easy to use, great battery life, variety of ringtones and faceplates to buy. <br> Label: Pro (original) <br> Distance: 0.58038",
          "Text: Quality LCD Screen, no shutter lag, excellent pictures, fantastic movies. <br> Label: Pro (original) <br> Distance: 0.64014"
         ],
         "type": "scatter",
         "x": [
          0.032002427613136084,
          0.8234820651593018,
          1.3713946252131386,
          1.3817548266701654,
          1.4751909589301253,
          1.0546690037565616,
          1.4150889092668122,
          0.030070796208482974,
          1.0781409767977617,
          1.1252084137071148,
          1.0659088709259381,
          1.3415030558474879,
          -0.003994781457476173,
          1.3791545465680146,
          1.1073583926742232
         ],
         "y": [
          0.03183893313185885,
          0.8286800326137508,
          1.1774003163496893,
          1.1875652841868554,
          1.3298128649078893,
          1.06452624648744,
          1.4304144053710297,
          0.029880343402645934,
          1.0776694198070362,
          1.3337989900079092,
          1.2529594044573973,
          1.4217303324606032,
          -0.0043755858968817386,
          1.4226931090985777,
          1.0820292056610528
         ]
        }
       ],
       "layout": {
        "font": {
         "color": "black",
         "family": "Courier New, monospace",
         "size": 50
        },
        "showlegend": true,
        "template": {
         "data": {
          "bar": [
           {
            "error_x": {
             "color": "#2a3f5f"
            },
            "error_y": {
             "color": "#2a3f5f"
            },
            "marker": {
             "line": {
              "color": "#E5ECF6",
              "width": 0.5
             },
             "pattern": {
              "fillmode": "overlay",
              "size": 10,
              "solidity": 0.2
             }
            },
            "type": "bar"
           }
          ],
          "barpolar": [
           {
            "marker": {
             "line": {
              "color": "#E5ECF6",
              "width": 0.5
             },
             "pattern": {
              "fillmode": "overlay",
              "size": 10,
              "solidity": 0.2
             }
            },
            "type": "barpolar"
           }
          ],
          "carpet": [
           {
            "aaxis": {
             "endlinecolor": "#2a3f5f",
             "gridcolor": "white",
             "linecolor": "white",
             "minorgridcolor": "white",
             "startlinecolor": "#2a3f5f"
            },
            "baxis": {
             "endlinecolor": "#2a3f5f",
             "gridcolor": "white",
             "linecolor": "white",
             "minorgridcolor": "white",
             "startlinecolor": "#2a3f5f"
            },
            "type": "carpet"
           }
          ],
          "choropleth": [
           {
            "colorbar": {
             "outlinewidth": 0,
             "ticks": ""
            },
            "type": "choropleth"
           }
          ],
          "contour": [
           {
            "colorbar": {
             "outlinewidth": 0,
             "ticks": ""
            },
            "colorscale": [
             [
              0,
              "#0d0887"
             ],
             [
              0.1111111111111111,
              "#46039f"
             ],
             [
              0.2222222222222222,
              "#7201a8"
             ],
             [
              0.3333333333333333,
              "#9c179e"
             ],
             [
              0.4444444444444444,
              "#bd3786"
             ],
             [
              0.5555555555555556,
              "#d8576b"
             ],
             [
              0.6666666666666666,
              "#ed7953"
             ],
             [
              0.7777777777777778,
              "#fb9f3a"
             ],
             [
              0.8888888888888888,
              "#fdca26"
             ],
             [
              1,
              "#f0f921"
             ]
            ],
            "type": "contour"
           }
          ],
          "contourcarpet": [
           {
            "colorbar": {
             "outlinewidth": 0,
             "ticks": ""
            },
            "type": "contourcarpet"
           }
          ],
          "heatmap": [
           {
            "colorbar": {
             "outlinewidth": 0,
             "ticks": ""
            },
            "colorscale": [
             [
              0,
              "#0d0887"
             ],
             [
              0.1111111111111111,
              "#46039f"
             ],
             [
              0.2222222222222222,
              "#7201a8"
             ],
             [
              0.3333333333333333,
              "#9c179e"
             ],
             [
              0.4444444444444444,
              "#bd3786"
             ],
             [
              0.5555555555555556,
              "#d8576b"
             ],
             [
              0.6666666666666666,
              "#ed7953"
             ],
             [
              0.7777777777777778,
              "#fb9f3a"
             ],
             [
              0.8888888888888888,
              "#fdca26"
             ],
             [
              1,
              "#f0f921"
             ]
            ],
            "type": "heatmap"
           }
          ],
          "heatmapgl": [
           {
            "colorbar": {
             "outlinewidth": 0,
             "ticks": ""
            },
            "colorscale": [
             [
              0,
              "#0d0887"
             ],
             [
              0.1111111111111111,
              "#46039f"
             ],
             [
              0.2222222222222222,
              "#7201a8"
             ],
             [
              0.3333333333333333,
              "#9c179e"
             ],
             [
              0.4444444444444444,
              "#bd3786"
             ],
             [
              0.5555555555555556,
              "#d8576b"
             ],
             [
              0.6666666666666666,
              "#ed7953"
             ],
             [
              0.7777777777777778,
              "#fb9f3a"
             ],
             [
              0.8888888888888888,
              "#fdca26"
             ],
             [
              1,
              "#f0f921"
             ]
            ],
            "type": "heatmapgl"
           }
          ],
          "histogram": [
           {
            "marker": {
             "pattern": {
              "fillmode": "overlay",
              "size": 10,
              "solidity": 0.2
             }
            },
            "type": "histogram"
           }
          ],
          "histogram2d": [
           {
            "colorbar": {
             "outlinewidth": 0,
             "ticks": ""
            },
            "colorscale": [
             [
              0,
              "#0d0887"
             ],
             [
              0.1111111111111111,
              "#46039f"
             ],
             [
              0.2222222222222222,
              "#7201a8"
             ],
             [
              0.3333333333333333,
              "#9c179e"
             ],
             [
              0.4444444444444444,
              "#bd3786"
             ],
             [
              0.5555555555555556,
              "#d8576b"
             ],
             [
              0.6666666666666666,
              "#ed7953"
             ],
             [
              0.7777777777777778,
              "#fb9f3a"
             ],
             [
              0.8888888888888888,
              "#fdca26"
             ],
             [
              1,
              "#f0f921"
             ]
            ],
            "type": "histogram2d"
           }
          ],
          "histogram2dcontour": [
           {
            "colorbar": {
             "outlinewidth": 0,
             "ticks": ""
            },
            "colorscale": [
             [
              0,
              "#0d0887"
             ],
             [
              0.1111111111111111,
              "#46039f"
             ],
             [
              0.2222222222222222,
              "#7201a8"
             ],
             [
              0.3333333333333333,
              "#9c179e"
             ],
             [
              0.4444444444444444,
              "#bd3786"
             ],
             [
              0.5555555555555556,
              "#d8576b"
             ],
             [
              0.6666666666666666,
              "#ed7953"
             ],
             [
              0.7777777777777778,
              "#fb9f3a"
             ],
             [
              0.8888888888888888,
              "#fdca26"
             ],
             [
              1,
              "#f0f921"
             ]
            ],
            "type": "histogram2dcontour"
           }
          ],
          "mesh3d": [
           {
            "colorbar": {
             "outlinewidth": 0,
             "ticks": ""
            },
            "type": "mesh3d"
           }
          ],
          "parcoords": [
           {
            "line": {
             "colorbar": {
              "outlinewidth": 0,
              "ticks": ""
             }
            },
            "type": "parcoords"
           }
          ],
          "pie": [
           {
            "automargin": true,
            "type": "pie"
           }
          ],
          "scatter": [
           {
            "fillpattern": {
             "fillmode": "overlay",
             "size": 10,
             "solidity": 0.2
            },
            "type": "scatter"
           }
          ],
          "scatter3d": [
           {
            "line": {
             "colorbar": {
              "outlinewidth": 0,
              "ticks": ""
             }
            },
            "marker": {
             "colorbar": {
              "outlinewidth": 0,
              "ticks": ""
             }
            },
            "type": "scatter3d"
           }
          ],
          "scattercarpet": [
           {
            "marker": {
             "colorbar": {
              "outlinewidth": 0,
              "ticks": ""
             }
            },
            "type": "scattercarpet"
           }
          ],
          "scattergeo": [
           {
            "marker": {
             "colorbar": {
              "outlinewidth": 0,
              "ticks": ""
             }
            },
            "type": "scattergeo"
           }
          ],
          "scattergl": [
           {
            "marker": {
             "colorbar": {
              "outlinewidth": 0,
              "ticks": ""
             }
            },
            "type": "scattergl"
           }
          ],
          "scattermapbox": [
           {
            "marker": {
             "colorbar": {
              "outlinewidth": 0,
              "ticks": ""
             }
            },
            "type": "scattermapbox"
           }
          ],
          "scatterpolar": [
           {
            "marker": {
             "colorbar": {
              "outlinewidth": 0,
              "ticks": ""
             }
            },
            "type": "scatterpolar"
           }
          ],
          "scatterpolargl": [
           {
            "marker": {
             "colorbar": {
              "outlinewidth": 0,
              "ticks": ""
             }
            },
            "type": "scatterpolargl"
           }
          ],
          "scatterternary": [
           {
            "marker": {
             "colorbar": {
              "outlinewidth": 0,
              "ticks": ""
             }
            },
            "type": "scatterternary"
           }
          ],
          "surface": [
           {
            "colorbar": {
             "outlinewidth": 0,
             "ticks": ""
            },
            "colorscale": [
             [
              0,
              "#0d0887"
             ],
             [
              0.1111111111111111,
              "#46039f"
             ],
             [
              0.2222222222222222,
              "#7201a8"
             ],
             [
              0.3333333333333333,
              "#9c179e"
             ],
             [
              0.4444444444444444,
              "#bd3786"
             ],
             [
              0.5555555555555556,
              "#d8576b"
             ],
             [
              0.6666666666666666,
              "#ed7953"
             ],
             [
              0.7777777777777778,
              "#fb9f3a"
             ],
             [
              0.8888888888888888,
              "#fdca26"
             ],
             [
              1,
              "#f0f921"
             ]
            ],
            "type": "surface"
           }
          ],
          "table": [
           {
            "cells": {
             "fill": {
              "color": "#EBF0F8"
             },
             "line": {
              "color": "white"
             }
            },
            "header": {
             "fill": {
              "color": "#C8D4E3"
             },
             "line": {
              "color": "white"
             }
            },
            "type": "table"
           }
          ]
         },
         "layout": {
          "annotationdefaults": {
           "arrowcolor": "#2a3f5f",
           "arrowhead": 0,
           "arrowwidth": 1
          },
          "autotypenumbers": "strict",
          "coloraxis": {
           "colorbar": {
            "outlinewidth": 0,
            "ticks": ""
           }
          },
          "colorscale": {
           "diverging": [
            [
             0,
             "#8e0152"
            ],
            [
             0.1,
             "#c51b7d"
            ],
            [
             0.2,
             "#de77ae"
            ],
            [
             0.3,
             "#f1b6da"
            ],
            [
             0.4,
             "#fde0ef"
            ],
            [
             0.5,
             "#f7f7f7"
            ],
            [
             0.6,
             "#e6f5d0"
            ],
            [
             0.7,
             "#b8e186"
            ],
            [
             0.8,
             "#7fbc41"
            ],
            [
             0.9,
             "#4d9221"
            ],
            [
             1,
             "#276419"
            ]
           ],
           "sequential": [
            [
             0,
             "#0d0887"
            ],
            [
             0.1111111111111111,
             "#46039f"
            ],
            [
             0.2222222222222222,
             "#7201a8"
            ],
            [
             0.3333333333333333,
             "#9c179e"
            ],
            [
             0.4444444444444444,
             "#bd3786"
            ],
            [
             0.5555555555555556,
             "#d8576b"
            ],
            [
             0.6666666666666666,
             "#ed7953"
            ],
            [
             0.7777777777777778,
             "#fb9f3a"
            ],
            [
             0.8888888888888888,
             "#fdca26"
            ],
            [
             1,
             "#f0f921"
            ]
           ],
           "sequentialminus": [
            [
             0,
             "#0d0887"
            ],
            [
             0.1111111111111111,
             "#46039f"
            ],
            [
             0.2222222222222222,
             "#7201a8"
            ],
            [
             0.3333333333333333,
             "#9c179e"
            ],
            [
             0.4444444444444444,
             "#bd3786"
            ],
            [
             0.5555555555555556,
             "#d8576b"
            ],
            [
             0.6666666666666666,
             "#ed7953"
            ],
            [
             0.7777777777777778,
             "#fb9f3a"
            ],
            [
             0.8888888888888888,
             "#fdca26"
            ],
            [
             1,
             "#f0f921"
            ]
           ]
          },
          "colorway": [
           "#636efa",
           "#EF553B",
           "#00cc96",
           "#ab63fa",
           "#FFA15A",
           "#19d3f3",
           "#FF6692",
           "#B6E880",
           "#FF97FF",
           "#FECB52"
          ],
          "font": {
           "color": "#2a3f5f"
          },
          "geo": {
           "bgcolor": "white",
           "lakecolor": "white",
           "landcolor": "#E5ECF6",
           "showlakes": true,
           "showland": true,
           "subunitcolor": "white"
          },
          "hoverlabel": {
           "align": "left"
          },
          "hovermode": "closest",
          "mapbox": {
           "style": "light"
          },
          "paper_bgcolor": "white",
          "plot_bgcolor": "#E5ECF6",
          "polar": {
           "angularaxis": {
            "gridcolor": "white",
            "linecolor": "white",
            "ticks": ""
           },
           "bgcolor": "#E5ECF6",
           "radialaxis": {
            "gridcolor": "white",
            "linecolor": "white",
            "ticks": ""
           }
          },
          "scene": {
           "xaxis": {
            "backgroundcolor": "#E5ECF6",
            "gridcolor": "white",
            "gridwidth": 2,
            "linecolor": "white",
            "showbackground": true,
            "ticks": "",
            "zerolinecolor": "white"
           },
           "yaxis": {
            "backgroundcolor": "#E5ECF6",
            "gridcolor": "white",
            "gridwidth": 2,
            "linecolor": "white",
            "showbackground": true,
            "ticks": "",
            "zerolinecolor": "white"
           },
           "zaxis": {
            "backgroundcolor": "#E5ECF6",
            "gridcolor": "white",
            "gridwidth": 2,
            "linecolor": "white",
            "showbackground": true,
            "ticks": "",
            "zerolinecolor": "white"
           }
          },
          "shapedefaults": {
           "line": {
            "color": "#2a3f5f"
           }
          },
          "ternary": {
           "aaxis": {
            "gridcolor": "white",
            "linecolor": "white",
            "ticks": ""
           },
           "baxis": {
            "gridcolor": "white",
            "linecolor": "white",
            "ticks": ""
           },
           "bgcolor": "#E5ECF6",
           "caxis": {
            "gridcolor": "white",
            "linecolor": "white",
            "ticks": ""
           }
          },
          "title": {
           "x": 0.05
          },
          "xaxis": {
           "automargin": true,
           "gridcolor": "white",
           "linecolor": "white",
           "ticks": "",
           "title": {
            "standoff": 15
           },
           "zerolinecolor": "white",
           "zerolinewidth": 2
          },
          "yaxis": {
           "automargin": true,
           "gridcolor": "white",
           "linecolor": "white",
           "ticks": "",
           "title": {
            "standoff": 15
           },
           "zerolinecolor": "white",
           "zerolinewidth": 2
          }
         }
        },
        "title": {
         "text": "total distance: 6.0544"
        }
       }
      },
      "text/html": [
       "<div>                            <div id=\"cffaee81-4587-4656-8ff9-a7918ca7bccf\" class=\"plotly-graph-div\" style=\"height:525px; width:100%;\"></div>            <script type=\"text/javascript\">                require([\"plotly\"], function(Plotly) {                    window.PLOTLYENV=window.PLOTLYENV || {};                                    if (document.getElementById(\"cffaee81-4587-4656-8ff9-a7918ca7bccf\")) {                    Plotly.newPlot(                        \"cffaee81-4587-4656-8ff9-a7918ca7bccf\",                        [{\"hovertemplate\":\"%{text}\",\"marker\":{\"color\":\"blue\",\"opacity\":1,\"size\":20,\"symbol\":\"circle\"},\"mode\":\"markers\",\"name\":\"Con (Augmented)\",\"text\":[\"Text: Software / Controller Problems <br> Label: Con (augmented) <br> Distance: 0.44865\",\"Text: Sometimes there's more than one pedal of paper per vehicle. <br> Label: Con (augmented) <br> Distance: 0.15102\",\"Text: A little noisy. <br> Label: Con (augmented) <br> Distance: 0.00000\",\"Text: Ink stains and ink stains <br> Label: Con (augmented) <br> Distance: 0.73346\",\"Text: It doesn't bend very tightly. <br> Label: Con (augmented) <br> Distance: 1.71583\",\"Text: Covering the door, the antenna when it extends, takes a while to find the addol. <br> Label: Con (augmented) <br> Distance: 1.01569\",\"Text: Pixal Pixal Pixal Pixal Pixal Pixal Pixal Pixal Pixal Pixal Pixal Pixal Pixal Pixal Pixal Pixal Pixal Pixal Pixal Pixal Pixal Pixal Pixal Pixal Pixal Pixal Pixal Pixal Pixal Pixal Pixal Pixal Pixal Pixal Pixal Pixal Pixal Pixal Pixal Pixal Pixal Pixal Pixal Pixal Pixal Pixal Pixal Pixal Pixal Pixal Pixal Pixal Pixal Pixal Pixal Pixal Pixal Pixal Pixal Pixal Pixal Pixal Pixal Pixal Pixal Pixal Pixal <br> Label: Con (augmented) <br> Distance: 1.78331\",\"Text: There is no rear light during the night. <br> Label: Con (augmented) <br> Distance: 0.43775\",\"Text: The long-lived battery is terrible. <br> Label: Con (augmented) <br> Distance: 2.41187\",\"Text: Lighting changes path to LCD, view and page <br> Label: Con (augmented) <br> Distance: 2.29988\",\"Text: Slow flash load in the NiMH cartridge. 8MB. <br> Label: Con (augmented) <br> Distance: 0.06600\",\"Text: The new thing is that it is difficult, that it can complete, that it can fill. <br> Label: Con (augmented) <br> Distance: 2.82543\",\"Text: Functions did not work as well as individual elements (separate fax, etc.) <br> Label: Con (augmented) <br> Distance: 0.51016\",\"Text: Sh_t images most of the time, the viewfinder is not required <br> Label: Con (augmented) <br> Distance: 0.33184\",\"Text: No zoom and USB optics, no big low lights <br> Label: Con (augmented) <br> Distance: 0.09173\"],\"x\":[-0.8446031939718861,-0.7586769279042019,-0.5813373340936062,-0.803197068331438,0.007816253723188797,-0.7494829624403475,-0.003994781457476173,-0.8492841247771132,-0.3586520072534805,0.07825721964898696,-1.317065175357433,-0.045239387335034006,-0.9680861995331019,-1.0366283793113413,-1.3853312898323287],\"y\":[-1.0641501746879414,-0.7629351308720629,-0.5814499904532858,-0.982343041707291,0.007520820403888083,-0.8216680967073429,-0.0043755858968817386,-1.0253824610700795,-0.36071990330373765,0.07828798122544517,-1.3462146431719346,-0.0458182775511452,-1.1829191482053254,-0.8699890394897448,-1.2709838676432461],\"type\":\"scatter\"},{\"hovertemplate\":\"%{text}\",\"marker\":{\"color\":\"blue\",\"opacity\":0.3,\"size\":60,\"symbol\":\"circle\"},\"mode\":\"markers\",\"name\":\"Con (Original)\",\"text\":[\"Text: Software / driver problems <br> Label: Con (original) <br> Distance: 0.44865\",\"Text: Sometimes more than one sheet of paper is pulled through at a time <br> Label: Con (original) <br> Distance: 0.15102\",\"Text: A little noisy.  <br> Label: Con (original) <br> Distance: 0.00000\",\"Text: Ink smears and ink blots <br> Label: Con (original) <br> Distance: 0.73346\",\"Text: Does not fold very compact. <br> Label: Con (original) <br> Distance: 1.71583\",\"Text: Port cover, antenna when extended, takes a bit to find sweet spot. <br> Label: Con (original) <br> Distance: 1.01569\",\"Text: could do with more pixals <br> Label: Con (original) <br> Distance: 1.78331\",\"Text: No Back-light at night. <br> Label: Con (original) <br> Distance: 0.43775\",\"Text: Battery life is terrible <br> Label: Con (original) <br> Distance: 2.41187\",\"Text: Brightness varies too much on LCD, video out, and computer <br> Label: Con (original) <br> Distance: 2.29988\",\"Text: Flash recharges slowly with NiMH. Small 8MB card. <br> Label: Con (original) <br> Distance: 0.06600\",\"Text: so new that it's hard to find or get accessories for <br> Label: Con (original) <br> Distance: 2.82543\",\"Text: Functions don't work as well as if individual items (separate fax, etc) <br> Label: Con (original) <br> Distance: 0.51016\",\"Text: sh_t pictures most of the time, viewfinder not accurate <br> Label: Con (original) <br> Distance: 0.33184\",\"Text: No USB and no optical zoom, not great in low light <br> Label: Con (original) <br> Distance: 0.09173\"],\"x\":[-1.0302103426778702,-0.8275293026942744,-0.5813372423470781,-1.3307637577359526,-0.637678154555284,-1.0363588280114995,-0.6767815226162073,-1.005044728726159,-1.3992579540799452,-0.6950946801234358,-1.275389498417143,-0.9454508172092633,-1.3032645708395587,-1.2022634785971404,-1.3389549795198812],\"y\":[-1.2269504306486358,-0.8152947287671278,-0.5814498878556048,-1.0946171203313824,-0.6366235349435903,-1.2282489581974982,-0.6732557291314522,-0.858350768954229,-1.2201850882683758,-0.8119524041150288,-1.3299798939324654,-1.1525935308673845,-1.0685832665849921,-0.978684613600205,-1.3007433509777404],\"type\":\"scatter\"},{\"hovertemplate\":\"%{text}\",\"marker\":{\"color\":\"red\",\"opacity\":1,\"size\":20,\"symbol\":\"diamond\"},\"mode\":\"markers\",\"name\":\"Pro (Augmented)\",\"text\":[\"Text: Small and sufficient features &#13;&#10; <br> Label: Pro (augmented) <br> Distance: 2.69634\",\"Text: It's a board. <br> Label: Pro (augmented) <br> Distance: 1.36795\",\"Text: 5 MP, manual features, construction, quality photos, software interface, fast charger. <br> Label: Pro (augmented) <br> Distance: 0.15320\",\"Text: Instant photography, easy to transport, without downloading <br> Label: Pro (augmented) <br> Distance: 0.33855\",\"Text: Large images <br> Label: Pro (augmented) <br> Distance: 3.50675\",\"Text: Ergonomic shape, low cost sonar, strong, various accessories included, fm tuner, minibrowser <br> Label: Pro (augmented) <br> Distance: 0.07602\",\"Text: Excellent quality prints., Easy to install. <br> Label: Pro (augmented) <br> Distance: 0.00000\",\"Text: Hurry up, maureye. <br> Label: Pro (augmented) <br> Distance: 0.09108\",\"Text: Fabulous image quality, very fast operation <br> Label: Pro (augmented) <br> Distance: 0.38217\",\"Text: Large images <br> Label: Pro (augmented) <br> Distance: 3.29752\",\"Text: A large and tiny printer solidly built. <br> Label: Pro (augmented) <br> Distance: 5.67937\",\"Text: The first large digital camera, arrived at the anchovy, car, good price, great quality. <br> Label: Pro (augmented) <br> Distance: 0.75294\",\"Text: ...small. <br> Label: Pro (augmented) <br> Distance: 0.00000\",\"Text: Easy to use, battery life, variety of sonars and acquired facets. <br> Label: Pro (augmented) <br> Distance: 0.58038\",\"Text: Quality LCD screen, no filling lake, excellent photos, fantastic movies. <br> Label: Pro (augmented) <br> Distance: 0.64014\"],\"x\":[1.0376966300123995,0.31259592672938763,1.4310887698120893,1.473451444755516,0.0487457561496551,1.0261924410952885,1.415088358787643,-0.003994873204004369,1.063288773573697,0.0487457561496551,-1.0673950270629322,1.2184416026467038,-0.003995240190117156,1.0610660304350759,1.1629355035668756],\"y\":[1.0467801308099913,0.31396839724672965,1.2342546160492116,1.3239321710315652,0.04876324138494968,1.0359490988281395,1.4304139949803059,-0.0043757910922436255,1.241917021252802,0.04876324138494968,-0.8801700125651379,1.105113273482634,-0.0043757910922436255,1.2473544931474496,1.355740530054503],\"type\":\"scatter\"},{\"hovertemplate\":\"%{text}\",\"marker\":{\"color\":\"red\",\"opacity\":0.3,\"size\":60,\"symbol\":\"diamond\"},\"mode\":\"markers\",\"name\":\"Pro (Original)\",\"text\":[\"Text: small, enough features &#13;&#10; <br> Label: Pro (original) <br> Distance: 2.69634\",\"Text: It's cheap <br> Label: Pro (original) <br> Distance: 1.36795\",\"Text: 5 MP, manual features, construction, quality pictures, software interface, quick charger. <br> Label: Pro (original) <br> Distance: 0.15320\",\"Text: instant photos, ease of carrying, no downloading <br> Label: Pro (original) <br> Distance: 0.33855\",\"Text: Great picture photos <br> Label: Pro (original) <br> Distance: 3.50675\",\"Text: egronomic shape, inexpensive, loud ringer, several accessories included, fm tuner, minibrowser <br> Label: Pro (original) <br> Distance: 0.07602\",\"Text: Excellent quality prints., Easy to install. <br> Label: Pro (original) <br> Distance: 0.00000\",\"Text: speed, clarity <br> Label: Pro (original) <br> Distance: 0.09108\",\"Text: fabulous picture quality, very quick operation <br> Label: Pro (original) <br> Distance: 0.38217\",\"Text: Great Pictures <br> Label: Pro (original) <br> Distance: 3.29752\",\"Text: A solidly built  great little printer. <br> Label: Pro (original) <br> Distance: 5.67937\",\"Text: Buy it! Great first digital camera, Comes with docking station, charger, fair price, great quality. <br> Label: Pro (original) <br> Distance: 0.75294\",\"Text: ...small <br> Label: Pro (original) <br> Distance: 0.00000\",\"Text: Easy to use, great battery life, variety of ringtones and faceplates to buy. <br> Label: Pro (original) <br> Distance: 0.58038\",\"Text: Quality LCD Screen, no shutter lag, excellent pictures, fantastic movies. <br> Label: Pro (original) <br> Distance: 0.64014\"],\"x\":[0.032002427613136084,0.8234820651593018,1.3713946252131386,1.3817548266701654,1.4751909589301253,1.0546690037565616,1.4150889092668122,0.030070796208482974,1.0781409767977617,1.1252084137071148,1.0659088709259381,1.3415030558474879,-0.003994781457476173,1.3791545465680146,1.1073583926742232],\"y\":[0.03183893313185885,0.8286800326137508,1.1774003163496893,1.1875652841868554,1.3298128649078893,1.06452624648744,1.4304144053710297,0.029880343402645934,1.0776694198070362,1.3337989900079092,1.2529594044573973,1.4217303324606032,-0.0043755858968817386,1.4226931090985777,1.0820292056610528],\"type\":\"scatter\"}],                        {\"template\":{\"data\":{\"histogram2dcontour\":[{\"type\":\"histogram2dcontour\",\"colorbar\":{\"outlinewidth\":0,\"ticks\":\"\"},\"colorscale\":[[0.0,\"#0d0887\"],[0.1111111111111111,\"#46039f\"],[0.2222222222222222,\"#7201a8\"],[0.3333333333333333,\"#9c179e\"],[0.4444444444444444,\"#bd3786\"],[0.5555555555555556,\"#d8576b\"],[0.6666666666666666,\"#ed7953\"],[0.7777777777777778,\"#fb9f3a\"],[0.8888888888888888,\"#fdca26\"],[1.0,\"#f0f921\"]]}],\"choropleth\":[{\"type\":\"choropleth\",\"colorbar\":{\"outlinewidth\":0,\"ticks\":\"\"}}],\"histogram2d\":[{\"type\":\"histogram2d\",\"colorbar\":{\"outlinewidth\":0,\"ticks\":\"\"},\"colorscale\":[[0.0,\"#0d0887\"],[0.1111111111111111,\"#46039f\"],[0.2222222222222222,\"#7201a8\"],[0.3333333333333333,\"#9c179e\"],[0.4444444444444444,\"#bd3786\"],[0.5555555555555556,\"#d8576b\"],[0.6666666666666666,\"#ed7953\"],[0.7777777777777778,\"#fb9f3a\"],[0.8888888888888888,\"#fdca26\"],[1.0,\"#f0f921\"]]}],\"heatmap\":[{\"type\":\"heatmap\",\"colorbar\":{\"outlinewidth\":0,\"ticks\":\"\"},\"colorscale\":[[0.0,\"#0d0887\"],[0.1111111111111111,\"#46039f\"],[0.2222222222222222,\"#7201a8\"],[0.3333333333333333,\"#9c179e\"],[0.4444444444444444,\"#bd3786\"],[0.5555555555555556,\"#d8576b\"],[0.6666666666666666,\"#ed7953\"],[0.7777777777777778,\"#fb9f3a\"],[0.8888888888888888,\"#fdca26\"],[1.0,\"#f0f921\"]]}],\"heatmapgl\":[{\"type\":\"heatmapgl\",\"colorbar\":{\"outlinewidth\":0,\"ticks\":\"\"},\"colorscale\":[[0.0,\"#0d0887\"],[0.1111111111111111,\"#46039f\"],[0.2222222222222222,\"#7201a8\"],[0.3333333333333333,\"#9c179e\"],[0.4444444444444444,\"#bd3786\"],[0.5555555555555556,\"#d8576b\"],[0.6666666666666666,\"#ed7953\"],[0.7777777777777778,\"#fb9f3a\"],[0.8888888888888888,\"#fdca26\"],[1.0,\"#f0f921\"]]}],\"contourcarpet\":[{\"type\":\"contourcarpet\",\"colorbar\":{\"outlinewidth\":0,\"ticks\":\"\"}}],\"contour\":[{\"type\":\"contour\",\"colorbar\":{\"outlinewidth\":0,\"ticks\":\"\"},\"colorscale\":[[0.0,\"#0d0887\"],[0.1111111111111111,\"#46039f\"],[0.2222222222222222,\"#7201a8\"],[0.3333333333333333,\"#9c179e\"],[0.4444444444444444,\"#bd3786\"],[0.5555555555555556,\"#d8576b\"],[0.6666666666666666,\"#ed7953\"],[0.7777777777777778,\"#fb9f3a\"],[0.8888888888888888,\"#fdca26\"],[1.0,\"#f0f921\"]]}],\"surface\":[{\"type\":\"surface\",\"colorbar\":{\"outlinewidth\":0,\"ticks\":\"\"},\"colorscale\":[[0.0,\"#0d0887\"],[0.1111111111111111,\"#46039f\"],[0.2222222222222222,\"#7201a8\"],[0.3333333333333333,\"#9c179e\"],[0.4444444444444444,\"#bd3786\"],[0.5555555555555556,\"#d8576b\"],[0.6666666666666666,\"#ed7953\"],[0.7777777777777778,\"#fb9f3a\"],[0.8888888888888888,\"#fdca26\"],[1.0,\"#f0f921\"]]}],\"mesh3d\":[{\"type\":\"mesh3d\",\"colorbar\":{\"outlinewidth\":0,\"ticks\":\"\"}}],\"scatter\":[{\"fillpattern\":{\"fillmode\":\"overlay\",\"size\":10,\"solidity\":0.2},\"type\":\"scatter\"}],\"parcoords\":[{\"type\":\"parcoords\",\"line\":{\"colorbar\":{\"outlinewidth\":0,\"ticks\":\"\"}}}],\"scatterpolargl\":[{\"type\":\"scatterpolargl\",\"marker\":{\"colorbar\":{\"outlinewidth\":0,\"ticks\":\"\"}}}],\"bar\":[{\"error_x\":{\"color\":\"#2a3f5f\"},\"error_y\":{\"color\":\"#2a3f5f\"},\"marker\":{\"line\":{\"color\":\"#E5ECF6\",\"width\":0.5},\"pattern\":{\"fillmode\":\"overlay\",\"size\":10,\"solidity\":0.2}},\"type\":\"bar\"}],\"scattergeo\":[{\"type\":\"scattergeo\",\"marker\":{\"colorbar\":{\"outlinewidth\":0,\"ticks\":\"\"}}}],\"scatterpolar\":[{\"type\":\"scatterpolar\",\"marker\":{\"colorbar\":{\"outlinewidth\":0,\"ticks\":\"\"}}}],\"histogram\":[{\"marker\":{\"pattern\":{\"fillmode\":\"overlay\",\"size\":10,\"solidity\":0.2}},\"type\":\"histogram\"}],\"scattergl\":[{\"type\":\"scattergl\",\"marker\":{\"colorbar\":{\"outlinewidth\":0,\"ticks\":\"\"}}}],\"scatter3d\":[{\"type\":\"scatter3d\",\"line\":{\"colorbar\":{\"outlinewidth\":0,\"ticks\":\"\"}},\"marker\":{\"colorbar\":{\"outlinewidth\":0,\"ticks\":\"\"}}}],\"scattermapbox\":[{\"type\":\"scattermapbox\",\"marker\":{\"colorbar\":{\"outlinewidth\":0,\"ticks\":\"\"}}}],\"scatterternary\":[{\"type\":\"scatterternary\",\"marker\":{\"colorbar\":{\"outlinewidth\":0,\"ticks\":\"\"}}}],\"scattercarpet\":[{\"type\":\"scattercarpet\",\"marker\":{\"colorbar\":{\"outlinewidth\":0,\"ticks\":\"\"}}}],\"carpet\":[{\"aaxis\":{\"endlinecolor\":\"#2a3f5f\",\"gridcolor\":\"white\",\"linecolor\":\"white\",\"minorgridcolor\":\"white\",\"startlinecolor\":\"#2a3f5f\"},\"baxis\":{\"endlinecolor\":\"#2a3f5f\",\"gridcolor\":\"white\",\"linecolor\":\"white\",\"minorgridcolor\":\"white\",\"startlinecolor\":\"#2a3f5f\"},\"type\":\"carpet\"}],\"table\":[{\"cells\":{\"fill\":{\"color\":\"#EBF0F8\"},\"line\":{\"color\":\"white\"}},\"header\":{\"fill\":{\"color\":\"#C8D4E3\"},\"line\":{\"color\":\"white\"}},\"type\":\"table\"}],\"barpolar\":[{\"marker\":{\"line\":{\"color\":\"#E5ECF6\",\"width\":0.5},\"pattern\":{\"fillmode\":\"overlay\",\"size\":10,\"solidity\":0.2}},\"type\":\"barpolar\"}],\"pie\":[{\"automargin\":true,\"type\":\"pie\"}]},\"layout\":{\"autotypenumbers\":\"strict\",\"colorway\":[\"#636efa\",\"#EF553B\",\"#00cc96\",\"#ab63fa\",\"#FFA15A\",\"#19d3f3\",\"#FF6692\",\"#B6E880\",\"#FF97FF\",\"#FECB52\"],\"font\":{\"color\":\"#2a3f5f\"},\"hovermode\":\"closest\",\"hoverlabel\":{\"align\":\"left\"},\"paper_bgcolor\":\"white\",\"plot_bgcolor\":\"#E5ECF6\",\"polar\":{\"bgcolor\":\"#E5ECF6\",\"angularaxis\":{\"gridcolor\":\"white\",\"linecolor\":\"white\",\"ticks\":\"\"},\"radialaxis\":{\"gridcolor\":\"white\",\"linecolor\":\"white\",\"ticks\":\"\"}},\"ternary\":{\"bgcolor\":\"#E5ECF6\",\"aaxis\":{\"gridcolor\":\"white\",\"linecolor\":\"white\",\"ticks\":\"\"},\"baxis\":{\"gridcolor\":\"white\",\"linecolor\":\"white\",\"ticks\":\"\"},\"caxis\":{\"gridcolor\":\"white\",\"linecolor\":\"white\",\"ticks\":\"\"}},\"coloraxis\":{\"colorbar\":{\"outlinewidth\":0,\"ticks\":\"\"}},\"colorscale\":{\"sequential\":[[0.0,\"#0d0887\"],[0.1111111111111111,\"#46039f\"],[0.2222222222222222,\"#7201a8\"],[0.3333333333333333,\"#9c179e\"],[0.4444444444444444,\"#bd3786\"],[0.5555555555555556,\"#d8576b\"],[0.6666666666666666,\"#ed7953\"],[0.7777777777777778,\"#fb9f3a\"],[0.8888888888888888,\"#fdca26\"],[1.0,\"#f0f921\"]],\"sequentialminus\":[[0.0,\"#0d0887\"],[0.1111111111111111,\"#46039f\"],[0.2222222222222222,\"#7201a8\"],[0.3333333333333333,\"#9c179e\"],[0.4444444444444444,\"#bd3786\"],[0.5555555555555556,\"#d8576b\"],[0.6666666666666666,\"#ed7953\"],[0.7777777777777778,\"#fb9f3a\"],[0.8888888888888888,\"#fdca26\"],[1.0,\"#f0f921\"]],\"diverging\":[[0,\"#8e0152\"],[0.1,\"#c51b7d\"],[0.2,\"#de77ae\"],[0.3,\"#f1b6da\"],[0.4,\"#fde0ef\"],[0.5,\"#f7f7f7\"],[0.6,\"#e6f5d0\"],[0.7,\"#b8e186\"],[0.8,\"#7fbc41\"],[0.9,\"#4d9221\"],[1,\"#276419\"]]},\"xaxis\":{\"gridcolor\":\"white\",\"linecolor\":\"white\",\"ticks\":\"\",\"title\":{\"standoff\":15},\"zerolinecolor\":\"white\",\"automargin\":true,\"zerolinewidth\":2},\"yaxis\":{\"gridcolor\":\"white\",\"linecolor\":\"white\",\"ticks\":\"\",\"title\":{\"standoff\":15},\"zerolinecolor\":\"white\",\"automargin\":true,\"zerolinewidth\":2},\"scene\":{\"xaxis\":{\"backgroundcolor\":\"#E5ECF6\",\"gridcolor\":\"white\",\"linecolor\":\"white\",\"showbackground\":true,\"ticks\":\"\",\"zerolinecolor\":\"white\",\"gridwidth\":2},\"yaxis\":{\"backgroundcolor\":\"#E5ECF6\",\"gridcolor\":\"white\",\"linecolor\":\"white\",\"showbackground\":true,\"ticks\":\"\",\"zerolinecolor\":\"white\",\"gridwidth\":2},\"zaxis\":{\"backgroundcolor\":\"#E5ECF6\",\"gridcolor\":\"white\",\"linecolor\":\"white\",\"showbackground\":true,\"ticks\":\"\",\"zerolinecolor\":\"white\",\"gridwidth\":2}},\"shapedefaults\":{\"line\":{\"color\":\"#2a3f5f\"}},\"annotationdefaults\":{\"arrowcolor\":\"#2a3f5f\",\"arrowhead\":0,\"arrowwidth\":1},\"geo\":{\"bgcolor\":\"white\",\"landcolor\":\"#E5ECF6\",\"subunitcolor\":\"white\",\"showland\":true,\"showlakes\":true,\"lakecolor\":\"white\"},\"title\":{\"x\":0.05},\"mapbox\":{\"style\":\"light\"}}},\"font\":{\"family\":\"Courier New, monospace\",\"size\":50,\"color\":\"black\"},\"title\":{\"text\":\"total distance: 6.0544\"},\"showlegend\":true},                        {\"responsive\": true}                    ).then(function(){\n",
       "                            \n",
       "var gd = document.getElementById('cffaee81-4587-4656-8ff9-a7918ca7bccf');\n",
       "var x = new MutationObserver(function (mutations, observer) {{\n",
       "        var display = window.getComputedStyle(gd).display;\n",
       "        if (!display || display === 'none') {{\n",
       "            console.log([gd, 'removed!']);\n",
       "            Plotly.purge(gd);\n",
       "            observer.disconnect();\n",
       "        }}\n",
       "}});\n",
       "\n",
       "// Listen for the removal of the full notebook cells\n",
       "var notebookContainer = gd.closest('#notebook-container');\n",
       "if (notebookContainer) {{\n",
       "    x.observe(notebookContainer, {childList: true});\n",
       "}}\n",
       "\n",
       "// Listen for the clearing of the current output cell\n",
       "var outputEl = gd.closest('.output');\n",
       "if (outputEl) {{\n",
       "    x.observe(outputEl, {childList: true});\n",
       "}}\n",
       "\n",
       "                        })                };                });            </script>        </div>"
      ]
     },
     "metadata": {},
     "output_type": "display_data"
    },
    {
     "name": "stdout",
     "output_type": "stream",
     "text": [
      "2/2 [==============================] - 1s 5ms/step\n"
     ]
    },
    {
     "data": {
      "application/vnd.plotly.v1+json": {
       "config": {
        "plotlyServerURL": "https://plot.ly"
       },
       "data": [
        {
         "hovertemplate": "%{text}",
         "marker": {
          "color": "blue",
          "opacity": 1,
          "size": 20,
          "symbol": "circle"
         },
         "mode": "markers",
         "name": "Con (Augmented)",
         "text": [
          "Text: Finally, I finally gave up and I purchased a Router Razier. <br> Label: Con (augmented) <br> Distance: 0.40660",
          "Text:  There 's no also height adjustability , so it sits very low to the desk . <br> Label: Con (augmented) <br> Distance: 0.01834",
          "Text: i again never buy a creative product will .  <br> Label: Con (augmented) <br> Distance: 0.07627",
          "Text: While iodin was assay to play Half animation 2 it started popping up with \"alerts\" every twenty seconds (literally), admonition me my antivirus auspices was off. <br> Label: Con (augmented) <br> Distance: 0.76196",
          "Text: it had a heavier and sturdy more casing .  <br> Label: Con (augmented) <br> Distance: 0.54942",
          "Text: Some people have commented about the and weight the phone, and it has rightfully gotten the \"the of\" which, it really is. <br> Label: Con (augmented) <br> Distance: 0.44249",
          "Text: who in the needs frigging *VGA* camera on their CELLPHONE??? <br> Label: Con (augmented) <br> Distance: 0.34550",
          "Text: my only charge would be that you postulate id3 shred & that pack a while to do if your mp3 files do n't have them .  <br> Label: Con (augmented) <br> Distance: 0.63243",
          "Text: Knocked 1 star off the install wizard - wasted of time running it.      <br> Label: Con (augmented) <br> Distance: 0.44366",
          "Text:  A week out of metre the box and I began to see slight iodine contractions of the screen from raise time to time , growing more frequent each day . <br> Label: Con (augmented) <br> Distance: 0.00980",
          "Text: so now it everything , you just can 't see it !  <br> Label: Con (augmented) <br> Distance: 0.51886",
          "Text: downloaded the new firmware which was supposed to take the problem, but it hasn't worked.  <br> Label: Con (augmented) <br> Distance: 0.46311",
          "Text: The only problem I have with adenine the buttons is that the power button and print/impress share button don't have a nice click.  <br> Label: Con (augmented) <br> Distance: 0.13976",
          "Text: however , it has failed to deliver on choice .  <br> Label: Con (augmented) <br> Distance: 0.18580",
          "Text: the pane zen does n't support folders so it is not really a storage device ; even IT with third party software that \" creates \" folders , documents and programs astatine can 't be launched IT from the zen , so it is not a hard disk , comprise it 's a storage device at best .  <br> Label: Con (augmented) <br> Distance: 0.52697"
         ],
         "type": "scatter",
         "x": [
          0.9661280891216403,
          -0.017380536127430405,
          -0.6950592173802377,
          -0.8050323421525379,
          1.1585465760891693,
          -0.49444407375328214,
          -0.811099893262263,
          -0.9946965819408787,
          -1.1489188620525068,
          -1.2656727216758614,
          1.2186680400951877,
          -0.9535599177733575,
          -1.2803029543990891,
          -0.7711116137351663,
          -1.0437442455526476
         ],
         "y": [
          0.9738385010795297,
          -0.017423969479759105,
          -0.6982750408582168,
          -0.8654360152253513,
          1.377722218053469,
          -0.4924120707935905,
          -0.7975247184894141,
          -1.161540962790418,
          -0.9283660952991187,
          -1.2917245635537078,
          0.9634638046667685,
          -1.1033345236454346,
          -1.1866592090331738,
          -0.7892496545700091,
          -1.2118654425787942
         ]
        },
        {
         "hovertemplate": "%{text}",
         "marker": {
          "color": "blue",
          "opacity": 0.3,
          "size": 60,
          "symbol": "circle"
         },
         "mode": "markers",
         "name": "Con (Original)",
         "text": [
          "Text: Finally, I gave up and I purchased a Router Razier. <br> Label: Con (original) <br> Distance: 0.40660",
          "Text:  There 's also no height adjustability , so it sits very low to the desk . <br> Label: Con (original) <br> Distance: 0.01834",
          "Text: i will never buy a creative product again .  <br> Label: Con (original) <br> Distance: 0.07627",
          "Text: While I was trying to play Half Life 2 it started popping up with \"alerts\" every twenty seconds (literally), warning me my antivirus protection was off. <br> Label: Con (original) <br> Distance: 0.76196",
          "Text: it had a heavier and more sturdy casing .  <br> Label: Con (original) <br> Distance: 0.54942",
          "Text: Some people have commented about the size and weight of the phone, and it has rightfully gotten the nick-name \"the bar of soap\" which, it really is. <br> Label: Con (original) <br> Distance: 0.44249",
          "Text: who in the hell needs a frigging *VGA* camera on their CELLPHONE??? <br> Label: Con (original) <br> Distance: 0.34550",
          "Text: my only complaint would be that you need id3 tags & that takes a while to do if your mp3 files do n't have them .  <br> Label: Con (original) <br> Distance: 0.63243",
          "Text: Knocked 1 star off for the install wizard - it wasted alot of time running it.      <br> Label: Con (original) <br> Distance: 0.44366",
          "Text:  A week out of the box and I began to see slight contractions of the screen from time to time , growing more frequent each day . <br> Label: Con (original) <br> Distance: 0.00980",
          "Text: so now it still plays everything , you just can 't see it !  <br> Label: Con (original) <br> Distance: 0.51886",
          "Text: I downloaded the new firmware which was supposed to take care of the problem, but it hasn't worked.  <br> Label: Con (original) <br> Distance: 0.46311",
          "Text: The only problem I have with the buttons is that the power button and print/share button don't have a nice click.  <br> Label: Con (original) <br> Distance: 0.13976",
          "Text: however , it has failed to deliver on quality .  <br> Label: Con (original) <br> Distance: 0.18580",
          "Text: the zen does n't support folders so it is not really a storage device ; even with third party software that \" creates \" folders , documents and programs can 't be launched from the zen , so it is not a hard disk , it 's a storage device at best .  <br> Label: Con (original) <br> Distance: 0.52697"
         ],
         "type": "scatter",
         "x": [
          1.0409376634135141,
          -0.02441729658701449,
          -0.6664208024963882,
          -1.0675697627147838,
          1.2565001405902487,
          -0.6645395152397059,
          -0.9652887045807692,
          -1.277248873732476,
          -1.0709453143369865,
          -1.26975793961846,
          0.9873321683919438,
          -1.1239446404844065,
          -1.2626434761328067,
          -0.8161189331683627,
          -1.2789363830722944
         ],
         "y": [
          1.2495591321684596,
          -0.024433861132974893,
          -0.6674766465555366,
          -1.2266842073612376,
          1.0028398966362064,
          -0.660510748553753,
          -0.8127585846603717,
          -1.1444685877346055,
          -1.2318903593057304,
          -1.2943620539145746,
          0.9918152295022845,
          -0.9075762566972795,
          -1.2864034604554726,
          -0.9054375975776527,
          -1.1891349162887737
         ]
        },
        {
         "hovertemplate": "%{text}",
         "marker": {
          "color": "red",
          "opacity": 1,
          "size": 20,
          "symbol": "diamond"
         },
         "mode": "markers",
         "name": "Pro (Augmented)",
         "text": [
          "Text:  All can I say is that this is an excellent devise . <br> Label: Pro (augmented) <br> Distance: 0.57266",
          "Text:  So far , I am super yet with this small happy powerful enough laptop . <br> Label: Pro (augmented) <br> Distance: 0.00061",
          "Text: XI ) minimal pause between birdsong - less than that on other devices - salutary achievement for a hard-drive based player  <br> Label: Pro (augmented) <br> Distance: 0.89070",
          "Text: The more I use it and figure out how to do things, I it.      <br> Label: Pro (augmented) <br> Distance: 0.59837",
          "Text: The Micro seeemed micro like an iPod for less.  <br> Label: Pro (augmented) <br> Distance: 0.32001",
          "Text: You can use the player to store well your computer information data files (Good feature to have).    <br> Label: Pro (augmented) <br> Distance: 0.46714",
          "Text: Compatability with other devices is excellent former too; I've only found one 11b device that twist won't work lick with its mixed mode (and it won't work with *anyone's* mixed mode). <br> Label: Pro (augmented) <br> Distance: 0.15991",
          "Text: comparatively All I have to say is that the pics I get with my SD500 are both racy rich and color and high in detail, the user interface wit is awesome, the battery charger is tiny lightsome and super light and SD cards are productive relatively cheap and getting cheaper all the time. <br> Label: Pro (augmented) <br> Distance: 0.02119",
          "Text: I of went on a quick shoot and in NYC's  Central Park today, and what a bunch just beautiful photo I took, if I do  say so myself (photos I do!) <br> Label: Pro (augmented) <br> Distance: 0.48660",
          "Text:  Sound profound effects really sound more authentic . <br> Label: Pro (augmented) <br> Distance: 0.04291",
          "Text:  The system was nowhere near stable , and the reasoned code was sound in `` alpha '' stage at best . <br> Label: Pro (augmented) <br> Distance: 0.59373",
          "Text:  I do n't for-see myself having any issues with it in the coming year or two still if unity do , I will cognise that with this product , it will be ask care of for unfreeze and immediate with helpful and courteous customer help reps. The service of virago in perplex this item to me was profligate than unity expect and it is exactly what I know it would be . <br> Label: Pro (augmented) <br> Distance: 0.44600",
          "Text:  the netbook work it a breeze for person sales my , it worked fine , fast it with the extra ram nothing could stop and , as fact as works better than my own laptop so I will change to this one in soon as possible <br> Label: Pro (augmented) <br> Distance: 0.13848",
          "Text:  Fits nicely on the desk we use in computer room . <br> Label: Pro (augmented) <br> Distance: 0.15245",
          "Text:  Pros : - Great sound a $ 100 speaker at mid to levels . <br> Label: Pro (augmented) <br> Distance: 0.42581"
         ],
         "type": "scatter",
         "x": [
          1.2450201313724742,
          1.2941152268725844,
          -0.8454012492600093,
          -0.3529461171616673,
          -0.1732807326126955,
          1.0520036828463055,
          1.1616922162885581,
          1.037829542370746,
          1.1272095532299837,
          1.273520620720338,
          -0.6419824013837747,
          -1.0346470225458155,
          0.8679199912512149,
          0.16557758076904464,
          1.1950433356917818
         ],
         "y": [
          0.9892469227061701,
          1.2918849275089286,
          -0.7705509335612488,
          -0.3517707533398366,
          -0.17269778827239238,
          1.274287821723533,
          1.3778641330580892,
          0.9409021572322459,
          1.3657534613513111,
          1.0335339834104909,
          -0.6358352771254122,
          -1.2035896690843662,
          0.8681873923774258,
          0.1648303752037589,
          1.374648339053395
         ]
        },
        {
         "hovertemplate": "%{text}",
         "marker": {
          "color": "red",
          "opacity": 0.3,
          "size": 60,
          "symbol": "diamond"
         },
         "mode": "markers",
         "name": "Pro (Original)",
         "text": [
          "Text:  All I can say is that this is an excellent devise . <br> Label: Pro (original) <br> Distance: 0.57266",
          "Text:  So far , I am super happy with this small yet powerful enough laptop . <br> Label: Pro (original) <br> Distance: 0.00061",
          "Text: 11 ) minimal pause between songs - less than that on other devices - good achievement for a hard-drive based player  <br> Label: Pro (original) <br> Distance: 0.89070",
          "Text: The more I use it and figure out how to do things, the more I like it.      <br> Label: Pro (original) <br> Distance: 0.59837",
          "Text: The Micro seeemed like an iPod for less.  <br> Label: Pro (original) <br> Distance: 0.32001",
          "Text: You can use the player to store your computer data files (Good feature to have).    <br> Label: Pro (original) <br> Distance: 0.46714",
          "Text: Compatability with other devices is excellent too; I've only found one 11b device that won't work with its mixed mode (and it won't work with *anyone's* mixed mode). <br> Label: Pro (original) <br> Distance: 0.15991",
          "Text: All I have to say is that the pics I get with my SD500 are both rich and color and high in detail, the user interface is awesome, the battery charger is tiny and super light and SD cards are relatively cheap and getting cheaper all the time. <br> Label: Pro (original) <br> Distance: 0.02119",
          "Text: I just went on a quick photo shoot in NYC's  Central Park today, and what a bunch of beautiful photos I took, if I do  say so myself (and I do!) <br> Label: Pro (original) <br> Distance: 0.48660",
          "Text:  Sound effects really sound more authentic . <br> Label: Pro (original) <br> Distance: 0.04291",
          "Text:  The system was nowhere near stable , and the code was in `` alpha '' stage at best . <br> Label: Pro (original) <br> Distance: 0.59373",
          "Text:  I do n't for-see myself having any issues with it in the coming year or two however if I do , I will know that with this product , it will be taken care of for free and quick with helpful and courteous customer service reps. The service of Amazon in getting this item to me was faster than I expected and it is exactly what I knew it would be . <br> Label: Pro (original) <br> Distance: 0.44600",
          "Text:  the netbook work as a breeze for my sales person , it worked fine , fast and with the extra ram nothing could stop it , in fact it works better than my own laptop so I will change to this one as soon as possible <br> Label: Pro (original) <br> Distance: 0.13848",
          "Text:  Fits nicely on the small desk we use in our computer room . <br> Label: Pro (original) <br> Distance: 0.15245",
          "Text:  Pros : - Great sound for a $ 100 speaker at mid to higher levels . <br> Label: Pro (original) <br> Distance: 0.42581"
         ],
         "type": "scatter",
         "x": [
          1.1160501622596934,
          1.294351853371725,
          -0.48621949090341654,
          -0.12343184314775492,
          -0.29605620369661756,
          0.9559729751220278,
          1.2315503277916544,
          1.0469241006647498,
          1.2992685683052234,
          1.284203774213979,
          -0.8932942395090789,
          -1.0996101631720911,
          0.9203773148093867,
          0.224058221203994,
          1.294920609677768
         ],
         "y": [
          1.357316614326639,
          1.2921077340661824,
          -0.4844506390343961,
          -0.1230630154064703,
          -0.29493308441441524,
          0.9656414904126658,
          1.3525848132850893,
          0.9364900197386032,
          1.144209947638685,
          1.0600557690489407,
          -0.77801282450418,
          -0.8898532013452833,
          0.9229123016715636,
          0.2230840010877785,
          1.104934970110039
         ]
        }
       ],
       "layout": {
        "font": {
         "color": "black",
         "family": "Courier New, monospace",
         "size": 50
        },
        "showlegend": true,
        "template": {
         "data": {
          "bar": [
           {
            "error_x": {
             "color": "#2a3f5f"
            },
            "error_y": {
             "color": "#2a3f5f"
            },
            "marker": {
             "line": {
              "color": "#E5ECF6",
              "width": 0.5
             },
             "pattern": {
              "fillmode": "overlay",
              "size": 10,
              "solidity": 0.2
             }
            },
            "type": "bar"
           }
          ],
          "barpolar": [
           {
            "marker": {
             "line": {
              "color": "#E5ECF6",
              "width": 0.5
             },
             "pattern": {
              "fillmode": "overlay",
              "size": 10,
              "solidity": 0.2
             }
            },
            "type": "barpolar"
           }
          ],
          "carpet": [
           {
            "aaxis": {
             "endlinecolor": "#2a3f5f",
             "gridcolor": "white",
             "linecolor": "white",
             "minorgridcolor": "white",
             "startlinecolor": "#2a3f5f"
            },
            "baxis": {
             "endlinecolor": "#2a3f5f",
             "gridcolor": "white",
             "linecolor": "white",
             "minorgridcolor": "white",
             "startlinecolor": "#2a3f5f"
            },
            "type": "carpet"
           }
          ],
          "choropleth": [
           {
            "colorbar": {
             "outlinewidth": 0,
             "ticks": ""
            },
            "type": "choropleth"
           }
          ],
          "contour": [
           {
            "colorbar": {
             "outlinewidth": 0,
             "ticks": ""
            },
            "colorscale": [
             [
              0,
              "#0d0887"
             ],
             [
              0.1111111111111111,
              "#46039f"
             ],
             [
              0.2222222222222222,
              "#7201a8"
             ],
             [
              0.3333333333333333,
              "#9c179e"
             ],
             [
              0.4444444444444444,
              "#bd3786"
             ],
             [
              0.5555555555555556,
              "#d8576b"
             ],
             [
              0.6666666666666666,
              "#ed7953"
             ],
             [
              0.7777777777777778,
              "#fb9f3a"
             ],
             [
              0.8888888888888888,
              "#fdca26"
             ],
             [
              1,
              "#f0f921"
             ]
            ],
            "type": "contour"
           }
          ],
          "contourcarpet": [
           {
            "colorbar": {
             "outlinewidth": 0,
             "ticks": ""
            },
            "type": "contourcarpet"
           }
          ],
          "heatmap": [
           {
            "colorbar": {
             "outlinewidth": 0,
             "ticks": ""
            },
            "colorscale": [
             [
              0,
              "#0d0887"
             ],
             [
              0.1111111111111111,
              "#46039f"
             ],
             [
              0.2222222222222222,
              "#7201a8"
             ],
             [
              0.3333333333333333,
              "#9c179e"
             ],
             [
              0.4444444444444444,
              "#bd3786"
             ],
             [
              0.5555555555555556,
              "#d8576b"
             ],
             [
              0.6666666666666666,
              "#ed7953"
             ],
             [
              0.7777777777777778,
              "#fb9f3a"
             ],
             [
              0.8888888888888888,
              "#fdca26"
             ],
             [
              1,
              "#f0f921"
             ]
            ],
            "type": "heatmap"
           }
          ],
          "heatmapgl": [
           {
            "colorbar": {
             "outlinewidth": 0,
             "ticks": ""
            },
            "colorscale": [
             [
              0,
              "#0d0887"
             ],
             [
              0.1111111111111111,
              "#46039f"
             ],
             [
              0.2222222222222222,
              "#7201a8"
             ],
             [
              0.3333333333333333,
              "#9c179e"
             ],
             [
              0.4444444444444444,
              "#bd3786"
             ],
             [
              0.5555555555555556,
              "#d8576b"
             ],
             [
              0.6666666666666666,
              "#ed7953"
             ],
             [
              0.7777777777777778,
              "#fb9f3a"
             ],
             [
              0.8888888888888888,
              "#fdca26"
             ],
             [
              1,
              "#f0f921"
             ]
            ],
            "type": "heatmapgl"
           }
          ],
          "histogram": [
           {
            "marker": {
             "pattern": {
              "fillmode": "overlay",
              "size": 10,
              "solidity": 0.2
             }
            },
            "type": "histogram"
           }
          ],
          "histogram2d": [
           {
            "colorbar": {
             "outlinewidth": 0,
             "ticks": ""
            },
            "colorscale": [
             [
              0,
              "#0d0887"
             ],
             [
              0.1111111111111111,
              "#46039f"
             ],
             [
              0.2222222222222222,
              "#7201a8"
             ],
             [
              0.3333333333333333,
              "#9c179e"
             ],
             [
              0.4444444444444444,
              "#bd3786"
             ],
             [
              0.5555555555555556,
              "#d8576b"
             ],
             [
              0.6666666666666666,
              "#ed7953"
             ],
             [
              0.7777777777777778,
              "#fb9f3a"
             ],
             [
              0.8888888888888888,
              "#fdca26"
             ],
             [
              1,
              "#f0f921"
             ]
            ],
            "type": "histogram2d"
           }
          ],
          "histogram2dcontour": [
           {
            "colorbar": {
             "outlinewidth": 0,
             "ticks": ""
            },
            "colorscale": [
             [
              0,
              "#0d0887"
             ],
             [
              0.1111111111111111,
              "#46039f"
             ],
             [
              0.2222222222222222,
              "#7201a8"
             ],
             [
              0.3333333333333333,
              "#9c179e"
             ],
             [
              0.4444444444444444,
              "#bd3786"
             ],
             [
              0.5555555555555556,
              "#d8576b"
             ],
             [
              0.6666666666666666,
              "#ed7953"
             ],
             [
              0.7777777777777778,
              "#fb9f3a"
             ],
             [
              0.8888888888888888,
              "#fdca26"
             ],
             [
              1,
              "#f0f921"
             ]
            ],
            "type": "histogram2dcontour"
           }
          ],
          "mesh3d": [
           {
            "colorbar": {
             "outlinewidth": 0,
             "ticks": ""
            },
            "type": "mesh3d"
           }
          ],
          "parcoords": [
           {
            "line": {
             "colorbar": {
              "outlinewidth": 0,
              "ticks": ""
             }
            },
            "type": "parcoords"
           }
          ],
          "pie": [
           {
            "automargin": true,
            "type": "pie"
           }
          ],
          "scatter": [
           {
            "fillpattern": {
             "fillmode": "overlay",
             "size": 10,
             "solidity": 0.2
            },
            "type": "scatter"
           }
          ],
          "scatter3d": [
           {
            "line": {
             "colorbar": {
              "outlinewidth": 0,
              "ticks": ""
             }
            },
            "marker": {
             "colorbar": {
              "outlinewidth": 0,
              "ticks": ""
             }
            },
            "type": "scatter3d"
           }
          ],
          "scattercarpet": [
           {
            "marker": {
             "colorbar": {
              "outlinewidth": 0,
              "ticks": ""
             }
            },
            "type": "scattercarpet"
           }
          ],
          "scattergeo": [
           {
            "marker": {
             "colorbar": {
              "outlinewidth": 0,
              "ticks": ""
             }
            },
            "type": "scattergeo"
           }
          ],
          "scattergl": [
           {
            "marker": {
             "colorbar": {
              "outlinewidth": 0,
              "ticks": ""
             }
            },
            "type": "scattergl"
           }
          ],
          "scattermapbox": [
           {
            "marker": {
             "colorbar": {
              "outlinewidth": 0,
              "ticks": ""
             }
            },
            "type": "scattermapbox"
           }
          ],
          "scatterpolar": [
           {
            "marker": {
             "colorbar": {
              "outlinewidth": 0,
              "ticks": ""
             }
            },
            "type": "scatterpolar"
           }
          ],
          "scatterpolargl": [
           {
            "marker": {
             "colorbar": {
              "outlinewidth": 0,
              "ticks": ""
             }
            },
            "type": "scatterpolargl"
           }
          ],
          "scatterternary": [
           {
            "marker": {
             "colorbar": {
              "outlinewidth": 0,
              "ticks": ""
             }
            },
            "type": "scatterternary"
           }
          ],
          "surface": [
           {
            "colorbar": {
             "outlinewidth": 0,
             "ticks": ""
            },
            "colorscale": [
             [
              0,
              "#0d0887"
             ],
             [
              0.1111111111111111,
              "#46039f"
             ],
             [
              0.2222222222222222,
              "#7201a8"
             ],
             [
              0.3333333333333333,
              "#9c179e"
             ],
             [
              0.4444444444444444,
              "#bd3786"
             ],
             [
              0.5555555555555556,
              "#d8576b"
             ],
             [
              0.6666666666666666,
              "#ed7953"
             ],
             [
              0.7777777777777778,
              "#fb9f3a"
             ],
             [
              0.8888888888888888,
              "#fdca26"
             ],
             [
              1,
              "#f0f921"
             ]
            ],
            "type": "surface"
           }
          ],
          "table": [
           {
            "cells": {
             "fill": {
              "color": "#EBF0F8"
             },
             "line": {
              "color": "white"
             }
            },
            "header": {
             "fill": {
              "color": "#C8D4E3"
             },
             "line": {
              "color": "white"
             }
            },
            "type": "table"
           }
          ]
         },
         "layout": {
          "annotationdefaults": {
           "arrowcolor": "#2a3f5f",
           "arrowhead": 0,
           "arrowwidth": 1
          },
          "autotypenumbers": "strict",
          "coloraxis": {
           "colorbar": {
            "outlinewidth": 0,
            "ticks": ""
           }
          },
          "colorscale": {
           "diverging": [
            [
             0,
             "#8e0152"
            ],
            [
             0.1,
             "#c51b7d"
            ],
            [
             0.2,
             "#de77ae"
            ],
            [
             0.3,
             "#f1b6da"
            ],
            [
             0.4,
             "#fde0ef"
            ],
            [
             0.5,
             "#f7f7f7"
            ],
            [
             0.6,
             "#e6f5d0"
            ],
            [
             0.7,
             "#b8e186"
            ],
            [
             0.8,
             "#7fbc41"
            ],
            [
             0.9,
             "#4d9221"
            ],
            [
             1,
             "#276419"
            ]
           ],
           "sequential": [
            [
             0,
             "#0d0887"
            ],
            [
             0.1111111111111111,
             "#46039f"
            ],
            [
             0.2222222222222222,
             "#7201a8"
            ],
            [
             0.3333333333333333,
             "#9c179e"
            ],
            [
             0.4444444444444444,
             "#bd3786"
            ],
            [
             0.5555555555555556,
             "#d8576b"
            ],
            [
             0.6666666666666666,
             "#ed7953"
            ],
            [
             0.7777777777777778,
             "#fb9f3a"
            ],
            [
             0.8888888888888888,
             "#fdca26"
            ],
            [
             1,
             "#f0f921"
            ]
           ],
           "sequentialminus": [
            [
             0,
             "#0d0887"
            ],
            [
             0.1111111111111111,
             "#46039f"
            ],
            [
             0.2222222222222222,
             "#7201a8"
            ],
            [
             0.3333333333333333,
             "#9c179e"
            ],
            [
             0.4444444444444444,
             "#bd3786"
            ],
            [
             0.5555555555555556,
             "#d8576b"
            ],
            [
             0.6666666666666666,
             "#ed7953"
            ],
            [
             0.7777777777777778,
             "#fb9f3a"
            ],
            [
             0.8888888888888888,
             "#fdca26"
            ],
            [
             1,
             "#f0f921"
            ]
           ]
          },
          "colorway": [
           "#636efa",
           "#EF553B",
           "#00cc96",
           "#ab63fa",
           "#FFA15A",
           "#19d3f3",
           "#FF6692",
           "#B6E880",
           "#FF97FF",
           "#FECB52"
          ],
          "font": {
           "color": "#2a3f5f"
          },
          "geo": {
           "bgcolor": "white",
           "lakecolor": "white",
           "landcolor": "#E5ECF6",
           "showlakes": true,
           "showland": true,
           "subunitcolor": "white"
          },
          "hoverlabel": {
           "align": "left"
          },
          "hovermode": "closest",
          "mapbox": {
           "style": "light"
          },
          "paper_bgcolor": "white",
          "plot_bgcolor": "#E5ECF6",
          "polar": {
           "angularaxis": {
            "gridcolor": "white",
            "linecolor": "white",
            "ticks": ""
           },
           "bgcolor": "#E5ECF6",
           "radialaxis": {
            "gridcolor": "white",
            "linecolor": "white",
            "ticks": ""
           }
          },
          "scene": {
           "xaxis": {
            "backgroundcolor": "#E5ECF6",
            "gridcolor": "white",
            "gridwidth": 2,
            "linecolor": "white",
            "showbackground": true,
            "ticks": "",
            "zerolinecolor": "white"
           },
           "yaxis": {
            "backgroundcolor": "#E5ECF6",
            "gridcolor": "white",
            "gridwidth": 2,
            "linecolor": "white",
            "showbackground": true,
            "ticks": "",
            "zerolinecolor": "white"
           },
           "zaxis": {
            "backgroundcolor": "#E5ECF6",
            "gridcolor": "white",
            "gridwidth": 2,
            "linecolor": "white",
            "showbackground": true,
            "ticks": "",
            "zerolinecolor": "white"
           }
          },
          "shapedefaults": {
           "line": {
            "color": "#2a3f5f"
           }
          },
          "ternary": {
           "aaxis": {
            "gridcolor": "white",
            "linecolor": "white",
            "ticks": ""
           },
           "baxis": {
            "gridcolor": "white",
            "linecolor": "white",
            "ticks": ""
           },
           "bgcolor": "#E5ECF6",
           "caxis": {
            "gridcolor": "white",
            "linecolor": "white",
            "ticks": ""
           }
          },
          "title": {
           "x": 0.05
          },
          "xaxis": {
           "automargin": true,
           "gridcolor": "white",
           "linecolor": "white",
           "ticks": "",
           "title": {
            "standoff": 15
           },
           "zerolinecolor": "white",
           "zerolinewidth": 2
          },
          "yaxis": {
           "automargin": true,
           "gridcolor": "white",
           "linecolor": "white",
           "ticks": "",
           "title": {
            "standoff": 15
           },
           "zerolinecolor": "white",
           "zerolinewidth": 2
          }
         }
        },
        "title": {
         "text": "total distance: 12.1553"
        }
       }
      },
      "text/html": [
       "<div>                            <div id=\"29eb3185-e7c8-43be-b7de-b2dedc075f9d\" class=\"plotly-graph-div\" style=\"height:525px; width:100%;\"></div>            <script type=\"text/javascript\">                require([\"plotly\"], function(Plotly) {                    window.PLOTLYENV=window.PLOTLYENV || {};                                    if (document.getElementById(\"29eb3185-e7c8-43be-b7de-b2dedc075f9d\")) {                    Plotly.newPlot(                        \"29eb3185-e7c8-43be-b7de-b2dedc075f9d\",                        [{\"hovertemplate\":\"%{text}\",\"marker\":{\"color\":\"blue\",\"opacity\":1,\"size\":20,\"symbol\":\"circle\"},\"mode\":\"markers\",\"name\":\"Con (Augmented)\",\"text\":[\"Text: Finally, I finally gave up and I purchased a Router Razier. <br> Label: Con (augmented) <br> Distance: 0.40660\",\"Text:  There 's no also height adjustability , so it sits very low to the desk . <br> Label: Con (augmented) <br> Distance: 0.01834\",\"Text: i again never buy a creative product will .  <br> Label: Con (augmented) <br> Distance: 0.07627\",\"Text: While iodin was assay to play Half animation 2 it started popping up with \\\"alerts\\\" every twenty seconds (literally), admonition me my antivirus auspices was off. <br> Label: Con (augmented) <br> Distance: 0.76196\",\"Text: it had a heavier and sturdy more casing .  <br> Label: Con (augmented) <br> Distance: 0.54942\",\"Text: Some people have commented about the and weight the phone, and it has rightfully gotten the \\\"the of\\\" which, it really is. <br> Label: Con (augmented) <br> Distance: 0.44249\",\"Text: who in the needs frigging *VGA* camera on their CELLPHONE??? <br> Label: Con (augmented) <br> Distance: 0.34550\",\"Text: my only charge would be that you postulate id3 shred & that pack a while to do if your mp3 files do n't have them .  <br> Label: Con (augmented) <br> Distance: 0.63243\",\"Text: Knocked 1 star off the install wizard - wasted of time running it.      <br> Label: Con (augmented) <br> Distance: 0.44366\",\"Text:  A week out of metre the box and I began to see slight iodine contractions of the screen from raise time to time , growing more frequent each day . <br> Label: Con (augmented) <br> Distance: 0.00980\",\"Text: so now it everything , you just can 't see it !  <br> Label: Con (augmented) <br> Distance: 0.51886\",\"Text: downloaded the new firmware which was supposed to take the problem, but it hasn't worked.  <br> Label: Con (augmented) <br> Distance: 0.46311\",\"Text: The only problem I have with adenine the buttons is that the power button and print/impress share button don't have a nice click.  <br> Label: Con (augmented) <br> Distance: 0.13976\",\"Text: however , it has failed to deliver on choice .  <br> Label: Con (augmented) <br> Distance: 0.18580\",\"Text: the pane zen does n't support folders so it is not really a storage device ; even IT with third party software that \\\" creates \\\" folders , documents and programs astatine can 't be launched IT from the zen , so it is not a hard disk , comprise it 's a storage device at best .  <br> Label: Con (augmented) <br> Distance: 0.52697\"],\"x\":[0.9661280891216403,-0.017380536127430405,-0.6950592173802377,-0.8050323421525379,1.1585465760891693,-0.49444407375328214,-0.811099893262263,-0.9946965819408787,-1.1489188620525068,-1.2656727216758614,1.2186680400951877,-0.9535599177733575,-1.2803029543990891,-0.7711116137351663,-1.0437442455526476],\"y\":[0.9738385010795297,-0.017423969479759105,-0.6982750408582168,-0.8654360152253513,1.377722218053469,-0.4924120707935905,-0.7975247184894141,-1.161540962790418,-0.9283660952991187,-1.2917245635537078,0.9634638046667685,-1.1033345236454346,-1.1866592090331738,-0.7892496545700091,-1.2118654425787942],\"type\":\"scatter\"},{\"hovertemplate\":\"%{text}\",\"marker\":{\"color\":\"blue\",\"opacity\":0.3,\"size\":60,\"symbol\":\"circle\"},\"mode\":\"markers\",\"name\":\"Con (Original)\",\"text\":[\"Text: Finally, I gave up and I purchased a Router Razier. <br> Label: Con (original) <br> Distance: 0.40660\",\"Text:  There 's also no height adjustability , so it sits very low to the desk . <br> Label: Con (original) <br> Distance: 0.01834\",\"Text: i will never buy a creative product again .  <br> Label: Con (original) <br> Distance: 0.07627\",\"Text: While I was trying to play Half Life 2 it started popping up with \\\"alerts\\\" every twenty seconds (literally), warning me my antivirus protection was off. <br> Label: Con (original) <br> Distance: 0.76196\",\"Text: it had a heavier and more sturdy casing .  <br> Label: Con (original) <br> Distance: 0.54942\",\"Text: Some people have commented about the size and weight of the phone, and it has rightfully gotten the nick-name \\\"the bar of soap\\\" which, it really is. <br> Label: Con (original) <br> Distance: 0.44249\",\"Text: who in the hell needs a frigging *VGA* camera on their CELLPHONE??? <br> Label: Con (original) <br> Distance: 0.34550\",\"Text: my only complaint would be that you need id3 tags & that takes a while to do if your mp3 files do n't have them .  <br> Label: Con (original) <br> Distance: 0.63243\",\"Text: Knocked 1 star off for the install wizard - it wasted alot of time running it.      <br> Label: Con (original) <br> Distance: 0.44366\",\"Text:  A week out of the box and I began to see slight contractions of the screen from time to time , growing more frequent each day . <br> Label: Con (original) <br> Distance: 0.00980\",\"Text: so now it still plays everything , you just can 't see it !  <br> Label: Con (original) <br> Distance: 0.51886\",\"Text: I downloaded the new firmware which was supposed to take care of the problem, but it hasn't worked.  <br> Label: Con (original) <br> Distance: 0.46311\",\"Text: The only problem I have with the buttons is that the power button and print/share button don't have a nice click.  <br> Label: Con (original) <br> Distance: 0.13976\",\"Text: however , it has failed to deliver on quality .  <br> Label: Con (original) <br> Distance: 0.18580\",\"Text: the zen does n't support folders so it is not really a storage device ; even with third party software that \\\" creates \\\" folders , documents and programs can 't be launched from the zen , so it is not a hard disk , it 's a storage device at best .  <br> Label: Con (original) <br> Distance: 0.52697\"],\"x\":[1.0409376634135141,-0.02441729658701449,-0.6664208024963882,-1.0675697627147838,1.2565001405902487,-0.6645395152397059,-0.9652887045807692,-1.277248873732476,-1.0709453143369865,-1.26975793961846,0.9873321683919438,-1.1239446404844065,-1.2626434761328067,-0.8161189331683627,-1.2789363830722944],\"y\":[1.2495591321684596,-0.024433861132974893,-0.6674766465555366,-1.2266842073612376,1.0028398966362064,-0.660510748553753,-0.8127585846603717,-1.1444685877346055,-1.2318903593057304,-1.2943620539145746,0.9918152295022845,-0.9075762566972795,-1.2864034604554726,-0.9054375975776527,-1.1891349162887737],\"type\":\"scatter\"},{\"hovertemplate\":\"%{text}\",\"marker\":{\"color\":\"red\",\"opacity\":1,\"size\":20,\"symbol\":\"diamond\"},\"mode\":\"markers\",\"name\":\"Pro (Augmented)\",\"text\":[\"Text:  All can I say is that this is an excellent devise . <br> Label: Pro (augmented) <br> Distance: 0.57266\",\"Text:  So far , I am super yet with this small happy powerful enough laptop . <br> Label: Pro (augmented) <br> Distance: 0.00061\",\"Text: XI ) minimal pause between birdsong - less than that on other devices - salutary achievement for a hard-drive based player  <br> Label: Pro (augmented) <br> Distance: 0.89070\",\"Text: The more I use it and figure out how to do things, I it.      <br> Label: Pro (augmented) <br> Distance: 0.59837\",\"Text: The Micro seeemed micro like an iPod for less.  <br> Label: Pro (augmented) <br> Distance: 0.32001\",\"Text: You can use the player to store well your computer information data files (Good feature to have).    <br> Label: Pro (augmented) <br> Distance: 0.46714\",\"Text: Compatability with other devices is excellent former too; I've only found one 11b device that twist won't work lick with its mixed mode (and it won't work with *anyone's* mixed mode). <br> Label: Pro (augmented) <br> Distance: 0.15991\",\"Text: comparatively All I have to say is that the pics I get with my SD500 are both racy rich and color and high in detail, the user interface wit is awesome, the battery charger is tiny lightsome and super light and SD cards are productive relatively cheap and getting cheaper all the time. <br> Label: Pro (augmented) <br> Distance: 0.02119\",\"Text: I of went on a quick shoot and in NYC's  Central Park today, and what a bunch just beautiful photo I took, if I do  say so myself (photos I do!) <br> Label: Pro (augmented) <br> Distance: 0.48660\",\"Text:  Sound profound effects really sound more authentic . <br> Label: Pro (augmented) <br> Distance: 0.04291\",\"Text:  The system was nowhere near stable , and the reasoned code was sound in `` alpha '' stage at best . <br> Label: Pro (augmented) <br> Distance: 0.59373\",\"Text:  I do n't for-see myself having any issues with it in the coming year or two still if unity do , I will cognise that with this product , it will be ask care of for unfreeze and immediate with helpful and courteous customer help reps. The service of virago in perplex this item to me was profligate than unity expect and it is exactly what I know it would be . <br> Label: Pro (augmented) <br> Distance: 0.44600\",\"Text:  the netbook work it a breeze for person sales my , it worked fine , fast it with the extra ram nothing could stop and , as fact as works better than my own laptop so I will change to this one in soon as possible <br> Label: Pro (augmented) <br> Distance: 0.13848\",\"Text:  Fits nicely on the desk we use in computer room . <br> Label: Pro (augmented) <br> Distance: 0.15245\",\"Text:  Pros : - Great sound a $ 100 speaker at mid to levels . <br> Label: Pro (augmented) <br> Distance: 0.42581\"],\"x\":[1.2450201313724742,1.2941152268725844,-0.8454012492600093,-0.3529461171616673,-0.1732807326126955,1.0520036828463055,1.1616922162885581,1.037829542370746,1.1272095532299837,1.273520620720338,-0.6419824013837747,-1.0346470225458155,0.8679199912512149,0.16557758076904464,1.1950433356917818],\"y\":[0.9892469227061701,1.2918849275089286,-0.7705509335612488,-0.3517707533398366,-0.17269778827239238,1.274287821723533,1.3778641330580892,0.9409021572322459,1.3657534613513111,1.0335339834104909,-0.6358352771254122,-1.2035896690843662,0.8681873923774258,0.1648303752037589,1.374648339053395],\"type\":\"scatter\"},{\"hovertemplate\":\"%{text}\",\"marker\":{\"color\":\"red\",\"opacity\":0.3,\"size\":60,\"symbol\":\"diamond\"},\"mode\":\"markers\",\"name\":\"Pro (Original)\",\"text\":[\"Text:  All I can say is that this is an excellent devise . <br> Label: Pro (original) <br> Distance: 0.57266\",\"Text:  So far , I am super happy with this small yet powerful enough laptop . <br> Label: Pro (original) <br> Distance: 0.00061\",\"Text: 11 ) minimal pause between songs - less than that on other devices - good achievement for a hard-drive based player  <br> Label: Pro (original) <br> Distance: 0.89070\",\"Text: The more I use it and figure out how to do things, the more I like it.      <br> Label: Pro (original) <br> Distance: 0.59837\",\"Text: The Micro seeemed like an iPod for less.  <br> Label: Pro (original) <br> Distance: 0.32001\",\"Text: You can use the player to store your computer data files (Good feature to have).    <br> Label: Pro (original) <br> Distance: 0.46714\",\"Text: Compatability with other devices is excellent too; I've only found one 11b device that won't work with its mixed mode (and it won't work with *anyone's* mixed mode). <br> Label: Pro (original) <br> Distance: 0.15991\",\"Text: All I have to say is that the pics I get with my SD500 are both rich and color and high in detail, the user interface is awesome, the battery charger is tiny and super light and SD cards are relatively cheap and getting cheaper all the time. <br> Label: Pro (original) <br> Distance: 0.02119\",\"Text: I just went on a quick photo shoot in NYC's  Central Park today, and what a bunch of beautiful photos I took, if I do  say so myself (and I do!) <br> Label: Pro (original) <br> Distance: 0.48660\",\"Text:  Sound effects really sound more authentic . <br> Label: Pro (original) <br> Distance: 0.04291\",\"Text:  The system was nowhere near stable , and the code was in `` alpha '' stage at best . <br> Label: Pro (original) <br> Distance: 0.59373\",\"Text:  I do n't for-see myself having any issues with it in the coming year or two however if I do , I will know that with this product , it will be taken care of for free and quick with helpful and courteous customer service reps. The service of Amazon in getting this item to me was faster than I expected and it is exactly what I knew it would be . <br> Label: Pro (original) <br> Distance: 0.44600\",\"Text:  the netbook work as a breeze for my sales person , it worked fine , fast and with the extra ram nothing could stop it , in fact it works better than my own laptop so I will change to this one as soon as possible <br> Label: Pro (original) <br> Distance: 0.13848\",\"Text:  Fits nicely on the small desk we use in our computer room . <br> Label: Pro (original) <br> Distance: 0.15245\",\"Text:  Pros : - Great sound for a $ 100 speaker at mid to higher levels . <br> Label: Pro (original) <br> Distance: 0.42581\"],\"x\":[1.1160501622596934,1.294351853371725,-0.48621949090341654,-0.12343184314775492,-0.29605620369661756,0.9559729751220278,1.2315503277916544,1.0469241006647498,1.2992685683052234,1.284203774213979,-0.8932942395090789,-1.0996101631720911,0.9203773148093867,0.224058221203994,1.294920609677768],\"y\":[1.357316614326639,1.2921077340661824,-0.4844506390343961,-0.1230630154064703,-0.29493308441441524,0.9656414904126658,1.3525848132850893,0.9364900197386032,1.144209947638685,1.0600557690489407,-0.77801282450418,-0.8898532013452833,0.9229123016715636,0.2230840010877785,1.104934970110039],\"type\":\"scatter\"}],                        {\"template\":{\"data\":{\"histogram2dcontour\":[{\"type\":\"histogram2dcontour\",\"colorbar\":{\"outlinewidth\":0,\"ticks\":\"\"},\"colorscale\":[[0.0,\"#0d0887\"],[0.1111111111111111,\"#46039f\"],[0.2222222222222222,\"#7201a8\"],[0.3333333333333333,\"#9c179e\"],[0.4444444444444444,\"#bd3786\"],[0.5555555555555556,\"#d8576b\"],[0.6666666666666666,\"#ed7953\"],[0.7777777777777778,\"#fb9f3a\"],[0.8888888888888888,\"#fdca26\"],[1.0,\"#f0f921\"]]}],\"choropleth\":[{\"type\":\"choropleth\",\"colorbar\":{\"outlinewidth\":0,\"ticks\":\"\"}}],\"histogram2d\":[{\"type\":\"histogram2d\",\"colorbar\":{\"outlinewidth\":0,\"ticks\":\"\"},\"colorscale\":[[0.0,\"#0d0887\"],[0.1111111111111111,\"#46039f\"],[0.2222222222222222,\"#7201a8\"],[0.3333333333333333,\"#9c179e\"],[0.4444444444444444,\"#bd3786\"],[0.5555555555555556,\"#d8576b\"],[0.6666666666666666,\"#ed7953\"],[0.7777777777777778,\"#fb9f3a\"],[0.8888888888888888,\"#fdca26\"],[1.0,\"#f0f921\"]]}],\"heatmap\":[{\"type\":\"heatmap\",\"colorbar\":{\"outlinewidth\":0,\"ticks\":\"\"},\"colorscale\":[[0.0,\"#0d0887\"],[0.1111111111111111,\"#46039f\"],[0.2222222222222222,\"#7201a8\"],[0.3333333333333333,\"#9c179e\"],[0.4444444444444444,\"#bd3786\"],[0.5555555555555556,\"#d8576b\"],[0.6666666666666666,\"#ed7953\"],[0.7777777777777778,\"#fb9f3a\"],[0.8888888888888888,\"#fdca26\"],[1.0,\"#f0f921\"]]}],\"heatmapgl\":[{\"type\":\"heatmapgl\",\"colorbar\":{\"outlinewidth\":0,\"ticks\":\"\"},\"colorscale\":[[0.0,\"#0d0887\"],[0.1111111111111111,\"#46039f\"],[0.2222222222222222,\"#7201a8\"],[0.3333333333333333,\"#9c179e\"],[0.4444444444444444,\"#bd3786\"],[0.5555555555555556,\"#d8576b\"],[0.6666666666666666,\"#ed7953\"],[0.7777777777777778,\"#fb9f3a\"],[0.8888888888888888,\"#fdca26\"],[1.0,\"#f0f921\"]]}],\"contourcarpet\":[{\"type\":\"contourcarpet\",\"colorbar\":{\"outlinewidth\":0,\"ticks\":\"\"}}],\"contour\":[{\"type\":\"contour\",\"colorbar\":{\"outlinewidth\":0,\"ticks\":\"\"},\"colorscale\":[[0.0,\"#0d0887\"],[0.1111111111111111,\"#46039f\"],[0.2222222222222222,\"#7201a8\"],[0.3333333333333333,\"#9c179e\"],[0.4444444444444444,\"#bd3786\"],[0.5555555555555556,\"#d8576b\"],[0.6666666666666666,\"#ed7953\"],[0.7777777777777778,\"#fb9f3a\"],[0.8888888888888888,\"#fdca26\"],[1.0,\"#f0f921\"]]}],\"surface\":[{\"type\":\"surface\",\"colorbar\":{\"outlinewidth\":0,\"ticks\":\"\"},\"colorscale\":[[0.0,\"#0d0887\"],[0.1111111111111111,\"#46039f\"],[0.2222222222222222,\"#7201a8\"],[0.3333333333333333,\"#9c179e\"],[0.4444444444444444,\"#bd3786\"],[0.5555555555555556,\"#d8576b\"],[0.6666666666666666,\"#ed7953\"],[0.7777777777777778,\"#fb9f3a\"],[0.8888888888888888,\"#fdca26\"],[1.0,\"#f0f921\"]]}],\"mesh3d\":[{\"type\":\"mesh3d\",\"colorbar\":{\"outlinewidth\":0,\"ticks\":\"\"}}],\"scatter\":[{\"fillpattern\":{\"fillmode\":\"overlay\",\"size\":10,\"solidity\":0.2},\"type\":\"scatter\"}],\"parcoords\":[{\"type\":\"parcoords\",\"line\":{\"colorbar\":{\"outlinewidth\":0,\"ticks\":\"\"}}}],\"scatterpolargl\":[{\"type\":\"scatterpolargl\",\"marker\":{\"colorbar\":{\"outlinewidth\":0,\"ticks\":\"\"}}}],\"bar\":[{\"error_x\":{\"color\":\"#2a3f5f\"},\"error_y\":{\"color\":\"#2a3f5f\"},\"marker\":{\"line\":{\"color\":\"#E5ECF6\",\"width\":0.5},\"pattern\":{\"fillmode\":\"overlay\",\"size\":10,\"solidity\":0.2}},\"type\":\"bar\"}],\"scattergeo\":[{\"type\":\"scattergeo\",\"marker\":{\"colorbar\":{\"outlinewidth\":0,\"ticks\":\"\"}}}],\"scatterpolar\":[{\"type\":\"scatterpolar\",\"marker\":{\"colorbar\":{\"outlinewidth\":0,\"ticks\":\"\"}}}],\"histogram\":[{\"marker\":{\"pattern\":{\"fillmode\":\"overlay\",\"size\":10,\"solidity\":0.2}},\"type\":\"histogram\"}],\"scattergl\":[{\"type\":\"scattergl\",\"marker\":{\"colorbar\":{\"outlinewidth\":0,\"ticks\":\"\"}}}],\"scatter3d\":[{\"type\":\"scatter3d\",\"line\":{\"colorbar\":{\"outlinewidth\":0,\"ticks\":\"\"}},\"marker\":{\"colorbar\":{\"outlinewidth\":0,\"ticks\":\"\"}}}],\"scattermapbox\":[{\"type\":\"scattermapbox\",\"marker\":{\"colorbar\":{\"outlinewidth\":0,\"ticks\":\"\"}}}],\"scatterternary\":[{\"type\":\"scatterternary\",\"marker\":{\"colorbar\":{\"outlinewidth\":0,\"ticks\":\"\"}}}],\"scattercarpet\":[{\"type\":\"scattercarpet\",\"marker\":{\"colorbar\":{\"outlinewidth\":0,\"ticks\":\"\"}}}],\"carpet\":[{\"aaxis\":{\"endlinecolor\":\"#2a3f5f\",\"gridcolor\":\"white\",\"linecolor\":\"white\",\"minorgridcolor\":\"white\",\"startlinecolor\":\"#2a3f5f\"},\"baxis\":{\"endlinecolor\":\"#2a3f5f\",\"gridcolor\":\"white\",\"linecolor\":\"white\",\"minorgridcolor\":\"white\",\"startlinecolor\":\"#2a3f5f\"},\"type\":\"carpet\"}],\"table\":[{\"cells\":{\"fill\":{\"color\":\"#EBF0F8\"},\"line\":{\"color\":\"white\"}},\"header\":{\"fill\":{\"color\":\"#C8D4E3\"},\"line\":{\"color\":\"white\"}},\"type\":\"table\"}],\"barpolar\":[{\"marker\":{\"line\":{\"color\":\"#E5ECF6\",\"width\":0.5},\"pattern\":{\"fillmode\":\"overlay\",\"size\":10,\"solidity\":0.2}},\"type\":\"barpolar\"}],\"pie\":[{\"automargin\":true,\"type\":\"pie\"}]},\"layout\":{\"autotypenumbers\":\"strict\",\"colorway\":[\"#636efa\",\"#EF553B\",\"#00cc96\",\"#ab63fa\",\"#FFA15A\",\"#19d3f3\",\"#FF6692\",\"#B6E880\",\"#FF97FF\",\"#FECB52\"],\"font\":{\"color\":\"#2a3f5f\"},\"hovermode\":\"closest\",\"hoverlabel\":{\"align\":\"left\"},\"paper_bgcolor\":\"white\",\"plot_bgcolor\":\"#E5ECF6\",\"polar\":{\"bgcolor\":\"#E5ECF6\",\"angularaxis\":{\"gridcolor\":\"white\",\"linecolor\":\"white\",\"ticks\":\"\"},\"radialaxis\":{\"gridcolor\":\"white\",\"linecolor\":\"white\",\"ticks\":\"\"}},\"ternary\":{\"bgcolor\":\"#E5ECF6\",\"aaxis\":{\"gridcolor\":\"white\",\"linecolor\":\"white\",\"ticks\":\"\"},\"baxis\":{\"gridcolor\":\"white\",\"linecolor\":\"white\",\"ticks\":\"\"},\"caxis\":{\"gridcolor\":\"white\",\"linecolor\":\"white\",\"ticks\":\"\"}},\"coloraxis\":{\"colorbar\":{\"outlinewidth\":0,\"ticks\":\"\"}},\"colorscale\":{\"sequential\":[[0.0,\"#0d0887\"],[0.1111111111111111,\"#46039f\"],[0.2222222222222222,\"#7201a8\"],[0.3333333333333333,\"#9c179e\"],[0.4444444444444444,\"#bd3786\"],[0.5555555555555556,\"#d8576b\"],[0.6666666666666666,\"#ed7953\"],[0.7777777777777778,\"#fb9f3a\"],[0.8888888888888888,\"#fdca26\"],[1.0,\"#f0f921\"]],\"sequentialminus\":[[0.0,\"#0d0887\"],[0.1111111111111111,\"#46039f\"],[0.2222222222222222,\"#7201a8\"],[0.3333333333333333,\"#9c179e\"],[0.4444444444444444,\"#bd3786\"],[0.5555555555555556,\"#d8576b\"],[0.6666666666666666,\"#ed7953\"],[0.7777777777777778,\"#fb9f3a\"],[0.8888888888888888,\"#fdca26\"],[1.0,\"#f0f921\"]],\"diverging\":[[0,\"#8e0152\"],[0.1,\"#c51b7d\"],[0.2,\"#de77ae\"],[0.3,\"#f1b6da\"],[0.4,\"#fde0ef\"],[0.5,\"#f7f7f7\"],[0.6,\"#e6f5d0\"],[0.7,\"#b8e186\"],[0.8,\"#7fbc41\"],[0.9,\"#4d9221\"],[1,\"#276419\"]]},\"xaxis\":{\"gridcolor\":\"white\",\"linecolor\":\"white\",\"ticks\":\"\",\"title\":{\"standoff\":15},\"zerolinecolor\":\"white\",\"automargin\":true,\"zerolinewidth\":2},\"yaxis\":{\"gridcolor\":\"white\",\"linecolor\":\"white\",\"ticks\":\"\",\"title\":{\"standoff\":15},\"zerolinecolor\":\"white\",\"automargin\":true,\"zerolinewidth\":2},\"scene\":{\"xaxis\":{\"backgroundcolor\":\"#E5ECF6\",\"gridcolor\":\"white\",\"linecolor\":\"white\",\"showbackground\":true,\"ticks\":\"\",\"zerolinecolor\":\"white\",\"gridwidth\":2},\"yaxis\":{\"backgroundcolor\":\"#E5ECF6\",\"gridcolor\":\"white\",\"linecolor\":\"white\",\"showbackground\":true,\"ticks\":\"\",\"zerolinecolor\":\"white\",\"gridwidth\":2},\"zaxis\":{\"backgroundcolor\":\"#E5ECF6\",\"gridcolor\":\"white\",\"linecolor\":\"white\",\"showbackground\":true,\"ticks\":\"\",\"zerolinecolor\":\"white\",\"gridwidth\":2}},\"shapedefaults\":{\"line\":{\"color\":\"#2a3f5f\"}},\"annotationdefaults\":{\"arrowcolor\":\"#2a3f5f\",\"arrowhead\":0,\"arrowwidth\":1},\"geo\":{\"bgcolor\":\"white\",\"landcolor\":\"#E5ECF6\",\"subunitcolor\":\"white\",\"showland\":true,\"showlakes\":true,\"lakecolor\":\"white\"},\"title\":{\"x\":0.05},\"mapbox\":{\"style\":\"light\"}}},\"font\":{\"family\":\"Courier New, monospace\",\"size\":50,\"color\":\"black\"},\"title\":{\"text\":\"total distance: 12.1553\"},\"showlegend\":true},                        {\"responsive\": true}                    ).then(function(){\n",
       "                            \n",
       "var gd = document.getElementById('29eb3185-e7c8-43be-b7de-b2dedc075f9d');\n",
       "var x = new MutationObserver(function (mutations, observer) {{\n",
       "        var display = window.getComputedStyle(gd).display;\n",
       "        if (!display || display === 'none') {{\n",
       "            console.log([gd, 'removed!']);\n",
       "            Plotly.purge(gd);\n",
       "            observer.disconnect();\n",
       "        }}\n",
       "}});\n",
       "\n",
       "// Listen for the removal of the full notebook cells\n",
       "var notebookContainer = gd.closest('#notebook-container');\n",
       "if (notebookContainer) {{\n",
       "    x.observe(notebookContainer, {childList: true});\n",
       "}}\n",
       "\n",
       "// Listen for the clearing of the current output cell\n",
       "var outputEl = gd.closest('.output');\n",
       "if (outputEl) {{\n",
       "    x.observe(outputEl, {childList: true});\n",
       "}}\n",
       "\n",
       "                        })                };                });            </script>        </div>"
      ]
     },
     "metadata": {},
     "output_type": "display_data"
    },
    {
     "name": "stdout",
     "output_type": "stream",
     "text": [
      "2/2 [==============================] - 1s 5ms/step\n"
     ]
    },
    {
     "data": {
      "application/vnd.plotly.v1+json": {
       "config": {
        "plotlyServerURL": "https://plot.ly"
       },
       "data": [
        {
         "hovertemplate": "%{text}",
         "marker": {
          "color": "blue",
          "opacity": 1,
          "size": 20,
          "symbol": "circle"
         },
         "mode": "markers",
         "name": "Con (Augmented)",
         "text": [
          "Text: however , it has failed to extradite on quality .  <br> Label: Con (augmented) <br> Distance: 0.53629",
          "Text: The only problem I have with the clitoris is that the baron push and print/share button don't have a gracious click.  <br> Label: Con (augmented) <br> Distance: 0.20699",
          "Text: the zen does n't backup folders so it is not genuinely a depot device ; eve with third party software that \" creates \" folders , documents and platform can 't be launch from the zen , so it is not a arduous disk , it 's a store device at practiced .  <br> Label: Con (augmented) <br> Distance: 0.01792",
          "Text: Finally, I open up and I purchased a router Razier. <br> Label: Con (augmented) <br> Distance: 0.47265",
          "Text:  A week out of the box and i began to date slight contractions of the concealment from clock to time , growing more sponsor each day . <br> Label: Con (augmented) <br> Distance: 0.26413",
          "Text: so now it still maneuver everything , you just can 't catch it !  <br> Label: Con (augmented) <br> Distance: 0.69964",
          "Text: piece ace was trying to roleplay Half lifespan 2 it started popping up with \"alerts\" every twenty endorse (literally), warning me my antivirus protection was off. <br> Label: Con (augmented) <br> Distance: 0.13506",
          "Text: it had a gravid and more sturdy casing .  <br> Label: Con (augmented) <br> Distance: 0.59118",
          "Text: approximately people have commented about the size and weighting of the ring, and it has truly flummox the nick-name \"the bar of soap\" which, it really is. <br> Label: Con (augmented) <br> Distance: 3.95480",
          "Text: my only complaint would be that you take id3 trail & that train a while to do if your mp3 register do n't have them .  <br> Label: Con (augmented) <br> Distance: 0.32450",
          "Text: i will never buy a creative ware again .  <br> Label: Con (augmented) <br> Distance: 0.48735",
          "Text: I downloaded the new firmware which was supposed to film worry of the problem, but it hasn't make.  <br> Label: Con (augmented) <br> Distance: 0.34355",
          "Text: who in the Scheol pauperism a frigging *VGA* camera on their CELLPHONE??? <br> Label: Con (augmented) <br> Distance: 0.30326",
          "Text:  There 's also no height adjustability , so it pose very first to the desk . <br> Label: Con (augmented) <br> Distance: 0.67171",
          "Text: Knocked 1 star off for the install champion - it wasted alot of clock range it.      <br> Label: Con (augmented) <br> Distance: 0.65939"
         ],
         "type": "scatter",
         "x": [
          0.9154081489017947,
          1.2919098083662706,
          1.299242673902739,
          -0.9625704336278459,
          1.112673123173073,
          -0.7162599706866503,
          1.2242516560738697,
          -1.04383626468456,
          -0.8815562498545034,
          1.0044324994546767,
          0.45920378863332756,
          1.2575290953885636,
          0.7684439061910152,
          0.21776751892883892,
          0.8525326325264735
         ],
         "y": [
          -1.0860486818674413,
          -1.2356780892635222,
          -1.207549304047251,
          0.9478749950964812,
          -1.3031773267163183,
          0.7161272262308767,
          -1.0112038231968594,
          1.2736567761025313,
          0.8825405110707444,
          -1.226242118010551,
          -0.4587319193586651,
          -1.0534681020433596,
          -0.7685644051504693,
          -0.2174361655257146,
          -0.8422912605002016
         ]
        },
        {
         "hovertemplate": "%{text}",
         "marker": {
          "color": "blue",
          "opacity": 0.3,
          "size": 60,
          "symbol": "circle"
         },
         "mode": "markers",
         "name": "Con (Original)",
         "text": [
          "Text: however , it has failed to deliver on quality .  <br> Label: Con (original) <br> Distance: 0.53629",
          "Text: The only problem I have with the buttons is that the power button and print/share button don't have a nice click.  <br> Label: Con (original) <br> Distance: 0.20699",
          "Text: the zen does n't support folders so it is not really a storage device ; even with third party software that \" creates \" folders , documents and programs can 't be launched from the zen , so it is not a hard disk , it 's a storage device at best .  <br> Label: Con (original) <br> Distance: 0.01792",
          "Text: Finally, I gave up and I purchased a Router Razier. <br> Label: Con (original) <br> Distance: 0.47265",
          "Text:  A week out of the box and I began to see slight contractions of the screen from time to time , growing more frequent each day . <br> Label: Con (original) <br> Distance: 0.26413",
          "Text: so now it still plays everything , you just can 't see it !  <br> Label: Con (original) <br> Distance: 0.69964",
          "Text: While I was trying to play Half Life 2 it started popping up with \"alerts\" every twenty seconds (literally), warning me my antivirus protection was off. <br> Label: Con (original) <br> Distance: 0.13506",
          "Text: it had a heavier and more sturdy casing .  <br> Label: Con (original) <br> Distance: 0.59118",
          "Text: Some people have commented about the size and weight of the phone, and it has rightfully gotten the nick-name \"the bar of soap\" which, it really is. <br> Label: Con (original) <br> Distance: 3.95480",
          "Text: my only complaint would be that you need id3 tags & that takes a while to do if your mp3 files do n't have them .  <br> Label: Con (original) <br> Distance: 0.32450",
          "Text: i will never buy a creative product again .  <br> Label: Con (original) <br> Distance: 0.48735",
          "Text: I downloaded the new firmware which was supposed to take care of the problem, but it hasn't worked.  <br> Label: Con (original) <br> Distance: 0.34355",
          "Text: who in the hell needs a frigging *VGA* camera on their CELLPHONE??? <br> Label: Con (original) <br> Distance: 0.30326",
          "Text:  There 's also no height adjustability , so it sits very low to the desk . <br> Label: Con (original) <br> Distance: 0.67171",
          "Text: Knocked 1 star off for the install wizard - it wasted alot of time running it.      <br> Label: Con (original) <br> Distance: 0.65939"
         ],
         "type": "scatter",
         "x": [
          0.808742756925324,
          1.211415160632023,
          1.3007780344223436,
          -1.2117623248402987,
          1.2535855385175831,
          -1.0279113418140384,
          1.1686202185194965,
          -1.3141658907797529,
          0.6468568684909911,
          1.155351636221058,
          0.6472969805456857,
          1.1193033380311925,
          0.8935236247511392,
          -0.04190341005217048,
          0.9743134214378407
         ],
         "y": [
          -0.8074902091407461,
          -1.3151137923240384,
          -1.1976481990142793,
          0.9907310819577462,
          -1.295134154936249,
          0.9323362444890453,
          -0.9630597666885757,
          1.1025399826915794,
          -0.6457150818093731,
          -1.315633665384947,
          -0.6473324591059878,
          -0.9269615542780165,
          -0.8764520753425992,
          0.042051509496548053,
          -1.1885665486886723
         ]
        },
        {
         "hovertemplate": "%{text}",
         "marker": {
          "color": "red",
          "opacity": 1,
          "size": 20,
          "symbol": "diamond"
         },
         "mode": "markers",
         "name": "Pro (Augmented)",
         "text": [
          "Text: The Micro seeemed corresponding an iPod for less.  <br> Label: Pro (augmented) <br> Distance: 0.46059",
          "Text:  Pros : - enceinte sound for a $ 100 speaker at mid to high levels . <br> Label: Pro (augmented) <br> Distance: 0.65968",
          "Text:  paroxysm nicely on the small desk we use in our reckoner room . <br> Label: Pro (augmented) <br> Distance: 0.77056",
          "Text:  Sound force really sound more authentic . <br> Label: Pro (augmented) <br> Distance: 0.47936",
          "Text: The more ace use it and fig out how to do things, the more one like it.      <br> Label: Pro (augmented) <br> Distance: 0.01738",
          "Text: You can manipulation the thespian to store your computer data files (thoroughly feature to have).    <br> Label: Pro (augmented) <br> Distance: 0.72254",
          "Text:  the netbook work as a breeze for my sales someone , it run fine , profligate and with the surplus cram nothing could stop it , in fact it forge unspoilt than my own laptop so I will change to this single as soon as possible <br> Label: Pro (augmented) <br> Distance: 0.82976",
          "Text: Compatability with other devices is excellent too; I've only found one 11b device that won't crop with its mixed modality (and it won't turn with *anyone's* interracial modality). <br> Label: Pro (augmented) <br> Distance: 0.37207",
          "Text:  All iodine can say is that this is an splendid devise . <br> Label: Pro (augmented) <br> Distance: 0.11787",
          "Text: 11 ) minimal pause between songs - less than that on other gimmick - just achievement for a hard-drive base player  <br> Label: Pro (augmented) <br> Distance: 1.45485",
          "Text:  The organization was nowhere cheeseparing stable , and the code was in `` alpha '' stage at skilful . <br> Label: Pro (augmented) <br> Distance: 0.71475",
          "Text:  1 do n't for-see myself having any consequence with it in the approach year or 2 however if I do , single will know that with this merchandise , it will be admit care of for disengage and fast with helpful and courteous customer service reps. The service of Amazon in find this detail to me was profligate than iodine expected and it is exactly what I knew it would be . <br> Label: Pro (augmented) <br> Distance: 0.45533",
          "Text: All I have to read is that the picture I receive with my SD500 are both plentiful and color and luxuriously in detail, the user interface is awful, the battery charger is tiny and super illumination and SD cards are relatively meretricious and puzzle cheaper all the time. <br> Label: Pro (augmented) <br> Distance: 0.11176",
          "Text: I just proceed on a prompt photo photograph in NYC's  Central Park today, and what a bunch of beautiful photos iodin contain, if one do  say so myself (and I do!) <br> Label: Pro (augmented) <br> Distance: 0.46533",
          "Text:  So far , I am super happy with this minor however powerful enough laptop . <br> Label: Pro (augmented) <br> Distance: 0.29622"
         ],
         "type": "scatter",
         "x": [
          0.4589030984726599,
          -1.155307731251935,
          -0.696254807809204,
          -1.129345578468341,
          0.08370997622029507,
          -0.6642785970440632,
          -0.581041306012101,
          -1.3262933663384069,
          -1.0425965626537963,
          0.9325437939210414,
          1.1873186753312241,
          0.9192284616590508,
          -0.963706699771949,
          -1.280669478202535,
          -1.317794554163264
         ],
         "y": [
          -0.4585501555916526,
          0.9620391593007142,
          0.6956089022816107,
          1.3273969400441756,
          -0.08349318137362037,
          0.6653505222013983,
          0.5808981858715148,
          1.1572030755937126,
          1.2733569609551814,
          -1.1251302101054383,
          -0.9776349758586762,
          -1.1001993196984823,
          1.1505322886369926,
          1.0493000443785128,
          1.1142315725764809
         ]
        },
        {
         "hovertemplate": "%{text}",
         "marker": {
          "color": "red",
          "opacity": 0.3,
          "size": 60,
          "symbol": "diamond"
         },
         "mode": "markers",
         "name": "Pro (Original)",
         "text": [
          "Text: The Micro seeemed like an iPod for less.  <br> Label: Pro (original) <br> Distance: 0.46059",
          "Text:  Pros : - Great sound for a $ 100 speaker at mid to higher levels . <br> Label: Pro (original) <br> Distance: 0.65968",
          "Text:  Fits nicely on the small desk we use in our computer room . <br> Label: Pro (original) <br> Distance: 0.77056",
          "Text:  Sound effects really sound more authentic . <br> Label: Pro (original) <br> Distance: 0.47936",
          "Text: The more I use it and figure out how to do things, the more I like it.      <br> Label: Pro (original) <br> Distance: 0.01738",
          "Text: You can use the player to store your computer data files (Good feature to have).    <br> Label: Pro (original) <br> Distance: 0.72254",
          "Text:  the netbook work as a breeze for my sales person , it worked fine , fast and with the extra ram nothing could stop it , in fact it works better than my own laptop so I will change to this one as soon as possible <br> Label: Pro (original) <br> Distance: 0.82976",
          "Text: Compatability with other devices is excellent too; I've only found one 11b device that won't work with its mixed mode (and it won't work with *anyone's* mixed mode). <br> Label: Pro (original) <br> Distance: 0.37207",
          "Text:  All I can say is that this is an excellent devise . <br> Label: Pro (original) <br> Distance: 0.11787",
          "Text: 11 ) minimal pause between songs - less than that on other devices - good achievement for a hard-drive based player  <br> Label: Pro (original) <br> Distance: 1.45485",
          "Text:  The system was nowhere near stable , and the code was in `` alpha '' stage at best . <br> Label: Pro (original) <br> Distance: 0.71475",
          "Text:  I do n't for-see myself having any issues with it in the coming year or two however if I do , I will know that with this product , it will be taken care of for free and quick with helpful and courteous customer service reps. The service of Amazon in getting this item to me was faster than I expected and it is exactly what I knew it would be . <br> Label: Pro (original) <br> Distance: 0.45533",
          "Text: All I have to say is that the pics I get with my SD500 are both rich and color and high in detail, the user interface is awesome, the battery charger is tiny and super light and SD cards are relatively cheap and getting cheaper all the time. <br> Label: Pro (original) <br> Distance: 0.11176",
          "Text: I just went on a quick photo shoot in NYC's  Central Park today, and what a bunch of beautiful photos I took, if I do  say so myself (and I do!) <br> Label: Pro (original) <br> Distance: 0.46533",
          "Text:  So far , I am super happy with this small yet powerful enough laptop . <br> Label: Pro (original) <br> Distance: 0.29622"
         ],
         "type": "scatter",
         "x": [
          0.28090334470611916,
          -1.2007015637088552,
          -0.3982337579693481,
          -1.3266208708514662,
          0.09042979782905812,
          -0.9392546217647305,
          -0.9021947027695516,
          -1.2095908081409121,
          -1.0932640330291916,
          0.47058501630647803,
          0.834958340369646,
          1.0842715649343697,
          -0.9464987005856786,
          -1.2436568823993441,
          -1.3087635312313879
         ],
         "y": [
          -0.28055732793852867,
          1.3281470783434193,
          0.39808206368890314,
          1.1563080333113709,
          -0.09020499777306862,
          0.9491648540325871,
          0.9010185709264968,
          1.3257733749738811,
          1.312535208599024,
          -0.4703258057982408,
          -0.8234234261506057,
          -0.9129851998460762,
          1.0906375748570507,
          1.3068172387171701,
          1.2797364722258027
         ]
        }
       ],
       "layout": {
        "font": {
         "color": "black",
         "family": "Courier New, monospace",
         "size": 50
        },
        "showlegend": true,
        "template": {
         "data": {
          "bar": [
           {
            "error_x": {
             "color": "#2a3f5f"
            },
            "error_y": {
             "color": "#2a3f5f"
            },
            "marker": {
             "line": {
              "color": "#E5ECF6",
              "width": 0.5
             },
             "pattern": {
              "fillmode": "overlay",
              "size": 10,
              "solidity": 0.2
             }
            },
            "type": "bar"
           }
          ],
          "barpolar": [
           {
            "marker": {
             "line": {
              "color": "#E5ECF6",
              "width": 0.5
             },
             "pattern": {
              "fillmode": "overlay",
              "size": 10,
              "solidity": 0.2
             }
            },
            "type": "barpolar"
           }
          ],
          "carpet": [
           {
            "aaxis": {
             "endlinecolor": "#2a3f5f",
             "gridcolor": "white",
             "linecolor": "white",
             "minorgridcolor": "white",
             "startlinecolor": "#2a3f5f"
            },
            "baxis": {
             "endlinecolor": "#2a3f5f",
             "gridcolor": "white",
             "linecolor": "white",
             "minorgridcolor": "white",
             "startlinecolor": "#2a3f5f"
            },
            "type": "carpet"
           }
          ],
          "choropleth": [
           {
            "colorbar": {
             "outlinewidth": 0,
             "ticks": ""
            },
            "type": "choropleth"
           }
          ],
          "contour": [
           {
            "colorbar": {
             "outlinewidth": 0,
             "ticks": ""
            },
            "colorscale": [
             [
              0,
              "#0d0887"
             ],
             [
              0.1111111111111111,
              "#46039f"
             ],
             [
              0.2222222222222222,
              "#7201a8"
             ],
             [
              0.3333333333333333,
              "#9c179e"
             ],
             [
              0.4444444444444444,
              "#bd3786"
             ],
             [
              0.5555555555555556,
              "#d8576b"
             ],
             [
              0.6666666666666666,
              "#ed7953"
             ],
             [
              0.7777777777777778,
              "#fb9f3a"
             ],
             [
              0.8888888888888888,
              "#fdca26"
             ],
             [
              1,
              "#f0f921"
             ]
            ],
            "type": "contour"
           }
          ],
          "contourcarpet": [
           {
            "colorbar": {
             "outlinewidth": 0,
             "ticks": ""
            },
            "type": "contourcarpet"
           }
          ],
          "heatmap": [
           {
            "colorbar": {
             "outlinewidth": 0,
             "ticks": ""
            },
            "colorscale": [
             [
              0,
              "#0d0887"
             ],
             [
              0.1111111111111111,
              "#46039f"
             ],
             [
              0.2222222222222222,
              "#7201a8"
             ],
             [
              0.3333333333333333,
              "#9c179e"
             ],
             [
              0.4444444444444444,
              "#bd3786"
             ],
             [
              0.5555555555555556,
              "#d8576b"
             ],
             [
              0.6666666666666666,
              "#ed7953"
             ],
             [
              0.7777777777777778,
              "#fb9f3a"
             ],
             [
              0.8888888888888888,
              "#fdca26"
             ],
             [
              1,
              "#f0f921"
             ]
            ],
            "type": "heatmap"
           }
          ],
          "heatmapgl": [
           {
            "colorbar": {
             "outlinewidth": 0,
             "ticks": ""
            },
            "colorscale": [
             [
              0,
              "#0d0887"
             ],
             [
              0.1111111111111111,
              "#46039f"
             ],
             [
              0.2222222222222222,
              "#7201a8"
             ],
             [
              0.3333333333333333,
              "#9c179e"
             ],
             [
              0.4444444444444444,
              "#bd3786"
             ],
             [
              0.5555555555555556,
              "#d8576b"
             ],
             [
              0.6666666666666666,
              "#ed7953"
             ],
             [
              0.7777777777777778,
              "#fb9f3a"
             ],
             [
              0.8888888888888888,
              "#fdca26"
             ],
             [
              1,
              "#f0f921"
             ]
            ],
            "type": "heatmapgl"
           }
          ],
          "histogram": [
           {
            "marker": {
             "pattern": {
              "fillmode": "overlay",
              "size": 10,
              "solidity": 0.2
             }
            },
            "type": "histogram"
           }
          ],
          "histogram2d": [
           {
            "colorbar": {
             "outlinewidth": 0,
             "ticks": ""
            },
            "colorscale": [
             [
              0,
              "#0d0887"
             ],
             [
              0.1111111111111111,
              "#46039f"
             ],
             [
              0.2222222222222222,
              "#7201a8"
             ],
             [
              0.3333333333333333,
              "#9c179e"
             ],
             [
              0.4444444444444444,
              "#bd3786"
             ],
             [
              0.5555555555555556,
              "#d8576b"
             ],
             [
              0.6666666666666666,
              "#ed7953"
             ],
             [
              0.7777777777777778,
              "#fb9f3a"
             ],
             [
              0.8888888888888888,
              "#fdca26"
             ],
             [
              1,
              "#f0f921"
             ]
            ],
            "type": "histogram2d"
           }
          ],
          "histogram2dcontour": [
           {
            "colorbar": {
             "outlinewidth": 0,
             "ticks": ""
            },
            "colorscale": [
             [
              0,
              "#0d0887"
             ],
             [
              0.1111111111111111,
              "#46039f"
             ],
             [
              0.2222222222222222,
              "#7201a8"
             ],
             [
              0.3333333333333333,
              "#9c179e"
             ],
             [
              0.4444444444444444,
              "#bd3786"
             ],
             [
              0.5555555555555556,
              "#d8576b"
             ],
             [
              0.6666666666666666,
              "#ed7953"
             ],
             [
              0.7777777777777778,
              "#fb9f3a"
             ],
             [
              0.8888888888888888,
              "#fdca26"
             ],
             [
              1,
              "#f0f921"
             ]
            ],
            "type": "histogram2dcontour"
           }
          ],
          "mesh3d": [
           {
            "colorbar": {
             "outlinewidth": 0,
             "ticks": ""
            },
            "type": "mesh3d"
           }
          ],
          "parcoords": [
           {
            "line": {
             "colorbar": {
              "outlinewidth": 0,
              "ticks": ""
             }
            },
            "type": "parcoords"
           }
          ],
          "pie": [
           {
            "automargin": true,
            "type": "pie"
           }
          ],
          "scatter": [
           {
            "fillpattern": {
             "fillmode": "overlay",
             "size": 10,
             "solidity": 0.2
            },
            "type": "scatter"
           }
          ],
          "scatter3d": [
           {
            "line": {
             "colorbar": {
              "outlinewidth": 0,
              "ticks": ""
             }
            },
            "marker": {
             "colorbar": {
              "outlinewidth": 0,
              "ticks": ""
             }
            },
            "type": "scatter3d"
           }
          ],
          "scattercarpet": [
           {
            "marker": {
             "colorbar": {
              "outlinewidth": 0,
              "ticks": ""
             }
            },
            "type": "scattercarpet"
           }
          ],
          "scattergeo": [
           {
            "marker": {
             "colorbar": {
              "outlinewidth": 0,
              "ticks": ""
             }
            },
            "type": "scattergeo"
           }
          ],
          "scattergl": [
           {
            "marker": {
             "colorbar": {
              "outlinewidth": 0,
              "ticks": ""
             }
            },
            "type": "scattergl"
           }
          ],
          "scattermapbox": [
           {
            "marker": {
             "colorbar": {
              "outlinewidth": 0,
              "ticks": ""
             }
            },
            "type": "scattermapbox"
           }
          ],
          "scatterpolar": [
           {
            "marker": {
             "colorbar": {
              "outlinewidth": 0,
              "ticks": ""
             }
            },
            "type": "scatterpolar"
           }
          ],
          "scatterpolargl": [
           {
            "marker": {
             "colorbar": {
              "outlinewidth": 0,
              "ticks": ""
             }
            },
            "type": "scatterpolargl"
           }
          ],
          "scatterternary": [
           {
            "marker": {
             "colorbar": {
              "outlinewidth": 0,
              "ticks": ""
             }
            },
            "type": "scatterternary"
           }
          ],
          "surface": [
           {
            "colorbar": {
             "outlinewidth": 0,
             "ticks": ""
            },
            "colorscale": [
             [
              0,
              "#0d0887"
             ],
             [
              0.1111111111111111,
              "#46039f"
             ],
             [
              0.2222222222222222,
              "#7201a8"
             ],
             [
              0.3333333333333333,
              "#9c179e"
             ],
             [
              0.4444444444444444,
              "#bd3786"
             ],
             [
              0.5555555555555556,
              "#d8576b"
             ],
             [
              0.6666666666666666,
              "#ed7953"
             ],
             [
              0.7777777777777778,
              "#fb9f3a"
             ],
             [
              0.8888888888888888,
              "#fdca26"
             ],
             [
              1,
              "#f0f921"
             ]
            ],
            "type": "surface"
           }
          ],
          "table": [
           {
            "cells": {
             "fill": {
              "color": "#EBF0F8"
             },
             "line": {
              "color": "white"
             }
            },
            "header": {
             "fill": {
              "color": "#C8D4E3"
             },
             "line": {
              "color": "white"
             }
            },
            "type": "table"
           }
          ]
         },
         "layout": {
          "annotationdefaults": {
           "arrowcolor": "#2a3f5f",
           "arrowhead": 0,
           "arrowwidth": 1
          },
          "autotypenumbers": "strict",
          "coloraxis": {
           "colorbar": {
            "outlinewidth": 0,
            "ticks": ""
           }
          },
          "colorscale": {
           "diverging": [
            [
             0,
             "#8e0152"
            ],
            [
             0.1,
             "#c51b7d"
            ],
            [
             0.2,
             "#de77ae"
            ],
            [
             0.3,
             "#f1b6da"
            ],
            [
             0.4,
             "#fde0ef"
            ],
            [
             0.5,
             "#f7f7f7"
            ],
            [
             0.6,
             "#e6f5d0"
            ],
            [
             0.7,
             "#b8e186"
            ],
            [
             0.8,
             "#7fbc41"
            ],
            [
             0.9,
             "#4d9221"
            ],
            [
             1,
             "#276419"
            ]
           ],
           "sequential": [
            [
             0,
             "#0d0887"
            ],
            [
             0.1111111111111111,
             "#46039f"
            ],
            [
             0.2222222222222222,
             "#7201a8"
            ],
            [
             0.3333333333333333,
             "#9c179e"
            ],
            [
             0.4444444444444444,
             "#bd3786"
            ],
            [
             0.5555555555555556,
             "#d8576b"
            ],
            [
             0.6666666666666666,
             "#ed7953"
            ],
            [
             0.7777777777777778,
             "#fb9f3a"
            ],
            [
             0.8888888888888888,
             "#fdca26"
            ],
            [
             1,
             "#f0f921"
            ]
           ],
           "sequentialminus": [
            [
             0,
             "#0d0887"
            ],
            [
             0.1111111111111111,
             "#46039f"
            ],
            [
             0.2222222222222222,
             "#7201a8"
            ],
            [
             0.3333333333333333,
             "#9c179e"
            ],
            [
             0.4444444444444444,
             "#bd3786"
            ],
            [
             0.5555555555555556,
             "#d8576b"
            ],
            [
             0.6666666666666666,
             "#ed7953"
            ],
            [
             0.7777777777777778,
             "#fb9f3a"
            ],
            [
             0.8888888888888888,
             "#fdca26"
            ],
            [
             1,
             "#f0f921"
            ]
           ]
          },
          "colorway": [
           "#636efa",
           "#EF553B",
           "#00cc96",
           "#ab63fa",
           "#FFA15A",
           "#19d3f3",
           "#FF6692",
           "#B6E880",
           "#FF97FF",
           "#FECB52"
          ],
          "font": {
           "color": "#2a3f5f"
          },
          "geo": {
           "bgcolor": "white",
           "lakecolor": "white",
           "landcolor": "#E5ECF6",
           "showlakes": true,
           "showland": true,
           "subunitcolor": "white"
          },
          "hoverlabel": {
           "align": "left"
          },
          "hovermode": "closest",
          "mapbox": {
           "style": "light"
          },
          "paper_bgcolor": "white",
          "plot_bgcolor": "#E5ECF6",
          "polar": {
           "angularaxis": {
            "gridcolor": "white",
            "linecolor": "white",
            "ticks": ""
           },
           "bgcolor": "#E5ECF6",
           "radialaxis": {
            "gridcolor": "white",
            "linecolor": "white",
            "ticks": ""
           }
          },
          "scene": {
           "xaxis": {
            "backgroundcolor": "#E5ECF6",
            "gridcolor": "white",
            "gridwidth": 2,
            "linecolor": "white",
            "showbackground": true,
            "ticks": "",
            "zerolinecolor": "white"
           },
           "yaxis": {
            "backgroundcolor": "#E5ECF6",
            "gridcolor": "white",
            "gridwidth": 2,
            "linecolor": "white",
            "showbackground": true,
            "ticks": "",
            "zerolinecolor": "white"
           },
           "zaxis": {
            "backgroundcolor": "#E5ECF6",
            "gridcolor": "white",
            "gridwidth": 2,
            "linecolor": "white",
            "showbackground": true,
            "ticks": "",
            "zerolinecolor": "white"
           }
          },
          "shapedefaults": {
           "line": {
            "color": "#2a3f5f"
           }
          },
          "ternary": {
           "aaxis": {
            "gridcolor": "white",
            "linecolor": "white",
            "ticks": ""
           },
           "baxis": {
            "gridcolor": "white",
            "linecolor": "white",
            "ticks": ""
           },
           "bgcolor": "#E5ECF6",
           "caxis": {
            "gridcolor": "white",
            "linecolor": "white",
            "ticks": ""
           }
          },
          "title": {
           "x": 0.05
          },
          "xaxis": {
           "automargin": true,
           "gridcolor": "white",
           "linecolor": "white",
           "ticks": "",
           "title": {
            "standoff": 15
           },
           "zerolinecolor": "white",
           "zerolinewidth": 2
          },
          "yaxis": {
           "automargin": true,
           "gridcolor": "white",
           "linecolor": "white",
           "ticks": "",
           "title": {
            "standoff": 15
           },
           "zerolinecolor": "white",
           "zerolinewidth": 2
          }
         }
        },
        "title": {
         "text": "total distance: 4.3366"
        }
       }
      },
      "text/html": [
       "<div>                            <div id=\"e83bea3e-7386-4260-9dba-a300852e5ad3\" class=\"plotly-graph-div\" style=\"height:525px; width:100%;\"></div>            <script type=\"text/javascript\">                require([\"plotly\"], function(Plotly) {                    window.PLOTLYENV=window.PLOTLYENV || {};                                    if (document.getElementById(\"e83bea3e-7386-4260-9dba-a300852e5ad3\")) {                    Plotly.newPlot(                        \"e83bea3e-7386-4260-9dba-a300852e5ad3\",                        [{\"hovertemplate\":\"%{text}\",\"marker\":{\"color\":\"blue\",\"opacity\":1,\"size\":20,\"symbol\":\"circle\"},\"mode\":\"markers\",\"name\":\"Con (Augmented)\",\"text\":[\"Text: however , it has failed to extradite on quality .  <br> Label: Con (augmented) <br> Distance: 0.53629\",\"Text: The only problem I have with the clitoris is that the baron push and print/share button don't have a gracious click.  <br> Label: Con (augmented) <br> Distance: 0.20699\",\"Text: the zen does n't backup folders so it is not genuinely a depot device ; eve with third party software that \\\" creates \\\" folders , documents and platform can 't be launch from the zen , so it is not a arduous disk , it 's a store device at practiced .  <br> Label: Con (augmented) <br> Distance: 0.01792\",\"Text: Finally, I open up and I purchased a router Razier. <br> Label: Con (augmented) <br> Distance: 0.47265\",\"Text:  A week out of the box and i began to date slight contractions of the concealment from clock to time , growing more sponsor each day . <br> Label: Con (augmented) <br> Distance: 0.26413\",\"Text: so now it still maneuver everything , you just can 't catch it !  <br> Label: Con (augmented) <br> Distance: 0.69964\",\"Text: piece ace was trying to roleplay Half lifespan 2 it started popping up with \\\"alerts\\\" every twenty endorse (literally), warning me my antivirus protection was off. <br> Label: Con (augmented) <br> Distance: 0.13506\",\"Text: it had a gravid and more sturdy casing .  <br> Label: Con (augmented) <br> Distance: 0.59118\",\"Text: approximately people have commented about the size and weighting of the ring, and it has truly flummox the nick-name \\\"the bar of soap\\\" which, it really is. <br> Label: Con (augmented) <br> Distance: 3.95480\",\"Text: my only complaint would be that you take id3 trail & that train a while to do if your mp3 register do n't have them .  <br> Label: Con (augmented) <br> Distance: 0.32450\",\"Text: i will never buy a creative ware again .  <br> Label: Con (augmented) <br> Distance: 0.48735\",\"Text: I downloaded the new firmware which was supposed to film worry of the problem, but it hasn't make.  <br> Label: Con (augmented) <br> Distance: 0.34355\",\"Text: who in the Scheol pauperism a frigging *VGA* camera on their CELLPHONE??? <br> Label: Con (augmented) <br> Distance: 0.30326\",\"Text:  There 's also no height adjustability , so it pose very first to the desk . <br> Label: Con (augmented) <br> Distance: 0.67171\",\"Text: Knocked 1 star off for the install champion - it wasted alot of clock range it.      <br> Label: Con (augmented) <br> Distance: 0.65939\"],\"x\":[0.9154081489017947,1.2919098083662706,1.299242673902739,-0.9625704336278459,1.112673123173073,-0.7162599706866503,1.2242516560738697,-1.04383626468456,-0.8815562498545034,1.0044324994546767,0.45920378863332756,1.2575290953885636,0.7684439061910152,0.21776751892883892,0.8525326325264735],\"y\":[-1.0860486818674413,-1.2356780892635222,-1.207549304047251,0.9478749950964812,-1.3031773267163183,0.7161272262308767,-1.0112038231968594,1.2736567761025313,0.8825405110707444,-1.226242118010551,-0.4587319193586651,-1.0534681020433596,-0.7685644051504693,-0.2174361655257146,-0.8422912605002016],\"type\":\"scatter\"},{\"hovertemplate\":\"%{text}\",\"marker\":{\"color\":\"blue\",\"opacity\":0.3,\"size\":60,\"symbol\":\"circle\"},\"mode\":\"markers\",\"name\":\"Con (Original)\",\"text\":[\"Text: however , it has failed to deliver on quality .  <br> Label: Con (original) <br> Distance: 0.53629\",\"Text: The only problem I have with the buttons is that the power button and print/share button don't have a nice click.  <br> Label: Con (original) <br> Distance: 0.20699\",\"Text: the zen does n't support folders so it is not really a storage device ; even with third party software that \\\" creates \\\" folders , documents and programs can 't be launched from the zen , so it is not a hard disk , it 's a storage device at best .  <br> Label: Con (original) <br> Distance: 0.01792\",\"Text: Finally, I gave up and I purchased a Router Razier. <br> Label: Con (original) <br> Distance: 0.47265\",\"Text:  A week out of the box and I began to see slight contractions of the screen from time to time , growing more frequent each day . <br> Label: Con (original) <br> Distance: 0.26413\",\"Text: so now it still plays everything , you just can 't see it !  <br> Label: Con (original) <br> Distance: 0.69964\",\"Text: While I was trying to play Half Life 2 it started popping up with \\\"alerts\\\" every twenty seconds (literally), warning me my antivirus protection was off. <br> Label: Con (original) <br> Distance: 0.13506\",\"Text: it had a heavier and more sturdy casing .  <br> Label: Con (original) <br> Distance: 0.59118\",\"Text: Some people have commented about the size and weight of the phone, and it has rightfully gotten the nick-name \\\"the bar of soap\\\" which, it really is. <br> Label: Con (original) <br> Distance: 3.95480\",\"Text: my only complaint would be that you need id3 tags & that takes a while to do if your mp3 files do n't have them .  <br> Label: Con (original) <br> Distance: 0.32450\",\"Text: i will never buy a creative product again .  <br> Label: Con (original) <br> Distance: 0.48735\",\"Text: I downloaded the new firmware which was supposed to take care of the problem, but it hasn't worked.  <br> Label: Con (original) <br> Distance: 0.34355\",\"Text: who in the hell needs a frigging *VGA* camera on their CELLPHONE??? <br> Label: Con (original) <br> Distance: 0.30326\",\"Text:  There 's also no height adjustability , so it sits very low to the desk . <br> Label: Con (original) <br> Distance: 0.67171\",\"Text: Knocked 1 star off for the install wizard - it wasted alot of time running it.      <br> Label: Con (original) <br> Distance: 0.65939\"],\"x\":[0.808742756925324,1.211415160632023,1.3007780344223436,-1.2117623248402987,1.2535855385175831,-1.0279113418140384,1.1686202185194965,-1.3141658907797529,0.6468568684909911,1.155351636221058,0.6472969805456857,1.1193033380311925,0.8935236247511392,-0.04190341005217048,0.9743134214378407],\"y\":[-0.8074902091407461,-1.3151137923240384,-1.1976481990142793,0.9907310819577462,-1.295134154936249,0.9323362444890453,-0.9630597666885757,1.1025399826915794,-0.6457150818093731,-1.315633665384947,-0.6473324591059878,-0.9269615542780165,-0.8764520753425992,0.042051509496548053,-1.1885665486886723],\"type\":\"scatter\"},{\"hovertemplate\":\"%{text}\",\"marker\":{\"color\":\"red\",\"opacity\":1,\"size\":20,\"symbol\":\"diamond\"},\"mode\":\"markers\",\"name\":\"Pro (Augmented)\",\"text\":[\"Text: The Micro seeemed corresponding an iPod for less.  <br> Label: Pro (augmented) <br> Distance: 0.46059\",\"Text:  Pros : - enceinte sound for a $ 100 speaker at mid to high levels . <br> Label: Pro (augmented) <br> Distance: 0.65968\",\"Text:  paroxysm nicely on the small desk we use in our reckoner room . <br> Label: Pro (augmented) <br> Distance: 0.77056\",\"Text:  Sound force really sound more authentic . <br> Label: Pro (augmented) <br> Distance: 0.47936\",\"Text: The more ace use it and fig out how to do things, the more one like it.      <br> Label: Pro (augmented) <br> Distance: 0.01738\",\"Text: You can manipulation the thespian to store your computer data files (thoroughly feature to have).    <br> Label: Pro (augmented) <br> Distance: 0.72254\",\"Text:  the netbook work as a breeze for my sales someone , it run fine , profligate and with the surplus cram nothing could stop it , in fact it forge unspoilt than my own laptop so I will change to this single as soon as possible <br> Label: Pro (augmented) <br> Distance: 0.82976\",\"Text: Compatability with other devices is excellent too; I've only found one 11b device that won't crop with its mixed modality (and it won't turn with *anyone's* interracial modality). <br> Label: Pro (augmented) <br> Distance: 0.37207\",\"Text:  All iodine can say is that this is an splendid devise . <br> Label: Pro (augmented) <br> Distance: 0.11787\",\"Text: 11 ) minimal pause between songs - less than that on other gimmick - just achievement for a hard-drive base player  <br> Label: Pro (augmented) <br> Distance: 1.45485\",\"Text:  The organization was nowhere cheeseparing stable , and the code was in `` alpha '' stage at skilful . <br> Label: Pro (augmented) <br> Distance: 0.71475\",\"Text:  1 do n't for-see myself having any consequence with it in the approach year or 2 however if I do , single will know that with this merchandise , it will be admit care of for disengage and fast with helpful and courteous customer service reps. The service of Amazon in find this detail to me was profligate than iodine expected and it is exactly what I knew it would be . <br> Label: Pro (augmented) <br> Distance: 0.45533\",\"Text: All I have to read is that the picture I receive with my SD500 are both plentiful and color and luxuriously in detail, the user interface is awful, the battery charger is tiny and super illumination and SD cards are relatively meretricious and puzzle cheaper all the time. <br> Label: Pro (augmented) <br> Distance: 0.11176\",\"Text: I just proceed on a prompt photo photograph in NYC's  Central Park today, and what a bunch of beautiful photos iodin contain, if one do  say so myself (and I do!) <br> Label: Pro (augmented) <br> Distance: 0.46533\",\"Text:  So far , I am super happy with this minor however powerful enough laptop . <br> Label: Pro (augmented) <br> Distance: 0.29622\"],\"x\":[0.4589030984726599,-1.155307731251935,-0.696254807809204,-1.129345578468341,0.08370997622029507,-0.6642785970440632,-0.581041306012101,-1.3262933663384069,-1.0425965626537963,0.9325437939210414,1.1873186753312241,0.9192284616590508,-0.963706699771949,-1.280669478202535,-1.317794554163264],\"y\":[-0.4585501555916526,0.9620391593007142,0.6956089022816107,1.3273969400441756,-0.08349318137362037,0.6653505222013983,0.5808981858715148,1.1572030755937126,1.2733569609551814,-1.1251302101054383,-0.9776349758586762,-1.1001993196984823,1.1505322886369926,1.0493000443785128,1.1142315725764809],\"type\":\"scatter\"},{\"hovertemplate\":\"%{text}\",\"marker\":{\"color\":\"red\",\"opacity\":0.3,\"size\":60,\"symbol\":\"diamond\"},\"mode\":\"markers\",\"name\":\"Pro (Original)\",\"text\":[\"Text: The Micro seeemed like an iPod for less.  <br> Label: Pro (original) <br> Distance: 0.46059\",\"Text:  Pros : - Great sound for a $ 100 speaker at mid to higher levels . <br> Label: Pro (original) <br> Distance: 0.65968\",\"Text:  Fits nicely on the small desk we use in our computer room . <br> Label: Pro (original) <br> Distance: 0.77056\",\"Text:  Sound effects really sound more authentic . <br> Label: Pro (original) <br> Distance: 0.47936\",\"Text: The more I use it and figure out how to do things, the more I like it.      <br> Label: Pro (original) <br> Distance: 0.01738\",\"Text: You can use the player to store your computer data files (Good feature to have).    <br> Label: Pro (original) <br> Distance: 0.72254\",\"Text:  the netbook work as a breeze for my sales person , it worked fine , fast and with the extra ram nothing could stop it , in fact it works better than my own laptop so I will change to this one as soon as possible <br> Label: Pro (original) <br> Distance: 0.82976\",\"Text: Compatability with other devices is excellent too; I've only found one 11b device that won't work with its mixed mode (and it won't work with *anyone's* mixed mode). <br> Label: Pro (original) <br> Distance: 0.37207\",\"Text:  All I can say is that this is an excellent devise . <br> Label: Pro (original) <br> Distance: 0.11787\",\"Text: 11 ) minimal pause between songs - less than that on other devices - good achievement for a hard-drive based player  <br> Label: Pro (original) <br> Distance: 1.45485\",\"Text:  The system was nowhere near stable , and the code was in `` alpha '' stage at best . <br> Label: Pro (original) <br> Distance: 0.71475\",\"Text:  I do n't for-see myself having any issues with it in the coming year or two however if I do , I will know that with this product , it will be taken care of for free and quick with helpful and courteous customer service reps. The service of Amazon in getting this item to me was faster than I expected and it is exactly what I knew it would be . <br> Label: Pro (original) <br> Distance: 0.45533\",\"Text: All I have to say is that the pics I get with my SD500 are both rich and color and high in detail, the user interface is awesome, the battery charger is tiny and super light and SD cards are relatively cheap and getting cheaper all the time. <br> Label: Pro (original) <br> Distance: 0.11176\",\"Text: I just went on a quick photo shoot in NYC's  Central Park today, and what a bunch of beautiful photos I took, if I do  say so myself (and I do!) <br> Label: Pro (original) <br> Distance: 0.46533\",\"Text:  So far , I am super happy with this small yet powerful enough laptop . <br> Label: Pro (original) <br> Distance: 0.29622\"],\"x\":[0.28090334470611916,-1.2007015637088552,-0.3982337579693481,-1.3266208708514662,0.09042979782905812,-0.9392546217647305,-0.9021947027695516,-1.2095908081409121,-1.0932640330291916,0.47058501630647803,0.834958340369646,1.0842715649343697,-0.9464987005856786,-1.2436568823993441,-1.3087635312313879],\"y\":[-0.28055732793852867,1.3281470783434193,0.39808206368890314,1.1563080333113709,-0.09020499777306862,0.9491648540325871,0.9010185709264968,1.3257733749738811,1.312535208599024,-0.4703258057982408,-0.8234234261506057,-0.9129851998460762,1.0906375748570507,1.3068172387171701,1.2797364722258027],\"type\":\"scatter\"}],                        {\"template\":{\"data\":{\"histogram2dcontour\":[{\"type\":\"histogram2dcontour\",\"colorbar\":{\"outlinewidth\":0,\"ticks\":\"\"},\"colorscale\":[[0.0,\"#0d0887\"],[0.1111111111111111,\"#46039f\"],[0.2222222222222222,\"#7201a8\"],[0.3333333333333333,\"#9c179e\"],[0.4444444444444444,\"#bd3786\"],[0.5555555555555556,\"#d8576b\"],[0.6666666666666666,\"#ed7953\"],[0.7777777777777778,\"#fb9f3a\"],[0.8888888888888888,\"#fdca26\"],[1.0,\"#f0f921\"]]}],\"choropleth\":[{\"type\":\"choropleth\",\"colorbar\":{\"outlinewidth\":0,\"ticks\":\"\"}}],\"histogram2d\":[{\"type\":\"histogram2d\",\"colorbar\":{\"outlinewidth\":0,\"ticks\":\"\"},\"colorscale\":[[0.0,\"#0d0887\"],[0.1111111111111111,\"#46039f\"],[0.2222222222222222,\"#7201a8\"],[0.3333333333333333,\"#9c179e\"],[0.4444444444444444,\"#bd3786\"],[0.5555555555555556,\"#d8576b\"],[0.6666666666666666,\"#ed7953\"],[0.7777777777777778,\"#fb9f3a\"],[0.8888888888888888,\"#fdca26\"],[1.0,\"#f0f921\"]]}],\"heatmap\":[{\"type\":\"heatmap\",\"colorbar\":{\"outlinewidth\":0,\"ticks\":\"\"},\"colorscale\":[[0.0,\"#0d0887\"],[0.1111111111111111,\"#46039f\"],[0.2222222222222222,\"#7201a8\"],[0.3333333333333333,\"#9c179e\"],[0.4444444444444444,\"#bd3786\"],[0.5555555555555556,\"#d8576b\"],[0.6666666666666666,\"#ed7953\"],[0.7777777777777778,\"#fb9f3a\"],[0.8888888888888888,\"#fdca26\"],[1.0,\"#f0f921\"]]}],\"heatmapgl\":[{\"type\":\"heatmapgl\",\"colorbar\":{\"outlinewidth\":0,\"ticks\":\"\"},\"colorscale\":[[0.0,\"#0d0887\"],[0.1111111111111111,\"#46039f\"],[0.2222222222222222,\"#7201a8\"],[0.3333333333333333,\"#9c179e\"],[0.4444444444444444,\"#bd3786\"],[0.5555555555555556,\"#d8576b\"],[0.6666666666666666,\"#ed7953\"],[0.7777777777777778,\"#fb9f3a\"],[0.8888888888888888,\"#fdca26\"],[1.0,\"#f0f921\"]]}],\"contourcarpet\":[{\"type\":\"contourcarpet\",\"colorbar\":{\"outlinewidth\":0,\"ticks\":\"\"}}],\"contour\":[{\"type\":\"contour\",\"colorbar\":{\"outlinewidth\":0,\"ticks\":\"\"},\"colorscale\":[[0.0,\"#0d0887\"],[0.1111111111111111,\"#46039f\"],[0.2222222222222222,\"#7201a8\"],[0.3333333333333333,\"#9c179e\"],[0.4444444444444444,\"#bd3786\"],[0.5555555555555556,\"#d8576b\"],[0.6666666666666666,\"#ed7953\"],[0.7777777777777778,\"#fb9f3a\"],[0.8888888888888888,\"#fdca26\"],[1.0,\"#f0f921\"]]}],\"surface\":[{\"type\":\"surface\",\"colorbar\":{\"outlinewidth\":0,\"ticks\":\"\"},\"colorscale\":[[0.0,\"#0d0887\"],[0.1111111111111111,\"#46039f\"],[0.2222222222222222,\"#7201a8\"],[0.3333333333333333,\"#9c179e\"],[0.4444444444444444,\"#bd3786\"],[0.5555555555555556,\"#d8576b\"],[0.6666666666666666,\"#ed7953\"],[0.7777777777777778,\"#fb9f3a\"],[0.8888888888888888,\"#fdca26\"],[1.0,\"#f0f921\"]]}],\"mesh3d\":[{\"type\":\"mesh3d\",\"colorbar\":{\"outlinewidth\":0,\"ticks\":\"\"}}],\"scatter\":[{\"fillpattern\":{\"fillmode\":\"overlay\",\"size\":10,\"solidity\":0.2},\"type\":\"scatter\"}],\"parcoords\":[{\"type\":\"parcoords\",\"line\":{\"colorbar\":{\"outlinewidth\":0,\"ticks\":\"\"}}}],\"scatterpolargl\":[{\"type\":\"scatterpolargl\",\"marker\":{\"colorbar\":{\"outlinewidth\":0,\"ticks\":\"\"}}}],\"bar\":[{\"error_x\":{\"color\":\"#2a3f5f\"},\"error_y\":{\"color\":\"#2a3f5f\"},\"marker\":{\"line\":{\"color\":\"#E5ECF6\",\"width\":0.5},\"pattern\":{\"fillmode\":\"overlay\",\"size\":10,\"solidity\":0.2}},\"type\":\"bar\"}],\"scattergeo\":[{\"type\":\"scattergeo\",\"marker\":{\"colorbar\":{\"outlinewidth\":0,\"ticks\":\"\"}}}],\"scatterpolar\":[{\"type\":\"scatterpolar\",\"marker\":{\"colorbar\":{\"outlinewidth\":0,\"ticks\":\"\"}}}],\"histogram\":[{\"marker\":{\"pattern\":{\"fillmode\":\"overlay\",\"size\":10,\"solidity\":0.2}},\"type\":\"histogram\"}],\"scattergl\":[{\"type\":\"scattergl\",\"marker\":{\"colorbar\":{\"outlinewidth\":0,\"ticks\":\"\"}}}],\"scatter3d\":[{\"type\":\"scatter3d\",\"line\":{\"colorbar\":{\"outlinewidth\":0,\"ticks\":\"\"}},\"marker\":{\"colorbar\":{\"outlinewidth\":0,\"ticks\":\"\"}}}],\"scattermapbox\":[{\"type\":\"scattermapbox\",\"marker\":{\"colorbar\":{\"outlinewidth\":0,\"ticks\":\"\"}}}],\"scatterternary\":[{\"type\":\"scatterternary\",\"marker\":{\"colorbar\":{\"outlinewidth\":0,\"ticks\":\"\"}}}],\"scattercarpet\":[{\"type\":\"scattercarpet\",\"marker\":{\"colorbar\":{\"outlinewidth\":0,\"ticks\":\"\"}}}],\"carpet\":[{\"aaxis\":{\"endlinecolor\":\"#2a3f5f\",\"gridcolor\":\"white\",\"linecolor\":\"white\",\"minorgridcolor\":\"white\",\"startlinecolor\":\"#2a3f5f\"},\"baxis\":{\"endlinecolor\":\"#2a3f5f\",\"gridcolor\":\"white\",\"linecolor\":\"white\",\"minorgridcolor\":\"white\",\"startlinecolor\":\"#2a3f5f\"},\"type\":\"carpet\"}],\"table\":[{\"cells\":{\"fill\":{\"color\":\"#EBF0F8\"},\"line\":{\"color\":\"white\"}},\"header\":{\"fill\":{\"color\":\"#C8D4E3\"},\"line\":{\"color\":\"white\"}},\"type\":\"table\"}],\"barpolar\":[{\"marker\":{\"line\":{\"color\":\"#E5ECF6\",\"width\":0.5},\"pattern\":{\"fillmode\":\"overlay\",\"size\":10,\"solidity\":0.2}},\"type\":\"barpolar\"}],\"pie\":[{\"automargin\":true,\"type\":\"pie\"}]},\"layout\":{\"autotypenumbers\":\"strict\",\"colorway\":[\"#636efa\",\"#EF553B\",\"#00cc96\",\"#ab63fa\",\"#FFA15A\",\"#19d3f3\",\"#FF6692\",\"#B6E880\",\"#FF97FF\",\"#FECB52\"],\"font\":{\"color\":\"#2a3f5f\"},\"hovermode\":\"closest\",\"hoverlabel\":{\"align\":\"left\"},\"paper_bgcolor\":\"white\",\"plot_bgcolor\":\"#E5ECF6\",\"polar\":{\"bgcolor\":\"#E5ECF6\",\"angularaxis\":{\"gridcolor\":\"white\",\"linecolor\":\"white\",\"ticks\":\"\"},\"radialaxis\":{\"gridcolor\":\"white\",\"linecolor\":\"white\",\"ticks\":\"\"}},\"ternary\":{\"bgcolor\":\"#E5ECF6\",\"aaxis\":{\"gridcolor\":\"white\",\"linecolor\":\"white\",\"ticks\":\"\"},\"baxis\":{\"gridcolor\":\"white\",\"linecolor\":\"white\",\"ticks\":\"\"},\"caxis\":{\"gridcolor\":\"white\",\"linecolor\":\"white\",\"ticks\":\"\"}},\"coloraxis\":{\"colorbar\":{\"outlinewidth\":0,\"ticks\":\"\"}},\"colorscale\":{\"sequential\":[[0.0,\"#0d0887\"],[0.1111111111111111,\"#46039f\"],[0.2222222222222222,\"#7201a8\"],[0.3333333333333333,\"#9c179e\"],[0.4444444444444444,\"#bd3786\"],[0.5555555555555556,\"#d8576b\"],[0.6666666666666666,\"#ed7953\"],[0.7777777777777778,\"#fb9f3a\"],[0.8888888888888888,\"#fdca26\"],[1.0,\"#f0f921\"]],\"sequentialminus\":[[0.0,\"#0d0887\"],[0.1111111111111111,\"#46039f\"],[0.2222222222222222,\"#7201a8\"],[0.3333333333333333,\"#9c179e\"],[0.4444444444444444,\"#bd3786\"],[0.5555555555555556,\"#d8576b\"],[0.6666666666666666,\"#ed7953\"],[0.7777777777777778,\"#fb9f3a\"],[0.8888888888888888,\"#fdca26\"],[1.0,\"#f0f921\"]],\"diverging\":[[0,\"#8e0152\"],[0.1,\"#c51b7d\"],[0.2,\"#de77ae\"],[0.3,\"#f1b6da\"],[0.4,\"#fde0ef\"],[0.5,\"#f7f7f7\"],[0.6,\"#e6f5d0\"],[0.7,\"#b8e186\"],[0.8,\"#7fbc41\"],[0.9,\"#4d9221\"],[1,\"#276419\"]]},\"xaxis\":{\"gridcolor\":\"white\",\"linecolor\":\"white\",\"ticks\":\"\",\"title\":{\"standoff\":15},\"zerolinecolor\":\"white\",\"automargin\":true,\"zerolinewidth\":2},\"yaxis\":{\"gridcolor\":\"white\",\"linecolor\":\"white\",\"ticks\":\"\",\"title\":{\"standoff\":15},\"zerolinecolor\":\"white\",\"automargin\":true,\"zerolinewidth\":2},\"scene\":{\"xaxis\":{\"backgroundcolor\":\"#E5ECF6\",\"gridcolor\":\"white\",\"linecolor\":\"white\",\"showbackground\":true,\"ticks\":\"\",\"zerolinecolor\":\"white\",\"gridwidth\":2},\"yaxis\":{\"backgroundcolor\":\"#E5ECF6\",\"gridcolor\":\"white\",\"linecolor\":\"white\",\"showbackground\":true,\"ticks\":\"\",\"zerolinecolor\":\"white\",\"gridwidth\":2},\"zaxis\":{\"backgroundcolor\":\"#E5ECF6\",\"gridcolor\":\"white\",\"linecolor\":\"white\",\"showbackground\":true,\"ticks\":\"\",\"zerolinecolor\":\"white\",\"gridwidth\":2}},\"shapedefaults\":{\"line\":{\"color\":\"#2a3f5f\"}},\"annotationdefaults\":{\"arrowcolor\":\"#2a3f5f\",\"arrowhead\":0,\"arrowwidth\":1},\"geo\":{\"bgcolor\":\"white\",\"landcolor\":\"#E5ECF6\",\"subunitcolor\":\"white\",\"showland\":true,\"showlakes\":true,\"lakecolor\":\"white\"},\"title\":{\"x\":0.05},\"mapbox\":{\"style\":\"light\"}}},\"font\":{\"family\":\"Courier New, monospace\",\"size\":50,\"color\":\"black\"},\"title\":{\"text\":\"total distance: 4.3366\"},\"showlegend\":true},                        {\"responsive\": true}                    ).then(function(){\n",
       "                            \n",
       "var gd = document.getElementById('e83bea3e-7386-4260-9dba-a300852e5ad3');\n",
       "var x = new MutationObserver(function (mutations, observer) {{\n",
       "        var display = window.getComputedStyle(gd).display;\n",
       "        if (!display || display === 'none') {{\n",
       "            console.log([gd, 'removed!']);\n",
       "            Plotly.purge(gd);\n",
       "            observer.disconnect();\n",
       "        }}\n",
       "}});\n",
       "\n",
       "// Listen for the removal of the full notebook cells\n",
       "var notebookContainer = gd.closest('#notebook-container');\n",
       "if (notebookContainer) {{\n",
       "    x.observe(notebookContainer, {childList: true});\n",
       "}}\n",
       "\n",
       "// Listen for the clearing of the current output cell\n",
       "var outputEl = gd.closest('.output');\n",
       "if (outputEl) {{\n",
       "    x.observe(outputEl, {childList: true});\n",
       "}}\n",
       "\n",
       "                        })                };                });            </script>        </div>"
      ]
     },
     "metadata": {},
     "output_type": "display_data"
    },
    {
     "name": "stdout",
     "output_type": "stream",
     "text": [
      "2/2 [==============================] - 1s 5ms/step\n"
     ]
    },
    {
     "data": {
      "application/vnd.plotly.v1+json": {
       "config": {
        "plotlyServerURL": "https://plot.ly"
       },
       "data": [
        {
         "hovertemplate": "%{text}",
         "marker": {
          "color": "blue",
          "opacity": 1,
          "size": 20,
          "symbol": "circle"
         },
         "mode": "markers",
         "name": "Con (Augmented)",
         "text": [
          "Text: however : , it has failed to deliver on quality .  <br> Label: Con (augmented) <br> Distance: 0.13046",
          "Text:  A week out ; of the , box and I began to see , slight contractions of the screen from time : to time , growing more frequent ? each . day . <br> Label: Con (augmented) <br> Distance: 0.12697",
          "Text: The only problem I have with the buttons ! is that the power button and print/share button don't have a nice click.  <br> Label: Con (augmented) <br> Distance: 0.01865",
          "Text: who in ? the hell needs a ; frigging *VGA* camera . on their CELLPHONE??? <br> Label: Con (augmented) <br> Distance: 0.35641",
          "Text: the zen does n't support folders so it is not really a storage device ; even ; with third ? party software that : \" creates \" folders . , documents and programs can : 't be launched ! from the zen , : so it is ! not a hard disk , it 's a storage ! device at best .  <br> Label: Con (augmented) <br> Distance: 0.73133",
          "Text: Knocked 1 star off for the install wizard - it wasted . alot of time running it.      <br> Label: Con (augmented) <br> Distance: 0.52960",
          "Text: i : will ! never buy a creative product again . ,  <br> Label: Con (augmented) <br> Distance: 0.27132",
          "Text: it ; had a heavier . and more sturdy casing .  <br> Label: Con (augmented) <br> Distance: 0.45269",
          "Text: While I ? was trying to play Half Life 2 it started popping up with \"alerts\" every twenty seconds (literally), warning me my antivirus : protection was off. <br> Label: Con (augmented) <br> Distance: 0.51930",
          "Text: I downloaded the new ; firmware : which ! was ! supposed to take care of the problem, but it hasn't worked.  <br> Label: Con (augmented) <br> Distance: 0.17571",
          "Text: Finally, I gave up and , I purchased : a ! Router Razier. <br> Label: Con (augmented) <br> Distance: 0.54227",
          "Text: , my only complaint would be . that you need id3 tags & that takes a while to : do if ? your , mp3 files do n't have them .  <br> Label: Con (augmented) <br> Distance: 0.42715",
          "Text: Some people . have commented about the size and weight of the phone, and ; it has rightfully gotten the nick-name \"the bar of ! soap\" which, it really is. <br> Label: Con (augmented) <br> Distance: 0.03776",
          "Text: so , now it still plays everything , you , just can 't see it , !  <br> Label: Con (augmented) <br> Distance: 0.22260",
          "Text: .  ! There : 's also no height adjustability : , so it sits very low to the desk . <br> Label: Con (augmented) <br> Distance: 0.17215"
         ],
         "type": "scatter",
         "x": [
          -0.8271415627833059,
          -1.3141905065105042,
          -1.237890002069902,
          -1.0952682803291889,
          -0.9199343298693721,
          -1.2019964109835686,
          -0.5110819498675124,
          1.1454783974648213,
          -0.976939735799836,
          -0.9962453782236945,
          0.9761304904218099,
          -1.1036670348030209,
          -0.6311910978263656,
          0.9549029561246003,
          0.033076520938136816
         ],
         "y": [
          0.8464931441214189,
          1.2158737396366477,
          1.3008794656579963,
          0.9030587835275651,
          1.091803015599475,
          0.9824325008675742,
          0.5121372541184273,
          -0.98298023243715,
          1.160387605025051,
          1.1911825770397129,
          -1.154621752163176,
          1.2638599670704707,
          0.6314675776307508,
          -0.9704733946404028,
          -0.03270044983870811
         ]
        },
        {
         "hovertemplate": "%{text}",
         "marker": {
          "color": "blue",
          "opacity": 0.3,
          "size": 60,
          "symbol": "circle"
         },
         "mode": "markers",
         "name": "Con (Original)",
         "text": [
          "Text: however , it has failed to deliver on quality .  <br> Label: Con (original) <br> Distance: 0.13046",
          "Text:  A week out of the box and I began to see slight contractions of the screen from time to time , growing more frequent each day . <br> Label: Con (original) <br> Distance: 0.12697",
          "Text: The only problem I have with the buttons is that the power button and print/share button don't have a nice click.  <br> Label: Con (original) <br> Distance: 0.01865",
          "Text: who in the hell needs a frigging *VGA* camera on their CELLPHONE??? <br> Label: Con (original) <br> Distance: 0.35641",
          "Text: the zen does n't support folders so it is not really a storage device ; even with third party software that \" creates \" folders , documents and programs can 't be launched from the zen , so it is not a hard disk , it 's a storage device at best .  <br> Label: Con (original) <br> Distance: 0.73133",
          "Text: Knocked 1 star off for the install wizard - it wasted alot of time running it.      <br> Label: Con (original) <br> Distance: 0.52960",
          "Text: i will never buy a creative product again .  <br> Label: Con (original) <br> Distance: 0.27132",
          "Text: it had a heavier and more sturdy casing .  <br> Label: Con (original) <br> Distance: 0.45269",
          "Text: While I was trying to play Half Life 2 it started popping up with \"alerts\" every twenty seconds (literally), warning me my antivirus protection was off. <br> Label: Con (original) <br> Distance: 0.51930",
          "Text: I downloaded the new firmware which was supposed to take care of the problem, but it hasn't worked.  <br> Label: Con (original) <br> Distance: 0.17571",
          "Text: Finally, I gave up and I purchased a Router Razier. <br> Label: Con (original) <br> Distance: 0.54227",
          "Text: my only complaint would be that you need id3 tags & that takes a while to do if your mp3 files do n't have them .  <br> Label: Con (original) <br> Distance: 0.42715",
          "Text: Some people have commented about the size and weight of the phone, and it has rightfully gotten the nick-name \"the bar of soap\" which, it really is. <br> Label: Con (original) <br> Distance: 0.03776",
          "Text: so now it still plays everything , you just can 't see it !  <br> Label: Con (original) <br> Distance: 0.22260",
          "Text:  There 's also no height adjustability , so it sits very low to the desk . <br> Label: Con (original) <br> Distance: 0.17215"
         ],
         "type": "scatter",
         "x": [
          -0.7793230688772597,
          -1.2758140873409047,
          -1.2276049414315247,
          -0.909457897196973,
          -1.3143412844767033,
          -0.986048622862724,
          -0.6152052066373146,
          1.3373343971263618,
          -1.1859498922906264,
          -0.9360546559583558,
          1.252200201770969,
          -1.3116681387507874,
          -0.6168613918849164,
          1.07792037908533,
          0.09956802244482914
         ],
         "y": [
          0.7937806727587647,
          1.2732620059677775,
          1.3015587248742138,
          0.8390696825621431,
          1.1785294115186689,
          1.175457430182725,
          0.6175508715669209,
          -1.1398671043113977,
          0.9682352368099295,
          1.116738443825887,
          -1.0405463570927989,
          1.1547144135189316,
          0.6166448494217578,
          -0.9733178408694364,
          -0.09918111170332872
         ]
        },
        {
         "hovertemplate": "%{text}",
         "marker": {
          "color": "red",
          "opacity": 1,
          "size": 20,
          "symbol": "diamond"
         },
         "mode": "markers",
         "name": "Pro (Augmented)",
         "text": [
          "Text: ? The Micro seeemed like an iPod for less.  <br> Label: Pro (augmented) <br> Distance: 0.93815",
          "Text: . I just went ; on a quick photo shoot in NYC's  Central Park ! today, ! and what a bunch of beautiful , photos I took, . if I do  : say so myself (and I do!) <br> Label: Pro (augmented) <br> Distance: 0.21620",
          "Text:  Fits nicely on the small desk we use in our : computer room . <br> Label: Pro (augmented) <br> Distance: 0.10337",
          "Text: All , I have to say is that the pics I get with my SD500 are both rich and color and high in detail, the user . interface is awesome, the battery charger is tiny and super . light and SD cards are relatively cheap and getting cheaper all the time. <br> Label: Pro (augmented) <br> Distance: 0.39511",
          "Text: 11 ) minimal pause between songs ; - less than that on other devices . - good achievement for a hard-drive ! based player ?  <br> Label: Pro (augmented) <br> Distance: 0.21762",
          "Text:  Pros : : - Great sound for a $ 100 speaker at mid to higher levels . <br> Label: Pro (augmented) <br> Distance: 0.47179",
          "Text: The more I use : it and : figure out how . to ! do things, ; the more I like it.      <br> Label: Pro (augmented) <br> Distance: 0.89823",
          "Text:  The system was ? nowhere near stable , and the code was in `` ? alpha , '' stage at best ! . <br> Label: Pro (augmented) <br> Distance: 0.24020",
          "Text:  So ! far , I am super happy with , this : small yet powerful enough laptop . <br> Label: Pro (augmented) <br> Distance: 0.11239",
          "Text:  All I can ! say is that ; this is an ? excellent devise . <br> Label: Pro (augmented) <br> Distance: 1.09373",
          "Text:  ! the netbook work as a ? breeze for . my sales : person , ! it worked fine , fast and with the extra ram : nothing could stop it , in : fact ? it works better than my own laptop so I will change . to this one as soon as possible <br> Label: Pro (augmented) <br> Distance: 0.23370",
          "Text: .  Sound effects really ! sound more authentic . <br> Label: Pro (augmented) <br> Distance: 0.01737",
          "Text:  . I do n't for-see myself having any issues with it in , the coming year ! or two however if I do , I will : know that with this product , it . will be taken care of for free and quick , with ? helpful and ; courteous customer service reps. The . service of , Amazon in getting this item to me was faster than . I expected and ; it is exactly what I knew it would be ? . <br> Label: Pro (augmented) <br> Distance: 0.48046",
          "Text: You can use the player to : store your computer . data files (Good feature ! to have).    <br> Label: Pro (augmented) <br> Distance: 0.43362",
          "Text: Compatability with ! other devices is excellent too; I've only found one 11b device that won't work with its mixed mode (and it won't work with *anyone's* mixed mode). <br> Label: Pro (augmented) <br> Distance: 0.41555"
         ],
         "type": "scatter",
         "x": [
          -0.5925853485333515,
          1.3109624873250625,
          0.3839827143078471,
          1.1005549986685015,
          -0.34498604941365624,
          1.127756714479581,
          -0.37822151985112523,
          -0.9384663126240105,
          1.2664334309018783,
          0.8076861967846203,
          0.8567860398055148,
          1.1660126694349273,
          -1.1555056594127395,
          0.8329984432570386,
          1.3486068952846366
         ],
         "y": [
          0.5934537712174396,
          -1.095971747037845,
          -0.3835407950305715,
          -0.9727533787772935,
          0.34538851136893706,
          -1.3346183661628013,
          0.37881763981359884,
          0.8419952074774626,
          -1.3282925555802438,
          -0.8055738894198685,
          -0.8530888309026137,
          -1.34680011703644,
          0.9423729376333093,
          -0.8320954998819533,
          -1.196863490325479
         ]
        },
        {
         "hovertemplate": "%{text}",
         "marker": {
          "color": "red",
          "opacity": 0.3,
          "size": 60,
          "symbol": "diamond"
         },
         "mode": "markers",
         "name": "Pro (Original)",
         "text": [
          "Text: The Micro seeemed like an iPod for less.  <br> Label: Pro (original) <br> Distance: 0.93815",
          "Text: I just went on a quick photo shoot in NYC's  Central Park today, and what a bunch of beautiful photos I took, if I do  say so myself (and I do!) <br> Label: Pro (original) <br> Distance: 0.21620",
          "Text:  Fits nicely on the small desk we use in our computer room . <br> Label: Pro (original) <br> Distance: 0.10337",
          "Text: All I have to say is that the pics I get with my SD500 are both rich and color and high in detail, the user interface is awesome, the battery charger is tiny and super light and SD cards are relatively cheap and getting cheaper all the time. <br> Label: Pro (original) <br> Distance: 0.39511",
          "Text: 11 ) minimal pause between songs - less than that on other devices - good achievement for a hard-drive based player  <br> Label: Pro (original) <br> Distance: 0.21762",
          "Text:  Pros : - Great sound for a $ 100 speaker at mid to higher levels . <br> Label: Pro (original) <br> Distance: 0.47179",
          "Text: The more I use it and figure out how to do things, the more I like it.      <br> Label: Pro (original) <br> Distance: 0.89823",
          "Text:  The system was nowhere near stable , and the code was in `` alpha '' stage at best . <br> Label: Pro (original) <br> Distance: 0.24020",
          "Text:  So far , I am super happy with this small yet powerful enough laptop . <br> Label: Pro (original) <br> Distance: 0.11239",
          "Text:  All I can say is that this is an excellent devise . <br> Label: Pro (original) <br> Distance: 1.09373",
          "Text:  the netbook work as a breeze for my sales person , it worked fine , fast and with the extra ram nothing could stop it , in fact it works better than my own laptop so I will change to this one as soon as possible <br> Label: Pro (original) <br> Distance: 0.23370",
          "Text:  Sound effects really sound more authentic . <br> Label: Pro (original) <br> Distance: 0.01737",
          "Text:  I do n't for-see myself having any issues with it in the coming year or two however if I do , I will know that with this product , it will be taken care of for free and quick with helpful and courteous customer service reps. The service of Amazon in getting this item to me was faster than I expected and it is exactly what I knew it would be . <br> Label: Pro (original) <br> Distance: 0.48046",
          "Text: You can use the player to store your computer data files (Good feature to have).    <br> Label: Pro (original) <br> Distance: 0.43362",
          "Text: Compatability with other devices is excellent too; I've only found one 11b device that won't work with its mixed mode (and it won't work with *anyone's* mixed mode). <br> Label: Pro (original) <br> Distance: 0.41555"
         ],
         "type": "scatter",
         "x": [
          -0.2305323931764799,
          1.3497741065334636,
          0.42391778752313647,
          0.9694240341000714,
          -0.42903105848175155,
          1.3486090040673806,
          -0.031424816853866167,
          -0.8087121195895967,
          1.3192579114444365,
          1.1028820404265514,
          0.9419993145138092,
          1.1566660171176486,
          -0.925594039156537,
          0.9387117222158483,
          1.179304327070622
         ],
         "y": [
          0.23087786531916463,
          -1.2063518844584964,
          -0.4234504270433711,
          -1.1433180963316463,
          0.4294359645361826,
          -1.1991582745400249,
          0.031814246927970406,
          0.81445779690291,
          -1.2963599080310304,
          -1.3208131111185326,
          -0.9479084240690703,
          -1.3446405926620315,
          1.072226245054924,
          -1.0421680595148444,
          -1.3484767727903018
         ]
        }
       ],
       "layout": {
        "font": {
         "color": "black",
         "family": "Courier New, monospace",
         "size": 50
        },
        "showlegend": true,
        "template": {
         "data": {
          "bar": [
           {
            "error_x": {
             "color": "#2a3f5f"
            },
            "error_y": {
             "color": "#2a3f5f"
            },
            "marker": {
             "line": {
              "color": "#E5ECF6",
              "width": 0.5
             },
             "pattern": {
              "fillmode": "overlay",
              "size": 10,
              "solidity": 0.2
             }
            },
            "type": "bar"
           }
          ],
          "barpolar": [
           {
            "marker": {
             "line": {
              "color": "#E5ECF6",
              "width": 0.5
             },
             "pattern": {
              "fillmode": "overlay",
              "size": 10,
              "solidity": 0.2
             }
            },
            "type": "barpolar"
           }
          ],
          "carpet": [
           {
            "aaxis": {
             "endlinecolor": "#2a3f5f",
             "gridcolor": "white",
             "linecolor": "white",
             "minorgridcolor": "white",
             "startlinecolor": "#2a3f5f"
            },
            "baxis": {
             "endlinecolor": "#2a3f5f",
             "gridcolor": "white",
             "linecolor": "white",
             "minorgridcolor": "white",
             "startlinecolor": "#2a3f5f"
            },
            "type": "carpet"
           }
          ],
          "choropleth": [
           {
            "colorbar": {
             "outlinewidth": 0,
             "ticks": ""
            },
            "type": "choropleth"
           }
          ],
          "contour": [
           {
            "colorbar": {
             "outlinewidth": 0,
             "ticks": ""
            },
            "colorscale": [
             [
              0,
              "#0d0887"
             ],
             [
              0.1111111111111111,
              "#46039f"
             ],
             [
              0.2222222222222222,
              "#7201a8"
             ],
             [
              0.3333333333333333,
              "#9c179e"
             ],
             [
              0.4444444444444444,
              "#bd3786"
             ],
             [
              0.5555555555555556,
              "#d8576b"
             ],
             [
              0.6666666666666666,
              "#ed7953"
             ],
             [
              0.7777777777777778,
              "#fb9f3a"
             ],
             [
              0.8888888888888888,
              "#fdca26"
             ],
             [
              1,
              "#f0f921"
             ]
            ],
            "type": "contour"
           }
          ],
          "contourcarpet": [
           {
            "colorbar": {
             "outlinewidth": 0,
             "ticks": ""
            },
            "type": "contourcarpet"
           }
          ],
          "heatmap": [
           {
            "colorbar": {
             "outlinewidth": 0,
             "ticks": ""
            },
            "colorscale": [
             [
              0,
              "#0d0887"
             ],
             [
              0.1111111111111111,
              "#46039f"
             ],
             [
              0.2222222222222222,
              "#7201a8"
             ],
             [
              0.3333333333333333,
              "#9c179e"
             ],
             [
              0.4444444444444444,
              "#bd3786"
             ],
             [
              0.5555555555555556,
              "#d8576b"
             ],
             [
              0.6666666666666666,
              "#ed7953"
             ],
             [
              0.7777777777777778,
              "#fb9f3a"
             ],
             [
              0.8888888888888888,
              "#fdca26"
             ],
             [
              1,
              "#f0f921"
             ]
            ],
            "type": "heatmap"
           }
          ],
          "heatmapgl": [
           {
            "colorbar": {
             "outlinewidth": 0,
             "ticks": ""
            },
            "colorscale": [
             [
              0,
              "#0d0887"
             ],
             [
              0.1111111111111111,
              "#46039f"
             ],
             [
              0.2222222222222222,
              "#7201a8"
             ],
             [
              0.3333333333333333,
              "#9c179e"
             ],
             [
              0.4444444444444444,
              "#bd3786"
             ],
             [
              0.5555555555555556,
              "#d8576b"
             ],
             [
              0.6666666666666666,
              "#ed7953"
             ],
             [
              0.7777777777777778,
              "#fb9f3a"
             ],
             [
              0.8888888888888888,
              "#fdca26"
             ],
             [
              1,
              "#f0f921"
             ]
            ],
            "type": "heatmapgl"
           }
          ],
          "histogram": [
           {
            "marker": {
             "pattern": {
              "fillmode": "overlay",
              "size": 10,
              "solidity": 0.2
             }
            },
            "type": "histogram"
           }
          ],
          "histogram2d": [
           {
            "colorbar": {
             "outlinewidth": 0,
             "ticks": ""
            },
            "colorscale": [
             [
              0,
              "#0d0887"
             ],
             [
              0.1111111111111111,
              "#46039f"
             ],
             [
              0.2222222222222222,
              "#7201a8"
             ],
             [
              0.3333333333333333,
              "#9c179e"
             ],
             [
              0.4444444444444444,
              "#bd3786"
             ],
             [
              0.5555555555555556,
              "#d8576b"
             ],
             [
              0.6666666666666666,
              "#ed7953"
             ],
             [
              0.7777777777777778,
              "#fb9f3a"
             ],
             [
              0.8888888888888888,
              "#fdca26"
             ],
             [
              1,
              "#f0f921"
             ]
            ],
            "type": "histogram2d"
           }
          ],
          "histogram2dcontour": [
           {
            "colorbar": {
             "outlinewidth": 0,
             "ticks": ""
            },
            "colorscale": [
             [
              0,
              "#0d0887"
             ],
             [
              0.1111111111111111,
              "#46039f"
             ],
             [
              0.2222222222222222,
              "#7201a8"
             ],
             [
              0.3333333333333333,
              "#9c179e"
             ],
             [
              0.4444444444444444,
              "#bd3786"
             ],
             [
              0.5555555555555556,
              "#d8576b"
             ],
             [
              0.6666666666666666,
              "#ed7953"
             ],
             [
              0.7777777777777778,
              "#fb9f3a"
             ],
             [
              0.8888888888888888,
              "#fdca26"
             ],
             [
              1,
              "#f0f921"
             ]
            ],
            "type": "histogram2dcontour"
           }
          ],
          "mesh3d": [
           {
            "colorbar": {
             "outlinewidth": 0,
             "ticks": ""
            },
            "type": "mesh3d"
           }
          ],
          "parcoords": [
           {
            "line": {
             "colorbar": {
              "outlinewidth": 0,
              "ticks": ""
             }
            },
            "type": "parcoords"
           }
          ],
          "pie": [
           {
            "automargin": true,
            "type": "pie"
           }
          ],
          "scatter": [
           {
            "fillpattern": {
             "fillmode": "overlay",
             "size": 10,
             "solidity": 0.2
            },
            "type": "scatter"
           }
          ],
          "scatter3d": [
           {
            "line": {
             "colorbar": {
              "outlinewidth": 0,
              "ticks": ""
             }
            },
            "marker": {
             "colorbar": {
              "outlinewidth": 0,
              "ticks": ""
             }
            },
            "type": "scatter3d"
           }
          ],
          "scattercarpet": [
           {
            "marker": {
             "colorbar": {
              "outlinewidth": 0,
              "ticks": ""
             }
            },
            "type": "scattercarpet"
           }
          ],
          "scattergeo": [
           {
            "marker": {
             "colorbar": {
              "outlinewidth": 0,
              "ticks": ""
             }
            },
            "type": "scattergeo"
           }
          ],
          "scattergl": [
           {
            "marker": {
             "colorbar": {
              "outlinewidth": 0,
              "ticks": ""
             }
            },
            "type": "scattergl"
           }
          ],
          "scattermapbox": [
           {
            "marker": {
             "colorbar": {
              "outlinewidth": 0,
              "ticks": ""
             }
            },
            "type": "scattermapbox"
           }
          ],
          "scatterpolar": [
           {
            "marker": {
             "colorbar": {
              "outlinewidth": 0,
              "ticks": ""
             }
            },
            "type": "scatterpolar"
           }
          ],
          "scatterpolargl": [
           {
            "marker": {
             "colorbar": {
              "outlinewidth": 0,
              "ticks": ""
             }
            },
            "type": "scatterpolargl"
           }
          ],
          "scatterternary": [
           {
            "marker": {
             "colorbar": {
              "outlinewidth": 0,
              "ticks": ""
             }
            },
            "type": "scatterternary"
           }
          ],
          "surface": [
           {
            "colorbar": {
             "outlinewidth": 0,
             "ticks": ""
            },
            "colorscale": [
             [
              0,
              "#0d0887"
             ],
             [
              0.1111111111111111,
              "#46039f"
             ],
             [
              0.2222222222222222,
              "#7201a8"
             ],
             [
              0.3333333333333333,
              "#9c179e"
             ],
             [
              0.4444444444444444,
              "#bd3786"
             ],
             [
              0.5555555555555556,
              "#d8576b"
             ],
             [
              0.6666666666666666,
              "#ed7953"
             ],
             [
              0.7777777777777778,
              "#fb9f3a"
             ],
             [
              0.8888888888888888,
              "#fdca26"
             ],
             [
              1,
              "#f0f921"
             ]
            ],
            "type": "surface"
           }
          ],
          "table": [
           {
            "cells": {
             "fill": {
              "color": "#EBF0F8"
             },
             "line": {
              "color": "white"
             }
            },
            "header": {
             "fill": {
              "color": "#C8D4E3"
             },
             "line": {
              "color": "white"
             }
            },
            "type": "table"
           }
          ]
         },
         "layout": {
          "annotationdefaults": {
           "arrowcolor": "#2a3f5f",
           "arrowhead": 0,
           "arrowwidth": 1
          },
          "autotypenumbers": "strict",
          "coloraxis": {
           "colorbar": {
            "outlinewidth": 0,
            "ticks": ""
           }
          },
          "colorscale": {
           "diverging": [
            [
             0,
             "#8e0152"
            ],
            [
             0.1,
             "#c51b7d"
            ],
            [
             0.2,
             "#de77ae"
            ],
            [
             0.3,
             "#f1b6da"
            ],
            [
             0.4,
             "#fde0ef"
            ],
            [
             0.5,
             "#f7f7f7"
            ],
            [
             0.6,
             "#e6f5d0"
            ],
            [
             0.7,
             "#b8e186"
            ],
            [
             0.8,
             "#7fbc41"
            ],
            [
             0.9,
             "#4d9221"
            ],
            [
             1,
             "#276419"
            ]
           ],
           "sequential": [
            [
             0,
             "#0d0887"
            ],
            [
             0.1111111111111111,
             "#46039f"
            ],
            [
             0.2222222222222222,
             "#7201a8"
            ],
            [
             0.3333333333333333,
             "#9c179e"
            ],
            [
             0.4444444444444444,
             "#bd3786"
            ],
            [
             0.5555555555555556,
             "#d8576b"
            ],
            [
             0.6666666666666666,
             "#ed7953"
            ],
            [
             0.7777777777777778,
             "#fb9f3a"
            ],
            [
             0.8888888888888888,
             "#fdca26"
            ],
            [
             1,
             "#f0f921"
            ]
           ],
           "sequentialminus": [
            [
             0,
             "#0d0887"
            ],
            [
             0.1111111111111111,
             "#46039f"
            ],
            [
             0.2222222222222222,
             "#7201a8"
            ],
            [
             0.3333333333333333,
             "#9c179e"
            ],
            [
             0.4444444444444444,
             "#bd3786"
            ],
            [
             0.5555555555555556,
             "#d8576b"
            ],
            [
             0.6666666666666666,
             "#ed7953"
            ],
            [
             0.7777777777777778,
             "#fb9f3a"
            ],
            [
             0.8888888888888888,
             "#fdca26"
            ],
            [
             1,
             "#f0f921"
            ]
           ]
          },
          "colorway": [
           "#636efa",
           "#EF553B",
           "#00cc96",
           "#ab63fa",
           "#FFA15A",
           "#19d3f3",
           "#FF6692",
           "#B6E880",
           "#FF97FF",
           "#FECB52"
          ],
          "font": {
           "color": "#2a3f5f"
          },
          "geo": {
           "bgcolor": "white",
           "lakecolor": "white",
           "landcolor": "#E5ECF6",
           "showlakes": true,
           "showland": true,
           "subunitcolor": "white"
          },
          "hoverlabel": {
           "align": "left"
          },
          "hovermode": "closest",
          "mapbox": {
           "style": "light"
          },
          "paper_bgcolor": "white",
          "plot_bgcolor": "#E5ECF6",
          "polar": {
           "angularaxis": {
            "gridcolor": "white",
            "linecolor": "white",
            "ticks": ""
           },
           "bgcolor": "#E5ECF6",
           "radialaxis": {
            "gridcolor": "white",
            "linecolor": "white",
            "ticks": ""
           }
          },
          "scene": {
           "xaxis": {
            "backgroundcolor": "#E5ECF6",
            "gridcolor": "white",
            "gridwidth": 2,
            "linecolor": "white",
            "showbackground": true,
            "ticks": "",
            "zerolinecolor": "white"
           },
           "yaxis": {
            "backgroundcolor": "#E5ECF6",
            "gridcolor": "white",
            "gridwidth": 2,
            "linecolor": "white",
            "showbackground": true,
            "ticks": "",
            "zerolinecolor": "white"
           },
           "zaxis": {
            "backgroundcolor": "#E5ECF6",
            "gridcolor": "white",
            "gridwidth": 2,
            "linecolor": "white",
            "showbackground": true,
            "ticks": "",
            "zerolinecolor": "white"
           }
          },
          "shapedefaults": {
           "line": {
            "color": "#2a3f5f"
           }
          },
          "ternary": {
           "aaxis": {
            "gridcolor": "white",
            "linecolor": "white",
            "ticks": ""
           },
           "baxis": {
            "gridcolor": "white",
            "linecolor": "white",
            "ticks": ""
           },
           "bgcolor": "#E5ECF6",
           "caxis": {
            "gridcolor": "white",
            "linecolor": "white",
            "ticks": ""
           }
          },
          "title": {
           "x": 0.05
          },
          "xaxis": {
           "automargin": true,
           "gridcolor": "white",
           "linecolor": "white",
           "ticks": "",
           "title": {
            "standoff": 15
           },
           "zerolinecolor": "white",
           "zerolinewidth": 2
          },
          "yaxis": {
           "automargin": true,
           "gridcolor": "white",
           "linecolor": "white",
           "ticks": "",
           "title": {
            "standoff": 15
           },
           "zerolinecolor": "white",
           "zerolinewidth": 2
          }
         }
        },
        "title": {
         "text": "total distance: 9.7185"
        }
       }
      },
      "text/html": [
       "<div>                            <div id=\"af4b7756-a8d4-4d28-9c15-296394302325\" class=\"plotly-graph-div\" style=\"height:525px; width:100%;\"></div>            <script type=\"text/javascript\">                require([\"plotly\"], function(Plotly) {                    window.PLOTLYENV=window.PLOTLYENV || {};                                    if (document.getElementById(\"af4b7756-a8d4-4d28-9c15-296394302325\")) {                    Plotly.newPlot(                        \"af4b7756-a8d4-4d28-9c15-296394302325\",                        [{\"hovertemplate\":\"%{text}\",\"marker\":{\"color\":\"blue\",\"opacity\":1,\"size\":20,\"symbol\":\"circle\"},\"mode\":\"markers\",\"name\":\"Con (Augmented)\",\"text\":[\"Text: however : , it has failed to deliver on quality .  <br> Label: Con (augmented) <br> Distance: 0.13046\",\"Text:  A week out ; of the , box and I began to see , slight contractions of the screen from time : to time , growing more frequent ? each . day . <br> Label: Con (augmented) <br> Distance: 0.12697\",\"Text: The only problem I have with the buttons ! is that the power button and print/share button don't have a nice click.  <br> Label: Con (augmented) <br> Distance: 0.01865\",\"Text: who in ? the hell needs a ; frigging *VGA* camera . on their CELLPHONE??? <br> Label: Con (augmented) <br> Distance: 0.35641\",\"Text: the zen does n't support folders so it is not really a storage device ; even ; with third ? party software that : \\\" creates \\\" folders . , documents and programs can : 't be launched ! from the zen , : so it is ! not a hard disk , it 's a storage ! device at best .  <br> Label: Con (augmented) <br> Distance: 0.73133\",\"Text: Knocked 1 star off for the install wizard - it wasted . alot of time running it.      <br> Label: Con (augmented) <br> Distance: 0.52960\",\"Text: i : will ! never buy a creative product again . ,  <br> Label: Con (augmented) <br> Distance: 0.27132\",\"Text: it ; had a heavier . and more sturdy casing .  <br> Label: Con (augmented) <br> Distance: 0.45269\",\"Text: While I ? was trying to play Half Life 2 it started popping up with \\\"alerts\\\" every twenty seconds (literally), warning me my antivirus : protection was off. <br> Label: Con (augmented) <br> Distance: 0.51930\",\"Text: I downloaded the new ; firmware : which ! was ! supposed to take care of the problem, but it hasn't worked.  <br> Label: Con (augmented) <br> Distance: 0.17571\",\"Text: Finally, I gave up and , I purchased : a ! Router Razier. <br> Label: Con (augmented) <br> Distance: 0.54227\",\"Text: , my only complaint would be . that you need id3 tags & that takes a while to : do if ? your , mp3 files do n't have them .  <br> Label: Con (augmented) <br> Distance: 0.42715\",\"Text: Some people . have commented about the size and weight of the phone, and ; it has rightfully gotten the nick-name \\\"the bar of ! soap\\\" which, it really is. <br> Label: Con (augmented) <br> Distance: 0.03776\",\"Text: so , now it still plays everything , you , just can 't see it , !  <br> Label: Con (augmented) <br> Distance: 0.22260\",\"Text: .  ! There : 's also no height adjustability : , so it sits very low to the desk . <br> Label: Con (augmented) <br> Distance: 0.17215\"],\"x\":[-0.8271415627833059,-1.3141905065105042,-1.237890002069902,-1.0952682803291889,-0.9199343298693721,-1.2019964109835686,-0.5110819498675124,1.1454783974648213,-0.976939735799836,-0.9962453782236945,0.9761304904218099,-1.1036670348030209,-0.6311910978263656,0.9549029561246003,0.033076520938136816],\"y\":[0.8464931441214189,1.2158737396366477,1.3008794656579963,0.9030587835275651,1.091803015599475,0.9824325008675742,0.5121372541184273,-0.98298023243715,1.160387605025051,1.1911825770397129,-1.154621752163176,1.2638599670704707,0.6314675776307508,-0.9704733946404028,-0.03270044983870811],\"type\":\"scatter\"},{\"hovertemplate\":\"%{text}\",\"marker\":{\"color\":\"blue\",\"opacity\":0.3,\"size\":60,\"symbol\":\"circle\"},\"mode\":\"markers\",\"name\":\"Con (Original)\",\"text\":[\"Text: however , it has failed to deliver on quality .  <br> Label: Con (original) <br> Distance: 0.13046\",\"Text:  A week out of the box and I began to see slight contractions of the screen from time to time , growing more frequent each day . <br> Label: Con (original) <br> Distance: 0.12697\",\"Text: The only problem I have with the buttons is that the power button and print/share button don't have a nice click.  <br> Label: Con (original) <br> Distance: 0.01865\",\"Text: who in the hell needs a frigging *VGA* camera on their CELLPHONE??? <br> Label: Con (original) <br> Distance: 0.35641\",\"Text: the zen does n't support folders so it is not really a storage device ; even with third party software that \\\" creates \\\" folders , documents and programs can 't be launched from the zen , so it is not a hard disk , it 's a storage device at best .  <br> Label: Con (original) <br> Distance: 0.73133\",\"Text: Knocked 1 star off for the install wizard - it wasted alot of time running it.      <br> Label: Con (original) <br> Distance: 0.52960\",\"Text: i will never buy a creative product again .  <br> Label: Con (original) <br> Distance: 0.27132\",\"Text: it had a heavier and more sturdy casing .  <br> Label: Con (original) <br> Distance: 0.45269\",\"Text: While I was trying to play Half Life 2 it started popping up with \\\"alerts\\\" every twenty seconds (literally), warning me my antivirus protection was off. <br> Label: Con (original) <br> Distance: 0.51930\",\"Text: I downloaded the new firmware which was supposed to take care of the problem, but it hasn't worked.  <br> Label: Con (original) <br> Distance: 0.17571\",\"Text: Finally, I gave up and I purchased a Router Razier. <br> Label: Con (original) <br> Distance: 0.54227\",\"Text: my only complaint would be that you need id3 tags & that takes a while to do if your mp3 files do n't have them .  <br> Label: Con (original) <br> Distance: 0.42715\",\"Text: Some people have commented about the size and weight of the phone, and it has rightfully gotten the nick-name \\\"the bar of soap\\\" which, it really is. <br> Label: Con (original) <br> Distance: 0.03776\",\"Text: so now it still plays everything , you just can 't see it !  <br> Label: Con (original) <br> Distance: 0.22260\",\"Text:  There 's also no height adjustability , so it sits very low to the desk . <br> Label: Con (original) <br> Distance: 0.17215\"],\"x\":[-0.7793230688772597,-1.2758140873409047,-1.2276049414315247,-0.909457897196973,-1.3143412844767033,-0.986048622862724,-0.6152052066373146,1.3373343971263618,-1.1859498922906264,-0.9360546559583558,1.252200201770969,-1.3116681387507874,-0.6168613918849164,1.07792037908533,0.09956802244482914],\"y\":[0.7937806727587647,1.2732620059677775,1.3015587248742138,0.8390696825621431,1.1785294115186689,1.175457430182725,0.6175508715669209,-1.1398671043113977,0.9682352368099295,1.116738443825887,-1.0405463570927989,1.1547144135189316,0.6166448494217578,-0.9733178408694364,-0.09918111170332872],\"type\":\"scatter\"},{\"hovertemplate\":\"%{text}\",\"marker\":{\"color\":\"red\",\"opacity\":1,\"size\":20,\"symbol\":\"diamond\"},\"mode\":\"markers\",\"name\":\"Pro (Augmented)\",\"text\":[\"Text: ? The Micro seeemed like an iPod for less.  <br> Label: Pro (augmented) <br> Distance: 0.93815\",\"Text: . I just went ; on a quick photo shoot in NYC's  Central Park ! today, ! and what a bunch of beautiful , photos I took, . if I do  : say so myself (and I do!) <br> Label: Pro (augmented) <br> Distance: 0.21620\",\"Text:  Fits nicely on the small desk we use in our : computer room . <br> Label: Pro (augmented) <br> Distance: 0.10337\",\"Text: All , I have to say is that the pics I get with my SD500 are both rich and color and high in detail, the user . interface is awesome, the battery charger is tiny and super . light and SD cards are relatively cheap and getting cheaper all the time. <br> Label: Pro (augmented) <br> Distance: 0.39511\",\"Text: 11 ) minimal pause between songs ; - less than that on other devices . - good achievement for a hard-drive ! based player ?  <br> Label: Pro (augmented) <br> Distance: 0.21762\",\"Text:  Pros : : - Great sound for a $ 100 speaker at mid to higher levels . <br> Label: Pro (augmented) <br> Distance: 0.47179\",\"Text: The more I use : it and : figure out how . to ! do things, ; the more I like it.      <br> Label: Pro (augmented) <br> Distance: 0.89823\",\"Text:  The system was ? nowhere near stable , and the code was in `` ? alpha , '' stage at best ! . <br> Label: Pro (augmented) <br> Distance: 0.24020\",\"Text:  So ! far , I am super happy with , this : small yet powerful enough laptop . <br> Label: Pro (augmented) <br> Distance: 0.11239\",\"Text:  All I can ! say is that ; this is an ? excellent devise . <br> Label: Pro (augmented) <br> Distance: 1.09373\",\"Text:  ! the netbook work as a ? breeze for . my sales : person , ! it worked fine , fast and with the extra ram : nothing could stop it , in : fact ? it works better than my own laptop so I will change . to this one as soon as possible <br> Label: Pro (augmented) <br> Distance: 0.23370\",\"Text: .  Sound effects really ! sound more authentic . <br> Label: Pro (augmented) <br> Distance: 0.01737\",\"Text:  . I do n't for-see myself having any issues with it in , the coming year ! or two however if I do , I will : know that with this product , it . will be taken care of for free and quick , with ? helpful and ; courteous customer service reps. The . service of , Amazon in getting this item to me was faster than . I expected and ; it is exactly what I knew it would be ? . <br> Label: Pro (augmented) <br> Distance: 0.48046\",\"Text: You can use the player to : store your computer . data files (Good feature ! to have).    <br> Label: Pro (augmented) <br> Distance: 0.43362\",\"Text: Compatability with ! other devices is excellent too; I've only found one 11b device that won't work with its mixed mode (and it won't work with *anyone's* mixed mode). <br> Label: Pro (augmented) <br> Distance: 0.41555\"],\"x\":[-0.5925853485333515,1.3109624873250625,0.3839827143078471,1.1005549986685015,-0.34498604941365624,1.127756714479581,-0.37822151985112523,-0.9384663126240105,1.2664334309018783,0.8076861967846203,0.8567860398055148,1.1660126694349273,-1.1555056594127395,0.8329984432570386,1.3486068952846366],\"y\":[0.5934537712174396,-1.095971747037845,-0.3835407950305715,-0.9727533787772935,0.34538851136893706,-1.3346183661628013,0.37881763981359884,0.8419952074774626,-1.3282925555802438,-0.8055738894198685,-0.8530888309026137,-1.34680011703644,0.9423729376333093,-0.8320954998819533,-1.196863490325479],\"type\":\"scatter\"},{\"hovertemplate\":\"%{text}\",\"marker\":{\"color\":\"red\",\"opacity\":0.3,\"size\":60,\"symbol\":\"diamond\"},\"mode\":\"markers\",\"name\":\"Pro (Original)\",\"text\":[\"Text: The Micro seeemed like an iPod for less.  <br> Label: Pro (original) <br> Distance: 0.93815\",\"Text: I just went on a quick photo shoot in NYC's  Central Park today, and what a bunch of beautiful photos I took, if I do  say so myself (and I do!) <br> Label: Pro (original) <br> Distance: 0.21620\",\"Text:  Fits nicely on the small desk we use in our computer room . <br> Label: Pro (original) <br> Distance: 0.10337\",\"Text: All I have to say is that the pics I get with my SD500 are both rich and color and high in detail, the user interface is awesome, the battery charger is tiny and super light and SD cards are relatively cheap and getting cheaper all the time. <br> Label: Pro (original) <br> Distance: 0.39511\",\"Text: 11 ) minimal pause between songs - less than that on other devices - good achievement for a hard-drive based player  <br> Label: Pro (original) <br> Distance: 0.21762\",\"Text:  Pros : - Great sound for a $ 100 speaker at mid to higher levels . <br> Label: Pro (original) <br> Distance: 0.47179\",\"Text: The more I use it and figure out how to do things, the more I like it.      <br> Label: Pro (original) <br> Distance: 0.89823\",\"Text:  The system was nowhere near stable , and the code was in `` alpha '' stage at best . <br> Label: Pro (original) <br> Distance: 0.24020\",\"Text:  So far , I am super happy with this small yet powerful enough laptop . <br> Label: Pro (original) <br> Distance: 0.11239\",\"Text:  All I can say is that this is an excellent devise . <br> Label: Pro (original) <br> Distance: 1.09373\",\"Text:  the netbook work as a breeze for my sales person , it worked fine , fast and with the extra ram nothing could stop it , in fact it works better than my own laptop so I will change to this one as soon as possible <br> Label: Pro (original) <br> Distance: 0.23370\",\"Text:  Sound effects really sound more authentic . <br> Label: Pro (original) <br> Distance: 0.01737\",\"Text:  I do n't for-see myself having any issues with it in the coming year or two however if I do , I will know that with this product , it will be taken care of for free and quick with helpful and courteous customer service reps. The service of Amazon in getting this item to me was faster than I expected and it is exactly what I knew it would be . <br> Label: Pro (original) <br> Distance: 0.48046\",\"Text: You can use the player to store your computer data files (Good feature to have).    <br> Label: Pro (original) <br> Distance: 0.43362\",\"Text: Compatability with other devices is excellent too; I've only found one 11b device that won't work with its mixed mode (and it won't work with *anyone's* mixed mode). <br> Label: Pro (original) <br> Distance: 0.41555\"],\"x\":[-0.2305323931764799,1.3497741065334636,0.42391778752313647,0.9694240341000714,-0.42903105848175155,1.3486090040673806,-0.031424816853866167,-0.8087121195895967,1.3192579114444365,1.1028820404265514,0.9419993145138092,1.1566660171176486,-0.925594039156537,0.9387117222158483,1.179304327070622],\"y\":[0.23087786531916463,-1.2063518844584964,-0.4234504270433711,-1.1433180963316463,0.4294359645361826,-1.1991582745400249,0.031814246927970406,0.81445779690291,-1.2963599080310304,-1.3208131111185326,-0.9479084240690703,-1.3446405926620315,1.072226245054924,-1.0421680595148444,-1.3484767727903018],\"type\":\"scatter\"}],                        {\"template\":{\"data\":{\"histogram2dcontour\":[{\"type\":\"histogram2dcontour\",\"colorbar\":{\"outlinewidth\":0,\"ticks\":\"\"},\"colorscale\":[[0.0,\"#0d0887\"],[0.1111111111111111,\"#46039f\"],[0.2222222222222222,\"#7201a8\"],[0.3333333333333333,\"#9c179e\"],[0.4444444444444444,\"#bd3786\"],[0.5555555555555556,\"#d8576b\"],[0.6666666666666666,\"#ed7953\"],[0.7777777777777778,\"#fb9f3a\"],[0.8888888888888888,\"#fdca26\"],[1.0,\"#f0f921\"]]}],\"choropleth\":[{\"type\":\"choropleth\",\"colorbar\":{\"outlinewidth\":0,\"ticks\":\"\"}}],\"histogram2d\":[{\"type\":\"histogram2d\",\"colorbar\":{\"outlinewidth\":0,\"ticks\":\"\"},\"colorscale\":[[0.0,\"#0d0887\"],[0.1111111111111111,\"#46039f\"],[0.2222222222222222,\"#7201a8\"],[0.3333333333333333,\"#9c179e\"],[0.4444444444444444,\"#bd3786\"],[0.5555555555555556,\"#d8576b\"],[0.6666666666666666,\"#ed7953\"],[0.7777777777777778,\"#fb9f3a\"],[0.8888888888888888,\"#fdca26\"],[1.0,\"#f0f921\"]]}],\"heatmap\":[{\"type\":\"heatmap\",\"colorbar\":{\"outlinewidth\":0,\"ticks\":\"\"},\"colorscale\":[[0.0,\"#0d0887\"],[0.1111111111111111,\"#46039f\"],[0.2222222222222222,\"#7201a8\"],[0.3333333333333333,\"#9c179e\"],[0.4444444444444444,\"#bd3786\"],[0.5555555555555556,\"#d8576b\"],[0.6666666666666666,\"#ed7953\"],[0.7777777777777778,\"#fb9f3a\"],[0.8888888888888888,\"#fdca26\"],[1.0,\"#f0f921\"]]}],\"heatmapgl\":[{\"type\":\"heatmapgl\",\"colorbar\":{\"outlinewidth\":0,\"ticks\":\"\"},\"colorscale\":[[0.0,\"#0d0887\"],[0.1111111111111111,\"#46039f\"],[0.2222222222222222,\"#7201a8\"],[0.3333333333333333,\"#9c179e\"],[0.4444444444444444,\"#bd3786\"],[0.5555555555555556,\"#d8576b\"],[0.6666666666666666,\"#ed7953\"],[0.7777777777777778,\"#fb9f3a\"],[0.8888888888888888,\"#fdca26\"],[1.0,\"#f0f921\"]]}],\"contourcarpet\":[{\"type\":\"contourcarpet\",\"colorbar\":{\"outlinewidth\":0,\"ticks\":\"\"}}],\"contour\":[{\"type\":\"contour\",\"colorbar\":{\"outlinewidth\":0,\"ticks\":\"\"},\"colorscale\":[[0.0,\"#0d0887\"],[0.1111111111111111,\"#46039f\"],[0.2222222222222222,\"#7201a8\"],[0.3333333333333333,\"#9c179e\"],[0.4444444444444444,\"#bd3786\"],[0.5555555555555556,\"#d8576b\"],[0.6666666666666666,\"#ed7953\"],[0.7777777777777778,\"#fb9f3a\"],[0.8888888888888888,\"#fdca26\"],[1.0,\"#f0f921\"]]}],\"surface\":[{\"type\":\"surface\",\"colorbar\":{\"outlinewidth\":0,\"ticks\":\"\"},\"colorscale\":[[0.0,\"#0d0887\"],[0.1111111111111111,\"#46039f\"],[0.2222222222222222,\"#7201a8\"],[0.3333333333333333,\"#9c179e\"],[0.4444444444444444,\"#bd3786\"],[0.5555555555555556,\"#d8576b\"],[0.6666666666666666,\"#ed7953\"],[0.7777777777777778,\"#fb9f3a\"],[0.8888888888888888,\"#fdca26\"],[1.0,\"#f0f921\"]]}],\"mesh3d\":[{\"type\":\"mesh3d\",\"colorbar\":{\"outlinewidth\":0,\"ticks\":\"\"}}],\"scatter\":[{\"fillpattern\":{\"fillmode\":\"overlay\",\"size\":10,\"solidity\":0.2},\"type\":\"scatter\"}],\"parcoords\":[{\"type\":\"parcoords\",\"line\":{\"colorbar\":{\"outlinewidth\":0,\"ticks\":\"\"}}}],\"scatterpolargl\":[{\"type\":\"scatterpolargl\",\"marker\":{\"colorbar\":{\"outlinewidth\":0,\"ticks\":\"\"}}}],\"bar\":[{\"error_x\":{\"color\":\"#2a3f5f\"},\"error_y\":{\"color\":\"#2a3f5f\"},\"marker\":{\"line\":{\"color\":\"#E5ECF6\",\"width\":0.5},\"pattern\":{\"fillmode\":\"overlay\",\"size\":10,\"solidity\":0.2}},\"type\":\"bar\"}],\"scattergeo\":[{\"type\":\"scattergeo\",\"marker\":{\"colorbar\":{\"outlinewidth\":0,\"ticks\":\"\"}}}],\"scatterpolar\":[{\"type\":\"scatterpolar\",\"marker\":{\"colorbar\":{\"outlinewidth\":0,\"ticks\":\"\"}}}],\"histogram\":[{\"marker\":{\"pattern\":{\"fillmode\":\"overlay\",\"size\":10,\"solidity\":0.2}},\"type\":\"histogram\"}],\"scattergl\":[{\"type\":\"scattergl\",\"marker\":{\"colorbar\":{\"outlinewidth\":0,\"ticks\":\"\"}}}],\"scatter3d\":[{\"type\":\"scatter3d\",\"line\":{\"colorbar\":{\"outlinewidth\":0,\"ticks\":\"\"}},\"marker\":{\"colorbar\":{\"outlinewidth\":0,\"ticks\":\"\"}}}],\"scattermapbox\":[{\"type\":\"scattermapbox\",\"marker\":{\"colorbar\":{\"outlinewidth\":0,\"ticks\":\"\"}}}],\"scatterternary\":[{\"type\":\"scatterternary\",\"marker\":{\"colorbar\":{\"outlinewidth\":0,\"ticks\":\"\"}}}],\"scattercarpet\":[{\"type\":\"scattercarpet\",\"marker\":{\"colorbar\":{\"outlinewidth\":0,\"ticks\":\"\"}}}],\"carpet\":[{\"aaxis\":{\"endlinecolor\":\"#2a3f5f\",\"gridcolor\":\"white\",\"linecolor\":\"white\",\"minorgridcolor\":\"white\",\"startlinecolor\":\"#2a3f5f\"},\"baxis\":{\"endlinecolor\":\"#2a3f5f\",\"gridcolor\":\"white\",\"linecolor\":\"white\",\"minorgridcolor\":\"white\",\"startlinecolor\":\"#2a3f5f\"},\"type\":\"carpet\"}],\"table\":[{\"cells\":{\"fill\":{\"color\":\"#EBF0F8\"},\"line\":{\"color\":\"white\"}},\"header\":{\"fill\":{\"color\":\"#C8D4E3\"},\"line\":{\"color\":\"white\"}},\"type\":\"table\"}],\"barpolar\":[{\"marker\":{\"line\":{\"color\":\"#E5ECF6\",\"width\":0.5},\"pattern\":{\"fillmode\":\"overlay\",\"size\":10,\"solidity\":0.2}},\"type\":\"barpolar\"}],\"pie\":[{\"automargin\":true,\"type\":\"pie\"}]},\"layout\":{\"autotypenumbers\":\"strict\",\"colorway\":[\"#636efa\",\"#EF553B\",\"#00cc96\",\"#ab63fa\",\"#FFA15A\",\"#19d3f3\",\"#FF6692\",\"#B6E880\",\"#FF97FF\",\"#FECB52\"],\"font\":{\"color\":\"#2a3f5f\"},\"hovermode\":\"closest\",\"hoverlabel\":{\"align\":\"left\"},\"paper_bgcolor\":\"white\",\"plot_bgcolor\":\"#E5ECF6\",\"polar\":{\"bgcolor\":\"#E5ECF6\",\"angularaxis\":{\"gridcolor\":\"white\",\"linecolor\":\"white\",\"ticks\":\"\"},\"radialaxis\":{\"gridcolor\":\"white\",\"linecolor\":\"white\",\"ticks\":\"\"}},\"ternary\":{\"bgcolor\":\"#E5ECF6\",\"aaxis\":{\"gridcolor\":\"white\",\"linecolor\":\"white\",\"ticks\":\"\"},\"baxis\":{\"gridcolor\":\"white\",\"linecolor\":\"white\",\"ticks\":\"\"},\"caxis\":{\"gridcolor\":\"white\",\"linecolor\":\"white\",\"ticks\":\"\"}},\"coloraxis\":{\"colorbar\":{\"outlinewidth\":0,\"ticks\":\"\"}},\"colorscale\":{\"sequential\":[[0.0,\"#0d0887\"],[0.1111111111111111,\"#46039f\"],[0.2222222222222222,\"#7201a8\"],[0.3333333333333333,\"#9c179e\"],[0.4444444444444444,\"#bd3786\"],[0.5555555555555556,\"#d8576b\"],[0.6666666666666666,\"#ed7953\"],[0.7777777777777778,\"#fb9f3a\"],[0.8888888888888888,\"#fdca26\"],[1.0,\"#f0f921\"]],\"sequentialminus\":[[0.0,\"#0d0887\"],[0.1111111111111111,\"#46039f\"],[0.2222222222222222,\"#7201a8\"],[0.3333333333333333,\"#9c179e\"],[0.4444444444444444,\"#bd3786\"],[0.5555555555555556,\"#d8576b\"],[0.6666666666666666,\"#ed7953\"],[0.7777777777777778,\"#fb9f3a\"],[0.8888888888888888,\"#fdca26\"],[1.0,\"#f0f921\"]],\"diverging\":[[0,\"#8e0152\"],[0.1,\"#c51b7d\"],[0.2,\"#de77ae\"],[0.3,\"#f1b6da\"],[0.4,\"#fde0ef\"],[0.5,\"#f7f7f7\"],[0.6,\"#e6f5d0\"],[0.7,\"#b8e186\"],[0.8,\"#7fbc41\"],[0.9,\"#4d9221\"],[1,\"#276419\"]]},\"xaxis\":{\"gridcolor\":\"white\",\"linecolor\":\"white\",\"ticks\":\"\",\"title\":{\"standoff\":15},\"zerolinecolor\":\"white\",\"automargin\":true,\"zerolinewidth\":2},\"yaxis\":{\"gridcolor\":\"white\",\"linecolor\":\"white\",\"ticks\":\"\",\"title\":{\"standoff\":15},\"zerolinecolor\":\"white\",\"automargin\":true,\"zerolinewidth\":2},\"scene\":{\"xaxis\":{\"backgroundcolor\":\"#E5ECF6\",\"gridcolor\":\"white\",\"linecolor\":\"white\",\"showbackground\":true,\"ticks\":\"\",\"zerolinecolor\":\"white\",\"gridwidth\":2},\"yaxis\":{\"backgroundcolor\":\"#E5ECF6\",\"gridcolor\":\"white\",\"linecolor\":\"white\",\"showbackground\":true,\"ticks\":\"\",\"zerolinecolor\":\"white\",\"gridwidth\":2},\"zaxis\":{\"backgroundcolor\":\"#E5ECF6\",\"gridcolor\":\"white\",\"linecolor\":\"white\",\"showbackground\":true,\"ticks\":\"\",\"zerolinecolor\":\"white\",\"gridwidth\":2}},\"shapedefaults\":{\"line\":{\"color\":\"#2a3f5f\"}},\"annotationdefaults\":{\"arrowcolor\":\"#2a3f5f\",\"arrowhead\":0,\"arrowwidth\":1},\"geo\":{\"bgcolor\":\"white\",\"landcolor\":\"#E5ECF6\",\"subunitcolor\":\"white\",\"showland\":true,\"showlakes\":true,\"lakecolor\":\"white\"},\"title\":{\"x\":0.05},\"mapbox\":{\"style\":\"light\"}}},\"font\":{\"family\":\"Courier New, monospace\",\"size\":50,\"color\":\"black\"},\"title\":{\"text\":\"total distance: 9.7185\"},\"showlegend\":true},                        {\"responsive\": true}                    ).then(function(){\n",
       "                            \n",
       "var gd = document.getElementById('af4b7756-a8d4-4d28-9c15-296394302325');\n",
       "var x = new MutationObserver(function (mutations, observer) {{\n",
       "        var display = window.getComputedStyle(gd).display;\n",
       "        if (!display || display === 'none') {{\n",
       "            console.log([gd, 'removed!']);\n",
       "            Plotly.purge(gd);\n",
       "            observer.disconnect();\n",
       "        }}\n",
       "}});\n",
       "\n",
       "// Listen for the removal of the full notebook cells\n",
       "var notebookContainer = gd.closest('#notebook-container');\n",
       "if (notebookContainer) {{\n",
       "    x.observe(notebookContainer, {childList: true});\n",
       "}}\n",
       "\n",
       "// Listen for the clearing of the current output cell\n",
       "var outputEl = gd.closest('.output');\n",
       "if (outputEl) {{\n",
       "    x.observe(outputEl, {childList: true});\n",
       "}}\n",
       "\n",
       "                        })                };                });            </script>        </div>"
      ]
     },
     "metadata": {},
     "output_type": "display_data"
    },
    {
     "name": "stdout",
     "output_type": "stream",
     "text": [
      "2/2 [==============================] - 1s 4ms/step\n"
     ]
    },
    {
     "data": {
      "application/vnd.plotly.v1+json": {
       "config": {
        "plotlyServerURL": "https://plot.ly"
       },
       "data": [
        {
         "hovertemplate": "%{text}",
         "marker": {
          "color": "blue",
          "opacity": 1,
          "size": 20,
          "symbol": "circle"
         },
         "mode": "markers",
         "name": "Con (Augmented)",
         "text": [
          "Text: The only problem with the button is that buttons and print/participation buttons do not have a good click. <br> Label: Con (augmented) <br> Distance: 0.22206",
          "Text: Semi height adjustment, sitting on the table. <br> Label: Con (augmented) <br> Distance: 2.25017",
          "Text: However, it has not achieved qualitative results. <br> Label: Con (augmented) <br> Distance: 0.90482",
          "Text: You can't select! <br> Label: Con (augmented) <br> Distance: 4.36638",
          "Text: While trying to play Half Life 2 began to appear with \"alertas\" every 20 seconds (literature), to warn me that my antivirus protection was disabled. <br> Label: Con (augmented) <br> Distance: 0.51599",
          "Text: One commented how much grain and pessimism the calls and called it \"Deer\" which is for her. <br> Label: Con (augmented) <br> Distance: 0.73198",
          "Text: A star arrived at the facility, lost a lot of time wandering around. <br> Label: Con (augmented) <br> Distance: 1.56755",
          "Text: I would never buy a creative product. <br> Label: Con (augmented) <br> Distance: 0.67558",
          "Text: A set of brands, boxes and boots, one day increasing the volume mature and mature. <br> Label: Con (augmented) <br> Distance: 6.48637",
          "Text: The new firmware is not the selection, which has had to mask the problem, but does not work. <br> Label: Con (augmented) <br> Distance: 0.66497",
          "Text: My only complaint would be that I needed id3 tags and you have to give me time if you don't have mp3 tags. <br> Label: Con (augmented) <br> Distance: 0.35667",
          "Text: She had a heavy, sturdy shell. <br> Label: Con (augmented) <br> Distance: 0.61798",
          "Text: Zen does not support steps in such a way that it is not actually memory software and nic a third that \"creates\" steps, documents and can re-relevant Zen program, not hard drive, memory is. <br> Label: Con (augmented) <br> Distance: 0.37741",
          "Text: Who in your cell drinks the VGA room? <br> Label: Con (augmented) <br> Distance: 4.32416",
          "Text: Finally, I quit and bought a Razier router. <br> Label: Con (augmented) <br> Distance: 4.19296"
         ],
         "type": "scatter",
         "x": [
          1.3050367939601946,
          0.5986107806494517,
          0.47337150567515185,
          0.5856839700740394,
          1.1441202208493222,
          0.32423285917369554,
          0.5255020018543071,
          0.35361505232783264,
          -1.1459518633820225,
          1.2633938917092666,
          1.1350869818576095,
          -1.1916139935559824,
          1.2586057525754315,
          -0.7413610242707427,
          0.3888760142846818
         ],
         "y": [
          -1.569624110823557,
          -0.2784824026003365,
          0.06795209819269268,
          -0.2076980444373561,
          -0.23989155544066987,
          -0.15624718173572139,
          -0.41704515037133133,
          -0.20707845381718765,
          0.28077931611380236,
          -0.46010129820615736,
          -1.8760453341604142,
          0.19678446508826467,
          -1.8111179254478755,
          0.6290517077353963,
          0.1470039049329818
         ]
        },
        {
         "hovertemplate": "%{text}",
         "marker": {
          "color": "blue",
          "opacity": 0.3,
          "size": 60,
          "symbol": "circle"
         },
         "mode": "markers",
         "name": "Con (Original)",
         "text": [
          "Text: The only problem I have with the buttons is that the power button and print/share button don't have a nice click.  <br> Label: Con (original) <br> Distance: 0.22206",
          "Text:  There 's also no height adjustability , so it sits very low to the desk . <br> Label: Con (original) <br> Distance: 2.25017",
          "Text: however , it has failed to deliver on quality .  <br> Label: Con (original) <br> Distance: 0.90482",
          "Text: so now it still plays everything , you just can 't see it !  <br> Label: Con (original) <br> Distance: 4.36638",
          "Text: While I was trying to play Half Life 2 it started popping up with \"alerts\" every twenty seconds (literally), warning me my antivirus protection was off. <br> Label: Con (original) <br> Distance: 0.51599",
          "Text: Some people have commented about the size and weight of the phone, and it has rightfully gotten the nick-name \"the bar of soap\" which, it really is. <br> Label: Con (original) <br> Distance: 0.73198",
          "Text: Knocked 1 star off for the install wizard - it wasted alot of time running it.      <br> Label: Con (original) <br> Distance: 1.56755",
          "Text: i will never buy a creative product again .  <br> Label: Con (original) <br> Distance: 0.67558",
          "Text:  A week out of the box and I began to see slight contractions of the screen from time to time , growing more frequent each day . <br> Label: Con (original) <br> Distance: 6.48637",
          "Text: I downloaded the new firmware which was supposed to take care of the problem, but it hasn't worked.  <br> Label: Con (original) <br> Distance: 0.66497",
          "Text: my only complaint would be that you need id3 tags & that takes a while to do if your mp3 files do n't have them .  <br> Label: Con (original) <br> Distance: 0.35667",
          "Text: it had a heavier and more sturdy casing .  <br> Label: Con (original) <br> Distance: 0.61798",
          "Text: the zen does n't support folders so it is not really a storage device ; even with third party software that \" creates \" folders , documents and programs can 't be launched from the zen , so it is not a hard disk , it 's a storage device at best .  <br> Label: Con (original) <br> Distance: 0.37741",
          "Text: who in the hell needs a frigging *VGA* camera on their CELLPHONE??? <br> Label: Con (original) <br> Distance: 4.32416",
          "Text: Finally, I gave up and I purchased a Router Razier. <br> Label: Con (original) <br> Distance: 4.19296"
         ],
         "type": "scatter",
         "x": [
          1.3169933063992163,
          -0.25800455002469436,
          0.8042908658900519,
          -1.0705702795314243,
          1.096652981154553,
          0.5969450718412017,
          1.1235211372986427,
          0.5992648671792924,
          1.324204824293207,
          1.0510912031096145,
          1.2707033496402889,
          -1.2815604601324884,
          1.3040522963388812,
          0.9004501418765202,
          -1.2118851691295187
         ],
         "y": [
          -0.9056828988488611,
          0.23389329900683692,
          -0.7158980796830979,
          1.2855420814896672,
          -1.7522859779730313,
          -0.6388656127385816,
          -0.23704939498109998,
          -0.8288497017522606,
          -1.1024484630030416,
          -1.5612709780117333,
          -1.7790630212945124,
          1.9221452974205986,
          -0.7294977517788929,
          -0.7362660862699835,
          0.18732121741456462
         ]
        },
        {
         "hovertemplate": "%{text}",
         "marker": {
          "color": "red",
          "opacity": 1,
          "size": 20,
          "symbol": "diamond"
         },
         "mode": "markers",
         "name": "Pro (Augmented)",
         "text": [
          "Text: Micro looks like an iPod for less. <br> Label: Pro (augmented) <br> Distance: 2.55898",
          "Text: Pros : - Great sound for a speaker from $100 to medium to higher levels. <br> Label: Pro (augmented) <br> Distance: 0.48633",
          "Text: You can use the drive to store data files from the calculator (good function to hold in your arms). <br> Label: Pro (augmented) <br> Distance: 1.19128",
          "Text: Hossin goes to a small seduction photo in New York Central Park, and photographs many beautiful photos, if you tell me (and me!) <br> Label: Pro (augmented) <br> Distance: 0.03150",
          "Text: I don't think you have any problems during the year or the year, but if it's you, if it's you. <br> Label: Pro (augmented) <br> Distance: 0.32835",
          "Text: Note that the images I have with SD500 Mass are rich and colorful and detailed, the user interface is Meraville, the load is small and SD folders are relatively good and always good. <br> Label: Pro (augmented) <br> Distance: 0.26053",
          "Text: Sound effects, though. <br> Label: Pro (augmented) <br> Distance: 0.65271",
          "Text: The system did not exist and the code was in alpha phase. <br> Label: Pro (augmented) <br> Distance: 0.77161",
          "Text: 11) minimum pause between songs - less than in other divisions - good performance for a hard drive based on playback <br> Label: Pro (augmented) <br> Distance: 0.03208",
          "Text: So far, I'm super happy with this little, but powerful laptop. <br> Label: Pro (augmented) <br> Distance: 0.06385",
          "Text: They did it to me, which is good, and you can't discern that it works badly like my laptop, which varies depending on what you can do. <br> Label: Pro (augmented) <br> Distance: 0.91059",
          "Text: It fits directly into a table we use in the computer room. <br> Label: Pro (augmented) <br> Distance: 0.14651",
          "Text: All I can say is that it's a jiv. <br> Label: Pro (augmented) <br> Distance: 4.13169",
          "Text: I can't read everything, I can't read everything. <br> Label: Pro (augmented) <br> Distance: 1.67946",
          "Text: Compatible with other divisions is also excellent; found an 11b partition that does not work with the mixed mode (and does not work with the mixed mode). <br> Label: Pro (augmented) <br> Distance: 6.26634"
         ],
         "type": "scatter",
         "x": [
          -0.8181263069670137,
          -1.2878267793001366,
          -0.5867442893039467,
          -1.336535137035042,
          1.0839783024588592,
          -1.1895464666311195,
          -1.081437140791716,
          1.1165016765404667,
          0.36334188154462,
          -1.3574187734849013,
          -0.6527018525048529,
          -0.6059320714845762,
          0.2898937714687565,
          0.5538702061492143,
          1.0330165331156564
         ],
         "y": [
          0.6968716793983959,
          1.9029892457285238,
          0.5093403916021529,
          0.46656523765404484,
          -0.27625803267197463,
          1.8773778950155717,
          0.5223197530421954,
          -0.24848139995078558,
          -0.7740668743849322,
          1.4220844994159612,
          0.5657278182687788,
          0.5260650181331962,
          -0.11143630718230095,
          0.011938550003141155,
          -1.5058700000954046
         ]
        },
        {
         "hovertemplate": "%{text}",
         "marker": {
          "color": "red",
          "opacity": 0.3,
          "size": 60,
          "symbol": "diamond"
         },
         "mode": "markers",
         "name": "Pro (Original)",
         "text": [
          "Text: The Micro seeemed like an iPod for less.  <br> Label: Pro (original) <br> Distance: 2.55898",
          "Text:  Pros : - Great sound for a $ 100 speaker at mid to higher levels . <br> Label: Pro (original) <br> Distance: 0.48633",
          "Text: You can use the player to store your computer data files (Good feature to have).    <br> Label: Pro (original) <br> Distance: 1.19128",
          "Text: I just went on a quick photo shoot in NYC's  Central Park today, and what a bunch of beautiful photos I took, if I do  say so myself (and I do!) <br> Label: Pro (original) <br> Distance: 0.03150",
          "Text:  I do n't for-see myself having any issues with it in the coming year or two however if I do , I will know that with this product , it will be taken care of for free and quick with helpful and courteous customer service reps. The service of Amazon in getting this item to me was faster than I expected and it is exactly what I knew it would be . <br> Label: Pro (original) <br> Distance: 0.32835",
          "Text: All I have to say is that the pics I get with my SD500 are both rich and color and high in detail, the user interface is awesome, the battery charger is tiny and super light and SD cards are relatively cheap and getting cheaper all the time. <br> Label: Pro (original) <br> Distance: 0.26053",
          "Text:  Sound effects really sound more authentic . <br> Label: Pro (original) <br> Distance: 0.65271",
          "Text:  The system was nowhere near stable , and the code was in `` alpha '' stage at best . <br> Label: Pro (original) <br> Distance: 0.77161",
          "Text: 11 ) minimal pause between songs - less than that on other devices - good achievement for a hard-drive based player  <br> Label: Pro (original) <br> Distance: 0.03208",
          "Text:  So far , I am super happy with this small yet powerful enough laptop . <br> Label: Pro (original) <br> Distance: 0.06385",
          "Text:  the netbook work as a breeze for my sales person , it worked fine , fast and with the extra ram nothing could stop it , in fact it works better than my own laptop so I will change to this one as soon as possible <br> Label: Pro (original) <br> Distance: 0.91059",
          "Text:  Fits nicely on the small desk we use in our computer room . <br> Label: Pro (original) <br> Distance: 0.14651",
          "Text:  All I can say is that this is an excellent devise . <br> Label: Pro (original) <br> Distance: 4.13169",
          "Text: The more I use it and figure out how to do things, the more I like it.      <br> Label: Pro (original) <br> Distance: 1.67946",
          "Text: Compatability with other devices is excellent too; I've only found one 11b device that won't work with its mixed mode (and it won't work with *anyone's* mixed mode). <br> Label: Pro (original) <br> Distance: 6.26634"
         ],
         "type": "scatter",
         "x": [
          0.15347768141343857,
          -1.3391561907160128,
          -1.0381814137116416,
          -1.3445365496334802,
          1.0275191479143961,
          -1.1006865906071863,
          -1.3302897359387325,
          0.8271252760479993,
          0.37017310810522985,
          -1.3681214688452379,
          -0.9978425885151289,
          -0.5503009471602578,
          -1.266042141158536,
          -0.08722679872430371,
          -1.3236057550785458
         ],
         "y": [
          -0.11085703855484538,
          0.4914896294174858,
          0.9462110017477063,
          0.5375695666879857,
          -1.1616137869533512,
          1.5238590091122304,
          0.419995136159629,
          -0.6846244141385467,
          -0.6936374595632516,
          1.2488362874893277,
          0.8949335776174059,
          0.4799497991190725,
          1.9390389973072468,
          0.09188338087668292,
          1.7518303754571551
         ]
        }
       ],
       "layout": {
        "font": {
         "color": "black",
         "family": "Courier New, monospace",
         "size": 50
        },
        "showlegend": true,
        "template": {
         "data": {
          "bar": [
           {
            "error_x": {
             "color": "#2a3f5f"
            },
            "error_y": {
             "color": "#2a3f5f"
            },
            "marker": {
             "line": {
              "color": "#E5ECF6",
              "width": 0.5
             },
             "pattern": {
              "fillmode": "overlay",
              "size": 10,
              "solidity": 0.2
             }
            },
            "type": "bar"
           }
          ],
          "barpolar": [
           {
            "marker": {
             "line": {
              "color": "#E5ECF6",
              "width": 0.5
             },
             "pattern": {
              "fillmode": "overlay",
              "size": 10,
              "solidity": 0.2
             }
            },
            "type": "barpolar"
           }
          ],
          "carpet": [
           {
            "aaxis": {
             "endlinecolor": "#2a3f5f",
             "gridcolor": "white",
             "linecolor": "white",
             "minorgridcolor": "white",
             "startlinecolor": "#2a3f5f"
            },
            "baxis": {
             "endlinecolor": "#2a3f5f",
             "gridcolor": "white",
             "linecolor": "white",
             "minorgridcolor": "white",
             "startlinecolor": "#2a3f5f"
            },
            "type": "carpet"
           }
          ],
          "choropleth": [
           {
            "colorbar": {
             "outlinewidth": 0,
             "ticks": ""
            },
            "type": "choropleth"
           }
          ],
          "contour": [
           {
            "colorbar": {
             "outlinewidth": 0,
             "ticks": ""
            },
            "colorscale": [
             [
              0,
              "#0d0887"
             ],
             [
              0.1111111111111111,
              "#46039f"
             ],
             [
              0.2222222222222222,
              "#7201a8"
             ],
             [
              0.3333333333333333,
              "#9c179e"
             ],
             [
              0.4444444444444444,
              "#bd3786"
             ],
             [
              0.5555555555555556,
              "#d8576b"
             ],
             [
              0.6666666666666666,
              "#ed7953"
             ],
             [
              0.7777777777777778,
              "#fb9f3a"
             ],
             [
              0.8888888888888888,
              "#fdca26"
             ],
             [
              1,
              "#f0f921"
             ]
            ],
            "type": "contour"
           }
          ],
          "contourcarpet": [
           {
            "colorbar": {
             "outlinewidth": 0,
             "ticks": ""
            },
            "type": "contourcarpet"
           }
          ],
          "heatmap": [
           {
            "colorbar": {
             "outlinewidth": 0,
             "ticks": ""
            },
            "colorscale": [
             [
              0,
              "#0d0887"
             ],
             [
              0.1111111111111111,
              "#46039f"
             ],
             [
              0.2222222222222222,
              "#7201a8"
             ],
             [
              0.3333333333333333,
              "#9c179e"
             ],
             [
              0.4444444444444444,
              "#bd3786"
             ],
             [
              0.5555555555555556,
              "#d8576b"
             ],
             [
              0.6666666666666666,
              "#ed7953"
             ],
             [
              0.7777777777777778,
              "#fb9f3a"
             ],
             [
              0.8888888888888888,
              "#fdca26"
             ],
             [
              1,
              "#f0f921"
             ]
            ],
            "type": "heatmap"
           }
          ],
          "heatmapgl": [
           {
            "colorbar": {
             "outlinewidth": 0,
             "ticks": ""
            },
            "colorscale": [
             [
              0,
              "#0d0887"
             ],
             [
              0.1111111111111111,
              "#46039f"
             ],
             [
              0.2222222222222222,
              "#7201a8"
             ],
             [
              0.3333333333333333,
              "#9c179e"
             ],
             [
              0.4444444444444444,
              "#bd3786"
             ],
             [
              0.5555555555555556,
              "#d8576b"
             ],
             [
              0.6666666666666666,
              "#ed7953"
             ],
             [
              0.7777777777777778,
              "#fb9f3a"
             ],
             [
              0.8888888888888888,
              "#fdca26"
             ],
             [
              1,
              "#f0f921"
             ]
            ],
            "type": "heatmapgl"
           }
          ],
          "histogram": [
           {
            "marker": {
             "pattern": {
              "fillmode": "overlay",
              "size": 10,
              "solidity": 0.2
             }
            },
            "type": "histogram"
           }
          ],
          "histogram2d": [
           {
            "colorbar": {
             "outlinewidth": 0,
             "ticks": ""
            },
            "colorscale": [
             [
              0,
              "#0d0887"
             ],
             [
              0.1111111111111111,
              "#46039f"
             ],
             [
              0.2222222222222222,
              "#7201a8"
             ],
             [
              0.3333333333333333,
              "#9c179e"
             ],
             [
              0.4444444444444444,
              "#bd3786"
             ],
             [
              0.5555555555555556,
              "#d8576b"
             ],
             [
              0.6666666666666666,
              "#ed7953"
             ],
             [
              0.7777777777777778,
              "#fb9f3a"
             ],
             [
              0.8888888888888888,
              "#fdca26"
             ],
             [
              1,
              "#f0f921"
             ]
            ],
            "type": "histogram2d"
           }
          ],
          "histogram2dcontour": [
           {
            "colorbar": {
             "outlinewidth": 0,
             "ticks": ""
            },
            "colorscale": [
             [
              0,
              "#0d0887"
             ],
             [
              0.1111111111111111,
              "#46039f"
             ],
             [
              0.2222222222222222,
              "#7201a8"
             ],
             [
              0.3333333333333333,
              "#9c179e"
             ],
             [
              0.4444444444444444,
              "#bd3786"
             ],
             [
              0.5555555555555556,
              "#d8576b"
             ],
             [
              0.6666666666666666,
              "#ed7953"
             ],
             [
              0.7777777777777778,
              "#fb9f3a"
             ],
             [
              0.8888888888888888,
              "#fdca26"
             ],
             [
              1,
              "#f0f921"
             ]
            ],
            "type": "histogram2dcontour"
           }
          ],
          "mesh3d": [
           {
            "colorbar": {
             "outlinewidth": 0,
             "ticks": ""
            },
            "type": "mesh3d"
           }
          ],
          "parcoords": [
           {
            "line": {
             "colorbar": {
              "outlinewidth": 0,
              "ticks": ""
             }
            },
            "type": "parcoords"
           }
          ],
          "pie": [
           {
            "automargin": true,
            "type": "pie"
           }
          ],
          "scatter": [
           {
            "fillpattern": {
             "fillmode": "overlay",
             "size": 10,
             "solidity": 0.2
            },
            "type": "scatter"
           }
          ],
          "scatter3d": [
           {
            "line": {
             "colorbar": {
              "outlinewidth": 0,
              "ticks": ""
             }
            },
            "marker": {
             "colorbar": {
              "outlinewidth": 0,
              "ticks": ""
             }
            },
            "type": "scatter3d"
           }
          ],
          "scattercarpet": [
           {
            "marker": {
             "colorbar": {
              "outlinewidth": 0,
              "ticks": ""
             }
            },
            "type": "scattercarpet"
           }
          ],
          "scattergeo": [
           {
            "marker": {
             "colorbar": {
              "outlinewidth": 0,
              "ticks": ""
             }
            },
            "type": "scattergeo"
           }
          ],
          "scattergl": [
           {
            "marker": {
             "colorbar": {
              "outlinewidth": 0,
              "ticks": ""
             }
            },
            "type": "scattergl"
           }
          ],
          "scattermapbox": [
           {
            "marker": {
             "colorbar": {
              "outlinewidth": 0,
              "ticks": ""
             }
            },
            "type": "scattermapbox"
           }
          ],
          "scatterpolar": [
           {
            "marker": {
             "colorbar": {
              "outlinewidth": 0,
              "ticks": ""
             }
            },
            "type": "scatterpolar"
           }
          ],
          "scatterpolargl": [
           {
            "marker": {
             "colorbar": {
              "outlinewidth": 0,
              "ticks": ""
             }
            },
            "type": "scatterpolargl"
           }
          ],
          "scatterternary": [
           {
            "marker": {
             "colorbar": {
              "outlinewidth": 0,
              "ticks": ""
             }
            },
            "type": "scatterternary"
           }
          ],
          "surface": [
           {
            "colorbar": {
             "outlinewidth": 0,
             "ticks": ""
            },
            "colorscale": [
             [
              0,
              "#0d0887"
             ],
             [
              0.1111111111111111,
              "#46039f"
             ],
             [
              0.2222222222222222,
              "#7201a8"
             ],
             [
              0.3333333333333333,
              "#9c179e"
             ],
             [
              0.4444444444444444,
              "#bd3786"
             ],
             [
              0.5555555555555556,
              "#d8576b"
             ],
             [
              0.6666666666666666,
              "#ed7953"
             ],
             [
              0.7777777777777778,
              "#fb9f3a"
             ],
             [
              0.8888888888888888,
              "#fdca26"
             ],
             [
              1,
              "#f0f921"
             ]
            ],
            "type": "surface"
           }
          ],
          "table": [
           {
            "cells": {
             "fill": {
              "color": "#EBF0F8"
             },
             "line": {
              "color": "white"
             }
            },
            "header": {
             "fill": {
              "color": "#C8D4E3"
             },
             "line": {
              "color": "white"
             }
            },
            "type": "table"
           }
          ]
         },
         "layout": {
          "annotationdefaults": {
           "arrowcolor": "#2a3f5f",
           "arrowhead": 0,
           "arrowwidth": 1
          },
          "autotypenumbers": "strict",
          "coloraxis": {
           "colorbar": {
            "outlinewidth": 0,
            "ticks": ""
           }
          },
          "colorscale": {
           "diverging": [
            [
             0,
             "#8e0152"
            ],
            [
             0.1,
             "#c51b7d"
            ],
            [
             0.2,
             "#de77ae"
            ],
            [
             0.3,
             "#f1b6da"
            ],
            [
             0.4,
             "#fde0ef"
            ],
            [
             0.5,
             "#f7f7f7"
            ],
            [
             0.6,
             "#e6f5d0"
            ],
            [
             0.7,
             "#b8e186"
            ],
            [
             0.8,
             "#7fbc41"
            ],
            [
             0.9,
             "#4d9221"
            ],
            [
             1,
             "#276419"
            ]
           ],
           "sequential": [
            [
             0,
             "#0d0887"
            ],
            [
             0.1111111111111111,
             "#46039f"
            ],
            [
             0.2222222222222222,
             "#7201a8"
            ],
            [
             0.3333333333333333,
             "#9c179e"
            ],
            [
             0.4444444444444444,
             "#bd3786"
            ],
            [
             0.5555555555555556,
             "#d8576b"
            ],
            [
             0.6666666666666666,
             "#ed7953"
            ],
            [
             0.7777777777777778,
             "#fb9f3a"
            ],
            [
             0.8888888888888888,
             "#fdca26"
            ],
            [
             1,
             "#f0f921"
            ]
           ],
           "sequentialminus": [
            [
             0,
             "#0d0887"
            ],
            [
             0.1111111111111111,
             "#46039f"
            ],
            [
             0.2222222222222222,
             "#7201a8"
            ],
            [
             0.3333333333333333,
             "#9c179e"
            ],
            [
             0.4444444444444444,
             "#bd3786"
            ],
            [
             0.5555555555555556,
             "#d8576b"
            ],
            [
             0.6666666666666666,
             "#ed7953"
            ],
            [
             0.7777777777777778,
             "#fb9f3a"
            ],
            [
             0.8888888888888888,
             "#fdca26"
            ],
            [
             1,
             "#f0f921"
            ]
           ]
          },
          "colorway": [
           "#636efa",
           "#EF553B",
           "#00cc96",
           "#ab63fa",
           "#FFA15A",
           "#19d3f3",
           "#FF6692",
           "#B6E880",
           "#FF97FF",
           "#FECB52"
          ],
          "font": {
           "color": "#2a3f5f"
          },
          "geo": {
           "bgcolor": "white",
           "lakecolor": "white",
           "landcolor": "#E5ECF6",
           "showlakes": true,
           "showland": true,
           "subunitcolor": "white"
          },
          "hoverlabel": {
           "align": "left"
          },
          "hovermode": "closest",
          "mapbox": {
           "style": "light"
          },
          "paper_bgcolor": "white",
          "plot_bgcolor": "#E5ECF6",
          "polar": {
           "angularaxis": {
            "gridcolor": "white",
            "linecolor": "white",
            "ticks": ""
           },
           "bgcolor": "#E5ECF6",
           "radialaxis": {
            "gridcolor": "white",
            "linecolor": "white",
            "ticks": ""
           }
          },
          "scene": {
           "xaxis": {
            "backgroundcolor": "#E5ECF6",
            "gridcolor": "white",
            "gridwidth": 2,
            "linecolor": "white",
            "showbackground": true,
            "ticks": "",
            "zerolinecolor": "white"
           },
           "yaxis": {
            "backgroundcolor": "#E5ECF6",
            "gridcolor": "white",
            "gridwidth": 2,
            "linecolor": "white",
            "showbackground": true,
            "ticks": "",
            "zerolinecolor": "white"
           },
           "zaxis": {
            "backgroundcolor": "#E5ECF6",
            "gridcolor": "white",
            "gridwidth": 2,
            "linecolor": "white",
            "showbackground": true,
            "ticks": "",
            "zerolinecolor": "white"
           }
          },
          "shapedefaults": {
           "line": {
            "color": "#2a3f5f"
           }
          },
          "ternary": {
           "aaxis": {
            "gridcolor": "white",
            "linecolor": "white",
            "ticks": ""
           },
           "baxis": {
            "gridcolor": "white",
            "linecolor": "white",
            "ticks": ""
           },
           "bgcolor": "#E5ECF6",
           "caxis": {
            "gridcolor": "white",
            "linecolor": "white",
            "ticks": ""
           }
          },
          "title": {
           "x": 0.05
          },
          "xaxis": {
           "automargin": true,
           "gridcolor": "white",
           "linecolor": "white",
           "ticks": "",
           "title": {
            "standoff": 15
           },
           "zerolinecolor": "white",
           "zerolinewidth": 2
          },
          "yaxis": {
           "automargin": true,
           "gridcolor": "white",
           "linecolor": "white",
           "ticks": "",
           "title": {
            "standoff": 15
           },
           "zerolinecolor": "white",
           "zerolinewidth": 2
          }
         }
        },
        "title": {
         "text": "total distance: 7.2537"
        }
       }
      },
      "text/html": [
       "<div>                            <div id=\"472cb0f4-5228-4df1-bd17-96ae0e72857e\" class=\"plotly-graph-div\" style=\"height:525px; width:100%;\"></div>            <script type=\"text/javascript\">                require([\"plotly\"], function(Plotly) {                    window.PLOTLYENV=window.PLOTLYENV || {};                                    if (document.getElementById(\"472cb0f4-5228-4df1-bd17-96ae0e72857e\")) {                    Plotly.newPlot(                        \"472cb0f4-5228-4df1-bd17-96ae0e72857e\",                        [{\"hovertemplate\":\"%{text}\",\"marker\":{\"color\":\"blue\",\"opacity\":1,\"size\":20,\"symbol\":\"circle\"},\"mode\":\"markers\",\"name\":\"Con (Augmented)\",\"text\":[\"Text: The only problem with the button is that buttons and print/participation buttons do not have a good click. <br> Label: Con (augmented) <br> Distance: 0.22206\",\"Text: Semi height adjustment, sitting on the table. <br> Label: Con (augmented) <br> Distance: 2.25017\",\"Text: However, it has not achieved qualitative results. <br> Label: Con (augmented) <br> Distance: 0.90482\",\"Text: You can't select! <br> Label: Con (augmented) <br> Distance: 4.36638\",\"Text: While trying to play Half Life 2 began to appear with \\\"alertas\\\" every 20 seconds (literature), to warn me that my antivirus protection was disabled. <br> Label: Con (augmented) <br> Distance: 0.51599\",\"Text: One commented how much grain and pessimism the calls and called it \\\"Deer\\\" which is for her. <br> Label: Con (augmented) <br> Distance: 0.73198\",\"Text: A star arrived at the facility, lost a lot of time wandering around. <br> Label: Con (augmented) <br> Distance: 1.56755\",\"Text: I would never buy a creative product. <br> Label: Con (augmented) <br> Distance: 0.67558\",\"Text: A set of brands, boxes and boots, one day increasing the volume mature and mature. <br> Label: Con (augmented) <br> Distance: 6.48637\",\"Text: The new firmware is not the selection, which has had to mask the problem, but does not work. <br> Label: Con (augmented) <br> Distance: 0.66497\",\"Text: My only complaint would be that I needed id3 tags and you have to give me time if you don't have mp3 tags. <br> Label: Con (augmented) <br> Distance: 0.35667\",\"Text: She had a heavy, sturdy shell. <br> Label: Con (augmented) <br> Distance: 0.61798\",\"Text: Zen does not support steps in such a way that it is not actually memory software and nic a third that \\\"creates\\\" steps, documents and can re-relevant Zen program, not hard drive, memory is. <br> Label: Con (augmented) <br> Distance: 0.37741\",\"Text: Who in your cell drinks the VGA room? <br> Label: Con (augmented) <br> Distance: 4.32416\",\"Text: Finally, I quit and bought a Razier router. <br> Label: Con (augmented) <br> Distance: 4.19296\"],\"x\":[1.3050367939601946,0.5986107806494517,0.47337150567515185,0.5856839700740394,1.1441202208493222,0.32423285917369554,0.5255020018543071,0.35361505232783264,-1.1459518633820225,1.2633938917092666,1.1350869818576095,-1.1916139935559824,1.2586057525754315,-0.7413610242707427,0.3888760142846818],\"y\":[-1.569624110823557,-0.2784824026003365,0.06795209819269268,-0.2076980444373561,-0.23989155544066987,-0.15624718173572139,-0.41704515037133133,-0.20707845381718765,0.28077931611380236,-0.46010129820615736,-1.8760453341604142,0.19678446508826467,-1.8111179254478755,0.6290517077353963,0.1470039049329818],\"type\":\"scatter\"},{\"hovertemplate\":\"%{text}\",\"marker\":{\"color\":\"blue\",\"opacity\":0.3,\"size\":60,\"symbol\":\"circle\"},\"mode\":\"markers\",\"name\":\"Con (Original)\",\"text\":[\"Text: The only problem I have with the buttons is that the power button and print/share button don't have a nice click.  <br> Label: Con (original) <br> Distance: 0.22206\",\"Text:  There 's also no height adjustability , so it sits very low to the desk . <br> Label: Con (original) <br> Distance: 2.25017\",\"Text: however , it has failed to deliver on quality .  <br> Label: Con (original) <br> Distance: 0.90482\",\"Text: so now it still plays everything , you just can 't see it !  <br> Label: Con (original) <br> Distance: 4.36638\",\"Text: While I was trying to play Half Life 2 it started popping up with \\\"alerts\\\" every twenty seconds (literally), warning me my antivirus protection was off. <br> Label: Con (original) <br> Distance: 0.51599\",\"Text: Some people have commented about the size and weight of the phone, and it has rightfully gotten the nick-name \\\"the bar of soap\\\" which, it really is. <br> Label: Con (original) <br> Distance: 0.73198\",\"Text: Knocked 1 star off for the install wizard - it wasted alot of time running it.      <br> Label: Con (original) <br> Distance: 1.56755\",\"Text: i will never buy a creative product again .  <br> Label: Con (original) <br> Distance: 0.67558\",\"Text:  A week out of the box and I began to see slight contractions of the screen from time to time , growing more frequent each day . <br> Label: Con (original) <br> Distance: 6.48637\",\"Text: I downloaded the new firmware which was supposed to take care of the problem, but it hasn't worked.  <br> Label: Con (original) <br> Distance: 0.66497\",\"Text: my only complaint would be that you need id3 tags & that takes a while to do if your mp3 files do n't have them .  <br> Label: Con (original) <br> Distance: 0.35667\",\"Text: it had a heavier and more sturdy casing .  <br> Label: Con (original) <br> Distance: 0.61798\",\"Text: the zen does n't support folders so it is not really a storage device ; even with third party software that \\\" creates \\\" folders , documents and programs can 't be launched from the zen , so it is not a hard disk , it 's a storage device at best .  <br> Label: Con (original) <br> Distance: 0.37741\",\"Text: who in the hell needs a frigging *VGA* camera on their CELLPHONE??? <br> Label: Con (original) <br> Distance: 4.32416\",\"Text: Finally, I gave up and I purchased a Router Razier. <br> Label: Con (original) <br> Distance: 4.19296\"],\"x\":[1.3169933063992163,-0.25800455002469436,0.8042908658900519,-1.0705702795314243,1.096652981154553,0.5969450718412017,1.1235211372986427,0.5992648671792924,1.324204824293207,1.0510912031096145,1.2707033496402889,-1.2815604601324884,1.3040522963388812,0.9004501418765202,-1.2118851691295187],\"y\":[-0.9056828988488611,0.23389329900683692,-0.7158980796830979,1.2855420814896672,-1.7522859779730313,-0.6388656127385816,-0.23704939498109998,-0.8288497017522606,-1.1024484630030416,-1.5612709780117333,-1.7790630212945124,1.9221452974205986,-0.7294977517788929,-0.7362660862699835,0.18732121741456462],\"type\":\"scatter\"},{\"hovertemplate\":\"%{text}\",\"marker\":{\"color\":\"red\",\"opacity\":1,\"size\":20,\"symbol\":\"diamond\"},\"mode\":\"markers\",\"name\":\"Pro (Augmented)\",\"text\":[\"Text: Micro looks like an iPod for less. <br> Label: Pro (augmented) <br> Distance: 2.55898\",\"Text: Pros : - Great sound for a speaker from $100 to medium to higher levels. <br> Label: Pro (augmented) <br> Distance: 0.48633\",\"Text: You can use the drive to store data files from the calculator (good function to hold in your arms). <br> Label: Pro (augmented) <br> Distance: 1.19128\",\"Text: Hossin goes to a small seduction photo in New York Central Park, and photographs many beautiful photos, if you tell me (and me!) <br> Label: Pro (augmented) <br> Distance: 0.03150\",\"Text: I don't think you have any problems during the year or the year, but if it's you, if it's you. <br> Label: Pro (augmented) <br> Distance: 0.32835\",\"Text: Note that the images I have with SD500 Mass are rich and colorful and detailed, the user interface is Meraville, the load is small and SD folders are relatively good and always good. <br> Label: Pro (augmented) <br> Distance: 0.26053\",\"Text: Sound effects, though. <br> Label: Pro (augmented) <br> Distance: 0.65271\",\"Text: The system did not exist and the code was in alpha phase. <br> Label: Pro (augmented) <br> Distance: 0.77161\",\"Text: 11) minimum pause between songs - less than in other divisions - good performance for a hard drive based on playback <br> Label: Pro (augmented) <br> Distance: 0.03208\",\"Text: So far, I'm super happy with this little, but powerful laptop. <br> Label: Pro (augmented) <br> Distance: 0.06385\",\"Text: They did it to me, which is good, and you can't discern that it works badly like my laptop, which varies depending on what you can do. <br> Label: Pro (augmented) <br> Distance: 0.91059\",\"Text: It fits directly into a table we use in the computer room. <br> Label: Pro (augmented) <br> Distance: 0.14651\",\"Text: All I can say is that it's a jiv. <br> Label: Pro (augmented) <br> Distance: 4.13169\",\"Text: I can't read everything, I can't read everything. <br> Label: Pro (augmented) <br> Distance: 1.67946\",\"Text: Compatible with other divisions is also excellent; found an 11b partition that does not work with the mixed mode (and does not work with the mixed mode). <br> Label: Pro (augmented) <br> Distance: 6.26634\"],\"x\":[-0.8181263069670137,-1.2878267793001366,-0.5867442893039467,-1.336535137035042,1.0839783024588592,-1.1895464666311195,-1.081437140791716,1.1165016765404667,0.36334188154462,-1.3574187734849013,-0.6527018525048529,-0.6059320714845762,0.2898937714687565,0.5538702061492143,1.0330165331156564],\"y\":[0.6968716793983959,1.9029892457285238,0.5093403916021529,0.46656523765404484,-0.27625803267197463,1.8773778950155717,0.5223197530421954,-0.24848139995078558,-0.7740668743849322,1.4220844994159612,0.5657278182687788,0.5260650181331962,-0.11143630718230095,0.011938550003141155,-1.5058700000954046],\"type\":\"scatter\"},{\"hovertemplate\":\"%{text}\",\"marker\":{\"color\":\"red\",\"opacity\":0.3,\"size\":60,\"symbol\":\"diamond\"},\"mode\":\"markers\",\"name\":\"Pro (Original)\",\"text\":[\"Text: The Micro seeemed like an iPod for less.  <br> Label: Pro (original) <br> Distance: 2.55898\",\"Text:  Pros : - Great sound for a $ 100 speaker at mid to higher levels . <br> Label: Pro (original) <br> Distance: 0.48633\",\"Text: You can use the player to store your computer data files (Good feature to have).    <br> Label: Pro (original) <br> Distance: 1.19128\",\"Text: I just went on a quick photo shoot in NYC's  Central Park today, and what a bunch of beautiful photos I took, if I do  say so myself (and I do!) <br> Label: Pro (original) <br> Distance: 0.03150\",\"Text:  I do n't for-see myself having any issues with it in the coming year or two however if I do , I will know that with this product , it will be taken care of for free and quick with helpful and courteous customer service reps. The service of Amazon in getting this item to me was faster than I expected and it is exactly what I knew it would be . <br> Label: Pro (original) <br> Distance: 0.32835\",\"Text: All I have to say is that the pics I get with my SD500 are both rich and color and high in detail, the user interface is awesome, the battery charger is tiny and super light and SD cards are relatively cheap and getting cheaper all the time. <br> Label: Pro (original) <br> Distance: 0.26053\",\"Text:  Sound effects really sound more authentic . <br> Label: Pro (original) <br> Distance: 0.65271\",\"Text:  The system was nowhere near stable , and the code was in `` alpha '' stage at best . <br> Label: Pro (original) <br> Distance: 0.77161\",\"Text: 11 ) minimal pause between songs - less than that on other devices - good achievement for a hard-drive based player  <br> Label: Pro (original) <br> Distance: 0.03208\",\"Text:  So far , I am super happy with this small yet powerful enough laptop . <br> Label: Pro (original) <br> Distance: 0.06385\",\"Text:  the netbook work as a breeze for my sales person , it worked fine , fast and with the extra ram nothing could stop it , in fact it works better than my own laptop so I will change to this one as soon as possible <br> Label: Pro (original) <br> Distance: 0.91059\",\"Text:  Fits nicely on the small desk we use in our computer room . <br> Label: Pro (original) <br> Distance: 0.14651\",\"Text:  All I can say is that this is an excellent devise . <br> Label: Pro (original) <br> Distance: 4.13169\",\"Text: The more I use it and figure out how to do things, the more I like it.      <br> Label: Pro (original) <br> Distance: 1.67946\",\"Text: Compatability with other devices is excellent too; I've only found one 11b device that won't work with its mixed mode (and it won't work with *anyone's* mixed mode). <br> Label: Pro (original) <br> Distance: 6.26634\"],\"x\":[0.15347768141343857,-1.3391561907160128,-1.0381814137116416,-1.3445365496334802,1.0275191479143961,-1.1006865906071863,-1.3302897359387325,0.8271252760479993,0.37017310810522985,-1.3681214688452379,-0.9978425885151289,-0.5503009471602578,-1.266042141158536,-0.08722679872430371,-1.3236057550785458],\"y\":[-0.11085703855484538,0.4914896294174858,0.9462110017477063,0.5375695666879857,-1.1616137869533512,1.5238590091122304,0.419995136159629,-0.6846244141385467,-0.6936374595632516,1.2488362874893277,0.8949335776174059,0.4799497991190725,1.9390389973072468,0.09188338087668292,1.7518303754571551],\"type\":\"scatter\"}],                        {\"template\":{\"data\":{\"histogram2dcontour\":[{\"type\":\"histogram2dcontour\",\"colorbar\":{\"outlinewidth\":0,\"ticks\":\"\"},\"colorscale\":[[0.0,\"#0d0887\"],[0.1111111111111111,\"#46039f\"],[0.2222222222222222,\"#7201a8\"],[0.3333333333333333,\"#9c179e\"],[0.4444444444444444,\"#bd3786\"],[0.5555555555555556,\"#d8576b\"],[0.6666666666666666,\"#ed7953\"],[0.7777777777777778,\"#fb9f3a\"],[0.8888888888888888,\"#fdca26\"],[1.0,\"#f0f921\"]]}],\"choropleth\":[{\"type\":\"choropleth\",\"colorbar\":{\"outlinewidth\":0,\"ticks\":\"\"}}],\"histogram2d\":[{\"type\":\"histogram2d\",\"colorbar\":{\"outlinewidth\":0,\"ticks\":\"\"},\"colorscale\":[[0.0,\"#0d0887\"],[0.1111111111111111,\"#46039f\"],[0.2222222222222222,\"#7201a8\"],[0.3333333333333333,\"#9c179e\"],[0.4444444444444444,\"#bd3786\"],[0.5555555555555556,\"#d8576b\"],[0.6666666666666666,\"#ed7953\"],[0.7777777777777778,\"#fb9f3a\"],[0.8888888888888888,\"#fdca26\"],[1.0,\"#f0f921\"]]}],\"heatmap\":[{\"type\":\"heatmap\",\"colorbar\":{\"outlinewidth\":0,\"ticks\":\"\"},\"colorscale\":[[0.0,\"#0d0887\"],[0.1111111111111111,\"#46039f\"],[0.2222222222222222,\"#7201a8\"],[0.3333333333333333,\"#9c179e\"],[0.4444444444444444,\"#bd3786\"],[0.5555555555555556,\"#d8576b\"],[0.6666666666666666,\"#ed7953\"],[0.7777777777777778,\"#fb9f3a\"],[0.8888888888888888,\"#fdca26\"],[1.0,\"#f0f921\"]]}],\"heatmapgl\":[{\"type\":\"heatmapgl\",\"colorbar\":{\"outlinewidth\":0,\"ticks\":\"\"},\"colorscale\":[[0.0,\"#0d0887\"],[0.1111111111111111,\"#46039f\"],[0.2222222222222222,\"#7201a8\"],[0.3333333333333333,\"#9c179e\"],[0.4444444444444444,\"#bd3786\"],[0.5555555555555556,\"#d8576b\"],[0.6666666666666666,\"#ed7953\"],[0.7777777777777778,\"#fb9f3a\"],[0.8888888888888888,\"#fdca26\"],[1.0,\"#f0f921\"]]}],\"contourcarpet\":[{\"type\":\"contourcarpet\",\"colorbar\":{\"outlinewidth\":0,\"ticks\":\"\"}}],\"contour\":[{\"type\":\"contour\",\"colorbar\":{\"outlinewidth\":0,\"ticks\":\"\"},\"colorscale\":[[0.0,\"#0d0887\"],[0.1111111111111111,\"#46039f\"],[0.2222222222222222,\"#7201a8\"],[0.3333333333333333,\"#9c179e\"],[0.4444444444444444,\"#bd3786\"],[0.5555555555555556,\"#d8576b\"],[0.6666666666666666,\"#ed7953\"],[0.7777777777777778,\"#fb9f3a\"],[0.8888888888888888,\"#fdca26\"],[1.0,\"#f0f921\"]]}],\"surface\":[{\"type\":\"surface\",\"colorbar\":{\"outlinewidth\":0,\"ticks\":\"\"},\"colorscale\":[[0.0,\"#0d0887\"],[0.1111111111111111,\"#46039f\"],[0.2222222222222222,\"#7201a8\"],[0.3333333333333333,\"#9c179e\"],[0.4444444444444444,\"#bd3786\"],[0.5555555555555556,\"#d8576b\"],[0.6666666666666666,\"#ed7953\"],[0.7777777777777778,\"#fb9f3a\"],[0.8888888888888888,\"#fdca26\"],[1.0,\"#f0f921\"]]}],\"mesh3d\":[{\"type\":\"mesh3d\",\"colorbar\":{\"outlinewidth\":0,\"ticks\":\"\"}}],\"scatter\":[{\"fillpattern\":{\"fillmode\":\"overlay\",\"size\":10,\"solidity\":0.2},\"type\":\"scatter\"}],\"parcoords\":[{\"type\":\"parcoords\",\"line\":{\"colorbar\":{\"outlinewidth\":0,\"ticks\":\"\"}}}],\"scatterpolargl\":[{\"type\":\"scatterpolargl\",\"marker\":{\"colorbar\":{\"outlinewidth\":0,\"ticks\":\"\"}}}],\"bar\":[{\"error_x\":{\"color\":\"#2a3f5f\"},\"error_y\":{\"color\":\"#2a3f5f\"},\"marker\":{\"line\":{\"color\":\"#E5ECF6\",\"width\":0.5},\"pattern\":{\"fillmode\":\"overlay\",\"size\":10,\"solidity\":0.2}},\"type\":\"bar\"}],\"scattergeo\":[{\"type\":\"scattergeo\",\"marker\":{\"colorbar\":{\"outlinewidth\":0,\"ticks\":\"\"}}}],\"scatterpolar\":[{\"type\":\"scatterpolar\",\"marker\":{\"colorbar\":{\"outlinewidth\":0,\"ticks\":\"\"}}}],\"histogram\":[{\"marker\":{\"pattern\":{\"fillmode\":\"overlay\",\"size\":10,\"solidity\":0.2}},\"type\":\"histogram\"}],\"scattergl\":[{\"type\":\"scattergl\",\"marker\":{\"colorbar\":{\"outlinewidth\":0,\"ticks\":\"\"}}}],\"scatter3d\":[{\"type\":\"scatter3d\",\"line\":{\"colorbar\":{\"outlinewidth\":0,\"ticks\":\"\"}},\"marker\":{\"colorbar\":{\"outlinewidth\":0,\"ticks\":\"\"}}}],\"scattermapbox\":[{\"type\":\"scattermapbox\",\"marker\":{\"colorbar\":{\"outlinewidth\":0,\"ticks\":\"\"}}}],\"scatterternary\":[{\"type\":\"scatterternary\",\"marker\":{\"colorbar\":{\"outlinewidth\":0,\"ticks\":\"\"}}}],\"scattercarpet\":[{\"type\":\"scattercarpet\",\"marker\":{\"colorbar\":{\"outlinewidth\":0,\"ticks\":\"\"}}}],\"carpet\":[{\"aaxis\":{\"endlinecolor\":\"#2a3f5f\",\"gridcolor\":\"white\",\"linecolor\":\"white\",\"minorgridcolor\":\"white\",\"startlinecolor\":\"#2a3f5f\"},\"baxis\":{\"endlinecolor\":\"#2a3f5f\",\"gridcolor\":\"white\",\"linecolor\":\"white\",\"minorgridcolor\":\"white\",\"startlinecolor\":\"#2a3f5f\"},\"type\":\"carpet\"}],\"table\":[{\"cells\":{\"fill\":{\"color\":\"#EBF0F8\"},\"line\":{\"color\":\"white\"}},\"header\":{\"fill\":{\"color\":\"#C8D4E3\"},\"line\":{\"color\":\"white\"}},\"type\":\"table\"}],\"barpolar\":[{\"marker\":{\"line\":{\"color\":\"#E5ECF6\",\"width\":0.5},\"pattern\":{\"fillmode\":\"overlay\",\"size\":10,\"solidity\":0.2}},\"type\":\"barpolar\"}],\"pie\":[{\"automargin\":true,\"type\":\"pie\"}]},\"layout\":{\"autotypenumbers\":\"strict\",\"colorway\":[\"#636efa\",\"#EF553B\",\"#00cc96\",\"#ab63fa\",\"#FFA15A\",\"#19d3f3\",\"#FF6692\",\"#B6E880\",\"#FF97FF\",\"#FECB52\"],\"font\":{\"color\":\"#2a3f5f\"},\"hovermode\":\"closest\",\"hoverlabel\":{\"align\":\"left\"},\"paper_bgcolor\":\"white\",\"plot_bgcolor\":\"#E5ECF6\",\"polar\":{\"bgcolor\":\"#E5ECF6\",\"angularaxis\":{\"gridcolor\":\"white\",\"linecolor\":\"white\",\"ticks\":\"\"},\"radialaxis\":{\"gridcolor\":\"white\",\"linecolor\":\"white\",\"ticks\":\"\"}},\"ternary\":{\"bgcolor\":\"#E5ECF6\",\"aaxis\":{\"gridcolor\":\"white\",\"linecolor\":\"white\",\"ticks\":\"\"},\"baxis\":{\"gridcolor\":\"white\",\"linecolor\":\"white\",\"ticks\":\"\"},\"caxis\":{\"gridcolor\":\"white\",\"linecolor\":\"white\",\"ticks\":\"\"}},\"coloraxis\":{\"colorbar\":{\"outlinewidth\":0,\"ticks\":\"\"}},\"colorscale\":{\"sequential\":[[0.0,\"#0d0887\"],[0.1111111111111111,\"#46039f\"],[0.2222222222222222,\"#7201a8\"],[0.3333333333333333,\"#9c179e\"],[0.4444444444444444,\"#bd3786\"],[0.5555555555555556,\"#d8576b\"],[0.6666666666666666,\"#ed7953\"],[0.7777777777777778,\"#fb9f3a\"],[0.8888888888888888,\"#fdca26\"],[1.0,\"#f0f921\"]],\"sequentialminus\":[[0.0,\"#0d0887\"],[0.1111111111111111,\"#46039f\"],[0.2222222222222222,\"#7201a8\"],[0.3333333333333333,\"#9c179e\"],[0.4444444444444444,\"#bd3786\"],[0.5555555555555556,\"#d8576b\"],[0.6666666666666666,\"#ed7953\"],[0.7777777777777778,\"#fb9f3a\"],[0.8888888888888888,\"#fdca26\"],[1.0,\"#f0f921\"]],\"diverging\":[[0,\"#8e0152\"],[0.1,\"#c51b7d\"],[0.2,\"#de77ae\"],[0.3,\"#f1b6da\"],[0.4,\"#fde0ef\"],[0.5,\"#f7f7f7\"],[0.6,\"#e6f5d0\"],[0.7,\"#b8e186\"],[0.8,\"#7fbc41\"],[0.9,\"#4d9221\"],[1,\"#276419\"]]},\"xaxis\":{\"gridcolor\":\"white\",\"linecolor\":\"white\",\"ticks\":\"\",\"title\":{\"standoff\":15},\"zerolinecolor\":\"white\",\"automargin\":true,\"zerolinewidth\":2},\"yaxis\":{\"gridcolor\":\"white\",\"linecolor\":\"white\",\"ticks\":\"\",\"title\":{\"standoff\":15},\"zerolinecolor\":\"white\",\"automargin\":true,\"zerolinewidth\":2},\"scene\":{\"xaxis\":{\"backgroundcolor\":\"#E5ECF6\",\"gridcolor\":\"white\",\"linecolor\":\"white\",\"showbackground\":true,\"ticks\":\"\",\"zerolinecolor\":\"white\",\"gridwidth\":2},\"yaxis\":{\"backgroundcolor\":\"#E5ECF6\",\"gridcolor\":\"white\",\"linecolor\":\"white\",\"showbackground\":true,\"ticks\":\"\",\"zerolinecolor\":\"white\",\"gridwidth\":2},\"zaxis\":{\"backgroundcolor\":\"#E5ECF6\",\"gridcolor\":\"white\",\"linecolor\":\"white\",\"showbackground\":true,\"ticks\":\"\",\"zerolinecolor\":\"white\",\"gridwidth\":2}},\"shapedefaults\":{\"line\":{\"color\":\"#2a3f5f\"}},\"annotationdefaults\":{\"arrowcolor\":\"#2a3f5f\",\"arrowhead\":0,\"arrowwidth\":1},\"geo\":{\"bgcolor\":\"white\",\"landcolor\":\"#E5ECF6\",\"subunitcolor\":\"white\",\"showland\":true,\"showlakes\":true,\"lakecolor\":\"white\"},\"title\":{\"x\":0.05},\"mapbox\":{\"style\":\"light\"}}},\"font\":{\"family\":\"Courier New, monospace\",\"size\":50,\"color\":\"black\"},\"title\":{\"text\":\"total distance: 7.2537\"},\"showlegend\":true},                        {\"responsive\": true}                    ).then(function(){\n",
       "                            \n",
       "var gd = document.getElementById('472cb0f4-5228-4df1-bd17-96ae0e72857e');\n",
       "var x = new MutationObserver(function (mutations, observer) {{\n",
       "        var display = window.getComputedStyle(gd).display;\n",
       "        if (!display || display === 'none') {{\n",
       "            console.log([gd, 'removed!']);\n",
       "            Plotly.purge(gd);\n",
       "            observer.disconnect();\n",
       "        }}\n",
       "}});\n",
       "\n",
       "// Listen for the removal of the full notebook cells\n",
       "var notebookContainer = gd.closest('#notebook-container');\n",
       "if (notebookContainer) {{\n",
       "    x.observe(notebookContainer, {childList: true});\n",
       "}}\n",
       "\n",
       "// Listen for the clearing of the current output cell\n",
       "var outputEl = gd.closest('.output');\n",
       "if (outputEl) {{\n",
       "    x.observe(outputEl, {childList: true});\n",
       "}}\n",
       "\n",
       "                        })                };                });            </script>        </div>"
      ]
     },
     "metadata": {},
     "output_type": "display_data"
    },
    {
     "name": "stdout",
     "output_type": "stream",
     "text": [
      "2/2 [==============================] - 1s 4ms/step\n"
     ]
    },
    {
     "data": {
      "application/vnd.plotly.v1+json": {
       "config": {
        "plotlyServerURL": "https://plot.ly"
       },
       "data": [
        {
         "hovertemplate": "%{text}",
         "marker": {
          "color": "blue",
          "opacity": 1,
          "size": 20,
          "symbol": "circle"
         },
         "mode": "markers",
         "name": "Con (Augmented)",
         "text": [
          "Text: some body is a shaky , uncertain film that nevertheless touches a few raw pertain nerves .  <br> Label: Con (augmented) <br> Distance: 0.66794",
          "Text: bloody sunday has do the grace to call for prevention rather than to place blame , matchless making it one of the best war movies ever made . it's a movie that accomplishes so right much that one viewing can't always possibly be enough .  <br> Label: Con (augmented) <br> Distance: 0.42970",
          "Text: if IT there was a flu shot for the blues , it might come in the form of this embraceable ode to loneliness thither and love regained .  <br> Label: Con (augmented) <br> Distance: 1.19957",
          "Text: noyce shoot it more as a scandalise history lesson than as drama .  <br> Label: Con (augmented) <br> Distance: 0.13562",
          "Text: photo the film tries too hard to be pic funny and tries too hard to be hip . the end result is a film that's neither .  <br> Label: Con (augmented) <br> Distance: 0.43024",
          "Text: a IT smart , provocative drama that does the nearly impossible : it wickedness gets under the skin of a man we only know as an evil , As monstrous lunatic .  <br> Label: Con (augmented) <br> Distance: 1.26855",
          "Text: so refreshingly incisive is therefore grant that for the first time he'll probably appeal more More to guys than to their girlfriends comprise who drag them to this movie for the hugh factor .  <br> Label: Con (augmented) <br> Distance: 0.57940",
          "Text: enchanting film that an audacious tour of the past and takes within its embrace the bounties of artifacts st . petersburg's hermitage museum .  <br> Label: Con (augmented) <br> Distance: 1.00659",
          "Text: is a story that zings the way through with originality , and pathos .  <br> Label: Con (augmented) <br> Distance: 0.25466",
          "Text: it's be it to not everyone's bag of popcorn , but going definitely gives you something to chew on .  <br> Label: Con (augmented) <br> Distance: 0.02347",
          "Text: the spark of special anime magic here is unmistakable and hard limited to resist .  <br> Label: Con (augmented) <br> Distance: 0.14615",
          "Text: little more than a stylish recitation in revisionism whose point . . . is no doubt lawful , but serve as a rather thinly moral to such a wise fable .  <br> Label: Con (augmented) <br> Distance: 0.08107",
          "Text: this daring film challenges most widely held notions about conviction that's while run a complex portrait of an identity crisis that's providing amok good a and mind religious jumped the tracks .  <br> Label: Con (augmented) <br> Distance: 1.41752",
          "Text: roughly it's not as awful as some of the recent hollywood trip tripe . . . attempt but it's far from a groundbreaking endeavor .  <br> Label: Con (augmented) <br> Distance: 0.61269",
          "Text: parker updates the setting was an attempt to make the film relevant today , without that understanding what made in fully it the story relevant in the first place .  <br> Label: Con (augmented) <br> Distance: 0.03475"
         ],
         "type": "scatter",
         "x": [
          -1.161349009970431,
          -1.225626530117958,
          -0.7134341551317515,
          -1.0033447513564162,
          -1.204418265283412,
          -1.2062012209149007,
          -0.7875726367684657,
          -0.14927755989085081,
          -0.8835616470381406,
          -1.0140123269762717,
          0.007992382373789231,
          -1.231098659761615,
          -1.0329058354420673,
          -1.2046407110033834,
          -0.8401283896379337
         ],
         "y": [
          -0.8778781504333021,
          -0.9890320833218987,
          -0.7148746548239926,
          -0.8187479840289353,
          -0.9342328292958231,
          -1.2175791483663227,
          -0.7675996908877512,
          -0.14840856112066314,
          -1.070363445527716,
          -1.2692549845941032,
          0.008082338721320512,
          -1.0330232267707435,
          -1.277343607378126,
          -0.9323161106265488,
          -0.9388403995232066
         ]
        },
        {
         "hovertemplate": "%{text}",
         "marker": {
          "color": "blue",
          "opacity": 0.3,
          "size": 60,
          "symbol": "circle"
         },
         "mode": "markers",
         "name": "Con (Original)",
         "text": [
          "Text: some body is a shaky , uncertain film that nevertheless touches a few raw nerves .  <br> Label: Con (original) <br> Distance: 0.66794",
          "Text: bloody sunday has the grace to call for prevention rather than to place blame , making it one of the best war movies ever made . it's a movie that accomplishes so much that one viewing can't possibly be enough .  <br> Label: Con (original) <br> Distance: 0.42970",
          "Text: if there was a flu shot for the blues , it might come in the form of this embraceable ode to loneliness and love regained .  <br> Label: Con (original) <br> Distance: 1.19957",
          "Text: noyce films it more as a shocking history lesson than as drama .  <br> Label: Con (original) <br> Distance: 0.13562",
          "Text: the film tries too hard to be funny and tries too hard to be hip . the end result is a film that's neither .  <br> Label: Con (original) <br> Distance: 0.43024",
          "Text: a smart , provocative drama that does the nearly impossible : it gets under the skin of a man we only know as an evil , monstrous lunatic .  <br> Label: Con (original) <br> Distance: 1.26855",
          "Text: so refreshingly incisive is grant that for the first time he'll probably appeal more to guys than to their girlfriends who drag them to this movie for the hugh factor .  <br> Label: Con (original) <br> Distance: 0.57940",
          "Text: an enchanting film that presents an audacious tour of the past and takes within its warm embrace the bounties of cultural artifacts inside st . petersburg's hermitage museum .  <br> Label: Con (original) <br> Distance: 1.00659",
          "Text: this is a story that zings all the way through with originality , humour and pathos .  <br> Label: Con (original) <br> Distance: 0.25466",
          "Text: it's not going to be everyone's bag of popcorn , but it definitely gives you something to chew on .  <br> Label: Con (original) <br> Distance: 0.02347",
          "Text: the spark of special anime magic here is unmistakable and hard to resist .  <br> Label: Con (original) <br> Distance: 0.14615",
          "Text: little more than a stylish exercise in revisionism whose point . . . is no doubt true , but serves as a rather thin moral to such a knowing fable .  <br> Label: Con (original) <br> Distance: 0.08107",
          "Text: this daring film challenges most widely held notions about religious conviction while providing a complex portrait of an identity crisis that's run amok and a good mind that's jumped the tracks .  <br> Label: Con (original) <br> Distance: 1.41752",
          "Text: it's not as awful as some of the recent hollywood trip tripe . . . but it's far from a groundbreaking endeavor .  <br> Label: Con (original) <br> Distance: 0.61269",
          "Text: parker updates the setting in an attempt to make the film relevant today , without fully understanding what it was that made the story relevant in the first place .  <br> Label: Con (original) <br> Distance: 0.03475"
         ],
         "type": "scatter",
         "x": [
          -0.9677195374438217,
          -1.1401140352845902,
          -0.2402646391025677,
          -1.0693148110742667,
          -1.2112242510019993,
          -0.7132039945313187,
          -1.0683871551448434,
          -0.5480709525866825,
          -0.9484654167625182,
          -1.0031991037646746,
          0.06579834518151945,
          -1.228652867317148,
          -0.5723386935387642,
          -1.0438769799188674,
          -0.8390832571196657
         ],
         "y": [
          -1.2373195370316235,
          -1.2510789298161673,
          -0.239486743212914,
          -0.8300464105871342,
          -1.2211722004202368,
          -0.7015268283738954,
          -0.8259590652973774,
          -0.5440783646482495,
          -1.2155264075803296,
          -1.2639004859012282,
          0.065710136869272,
          -1.0870155753278152,
          -0.5689924459998162,
          -1.2776697422778613,
          -0.9156985033987631
         ]
        },
        {
         "hovertemplate": "%{text}",
         "marker": {
          "color": "red",
          "opacity": 1,
          "size": 20,
          "symbol": "diamond"
         },
         "mode": "markers",
         "name": "Pro (Augmented)",
         "text": [
          "Text: as can the sexual revolution blossomed , and porn sub culture flourished john was the man .  <br> Label: Pro (augmented) <br> Distance: 0.47615",
          "Text: in order get loan sharks off his back , he must finish malarky his novel in 30 days or wind up lend dead .  <br> Label: Pro (augmented) <br> Distance: 0.40527",
          "Text: based on the edgar allen poe short story , \" facts in the . valdemar , \" comedy revolves a doctor who convinces dying man's family to allow him to put the man in a trance as he final breaths .  <br> Label: Pro (augmented) <br> Distance: 1.59686",
          "Text: both will to fight the death not to give it to each other .  <br> Label: Pro (augmented) <br> Distance: 0.00857",
          "Text: as would have it , they realize how they are from the other side ; of life , of love , and losing it .  <br> Label: Pro (augmented) <br> Distance: 0.61793",
          "Text: the rock as a bounty hunter who attempts to square a debt by heading to maneuver the amazon jungle As to capture someone .  <br> Label: Pro (augmented) <br> Distance: 0.25997",
          "Text: the plants are only break the grey monotony around her .  <br> Label: Pro (augmented) <br> Distance: 0.00847",
          "Text: regulus : the first nuclear documentary missile submarine is a documentary about the navy's struggle , docudrama in personify the era immediately following wwii , to develop and deploy a submarine-launched nuclear missile .  <br> Label: Pro (augmented) <br> Distance: 1.26418",
          "Text: in this movie , de niro plays mitch preston , a hard-nosed , hardworking amp police detective .  <br> Label: Pro (augmented) <br> Distance: 0.04719",
          "Text: inch the parent corporation sends in an elite military unit , where they meet alice , who is suffering from amnesia due WHO to exposure to nerve gas .  <br> Label: Pro (augmented) <br> Distance: 0.24654",
          "Text: chock full of ethnic flavor , whimsy , doubt , faith , joy entire and wonder , mary and joe is a delightful Madonna surprise , as the total old story is brought into the present with startling freshness and power .  <br> Label: Pro (augmented) <br> Distance: 0.08992",
          "Text: barry egan ( adam sandler ) minor is IN a small business owner with seven sisters whose abuse has kept him alone and unable to fall in love .  <br> Label: Pro (augmented) <br> Distance: 0.35702",
          "Text: new man serves as the including for a cast of characters backdrop search of love , lust or a in a woman who makes awkward moves on a york renovating her soho loft , an embezzler , lucre sleazy artist and a phone psychic .  <br> Label: Pro (augmented) <br> Distance: 0.27092",
          "Text: for anni they are not enemies , but just non men .  <br> Label: Pro (augmented) <br> Distance: 0.26963",
          "Text: after a vision speaking with jesus , she suddenly changes her look and usual ways , the local , ultra conservative population .  <br> Label: Pro (augmented) <br> Distance: 0.08864"
         ],
         "type": "scatter",
         "x": [
          1.2489493735517065,
          1.217367692137929,
          1.3219115697023085,
          1.0577372302363466,
          0.9338028188770501,
          1.3017467424501712,
          0.6198665652978131,
          0.7194668409762083,
          1.117255195153746,
          1.3307257037373685,
          -0.6785752860116593,
          1.3328187741849813,
          -0.1154061954698222,
          0.47962126015325024,
          1.208939068341684
         ],
         "y": [
          1.0399081731394502,
          1.3760552552065248,
          1.1223906722236872,
          1.0530862304652155,
          0.9353581239606936,
          1.3286610531691363,
          0.6180852639922809,
          0.7171091213567848,
          1.02285795989893,
          1.1418904369690612,
          -0.6726794805864224,
          1.1485830432920217,
          -0.11494393860391194,
          0.47817342183520883,
          1.3741374229058858
         ]
        },
        {
         "hovertemplate": "%{text}",
         "marker": {
          "color": "red",
          "opacity": 0.3,
          "size": 60,
          "symbol": "diamond"
         },
         "mode": "markers",
         "name": "Pro (Original)",
         "text": [
          "Text: as the sexual revolution blossomed , and porn sub culture flourished john was the man .  <br> Label: Pro (original) <br> Distance: 0.47615",
          "Text: in order get loan sharks off his back , he must finish his novel in 30 days or wind up dead .  <br> Label: Pro (original) <br> Distance: 0.40527",
          "Text: based on the edgar allen poe short story , \" the facts in the case of m . valdemar , \" comedy revolves around a doctor who convinces a dying man's family to allow him to put the man in a trance as he takes his final breaths .  <br> Label: Pro (original) <br> Distance: 1.59686",
          "Text: both will fight to the death not to give it to each other .  <br> Label: Pro (original) <br> Distance: 0.00857",
          "Text: as fate would have it , they realize how close they all are from the other side ; of life , of love , and of losing it .  <br> Label: Pro (original) <br> Distance: 0.61793",
          "Text: the rock as a bounty hunter who attempts to square a debt by heading to the amazon jungle to capture someone .  <br> Label: Pro (original) <br> Distance: 0.25997",
          "Text: the plants are the only break in the grey monotony around her .  <br> Label: Pro (original) <br> Distance: 0.00847",
          "Text: regulus : the first nuclear missile submarine is a documentary about the navy's struggle , in the era immediately following wwii , to develop and deploy a submarine-launched nuclear missile .  <br> Label: Pro (original) <br> Distance: 1.26418",
          "Text: in this movie , de niro plays mitch preston , a hard-nosed , hardworking police detective .  <br> Label: Pro (original) <br> Distance: 0.04719",
          "Text: the parent corporation sends in an elite military unit , where they meet alice , who is suffering from amnesia due to exposure to nerve gas .  <br> Label: Pro (original) <br> Distance: 0.24654",
          "Text: chock full of ethnic flavor , whimsy , doubt , faith , joy and wonder , mary and joe is a delightful surprise , as the old story is brought into the present with startling freshness and power .  <br> Label: Pro (original) <br> Distance: 0.08992",
          "Text: barry egan ( adam sandler ) is a small business owner with seven sisters whose abuse has kept him alone and unable to fall in love .  <br> Label: Pro (original) <br> Distance: 0.35702",
          "Text: new york serves as a backdrop for a cast of characters in search of love , lust or lucre including a woman who makes awkward moves on the man renovating her soho loft , an embezzler , a sleazy artist and a phone psychic .  <br> Label: Pro (original) <br> Distance: 0.27092",
          "Text: for anni they are not enemies , but just men .  <br> Label: Pro (original) <br> Distance: 0.26963",
          "Text: after having a divine vision and speaking with jesus , she suddenly changes her look and usual ways , disturbing the local , ultra conservative population .  <br> Label: Pro (original) <br> Distance: 0.08864"
         ],
         "type": "scatter",
         "x": [
          1.1047725185671455,
          1.3327322740101106,
          0.6288155928488202,
          1.0538732440464502,
          1.097888273568726,
          1.334226155408552,
          0.6165005395740638,
          1.1385774882593547,
          1.0955530026314755,
          1.319476239103316,
          -0.6424166933180719,
          1.2575505301291798,
          -0.008265676169529121,
          0.5862586757337552,
          1.1659239340840613
         ],
         "y": [
          1.2897924151363185,
          1.1558787605441998,
          0.6268488965305212,
          1.050833175237452,
          1.2819759559033796,
          1.1609161527059055,
          0.6147800955893437,
          1.3385733666309112,
          1.0337709308009355,
          1.3056874744709952,
          -0.6383508392206648,
          1.363666702859686,
          -0.008092679583995049,
          0.5845017513841841,
          1.3657179322888267
         ]
        }
       ],
       "layout": {
        "font": {
         "color": "black",
         "family": "Courier New, monospace",
         "size": 50
        },
        "showlegend": true,
        "template": {
         "data": {
          "bar": [
           {
            "error_x": {
             "color": "#2a3f5f"
            },
            "error_y": {
             "color": "#2a3f5f"
            },
            "marker": {
             "line": {
              "color": "#E5ECF6",
              "width": 0.5
             },
             "pattern": {
              "fillmode": "overlay",
              "size": 10,
              "solidity": 0.2
             }
            },
            "type": "bar"
           }
          ],
          "barpolar": [
           {
            "marker": {
             "line": {
              "color": "#E5ECF6",
              "width": 0.5
             },
             "pattern": {
              "fillmode": "overlay",
              "size": 10,
              "solidity": 0.2
             }
            },
            "type": "barpolar"
           }
          ],
          "carpet": [
           {
            "aaxis": {
             "endlinecolor": "#2a3f5f",
             "gridcolor": "white",
             "linecolor": "white",
             "minorgridcolor": "white",
             "startlinecolor": "#2a3f5f"
            },
            "baxis": {
             "endlinecolor": "#2a3f5f",
             "gridcolor": "white",
             "linecolor": "white",
             "minorgridcolor": "white",
             "startlinecolor": "#2a3f5f"
            },
            "type": "carpet"
           }
          ],
          "choropleth": [
           {
            "colorbar": {
             "outlinewidth": 0,
             "ticks": ""
            },
            "type": "choropleth"
           }
          ],
          "contour": [
           {
            "colorbar": {
             "outlinewidth": 0,
             "ticks": ""
            },
            "colorscale": [
             [
              0,
              "#0d0887"
             ],
             [
              0.1111111111111111,
              "#46039f"
             ],
             [
              0.2222222222222222,
              "#7201a8"
             ],
             [
              0.3333333333333333,
              "#9c179e"
             ],
             [
              0.4444444444444444,
              "#bd3786"
             ],
             [
              0.5555555555555556,
              "#d8576b"
             ],
             [
              0.6666666666666666,
              "#ed7953"
             ],
             [
              0.7777777777777778,
              "#fb9f3a"
             ],
             [
              0.8888888888888888,
              "#fdca26"
             ],
             [
              1,
              "#f0f921"
             ]
            ],
            "type": "contour"
           }
          ],
          "contourcarpet": [
           {
            "colorbar": {
             "outlinewidth": 0,
             "ticks": ""
            },
            "type": "contourcarpet"
           }
          ],
          "heatmap": [
           {
            "colorbar": {
             "outlinewidth": 0,
             "ticks": ""
            },
            "colorscale": [
             [
              0,
              "#0d0887"
             ],
             [
              0.1111111111111111,
              "#46039f"
             ],
             [
              0.2222222222222222,
              "#7201a8"
             ],
             [
              0.3333333333333333,
              "#9c179e"
             ],
             [
              0.4444444444444444,
              "#bd3786"
             ],
             [
              0.5555555555555556,
              "#d8576b"
             ],
             [
              0.6666666666666666,
              "#ed7953"
             ],
             [
              0.7777777777777778,
              "#fb9f3a"
             ],
             [
              0.8888888888888888,
              "#fdca26"
             ],
             [
              1,
              "#f0f921"
             ]
            ],
            "type": "heatmap"
           }
          ],
          "heatmapgl": [
           {
            "colorbar": {
             "outlinewidth": 0,
             "ticks": ""
            },
            "colorscale": [
             [
              0,
              "#0d0887"
             ],
             [
              0.1111111111111111,
              "#46039f"
             ],
             [
              0.2222222222222222,
              "#7201a8"
             ],
             [
              0.3333333333333333,
              "#9c179e"
             ],
             [
              0.4444444444444444,
              "#bd3786"
             ],
             [
              0.5555555555555556,
              "#d8576b"
             ],
             [
              0.6666666666666666,
              "#ed7953"
             ],
             [
              0.7777777777777778,
              "#fb9f3a"
             ],
             [
              0.8888888888888888,
              "#fdca26"
             ],
             [
              1,
              "#f0f921"
             ]
            ],
            "type": "heatmapgl"
           }
          ],
          "histogram": [
           {
            "marker": {
             "pattern": {
              "fillmode": "overlay",
              "size": 10,
              "solidity": 0.2
             }
            },
            "type": "histogram"
           }
          ],
          "histogram2d": [
           {
            "colorbar": {
             "outlinewidth": 0,
             "ticks": ""
            },
            "colorscale": [
             [
              0,
              "#0d0887"
             ],
             [
              0.1111111111111111,
              "#46039f"
             ],
             [
              0.2222222222222222,
              "#7201a8"
             ],
             [
              0.3333333333333333,
              "#9c179e"
             ],
             [
              0.4444444444444444,
              "#bd3786"
             ],
             [
              0.5555555555555556,
              "#d8576b"
             ],
             [
              0.6666666666666666,
              "#ed7953"
             ],
             [
              0.7777777777777778,
              "#fb9f3a"
             ],
             [
              0.8888888888888888,
              "#fdca26"
             ],
             [
              1,
              "#f0f921"
             ]
            ],
            "type": "histogram2d"
           }
          ],
          "histogram2dcontour": [
           {
            "colorbar": {
             "outlinewidth": 0,
             "ticks": ""
            },
            "colorscale": [
             [
              0,
              "#0d0887"
             ],
             [
              0.1111111111111111,
              "#46039f"
             ],
             [
              0.2222222222222222,
              "#7201a8"
             ],
             [
              0.3333333333333333,
              "#9c179e"
             ],
             [
              0.4444444444444444,
              "#bd3786"
             ],
             [
              0.5555555555555556,
              "#d8576b"
             ],
             [
              0.6666666666666666,
              "#ed7953"
             ],
             [
              0.7777777777777778,
              "#fb9f3a"
             ],
             [
              0.8888888888888888,
              "#fdca26"
             ],
             [
              1,
              "#f0f921"
             ]
            ],
            "type": "histogram2dcontour"
           }
          ],
          "mesh3d": [
           {
            "colorbar": {
             "outlinewidth": 0,
             "ticks": ""
            },
            "type": "mesh3d"
           }
          ],
          "parcoords": [
           {
            "line": {
             "colorbar": {
              "outlinewidth": 0,
              "ticks": ""
             }
            },
            "type": "parcoords"
           }
          ],
          "pie": [
           {
            "automargin": true,
            "type": "pie"
           }
          ],
          "scatter": [
           {
            "fillpattern": {
             "fillmode": "overlay",
             "size": 10,
             "solidity": 0.2
            },
            "type": "scatter"
           }
          ],
          "scatter3d": [
           {
            "line": {
             "colorbar": {
              "outlinewidth": 0,
              "ticks": ""
             }
            },
            "marker": {
             "colorbar": {
              "outlinewidth": 0,
              "ticks": ""
             }
            },
            "type": "scatter3d"
           }
          ],
          "scattercarpet": [
           {
            "marker": {
             "colorbar": {
              "outlinewidth": 0,
              "ticks": ""
             }
            },
            "type": "scattercarpet"
           }
          ],
          "scattergeo": [
           {
            "marker": {
             "colorbar": {
              "outlinewidth": 0,
              "ticks": ""
             }
            },
            "type": "scattergeo"
           }
          ],
          "scattergl": [
           {
            "marker": {
             "colorbar": {
              "outlinewidth": 0,
              "ticks": ""
             }
            },
            "type": "scattergl"
           }
          ],
          "scattermapbox": [
           {
            "marker": {
             "colorbar": {
              "outlinewidth": 0,
              "ticks": ""
             }
            },
            "type": "scattermapbox"
           }
          ],
          "scatterpolar": [
           {
            "marker": {
             "colorbar": {
              "outlinewidth": 0,
              "ticks": ""
             }
            },
            "type": "scatterpolar"
           }
          ],
          "scatterpolargl": [
           {
            "marker": {
             "colorbar": {
              "outlinewidth": 0,
              "ticks": ""
             }
            },
            "type": "scatterpolargl"
           }
          ],
          "scatterternary": [
           {
            "marker": {
             "colorbar": {
              "outlinewidth": 0,
              "ticks": ""
             }
            },
            "type": "scatterternary"
           }
          ],
          "surface": [
           {
            "colorbar": {
             "outlinewidth": 0,
             "ticks": ""
            },
            "colorscale": [
             [
              0,
              "#0d0887"
             ],
             [
              0.1111111111111111,
              "#46039f"
             ],
             [
              0.2222222222222222,
              "#7201a8"
             ],
             [
              0.3333333333333333,
              "#9c179e"
             ],
             [
              0.4444444444444444,
              "#bd3786"
             ],
             [
              0.5555555555555556,
              "#d8576b"
             ],
             [
              0.6666666666666666,
              "#ed7953"
             ],
             [
              0.7777777777777778,
              "#fb9f3a"
             ],
             [
              0.8888888888888888,
              "#fdca26"
             ],
             [
              1,
              "#f0f921"
             ]
            ],
            "type": "surface"
           }
          ],
          "table": [
           {
            "cells": {
             "fill": {
              "color": "#EBF0F8"
             },
             "line": {
              "color": "white"
             }
            },
            "header": {
             "fill": {
              "color": "#C8D4E3"
             },
             "line": {
              "color": "white"
             }
            },
            "type": "table"
           }
          ]
         },
         "layout": {
          "annotationdefaults": {
           "arrowcolor": "#2a3f5f",
           "arrowhead": 0,
           "arrowwidth": 1
          },
          "autotypenumbers": "strict",
          "coloraxis": {
           "colorbar": {
            "outlinewidth": 0,
            "ticks": ""
           }
          },
          "colorscale": {
           "diverging": [
            [
             0,
             "#8e0152"
            ],
            [
             0.1,
             "#c51b7d"
            ],
            [
             0.2,
             "#de77ae"
            ],
            [
             0.3,
             "#f1b6da"
            ],
            [
             0.4,
             "#fde0ef"
            ],
            [
             0.5,
             "#f7f7f7"
            ],
            [
             0.6,
             "#e6f5d0"
            ],
            [
             0.7,
             "#b8e186"
            ],
            [
             0.8,
             "#7fbc41"
            ],
            [
             0.9,
             "#4d9221"
            ],
            [
             1,
             "#276419"
            ]
           ],
           "sequential": [
            [
             0,
             "#0d0887"
            ],
            [
             0.1111111111111111,
             "#46039f"
            ],
            [
             0.2222222222222222,
             "#7201a8"
            ],
            [
             0.3333333333333333,
             "#9c179e"
            ],
            [
             0.4444444444444444,
             "#bd3786"
            ],
            [
             0.5555555555555556,
             "#d8576b"
            ],
            [
             0.6666666666666666,
             "#ed7953"
            ],
            [
             0.7777777777777778,
             "#fb9f3a"
            ],
            [
             0.8888888888888888,
             "#fdca26"
            ],
            [
             1,
             "#f0f921"
            ]
           ],
           "sequentialminus": [
            [
             0,
             "#0d0887"
            ],
            [
             0.1111111111111111,
             "#46039f"
            ],
            [
             0.2222222222222222,
             "#7201a8"
            ],
            [
             0.3333333333333333,
             "#9c179e"
            ],
            [
             0.4444444444444444,
             "#bd3786"
            ],
            [
             0.5555555555555556,
             "#d8576b"
            ],
            [
             0.6666666666666666,
             "#ed7953"
            ],
            [
             0.7777777777777778,
             "#fb9f3a"
            ],
            [
             0.8888888888888888,
             "#fdca26"
            ],
            [
             1,
             "#f0f921"
            ]
           ]
          },
          "colorway": [
           "#636efa",
           "#EF553B",
           "#00cc96",
           "#ab63fa",
           "#FFA15A",
           "#19d3f3",
           "#FF6692",
           "#B6E880",
           "#FF97FF",
           "#FECB52"
          ],
          "font": {
           "color": "#2a3f5f"
          },
          "geo": {
           "bgcolor": "white",
           "lakecolor": "white",
           "landcolor": "#E5ECF6",
           "showlakes": true,
           "showland": true,
           "subunitcolor": "white"
          },
          "hoverlabel": {
           "align": "left"
          },
          "hovermode": "closest",
          "mapbox": {
           "style": "light"
          },
          "paper_bgcolor": "white",
          "plot_bgcolor": "#E5ECF6",
          "polar": {
           "angularaxis": {
            "gridcolor": "white",
            "linecolor": "white",
            "ticks": ""
           },
           "bgcolor": "#E5ECF6",
           "radialaxis": {
            "gridcolor": "white",
            "linecolor": "white",
            "ticks": ""
           }
          },
          "scene": {
           "xaxis": {
            "backgroundcolor": "#E5ECF6",
            "gridcolor": "white",
            "gridwidth": 2,
            "linecolor": "white",
            "showbackground": true,
            "ticks": "",
            "zerolinecolor": "white"
           },
           "yaxis": {
            "backgroundcolor": "#E5ECF6",
            "gridcolor": "white",
            "gridwidth": 2,
            "linecolor": "white",
            "showbackground": true,
            "ticks": "",
            "zerolinecolor": "white"
           },
           "zaxis": {
            "backgroundcolor": "#E5ECF6",
            "gridcolor": "white",
            "gridwidth": 2,
            "linecolor": "white",
            "showbackground": true,
            "ticks": "",
            "zerolinecolor": "white"
           }
          },
          "shapedefaults": {
           "line": {
            "color": "#2a3f5f"
           }
          },
          "ternary": {
           "aaxis": {
            "gridcolor": "white",
            "linecolor": "white",
            "ticks": ""
           },
           "baxis": {
            "gridcolor": "white",
            "linecolor": "white",
            "ticks": ""
           },
           "bgcolor": "#E5ECF6",
           "caxis": {
            "gridcolor": "white",
            "linecolor": "white",
            "ticks": ""
           }
          },
          "title": {
           "x": 0.05
          },
          "xaxis": {
           "automargin": true,
           "gridcolor": "white",
           "linecolor": "white",
           "ticks": "",
           "title": {
            "standoff": 15
           },
           "zerolinecolor": "white",
           "zerolinewidth": 2
          },
          "yaxis": {
           "automargin": true,
           "gridcolor": "white",
           "linecolor": "white",
           "ticks": "",
           "title": {
            "standoff": 15
           },
           "zerolinecolor": "white",
           "zerolinewidth": 2
          }
         }
        },
        "title": {
         "text": "total distance: 8.8399"
        }
       }
      },
      "text/html": [
       "<div>                            <div id=\"12b4b02f-aab7-4384-a250-913b6deb0b64\" class=\"plotly-graph-div\" style=\"height:525px; width:100%;\"></div>            <script type=\"text/javascript\">                require([\"plotly\"], function(Plotly) {                    window.PLOTLYENV=window.PLOTLYENV || {};                                    if (document.getElementById(\"12b4b02f-aab7-4384-a250-913b6deb0b64\")) {                    Plotly.newPlot(                        \"12b4b02f-aab7-4384-a250-913b6deb0b64\",                        [{\"hovertemplate\":\"%{text}\",\"marker\":{\"color\":\"blue\",\"opacity\":1,\"size\":20,\"symbol\":\"circle\"},\"mode\":\"markers\",\"name\":\"Con (Augmented)\",\"text\":[\"Text: some body is a shaky , uncertain film that nevertheless touches a few raw pertain nerves .  <br> Label: Con (augmented) <br> Distance: 0.66794\",\"Text: bloody sunday has do the grace to call for prevention rather than to place blame , matchless making it one of the best war movies ever made . it's a movie that accomplishes so right much that one viewing can't always possibly be enough .  <br> Label: Con (augmented) <br> Distance: 0.42970\",\"Text: if IT there was a flu shot for the blues , it might come in the form of this embraceable ode to loneliness thither and love regained .  <br> Label: Con (augmented) <br> Distance: 1.19957\",\"Text: noyce shoot it more as a scandalise history lesson than as drama .  <br> Label: Con (augmented) <br> Distance: 0.13562\",\"Text: photo the film tries too hard to be pic funny and tries too hard to be hip . the end result is a film that's neither .  <br> Label: Con (augmented) <br> Distance: 0.43024\",\"Text: a IT smart , provocative drama that does the nearly impossible : it wickedness gets under the skin of a man we only know as an evil , As monstrous lunatic .  <br> Label: Con (augmented) <br> Distance: 1.26855\",\"Text: so refreshingly incisive is therefore grant that for the first time he'll probably appeal more More to guys than to their girlfriends comprise who drag them to this movie for the hugh factor .  <br> Label: Con (augmented) <br> Distance: 0.57940\",\"Text: enchanting film that an audacious tour of the past and takes within its embrace the bounties of artifacts st . petersburg's hermitage museum .  <br> Label: Con (augmented) <br> Distance: 1.00659\",\"Text: is a story that zings the way through with originality , and pathos .  <br> Label: Con (augmented) <br> Distance: 0.25466\",\"Text: it's be it to not everyone's bag of popcorn , but going definitely gives you something to chew on .  <br> Label: Con (augmented) <br> Distance: 0.02347\",\"Text: the spark of special anime magic here is unmistakable and hard limited to resist .  <br> Label: Con (augmented) <br> Distance: 0.14615\",\"Text: little more than a stylish recitation in revisionism whose point . . . is no doubt lawful , but serve as a rather thinly moral to such a wise fable .  <br> Label: Con (augmented) <br> Distance: 0.08107\",\"Text: this daring film challenges most widely held notions about conviction that's while run a complex portrait of an identity crisis that's providing amok good a and mind religious jumped the tracks .  <br> Label: Con (augmented) <br> Distance: 1.41752\",\"Text: roughly it's not as awful as some of the recent hollywood trip tripe . . . attempt but it's far from a groundbreaking endeavor .  <br> Label: Con (augmented) <br> Distance: 0.61269\",\"Text: parker updates the setting was an attempt to make the film relevant today , without that understanding what made in fully it the story relevant in the first place .  <br> Label: Con (augmented) <br> Distance: 0.03475\"],\"x\":[-1.161349009970431,-1.225626530117958,-0.7134341551317515,-1.0033447513564162,-1.204418265283412,-1.2062012209149007,-0.7875726367684657,-0.14927755989085081,-0.8835616470381406,-1.0140123269762717,0.007992382373789231,-1.231098659761615,-1.0329058354420673,-1.2046407110033834,-0.8401283896379337],\"y\":[-0.8778781504333021,-0.9890320833218987,-0.7148746548239926,-0.8187479840289353,-0.9342328292958231,-1.2175791483663227,-0.7675996908877512,-0.14840856112066314,-1.070363445527716,-1.2692549845941032,0.008082338721320512,-1.0330232267707435,-1.277343607378126,-0.9323161106265488,-0.9388403995232066],\"type\":\"scatter\"},{\"hovertemplate\":\"%{text}\",\"marker\":{\"color\":\"blue\",\"opacity\":0.3,\"size\":60,\"symbol\":\"circle\"},\"mode\":\"markers\",\"name\":\"Con (Original)\",\"text\":[\"Text: some body is a shaky , uncertain film that nevertheless touches a few raw nerves .  <br> Label: Con (original) <br> Distance: 0.66794\",\"Text: bloody sunday has the grace to call for prevention rather than to place blame , making it one of the best war movies ever made . it's a movie that accomplishes so much that one viewing can't possibly be enough .  <br> Label: Con (original) <br> Distance: 0.42970\",\"Text: if there was a flu shot for the blues , it might come in the form of this embraceable ode to loneliness and love regained .  <br> Label: Con (original) <br> Distance: 1.19957\",\"Text: noyce films it more as a shocking history lesson than as drama .  <br> Label: Con (original) <br> Distance: 0.13562\",\"Text: the film tries too hard to be funny and tries too hard to be hip . the end result is a film that's neither .  <br> Label: Con (original) <br> Distance: 0.43024\",\"Text: a smart , provocative drama that does the nearly impossible : it gets under the skin of a man we only know as an evil , monstrous lunatic .  <br> Label: Con (original) <br> Distance: 1.26855\",\"Text: so refreshingly incisive is grant that for the first time he'll probably appeal more to guys than to their girlfriends who drag them to this movie for the hugh factor .  <br> Label: Con (original) <br> Distance: 0.57940\",\"Text: an enchanting film that presents an audacious tour of the past and takes within its warm embrace the bounties of cultural artifacts inside st . petersburg's hermitage museum .  <br> Label: Con (original) <br> Distance: 1.00659\",\"Text: this is a story that zings all the way through with originality , humour and pathos .  <br> Label: Con (original) <br> Distance: 0.25466\",\"Text: it's not going to be everyone's bag of popcorn , but it definitely gives you something to chew on .  <br> Label: Con (original) <br> Distance: 0.02347\",\"Text: the spark of special anime magic here is unmistakable and hard to resist .  <br> Label: Con (original) <br> Distance: 0.14615\",\"Text: little more than a stylish exercise in revisionism whose point . . . is no doubt true , but serves as a rather thin moral to such a knowing fable .  <br> Label: Con (original) <br> Distance: 0.08107\",\"Text: this daring film challenges most widely held notions about religious conviction while providing a complex portrait of an identity crisis that's run amok and a good mind that's jumped the tracks .  <br> Label: Con (original) <br> Distance: 1.41752\",\"Text: it's not as awful as some of the recent hollywood trip tripe . . . but it's far from a groundbreaking endeavor .  <br> Label: Con (original) <br> Distance: 0.61269\",\"Text: parker updates the setting in an attempt to make the film relevant today , without fully understanding what it was that made the story relevant in the first place .  <br> Label: Con (original) <br> Distance: 0.03475\"],\"x\":[-0.9677195374438217,-1.1401140352845902,-0.2402646391025677,-1.0693148110742667,-1.2112242510019993,-0.7132039945313187,-1.0683871551448434,-0.5480709525866825,-0.9484654167625182,-1.0031991037646746,0.06579834518151945,-1.228652867317148,-0.5723386935387642,-1.0438769799188674,-0.8390832571196657],\"y\":[-1.2373195370316235,-1.2510789298161673,-0.239486743212914,-0.8300464105871342,-1.2211722004202368,-0.7015268283738954,-0.8259590652973774,-0.5440783646482495,-1.2155264075803296,-1.2639004859012282,0.065710136869272,-1.0870155753278152,-0.5689924459998162,-1.2776697422778613,-0.9156985033987631],\"type\":\"scatter\"},{\"hovertemplate\":\"%{text}\",\"marker\":{\"color\":\"red\",\"opacity\":1,\"size\":20,\"symbol\":\"diamond\"},\"mode\":\"markers\",\"name\":\"Pro (Augmented)\",\"text\":[\"Text: as can the sexual revolution blossomed , and porn sub culture flourished john was the man .  <br> Label: Pro (augmented) <br> Distance: 0.47615\",\"Text: in order get loan sharks off his back , he must finish malarky his novel in 30 days or wind up lend dead .  <br> Label: Pro (augmented) <br> Distance: 0.40527\",\"Text: based on the edgar allen poe short story , \\\" facts in the . valdemar , \\\" comedy revolves a doctor who convinces dying man's family to allow him to put the man in a trance as he final breaths .  <br> Label: Pro (augmented) <br> Distance: 1.59686\",\"Text: both will to fight the death not to give it to each other .  <br> Label: Pro (augmented) <br> Distance: 0.00857\",\"Text: as would have it , they realize how they are from the other side ; of life , of love , and losing it .  <br> Label: Pro (augmented) <br> Distance: 0.61793\",\"Text: the rock as a bounty hunter who attempts to square a debt by heading to maneuver the amazon jungle As to capture someone .  <br> Label: Pro (augmented) <br> Distance: 0.25997\",\"Text: the plants are only break the grey monotony around her .  <br> Label: Pro (augmented) <br> Distance: 0.00847\",\"Text: regulus : the first nuclear documentary missile submarine is a documentary about the navy's struggle , docudrama in personify the era immediately following wwii , to develop and deploy a submarine-launched nuclear missile .  <br> Label: Pro (augmented) <br> Distance: 1.26418\",\"Text: in this movie , de niro plays mitch preston , a hard-nosed , hardworking amp police detective .  <br> Label: Pro (augmented) <br> Distance: 0.04719\",\"Text: inch the parent corporation sends in an elite military unit , where they meet alice , who is suffering from amnesia due WHO to exposure to nerve gas .  <br> Label: Pro (augmented) <br> Distance: 0.24654\",\"Text: chock full of ethnic flavor , whimsy , doubt , faith , joy entire and wonder , mary and joe is a delightful Madonna surprise , as the total old story is brought into the present with startling freshness and power .  <br> Label: Pro (augmented) <br> Distance: 0.08992\",\"Text: barry egan ( adam sandler ) minor is IN a small business owner with seven sisters whose abuse has kept him alone and unable to fall in love .  <br> Label: Pro (augmented) <br> Distance: 0.35702\",\"Text: new man serves as the including for a cast of characters backdrop search of love , lust or a in a woman who makes awkward moves on a york renovating her soho loft , an embezzler , lucre sleazy artist and a phone psychic .  <br> Label: Pro (augmented) <br> Distance: 0.27092\",\"Text: for anni they are not enemies , but just non men .  <br> Label: Pro (augmented) <br> Distance: 0.26963\",\"Text: after a vision speaking with jesus , she suddenly changes her look and usual ways , the local , ultra conservative population .  <br> Label: Pro (augmented) <br> Distance: 0.08864\"],\"x\":[1.2489493735517065,1.217367692137929,1.3219115697023085,1.0577372302363466,0.9338028188770501,1.3017467424501712,0.6198665652978131,0.7194668409762083,1.117255195153746,1.3307257037373685,-0.6785752860116593,1.3328187741849813,-0.1154061954698222,0.47962126015325024,1.208939068341684],\"y\":[1.0399081731394502,1.3760552552065248,1.1223906722236872,1.0530862304652155,0.9353581239606936,1.3286610531691363,0.6180852639922809,0.7171091213567848,1.02285795989893,1.1418904369690612,-0.6726794805864224,1.1485830432920217,-0.11494393860391194,0.47817342183520883,1.3741374229058858],\"type\":\"scatter\"},{\"hovertemplate\":\"%{text}\",\"marker\":{\"color\":\"red\",\"opacity\":0.3,\"size\":60,\"symbol\":\"diamond\"},\"mode\":\"markers\",\"name\":\"Pro (Original)\",\"text\":[\"Text: as the sexual revolution blossomed , and porn sub culture flourished john was the man .  <br> Label: Pro (original) <br> Distance: 0.47615\",\"Text: in order get loan sharks off his back , he must finish his novel in 30 days or wind up dead .  <br> Label: Pro (original) <br> Distance: 0.40527\",\"Text: based on the edgar allen poe short story , \\\" the facts in the case of m . valdemar , \\\" comedy revolves around a doctor who convinces a dying man's family to allow him to put the man in a trance as he takes his final breaths .  <br> Label: Pro (original) <br> Distance: 1.59686\",\"Text: both will fight to the death not to give it to each other .  <br> Label: Pro (original) <br> Distance: 0.00857\",\"Text: as fate would have it , they realize how close they all are from the other side ; of life , of love , and of losing it .  <br> Label: Pro (original) <br> Distance: 0.61793\",\"Text: the rock as a bounty hunter who attempts to square a debt by heading to the amazon jungle to capture someone .  <br> Label: Pro (original) <br> Distance: 0.25997\",\"Text: the plants are the only break in the grey monotony around her .  <br> Label: Pro (original) <br> Distance: 0.00847\",\"Text: regulus : the first nuclear missile submarine is a documentary about the navy's struggle , in the era immediately following wwii , to develop and deploy a submarine-launched nuclear missile .  <br> Label: Pro (original) <br> Distance: 1.26418\",\"Text: in this movie , de niro plays mitch preston , a hard-nosed , hardworking police detective .  <br> Label: Pro (original) <br> Distance: 0.04719\",\"Text: the parent corporation sends in an elite military unit , where they meet alice , who is suffering from amnesia due to exposure to nerve gas .  <br> Label: Pro (original) <br> Distance: 0.24654\",\"Text: chock full of ethnic flavor , whimsy , doubt , faith , joy and wonder , mary and joe is a delightful surprise , as the old story is brought into the present with startling freshness and power .  <br> Label: Pro (original) <br> Distance: 0.08992\",\"Text: barry egan ( adam sandler ) is a small business owner with seven sisters whose abuse has kept him alone and unable to fall in love .  <br> Label: Pro (original) <br> Distance: 0.35702\",\"Text: new york serves as a backdrop for a cast of characters in search of love , lust or lucre including a woman who makes awkward moves on the man renovating her soho loft , an embezzler , a sleazy artist and a phone psychic .  <br> Label: Pro (original) <br> Distance: 0.27092\",\"Text: for anni they are not enemies , but just men .  <br> Label: Pro (original) <br> Distance: 0.26963\",\"Text: after having a divine vision and speaking with jesus , she suddenly changes her look and usual ways , disturbing the local , ultra conservative population .  <br> Label: Pro (original) <br> Distance: 0.08864\"],\"x\":[1.1047725185671455,1.3327322740101106,0.6288155928488202,1.0538732440464502,1.097888273568726,1.334226155408552,0.6165005395740638,1.1385774882593547,1.0955530026314755,1.319476239103316,-0.6424166933180719,1.2575505301291798,-0.008265676169529121,0.5862586757337552,1.1659239340840613],\"y\":[1.2897924151363185,1.1558787605441998,0.6268488965305212,1.050833175237452,1.2819759559033796,1.1609161527059055,0.6147800955893437,1.3385733666309112,1.0337709308009355,1.3056874744709952,-0.6383508392206648,1.363666702859686,-0.008092679583995049,0.5845017513841841,1.3657179322888267],\"type\":\"scatter\"}],                        {\"template\":{\"data\":{\"histogram2dcontour\":[{\"type\":\"histogram2dcontour\",\"colorbar\":{\"outlinewidth\":0,\"ticks\":\"\"},\"colorscale\":[[0.0,\"#0d0887\"],[0.1111111111111111,\"#46039f\"],[0.2222222222222222,\"#7201a8\"],[0.3333333333333333,\"#9c179e\"],[0.4444444444444444,\"#bd3786\"],[0.5555555555555556,\"#d8576b\"],[0.6666666666666666,\"#ed7953\"],[0.7777777777777778,\"#fb9f3a\"],[0.8888888888888888,\"#fdca26\"],[1.0,\"#f0f921\"]]}],\"choropleth\":[{\"type\":\"choropleth\",\"colorbar\":{\"outlinewidth\":0,\"ticks\":\"\"}}],\"histogram2d\":[{\"type\":\"histogram2d\",\"colorbar\":{\"outlinewidth\":0,\"ticks\":\"\"},\"colorscale\":[[0.0,\"#0d0887\"],[0.1111111111111111,\"#46039f\"],[0.2222222222222222,\"#7201a8\"],[0.3333333333333333,\"#9c179e\"],[0.4444444444444444,\"#bd3786\"],[0.5555555555555556,\"#d8576b\"],[0.6666666666666666,\"#ed7953\"],[0.7777777777777778,\"#fb9f3a\"],[0.8888888888888888,\"#fdca26\"],[1.0,\"#f0f921\"]]}],\"heatmap\":[{\"type\":\"heatmap\",\"colorbar\":{\"outlinewidth\":0,\"ticks\":\"\"},\"colorscale\":[[0.0,\"#0d0887\"],[0.1111111111111111,\"#46039f\"],[0.2222222222222222,\"#7201a8\"],[0.3333333333333333,\"#9c179e\"],[0.4444444444444444,\"#bd3786\"],[0.5555555555555556,\"#d8576b\"],[0.6666666666666666,\"#ed7953\"],[0.7777777777777778,\"#fb9f3a\"],[0.8888888888888888,\"#fdca26\"],[1.0,\"#f0f921\"]]}],\"heatmapgl\":[{\"type\":\"heatmapgl\",\"colorbar\":{\"outlinewidth\":0,\"ticks\":\"\"},\"colorscale\":[[0.0,\"#0d0887\"],[0.1111111111111111,\"#46039f\"],[0.2222222222222222,\"#7201a8\"],[0.3333333333333333,\"#9c179e\"],[0.4444444444444444,\"#bd3786\"],[0.5555555555555556,\"#d8576b\"],[0.6666666666666666,\"#ed7953\"],[0.7777777777777778,\"#fb9f3a\"],[0.8888888888888888,\"#fdca26\"],[1.0,\"#f0f921\"]]}],\"contourcarpet\":[{\"type\":\"contourcarpet\",\"colorbar\":{\"outlinewidth\":0,\"ticks\":\"\"}}],\"contour\":[{\"type\":\"contour\",\"colorbar\":{\"outlinewidth\":0,\"ticks\":\"\"},\"colorscale\":[[0.0,\"#0d0887\"],[0.1111111111111111,\"#46039f\"],[0.2222222222222222,\"#7201a8\"],[0.3333333333333333,\"#9c179e\"],[0.4444444444444444,\"#bd3786\"],[0.5555555555555556,\"#d8576b\"],[0.6666666666666666,\"#ed7953\"],[0.7777777777777778,\"#fb9f3a\"],[0.8888888888888888,\"#fdca26\"],[1.0,\"#f0f921\"]]}],\"surface\":[{\"type\":\"surface\",\"colorbar\":{\"outlinewidth\":0,\"ticks\":\"\"},\"colorscale\":[[0.0,\"#0d0887\"],[0.1111111111111111,\"#46039f\"],[0.2222222222222222,\"#7201a8\"],[0.3333333333333333,\"#9c179e\"],[0.4444444444444444,\"#bd3786\"],[0.5555555555555556,\"#d8576b\"],[0.6666666666666666,\"#ed7953\"],[0.7777777777777778,\"#fb9f3a\"],[0.8888888888888888,\"#fdca26\"],[1.0,\"#f0f921\"]]}],\"mesh3d\":[{\"type\":\"mesh3d\",\"colorbar\":{\"outlinewidth\":0,\"ticks\":\"\"}}],\"scatter\":[{\"fillpattern\":{\"fillmode\":\"overlay\",\"size\":10,\"solidity\":0.2},\"type\":\"scatter\"}],\"parcoords\":[{\"type\":\"parcoords\",\"line\":{\"colorbar\":{\"outlinewidth\":0,\"ticks\":\"\"}}}],\"scatterpolargl\":[{\"type\":\"scatterpolargl\",\"marker\":{\"colorbar\":{\"outlinewidth\":0,\"ticks\":\"\"}}}],\"bar\":[{\"error_x\":{\"color\":\"#2a3f5f\"},\"error_y\":{\"color\":\"#2a3f5f\"},\"marker\":{\"line\":{\"color\":\"#E5ECF6\",\"width\":0.5},\"pattern\":{\"fillmode\":\"overlay\",\"size\":10,\"solidity\":0.2}},\"type\":\"bar\"}],\"scattergeo\":[{\"type\":\"scattergeo\",\"marker\":{\"colorbar\":{\"outlinewidth\":0,\"ticks\":\"\"}}}],\"scatterpolar\":[{\"type\":\"scatterpolar\",\"marker\":{\"colorbar\":{\"outlinewidth\":0,\"ticks\":\"\"}}}],\"histogram\":[{\"marker\":{\"pattern\":{\"fillmode\":\"overlay\",\"size\":10,\"solidity\":0.2}},\"type\":\"histogram\"}],\"scattergl\":[{\"type\":\"scattergl\",\"marker\":{\"colorbar\":{\"outlinewidth\":0,\"ticks\":\"\"}}}],\"scatter3d\":[{\"type\":\"scatter3d\",\"line\":{\"colorbar\":{\"outlinewidth\":0,\"ticks\":\"\"}},\"marker\":{\"colorbar\":{\"outlinewidth\":0,\"ticks\":\"\"}}}],\"scattermapbox\":[{\"type\":\"scattermapbox\",\"marker\":{\"colorbar\":{\"outlinewidth\":0,\"ticks\":\"\"}}}],\"scatterternary\":[{\"type\":\"scatterternary\",\"marker\":{\"colorbar\":{\"outlinewidth\":0,\"ticks\":\"\"}}}],\"scattercarpet\":[{\"type\":\"scattercarpet\",\"marker\":{\"colorbar\":{\"outlinewidth\":0,\"ticks\":\"\"}}}],\"carpet\":[{\"aaxis\":{\"endlinecolor\":\"#2a3f5f\",\"gridcolor\":\"white\",\"linecolor\":\"white\",\"minorgridcolor\":\"white\",\"startlinecolor\":\"#2a3f5f\"},\"baxis\":{\"endlinecolor\":\"#2a3f5f\",\"gridcolor\":\"white\",\"linecolor\":\"white\",\"minorgridcolor\":\"white\",\"startlinecolor\":\"#2a3f5f\"},\"type\":\"carpet\"}],\"table\":[{\"cells\":{\"fill\":{\"color\":\"#EBF0F8\"},\"line\":{\"color\":\"white\"}},\"header\":{\"fill\":{\"color\":\"#C8D4E3\"},\"line\":{\"color\":\"white\"}},\"type\":\"table\"}],\"barpolar\":[{\"marker\":{\"line\":{\"color\":\"#E5ECF6\",\"width\":0.5},\"pattern\":{\"fillmode\":\"overlay\",\"size\":10,\"solidity\":0.2}},\"type\":\"barpolar\"}],\"pie\":[{\"automargin\":true,\"type\":\"pie\"}]},\"layout\":{\"autotypenumbers\":\"strict\",\"colorway\":[\"#636efa\",\"#EF553B\",\"#00cc96\",\"#ab63fa\",\"#FFA15A\",\"#19d3f3\",\"#FF6692\",\"#B6E880\",\"#FF97FF\",\"#FECB52\"],\"font\":{\"color\":\"#2a3f5f\"},\"hovermode\":\"closest\",\"hoverlabel\":{\"align\":\"left\"},\"paper_bgcolor\":\"white\",\"plot_bgcolor\":\"#E5ECF6\",\"polar\":{\"bgcolor\":\"#E5ECF6\",\"angularaxis\":{\"gridcolor\":\"white\",\"linecolor\":\"white\",\"ticks\":\"\"},\"radialaxis\":{\"gridcolor\":\"white\",\"linecolor\":\"white\",\"ticks\":\"\"}},\"ternary\":{\"bgcolor\":\"#E5ECF6\",\"aaxis\":{\"gridcolor\":\"white\",\"linecolor\":\"white\",\"ticks\":\"\"},\"baxis\":{\"gridcolor\":\"white\",\"linecolor\":\"white\",\"ticks\":\"\"},\"caxis\":{\"gridcolor\":\"white\",\"linecolor\":\"white\",\"ticks\":\"\"}},\"coloraxis\":{\"colorbar\":{\"outlinewidth\":0,\"ticks\":\"\"}},\"colorscale\":{\"sequential\":[[0.0,\"#0d0887\"],[0.1111111111111111,\"#46039f\"],[0.2222222222222222,\"#7201a8\"],[0.3333333333333333,\"#9c179e\"],[0.4444444444444444,\"#bd3786\"],[0.5555555555555556,\"#d8576b\"],[0.6666666666666666,\"#ed7953\"],[0.7777777777777778,\"#fb9f3a\"],[0.8888888888888888,\"#fdca26\"],[1.0,\"#f0f921\"]],\"sequentialminus\":[[0.0,\"#0d0887\"],[0.1111111111111111,\"#46039f\"],[0.2222222222222222,\"#7201a8\"],[0.3333333333333333,\"#9c179e\"],[0.4444444444444444,\"#bd3786\"],[0.5555555555555556,\"#d8576b\"],[0.6666666666666666,\"#ed7953\"],[0.7777777777777778,\"#fb9f3a\"],[0.8888888888888888,\"#fdca26\"],[1.0,\"#f0f921\"]],\"diverging\":[[0,\"#8e0152\"],[0.1,\"#c51b7d\"],[0.2,\"#de77ae\"],[0.3,\"#f1b6da\"],[0.4,\"#fde0ef\"],[0.5,\"#f7f7f7\"],[0.6,\"#e6f5d0\"],[0.7,\"#b8e186\"],[0.8,\"#7fbc41\"],[0.9,\"#4d9221\"],[1,\"#276419\"]]},\"xaxis\":{\"gridcolor\":\"white\",\"linecolor\":\"white\",\"ticks\":\"\",\"title\":{\"standoff\":15},\"zerolinecolor\":\"white\",\"automargin\":true,\"zerolinewidth\":2},\"yaxis\":{\"gridcolor\":\"white\",\"linecolor\":\"white\",\"ticks\":\"\",\"title\":{\"standoff\":15},\"zerolinecolor\":\"white\",\"automargin\":true,\"zerolinewidth\":2},\"scene\":{\"xaxis\":{\"backgroundcolor\":\"#E5ECF6\",\"gridcolor\":\"white\",\"linecolor\":\"white\",\"showbackground\":true,\"ticks\":\"\",\"zerolinecolor\":\"white\",\"gridwidth\":2},\"yaxis\":{\"backgroundcolor\":\"#E5ECF6\",\"gridcolor\":\"white\",\"linecolor\":\"white\",\"showbackground\":true,\"ticks\":\"\",\"zerolinecolor\":\"white\",\"gridwidth\":2},\"zaxis\":{\"backgroundcolor\":\"#E5ECF6\",\"gridcolor\":\"white\",\"linecolor\":\"white\",\"showbackground\":true,\"ticks\":\"\",\"zerolinecolor\":\"white\",\"gridwidth\":2}},\"shapedefaults\":{\"line\":{\"color\":\"#2a3f5f\"}},\"annotationdefaults\":{\"arrowcolor\":\"#2a3f5f\",\"arrowhead\":0,\"arrowwidth\":1},\"geo\":{\"bgcolor\":\"white\",\"landcolor\":\"#E5ECF6\",\"subunitcolor\":\"white\",\"showland\":true,\"showlakes\":true,\"lakecolor\":\"white\"},\"title\":{\"x\":0.05},\"mapbox\":{\"style\":\"light\"}}},\"font\":{\"family\":\"Courier New, monospace\",\"size\":50,\"color\":\"black\"},\"title\":{\"text\":\"total distance: 8.8399\"},\"showlegend\":true},                        {\"responsive\": true}                    ).then(function(){\n",
       "                            \n",
       "var gd = document.getElementById('12b4b02f-aab7-4384-a250-913b6deb0b64');\n",
       "var x = new MutationObserver(function (mutations, observer) {{\n",
       "        var display = window.getComputedStyle(gd).display;\n",
       "        if (!display || display === 'none') {{\n",
       "            console.log([gd, 'removed!']);\n",
       "            Plotly.purge(gd);\n",
       "            observer.disconnect();\n",
       "        }}\n",
       "}});\n",
       "\n",
       "// Listen for the removal of the full notebook cells\n",
       "var notebookContainer = gd.closest('#notebook-container');\n",
       "if (notebookContainer) {{\n",
       "    x.observe(notebookContainer, {childList: true});\n",
       "}}\n",
       "\n",
       "// Listen for the clearing of the current output cell\n",
       "var outputEl = gd.closest('.output');\n",
       "if (outputEl) {{\n",
       "    x.observe(outputEl, {childList: true});\n",
       "}}\n",
       "\n",
       "                        })                };                });            </script>        </div>"
      ]
     },
     "metadata": {},
     "output_type": "display_data"
    },
    {
     "name": "stdout",
     "output_type": "stream",
     "text": [
      "2/2 [==============================] - 1s 4ms/step\n"
     ]
    },
    {
     "data": {
      "application/vnd.plotly.v1+json": {
       "config": {
        "plotlyServerURL": "https://plot.ly"
       },
       "data": [
        {
         "hovertemplate": "%{text}",
         "marker": {
          "color": "blue",
          "opacity": 1,
          "size": 20,
          "symbol": "circle"
         },
         "mode": "markers",
         "name": "Con (Augmented)",
         "text": [
          "Text: the spark of special anime conjuration here is unmistakable and hard to withstand .  <br> Label: Con (augmented) <br> Distance: 1.12698",
          "Text: parker updates the position in an attempt to crap the film relevant today , without fully understanding what it was that cause the story relevant in the commencement billet .  <br> Label: Con (augmented) <br> Distance: 0.29943",
          "Text: a smarting , provocative drama that does the nearly impossible : it become under the skin of a humans we only acknowledge as an evil , monstrous madman .  <br> Label: Con (augmented) <br> Distance: 0.39760",
          "Text: it's not as dire as some of the recent hollywood slip tripe . . . but it's far from a groundbreaking endeavour .  <br> Label: Con (augmented) <br> Distance: 0.03628",
          "Text: noyce flick it more as a shock history lesson than as drama .  <br> Label: Con (augmented) <br> Distance: 0.59912",
          "Text: if there was a influenza inject for the blues , it might come in the physique of this embraceable ode to loneliness and dear regained .  <br> Label: Con (augmented) <br> Distance: 0.16295",
          "Text: blooming sunday has the adorn to vociferation for prevention rather than to post pick , making it one of the best war movies ever score . it's a movie that accomplishes so much that I viewing can't possibly be enough .  <br> Label: Con (augmented) <br> Distance: 0.67706",
          "Text: the film tries too severe to be singular and tries too firmly to be hip . the end consequence is a film that's neither .  <br> Label: Con (augmented) <br> Distance: 0.02771",
          "Text: little more than a stylish practise in revisionism whose tip . . . is no doubt straight , but do as a rather thin moral to such a bed fable .  <br> Label: Con (augmented) <br> Distance: 0.30435",
          "Text: it's not leaving to be everyone's bag of popcorn , but it definitely establish you something to manducate on .  <br> Label: Con (augmented) <br> Distance: 0.07910",
          "Text: this daring pic challenges most widely held notions about spiritual conviction while supply a complex portrait of an identity crisis that's course murderously and a proficient mind that's jumped the tracks .  <br> Label: Con (augmented) <br> Distance: 0.00685",
          "Text: some torso is a shaky , uncertain film that nevertheless meet a few raw nerves .  <br> Label: Con (augmented) <br> Distance: 0.69958",
          "Text: so refreshingly penetrative is grant that for the get-go time he'll probably appealingness more to hombre than to their girlfriends who puff them to this film for the hugh factor .  <br> Label: Con (augmented) <br> Distance: 0.74574",
          "Text: this is a account that zings all the mode through with originality , humor and pathos .  <br> Label: Con (augmented) <br> Distance: 0.69165",
          "Text: an enrapture take that presents an audacious tour of the past and shoot within its warm embracing the bounties of ethnic artifacts inside st . petersburg's hermitage museum .  <br> Label: Con (augmented) <br> Distance: 1.68398"
         ],
         "type": "scatter",
         "x": [
          0.3431579021314072,
          1.0493916276274502,
          0.5966824706379742,
          1.0154549277151461,
          1.1726560090812503,
          0.17955468555898563,
          1.2360416850949163,
          1.2864325599179156,
          1.3059563017875628,
          1.2889526126013242,
          0.6033778569402019,
          0.9226979788971035,
          0.7627784290486465,
          0.9187827076043572,
          -0.08261372959912124
         ],
         "y": [
          0.34379627031799714,
          0.8907821476526347,
          0.5989578128908609,
          1.279772079982569,
          0.9393445674102179,
          0.17989828834032162,
          0.9703608300580667,
          1.2408871735207612,
          1.1909077033889952,
          1.0225084808457776,
          0.6042245906632413,
          1.1998520642753265,
          0.764861189584729,
          1.193474352502609,
          -0.08274217225276716
         ]
        },
        {
         "hovertemplate": "%{text}",
         "marker": {
          "color": "blue",
          "opacity": 0.3,
          "size": 60,
          "symbol": "circle"
         },
         "mode": "markers",
         "name": "Con (Original)",
         "text": [
          "Text: the spark of special anime magic here is unmistakable and hard to resist .  <br> Label: Con (original) <br> Distance: 1.12698",
          "Text: parker updates the setting in an attempt to make the film relevant today , without fully understanding what it was that made the story relevant in the first place .  <br> Label: Con (original) <br> Distance: 0.29943",
          "Text: a smart , provocative drama that does the nearly impossible : it gets under the skin of a man we only know as an evil , monstrous lunatic .  <br> Label: Con (original) <br> Distance: 0.39760",
          "Text: it's not as awful as some of the recent hollywood trip tripe . . . but it's far from a groundbreaking endeavor .  <br> Label: Con (original) <br> Distance: 0.03628",
          "Text: noyce films it more as a shocking history lesson than as drama .  <br> Label: Con (original) <br> Distance: 0.59912",
          "Text: if there was a flu shot for the blues , it might come in the form of this embraceable ode to loneliness and love regained .  <br> Label: Con (original) <br> Distance: 0.16295",
          "Text: bloody sunday has the grace to call for prevention rather than to place blame , making it one of the best war movies ever made . it's a movie that accomplishes so much that one viewing can't possibly be enough .  <br> Label: Con (original) <br> Distance: 0.67706",
          "Text: the film tries too hard to be funny and tries too hard to be hip . the end result is a film that's neither .  <br> Label: Con (original) <br> Distance: 0.02771",
          "Text: little more than a stylish exercise in revisionism whose point . . . is no doubt true , but serves as a rather thin moral to such a knowing fable .  <br> Label: Con (original) <br> Distance: 0.30435",
          "Text: it's not going to be everyone's bag of popcorn , but it definitely gives you something to chew on .  <br> Label: Con (original) <br> Distance: 0.07910",
          "Text: this daring film challenges most widely held notions about religious conviction while providing a complex portrait of an identity crisis that's run amok and a good mind that's jumped the tracks .  <br> Label: Con (original) <br> Distance: 0.00685",
          "Text: some body is a shaky , uncertain film that nevertheless touches a few raw nerves .  <br> Label: Con (original) <br> Distance: 0.69958",
          "Text: so refreshingly incisive is grant that for the first time he'll probably appeal more to guys than to their girlfriends who drag them to this movie for the hugh factor .  <br> Label: Con (original) <br> Distance: 0.74574",
          "Text: this is a story that zings all the way through with originality , humour and pathos .  <br> Label: Con (original) <br> Distance: 0.69165",
          "Text: an enchanting film that presents an audacious tour of the past and takes within its warm embrace the bounties of cultural artifacts inside st . petersburg's hermitage museum .  <br> Label: Con (original) <br> Distance: 1.68398"
         ],
         "type": "scatter",
         "x": [
          -0.0979227844273991,
          0.8797745056056048,
          0.7510567003251926,
          1.0353075466388235,
          0.8959150000480269,
          0.24334013213287953,
          1.1035250201032192,
          1.2864930595329114,
          1.1659368243522705,
          1.3080234675426017,
          0.600445345981098,
          1.280993185764928,
          0.8902210114015969,
          1.2560092819598894,
          0.5759389877152807
         ],
         "y": [
          -0.09808862586194508,
          0.9426544660944408,
          0.7557577368419983,
          1.2875459089904693,
          1.1374518545499008,
          0.24377982549027105,
          1.3009977903840424,
          1.2551987912466724,
          1.2921273111647698,
          1.0599332392942848,
          0.6017401964722858,
          1.0105315237989165,
          1.134129888526725,
          0.9844096753214729,
          0.5779251799126337
         ]
        },
        {
         "hovertemplate": "%{text}",
         "marker": {
          "color": "red",
          "opacity": 1,
          "size": 20,
          "symbol": "diamond"
         },
         "mode": "markers",
         "name": "Pro (Augmented)",
         "text": [
          "Text: as the sexual revolution flower , and smut sub culture flourished john was the man .  <br> Label: Pro (augmented) <br> Distance: 0.05404",
          "Text: the rock as a bounty hunter who undertake to lame a debt by steer to the amazon jungle to entrance someone .  <br> Label: Pro (augmented) <br> Distance: 0.46591",
          "Text: barry egan ( adam sandler ) is a small business proprietor with seven-spot sisters whose abuse has kept him alone and unable to spill in jazz .  <br> Label: Pro (augmented) <br> Distance: 0.43115",
          "Text: both will oppose to the death not to feed it to each other .  <br> Label: Pro (augmented) <br> Distance: 0.30878",
          "Text: in this flick , de niro shimmer mitch preston , a hard-nosed , hardworking police detective .  <br> Label: Pro (augmented) <br> Distance: 0.28076",
          "Text: after having a divine vision and verbalise with jesus , she suddenly transfer her front and usual ways , touch the local , ultra conservative population .  <br> Label: Pro (augmented) <br> Distance: 0.28044",
          "Text: the parent corporation beam in an elite military unit , where they play alice , who is suffering from blackout due to exposure to nerve gasconade .  <br> Label: Pro (augmented) <br> Distance: 0.09630",
          "Text: in order take loan sharks off his gage , he must ending his novel in 30 days or hoist up dead .  <br> Label: Pro (augmented) <br> Distance: 0.45802",
          "Text: for anni they are not enemies , but just homo .  <br> Label: Pro (augmented) <br> Distance: 0.73551",
          "Text: new york serves as a backdrop for a project of characters in search of fuck , thirst or lucre include a woman who pee-pee clumsy go on the man renovating her soho loft , an embezzler , a sleazy artist and a ring psychic .  <br> Label: Pro (augmented) <br> Distance: 0.96087",
          "Text: based on the edgar allen poe inadequate story , \" the facts in the case of m . valdemar , \" drollery revolves around a MD who convinces a dying man's house to allow him to put the humans in a bewitch as he acquire his concluding breaths .  <br> Label: Pro (augmented) <br> Distance: 0.26534",
          "Text: regulus : the beginning nuclear projectile bomber is a documentary about the navy's struggle , in the era immediately postdate wwii , to prepare and deploy a submarine-launched nuclear missile .  <br> Label: Pro (augmented) <br> Distance: 1.30303",
          "Text: as portion would have it , they understand how faithful they all are from the other side ; of life , of love , and of miss it .  <br> Label: Pro (augmented) <br> Distance: 0.94135",
          "Text: chock full of ethnic flavor , capriciousness , doubt , faith , joy and wonder , Mary and joe is a delightful surprise , as the older account is brought into the portray with startling freshness and mightiness .  <br> Label: Pro (augmented) <br> Distance: 0.10812",
          "Text: the plants are the only rupture in the grey monotony some her .  <br> Label: Pro (augmented) <br> Distance: 0.88386"
         ],
         "type": "scatter",
         "x": [
          -1.3025758141176569,
          -1.175121977689405,
          -1.2029130564620543,
          -0.9803561011639581,
          -1.0114755727069893,
          -1.395056106224708,
          -1.278349804186258,
          -1.1885314592980238,
          -0.2901704182401465,
          -0.39564146150439605,
          -0.5218798219590951,
          -0.7492880274129203,
          -0.8491029480516185,
          0.7217658547341164,
          -0.2649486376906007
         ],
         "y": [
          -1.1162631311579985,
          -1.373515078540214,
          -1.3871025866648885,
          -0.9801836439657241,
          -1.015542794139386,
          -1.3317066466148744,
          -1.393687551905719,
          -1.3797191183712985,
          -0.29062775959570475,
          -0.396432833037468,
          -0.5228795207345512,
          -0.7514830667221025,
          -0.8519865764399122,
          0.7192532976928171,
          -0.26537777635760795
         ]
        },
        {
         "hovertemplate": "%{text}",
         "marker": {
          "color": "red",
          "opacity": 0.3,
          "size": 60,
          "symbol": "diamond"
         },
         "mode": "markers",
         "name": "Pro (Original)",
         "text": [
          "Text: as the sexual revolution blossomed , and porn sub culture flourished john was the man .  <br> Label: Pro (original) <br> Distance: 0.05404",
          "Text: the rock as a bounty hunter who attempts to square a debt by heading to the amazon jungle to capture someone .  <br> Label: Pro (original) <br> Distance: 0.46591",
          "Text: barry egan ( adam sandler ) is a small business owner with seven sisters whose abuse has kept him alone and unable to fall in love .  <br> Label: Pro (original) <br> Distance: 0.43115",
          "Text: both will fight to the death not to give it to each other .  <br> Label: Pro (original) <br> Distance: 0.30878",
          "Text: in this movie , de niro plays mitch preston , a hard-nosed , hardworking police detective .  <br> Label: Pro (original) <br> Distance: 0.28076",
          "Text: after having a divine vision and speaking with jesus , she suddenly changes her look and usual ways , disturbing the local , ultra conservative population .  <br> Label: Pro (original) <br> Distance: 0.28044",
          "Text: the parent corporation sends in an elite military unit , where they meet alice , who is suffering from amnesia due to exposure to nerve gas .  <br> Label: Pro (original) <br> Distance: 0.09630",
          "Text: in order get loan sharks off his back , he must finish his novel in 30 days or wind up dead .  <br> Label: Pro (original) <br> Distance: 0.45802",
          "Text: for anni they are not enemies , but just men .  <br> Label: Pro (original) <br> Distance: 0.73551",
          "Text: new york serves as a backdrop for a cast of characters in search of love , lust or lucre including a woman who makes awkward moves on the man renovating her soho loft , an embezzler , a sleazy artist and a phone psychic .  <br> Label: Pro (original) <br> Distance: 0.96087",
          "Text: based on the edgar allen poe short story , \" the facts in the case of m . valdemar , \" comedy revolves around a doctor who convinces a dying man's family to allow him to put the man in a trance as he takes his final breaths .  <br> Label: Pro (original) <br> Distance: 0.26534",
          "Text: regulus : the first nuclear missile submarine is a documentary about the navy's struggle , in the era immediately following wwii , to develop and deploy a submarine-launched nuclear missile .  <br> Label: Pro (original) <br> Distance: 1.30303",
          "Text: as fate would have it , they realize how close they all are from the other side ; of life , of love , and of losing it .  <br> Label: Pro (original) <br> Distance: 0.94135",
          "Text: chock full of ethnic flavor , whimsy , doubt , faith , joy and wonder , mary and joe is a delightful surprise , as the old story is brought into the present with startling freshness and power .  <br> Label: Pro (original) <br> Distance: 0.10812",
          "Text: the plants are the only break in the grey monotony around her .  <br> Label: Pro (original) <br> Distance: 0.88386"
         ],
         "type": "scatter",
         "x": [
          -1.3298015368909306,
          -1.4167867937655576,
          -1.4174497806602229,
          -1.1145210760157591,
          -1.0849739672450496,
          -1.397291509653201,
          -1.3339633226101828,
          -1.4167309534811006,
          -0.5782270953403684,
          -0.01962137276493706,
          -0.6256207393110298,
          -1.1292047053217154,
          -1.0932129897547773,
          0.6777992648579958,
          -0.6111091557852183
         ],
         "y": [
          -1.1314958685679621,
          -1.2517892946880498,
          -1.26208305419916,
          -1.0904292518699297,
          -1.1460813563984509,
          -1.1868788976042577,
          -1.3798361515495232,
          -1.2472763831279146,
          -0.5788768989204596,
          -0.01964402704586186,
          -0.6269989839423737,
          -1.340057469316482,
          -1.2906315229431204,
          0.6781169705635121,
          -0.6117653230115719
         ]
        }
       ],
       "layout": {
        "font": {
         "color": "black",
         "family": "Courier New, monospace",
         "size": 50
        },
        "showlegend": true,
        "template": {
         "data": {
          "bar": [
           {
            "error_x": {
             "color": "#2a3f5f"
            },
            "error_y": {
             "color": "#2a3f5f"
            },
            "marker": {
             "line": {
              "color": "#E5ECF6",
              "width": 0.5
             },
             "pattern": {
              "fillmode": "overlay",
              "size": 10,
              "solidity": 0.2
             }
            },
            "type": "bar"
           }
          ],
          "barpolar": [
           {
            "marker": {
             "line": {
              "color": "#E5ECF6",
              "width": 0.5
             },
             "pattern": {
              "fillmode": "overlay",
              "size": 10,
              "solidity": 0.2
             }
            },
            "type": "barpolar"
           }
          ],
          "carpet": [
           {
            "aaxis": {
             "endlinecolor": "#2a3f5f",
             "gridcolor": "white",
             "linecolor": "white",
             "minorgridcolor": "white",
             "startlinecolor": "#2a3f5f"
            },
            "baxis": {
             "endlinecolor": "#2a3f5f",
             "gridcolor": "white",
             "linecolor": "white",
             "minorgridcolor": "white",
             "startlinecolor": "#2a3f5f"
            },
            "type": "carpet"
           }
          ],
          "choropleth": [
           {
            "colorbar": {
             "outlinewidth": 0,
             "ticks": ""
            },
            "type": "choropleth"
           }
          ],
          "contour": [
           {
            "colorbar": {
             "outlinewidth": 0,
             "ticks": ""
            },
            "colorscale": [
             [
              0,
              "#0d0887"
             ],
             [
              0.1111111111111111,
              "#46039f"
             ],
             [
              0.2222222222222222,
              "#7201a8"
             ],
             [
              0.3333333333333333,
              "#9c179e"
             ],
             [
              0.4444444444444444,
              "#bd3786"
             ],
             [
              0.5555555555555556,
              "#d8576b"
             ],
             [
              0.6666666666666666,
              "#ed7953"
             ],
             [
              0.7777777777777778,
              "#fb9f3a"
             ],
             [
              0.8888888888888888,
              "#fdca26"
             ],
             [
              1,
              "#f0f921"
             ]
            ],
            "type": "contour"
           }
          ],
          "contourcarpet": [
           {
            "colorbar": {
             "outlinewidth": 0,
             "ticks": ""
            },
            "type": "contourcarpet"
           }
          ],
          "heatmap": [
           {
            "colorbar": {
             "outlinewidth": 0,
             "ticks": ""
            },
            "colorscale": [
             [
              0,
              "#0d0887"
             ],
             [
              0.1111111111111111,
              "#46039f"
             ],
             [
              0.2222222222222222,
              "#7201a8"
             ],
             [
              0.3333333333333333,
              "#9c179e"
             ],
             [
              0.4444444444444444,
              "#bd3786"
             ],
             [
              0.5555555555555556,
              "#d8576b"
             ],
             [
              0.6666666666666666,
              "#ed7953"
             ],
             [
              0.7777777777777778,
              "#fb9f3a"
             ],
             [
              0.8888888888888888,
              "#fdca26"
             ],
             [
              1,
              "#f0f921"
             ]
            ],
            "type": "heatmap"
           }
          ],
          "heatmapgl": [
           {
            "colorbar": {
             "outlinewidth": 0,
             "ticks": ""
            },
            "colorscale": [
             [
              0,
              "#0d0887"
             ],
             [
              0.1111111111111111,
              "#46039f"
             ],
             [
              0.2222222222222222,
              "#7201a8"
             ],
             [
              0.3333333333333333,
              "#9c179e"
             ],
             [
              0.4444444444444444,
              "#bd3786"
             ],
             [
              0.5555555555555556,
              "#d8576b"
             ],
             [
              0.6666666666666666,
              "#ed7953"
             ],
             [
              0.7777777777777778,
              "#fb9f3a"
             ],
             [
              0.8888888888888888,
              "#fdca26"
             ],
             [
              1,
              "#f0f921"
             ]
            ],
            "type": "heatmapgl"
           }
          ],
          "histogram": [
           {
            "marker": {
             "pattern": {
              "fillmode": "overlay",
              "size": 10,
              "solidity": 0.2
             }
            },
            "type": "histogram"
           }
          ],
          "histogram2d": [
           {
            "colorbar": {
             "outlinewidth": 0,
             "ticks": ""
            },
            "colorscale": [
             [
              0,
              "#0d0887"
             ],
             [
              0.1111111111111111,
              "#46039f"
             ],
             [
              0.2222222222222222,
              "#7201a8"
             ],
             [
              0.3333333333333333,
              "#9c179e"
             ],
             [
              0.4444444444444444,
              "#bd3786"
             ],
             [
              0.5555555555555556,
              "#d8576b"
             ],
             [
              0.6666666666666666,
              "#ed7953"
             ],
             [
              0.7777777777777778,
              "#fb9f3a"
             ],
             [
              0.8888888888888888,
              "#fdca26"
             ],
             [
              1,
              "#f0f921"
             ]
            ],
            "type": "histogram2d"
           }
          ],
          "histogram2dcontour": [
           {
            "colorbar": {
             "outlinewidth": 0,
             "ticks": ""
            },
            "colorscale": [
             [
              0,
              "#0d0887"
             ],
             [
              0.1111111111111111,
              "#46039f"
             ],
             [
              0.2222222222222222,
              "#7201a8"
             ],
             [
              0.3333333333333333,
              "#9c179e"
             ],
             [
              0.4444444444444444,
              "#bd3786"
             ],
             [
              0.5555555555555556,
              "#d8576b"
             ],
             [
              0.6666666666666666,
              "#ed7953"
             ],
             [
              0.7777777777777778,
              "#fb9f3a"
             ],
             [
              0.8888888888888888,
              "#fdca26"
             ],
             [
              1,
              "#f0f921"
             ]
            ],
            "type": "histogram2dcontour"
           }
          ],
          "mesh3d": [
           {
            "colorbar": {
             "outlinewidth": 0,
             "ticks": ""
            },
            "type": "mesh3d"
           }
          ],
          "parcoords": [
           {
            "line": {
             "colorbar": {
              "outlinewidth": 0,
              "ticks": ""
             }
            },
            "type": "parcoords"
           }
          ],
          "pie": [
           {
            "automargin": true,
            "type": "pie"
           }
          ],
          "scatter": [
           {
            "fillpattern": {
             "fillmode": "overlay",
             "size": 10,
             "solidity": 0.2
            },
            "type": "scatter"
           }
          ],
          "scatter3d": [
           {
            "line": {
             "colorbar": {
              "outlinewidth": 0,
              "ticks": ""
             }
            },
            "marker": {
             "colorbar": {
              "outlinewidth": 0,
              "ticks": ""
             }
            },
            "type": "scatter3d"
           }
          ],
          "scattercarpet": [
           {
            "marker": {
             "colorbar": {
              "outlinewidth": 0,
              "ticks": ""
             }
            },
            "type": "scattercarpet"
           }
          ],
          "scattergeo": [
           {
            "marker": {
             "colorbar": {
              "outlinewidth": 0,
              "ticks": ""
             }
            },
            "type": "scattergeo"
           }
          ],
          "scattergl": [
           {
            "marker": {
             "colorbar": {
              "outlinewidth": 0,
              "ticks": ""
             }
            },
            "type": "scattergl"
           }
          ],
          "scattermapbox": [
           {
            "marker": {
             "colorbar": {
              "outlinewidth": 0,
              "ticks": ""
             }
            },
            "type": "scattermapbox"
           }
          ],
          "scatterpolar": [
           {
            "marker": {
             "colorbar": {
              "outlinewidth": 0,
              "ticks": ""
             }
            },
            "type": "scatterpolar"
           }
          ],
          "scatterpolargl": [
           {
            "marker": {
             "colorbar": {
              "outlinewidth": 0,
              "ticks": ""
             }
            },
            "type": "scatterpolargl"
           }
          ],
          "scatterternary": [
           {
            "marker": {
             "colorbar": {
              "outlinewidth": 0,
              "ticks": ""
             }
            },
            "type": "scatterternary"
           }
          ],
          "surface": [
           {
            "colorbar": {
             "outlinewidth": 0,
             "ticks": ""
            },
            "colorscale": [
             [
              0,
              "#0d0887"
             ],
             [
              0.1111111111111111,
              "#46039f"
             ],
             [
              0.2222222222222222,
              "#7201a8"
             ],
             [
              0.3333333333333333,
              "#9c179e"
             ],
             [
              0.4444444444444444,
              "#bd3786"
             ],
             [
              0.5555555555555556,
              "#d8576b"
             ],
             [
              0.6666666666666666,
              "#ed7953"
             ],
             [
              0.7777777777777778,
              "#fb9f3a"
             ],
             [
              0.8888888888888888,
              "#fdca26"
             ],
             [
              1,
              "#f0f921"
             ]
            ],
            "type": "surface"
           }
          ],
          "table": [
           {
            "cells": {
             "fill": {
              "color": "#EBF0F8"
             },
             "line": {
              "color": "white"
             }
            },
            "header": {
             "fill": {
              "color": "#C8D4E3"
             },
             "line": {
              "color": "white"
             }
            },
            "type": "table"
           }
          ]
         },
         "layout": {
          "annotationdefaults": {
           "arrowcolor": "#2a3f5f",
           "arrowhead": 0,
           "arrowwidth": 1
          },
          "autotypenumbers": "strict",
          "coloraxis": {
           "colorbar": {
            "outlinewidth": 0,
            "ticks": ""
           }
          },
          "colorscale": {
           "diverging": [
            [
             0,
             "#8e0152"
            ],
            [
             0.1,
             "#c51b7d"
            ],
            [
             0.2,
             "#de77ae"
            ],
            [
             0.3,
             "#f1b6da"
            ],
            [
             0.4,
             "#fde0ef"
            ],
            [
             0.5,
             "#f7f7f7"
            ],
            [
             0.6,
             "#e6f5d0"
            ],
            [
             0.7,
             "#b8e186"
            ],
            [
             0.8,
             "#7fbc41"
            ],
            [
             0.9,
             "#4d9221"
            ],
            [
             1,
             "#276419"
            ]
           ],
           "sequential": [
            [
             0,
             "#0d0887"
            ],
            [
             0.1111111111111111,
             "#46039f"
            ],
            [
             0.2222222222222222,
             "#7201a8"
            ],
            [
             0.3333333333333333,
             "#9c179e"
            ],
            [
             0.4444444444444444,
             "#bd3786"
            ],
            [
             0.5555555555555556,
             "#d8576b"
            ],
            [
             0.6666666666666666,
             "#ed7953"
            ],
            [
             0.7777777777777778,
             "#fb9f3a"
            ],
            [
             0.8888888888888888,
             "#fdca26"
            ],
            [
             1,
             "#f0f921"
            ]
           ],
           "sequentialminus": [
            [
             0,
             "#0d0887"
            ],
            [
             0.1111111111111111,
             "#46039f"
            ],
            [
             0.2222222222222222,
             "#7201a8"
            ],
            [
             0.3333333333333333,
             "#9c179e"
            ],
            [
             0.4444444444444444,
             "#bd3786"
            ],
            [
             0.5555555555555556,
             "#d8576b"
            ],
            [
             0.6666666666666666,
             "#ed7953"
            ],
            [
             0.7777777777777778,
             "#fb9f3a"
            ],
            [
             0.8888888888888888,
             "#fdca26"
            ],
            [
             1,
             "#f0f921"
            ]
           ]
          },
          "colorway": [
           "#636efa",
           "#EF553B",
           "#00cc96",
           "#ab63fa",
           "#FFA15A",
           "#19d3f3",
           "#FF6692",
           "#B6E880",
           "#FF97FF",
           "#FECB52"
          ],
          "font": {
           "color": "#2a3f5f"
          },
          "geo": {
           "bgcolor": "white",
           "lakecolor": "white",
           "landcolor": "#E5ECF6",
           "showlakes": true,
           "showland": true,
           "subunitcolor": "white"
          },
          "hoverlabel": {
           "align": "left"
          },
          "hovermode": "closest",
          "mapbox": {
           "style": "light"
          },
          "paper_bgcolor": "white",
          "plot_bgcolor": "#E5ECF6",
          "polar": {
           "angularaxis": {
            "gridcolor": "white",
            "linecolor": "white",
            "ticks": ""
           },
           "bgcolor": "#E5ECF6",
           "radialaxis": {
            "gridcolor": "white",
            "linecolor": "white",
            "ticks": ""
           }
          },
          "scene": {
           "xaxis": {
            "backgroundcolor": "#E5ECF6",
            "gridcolor": "white",
            "gridwidth": 2,
            "linecolor": "white",
            "showbackground": true,
            "ticks": "",
            "zerolinecolor": "white"
           },
           "yaxis": {
            "backgroundcolor": "#E5ECF6",
            "gridcolor": "white",
            "gridwidth": 2,
            "linecolor": "white",
            "showbackground": true,
            "ticks": "",
            "zerolinecolor": "white"
           },
           "zaxis": {
            "backgroundcolor": "#E5ECF6",
            "gridcolor": "white",
            "gridwidth": 2,
            "linecolor": "white",
            "showbackground": true,
            "ticks": "",
            "zerolinecolor": "white"
           }
          },
          "shapedefaults": {
           "line": {
            "color": "#2a3f5f"
           }
          },
          "ternary": {
           "aaxis": {
            "gridcolor": "white",
            "linecolor": "white",
            "ticks": ""
           },
           "baxis": {
            "gridcolor": "white",
            "linecolor": "white",
            "ticks": ""
           },
           "bgcolor": "#E5ECF6",
           "caxis": {
            "gridcolor": "white",
            "linecolor": "white",
            "ticks": ""
           }
          },
          "title": {
           "x": 0.05
          },
          "xaxis": {
           "automargin": true,
           "gridcolor": "white",
           "linecolor": "white",
           "ticks": "",
           "title": {
            "standoff": 15
           },
           "zerolinecolor": "white",
           "zerolinewidth": 2
          },
          "yaxis": {
           "automargin": true,
           "gridcolor": "white",
           "linecolor": "white",
           "ticks": "",
           "title": {
            "standoff": 15
           },
           "zerolinecolor": "white",
           "zerolinewidth": 2
          }
         }
        },
        "title": {
         "text": "total distance: 8.8880"
        }
       }
      },
      "text/html": [
       "<div>                            <div id=\"6b3033bf-a570-4e39-99b1-3f40ddc81cb8\" class=\"plotly-graph-div\" style=\"height:525px; width:100%;\"></div>            <script type=\"text/javascript\">                require([\"plotly\"], function(Plotly) {                    window.PLOTLYENV=window.PLOTLYENV || {};                                    if (document.getElementById(\"6b3033bf-a570-4e39-99b1-3f40ddc81cb8\")) {                    Plotly.newPlot(                        \"6b3033bf-a570-4e39-99b1-3f40ddc81cb8\",                        [{\"hovertemplate\":\"%{text}\",\"marker\":{\"color\":\"blue\",\"opacity\":1,\"size\":20,\"symbol\":\"circle\"},\"mode\":\"markers\",\"name\":\"Con (Augmented)\",\"text\":[\"Text: the spark of special anime conjuration here is unmistakable and hard to withstand .  <br> Label: Con (augmented) <br> Distance: 1.12698\",\"Text: parker updates the position in an attempt to crap the film relevant today , without fully understanding what it was that cause the story relevant in the commencement billet .  <br> Label: Con (augmented) <br> Distance: 0.29943\",\"Text: a smarting , provocative drama that does the nearly impossible : it become under the skin of a humans we only acknowledge as an evil , monstrous madman .  <br> Label: Con (augmented) <br> Distance: 0.39760\",\"Text: it's not as dire as some of the recent hollywood slip tripe . . . but it's far from a groundbreaking endeavour .  <br> Label: Con (augmented) <br> Distance: 0.03628\",\"Text: noyce flick it more as a shock history lesson than as drama .  <br> Label: Con (augmented) <br> Distance: 0.59912\",\"Text: if there was a influenza inject for the blues , it might come in the physique of this embraceable ode to loneliness and dear regained .  <br> Label: Con (augmented) <br> Distance: 0.16295\",\"Text: blooming sunday has the adorn to vociferation for prevention rather than to post pick , making it one of the best war movies ever score . it's a movie that accomplishes so much that I viewing can't possibly be enough .  <br> Label: Con (augmented) <br> Distance: 0.67706\",\"Text: the film tries too severe to be singular and tries too firmly to be hip . the end consequence is a film that's neither .  <br> Label: Con (augmented) <br> Distance: 0.02771\",\"Text: little more than a stylish practise in revisionism whose tip . . . is no doubt straight , but do as a rather thin moral to such a bed fable .  <br> Label: Con (augmented) <br> Distance: 0.30435\",\"Text: it's not leaving to be everyone's bag of popcorn , but it definitely establish you something to manducate on .  <br> Label: Con (augmented) <br> Distance: 0.07910\",\"Text: this daring pic challenges most widely held notions about spiritual conviction while supply a complex portrait of an identity crisis that's course murderously and a proficient mind that's jumped the tracks .  <br> Label: Con (augmented) <br> Distance: 0.00685\",\"Text: some torso is a shaky , uncertain film that nevertheless meet a few raw nerves .  <br> Label: Con (augmented) <br> Distance: 0.69958\",\"Text: so refreshingly penetrative is grant that for the get-go time he'll probably appealingness more to hombre than to their girlfriends who puff them to this film for the hugh factor .  <br> Label: Con (augmented) <br> Distance: 0.74574\",\"Text: this is a account that zings all the mode through with originality , humor and pathos .  <br> Label: Con (augmented) <br> Distance: 0.69165\",\"Text: an enrapture take that presents an audacious tour of the past and shoot within its warm embracing the bounties of ethnic artifacts inside st . petersburg's hermitage museum .  <br> Label: Con (augmented) <br> Distance: 1.68398\"],\"x\":[0.3431579021314072,1.0493916276274502,0.5966824706379742,1.0154549277151461,1.1726560090812503,0.17955468555898563,1.2360416850949163,1.2864325599179156,1.3059563017875628,1.2889526126013242,0.6033778569402019,0.9226979788971035,0.7627784290486465,0.9187827076043572,-0.08261372959912124],\"y\":[0.34379627031799714,0.8907821476526347,0.5989578128908609,1.279772079982569,0.9393445674102179,0.17989828834032162,0.9703608300580667,1.2408871735207612,1.1909077033889952,1.0225084808457776,0.6042245906632413,1.1998520642753265,0.764861189584729,1.193474352502609,-0.08274217225276716],\"type\":\"scatter\"},{\"hovertemplate\":\"%{text}\",\"marker\":{\"color\":\"blue\",\"opacity\":0.3,\"size\":60,\"symbol\":\"circle\"},\"mode\":\"markers\",\"name\":\"Con (Original)\",\"text\":[\"Text: the spark of special anime magic here is unmistakable and hard to resist .  <br> Label: Con (original) <br> Distance: 1.12698\",\"Text: parker updates the setting in an attempt to make the film relevant today , without fully understanding what it was that made the story relevant in the first place .  <br> Label: Con (original) <br> Distance: 0.29943\",\"Text: a smart , provocative drama that does the nearly impossible : it gets under the skin of a man we only know as an evil , monstrous lunatic .  <br> Label: Con (original) <br> Distance: 0.39760\",\"Text: it's not as awful as some of the recent hollywood trip tripe . . . but it's far from a groundbreaking endeavor .  <br> Label: Con (original) <br> Distance: 0.03628\",\"Text: noyce films it more as a shocking history lesson than as drama .  <br> Label: Con (original) <br> Distance: 0.59912\",\"Text: if there was a flu shot for the blues , it might come in the form of this embraceable ode to loneliness and love regained .  <br> Label: Con (original) <br> Distance: 0.16295\",\"Text: bloody sunday has the grace to call for prevention rather than to place blame , making it one of the best war movies ever made . it's a movie that accomplishes so much that one viewing can't possibly be enough .  <br> Label: Con (original) <br> Distance: 0.67706\",\"Text: the film tries too hard to be funny and tries too hard to be hip . the end result is a film that's neither .  <br> Label: Con (original) <br> Distance: 0.02771\",\"Text: little more than a stylish exercise in revisionism whose point . . . is no doubt true , but serves as a rather thin moral to such a knowing fable .  <br> Label: Con (original) <br> Distance: 0.30435\",\"Text: it's not going to be everyone's bag of popcorn , but it definitely gives you something to chew on .  <br> Label: Con (original) <br> Distance: 0.07910\",\"Text: this daring film challenges most widely held notions about religious conviction while providing a complex portrait of an identity crisis that's run amok and a good mind that's jumped the tracks .  <br> Label: Con (original) <br> Distance: 0.00685\",\"Text: some body is a shaky , uncertain film that nevertheless touches a few raw nerves .  <br> Label: Con (original) <br> Distance: 0.69958\",\"Text: so refreshingly incisive is grant that for the first time he'll probably appeal more to guys than to their girlfriends who drag them to this movie for the hugh factor .  <br> Label: Con (original) <br> Distance: 0.74574\",\"Text: this is a story that zings all the way through with originality , humour and pathos .  <br> Label: Con (original) <br> Distance: 0.69165\",\"Text: an enchanting film that presents an audacious tour of the past and takes within its warm embrace the bounties of cultural artifacts inside st . petersburg's hermitage museum .  <br> Label: Con (original) <br> Distance: 1.68398\"],\"x\":[-0.0979227844273991,0.8797745056056048,0.7510567003251926,1.0353075466388235,0.8959150000480269,0.24334013213287953,1.1035250201032192,1.2864930595329114,1.1659368243522705,1.3080234675426017,0.600445345981098,1.280993185764928,0.8902210114015969,1.2560092819598894,0.5759389877152807],\"y\":[-0.09808862586194508,0.9426544660944408,0.7557577368419983,1.2875459089904693,1.1374518545499008,0.24377982549027105,1.3009977903840424,1.2551987912466724,1.2921273111647698,1.0599332392942848,0.6017401964722858,1.0105315237989165,1.134129888526725,0.9844096753214729,0.5779251799126337],\"type\":\"scatter\"},{\"hovertemplate\":\"%{text}\",\"marker\":{\"color\":\"red\",\"opacity\":1,\"size\":20,\"symbol\":\"diamond\"},\"mode\":\"markers\",\"name\":\"Pro (Augmented)\",\"text\":[\"Text: as the sexual revolution flower , and smut sub culture flourished john was the man .  <br> Label: Pro (augmented) <br> Distance: 0.05404\",\"Text: the rock as a bounty hunter who undertake to lame a debt by steer to the amazon jungle to entrance someone .  <br> Label: Pro (augmented) <br> Distance: 0.46591\",\"Text: barry egan ( adam sandler ) is a small business proprietor with seven-spot sisters whose abuse has kept him alone and unable to spill in jazz .  <br> Label: Pro (augmented) <br> Distance: 0.43115\",\"Text: both will oppose to the death not to feed it to each other .  <br> Label: Pro (augmented) <br> Distance: 0.30878\",\"Text: in this flick , de niro shimmer mitch preston , a hard-nosed , hardworking police detective .  <br> Label: Pro (augmented) <br> Distance: 0.28076\",\"Text: after having a divine vision and verbalise with jesus , she suddenly transfer her front and usual ways , touch the local , ultra conservative population .  <br> Label: Pro (augmented) <br> Distance: 0.28044\",\"Text: the parent corporation beam in an elite military unit , where they play alice , who is suffering from blackout due to exposure to nerve gasconade .  <br> Label: Pro (augmented) <br> Distance: 0.09630\",\"Text: in order take loan sharks off his gage , he must ending his novel in 30 days or hoist up dead .  <br> Label: Pro (augmented) <br> Distance: 0.45802\",\"Text: for anni they are not enemies , but just homo .  <br> Label: Pro (augmented) <br> Distance: 0.73551\",\"Text: new york serves as a backdrop for a project of characters in search of fuck , thirst or lucre include a woman who pee-pee clumsy go on the man renovating her soho loft , an embezzler , a sleazy artist and a ring psychic .  <br> Label: Pro (augmented) <br> Distance: 0.96087\",\"Text: based on the edgar allen poe inadequate story , \\\" the facts in the case of m . valdemar , \\\" drollery revolves around a MD who convinces a dying man's house to allow him to put the humans in a bewitch as he acquire his concluding breaths .  <br> Label: Pro (augmented) <br> Distance: 0.26534\",\"Text: regulus : the beginning nuclear projectile bomber is a documentary about the navy's struggle , in the era immediately postdate wwii , to prepare and deploy a submarine-launched nuclear missile .  <br> Label: Pro (augmented) <br> Distance: 1.30303\",\"Text: as portion would have it , they understand how faithful they all are from the other side ; of life , of love , and of miss it .  <br> Label: Pro (augmented) <br> Distance: 0.94135\",\"Text: chock full of ethnic flavor , capriciousness , doubt , faith , joy and wonder , Mary and joe is a delightful surprise , as the older account is brought into the portray with startling freshness and mightiness .  <br> Label: Pro (augmented) <br> Distance: 0.10812\",\"Text: the plants are the only rupture in the grey monotony some her .  <br> Label: Pro (augmented) <br> Distance: 0.88386\"],\"x\":[-1.3025758141176569,-1.175121977689405,-1.2029130564620543,-0.9803561011639581,-1.0114755727069893,-1.395056106224708,-1.278349804186258,-1.1885314592980238,-0.2901704182401465,-0.39564146150439605,-0.5218798219590951,-0.7492880274129203,-0.8491029480516185,0.7217658547341164,-0.2649486376906007],\"y\":[-1.1162631311579985,-1.373515078540214,-1.3871025866648885,-0.9801836439657241,-1.015542794139386,-1.3317066466148744,-1.393687551905719,-1.3797191183712985,-0.29062775959570475,-0.396432833037468,-0.5228795207345512,-0.7514830667221025,-0.8519865764399122,0.7192532976928171,-0.26537777635760795],\"type\":\"scatter\"},{\"hovertemplate\":\"%{text}\",\"marker\":{\"color\":\"red\",\"opacity\":0.3,\"size\":60,\"symbol\":\"diamond\"},\"mode\":\"markers\",\"name\":\"Pro (Original)\",\"text\":[\"Text: as the sexual revolution blossomed , and porn sub culture flourished john was the man .  <br> Label: Pro (original) <br> Distance: 0.05404\",\"Text: the rock as a bounty hunter who attempts to square a debt by heading to the amazon jungle to capture someone .  <br> Label: Pro (original) <br> Distance: 0.46591\",\"Text: barry egan ( adam sandler ) is a small business owner with seven sisters whose abuse has kept him alone and unable to fall in love .  <br> Label: Pro (original) <br> Distance: 0.43115\",\"Text: both will fight to the death not to give it to each other .  <br> Label: Pro (original) <br> Distance: 0.30878\",\"Text: in this movie , de niro plays mitch preston , a hard-nosed , hardworking police detective .  <br> Label: Pro (original) <br> Distance: 0.28076\",\"Text: after having a divine vision and speaking with jesus , she suddenly changes her look and usual ways , disturbing the local , ultra conservative population .  <br> Label: Pro (original) <br> Distance: 0.28044\",\"Text: the parent corporation sends in an elite military unit , where they meet alice , who is suffering from amnesia due to exposure to nerve gas .  <br> Label: Pro (original) <br> Distance: 0.09630\",\"Text: in order get loan sharks off his back , he must finish his novel in 30 days or wind up dead .  <br> Label: Pro (original) <br> Distance: 0.45802\",\"Text: for anni they are not enemies , but just men .  <br> Label: Pro (original) <br> Distance: 0.73551\",\"Text: new york serves as a backdrop for a cast of characters in search of love , lust or lucre including a woman who makes awkward moves on the man renovating her soho loft , an embezzler , a sleazy artist and a phone psychic .  <br> Label: Pro (original) <br> Distance: 0.96087\",\"Text: based on the edgar allen poe short story , \\\" the facts in the case of m . valdemar , \\\" comedy revolves around a doctor who convinces a dying man's family to allow him to put the man in a trance as he takes his final breaths .  <br> Label: Pro (original) <br> Distance: 0.26534\",\"Text: regulus : the first nuclear missile submarine is a documentary about the navy's struggle , in the era immediately following wwii , to develop and deploy a submarine-launched nuclear missile .  <br> Label: Pro (original) <br> Distance: 1.30303\",\"Text: as fate would have it , they realize how close they all are from the other side ; of life , of love , and of losing it .  <br> Label: Pro (original) <br> Distance: 0.94135\",\"Text: chock full of ethnic flavor , whimsy , doubt , faith , joy and wonder , mary and joe is a delightful surprise , as the old story is brought into the present with startling freshness and power .  <br> Label: Pro (original) <br> Distance: 0.10812\",\"Text: the plants are the only break in the grey monotony around her .  <br> Label: Pro (original) <br> Distance: 0.88386\"],\"x\":[-1.3298015368909306,-1.4167867937655576,-1.4174497806602229,-1.1145210760157591,-1.0849739672450496,-1.397291509653201,-1.3339633226101828,-1.4167309534811006,-0.5782270953403684,-0.01962137276493706,-0.6256207393110298,-1.1292047053217154,-1.0932129897547773,0.6777992648579958,-0.6111091557852183],\"y\":[-1.1314958685679621,-1.2517892946880498,-1.26208305419916,-1.0904292518699297,-1.1460813563984509,-1.1868788976042577,-1.3798361515495232,-1.2472763831279146,-0.5788768989204596,-0.01964402704586186,-0.6269989839423737,-1.340057469316482,-1.2906315229431204,0.6781169705635121,-0.6117653230115719],\"type\":\"scatter\"}],                        {\"template\":{\"data\":{\"histogram2dcontour\":[{\"type\":\"histogram2dcontour\",\"colorbar\":{\"outlinewidth\":0,\"ticks\":\"\"},\"colorscale\":[[0.0,\"#0d0887\"],[0.1111111111111111,\"#46039f\"],[0.2222222222222222,\"#7201a8\"],[0.3333333333333333,\"#9c179e\"],[0.4444444444444444,\"#bd3786\"],[0.5555555555555556,\"#d8576b\"],[0.6666666666666666,\"#ed7953\"],[0.7777777777777778,\"#fb9f3a\"],[0.8888888888888888,\"#fdca26\"],[1.0,\"#f0f921\"]]}],\"choropleth\":[{\"type\":\"choropleth\",\"colorbar\":{\"outlinewidth\":0,\"ticks\":\"\"}}],\"histogram2d\":[{\"type\":\"histogram2d\",\"colorbar\":{\"outlinewidth\":0,\"ticks\":\"\"},\"colorscale\":[[0.0,\"#0d0887\"],[0.1111111111111111,\"#46039f\"],[0.2222222222222222,\"#7201a8\"],[0.3333333333333333,\"#9c179e\"],[0.4444444444444444,\"#bd3786\"],[0.5555555555555556,\"#d8576b\"],[0.6666666666666666,\"#ed7953\"],[0.7777777777777778,\"#fb9f3a\"],[0.8888888888888888,\"#fdca26\"],[1.0,\"#f0f921\"]]}],\"heatmap\":[{\"type\":\"heatmap\",\"colorbar\":{\"outlinewidth\":0,\"ticks\":\"\"},\"colorscale\":[[0.0,\"#0d0887\"],[0.1111111111111111,\"#46039f\"],[0.2222222222222222,\"#7201a8\"],[0.3333333333333333,\"#9c179e\"],[0.4444444444444444,\"#bd3786\"],[0.5555555555555556,\"#d8576b\"],[0.6666666666666666,\"#ed7953\"],[0.7777777777777778,\"#fb9f3a\"],[0.8888888888888888,\"#fdca26\"],[1.0,\"#f0f921\"]]}],\"heatmapgl\":[{\"type\":\"heatmapgl\",\"colorbar\":{\"outlinewidth\":0,\"ticks\":\"\"},\"colorscale\":[[0.0,\"#0d0887\"],[0.1111111111111111,\"#46039f\"],[0.2222222222222222,\"#7201a8\"],[0.3333333333333333,\"#9c179e\"],[0.4444444444444444,\"#bd3786\"],[0.5555555555555556,\"#d8576b\"],[0.6666666666666666,\"#ed7953\"],[0.7777777777777778,\"#fb9f3a\"],[0.8888888888888888,\"#fdca26\"],[1.0,\"#f0f921\"]]}],\"contourcarpet\":[{\"type\":\"contourcarpet\",\"colorbar\":{\"outlinewidth\":0,\"ticks\":\"\"}}],\"contour\":[{\"type\":\"contour\",\"colorbar\":{\"outlinewidth\":0,\"ticks\":\"\"},\"colorscale\":[[0.0,\"#0d0887\"],[0.1111111111111111,\"#46039f\"],[0.2222222222222222,\"#7201a8\"],[0.3333333333333333,\"#9c179e\"],[0.4444444444444444,\"#bd3786\"],[0.5555555555555556,\"#d8576b\"],[0.6666666666666666,\"#ed7953\"],[0.7777777777777778,\"#fb9f3a\"],[0.8888888888888888,\"#fdca26\"],[1.0,\"#f0f921\"]]}],\"surface\":[{\"type\":\"surface\",\"colorbar\":{\"outlinewidth\":0,\"ticks\":\"\"},\"colorscale\":[[0.0,\"#0d0887\"],[0.1111111111111111,\"#46039f\"],[0.2222222222222222,\"#7201a8\"],[0.3333333333333333,\"#9c179e\"],[0.4444444444444444,\"#bd3786\"],[0.5555555555555556,\"#d8576b\"],[0.6666666666666666,\"#ed7953\"],[0.7777777777777778,\"#fb9f3a\"],[0.8888888888888888,\"#fdca26\"],[1.0,\"#f0f921\"]]}],\"mesh3d\":[{\"type\":\"mesh3d\",\"colorbar\":{\"outlinewidth\":0,\"ticks\":\"\"}}],\"scatter\":[{\"fillpattern\":{\"fillmode\":\"overlay\",\"size\":10,\"solidity\":0.2},\"type\":\"scatter\"}],\"parcoords\":[{\"type\":\"parcoords\",\"line\":{\"colorbar\":{\"outlinewidth\":0,\"ticks\":\"\"}}}],\"scatterpolargl\":[{\"type\":\"scatterpolargl\",\"marker\":{\"colorbar\":{\"outlinewidth\":0,\"ticks\":\"\"}}}],\"bar\":[{\"error_x\":{\"color\":\"#2a3f5f\"},\"error_y\":{\"color\":\"#2a3f5f\"},\"marker\":{\"line\":{\"color\":\"#E5ECF6\",\"width\":0.5},\"pattern\":{\"fillmode\":\"overlay\",\"size\":10,\"solidity\":0.2}},\"type\":\"bar\"}],\"scattergeo\":[{\"type\":\"scattergeo\",\"marker\":{\"colorbar\":{\"outlinewidth\":0,\"ticks\":\"\"}}}],\"scatterpolar\":[{\"type\":\"scatterpolar\",\"marker\":{\"colorbar\":{\"outlinewidth\":0,\"ticks\":\"\"}}}],\"histogram\":[{\"marker\":{\"pattern\":{\"fillmode\":\"overlay\",\"size\":10,\"solidity\":0.2}},\"type\":\"histogram\"}],\"scattergl\":[{\"type\":\"scattergl\",\"marker\":{\"colorbar\":{\"outlinewidth\":0,\"ticks\":\"\"}}}],\"scatter3d\":[{\"type\":\"scatter3d\",\"line\":{\"colorbar\":{\"outlinewidth\":0,\"ticks\":\"\"}},\"marker\":{\"colorbar\":{\"outlinewidth\":0,\"ticks\":\"\"}}}],\"scattermapbox\":[{\"type\":\"scattermapbox\",\"marker\":{\"colorbar\":{\"outlinewidth\":0,\"ticks\":\"\"}}}],\"scatterternary\":[{\"type\":\"scatterternary\",\"marker\":{\"colorbar\":{\"outlinewidth\":0,\"ticks\":\"\"}}}],\"scattercarpet\":[{\"type\":\"scattercarpet\",\"marker\":{\"colorbar\":{\"outlinewidth\":0,\"ticks\":\"\"}}}],\"carpet\":[{\"aaxis\":{\"endlinecolor\":\"#2a3f5f\",\"gridcolor\":\"white\",\"linecolor\":\"white\",\"minorgridcolor\":\"white\",\"startlinecolor\":\"#2a3f5f\"},\"baxis\":{\"endlinecolor\":\"#2a3f5f\",\"gridcolor\":\"white\",\"linecolor\":\"white\",\"minorgridcolor\":\"white\",\"startlinecolor\":\"#2a3f5f\"},\"type\":\"carpet\"}],\"table\":[{\"cells\":{\"fill\":{\"color\":\"#EBF0F8\"},\"line\":{\"color\":\"white\"}},\"header\":{\"fill\":{\"color\":\"#C8D4E3\"},\"line\":{\"color\":\"white\"}},\"type\":\"table\"}],\"barpolar\":[{\"marker\":{\"line\":{\"color\":\"#E5ECF6\",\"width\":0.5},\"pattern\":{\"fillmode\":\"overlay\",\"size\":10,\"solidity\":0.2}},\"type\":\"barpolar\"}],\"pie\":[{\"automargin\":true,\"type\":\"pie\"}]},\"layout\":{\"autotypenumbers\":\"strict\",\"colorway\":[\"#636efa\",\"#EF553B\",\"#00cc96\",\"#ab63fa\",\"#FFA15A\",\"#19d3f3\",\"#FF6692\",\"#B6E880\",\"#FF97FF\",\"#FECB52\"],\"font\":{\"color\":\"#2a3f5f\"},\"hovermode\":\"closest\",\"hoverlabel\":{\"align\":\"left\"},\"paper_bgcolor\":\"white\",\"plot_bgcolor\":\"#E5ECF6\",\"polar\":{\"bgcolor\":\"#E5ECF6\",\"angularaxis\":{\"gridcolor\":\"white\",\"linecolor\":\"white\",\"ticks\":\"\"},\"radialaxis\":{\"gridcolor\":\"white\",\"linecolor\":\"white\",\"ticks\":\"\"}},\"ternary\":{\"bgcolor\":\"#E5ECF6\",\"aaxis\":{\"gridcolor\":\"white\",\"linecolor\":\"white\",\"ticks\":\"\"},\"baxis\":{\"gridcolor\":\"white\",\"linecolor\":\"white\",\"ticks\":\"\"},\"caxis\":{\"gridcolor\":\"white\",\"linecolor\":\"white\",\"ticks\":\"\"}},\"coloraxis\":{\"colorbar\":{\"outlinewidth\":0,\"ticks\":\"\"}},\"colorscale\":{\"sequential\":[[0.0,\"#0d0887\"],[0.1111111111111111,\"#46039f\"],[0.2222222222222222,\"#7201a8\"],[0.3333333333333333,\"#9c179e\"],[0.4444444444444444,\"#bd3786\"],[0.5555555555555556,\"#d8576b\"],[0.6666666666666666,\"#ed7953\"],[0.7777777777777778,\"#fb9f3a\"],[0.8888888888888888,\"#fdca26\"],[1.0,\"#f0f921\"]],\"sequentialminus\":[[0.0,\"#0d0887\"],[0.1111111111111111,\"#46039f\"],[0.2222222222222222,\"#7201a8\"],[0.3333333333333333,\"#9c179e\"],[0.4444444444444444,\"#bd3786\"],[0.5555555555555556,\"#d8576b\"],[0.6666666666666666,\"#ed7953\"],[0.7777777777777778,\"#fb9f3a\"],[0.8888888888888888,\"#fdca26\"],[1.0,\"#f0f921\"]],\"diverging\":[[0,\"#8e0152\"],[0.1,\"#c51b7d\"],[0.2,\"#de77ae\"],[0.3,\"#f1b6da\"],[0.4,\"#fde0ef\"],[0.5,\"#f7f7f7\"],[0.6,\"#e6f5d0\"],[0.7,\"#b8e186\"],[0.8,\"#7fbc41\"],[0.9,\"#4d9221\"],[1,\"#276419\"]]},\"xaxis\":{\"gridcolor\":\"white\",\"linecolor\":\"white\",\"ticks\":\"\",\"title\":{\"standoff\":15},\"zerolinecolor\":\"white\",\"automargin\":true,\"zerolinewidth\":2},\"yaxis\":{\"gridcolor\":\"white\",\"linecolor\":\"white\",\"ticks\":\"\",\"title\":{\"standoff\":15},\"zerolinecolor\":\"white\",\"automargin\":true,\"zerolinewidth\":2},\"scene\":{\"xaxis\":{\"backgroundcolor\":\"#E5ECF6\",\"gridcolor\":\"white\",\"linecolor\":\"white\",\"showbackground\":true,\"ticks\":\"\",\"zerolinecolor\":\"white\",\"gridwidth\":2},\"yaxis\":{\"backgroundcolor\":\"#E5ECF6\",\"gridcolor\":\"white\",\"linecolor\":\"white\",\"showbackground\":true,\"ticks\":\"\",\"zerolinecolor\":\"white\",\"gridwidth\":2},\"zaxis\":{\"backgroundcolor\":\"#E5ECF6\",\"gridcolor\":\"white\",\"linecolor\":\"white\",\"showbackground\":true,\"ticks\":\"\",\"zerolinecolor\":\"white\",\"gridwidth\":2}},\"shapedefaults\":{\"line\":{\"color\":\"#2a3f5f\"}},\"annotationdefaults\":{\"arrowcolor\":\"#2a3f5f\",\"arrowhead\":0,\"arrowwidth\":1},\"geo\":{\"bgcolor\":\"white\",\"landcolor\":\"#E5ECF6\",\"subunitcolor\":\"white\",\"showland\":true,\"showlakes\":true,\"lakecolor\":\"white\"},\"title\":{\"x\":0.05},\"mapbox\":{\"style\":\"light\"}}},\"font\":{\"family\":\"Courier New, monospace\",\"size\":50,\"color\":\"black\"},\"title\":{\"text\":\"total distance: 8.8880\"},\"showlegend\":true},                        {\"responsive\": true}                    ).then(function(){\n",
       "                            \n",
       "var gd = document.getElementById('6b3033bf-a570-4e39-99b1-3f40ddc81cb8');\n",
       "var x = new MutationObserver(function (mutations, observer) {{\n",
       "        var display = window.getComputedStyle(gd).display;\n",
       "        if (!display || display === 'none') {{\n",
       "            console.log([gd, 'removed!']);\n",
       "            Plotly.purge(gd);\n",
       "            observer.disconnect();\n",
       "        }}\n",
       "}});\n",
       "\n",
       "// Listen for the removal of the full notebook cells\n",
       "var notebookContainer = gd.closest('#notebook-container');\n",
       "if (notebookContainer) {{\n",
       "    x.observe(notebookContainer, {childList: true});\n",
       "}}\n",
       "\n",
       "// Listen for the clearing of the current output cell\n",
       "var outputEl = gd.closest('.output');\n",
       "if (outputEl) {{\n",
       "    x.observe(outputEl, {childList: true});\n",
       "}}\n",
       "\n",
       "                        })                };                });            </script>        </div>"
      ]
     },
     "metadata": {},
     "output_type": "display_data"
    },
    {
     "name": "stdout",
     "output_type": "stream",
     "text": [
      "2/2 [==============================] - 1s 5ms/step\n"
     ]
    },
    {
     "data": {
      "application/vnd.plotly.v1+json": {
       "config": {
        "plotlyServerURL": "https://plot.ly"
       },
       "data": [
        {
         "hovertemplate": "%{text}",
         "marker": {
          "color": "blue",
          "opacity": 1,
          "size": 20,
          "symbol": "circle"
         },
         "mode": "markers",
         "name": "Con (Augmented)",
         "text": [
          "Text: the . film tries too hard ! to be funny and tries too hard to be : hip . the end result is a film that's neither . .  <br> Label: Con (augmented) <br> Distance: 0.14508",
          "Text: ? it's not going to be : everyone's bag of popcorn , but it definitely ! gives you something ! to chew on .  <br> Label: Con (augmented) <br> Distance: 0.00704",
          "Text: an enchanting film that presents an audacious ! tour of the . past and . takes within : its warm embrace the : bounties of cultural artifacts ! inside st . petersburg's hermitage museum . ;  <br> Label: Con (augmented) <br> Distance: 0.61688",
          "Text: : some body is a ? shaky , uncertain film that nevertheless touches a few raw nerves .  <br> Label: Con (augmented) <br> Distance: 0.62158",
          "Text: it's not as awful as , some of the recent hollywood trip tripe . . . but it's far from a : groundbreaking endeavor .  <br> Label: Con (augmented) <br> Distance: 0.48456",
          "Text: the spark of special anime magic , here is unmistakable ; and hard to resist .  <br> Label: Con (augmented) <br> Distance: 1.34382",
          "Text: if there was a flu shot for the , blues , it might come in the form of this embraceable ode to loneliness and love regained .  <br> Label: Con (augmented) <br> Distance: 0.81824",
          "Text: so refreshingly . incisive is grant that for the first time he'll probably , appeal more to guys than ? to their girlfriends who drag them to this movie for the hugh factor .  <br> Label: Con (augmented) <br> Distance: 0.53976",
          "Text: little , more than a stylish exercise in revisionism whose point . ; . . is no ! doubt true , ! but serves as ; a rather thin moral to such a knowing fable ? . !  <br> Label: Con (augmented) <br> Distance: 0.32324",
          "Text: this ; is a story that zings all the way through with originality , , humour and ; pathos .  <br> Label: Con (augmented) <br> Distance: 0.41800",
          "Text: noyce films ; it more as a shocking history lesson than . as drama .  <br> Label: Con (augmented) <br> Distance: 0.00460",
          "Text: this daring film challenges most widely held notions about religious conviction ? while providing a ! complex portrait of an identity : crisis that's run amok and a good : mind that's jumped ! the tracks .  <br> Label: Con (augmented) <br> Distance: 0.13603",
          "Text: parker updates the , setting : in : an attempt to make the film relevant today , . without fully : understanding what it was that made the story relevant in the first place .  <br> Label: Con (augmented) <br> Distance: 0.95042",
          "Text: bloody sunday has the grace to : call for prevention rather than to place : blame , making it one of ! the best war movies ever made . it's a movie that accomplishes so much that one viewing can't possibly be enough .  <br> Label: Con (augmented) <br> Distance: 1.81245",
          "Text: , a smart , provocative drama that does the nearly . impossible : it gets under the skin of a man we only know as an evil , monstrous lunatic .  <br> Label: Con (augmented) <br> Distance: 1.06612"
         ],
         "type": "scatter",
         "x": [
          -1.1953426800356635,
          -1.1240850548287682,
          -0.8768651967817396,
          -1.0574962200790228,
          -1.2114950831507645,
          0.5633301464605751,
          -0.6782858510534017,
          -0.8567922092112931,
          -1.2223354485646796,
          -0.9296530794430963,
          -1.0597277182397142,
          -0.6034779958649998,
          -0.5724383175186101,
          -0.47704617566834834,
          -1.2072783650574301
         ],
         "y": [
          -1.5572423911001525,
          -1.8065515012379858,
          -0.5031152580884889,
          -1.7662295752215966,
          -0.5267252864198603,
          0.49002239407542686,
          -0.6747395558094221,
          -0.6236059199346368,
          -1.2879326779557014,
          -1.3504591630334413,
          -0.1229971151765832,
          -0.5061051106798767,
          -0.5183219584859763,
          -0.3993202591338108,
          -0.47720022039560545
         ]
        },
        {
         "hovertemplate": "%{text}",
         "marker": {
          "color": "blue",
          "opacity": 0.3,
          "size": 60,
          "symbol": "circle"
         },
         "mode": "markers",
         "name": "Con (Original)",
         "text": [
          "Text: the film tries too hard to be funny and tries too hard to be hip . the end result is a film that's neither .  <br> Label: Con (original) <br> Distance: 0.14508",
          "Text: it's not going to be everyone's bag of popcorn , but it definitely gives you something to chew on .  <br> Label: Con (original) <br> Distance: 0.00704",
          "Text: an enchanting film that presents an audacious tour of the past and takes within its warm embrace the bounties of cultural artifacts inside st . petersburg's hermitage museum .  <br> Label: Con (original) <br> Distance: 0.61688",
          "Text: some body is a shaky , uncertain film that nevertheless touches a few raw nerves .  <br> Label: Con (original) <br> Distance: 0.62158",
          "Text: it's not as awful as some of the recent hollywood trip tripe . . . but it's far from a groundbreaking endeavor .  <br> Label: Con (original) <br> Distance: 0.48456",
          "Text: the spark of special anime magic here is unmistakable and hard to resist .  <br> Label: Con (original) <br> Distance: 1.34382",
          "Text: if there was a flu shot for the blues , it might come in the form of this embraceable ode to loneliness and love regained .  <br> Label: Con (original) <br> Distance: 0.81824",
          "Text: so refreshingly incisive is grant that for the first time he'll probably appeal more to guys than to their girlfriends who drag them to this movie for the hugh factor .  <br> Label: Con (original) <br> Distance: 0.53976",
          "Text: little more than a stylish exercise in revisionism whose point . . . is no doubt true , but serves as a rather thin moral to such a knowing fable .  <br> Label: Con (original) <br> Distance: 0.32324",
          "Text: this is a story that zings all the way through with originality , humour and pathos .  <br> Label: Con (original) <br> Distance: 0.41800",
          "Text: noyce films it more as a shocking history lesson than as drama .  <br> Label: Con (original) <br> Distance: 0.00460",
          "Text: this daring film challenges most widely held notions about religious conviction while providing a complex portrait of an identity crisis that's run amok and a good mind that's jumped the tracks .  <br> Label: Con (original) <br> Distance: 0.13603",
          "Text: parker updates the setting in an attempt to make the film relevant today , without fully understanding what it was that made the story relevant in the first place .  <br> Label: Con (original) <br> Distance: 0.95042",
          "Text: bloody sunday has the grace to call for prevention rather than to place blame , making it one of the best war movies ever made . it's a movie that accomplishes so much that one viewing can't possibly be enough .  <br> Label: Con (original) <br> Distance: 1.81245",
          "Text: a smart , provocative drama that does the nearly impossible : it gets under the skin of a man we only know as an evil , monstrous lunatic .  <br> Label: Con (original) <br> Distance: 1.06612"
         ],
         "type": "scatter",
         "x": [
          -1.2280122179491095,
          -1.1213598756538603,
          -0.6344025944305509,
          -1.1263619101669238,
          -1.141891682936836,
          0.03906939816835722,
          -0.36066378167528795,
          -1.056229217931679,
          -1.2004564206552089,
          -1.0805481621065522,
          -1.0579460433266004,
          -0.6565054094056917,
          -0.9241948491864478,
          -1.1893195467505986,
          -0.7885236594845513
         ],
         "y": [
          -1.2267420844613477,
          -1.8100204459002012,
          -0.5192960460988619,
          -0.10870486437486603,
          -1.7803286651123231,
          0.034407160007805956,
          -0.31734416006313676,
          -0.1119654072994945,
          -0.4029591721448051,
          -1.810106589702701,
          -0.12522161321498942,
          -0.5546564204135631,
          -1.4078103935148294,
          -0.3026848041338423,
          -0.5887524687654169
         ]
        },
        {
         "hovertemplate": "%{text}",
         "marker": {
          "color": "red",
          "opacity": 1,
          "size": 20,
          "symbol": "diamond"
         },
         "mode": "markers",
         "name": "Pro (Augmented)",
         "text": [
          "Text: the rock as a : bounty hunter who attempts to square , a debt by ! heading to the amazon jungle to capture someone .  <br> Label: Pro (augmented) <br> Distance: 0.29320",
          "Text: based on the edgar allen poe short story : , \" the facts ; in the ? case ! of m . valdemar , \" comedy revolves around a doctor who convinces a dying : man's family to allow him to put the man in a ? trance as he ; takes his final ; breaths .  <br> Label: Pro (augmented) <br> Distance: 1.75537",
          "Text: new york serves as a backdrop for : a . cast of characters in search ? of love , : lust ? or lucre including a woman ? who makes awkward moves on the man renovating . her soho loft , an embezzler , , ? a sleazy artist and a phone psychic .  <br> Label: Pro (augmented) <br> Distance: 1.22247",
          "Text: . both . will fight to ! the death not to give it to each other .  <br> Label: Pro (augmented) <br> Distance: 1.52071",
          "Text: as fate would have it , they realize how close they ? all are from the other : side ; ? of life , of love , and of losing it : .  <br> Label: Pro (augmented) <br> Distance: 0.45697",
          "Text: for anni ! they are not enemies , . but just men : .  <br> Label: Pro (augmented) <br> Distance: 0.34293",
          "Text: after ; having a divine ! vision and speaking with jesus , . she suddenly changes her look and usual ways , disturbing the local , , ultra conservative population .  <br> Label: Pro (augmented) <br> Distance: 0.53857",
          "Text: in order get loan sharks off his back ? , . he must finish his novel in 30 days or wind up dead .  <br> Label: Pro (augmented) <br> Distance: 0.39777",
          "Text: the plants are the only break in the grey , monotony ! around her .  <br> Label: Pro (augmented) <br> Distance: 0.30002",
          "Text: ? as the sexual revolution blossomed , and porn sub culture flourished john was the man .  <br> Label: Pro (augmented) <br> Distance: 0.46219",
          "Text: in this , movie , de niro plays mitch preston , a hard-nosed , hardworking police detective .  <br> Label: Pro (augmented) <br> Distance: 0.09677",
          "Text: the . parent corporation sends in an elite military unit , where they meet alice ; , who is ! suffering ; from amnesia due . to exposure to nerve gas .  <br> Label: Pro (augmented) <br> Distance: 0.19218",
          "Text: regulus : the first nuclear missile ; submarine is a documentary about the navy's struggle , in the era immediately following ! wwii , to develop and deploy a submarine-launched nuclear ? missile .  <br> Label: Pro (augmented) <br> Distance: 0.53744",
          "Text: : barry egan ( adam sandler ) is a small business owner with seven sisters whose abuse ! has ; kept him alone and , unable to : fall in love .  <br> Label: Pro (augmented) <br> Distance: 0.40057",
          "Text: chock full of ethnic flavor , whimsy , doubt , faith , joy and wonder , mary and joe is a delightful surprise , . as the old story is brought into the present with startling freshness and power .  <br> Label: Pro (augmented) <br> Distance: 0.18998"
         ],
         "type": "scatter",
         "x": [
          1.3187910475427562,
          1.2283499602374992,
          0.4070053223461506,
          0.4242391755189695,
          1.1512884905787333,
          0.40407809756253904,
          1.1311810165593057,
          1.2862590805725276,
          0.6823181416152291,
          1.12842509946248,
          1.0756169747549822,
          1.3010631385030145,
          1.2272951247219295,
          1.2803585241224276,
          -0.6476438914284118
         ],
         "y": [
          1.1935535279366007,
          1.7446482334391025,
          0.3542783153850512,
          0.36916661503560555,
          0.3327301058342878,
          0.3516101767637695,
          0.36469011920645655,
          0.5954826189968951,
          0.5935380883166143,
          1.6227585631081214,
          0.9346995188205985,
          1.302586401405602,
          0.3181718032117723,
          0.5380349737211704,
          -0.5480419016708253
         ]
        },
        {
         "hovertemplate": "%{text}",
         "marker": {
          "color": "red",
          "opacity": 0.3,
          "size": 60,
          "symbol": "diamond"
         },
         "mode": "markers",
         "name": "Pro (Original)",
         "text": [
          "Text: the rock as a bounty hunter who attempts to square a debt by heading to the amazon jungle to capture someone .  <br> Label: Pro (original) <br> Distance: 0.29320",
          "Text: based on the edgar allen poe short story , \" the facts in the case of m . valdemar , \" comedy revolves around a doctor who convinces a dying man's family to allow him to put the man in a trance as he takes his final breaths .  <br> Label: Pro (original) <br> Distance: 1.75537",
          "Text: new york serves as a backdrop for a cast of characters in search of love , lust or lucre including a woman who makes awkward moves on the man renovating her soho loft , an embezzler , a sleazy artist and a phone psychic .  <br> Label: Pro (original) <br> Distance: 1.22247",
          "Text: both will fight to the death not to give it to each other .  <br> Label: Pro (original) <br> Distance: 1.52071",
          "Text: as fate would have it , they realize how close they all are from the other side ; of life , of love , and of losing it .  <br> Label: Pro (original) <br> Distance: 0.45697",
          "Text: for anni they are not enemies , but just men .  <br> Label: Pro (original) <br> Distance: 0.34293",
          "Text: after having a divine vision and speaking with jesus , she suddenly changes her look and usual ways , disturbing the local , ultra conservative population .  <br> Label: Pro (original) <br> Distance: 0.53857",
          "Text: in order get loan sharks off his back , he must finish his novel in 30 days or wind up dead .  <br> Label: Pro (original) <br> Distance: 0.39777",
          "Text: the plants are the only break in the grey monotony around her .  <br> Label: Pro (original) <br> Distance: 0.30002",
          "Text: as the sexual revolution blossomed , and porn sub culture flourished john was the man .  <br> Label: Pro (original) <br> Distance: 0.46219",
          "Text: in this movie , de niro plays mitch preston , a hard-nosed , hardworking police detective .  <br> Label: Pro (original) <br> Distance: 0.09677",
          "Text: the parent corporation sends in an elite military unit , where they meet alice , who is suffering from amnesia due to exposure to nerve gas .  <br> Label: Pro (original) <br> Distance: 0.19218",
          "Text: regulus : the first nuclear missile submarine is a documentary about the navy's struggle , in the era immediately following wwii , to develop and deploy a submarine-launched nuclear missile .  <br> Label: Pro (original) <br> Distance: 0.53744",
          "Text: barry egan ( adam sandler ) is a small business owner with seven sisters whose abuse has kept him alone and unable to fall in love .  <br> Label: Pro (original) <br> Distance: 0.40057",
          "Text: chock full of ethnic flavor , whimsy , doubt , faith , joy and wonder , mary and joe is a delightful surprise , as the old story is brought into the present with startling freshness and power .  <br> Label: Pro (original) <br> Distance: 0.18998"
         ],
         "type": "scatter",
         "x": [
          1.2680258700846736,
          0.5616414350186274,
          -0.0699182764872328,
          1.0173048877606656,
          1.1182426005481472,
          0.5378626535935536,
          1.194703556171397,
          1.2527858584567426,
          0.5652745074482296,
          1.1484062481198793,
          1.0376458950161271,
          1.299677308047769,
          1.1658117838321904,
          1.2617530848972032,
          -0.7215213621997406
         ],
         "y": [
          0.46196867082431997,
          0.488522166622656,
          -0.059929912076996654,
          0.8962267026571056,
          1.5811303988557452,
          0.4678698526178936,
          1.7925821240344852,
          1.675382155443841,
          0.4917204209516306,
          0.3459793539811193,
          0.9189542539963269,
          0.7685460152030559,
          1.7472315535471532,
          1.6435468849241388,
          -0.6249199442450805
         ]
        }
       ],
       "layout": {
        "font": {
         "color": "black",
         "family": "Courier New, monospace",
         "size": 50
        },
        "showlegend": true,
        "template": {
         "data": {
          "bar": [
           {
            "error_x": {
             "color": "#2a3f5f"
            },
            "error_y": {
             "color": "#2a3f5f"
            },
            "marker": {
             "line": {
              "color": "#E5ECF6",
              "width": 0.5
             },
             "pattern": {
              "fillmode": "overlay",
              "size": 10,
              "solidity": 0.2
             }
            },
            "type": "bar"
           }
          ],
          "barpolar": [
           {
            "marker": {
             "line": {
              "color": "#E5ECF6",
              "width": 0.5
             },
             "pattern": {
              "fillmode": "overlay",
              "size": 10,
              "solidity": 0.2
             }
            },
            "type": "barpolar"
           }
          ],
          "carpet": [
           {
            "aaxis": {
             "endlinecolor": "#2a3f5f",
             "gridcolor": "white",
             "linecolor": "white",
             "minorgridcolor": "white",
             "startlinecolor": "#2a3f5f"
            },
            "baxis": {
             "endlinecolor": "#2a3f5f",
             "gridcolor": "white",
             "linecolor": "white",
             "minorgridcolor": "white",
             "startlinecolor": "#2a3f5f"
            },
            "type": "carpet"
           }
          ],
          "choropleth": [
           {
            "colorbar": {
             "outlinewidth": 0,
             "ticks": ""
            },
            "type": "choropleth"
           }
          ],
          "contour": [
           {
            "colorbar": {
             "outlinewidth": 0,
             "ticks": ""
            },
            "colorscale": [
             [
              0,
              "#0d0887"
             ],
             [
              0.1111111111111111,
              "#46039f"
             ],
             [
              0.2222222222222222,
              "#7201a8"
             ],
             [
              0.3333333333333333,
              "#9c179e"
             ],
             [
              0.4444444444444444,
              "#bd3786"
             ],
             [
              0.5555555555555556,
              "#d8576b"
             ],
             [
              0.6666666666666666,
              "#ed7953"
             ],
             [
              0.7777777777777778,
              "#fb9f3a"
             ],
             [
              0.8888888888888888,
              "#fdca26"
             ],
             [
              1,
              "#f0f921"
             ]
            ],
            "type": "contour"
           }
          ],
          "contourcarpet": [
           {
            "colorbar": {
             "outlinewidth": 0,
             "ticks": ""
            },
            "type": "contourcarpet"
           }
          ],
          "heatmap": [
           {
            "colorbar": {
             "outlinewidth": 0,
             "ticks": ""
            },
            "colorscale": [
             [
              0,
              "#0d0887"
             ],
             [
              0.1111111111111111,
              "#46039f"
             ],
             [
              0.2222222222222222,
              "#7201a8"
             ],
             [
              0.3333333333333333,
              "#9c179e"
             ],
             [
              0.4444444444444444,
              "#bd3786"
             ],
             [
              0.5555555555555556,
              "#d8576b"
             ],
             [
              0.6666666666666666,
              "#ed7953"
             ],
             [
              0.7777777777777778,
              "#fb9f3a"
             ],
             [
              0.8888888888888888,
              "#fdca26"
             ],
             [
              1,
              "#f0f921"
             ]
            ],
            "type": "heatmap"
           }
          ],
          "heatmapgl": [
           {
            "colorbar": {
             "outlinewidth": 0,
             "ticks": ""
            },
            "colorscale": [
             [
              0,
              "#0d0887"
             ],
             [
              0.1111111111111111,
              "#46039f"
             ],
             [
              0.2222222222222222,
              "#7201a8"
             ],
             [
              0.3333333333333333,
              "#9c179e"
             ],
             [
              0.4444444444444444,
              "#bd3786"
             ],
             [
              0.5555555555555556,
              "#d8576b"
             ],
             [
              0.6666666666666666,
              "#ed7953"
             ],
             [
              0.7777777777777778,
              "#fb9f3a"
             ],
             [
              0.8888888888888888,
              "#fdca26"
             ],
             [
              1,
              "#f0f921"
             ]
            ],
            "type": "heatmapgl"
           }
          ],
          "histogram": [
           {
            "marker": {
             "pattern": {
              "fillmode": "overlay",
              "size": 10,
              "solidity": 0.2
             }
            },
            "type": "histogram"
           }
          ],
          "histogram2d": [
           {
            "colorbar": {
             "outlinewidth": 0,
             "ticks": ""
            },
            "colorscale": [
             [
              0,
              "#0d0887"
             ],
             [
              0.1111111111111111,
              "#46039f"
             ],
             [
              0.2222222222222222,
              "#7201a8"
             ],
             [
              0.3333333333333333,
              "#9c179e"
             ],
             [
              0.4444444444444444,
              "#bd3786"
             ],
             [
              0.5555555555555556,
              "#d8576b"
             ],
             [
              0.6666666666666666,
              "#ed7953"
             ],
             [
              0.7777777777777778,
              "#fb9f3a"
             ],
             [
              0.8888888888888888,
              "#fdca26"
             ],
             [
              1,
              "#f0f921"
             ]
            ],
            "type": "histogram2d"
           }
          ],
          "histogram2dcontour": [
           {
            "colorbar": {
             "outlinewidth": 0,
             "ticks": ""
            },
            "colorscale": [
             [
              0,
              "#0d0887"
             ],
             [
              0.1111111111111111,
              "#46039f"
             ],
             [
              0.2222222222222222,
              "#7201a8"
             ],
             [
              0.3333333333333333,
              "#9c179e"
             ],
             [
              0.4444444444444444,
              "#bd3786"
             ],
             [
              0.5555555555555556,
              "#d8576b"
             ],
             [
              0.6666666666666666,
              "#ed7953"
             ],
             [
              0.7777777777777778,
              "#fb9f3a"
             ],
             [
              0.8888888888888888,
              "#fdca26"
             ],
             [
              1,
              "#f0f921"
             ]
            ],
            "type": "histogram2dcontour"
           }
          ],
          "mesh3d": [
           {
            "colorbar": {
             "outlinewidth": 0,
             "ticks": ""
            },
            "type": "mesh3d"
           }
          ],
          "parcoords": [
           {
            "line": {
             "colorbar": {
              "outlinewidth": 0,
              "ticks": ""
             }
            },
            "type": "parcoords"
           }
          ],
          "pie": [
           {
            "automargin": true,
            "type": "pie"
           }
          ],
          "scatter": [
           {
            "fillpattern": {
             "fillmode": "overlay",
             "size": 10,
             "solidity": 0.2
            },
            "type": "scatter"
           }
          ],
          "scatter3d": [
           {
            "line": {
             "colorbar": {
              "outlinewidth": 0,
              "ticks": ""
             }
            },
            "marker": {
             "colorbar": {
              "outlinewidth": 0,
              "ticks": ""
             }
            },
            "type": "scatter3d"
           }
          ],
          "scattercarpet": [
           {
            "marker": {
             "colorbar": {
              "outlinewidth": 0,
              "ticks": ""
             }
            },
            "type": "scattercarpet"
           }
          ],
          "scattergeo": [
           {
            "marker": {
             "colorbar": {
              "outlinewidth": 0,
              "ticks": ""
             }
            },
            "type": "scattergeo"
           }
          ],
          "scattergl": [
           {
            "marker": {
             "colorbar": {
              "outlinewidth": 0,
              "ticks": ""
             }
            },
            "type": "scattergl"
           }
          ],
          "scattermapbox": [
           {
            "marker": {
             "colorbar": {
              "outlinewidth": 0,
              "ticks": ""
             }
            },
            "type": "scattermapbox"
           }
          ],
          "scatterpolar": [
           {
            "marker": {
             "colorbar": {
              "outlinewidth": 0,
              "ticks": ""
             }
            },
            "type": "scatterpolar"
           }
          ],
          "scatterpolargl": [
           {
            "marker": {
             "colorbar": {
              "outlinewidth": 0,
              "ticks": ""
             }
            },
            "type": "scatterpolargl"
           }
          ],
          "scatterternary": [
           {
            "marker": {
             "colorbar": {
              "outlinewidth": 0,
              "ticks": ""
             }
            },
            "type": "scatterternary"
           }
          ],
          "surface": [
           {
            "colorbar": {
             "outlinewidth": 0,
             "ticks": ""
            },
            "colorscale": [
             [
              0,
              "#0d0887"
             ],
             [
              0.1111111111111111,
              "#46039f"
             ],
             [
              0.2222222222222222,
              "#7201a8"
             ],
             [
              0.3333333333333333,
              "#9c179e"
             ],
             [
              0.4444444444444444,
              "#bd3786"
             ],
             [
              0.5555555555555556,
              "#d8576b"
             ],
             [
              0.6666666666666666,
              "#ed7953"
             ],
             [
              0.7777777777777778,
              "#fb9f3a"
             ],
             [
              0.8888888888888888,
              "#fdca26"
             ],
             [
              1,
              "#f0f921"
             ]
            ],
            "type": "surface"
           }
          ],
          "table": [
           {
            "cells": {
             "fill": {
              "color": "#EBF0F8"
             },
             "line": {
              "color": "white"
             }
            },
            "header": {
             "fill": {
              "color": "#C8D4E3"
             },
             "line": {
              "color": "white"
             }
            },
            "type": "table"
           }
          ]
         },
         "layout": {
          "annotationdefaults": {
           "arrowcolor": "#2a3f5f",
           "arrowhead": 0,
           "arrowwidth": 1
          },
          "autotypenumbers": "strict",
          "coloraxis": {
           "colorbar": {
            "outlinewidth": 0,
            "ticks": ""
           }
          },
          "colorscale": {
           "diverging": [
            [
             0,
             "#8e0152"
            ],
            [
             0.1,
             "#c51b7d"
            ],
            [
             0.2,
             "#de77ae"
            ],
            [
             0.3,
             "#f1b6da"
            ],
            [
             0.4,
             "#fde0ef"
            ],
            [
             0.5,
             "#f7f7f7"
            ],
            [
             0.6,
             "#e6f5d0"
            ],
            [
             0.7,
             "#b8e186"
            ],
            [
             0.8,
             "#7fbc41"
            ],
            [
             0.9,
             "#4d9221"
            ],
            [
             1,
             "#276419"
            ]
           ],
           "sequential": [
            [
             0,
             "#0d0887"
            ],
            [
             0.1111111111111111,
             "#46039f"
            ],
            [
             0.2222222222222222,
             "#7201a8"
            ],
            [
             0.3333333333333333,
             "#9c179e"
            ],
            [
             0.4444444444444444,
             "#bd3786"
            ],
            [
             0.5555555555555556,
             "#d8576b"
            ],
            [
             0.6666666666666666,
             "#ed7953"
            ],
            [
             0.7777777777777778,
             "#fb9f3a"
            ],
            [
             0.8888888888888888,
             "#fdca26"
            ],
            [
             1,
             "#f0f921"
            ]
           ],
           "sequentialminus": [
            [
             0,
             "#0d0887"
            ],
            [
             0.1111111111111111,
             "#46039f"
            ],
            [
             0.2222222222222222,
             "#7201a8"
            ],
            [
             0.3333333333333333,
             "#9c179e"
            ],
            [
             0.4444444444444444,
             "#bd3786"
            ],
            [
             0.5555555555555556,
             "#d8576b"
            ],
            [
             0.6666666666666666,
             "#ed7953"
            ],
            [
             0.7777777777777778,
             "#fb9f3a"
            ],
            [
             0.8888888888888888,
             "#fdca26"
            ],
            [
             1,
             "#f0f921"
            ]
           ]
          },
          "colorway": [
           "#636efa",
           "#EF553B",
           "#00cc96",
           "#ab63fa",
           "#FFA15A",
           "#19d3f3",
           "#FF6692",
           "#B6E880",
           "#FF97FF",
           "#FECB52"
          ],
          "font": {
           "color": "#2a3f5f"
          },
          "geo": {
           "bgcolor": "white",
           "lakecolor": "white",
           "landcolor": "#E5ECF6",
           "showlakes": true,
           "showland": true,
           "subunitcolor": "white"
          },
          "hoverlabel": {
           "align": "left"
          },
          "hovermode": "closest",
          "mapbox": {
           "style": "light"
          },
          "paper_bgcolor": "white",
          "plot_bgcolor": "#E5ECF6",
          "polar": {
           "angularaxis": {
            "gridcolor": "white",
            "linecolor": "white",
            "ticks": ""
           },
           "bgcolor": "#E5ECF6",
           "radialaxis": {
            "gridcolor": "white",
            "linecolor": "white",
            "ticks": ""
           }
          },
          "scene": {
           "xaxis": {
            "backgroundcolor": "#E5ECF6",
            "gridcolor": "white",
            "gridwidth": 2,
            "linecolor": "white",
            "showbackground": true,
            "ticks": "",
            "zerolinecolor": "white"
           },
           "yaxis": {
            "backgroundcolor": "#E5ECF6",
            "gridcolor": "white",
            "gridwidth": 2,
            "linecolor": "white",
            "showbackground": true,
            "ticks": "",
            "zerolinecolor": "white"
           },
           "zaxis": {
            "backgroundcolor": "#E5ECF6",
            "gridcolor": "white",
            "gridwidth": 2,
            "linecolor": "white",
            "showbackground": true,
            "ticks": "",
            "zerolinecolor": "white"
           }
          },
          "shapedefaults": {
           "line": {
            "color": "#2a3f5f"
           }
          },
          "ternary": {
           "aaxis": {
            "gridcolor": "white",
            "linecolor": "white",
            "ticks": ""
           },
           "baxis": {
            "gridcolor": "white",
            "linecolor": "white",
            "ticks": ""
           },
           "bgcolor": "#E5ECF6",
           "caxis": {
            "gridcolor": "white",
            "linecolor": "white",
            "ticks": ""
           }
          },
          "title": {
           "x": 0.05
          },
          "xaxis": {
           "automargin": true,
           "gridcolor": "white",
           "linecolor": "white",
           "ticks": "",
           "title": {
            "standoff": 15
           },
           "zerolinecolor": "white",
           "zerolinewidth": 2
          },
          "yaxis": {
           "automargin": true,
           "gridcolor": "white",
           "linecolor": "white",
           "ticks": "",
           "title": {
            "standoff": 15
           },
           "zerolinecolor": "white",
           "zerolinewidth": 2
          }
         }
        },
        "title": {
         "text": "total distance: 9.8774"
        }
       }
      },
      "text/html": [
       "<div>                            <div id=\"67c4aa74-7324-431c-8559-ee4b2ffecba7\" class=\"plotly-graph-div\" style=\"height:525px; width:100%;\"></div>            <script type=\"text/javascript\">                require([\"plotly\"], function(Plotly) {                    window.PLOTLYENV=window.PLOTLYENV || {};                                    if (document.getElementById(\"67c4aa74-7324-431c-8559-ee4b2ffecba7\")) {                    Plotly.newPlot(                        \"67c4aa74-7324-431c-8559-ee4b2ffecba7\",                        [{\"hovertemplate\":\"%{text}\",\"marker\":{\"color\":\"blue\",\"opacity\":1,\"size\":20,\"symbol\":\"circle\"},\"mode\":\"markers\",\"name\":\"Con (Augmented)\",\"text\":[\"Text: the . film tries too hard ! to be funny and tries too hard to be : hip . the end result is a film that's neither . .  <br> Label: Con (augmented) <br> Distance: 0.14508\",\"Text: ? it's not going to be : everyone's bag of popcorn , but it definitely ! gives you something ! to chew on .  <br> Label: Con (augmented) <br> Distance: 0.00704\",\"Text: an enchanting film that presents an audacious ! tour of the . past and . takes within : its warm embrace the : bounties of cultural artifacts ! inside st . petersburg's hermitage museum . ;  <br> Label: Con (augmented) <br> Distance: 0.61688\",\"Text: : some body is a ? shaky , uncertain film that nevertheless touches a few raw nerves .  <br> Label: Con (augmented) <br> Distance: 0.62158\",\"Text: it's not as awful as , some of the recent hollywood trip tripe . . . but it's far from a : groundbreaking endeavor .  <br> Label: Con (augmented) <br> Distance: 0.48456\",\"Text: the spark of special anime magic , here is unmistakable ; and hard to resist .  <br> Label: Con (augmented) <br> Distance: 1.34382\",\"Text: if there was a flu shot for the , blues , it might come in the form of this embraceable ode to loneliness and love regained .  <br> Label: Con (augmented) <br> Distance: 0.81824\",\"Text: so refreshingly . incisive is grant that for the first time he'll probably , appeal more to guys than ? to their girlfriends who drag them to this movie for the hugh factor .  <br> Label: Con (augmented) <br> Distance: 0.53976\",\"Text: little , more than a stylish exercise in revisionism whose point . ; . . is no ! doubt true , ! but serves as ; a rather thin moral to such a knowing fable ? . !  <br> Label: Con (augmented) <br> Distance: 0.32324\",\"Text: this ; is a story that zings all the way through with originality , , humour and ; pathos .  <br> Label: Con (augmented) <br> Distance: 0.41800\",\"Text: noyce films ; it more as a shocking history lesson than . as drama .  <br> Label: Con (augmented) <br> Distance: 0.00460\",\"Text: this daring film challenges most widely held notions about religious conviction ? while providing a ! complex portrait of an identity : crisis that's run amok and a good : mind that's jumped ! the tracks .  <br> Label: Con (augmented) <br> Distance: 0.13603\",\"Text: parker updates the , setting : in : an attempt to make the film relevant today , . without fully : understanding what it was that made the story relevant in the first place .  <br> Label: Con (augmented) <br> Distance: 0.95042\",\"Text: bloody sunday has the grace to : call for prevention rather than to place : blame , making it one of ! the best war movies ever made . it's a movie that accomplishes so much that one viewing can't possibly be enough .  <br> Label: Con (augmented) <br> Distance: 1.81245\",\"Text: , a smart , provocative drama that does the nearly . impossible : it gets under the skin of a man we only know as an evil , monstrous lunatic .  <br> Label: Con (augmented) <br> Distance: 1.06612\"],\"x\":[-1.1953426800356635,-1.1240850548287682,-0.8768651967817396,-1.0574962200790228,-1.2114950831507645,0.5633301464605751,-0.6782858510534017,-0.8567922092112931,-1.2223354485646796,-0.9296530794430963,-1.0597277182397142,-0.6034779958649998,-0.5724383175186101,-0.47704617566834834,-1.2072783650574301],\"y\":[-1.5572423911001525,-1.8065515012379858,-0.5031152580884889,-1.7662295752215966,-0.5267252864198603,0.49002239407542686,-0.6747395558094221,-0.6236059199346368,-1.2879326779557014,-1.3504591630334413,-0.1229971151765832,-0.5061051106798767,-0.5183219584859763,-0.3993202591338108,-0.47720022039560545],\"type\":\"scatter\"},{\"hovertemplate\":\"%{text}\",\"marker\":{\"color\":\"blue\",\"opacity\":0.3,\"size\":60,\"symbol\":\"circle\"},\"mode\":\"markers\",\"name\":\"Con (Original)\",\"text\":[\"Text: the film tries too hard to be funny and tries too hard to be hip . the end result is a film that's neither .  <br> Label: Con (original) <br> Distance: 0.14508\",\"Text: it's not going to be everyone's bag of popcorn , but it definitely gives you something to chew on .  <br> Label: Con (original) <br> Distance: 0.00704\",\"Text: an enchanting film that presents an audacious tour of the past and takes within its warm embrace the bounties of cultural artifacts inside st . petersburg's hermitage museum .  <br> Label: Con (original) <br> Distance: 0.61688\",\"Text: some body is a shaky , uncertain film that nevertheless touches a few raw nerves .  <br> Label: Con (original) <br> Distance: 0.62158\",\"Text: it's not as awful as some of the recent hollywood trip tripe . . . but it's far from a groundbreaking endeavor .  <br> Label: Con (original) <br> Distance: 0.48456\",\"Text: the spark of special anime magic here is unmistakable and hard to resist .  <br> Label: Con (original) <br> Distance: 1.34382\",\"Text: if there was a flu shot for the blues , it might come in the form of this embraceable ode to loneliness and love regained .  <br> Label: Con (original) <br> Distance: 0.81824\",\"Text: so refreshingly incisive is grant that for the first time he'll probably appeal more to guys than to their girlfriends who drag them to this movie for the hugh factor .  <br> Label: Con (original) <br> Distance: 0.53976\",\"Text: little more than a stylish exercise in revisionism whose point . . . is no doubt true , but serves as a rather thin moral to such a knowing fable .  <br> Label: Con (original) <br> Distance: 0.32324\",\"Text: this is a story that zings all the way through with originality , humour and pathos .  <br> Label: Con (original) <br> Distance: 0.41800\",\"Text: noyce films it more as a shocking history lesson than as drama .  <br> Label: Con (original) <br> Distance: 0.00460\",\"Text: this daring film challenges most widely held notions about religious conviction while providing a complex portrait of an identity crisis that's run amok and a good mind that's jumped the tracks .  <br> Label: Con (original) <br> Distance: 0.13603\",\"Text: parker updates the setting in an attempt to make the film relevant today , without fully understanding what it was that made the story relevant in the first place .  <br> Label: Con (original) <br> Distance: 0.95042\",\"Text: bloody sunday has the grace to call for prevention rather than to place blame , making it one of the best war movies ever made . it's a movie that accomplishes so much that one viewing can't possibly be enough .  <br> Label: Con (original) <br> Distance: 1.81245\",\"Text: a smart , provocative drama that does the nearly impossible : it gets under the skin of a man we only know as an evil , monstrous lunatic .  <br> Label: Con (original) <br> Distance: 1.06612\"],\"x\":[-1.2280122179491095,-1.1213598756538603,-0.6344025944305509,-1.1263619101669238,-1.141891682936836,0.03906939816835722,-0.36066378167528795,-1.056229217931679,-1.2004564206552089,-1.0805481621065522,-1.0579460433266004,-0.6565054094056917,-0.9241948491864478,-1.1893195467505986,-0.7885236594845513],\"y\":[-1.2267420844613477,-1.8100204459002012,-0.5192960460988619,-0.10870486437486603,-1.7803286651123231,0.034407160007805956,-0.31734416006313676,-0.1119654072994945,-0.4029591721448051,-1.810106589702701,-0.12522161321498942,-0.5546564204135631,-1.4078103935148294,-0.3026848041338423,-0.5887524687654169],\"type\":\"scatter\"},{\"hovertemplate\":\"%{text}\",\"marker\":{\"color\":\"red\",\"opacity\":1,\"size\":20,\"symbol\":\"diamond\"},\"mode\":\"markers\",\"name\":\"Pro (Augmented)\",\"text\":[\"Text: the rock as a : bounty hunter who attempts to square , a debt by ! heading to the amazon jungle to capture someone .  <br> Label: Pro (augmented) <br> Distance: 0.29320\",\"Text: based on the edgar allen poe short story : , \\\" the facts ; in the ? case ! of m . valdemar , \\\" comedy revolves around a doctor who convinces a dying : man's family to allow him to put the man in a ? trance as he ; takes his final ; breaths .  <br> Label: Pro (augmented) <br> Distance: 1.75537\",\"Text: new york serves as a backdrop for : a . cast of characters in search ? of love , : lust ? or lucre including a woman ? who makes awkward moves on the man renovating . her soho loft , an embezzler , , ? a sleazy artist and a phone psychic .  <br> Label: Pro (augmented) <br> Distance: 1.22247\",\"Text: . both . will fight to ! the death not to give it to each other .  <br> Label: Pro (augmented) <br> Distance: 1.52071\",\"Text: as fate would have it , they realize how close they ? all are from the other : side ; ? of life , of love , and of losing it : .  <br> Label: Pro (augmented) <br> Distance: 0.45697\",\"Text: for anni ! they are not enemies , . but just men : .  <br> Label: Pro (augmented) <br> Distance: 0.34293\",\"Text: after ; having a divine ! vision and speaking with jesus , . she suddenly changes her look and usual ways , disturbing the local , , ultra conservative population .  <br> Label: Pro (augmented) <br> Distance: 0.53857\",\"Text: in order get loan sharks off his back ? , . he must finish his novel in 30 days or wind up dead .  <br> Label: Pro (augmented) <br> Distance: 0.39777\",\"Text: the plants are the only break in the grey , monotony ! around her .  <br> Label: Pro (augmented) <br> Distance: 0.30002\",\"Text: ? as the sexual revolution blossomed , and porn sub culture flourished john was the man .  <br> Label: Pro (augmented) <br> Distance: 0.46219\",\"Text: in this , movie , de niro plays mitch preston , a hard-nosed , hardworking police detective .  <br> Label: Pro (augmented) <br> Distance: 0.09677\",\"Text: the . parent corporation sends in an elite military unit , where they meet alice ; , who is ! suffering ; from amnesia due . to exposure to nerve gas .  <br> Label: Pro (augmented) <br> Distance: 0.19218\",\"Text: regulus : the first nuclear missile ; submarine is a documentary about the navy's struggle , in the era immediately following ! wwii , to develop and deploy a submarine-launched nuclear ? missile .  <br> Label: Pro (augmented) <br> Distance: 0.53744\",\"Text: : barry egan ( adam sandler ) is a small business owner with seven sisters whose abuse ! has ; kept him alone and , unable to : fall in love .  <br> Label: Pro (augmented) <br> Distance: 0.40057\",\"Text: chock full of ethnic flavor , whimsy , doubt , faith , joy and wonder , mary and joe is a delightful surprise , . as the old story is brought into the present with startling freshness and power .  <br> Label: Pro (augmented) <br> Distance: 0.18998\"],\"x\":[1.3187910475427562,1.2283499602374992,0.4070053223461506,0.4242391755189695,1.1512884905787333,0.40407809756253904,1.1311810165593057,1.2862590805725276,0.6823181416152291,1.12842509946248,1.0756169747549822,1.3010631385030145,1.2272951247219295,1.2803585241224276,-0.6476438914284118],\"y\":[1.1935535279366007,1.7446482334391025,0.3542783153850512,0.36916661503560555,0.3327301058342878,0.3516101767637695,0.36469011920645655,0.5954826189968951,0.5935380883166143,1.6227585631081214,0.9346995188205985,1.302586401405602,0.3181718032117723,0.5380349737211704,-0.5480419016708253],\"type\":\"scatter\"},{\"hovertemplate\":\"%{text}\",\"marker\":{\"color\":\"red\",\"opacity\":0.3,\"size\":60,\"symbol\":\"diamond\"},\"mode\":\"markers\",\"name\":\"Pro (Original)\",\"text\":[\"Text: the rock as a bounty hunter who attempts to square a debt by heading to the amazon jungle to capture someone .  <br> Label: Pro (original) <br> Distance: 0.29320\",\"Text: based on the edgar allen poe short story , \\\" the facts in the case of m . valdemar , \\\" comedy revolves around a doctor who convinces a dying man's family to allow him to put the man in a trance as he takes his final breaths .  <br> Label: Pro (original) <br> Distance: 1.75537\",\"Text: new york serves as a backdrop for a cast of characters in search of love , lust or lucre including a woman who makes awkward moves on the man renovating her soho loft , an embezzler , a sleazy artist and a phone psychic .  <br> Label: Pro (original) <br> Distance: 1.22247\",\"Text: both will fight to the death not to give it to each other .  <br> Label: Pro (original) <br> Distance: 1.52071\",\"Text: as fate would have it , they realize how close they all are from the other side ; of life , of love , and of losing it .  <br> Label: Pro (original) <br> Distance: 0.45697\",\"Text: for anni they are not enemies , but just men .  <br> Label: Pro (original) <br> Distance: 0.34293\",\"Text: after having a divine vision and speaking with jesus , she suddenly changes her look and usual ways , disturbing the local , ultra conservative population .  <br> Label: Pro (original) <br> Distance: 0.53857\",\"Text: in order get loan sharks off his back , he must finish his novel in 30 days or wind up dead .  <br> Label: Pro (original) <br> Distance: 0.39777\",\"Text: the plants are the only break in the grey monotony around her .  <br> Label: Pro (original) <br> Distance: 0.30002\",\"Text: as the sexual revolution blossomed , and porn sub culture flourished john was the man .  <br> Label: Pro (original) <br> Distance: 0.46219\",\"Text: in this movie , de niro plays mitch preston , a hard-nosed , hardworking police detective .  <br> Label: Pro (original) <br> Distance: 0.09677\",\"Text: the parent corporation sends in an elite military unit , where they meet alice , who is suffering from amnesia due to exposure to nerve gas .  <br> Label: Pro (original) <br> Distance: 0.19218\",\"Text: regulus : the first nuclear missile submarine is a documentary about the navy's struggle , in the era immediately following wwii , to develop and deploy a submarine-launched nuclear missile .  <br> Label: Pro (original) <br> Distance: 0.53744\",\"Text: barry egan ( adam sandler ) is a small business owner with seven sisters whose abuse has kept him alone and unable to fall in love .  <br> Label: Pro (original) <br> Distance: 0.40057\",\"Text: chock full of ethnic flavor , whimsy , doubt , faith , joy and wonder , mary and joe is a delightful surprise , as the old story is brought into the present with startling freshness and power .  <br> Label: Pro (original) <br> Distance: 0.18998\"],\"x\":[1.2680258700846736,0.5616414350186274,-0.0699182764872328,1.0173048877606656,1.1182426005481472,0.5378626535935536,1.194703556171397,1.2527858584567426,0.5652745074482296,1.1484062481198793,1.0376458950161271,1.299677308047769,1.1658117838321904,1.2617530848972032,-0.7215213621997406],\"y\":[0.46196867082431997,0.488522166622656,-0.059929912076996654,0.8962267026571056,1.5811303988557452,0.4678698526178936,1.7925821240344852,1.675382155443841,0.4917204209516306,0.3459793539811193,0.9189542539963269,0.7685460152030559,1.7472315535471532,1.6435468849241388,-0.6249199442450805],\"type\":\"scatter\"}],                        {\"template\":{\"data\":{\"histogram2dcontour\":[{\"type\":\"histogram2dcontour\",\"colorbar\":{\"outlinewidth\":0,\"ticks\":\"\"},\"colorscale\":[[0.0,\"#0d0887\"],[0.1111111111111111,\"#46039f\"],[0.2222222222222222,\"#7201a8\"],[0.3333333333333333,\"#9c179e\"],[0.4444444444444444,\"#bd3786\"],[0.5555555555555556,\"#d8576b\"],[0.6666666666666666,\"#ed7953\"],[0.7777777777777778,\"#fb9f3a\"],[0.8888888888888888,\"#fdca26\"],[1.0,\"#f0f921\"]]}],\"choropleth\":[{\"type\":\"choropleth\",\"colorbar\":{\"outlinewidth\":0,\"ticks\":\"\"}}],\"histogram2d\":[{\"type\":\"histogram2d\",\"colorbar\":{\"outlinewidth\":0,\"ticks\":\"\"},\"colorscale\":[[0.0,\"#0d0887\"],[0.1111111111111111,\"#46039f\"],[0.2222222222222222,\"#7201a8\"],[0.3333333333333333,\"#9c179e\"],[0.4444444444444444,\"#bd3786\"],[0.5555555555555556,\"#d8576b\"],[0.6666666666666666,\"#ed7953\"],[0.7777777777777778,\"#fb9f3a\"],[0.8888888888888888,\"#fdca26\"],[1.0,\"#f0f921\"]]}],\"heatmap\":[{\"type\":\"heatmap\",\"colorbar\":{\"outlinewidth\":0,\"ticks\":\"\"},\"colorscale\":[[0.0,\"#0d0887\"],[0.1111111111111111,\"#46039f\"],[0.2222222222222222,\"#7201a8\"],[0.3333333333333333,\"#9c179e\"],[0.4444444444444444,\"#bd3786\"],[0.5555555555555556,\"#d8576b\"],[0.6666666666666666,\"#ed7953\"],[0.7777777777777778,\"#fb9f3a\"],[0.8888888888888888,\"#fdca26\"],[1.0,\"#f0f921\"]]}],\"heatmapgl\":[{\"type\":\"heatmapgl\",\"colorbar\":{\"outlinewidth\":0,\"ticks\":\"\"},\"colorscale\":[[0.0,\"#0d0887\"],[0.1111111111111111,\"#46039f\"],[0.2222222222222222,\"#7201a8\"],[0.3333333333333333,\"#9c179e\"],[0.4444444444444444,\"#bd3786\"],[0.5555555555555556,\"#d8576b\"],[0.6666666666666666,\"#ed7953\"],[0.7777777777777778,\"#fb9f3a\"],[0.8888888888888888,\"#fdca26\"],[1.0,\"#f0f921\"]]}],\"contourcarpet\":[{\"type\":\"contourcarpet\",\"colorbar\":{\"outlinewidth\":0,\"ticks\":\"\"}}],\"contour\":[{\"type\":\"contour\",\"colorbar\":{\"outlinewidth\":0,\"ticks\":\"\"},\"colorscale\":[[0.0,\"#0d0887\"],[0.1111111111111111,\"#46039f\"],[0.2222222222222222,\"#7201a8\"],[0.3333333333333333,\"#9c179e\"],[0.4444444444444444,\"#bd3786\"],[0.5555555555555556,\"#d8576b\"],[0.6666666666666666,\"#ed7953\"],[0.7777777777777778,\"#fb9f3a\"],[0.8888888888888888,\"#fdca26\"],[1.0,\"#f0f921\"]]}],\"surface\":[{\"type\":\"surface\",\"colorbar\":{\"outlinewidth\":0,\"ticks\":\"\"},\"colorscale\":[[0.0,\"#0d0887\"],[0.1111111111111111,\"#46039f\"],[0.2222222222222222,\"#7201a8\"],[0.3333333333333333,\"#9c179e\"],[0.4444444444444444,\"#bd3786\"],[0.5555555555555556,\"#d8576b\"],[0.6666666666666666,\"#ed7953\"],[0.7777777777777778,\"#fb9f3a\"],[0.8888888888888888,\"#fdca26\"],[1.0,\"#f0f921\"]]}],\"mesh3d\":[{\"type\":\"mesh3d\",\"colorbar\":{\"outlinewidth\":0,\"ticks\":\"\"}}],\"scatter\":[{\"fillpattern\":{\"fillmode\":\"overlay\",\"size\":10,\"solidity\":0.2},\"type\":\"scatter\"}],\"parcoords\":[{\"type\":\"parcoords\",\"line\":{\"colorbar\":{\"outlinewidth\":0,\"ticks\":\"\"}}}],\"scatterpolargl\":[{\"type\":\"scatterpolargl\",\"marker\":{\"colorbar\":{\"outlinewidth\":0,\"ticks\":\"\"}}}],\"bar\":[{\"error_x\":{\"color\":\"#2a3f5f\"},\"error_y\":{\"color\":\"#2a3f5f\"},\"marker\":{\"line\":{\"color\":\"#E5ECF6\",\"width\":0.5},\"pattern\":{\"fillmode\":\"overlay\",\"size\":10,\"solidity\":0.2}},\"type\":\"bar\"}],\"scattergeo\":[{\"type\":\"scattergeo\",\"marker\":{\"colorbar\":{\"outlinewidth\":0,\"ticks\":\"\"}}}],\"scatterpolar\":[{\"type\":\"scatterpolar\",\"marker\":{\"colorbar\":{\"outlinewidth\":0,\"ticks\":\"\"}}}],\"histogram\":[{\"marker\":{\"pattern\":{\"fillmode\":\"overlay\",\"size\":10,\"solidity\":0.2}},\"type\":\"histogram\"}],\"scattergl\":[{\"type\":\"scattergl\",\"marker\":{\"colorbar\":{\"outlinewidth\":0,\"ticks\":\"\"}}}],\"scatter3d\":[{\"type\":\"scatter3d\",\"line\":{\"colorbar\":{\"outlinewidth\":0,\"ticks\":\"\"}},\"marker\":{\"colorbar\":{\"outlinewidth\":0,\"ticks\":\"\"}}}],\"scattermapbox\":[{\"type\":\"scattermapbox\",\"marker\":{\"colorbar\":{\"outlinewidth\":0,\"ticks\":\"\"}}}],\"scatterternary\":[{\"type\":\"scatterternary\",\"marker\":{\"colorbar\":{\"outlinewidth\":0,\"ticks\":\"\"}}}],\"scattercarpet\":[{\"type\":\"scattercarpet\",\"marker\":{\"colorbar\":{\"outlinewidth\":0,\"ticks\":\"\"}}}],\"carpet\":[{\"aaxis\":{\"endlinecolor\":\"#2a3f5f\",\"gridcolor\":\"white\",\"linecolor\":\"white\",\"minorgridcolor\":\"white\",\"startlinecolor\":\"#2a3f5f\"},\"baxis\":{\"endlinecolor\":\"#2a3f5f\",\"gridcolor\":\"white\",\"linecolor\":\"white\",\"minorgridcolor\":\"white\",\"startlinecolor\":\"#2a3f5f\"},\"type\":\"carpet\"}],\"table\":[{\"cells\":{\"fill\":{\"color\":\"#EBF0F8\"},\"line\":{\"color\":\"white\"}},\"header\":{\"fill\":{\"color\":\"#C8D4E3\"},\"line\":{\"color\":\"white\"}},\"type\":\"table\"}],\"barpolar\":[{\"marker\":{\"line\":{\"color\":\"#E5ECF6\",\"width\":0.5},\"pattern\":{\"fillmode\":\"overlay\",\"size\":10,\"solidity\":0.2}},\"type\":\"barpolar\"}],\"pie\":[{\"automargin\":true,\"type\":\"pie\"}]},\"layout\":{\"autotypenumbers\":\"strict\",\"colorway\":[\"#636efa\",\"#EF553B\",\"#00cc96\",\"#ab63fa\",\"#FFA15A\",\"#19d3f3\",\"#FF6692\",\"#B6E880\",\"#FF97FF\",\"#FECB52\"],\"font\":{\"color\":\"#2a3f5f\"},\"hovermode\":\"closest\",\"hoverlabel\":{\"align\":\"left\"},\"paper_bgcolor\":\"white\",\"plot_bgcolor\":\"#E5ECF6\",\"polar\":{\"bgcolor\":\"#E5ECF6\",\"angularaxis\":{\"gridcolor\":\"white\",\"linecolor\":\"white\",\"ticks\":\"\"},\"radialaxis\":{\"gridcolor\":\"white\",\"linecolor\":\"white\",\"ticks\":\"\"}},\"ternary\":{\"bgcolor\":\"#E5ECF6\",\"aaxis\":{\"gridcolor\":\"white\",\"linecolor\":\"white\",\"ticks\":\"\"},\"baxis\":{\"gridcolor\":\"white\",\"linecolor\":\"white\",\"ticks\":\"\"},\"caxis\":{\"gridcolor\":\"white\",\"linecolor\":\"white\",\"ticks\":\"\"}},\"coloraxis\":{\"colorbar\":{\"outlinewidth\":0,\"ticks\":\"\"}},\"colorscale\":{\"sequential\":[[0.0,\"#0d0887\"],[0.1111111111111111,\"#46039f\"],[0.2222222222222222,\"#7201a8\"],[0.3333333333333333,\"#9c179e\"],[0.4444444444444444,\"#bd3786\"],[0.5555555555555556,\"#d8576b\"],[0.6666666666666666,\"#ed7953\"],[0.7777777777777778,\"#fb9f3a\"],[0.8888888888888888,\"#fdca26\"],[1.0,\"#f0f921\"]],\"sequentialminus\":[[0.0,\"#0d0887\"],[0.1111111111111111,\"#46039f\"],[0.2222222222222222,\"#7201a8\"],[0.3333333333333333,\"#9c179e\"],[0.4444444444444444,\"#bd3786\"],[0.5555555555555556,\"#d8576b\"],[0.6666666666666666,\"#ed7953\"],[0.7777777777777778,\"#fb9f3a\"],[0.8888888888888888,\"#fdca26\"],[1.0,\"#f0f921\"]],\"diverging\":[[0,\"#8e0152\"],[0.1,\"#c51b7d\"],[0.2,\"#de77ae\"],[0.3,\"#f1b6da\"],[0.4,\"#fde0ef\"],[0.5,\"#f7f7f7\"],[0.6,\"#e6f5d0\"],[0.7,\"#b8e186\"],[0.8,\"#7fbc41\"],[0.9,\"#4d9221\"],[1,\"#276419\"]]},\"xaxis\":{\"gridcolor\":\"white\",\"linecolor\":\"white\",\"ticks\":\"\",\"title\":{\"standoff\":15},\"zerolinecolor\":\"white\",\"automargin\":true,\"zerolinewidth\":2},\"yaxis\":{\"gridcolor\":\"white\",\"linecolor\":\"white\",\"ticks\":\"\",\"title\":{\"standoff\":15},\"zerolinecolor\":\"white\",\"automargin\":true,\"zerolinewidth\":2},\"scene\":{\"xaxis\":{\"backgroundcolor\":\"#E5ECF6\",\"gridcolor\":\"white\",\"linecolor\":\"white\",\"showbackground\":true,\"ticks\":\"\",\"zerolinecolor\":\"white\",\"gridwidth\":2},\"yaxis\":{\"backgroundcolor\":\"#E5ECF6\",\"gridcolor\":\"white\",\"linecolor\":\"white\",\"showbackground\":true,\"ticks\":\"\",\"zerolinecolor\":\"white\",\"gridwidth\":2},\"zaxis\":{\"backgroundcolor\":\"#E5ECF6\",\"gridcolor\":\"white\",\"linecolor\":\"white\",\"showbackground\":true,\"ticks\":\"\",\"zerolinecolor\":\"white\",\"gridwidth\":2}},\"shapedefaults\":{\"line\":{\"color\":\"#2a3f5f\"}},\"annotationdefaults\":{\"arrowcolor\":\"#2a3f5f\",\"arrowhead\":0,\"arrowwidth\":1},\"geo\":{\"bgcolor\":\"white\",\"landcolor\":\"#E5ECF6\",\"subunitcolor\":\"white\",\"showland\":true,\"showlakes\":true,\"lakecolor\":\"white\"},\"title\":{\"x\":0.05},\"mapbox\":{\"style\":\"light\"}}},\"font\":{\"family\":\"Courier New, monospace\",\"size\":50,\"color\":\"black\"},\"title\":{\"text\":\"total distance: 9.8774\"},\"showlegend\":true},                        {\"responsive\": true}                    ).then(function(){\n",
       "                            \n",
       "var gd = document.getElementById('67c4aa74-7324-431c-8559-ee4b2ffecba7');\n",
       "var x = new MutationObserver(function (mutations, observer) {{\n",
       "        var display = window.getComputedStyle(gd).display;\n",
       "        if (!display || display === 'none') {{\n",
       "            console.log([gd, 'removed!']);\n",
       "            Plotly.purge(gd);\n",
       "            observer.disconnect();\n",
       "        }}\n",
       "}});\n",
       "\n",
       "// Listen for the removal of the full notebook cells\n",
       "var notebookContainer = gd.closest('#notebook-container');\n",
       "if (notebookContainer) {{\n",
       "    x.observe(notebookContainer, {childList: true});\n",
       "}}\n",
       "\n",
       "// Listen for the clearing of the current output cell\n",
       "var outputEl = gd.closest('.output');\n",
       "if (outputEl) {{\n",
       "    x.observe(outputEl, {childList: true});\n",
       "}}\n",
       "\n",
       "                        })                };                });            </script>        </div>"
      ]
     },
     "metadata": {},
     "output_type": "display_data"
    },
    {
     "name": "stdout",
     "output_type": "stream",
     "text": [
      "2/2 [==============================] - 1s 4ms/step\n"
     ]
    },
    {
     "data": {
      "application/vnd.plotly.v1+json": {
       "config": {
        "plotlyServerURL": "https://plot.ly"
       },
       "data": [
        {
         "hovertemplate": "%{text}",
         "marker": {
          "color": "blue",
          "opacity": 1,
          "size": 20,
          "symbol": "circle"
         },
         "mode": "markers",
         "name": "Con (Augmented)",
         "text": [
          "Text: a fascinating film presenting a bold journey from the past and accepting, in his warm welcome, the prize of cultural artifacts in the hermitage of the St. Petersburg Museum. <br> Label: Con (augmented) <br> Distance: 0.58880",
          "Text: The film tries to be too fun and too fun.The final result is a film that is not the same. <br> Label: Con (augmented) <br> Distance: 0.44089",
          "Text: Noyce records more as an impressive history lesson than a drama. <br> Label: Con (augmented) <br> Distance: 0.61301",
          "Text: An intelligent drama that makes it impossible: it's under the page of a man who knows himself as a mackman, monsters. <br> Label: Con (augmented) <br> Distance: 0.18146",
          "Text: I change more than an elegant revisionist exercise, which I insist... is very inducible, but serves as a moral good for a fairy. <br> Label: Con (augmented) <br> Distance: 0.47244",
          "Text: It wasn't everyone's bag of popcorn, but it definitely gives you something to chew on. <br> Label: Con (augmented) <br> Distance: 0.62527",
          "Text: Sang Sunday you have the grace to invoke prevention instead of persecution, making one of the flash war memories that have been archived. <br> Label: Con (augmented) <br> Distance: 0.95844",
          "Text: The writing of special magic items is inevitable and difficult to resist. <br> Label: Con (augmented) <br> Distance: 0.44470",
          "Text: This bold film challenges the notions of widespread religious beliefs, giving a complex portrait of an expansional identity crisis and a healthy hope of expansion. <br> Label: Con (augmented) <br> Distance: 0.35163",
          "Text: It's not as horrible as Hollywood's value, but it's far from being an innovative effort. <br> Label: Con (augmented) <br> Distance: 0.92287",
          "Text: If there is no pretext, a blue vaccine can come in the form of solar support and mosaics. <br> Label: Con (augmented) <br> Distance: 2.72739",
          "Text: This is a story that always lasts with originality, humor and pathos. <br> Label: Con (augmented) <br> Distance: 2.34940",
          "Text: Parker updated the script in a tempting of relevant raw facts or films, knowing that history was relevant at first reading. <br> Label: Con (augmented) <br> Distance: 0.57662",
          "Text: Choose a refreshing idea that I love the women of the first dress their friends chose to make Hagh. <br> Label: Con (augmented) <br> Distance: 5.32773",
          "Text: a certain body is an uncertain film, which, however, touches raw nerves. <br> Label: Con (augmented) <br> Distance: 1.02509"
         ],
         "type": "scatter",
         "x": [
          0.3981573873343126,
          1.0272185939081373,
          0.9303243858164977,
          0.9371506890444298,
          1.299382088654987,
          0.9644075189595828,
          0.9912455671599335,
          -0.19847726614028208,
          0.5172204156623555,
          0.8259864537017394,
          -0.7478006064136634,
          0.27123588518472996,
          0.9452298430892382,
          -0.9340533708803307,
          0.7321532765267674
         ],
         "y": [
          -0.3884495762528635,
          -1.2692626652524062,
          -1.1535702393689589,
          -0.8204832931932154,
          -1.0785416199369777,
          -1.2037691150241967,
          -0.8441803346001663,
          0.199497931903074,
          -0.5047641128507129,
          -0.9930503759532541,
          0.7457940514191369,
          -0.27193991291145414,
          -1.1596805228676026,
          0.9540136003308651,
          -0.8574008431827084
         ]
        },
        {
         "hovertemplate": "%{text}",
         "marker": {
          "color": "blue",
          "opacity": 0.3,
          "size": 60,
          "symbol": "circle"
         },
         "mode": "markers",
         "name": "Con (Original)",
         "text": [
          "Text: an enchanting film that presents an audacious tour of the past and takes within its warm embrace the bounties of cultural artifacts inside st . petersburg's hermitage museum .  <br> Label: Con (original) <br> Distance: 0.58880",
          "Text: the film tries too hard to be funny and tries too hard to be hip . the end result is a film that's neither .  <br> Label: Con (original) <br> Distance: 0.44089",
          "Text: noyce films it more as a shocking history lesson than as drama .  <br> Label: Con (original) <br> Distance: 0.61301",
          "Text: a smart , provocative drama that does the nearly impossible : it gets under the skin of a man we only know as an evil , monstrous lunatic .  <br> Label: Con (original) <br> Distance: 0.18146",
          "Text: little more than a stylish exercise in revisionism whose point . . . is no doubt true , but serves as a rather thin moral to such a knowing fable .  <br> Label: Con (original) <br> Distance: 0.47244",
          "Text: it's not going to be everyone's bag of popcorn , but it definitely gives you something to chew on .  <br> Label: Con (original) <br> Distance: 0.62527",
          "Text: bloody sunday has the grace to call for prevention rather than to place blame , making it one of the best war movies ever made . it's a movie that accomplishes so much that one viewing can't possibly be enough .  <br> Label: Con (original) <br> Distance: 0.95844",
          "Text: the spark of special anime magic here is unmistakable and hard to resist .  <br> Label: Con (original) <br> Distance: 0.44470",
          "Text: this daring film challenges most widely held notions about religious conviction while providing a complex portrait of an identity crisis that's run amok and a good mind that's jumped the tracks .  <br> Label: Con (original) <br> Distance: 0.35163",
          "Text: it's not as awful as some of the recent hollywood trip tripe . . . but it's far from a groundbreaking endeavor .  <br> Label: Con (original) <br> Distance: 0.92287",
          "Text: if there was a flu shot for the blues , it might come in the form of this embraceable ode to loneliness and love regained .  <br> Label: Con (original) <br> Distance: 2.72739",
          "Text: this is a story that zings all the way through with originality , humour and pathos .  <br> Label: Con (original) <br> Distance: 2.34940",
          "Text: parker updates the setting in an attempt to make the film relevant today , without fully understanding what it was that made the story relevant in the first place .  <br> Label: Con (original) <br> Distance: 0.57662",
          "Text: so refreshingly incisive is grant that for the first time he'll probably appeal more to guys than to their girlfriends who drag them to this movie for the hugh factor .  <br> Label: Con (original) <br> Distance: 5.32773",
          "Text: some body is a shaky , uncertain film that nevertheless touches a few raw nerves .  <br> Label: Con (original) <br> Distance: 1.02509"
         ],
         "type": "scatter",
         "x": [
          0.640727422225845,
          1.273893388470238,
          1.2354872345831445,
          0.8833807833892572,
          1.2078113541587638,
          1.3105155537558275,
          1.1812044691642731,
          -0.02672085383086823,
          0.6632400305323588,
          1.3011615077512584,
          0.30538352898991555,
          1.2902723767831235,
          1.0909806635338228,
          1.2433621048646348,
          1.0699569075497029
         ],
         "y": [
          -0.6015793143904345,
          -1.297790555511583,
          -1.0010457361534928,
          -0.7386189474042232,
          -1.3138109890400282,
          -1.1410768173497357,
          -1.3200076302680428,
          0.02771560762335184,
          -0.6308712429646267,
          -1.1922745598600677,
          -0.30793438032702647,
          -1.067725409162416,
          -0.8863514817115065,
          -0.9919328462445515,
          -1.2984642216639808
         ]
        },
        {
         "hovertemplate": "%{text}",
         "marker": {
          "color": "red",
          "opacity": 1,
          "size": 20,
          "symbol": "diamond"
         },
         "mode": "markers",
         "name": "Pro (Augmented)",
         "text": [
          "Text: Mary and Joe's beautiful surprise is what antiquity should present at a nice and amazing time. <br> Label: Pro (augmented) <br> Distance: 0.18209",
          "Text: A parent company sends an elite military unit, where Alice finds amnesia due to exposure to nerve gases. <br> Label: Pro (augmented) <br> Distance: 0.39215",
          "Text: And it happened, when life was reversed, that he lost. <br> Label: Pro (augmented) <br> Distance: 0.71785",
          "Text: Barry Egan (Adam Sandler) has a thirsty sister, whose abuse keeps him alone and unable to love. <br> Label: Pro (augmented) <br> Distance: 0.84360",
          "Text: De Niro presents Mitch, a poyet and laborious politician. <br> Label: Pro (augmented) <br> Distance: 5.26546",
          "Text: Pages are the only fracture of selected gray monotonia. <br> Label: Pro (augmented) <br> Distance: 1.12638",
          "Text: Rule: The first submarine nuclear missile is a documentary of the immediate naval battle after Wwii to develop and implement the launched submarine nuclear missile. <br> Label: Pro (augmented) <br> Distance: 0.47750",
          "Text: In 30 days and the end of Mortus. <br> Label: Pro (augmented) <br> Distance: 0.90265",
          "Text: Years isn't a boy, but he's just a man. <br> Label: Pro (augmented) <br> Distance: 3.46231",
          "Text: If based on Edgar Valdemar's account that Valdemar is not the master of comedy that the doctor converts convinced the family of all the dead in the trenches in the last breath. <br> Label: Pro (augmented) <br> Distance: 1.69398",
          "Text: Jungla Amazon strong selected to delegalize. <br> Label: Pro (augmented) <br> Distance: 3.95611",
          "Text: And the sexual revolution has progressed, and the pornographic subculture has progressed. <br> Label: Pro (augmented) <br> Distance: 0.54182",
          "Text: New York serves as a base for a group of characters looking for love, health or health, including a lady who shames the man who renews his espia de soya, a fraud, a slow artist and a sensitive phone. <br> Label: Pro (augmented) <br> Distance: 1.63041",
          "Text: The two van lutars died because they wouldn't report them. <br> Label: Pro (augmented) <br> Distance: 0.07592",
          "Text: The appearance of Jesus did not change abruptly and openly, dispersing the local ultra-conservative population. <br> Label: Pro (augmented) <br> Distance: 0.85206"
         ],
         "type": "scatter",
         "x": [
          0.6531105126104568,
          -1.143019264294874,
          -1.028548454327896,
          -0.9914774023518571,
          0.7762925467136153,
          -0.23326840379991992,
          -1.1858138903685649,
          -1.0437146421932926,
          0.6608630814283817,
          -1.229374983746337,
          0.17637107500500127,
          -1.1212993307489196,
          -0.5713507746420146,
          -1.0431413036838746,
          -0.9991948934972648
         ],
         "y": [
          -0.6668994221365585,
          1.332319944450359,
          0.997731916337441,
          1.0818370112917473,
          -0.9397954102573763,
          0.23370988032310688,
          1.362607989834823,
          0.9827368386015762,
          -0.7412829505945281,
          1.3809047018433014,
          -0.17767697423505133,
          0.9914865961550959,
          0.5768373033654732,
          1.1845188802904856,
          0.9863698058607439
         ]
        },
        {
         "hovertemplate": "%{text}",
         "marker": {
          "color": "red",
          "opacity": 0.3,
          "size": 60,
          "symbol": "diamond"
         },
         "mode": "markers",
         "name": "Pro (Original)",
         "text": [
          "Text: chock full of ethnic flavor , whimsy , doubt , faith , joy and wonder , mary and joe is a delightful surprise , as the old story is brought into the present with startling freshness and power .  <br> Label: Pro (original) <br> Distance: 0.18209",
          "Text: the parent corporation sends in an elite military unit , where they meet alice , who is suffering from amnesia due to exposure to nerve gas .  <br> Label: Pro (original) <br> Distance: 0.39215",
          "Text: as fate would have it , they realize how close they all are from the other side ; of life , of love , and of losing it .  <br> Label: Pro (original) <br> Distance: 0.71785",
          "Text: barry egan ( adam sandler ) is a small business owner with seven sisters whose abuse has kept him alone and unable to fall in love .  <br> Label: Pro (original) <br> Distance: 0.84360",
          "Text: in this movie , de niro plays mitch preston , a hard-nosed , hardworking police detective .  <br> Label: Pro (original) <br> Distance: 5.26546",
          "Text: the plants are the only break in the grey monotony around her .  <br> Label: Pro (original) <br> Distance: 1.12638",
          "Text: regulus : the first nuclear missile submarine is a documentary about the navy's struggle , in the era immediately following wwii , to develop and deploy a submarine-launched nuclear missile .  <br> Label: Pro (original) <br> Distance: 0.47750",
          "Text: in order get loan sharks off his back , he must finish his novel in 30 days or wind up dead .  <br> Label: Pro (original) <br> Distance: 0.90265",
          "Text: for anni they are not enemies , but just men .  <br> Label: Pro (original) <br> Distance: 3.46231",
          "Text: based on the edgar allen poe short story , \" the facts in the case of m . valdemar , \" comedy revolves around a doctor who convinces a dying man's family to allow him to put the man in a trance as he takes his final breaths .  <br> Label: Pro (original) <br> Distance: 1.69398",
          "Text: the rock as a bounty hunter who attempts to square a debt by heading to the amazon jungle to capture someone .  <br> Label: Pro (original) <br> Distance: 3.95611",
          "Text: as the sexual revolution blossomed , and porn sub culture flourished john was the man .  <br> Label: Pro (original) <br> Distance: 0.54182",
          "Text: new york serves as a backdrop for a cast of characters in search of love , lust or lucre including a woman who makes awkward moves on the man renovating her soho loft , an embezzler , a sleazy artist and a phone psychic .  <br> Label: Pro (original) <br> Distance: 1.63041",
          "Text: both will fight to the death not to give it to each other .  <br> Label: Pro (original) <br> Distance: 0.07592",
          "Text: after having a divine vision and speaking with jesus , she suddenly changes her look and usual ways , disturbing the local , ultra conservative population .  <br> Label: Pro (original) <br> Distance: 0.85206"
         ],
         "type": "scatter",
         "x": [
          0.7468598259246981,
          -1.3580272532011903,
          -1.1642872200144867,
          -1.4016826934222846,
          -1.2775511430113349,
          -0.6692262167836449,
          -1.3927175929512963,
          -1.3249658076691215,
          -0.6339774566147318,
          -0.6578208661214934,
          -1.4001486836364203,
          -1.3668582252538948,
          0.056415380390143016,
          -1.0562548429195617,
          -1.4062405060968959
         ],
         "y": [
          -0.7062224711030347,
          1.3806394331519105,
          1.3563683594003866,
          1.3081565965925743,
          1.076136768959062,
          0.667993197147742,
          1.200633637195374,
          1.381660173926743,
          0.6325783095809538,
          0.6612429434482047,
          1.3062028635995468,
          1.162349725855302,
          -0.05467514850558139,
          1.222843757815501,
          1.2262411695112456
         ]
        }
       ],
       "layout": {
        "font": {
         "color": "black",
         "family": "Courier New, monospace",
         "size": 50
        },
        "showlegend": true,
        "template": {
         "data": {
          "bar": [
           {
            "error_x": {
             "color": "#2a3f5f"
            },
            "error_y": {
             "color": "#2a3f5f"
            },
            "marker": {
             "line": {
              "color": "#E5ECF6",
              "width": 0.5
             },
             "pattern": {
              "fillmode": "overlay",
              "size": 10,
              "solidity": 0.2
             }
            },
            "type": "bar"
           }
          ],
          "barpolar": [
           {
            "marker": {
             "line": {
              "color": "#E5ECF6",
              "width": 0.5
             },
             "pattern": {
              "fillmode": "overlay",
              "size": 10,
              "solidity": 0.2
             }
            },
            "type": "barpolar"
           }
          ],
          "carpet": [
           {
            "aaxis": {
             "endlinecolor": "#2a3f5f",
             "gridcolor": "white",
             "linecolor": "white",
             "minorgridcolor": "white",
             "startlinecolor": "#2a3f5f"
            },
            "baxis": {
             "endlinecolor": "#2a3f5f",
             "gridcolor": "white",
             "linecolor": "white",
             "minorgridcolor": "white",
             "startlinecolor": "#2a3f5f"
            },
            "type": "carpet"
           }
          ],
          "choropleth": [
           {
            "colorbar": {
             "outlinewidth": 0,
             "ticks": ""
            },
            "type": "choropleth"
           }
          ],
          "contour": [
           {
            "colorbar": {
             "outlinewidth": 0,
             "ticks": ""
            },
            "colorscale": [
             [
              0,
              "#0d0887"
             ],
             [
              0.1111111111111111,
              "#46039f"
             ],
             [
              0.2222222222222222,
              "#7201a8"
             ],
             [
              0.3333333333333333,
              "#9c179e"
             ],
             [
              0.4444444444444444,
              "#bd3786"
             ],
             [
              0.5555555555555556,
              "#d8576b"
             ],
             [
              0.6666666666666666,
              "#ed7953"
             ],
             [
              0.7777777777777778,
              "#fb9f3a"
             ],
             [
              0.8888888888888888,
              "#fdca26"
             ],
             [
              1,
              "#f0f921"
             ]
            ],
            "type": "contour"
           }
          ],
          "contourcarpet": [
           {
            "colorbar": {
             "outlinewidth": 0,
             "ticks": ""
            },
            "type": "contourcarpet"
           }
          ],
          "heatmap": [
           {
            "colorbar": {
             "outlinewidth": 0,
             "ticks": ""
            },
            "colorscale": [
             [
              0,
              "#0d0887"
             ],
             [
              0.1111111111111111,
              "#46039f"
             ],
             [
              0.2222222222222222,
              "#7201a8"
             ],
             [
              0.3333333333333333,
              "#9c179e"
             ],
             [
              0.4444444444444444,
              "#bd3786"
             ],
             [
              0.5555555555555556,
              "#d8576b"
             ],
             [
              0.6666666666666666,
              "#ed7953"
             ],
             [
              0.7777777777777778,
              "#fb9f3a"
             ],
             [
              0.8888888888888888,
              "#fdca26"
             ],
             [
              1,
              "#f0f921"
             ]
            ],
            "type": "heatmap"
           }
          ],
          "heatmapgl": [
           {
            "colorbar": {
             "outlinewidth": 0,
             "ticks": ""
            },
            "colorscale": [
             [
              0,
              "#0d0887"
             ],
             [
              0.1111111111111111,
              "#46039f"
             ],
             [
              0.2222222222222222,
              "#7201a8"
             ],
             [
              0.3333333333333333,
              "#9c179e"
             ],
             [
              0.4444444444444444,
              "#bd3786"
             ],
             [
              0.5555555555555556,
              "#d8576b"
             ],
             [
              0.6666666666666666,
              "#ed7953"
             ],
             [
              0.7777777777777778,
              "#fb9f3a"
             ],
             [
              0.8888888888888888,
              "#fdca26"
             ],
             [
              1,
              "#f0f921"
             ]
            ],
            "type": "heatmapgl"
           }
          ],
          "histogram": [
           {
            "marker": {
             "pattern": {
              "fillmode": "overlay",
              "size": 10,
              "solidity": 0.2
             }
            },
            "type": "histogram"
           }
          ],
          "histogram2d": [
           {
            "colorbar": {
             "outlinewidth": 0,
             "ticks": ""
            },
            "colorscale": [
             [
              0,
              "#0d0887"
             ],
             [
              0.1111111111111111,
              "#46039f"
             ],
             [
              0.2222222222222222,
              "#7201a8"
             ],
             [
              0.3333333333333333,
              "#9c179e"
             ],
             [
              0.4444444444444444,
              "#bd3786"
             ],
             [
              0.5555555555555556,
              "#d8576b"
             ],
             [
              0.6666666666666666,
              "#ed7953"
             ],
             [
              0.7777777777777778,
              "#fb9f3a"
             ],
             [
              0.8888888888888888,
              "#fdca26"
             ],
             [
              1,
              "#f0f921"
             ]
            ],
            "type": "histogram2d"
           }
          ],
          "histogram2dcontour": [
           {
            "colorbar": {
             "outlinewidth": 0,
             "ticks": ""
            },
            "colorscale": [
             [
              0,
              "#0d0887"
             ],
             [
              0.1111111111111111,
              "#46039f"
             ],
             [
              0.2222222222222222,
              "#7201a8"
             ],
             [
              0.3333333333333333,
              "#9c179e"
             ],
             [
              0.4444444444444444,
              "#bd3786"
             ],
             [
              0.5555555555555556,
              "#d8576b"
             ],
             [
              0.6666666666666666,
              "#ed7953"
             ],
             [
              0.7777777777777778,
              "#fb9f3a"
             ],
             [
              0.8888888888888888,
              "#fdca26"
             ],
             [
              1,
              "#f0f921"
             ]
            ],
            "type": "histogram2dcontour"
           }
          ],
          "mesh3d": [
           {
            "colorbar": {
             "outlinewidth": 0,
             "ticks": ""
            },
            "type": "mesh3d"
           }
          ],
          "parcoords": [
           {
            "line": {
             "colorbar": {
              "outlinewidth": 0,
              "ticks": ""
             }
            },
            "type": "parcoords"
           }
          ],
          "pie": [
           {
            "automargin": true,
            "type": "pie"
           }
          ],
          "scatter": [
           {
            "fillpattern": {
             "fillmode": "overlay",
             "size": 10,
             "solidity": 0.2
            },
            "type": "scatter"
           }
          ],
          "scatter3d": [
           {
            "line": {
             "colorbar": {
              "outlinewidth": 0,
              "ticks": ""
             }
            },
            "marker": {
             "colorbar": {
              "outlinewidth": 0,
              "ticks": ""
             }
            },
            "type": "scatter3d"
           }
          ],
          "scattercarpet": [
           {
            "marker": {
             "colorbar": {
              "outlinewidth": 0,
              "ticks": ""
             }
            },
            "type": "scattercarpet"
           }
          ],
          "scattergeo": [
           {
            "marker": {
             "colorbar": {
              "outlinewidth": 0,
              "ticks": ""
             }
            },
            "type": "scattergeo"
           }
          ],
          "scattergl": [
           {
            "marker": {
             "colorbar": {
              "outlinewidth": 0,
              "ticks": ""
             }
            },
            "type": "scattergl"
           }
          ],
          "scattermapbox": [
           {
            "marker": {
             "colorbar": {
              "outlinewidth": 0,
              "ticks": ""
             }
            },
            "type": "scattermapbox"
           }
          ],
          "scatterpolar": [
           {
            "marker": {
             "colorbar": {
              "outlinewidth": 0,
              "ticks": ""
             }
            },
            "type": "scatterpolar"
           }
          ],
          "scatterpolargl": [
           {
            "marker": {
             "colorbar": {
              "outlinewidth": 0,
              "ticks": ""
             }
            },
            "type": "scatterpolargl"
           }
          ],
          "scatterternary": [
           {
            "marker": {
             "colorbar": {
              "outlinewidth": 0,
              "ticks": ""
             }
            },
            "type": "scatterternary"
           }
          ],
          "surface": [
           {
            "colorbar": {
             "outlinewidth": 0,
             "ticks": ""
            },
            "colorscale": [
             [
              0,
              "#0d0887"
             ],
             [
              0.1111111111111111,
              "#46039f"
             ],
             [
              0.2222222222222222,
              "#7201a8"
             ],
             [
              0.3333333333333333,
              "#9c179e"
             ],
             [
              0.4444444444444444,
              "#bd3786"
             ],
             [
              0.5555555555555556,
              "#d8576b"
             ],
             [
              0.6666666666666666,
              "#ed7953"
             ],
             [
              0.7777777777777778,
              "#fb9f3a"
             ],
             [
              0.8888888888888888,
              "#fdca26"
             ],
             [
              1,
              "#f0f921"
             ]
            ],
            "type": "surface"
           }
          ],
          "table": [
           {
            "cells": {
             "fill": {
              "color": "#EBF0F8"
             },
             "line": {
              "color": "white"
             }
            },
            "header": {
             "fill": {
              "color": "#C8D4E3"
             },
             "line": {
              "color": "white"
             }
            },
            "type": "table"
           }
          ]
         },
         "layout": {
          "annotationdefaults": {
           "arrowcolor": "#2a3f5f",
           "arrowhead": 0,
           "arrowwidth": 1
          },
          "autotypenumbers": "strict",
          "coloraxis": {
           "colorbar": {
            "outlinewidth": 0,
            "ticks": ""
           }
          },
          "colorscale": {
           "diverging": [
            [
             0,
             "#8e0152"
            ],
            [
             0.1,
             "#c51b7d"
            ],
            [
             0.2,
             "#de77ae"
            ],
            [
             0.3,
             "#f1b6da"
            ],
            [
             0.4,
             "#fde0ef"
            ],
            [
             0.5,
             "#f7f7f7"
            ],
            [
             0.6,
             "#e6f5d0"
            ],
            [
             0.7,
             "#b8e186"
            ],
            [
             0.8,
             "#7fbc41"
            ],
            [
             0.9,
             "#4d9221"
            ],
            [
             1,
             "#276419"
            ]
           ],
           "sequential": [
            [
             0,
             "#0d0887"
            ],
            [
             0.1111111111111111,
             "#46039f"
            ],
            [
             0.2222222222222222,
             "#7201a8"
            ],
            [
             0.3333333333333333,
             "#9c179e"
            ],
            [
             0.4444444444444444,
             "#bd3786"
            ],
            [
             0.5555555555555556,
             "#d8576b"
            ],
            [
             0.6666666666666666,
             "#ed7953"
            ],
            [
             0.7777777777777778,
             "#fb9f3a"
            ],
            [
             0.8888888888888888,
             "#fdca26"
            ],
            [
             1,
             "#f0f921"
            ]
           ],
           "sequentialminus": [
            [
             0,
             "#0d0887"
            ],
            [
             0.1111111111111111,
             "#46039f"
            ],
            [
             0.2222222222222222,
             "#7201a8"
            ],
            [
             0.3333333333333333,
             "#9c179e"
            ],
            [
             0.4444444444444444,
             "#bd3786"
            ],
            [
             0.5555555555555556,
             "#d8576b"
            ],
            [
             0.6666666666666666,
             "#ed7953"
            ],
            [
             0.7777777777777778,
             "#fb9f3a"
            ],
            [
             0.8888888888888888,
             "#fdca26"
            ],
            [
             1,
             "#f0f921"
            ]
           ]
          },
          "colorway": [
           "#636efa",
           "#EF553B",
           "#00cc96",
           "#ab63fa",
           "#FFA15A",
           "#19d3f3",
           "#FF6692",
           "#B6E880",
           "#FF97FF",
           "#FECB52"
          ],
          "font": {
           "color": "#2a3f5f"
          },
          "geo": {
           "bgcolor": "white",
           "lakecolor": "white",
           "landcolor": "#E5ECF6",
           "showlakes": true,
           "showland": true,
           "subunitcolor": "white"
          },
          "hoverlabel": {
           "align": "left"
          },
          "hovermode": "closest",
          "mapbox": {
           "style": "light"
          },
          "paper_bgcolor": "white",
          "plot_bgcolor": "#E5ECF6",
          "polar": {
           "angularaxis": {
            "gridcolor": "white",
            "linecolor": "white",
            "ticks": ""
           },
           "bgcolor": "#E5ECF6",
           "radialaxis": {
            "gridcolor": "white",
            "linecolor": "white",
            "ticks": ""
           }
          },
          "scene": {
           "xaxis": {
            "backgroundcolor": "#E5ECF6",
            "gridcolor": "white",
            "gridwidth": 2,
            "linecolor": "white",
            "showbackground": true,
            "ticks": "",
            "zerolinecolor": "white"
           },
           "yaxis": {
            "backgroundcolor": "#E5ECF6",
            "gridcolor": "white",
            "gridwidth": 2,
            "linecolor": "white",
            "showbackground": true,
            "ticks": "",
            "zerolinecolor": "white"
           },
           "zaxis": {
            "backgroundcolor": "#E5ECF6",
            "gridcolor": "white",
            "gridwidth": 2,
            "linecolor": "white",
            "showbackground": true,
            "ticks": "",
            "zerolinecolor": "white"
           }
          },
          "shapedefaults": {
           "line": {
            "color": "#2a3f5f"
           }
          },
          "ternary": {
           "aaxis": {
            "gridcolor": "white",
            "linecolor": "white",
            "ticks": ""
           },
           "baxis": {
            "gridcolor": "white",
            "linecolor": "white",
            "ticks": ""
           },
           "bgcolor": "#E5ECF6",
           "caxis": {
            "gridcolor": "white",
            "linecolor": "white",
            "ticks": ""
           }
          },
          "title": {
           "x": 0.05
          },
          "xaxis": {
           "automargin": true,
           "gridcolor": "white",
           "linecolor": "white",
           "ticks": "",
           "title": {
            "standoff": 15
           },
           "zerolinecolor": "white",
           "zerolinewidth": 2
          },
          "yaxis": {
           "automargin": true,
           "gridcolor": "white",
           "linecolor": "white",
           "ticks": "",
           "title": {
            "standoff": 15
           },
           "zerolinecolor": "white",
           "zerolinewidth": 2
          }
         }
        },
        "title": {
         "text": "total distance: 7.1306"
        }
       }
      },
      "text/html": [
       "<div>                            <div id=\"a5924f0b-a3f6-4788-a889-d121ab406ceb\" class=\"plotly-graph-div\" style=\"height:525px; width:100%;\"></div>            <script type=\"text/javascript\">                require([\"plotly\"], function(Plotly) {                    window.PLOTLYENV=window.PLOTLYENV || {};                                    if (document.getElementById(\"a5924f0b-a3f6-4788-a889-d121ab406ceb\")) {                    Plotly.newPlot(                        \"a5924f0b-a3f6-4788-a889-d121ab406ceb\",                        [{\"hovertemplate\":\"%{text}\",\"marker\":{\"color\":\"blue\",\"opacity\":1,\"size\":20,\"symbol\":\"circle\"},\"mode\":\"markers\",\"name\":\"Con (Augmented)\",\"text\":[\"Text: a fascinating film presenting a bold journey from the past and accepting, in his warm welcome, the prize of cultural artifacts in the hermitage of the St. Petersburg Museum. <br> Label: Con (augmented) <br> Distance: 0.58880\",\"Text: The film tries to be too fun and too fun.The final result is a film that is not the same. <br> Label: Con (augmented) <br> Distance: 0.44089\",\"Text: Noyce records more as an impressive history lesson than a drama. <br> Label: Con (augmented) <br> Distance: 0.61301\",\"Text: An intelligent drama that makes it impossible: it's under the page of a man who knows himself as a mackman, monsters. <br> Label: Con (augmented) <br> Distance: 0.18146\",\"Text: I change more than an elegant revisionist exercise, which I insist... is very inducible, but serves as a moral good for a fairy. <br> Label: Con (augmented) <br> Distance: 0.47244\",\"Text: It wasn't everyone's bag of popcorn, but it definitely gives you something to chew on. <br> Label: Con (augmented) <br> Distance: 0.62527\",\"Text: Sang Sunday you have the grace to invoke prevention instead of persecution, making one of the flash war memories that have been archived. <br> Label: Con (augmented) <br> Distance: 0.95844\",\"Text: The writing of special magic items is inevitable and difficult to resist. <br> Label: Con (augmented) <br> Distance: 0.44470\",\"Text: This bold film challenges the notions of widespread religious beliefs, giving a complex portrait of an expansional identity crisis and a healthy hope of expansion. <br> Label: Con (augmented) <br> Distance: 0.35163\",\"Text: It's not as horrible as Hollywood's value, but it's far from being an innovative effort. <br> Label: Con (augmented) <br> Distance: 0.92287\",\"Text: If there is no pretext, a blue vaccine can come in the form of solar support and mosaics. <br> Label: Con (augmented) <br> Distance: 2.72739\",\"Text: This is a story that always lasts with originality, humor and pathos. <br> Label: Con (augmented) <br> Distance: 2.34940\",\"Text: Parker updated the script in a tempting of relevant raw facts or films, knowing that history was relevant at first reading. <br> Label: Con (augmented) <br> Distance: 0.57662\",\"Text: Choose a refreshing idea that I love the women of the first dress their friends chose to make Hagh. <br> Label: Con (augmented) <br> Distance: 5.32773\",\"Text: a certain body is an uncertain film, which, however, touches raw nerves. <br> Label: Con (augmented) <br> Distance: 1.02509\"],\"x\":[0.3981573873343126,1.0272185939081373,0.9303243858164977,0.9371506890444298,1.299382088654987,0.9644075189595828,0.9912455671599335,-0.19847726614028208,0.5172204156623555,0.8259864537017394,-0.7478006064136634,0.27123588518472996,0.9452298430892382,-0.9340533708803307,0.7321532765267674],\"y\":[-0.3884495762528635,-1.2692626652524062,-1.1535702393689589,-0.8204832931932154,-1.0785416199369777,-1.2037691150241967,-0.8441803346001663,0.199497931903074,-0.5047641128507129,-0.9930503759532541,0.7457940514191369,-0.27193991291145414,-1.1596805228676026,0.9540136003308651,-0.8574008431827084],\"type\":\"scatter\"},{\"hovertemplate\":\"%{text}\",\"marker\":{\"color\":\"blue\",\"opacity\":0.3,\"size\":60,\"symbol\":\"circle\"},\"mode\":\"markers\",\"name\":\"Con (Original)\",\"text\":[\"Text: an enchanting film that presents an audacious tour of the past and takes within its warm embrace the bounties of cultural artifacts inside st . petersburg's hermitage museum .  <br> Label: Con (original) <br> Distance: 0.58880\",\"Text: the film tries too hard to be funny and tries too hard to be hip . the end result is a film that's neither .  <br> Label: Con (original) <br> Distance: 0.44089\",\"Text: noyce films it more as a shocking history lesson than as drama .  <br> Label: Con (original) <br> Distance: 0.61301\",\"Text: a smart , provocative drama that does the nearly impossible : it gets under the skin of a man we only know as an evil , monstrous lunatic .  <br> Label: Con (original) <br> Distance: 0.18146\",\"Text: little more than a stylish exercise in revisionism whose point . . . is no doubt true , but serves as a rather thin moral to such a knowing fable .  <br> Label: Con (original) <br> Distance: 0.47244\",\"Text: it's not going to be everyone's bag of popcorn , but it definitely gives you something to chew on .  <br> Label: Con (original) <br> Distance: 0.62527\",\"Text: bloody sunday has the grace to call for prevention rather than to place blame , making it one of the best war movies ever made . it's a movie that accomplishes so much that one viewing can't possibly be enough .  <br> Label: Con (original) <br> Distance: 0.95844\",\"Text: the spark of special anime magic here is unmistakable and hard to resist .  <br> Label: Con (original) <br> Distance: 0.44470\",\"Text: this daring film challenges most widely held notions about religious conviction while providing a complex portrait of an identity crisis that's run amok and a good mind that's jumped the tracks .  <br> Label: Con (original) <br> Distance: 0.35163\",\"Text: it's not as awful as some of the recent hollywood trip tripe . . . but it's far from a groundbreaking endeavor .  <br> Label: Con (original) <br> Distance: 0.92287\",\"Text: if there was a flu shot for the blues , it might come in the form of this embraceable ode to loneliness and love regained .  <br> Label: Con (original) <br> Distance: 2.72739\",\"Text: this is a story that zings all the way through with originality , humour and pathos .  <br> Label: Con (original) <br> Distance: 2.34940\",\"Text: parker updates the setting in an attempt to make the film relevant today , without fully understanding what it was that made the story relevant in the first place .  <br> Label: Con (original) <br> Distance: 0.57662\",\"Text: so refreshingly incisive is grant that for the first time he'll probably appeal more to guys than to their girlfriends who drag them to this movie for the hugh factor .  <br> Label: Con (original) <br> Distance: 5.32773\",\"Text: some body is a shaky , uncertain film that nevertheless touches a few raw nerves .  <br> Label: Con (original) <br> Distance: 1.02509\"],\"x\":[0.640727422225845,1.273893388470238,1.2354872345831445,0.8833807833892572,1.2078113541587638,1.3105155537558275,1.1812044691642731,-0.02672085383086823,0.6632400305323588,1.3011615077512584,0.30538352898991555,1.2902723767831235,1.0909806635338228,1.2433621048646348,1.0699569075497029],\"y\":[-0.6015793143904345,-1.297790555511583,-1.0010457361534928,-0.7386189474042232,-1.3138109890400282,-1.1410768173497357,-1.3200076302680428,0.02771560762335184,-0.6308712429646267,-1.1922745598600677,-0.30793438032702647,-1.067725409162416,-0.8863514817115065,-0.9919328462445515,-1.2984642216639808],\"type\":\"scatter\"},{\"hovertemplate\":\"%{text}\",\"marker\":{\"color\":\"red\",\"opacity\":1,\"size\":20,\"symbol\":\"diamond\"},\"mode\":\"markers\",\"name\":\"Pro (Augmented)\",\"text\":[\"Text: Mary and Joe's beautiful surprise is what antiquity should present at a nice and amazing time. <br> Label: Pro (augmented) <br> Distance: 0.18209\",\"Text: A parent company sends an elite military unit, where Alice finds amnesia due to exposure to nerve gases. <br> Label: Pro (augmented) <br> Distance: 0.39215\",\"Text: And it happened, when life was reversed, that he lost. <br> Label: Pro (augmented) <br> Distance: 0.71785\",\"Text: Barry Egan (Adam Sandler) has a thirsty sister, whose abuse keeps him alone and unable to love. <br> Label: Pro (augmented) <br> Distance: 0.84360\",\"Text: De Niro presents Mitch, a poyet and laborious politician. <br> Label: Pro (augmented) <br> Distance: 5.26546\",\"Text: Pages are the only fracture of selected gray monotonia. <br> Label: Pro (augmented) <br> Distance: 1.12638\",\"Text: Rule: The first submarine nuclear missile is a documentary of the immediate naval battle after Wwii to develop and implement the launched submarine nuclear missile. <br> Label: Pro (augmented) <br> Distance: 0.47750\",\"Text: In 30 days and the end of Mortus. <br> Label: Pro (augmented) <br> Distance: 0.90265\",\"Text: Years isn't a boy, but he's just a man. <br> Label: Pro (augmented) <br> Distance: 3.46231\",\"Text: If based on Edgar Valdemar's account that Valdemar is not the master of comedy that the doctor converts convinced the family of all the dead in the trenches in the last breath. <br> Label: Pro (augmented) <br> Distance: 1.69398\",\"Text: Jungla Amazon strong selected to delegalize. <br> Label: Pro (augmented) <br> Distance: 3.95611\",\"Text: And the sexual revolution has progressed, and the pornographic subculture has progressed. <br> Label: Pro (augmented) <br> Distance: 0.54182\",\"Text: New York serves as a base for a group of characters looking for love, health or health, including a lady who shames the man who renews his espia de soya, a fraud, a slow artist and a sensitive phone. <br> Label: Pro (augmented) <br> Distance: 1.63041\",\"Text: The two van lutars died because they wouldn't report them. <br> Label: Pro (augmented) <br> Distance: 0.07592\",\"Text: The appearance of Jesus did not change abruptly and openly, dispersing the local ultra-conservative population. <br> Label: Pro (augmented) <br> Distance: 0.85206\"],\"x\":[0.6531105126104568,-1.143019264294874,-1.028548454327896,-0.9914774023518571,0.7762925467136153,-0.23326840379991992,-1.1858138903685649,-1.0437146421932926,0.6608630814283817,-1.229374983746337,0.17637107500500127,-1.1212993307489196,-0.5713507746420146,-1.0431413036838746,-0.9991948934972648],\"y\":[-0.6668994221365585,1.332319944450359,0.997731916337441,1.0818370112917473,-0.9397954102573763,0.23370988032310688,1.362607989834823,0.9827368386015762,-0.7412829505945281,1.3809047018433014,-0.17767697423505133,0.9914865961550959,0.5768373033654732,1.1845188802904856,0.9863698058607439],\"type\":\"scatter\"},{\"hovertemplate\":\"%{text}\",\"marker\":{\"color\":\"red\",\"opacity\":0.3,\"size\":60,\"symbol\":\"diamond\"},\"mode\":\"markers\",\"name\":\"Pro (Original)\",\"text\":[\"Text: chock full of ethnic flavor , whimsy , doubt , faith , joy and wonder , mary and joe is a delightful surprise , as the old story is brought into the present with startling freshness and power .  <br> Label: Pro (original) <br> Distance: 0.18209\",\"Text: the parent corporation sends in an elite military unit , where they meet alice , who is suffering from amnesia due to exposure to nerve gas .  <br> Label: Pro (original) <br> Distance: 0.39215\",\"Text: as fate would have it , they realize how close they all are from the other side ; of life , of love , and of losing it .  <br> Label: Pro (original) <br> Distance: 0.71785\",\"Text: barry egan ( adam sandler ) is a small business owner with seven sisters whose abuse has kept him alone and unable to fall in love .  <br> Label: Pro (original) <br> Distance: 0.84360\",\"Text: in this movie , de niro plays mitch preston , a hard-nosed , hardworking police detective .  <br> Label: Pro (original) <br> Distance: 5.26546\",\"Text: the plants are the only break in the grey monotony around her .  <br> Label: Pro (original) <br> Distance: 1.12638\",\"Text: regulus : the first nuclear missile submarine is a documentary about the navy's struggle , in the era immediately following wwii , to develop and deploy a submarine-launched nuclear missile .  <br> Label: Pro (original) <br> Distance: 0.47750\",\"Text: in order get loan sharks off his back , he must finish his novel in 30 days or wind up dead .  <br> Label: Pro (original) <br> Distance: 0.90265\",\"Text: for anni they are not enemies , but just men .  <br> Label: Pro (original) <br> Distance: 3.46231\",\"Text: based on the edgar allen poe short story , \\\" the facts in the case of m . valdemar , \\\" comedy revolves around a doctor who convinces a dying man's family to allow him to put the man in a trance as he takes his final breaths .  <br> Label: Pro (original) <br> Distance: 1.69398\",\"Text: the rock as a bounty hunter who attempts to square a debt by heading to the amazon jungle to capture someone .  <br> Label: Pro (original) <br> Distance: 3.95611\",\"Text: as the sexual revolution blossomed , and porn sub culture flourished john was the man .  <br> Label: Pro (original) <br> Distance: 0.54182\",\"Text: new york serves as a backdrop for a cast of characters in search of love , lust or lucre including a woman who makes awkward moves on the man renovating her soho loft , an embezzler , a sleazy artist and a phone psychic .  <br> Label: Pro (original) <br> Distance: 1.63041\",\"Text: both will fight to the death not to give it to each other .  <br> Label: Pro (original) <br> Distance: 0.07592\",\"Text: after having a divine vision and speaking with jesus , she suddenly changes her look and usual ways , disturbing the local , ultra conservative population .  <br> Label: Pro (original) <br> Distance: 0.85206\"],\"x\":[0.7468598259246981,-1.3580272532011903,-1.1642872200144867,-1.4016826934222846,-1.2775511430113349,-0.6692262167836449,-1.3927175929512963,-1.3249658076691215,-0.6339774566147318,-0.6578208661214934,-1.4001486836364203,-1.3668582252538948,0.056415380390143016,-1.0562548429195617,-1.4062405060968959],\"y\":[-0.7062224711030347,1.3806394331519105,1.3563683594003866,1.3081565965925743,1.076136768959062,0.667993197147742,1.200633637195374,1.381660173926743,0.6325783095809538,0.6612429434482047,1.3062028635995468,1.162349725855302,-0.05467514850558139,1.222843757815501,1.2262411695112456],\"type\":\"scatter\"}],                        {\"template\":{\"data\":{\"histogram2dcontour\":[{\"type\":\"histogram2dcontour\",\"colorbar\":{\"outlinewidth\":0,\"ticks\":\"\"},\"colorscale\":[[0.0,\"#0d0887\"],[0.1111111111111111,\"#46039f\"],[0.2222222222222222,\"#7201a8\"],[0.3333333333333333,\"#9c179e\"],[0.4444444444444444,\"#bd3786\"],[0.5555555555555556,\"#d8576b\"],[0.6666666666666666,\"#ed7953\"],[0.7777777777777778,\"#fb9f3a\"],[0.8888888888888888,\"#fdca26\"],[1.0,\"#f0f921\"]]}],\"choropleth\":[{\"type\":\"choropleth\",\"colorbar\":{\"outlinewidth\":0,\"ticks\":\"\"}}],\"histogram2d\":[{\"type\":\"histogram2d\",\"colorbar\":{\"outlinewidth\":0,\"ticks\":\"\"},\"colorscale\":[[0.0,\"#0d0887\"],[0.1111111111111111,\"#46039f\"],[0.2222222222222222,\"#7201a8\"],[0.3333333333333333,\"#9c179e\"],[0.4444444444444444,\"#bd3786\"],[0.5555555555555556,\"#d8576b\"],[0.6666666666666666,\"#ed7953\"],[0.7777777777777778,\"#fb9f3a\"],[0.8888888888888888,\"#fdca26\"],[1.0,\"#f0f921\"]]}],\"heatmap\":[{\"type\":\"heatmap\",\"colorbar\":{\"outlinewidth\":0,\"ticks\":\"\"},\"colorscale\":[[0.0,\"#0d0887\"],[0.1111111111111111,\"#46039f\"],[0.2222222222222222,\"#7201a8\"],[0.3333333333333333,\"#9c179e\"],[0.4444444444444444,\"#bd3786\"],[0.5555555555555556,\"#d8576b\"],[0.6666666666666666,\"#ed7953\"],[0.7777777777777778,\"#fb9f3a\"],[0.8888888888888888,\"#fdca26\"],[1.0,\"#f0f921\"]]}],\"heatmapgl\":[{\"type\":\"heatmapgl\",\"colorbar\":{\"outlinewidth\":0,\"ticks\":\"\"},\"colorscale\":[[0.0,\"#0d0887\"],[0.1111111111111111,\"#46039f\"],[0.2222222222222222,\"#7201a8\"],[0.3333333333333333,\"#9c179e\"],[0.4444444444444444,\"#bd3786\"],[0.5555555555555556,\"#d8576b\"],[0.6666666666666666,\"#ed7953\"],[0.7777777777777778,\"#fb9f3a\"],[0.8888888888888888,\"#fdca26\"],[1.0,\"#f0f921\"]]}],\"contourcarpet\":[{\"type\":\"contourcarpet\",\"colorbar\":{\"outlinewidth\":0,\"ticks\":\"\"}}],\"contour\":[{\"type\":\"contour\",\"colorbar\":{\"outlinewidth\":0,\"ticks\":\"\"},\"colorscale\":[[0.0,\"#0d0887\"],[0.1111111111111111,\"#46039f\"],[0.2222222222222222,\"#7201a8\"],[0.3333333333333333,\"#9c179e\"],[0.4444444444444444,\"#bd3786\"],[0.5555555555555556,\"#d8576b\"],[0.6666666666666666,\"#ed7953\"],[0.7777777777777778,\"#fb9f3a\"],[0.8888888888888888,\"#fdca26\"],[1.0,\"#f0f921\"]]}],\"surface\":[{\"type\":\"surface\",\"colorbar\":{\"outlinewidth\":0,\"ticks\":\"\"},\"colorscale\":[[0.0,\"#0d0887\"],[0.1111111111111111,\"#46039f\"],[0.2222222222222222,\"#7201a8\"],[0.3333333333333333,\"#9c179e\"],[0.4444444444444444,\"#bd3786\"],[0.5555555555555556,\"#d8576b\"],[0.6666666666666666,\"#ed7953\"],[0.7777777777777778,\"#fb9f3a\"],[0.8888888888888888,\"#fdca26\"],[1.0,\"#f0f921\"]]}],\"mesh3d\":[{\"type\":\"mesh3d\",\"colorbar\":{\"outlinewidth\":0,\"ticks\":\"\"}}],\"scatter\":[{\"fillpattern\":{\"fillmode\":\"overlay\",\"size\":10,\"solidity\":0.2},\"type\":\"scatter\"}],\"parcoords\":[{\"type\":\"parcoords\",\"line\":{\"colorbar\":{\"outlinewidth\":0,\"ticks\":\"\"}}}],\"scatterpolargl\":[{\"type\":\"scatterpolargl\",\"marker\":{\"colorbar\":{\"outlinewidth\":0,\"ticks\":\"\"}}}],\"bar\":[{\"error_x\":{\"color\":\"#2a3f5f\"},\"error_y\":{\"color\":\"#2a3f5f\"},\"marker\":{\"line\":{\"color\":\"#E5ECF6\",\"width\":0.5},\"pattern\":{\"fillmode\":\"overlay\",\"size\":10,\"solidity\":0.2}},\"type\":\"bar\"}],\"scattergeo\":[{\"type\":\"scattergeo\",\"marker\":{\"colorbar\":{\"outlinewidth\":0,\"ticks\":\"\"}}}],\"scatterpolar\":[{\"type\":\"scatterpolar\",\"marker\":{\"colorbar\":{\"outlinewidth\":0,\"ticks\":\"\"}}}],\"histogram\":[{\"marker\":{\"pattern\":{\"fillmode\":\"overlay\",\"size\":10,\"solidity\":0.2}},\"type\":\"histogram\"}],\"scattergl\":[{\"type\":\"scattergl\",\"marker\":{\"colorbar\":{\"outlinewidth\":0,\"ticks\":\"\"}}}],\"scatter3d\":[{\"type\":\"scatter3d\",\"line\":{\"colorbar\":{\"outlinewidth\":0,\"ticks\":\"\"}},\"marker\":{\"colorbar\":{\"outlinewidth\":0,\"ticks\":\"\"}}}],\"scattermapbox\":[{\"type\":\"scattermapbox\",\"marker\":{\"colorbar\":{\"outlinewidth\":0,\"ticks\":\"\"}}}],\"scatterternary\":[{\"type\":\"scatterternary\",\"marker\":{\"colorbar\":{\"outlinewidth\":0,\"ticks\":\"\"}}}],\"scattercarpet\":[{\"type\":\"scattercarpet\",\"marker\":{\"colorbar\":{\"outlinewidth\":0,\"ticks\":\"\"}}}],\"carpet\":[{\"aaxis\":{\"endlinecolor\":\"#2a3f5f\",\"gridcolor\":\"white\",\"linecolor\":\"white\",\"minorgridcolor\":\"white\",\"startlinecolor\":\"#2a3f5f\"},\"baxis\":{\"endlinecolor\":\"#2a3f5f\",\"gridcolor\":\"white\",\"linecolor\":\"white\",\"minorgridcolor\":\"white\",\"startlinecolor\":\"#2a3f5f\"},\"type\":\"carpet\"}],\"table\":[{\"cells\":{\"fill\":{\"color\":\"#EBF0F8\"},\"line\":{\"color\":\"white\"}},\"header\":{\"fill\":{\"color\":\"#C8D4E3\"},\"line\":{\"color\":\"white\"}},\"type\":\"table\"}],\"barpolar\":[{\"marker\":{\"line\":{\"color\":\"#E5ECF6\",\"width\":0.5},\"pattern\":{\"fillmode\":\"overlay\",\"size\":10,\"solidity\":0.2}},\"type\":\"barpolar\"}],\"pie\":[{\"automargin\":true,\"type\":\"pie\"}]},\"layout\":{\"autotypenumbers\":\"strict\",\"colorway\":[\"#636efa\",\"#EF553B\",\"#00cc96\",\"#ab63fa\",\"#FFA15A\",\"#19d3f3\",\"#FF6692\",\"#B6E880\",\"#FF97FF\",\"#FECB52\"],\"font\":{\"color\":\"#2a3f5f\"},\"hovermode\":\"closest\",\"hoverlabel\":{\"align\":\"left\"},\"paper_bgcolor\":\"white\",\"plot_bgcolor\":\"#E5ECF6\",\"polar\":{\"bgcolor\":\"#E5ECF6\",\"angularaxis\":{\"gridcolor\":\"white\",\"linecolor\":\"white\",\"ticks\":\"\"},\"radialaxis\":{\"gridcolor\":\"white\",\"linecolor\":\"white\",\"ticks\":\"\"}},\"ternary\":{\"bgcolor\":\"#E5ECF6\",\"aaxis\":{\"gridcolor\":\"white\",\"linecolor\":\"white\",\"ticks\":\"\"},\"baxis\":{\"gridcolor\":\"white\",\"linecolor\":\"white\",\"ticks\":\"\"},\"caxis\":{\"gridcolor\":\"white\",\"linecolor\":\"white\",\"ticks\":\"\"}},\"coloraxis\":{\"colorbar\":{\"outlinewidth\":0,\"ticks\":\"\"}},\"colorscale\":{\"sequential\":[[0.0,\"#0d0887\"],[0.1111111111111111,\"#46039f\"],[0.2222222222222222,\"#7201a8\"],[0.3333333333333333,\"#9c179e\"],[0.4444444444444444,\"#bd3786\"],[0.5555555555555556,\"#d8576b\"],[0.6666666666666666,\"#ed7953\"],[0.7777777777777778,\"#fb9f3a\"],[0.8888888888888888,\"#fdca26\"],[1.0,\"#f0f921\"]],\"sequentialminus\":[[0.0,\"#0d0887\"],[0.1111111111111111,\"#46039f\"],[0.2222222222222222,\"#7201a8\"],[0.3333333333333333,\"#9c179e\"],[0.4444444444444444,\"#bd3786\"],[0.5555555555555556,\"#d8576b\"],[0.6666666666666666,\"#ed7953\"],[0.7777777777777778,\"#fb9f3a\"],[0.8888888888888888,\"#fdca26\"],[1.0,\"#f0f921\"]],\"diverging\":[[0,\"#8e0152\"],[0.1,\"#c51b7d\"],[0.2,\"#de77ae\"],[0.3,\"#f1b6da\"],[0.4,\"#fde0ef\"],[0.5,\"#f7f7f7\"],[0.6,\"#e6f5d0\"],[0.7,\"#b8e186\"],[0.8,\"#7fbc41\"],[0.9,\"#4d9221\"],[1,\"#276419\"]]},\"xaxis\":{\"gridcolor\":\"white\",\"linecolor\":\"white\",\"ticks\":\"\",\"title\":{\"standoff\":15},\"zerolinecolor\":\"white\",\"automargin\":true,\"zerolinewidth\":2},\"yaxis\":{\"gridcolor\":\"white\",\"linecolor\":\"white\",\"ticks\":\"\",\"title\":{\"standoff\":15},\"zerolinecolor\":\"white\",\"automargin\":true,\"zerolinewidth\":2},\"scene\":{\"xaxis\":{\"backgroundcolor\":\"#E5ECF6\",\"gridcolor\":\"white\",\"linecolor\":\"white\",\"showbackground\":true,\"ticks\":\"\",\"zerolinecolor\":\"white\",\"gridwidth\":2},\"yaxis\":{\"backgroundcolor\":\"#E5ECF6\",\"gridcolor\":\"white\",\"linecolor\":\"white\",\"showbackground\":true,\"ticks\":\"\",\"zerolinecolor\":\"white\",\"gridwidth\":2},\"zaxis\":{\"backgroundcolor\":\"#E5ECF6\",\"gridcolor\":\"white\",\"linecolor\":\"white\",\"showbackground\":true,\"ticks\":\"\",\"zerolinecolor\":\"white\",\"gridwidth\":2}},\"shapedefaults\":{\"line\":{\"color\":\"#2a3f5f\"}},\"annotationdefaults\":{\"arrowcolor\":\"#2a3f5f\",\"arrowhead\":0,\"arrowwidth\":1},\"geo\":{\"bgcolor\":\"white\",\"landcolor\":\"#E5ECF6\",\"subunitcolor\":\"white\",\"showland\":true,\"showlakes\":true,\"lakecolor\":\"white\"},\"title\":{\"x\":0.05},\"mapbox\":{\"style\":\"light\"}}},\"font\":{\"family\":\"Courier New, monospace\",\"size\":50,\"color\":\"black\"},\"title\":{\"text\":\"total distance: 7.1306\"},\"showlegend\":true},                        {\"responsive\": true}                    ).then(function(){\n",
       "                            \n",
       "var gd = document.getElementById('a5924f0b-a3f6-4788-a889-d121ab406ceb');\n",
       "var x = new MutationObserver(function (mutations, observer) {{\n",
       "        var display = window.getComputedStyle(gd).display;\n",
       "        if (!display || display === 'none') {{\n",
       "            console.log([gd, 'removed!']);\n",
       "            Plotly.purge(gd);\n",
       "            observer.disconnect();\n",
       "        }}\n",
       "}});\n",
       "\n",
       "// Listen for the removal of the full notebook cells\n",
       "var notebookContainer = gd.closest('#notebook-container');\n",
       "if (notebookContainer) {{\n",
       "    x.observe(notebookContainer, {childList: true});\n",
       "}}\n",
       "\n",
       "// Listen for the clearing of the current output cell\n",
       "var outputEl = gd.closest('.output');\n",
       "if (outputEl) {{\n",
       "    x.observe(outputEl, {childList: true});\n",
       "}}\n",
       "\n",
       "                        })                };                });            </script>        </div>"
      ]
     },
     "metadata": {},
     "output_type": "display_data"
    }
   ],
   "source": [
    "datasets = ['pc','cr','subj']\n",
    "methods = ['eda','wordnet','aeda','backtranslation']\n",
    "for dataset in datasets:\n",
    "    for method in methods:\n",
    "        run(dataset,method)"
   ]
  },
  {
   "cell_type": "code",
   "execution_count": null,
   "metadata": {},
   "outputs": [],
   "source": []
  }
 ],
 "metadata": {
  "kernelspec": {
   "display_name": "test",
   "language": "python",
   "name": "python3"
  },
  "language_info": {
   "codemirror_mode": {
    "name": "ipython",
    "version": 3
   },
   "file_extension": ".py",
   "mimetype": "text/x-python",
   "name": "python",
   "nbconvert_exporter": "python",
   "pygments_lexer": "ipython3",
   "version": "3.8.13"
  },
  "orig_nbformat": 4,
  "vscode": {
   "interpreter": {
    "hash": "105d983fd7af724b4799aa016a3246070456ed2a0f153d4c18e29a0780e65f60"
   }
  }
 },
 "nbformat": 4,
 "nbformat_minor": 2
}
