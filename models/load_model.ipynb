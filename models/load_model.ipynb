{
 "cells": [
  {
   "cell_type": "code",
   "execution_count": 17,
   "metadata": {},
   "outputs": [],
   "source": [
    "from transformers import pipeline\n",
    "from transformers import AutoTokenizer,AutoModelForSequenceClassification\n",
    "import torch\n",
    "import torch.nn.functional as F\n",
    "import numpy as np\n"
   ]
  },
  {
   "cell_type": "code",
   "execution_count": null,
   "metadata": {},
   "outputs": [],
   "source": [
    "model_name = 'distilbert-base-uncased-finetuned-sst-2-english'\n",
    "model_name2 = 'autoevaluate/multi-class-classification'\n",
    "\n",
    "classifirer = pipeline('text-classification', model=model_name2)\n",
    "results = classifirer([\n",
    "    'Price, Good Picture Quality, Ease of use.',\n",
    "    'compact size',\n",
    "    'Cheap and great resolution for digital photography and graphics',\n",
    "    \"can't download ringtones\",\n",
    "    'Good. Light, affordable, just like the C80.'\n",
    "    \"Didn't we just buy 12 AA batteries last week????\"]\n",
    "    )\n",
    "print(results)"
   ]
  },
  {
   "cell_type": "code",
   "execution_count": null,
   "metadata": {},
   "outputs": [],
   "source": [
    "from transformers import DistilBertTokenizerFast\n",
    "tokenizer = DistilBertTokenizerFast.from_pretrained('distilbert-base-uncased')"
   ]
  },
  {
   "cell_type": "code",
   "execution_count": 32,
   "metadata": {},
   "outputs": [],
   "source": [
    "# Load dataset and split into train and test\n",
    "\n",
    "import pandas as pd\n",
    "from sklearn.model_selection import train_test_split\n",
    "\n",
    "df_train = pd.read_csv('../data/train/cr/train.txt', sep='|', header=None, names=['text'])\n",
    "df_test = pd.read_csv('../data/test/cr/test.txt', sep='|', header=None, names=['text'])\n",
    "df_train['class'] = df_train['text'].apply(lambda x: x.split('\\t')[0])\n",
    "df_train['text'] = df_train['text'].apply(lambda x: x.split('\\t')[1])\n",
    "df_test['class'] = df_test['text'].apply(lambda x: x.split('\\t')[0])\n",
    "df_test['text'] = df_test['text'].apply(lambda x: x.split('\\t')[1])\n",
    "df_train = df_train[['class', 'text']]\n",
    "df_test = df_test[['class', 'text']]\n",
    "\n",
    "X_test = df_test['text'].values.tolist()\n",
    "y_test = df_test['class'].values.tolist()\n",
    "\n",
    "\n",
    "X_train, X_val, y_train, y_val = train_test_split(df_train['text'], df_train['class'], test_size=0.2, random_state=42)\n",
    "X_train = X_train.values.tolist()\n",
    "y_train = y_train.values.tolist()\n",
    "X_val = X_val.values.tolist()\n",
    "y_val = y_val.values.tolist()\n"
   ]
  },
  {
   "cell_type": "code",
   "execution_count": 13,
   "metadata": {},
   "outputs": [],
   "source": [
    "# to do \n",
    "# https://huggingface.co/transformers/v3.2.0/custom_datasets.html\n",
    "# continue from here"
   ]
  },
  {
   "cell_type": "code",
   "execution_count": 33,
   "metadata": {},
   "outputs": [],
   "source": [
    "train_encodings = tokenizer(X_train, truncation=True, padding=True)\n",
    "val_encodings = tokenizer(X_val, truncation=True, padding=True)\n",
    "test_encodings = tokenizer(X_test, truncation=True, padding=True)"
   ]
  },
  {
   "cell_type": "code",
   "execution_count": 16,
   "metadata": {},
   "outputs": [
    {
     "data": {
      "text/html": [
       "<div>\n",
       "<style scoped>\n",
       "    .dataframe tbody tr th:only-of-type {\n",
       "        vertical-align: middle;\n",
       "    }\n",
       "\n",
       "    .dataframe tbody tr th {\n",
       "        vertical-align: top;\n",
       "    }\n",
       "\n",
       "    .dataframe thead th {\n",
       "        text-align: right;\n",
       "    }\n",
       "</style>\n",
       "<table border=\"1\" class=\"dataframe\">\n",
       "  <thead>\n",
       "    <tr style=\"text-align: right;\">\n",
       "      <th></th>\n",
       "      <th>class</th>\n",
       "      <th>text</th>\n",
       "    </tr>\n",
       "  </thead>\n",
       "  <tbody>\n",
       "    <tr>\n",
       "      <th>2033</th>\n",
       "      <td>1</td>\n",
       "      <td>It has one more resolution of 1024X768 and a \"...</td>\n",
       "    </tr>\n",
       "    <tr>\n",
       "      <th>616</th>\n",
       "      <td>0</td>\n",
       "      <td>the g3 had problems focusing in low light and ...</td>\n",
       "    </tr>\n",
       "    <tr>\n",
       "      <th>476</th>\n",
       "      <td>1</td>\n",
       "      <td>battery life , the drawback to most digital ca...</td>\n",
       "    </tr>\n",
       "    <tr>\n",
       "      <th>3680</th>\n",
       "      <td>1</td>\n",
       "      <td>I can go pretty far away from my router and st...</td>\n",
       "    </tr>\n",
       "    <tr>\n",
       "      <th>1112</th>\n",
       "      <td>1</td>\n",
       "      <td>Awesome for the newbie, though I personally li...</td>\n",
       "    </tr>\n",
       "    <tr>\n",
       "      <th>2874</th>\n",
       "      <td>1</td>\n",
       "      <td>My 2 XBoxs , Ipod , Iphone , Ipad are all cat...</td>\n",
       "    </tr>\n",
       "    <tr>\n",
       "      <th>3343</th>\n",
       "      <td>1</td>\n",
       "      <td>This device solves the problem nicely .</td>\n",
       "    </tr>\n",
       "    <tr>\n",
       "      <th>793</th>\n",
       "      <td>0</td>\n",
       "      <td>the dvd player just would't recognize them .</td>\n",
       "    </tr>\n",
       "    <tr>\n",
       "      <th>429</th>\n",
       "      <td>1</td>\n",
       "      <td>The ability to connect an external hard drive...</td>\n",
       "    </tr>\n",
       "    <tr>\n",
       "      <th>1857</th>\n",
       "      <td>0</td>\n",
       "      <td>After that , the router would never even resp...</td>\n",
       "    </tr>\n",
       "  </tbody>\n",
       "</table>\n",
       "</div>"
      ],
      "text/plain": [
       "     class                                               text\n",
       "2033     1  It has one more resolution of 1024X768 and a \"...\n",
       "616      0  the g3 had problems focusing in low light and ...\n",
       "476      1  battery life , the drawback to most digital ca...\n",
       "3680     1  I can go pretty far away from my router and st...\n",
       "1112     1  Awesome for the newbie, though I personally li...\n",
       "2874     1   My 2 XBoxs , Ipod , Iphone , Ipad are all cat...\n",
       "3343     1            This device solves the problem nicely .\n",
       "793      0      the dvd player just would't recognize them . \n",
       "429      1   The ability to connect an external hard drive...\n",
       "1857     0   After that , the router would never even resp..."
      ]
     },
     "execution_count": 16,
     "metadata": {},
     "output_type": "execute_result"
    }
   ],
   "source": [
    "df_train.sample(10,)"
   ]
  },
  {
   "cell_type": "code",
   "execution_count": null,
   "metadata": {},
   "outputs": [],
   "source": []
  }
 ],
 "metadata": {
  "kernelspec": {
   "display_name": "env_da_project",
   "language": "python",
   "name": "env_da_project"
  },
  "language_info": {
   "codemirror_mode": {
    "name": "ipython",
    "version": 3
   },
   "file_extension": ".py",
   "mimetype": "text/x-python",
   "name": "python",
   "nbconvert_exporter": "python",
   "pygments_lexer": "ipython3",
   "version": "3.8.10"
  },
  "orig_nbformat": 4
 },
 "nbformat": 4,
 "nbformat_minor": 2
}
